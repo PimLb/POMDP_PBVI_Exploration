{
 "cells": [
  {
   "cell_type": "code",
   "execution_count": 1,
   "metadata": {},
   "outputs": [],
   "source": [
    "import sys\n",
    "sys.path.append('..')\n",
    "from src.POMDP import *"
   ]
  },
  {
   "cell_type": "code",
   "execution_count": 2,
   "metadata": {},
   "outputs": [],
   "source": [
    "import numpy as np\n",
    "import random"
   ]
  },
  {
   "cell_type": "markdown",
   "metadata": {},
   "source": [
    "# POMDP Toy Problem\n",
    "\n",
    "Symmetric 3 state, 2 action model"
   ]
  },
  {
   "cell_type": "markdown",
   "metadata": {},
   "source": [
    "## Model definition"
   ]
  },
  {
   "cell_type": "code",
   "execution_count": 3,
   "metadata": {},
   "outputs": [],
   "source": [
    "LEFT = -1\n",
    "RIGHT = 1\n",
    "ACTIONS = [LEFT, RIGHT]\n",
    "ACTION_INDEX = {a:a_i for a_i, a in enumerate(ACTIONS)}\n",
    "ACTION_COUNT = len(ACTIONS)\n",
    "\n",
    "STATES = [0,1,2]\n",
    "STATE_COUNT = len(STATES)"
   ]
  },
  {
   "cell_type": "code",
   "execution_count": 4,
   "metadata": {},
   "outputs": [
    {
     "data": {
      "text/plain": [
       "array([[0.1, 0.1, 0.8],\n",
       "       [0.8, 0.1, 0.1],\n",
       "       [0.1, 0.8, 0.1]])"
      ]
     },
     "execution_count": 4,
     "metadata": {},
     "output_type": "execute_result"
    }
   ],
   "source": [
    "# 80% chance of success, 10% land in other tile, 10% stay in place\n",
    "MOVE_RND = 0.8\n",
    "def transition_function(s, a, s_p):\n",
    "    s_a = (s + a) % STATE_COUNT\n",
    "    s_a = s_a if s_a >= 0 else s_a + STATE_COUNT\n",
    "    \n",
    "    if s_a == s_p:\n",
    "        return MOVE_RND\n",
    "    else:\n",
    "        return round((1.0 - MOVE_RND) / (STATE_COUNT - 1), 1)\n",
    "\n",
    "# Setup tanle to speedup computation\n",
    "transition_table = np.zeros(shape=(STATE_COUNT, len(ACTIONS), STATE_COUNT))\n",
    "for s in STATES:\n",
    "    for a_i, a in enumerate(ACTIONS):\n",
    "        for s_p in STATES:\n",
    "            transition_table[s,a_i,s_p] = transition_function(s,a,s_p)\n",
    "\n",
    "# Randomized transition\n",
    "def transition(s,a):\n",
    "    a_i = ACTION_INDEX[a]\n",
    "    s_p_probs = [transition_table[s, a_i, s_p] for s_p in STATES]\n",
    "    return np.argmax(np.random.multinomial(n=1, pvals=s_p_probs))\n",
    "\n",
    "# Test with action 0, ie: LEFT\n",
    "transition_table[:,0,:]"
   ]
  },
  {
   "cell_type": "code",
   "execution_count": 5,
   "metadata": {},
   "outputs": [
    {
     "data": {
      "text/plain": [
       "array([[0.7 , 0.15, 0.15],\n",
       "       [0.15, 0.7 , 0.15],\n",
       "       [0.15, 0.15, 0.7 ]])"
      ]
     },
     "execution_count": 5,
     "metadata": {},
     "output_type": "execute_result"
    }
   ],
   "source": [
    "OBS_RND = 0.7 # 70% of observation success\n",
    "def observation_function(s, a, o):\n",
    "    a_i = ACTION_INDEX[a]\n",
    "    # summer = 0\n",
    "    # for s_p in STATES:\n",
    "    #     summer += transition_table[s,a_i,s_p] * (OBS_RND if s_p == o else (1.0 - OBS_RND) / (STATE_COUNT - 1))\n",
    "    # return summer\n",
    "    return OBS_RND if s == o else (1.0 - OBS_RND) / (STATE_COUNT - 1)\n",
    "\n",
    "observation_table = np.zeros((STATE_COUNT, ACTION_COUNT, STATE_COUNT))\n",
    "for s in STATES:\n",
    "    for a_i, a in enumerate(ACTIONS):\n",
    "        for o in STATES:\n",
    "            observation_table[s, a_i, o] = observation_function(s, a, o)\n",
    "\n",
    "# Random observation \n",
    "def observe(s):\n",
    "    return s if random.random() < OBS_RND else random.choice(list(set(STATES) - set([s])))\n",
    "\n",
    "# Taking action RIGHT\n",
    "observation_table[:,0,:]"
   ]
  },
  {
   "cell_type": "code",
   "execution_count": 6,
   "metadata": {},
   "outputs": [
    {
     "data": {
      "text/plain": [
       "array([[0.32, 0.53],\n",
       "       [0.25, 0.32],\n",
       "       [0.53, 0.25]])"
      ]
     },
     "execution_count": 6,
     "metadata": {},
     "output_type": "execute_result"
    }
   ],
   "source": [
    "REWARD_PROBS = [0.2, 0.6, 0.3]\n",
    "def reward(s):\n",
    "    return 1 if random.random() < REWARD_PROBS[s] else 0\n",
    "\n",
    "def reward_function(s, a):\n",
    "    tot = 0.0\n",
    "    for s_p in STATES:\n",
    "        a_i = ACTION_INDEX[a]\n",
    "        tot += (REWARD_PROBS[s_p] * transition_table[s,a_i,s_p])\n",
    "    return tot\n",
    "\n",
    "def immediate_rewards(a):\n",
    "    return [reward_function(s,a) for s in STATES]\n",
    "\n",
    "reward_table = np.zeros((STATE_COUNT, len(ACTIONS)))\n",
    "for s in STATES:\n",
    "    for a_i,a in enumerate(ACTIONS):\n",
    "        reward_table[s,a_i] = reward_function(s,a)\n",
    "        \n",
    "reward_table"
   ]
  },
  {
   "cell_type": "code",
   "execution_count": 7,
   "metadata": {},
   "outputs": [
    {
     "name": "stdout",
     "output_type": "stream",
     "text": [
      "R(0, LEFT) = 0.32\n",
      "R(1, LEFT) = 0.25\n",
      "R(2, LEFT) = 0.53\n",
      "R(0, RIGHT) = 0.53\n",
      "R(1, RIGHT) = 0.32\n",
      "R(2, RIGHT) = 0.25\n"
     ]
    }
   ],
   "source": [
    "for a in ACTIONS:\n",
    "    for s in STATES:\n",
    "        print(f'R({s}, {\"LEFT\" if a == LEFT else \"RIGHT\"}) = {reward_function(s,a)}')"
   ]
  },
  {
   "cell_type": "code",
   "execution_count": 9,
   "metadata": {},
   "outputs": [],
   "source": [
    "states = ['s0','s1','s2']\n",
    "actions = ['left', 'right']\n",
    "\n",
    "model = POMDPModel(states, actions, transition_table, reward_table, observation_table)"
   ]
  },
  {
   "cell_type": "markdown",
   "metadata": {},
   "source": [
    "## Solving"
   ]
  },
  {
   "cell_type": "code",
   "execution_count": null,
   "metadata": {},
   "outputs": [],
   "source": [
    "solver = PBVI(model)"
   ]
  },
  {
   "cell_type": "code",
   "execution_count": null,
   "metadata": {},
   "outputs": [],
   "source": [
    "value_function = solver.solve(8,4)"
   ]
  },
  {
   "cell_type": "code",
   "execution_count": null,
   "metadata": {},
   "outputs": [],
   "source": []
  }
 ],
 "metadata": {
  "kernelspec": {
   "display_name": "Python 3",
   "language": "python",
   "name": "python3"
  },
  "language_info": {
   "codemirror_mode": {
    "name": "ipython",
    "version": 3
   },
   "file_extension": ".py",
   "mimetype": "text/x-python",
   "name": "python",
   "nbconvert_exporter": "python",
   "pygments_lexer": "ipython3",
   "version": "3.11.4"
  },
  "orig_nbformat": 4
 },
 "nbformat": 4,
 "nbformat_minor": 2
}
