{
 "cells": [
  {
   "cell_type": "code",
   "execution_count": 1,
   "metadata": {},
   "outputs": [],
   "source": [
    "import sys\n",
    "sys.path.append('../..')\n",
    "from src.pomdp import *"
   ]
  },
  {
   "cell_type": "markdown",
   "metadata": {},
   "source": [
    "# Model"
   ]
  },
  {
   "cell_type": "code",
   "execution_count": 2,
   "metadata": {},
   "outputs": [],
   "source": [
    "### physical space, the origin is assumed to be the lower-left corner\n",
    "xboxsize = 45   # in\n",
    "yboxsize = 35\n",
    "Nx = 46  # dx =  1 in\n",
    "Ny = 36  \n",
    "\n",
    "# la griglia fisica e' il quadrante upper-right\n",
    "max_v_swim = 2. #in/s\n",
    "v_walk = 0.2 # in/s\n",
    "r = 2 # radius cm\n",
    "dx = xboxsize/(Nx-1)\n",
    "# dt = dx/v_walk\n",
    "dt = 0.5 # MODIFIED\n",
    "max_range = dt*max_v_swim\n",
    "nrange = int(max_v_swim/v_walk)\n",
    "\n",
    "### state space definition\n",
    "Mx = Nx * 2 -1\n",
    "My = Ny * 2 -1\n",
    "xmin, xmax, ymin, ymax = - xboxsize, xboxsize, -yboxsize, yboxsize\n",
    "xp = np.linspace(xmin,xmax,Mx,endpoint=True)  # state space coordinates\n",
    "yp = np.linspace(ymin,ymax,My,endpoint=True)\n",
    "X,Y = np.meshgrid(xp,yp)  # space state grid"
   ]
  },
  {
   "cell_type": "code",
   "execution_count": 3,
   "metadata": {},
   "outputs": [
    {
     "name": "stdout",
     "output_type": "stream",
     "text": [
      "Available actions: 4\n"
     ]
    }
   ],
   "source": [
    "# definition of swimming steps\n",
    "move = []\n",
    "for i in range(-nrange,nrange+1):\n",
    "    for j in range(-nrange,nrange+1):\n",
    "        if (i**2+j**2)*dx**2 == max_range**2: move.append((i,j)) # Only at max range\n",
    "        # if (i**2+j**2)*dx**2 <= max_range**2: move.append((i,j))\n",
    "\n",
    "print(f'Available actions: {len(move)}')\n",
    "# for m in move:\n",
    "#     print(m)"
   ]
  },
  {
   "cell_type": "code",
   "execution_count": 4,
   "metadata": {},
   "outputs": [],
   "source": [
    "### definition of likelihood, likelihood is defined in the state space\n",
    "# the likelihood will be defined on the grid state space\n",
    "likelihood_center = (0,0)\n",
    "def constant_disk(x,y,xs,ys,r):\n",
    "    d = np.sqrt((x-xs)**2+(y-ys)**2)\n",
    "    return np.heaviside(r-d,1)\n",
    "like = constant_disk(X,Y,likelihood_center[0],likelihood_center[1],r)\n",
    "env_shape = like.shape"
   ]
  },
  {
   "cell_type": "code",
   "execution_count": 5,
   "metadata": {},
   "outputs": [
    {
     "data": {
      "text/plain": [
       "<matplotlib.image.AxesImage at 0x1c76f516f10>"
      ]
     },
     "execution_count": 5,
     "metadata": {},
     "output_type": "execute_result"
    },
    {
     "data": {
      "image/png": "[encoded data removed]",
      "text/plain": [
       "<Figure size 640x480 with 1 Axes>"
      ]
     },
     "metadata": {},
     "output_type": "display_data"
    }
   ],
   "source": [
    "plt.imshow(like, cmap='Greys')"
   ]
  },
  {
   "cell_type": "code",
   "execution_count": 6,
   "metadata": {},
   "outputs": [],
   "source": [
    "### POMDP states definition\n",
    "state_grid = []  # this is a list of My lists of Mx strings (state labels) each\n",
    "# State labels\n",
    "for i in range(env_shape[0]): # My\n",
    "    i_states = []\n",
    "    for j in range(env_shape[1]): # Mx\n",
    "        i_states.append(f's_{i}_{j}') # s_yind_xind\n",
    "    state_grid.append(i_states)\n",
    "state_count = Mx * My"
   ]
  },
  {
   "cell_type": "code",
   "execution_count": 7,
   "metadata": {},
   "outputs": [],
   "source": [
    "reachable_states = np.full(shape=(state_count, len(move)), fill_value=-1)\n",
    "\n",
    "for x in range(env_shape[0]):\n",
    "    for y in range(env_shape[1]):\n",
    "        for a, m in enumerate(move):\n",
    "            pos = np.array([x,y])\n",
    "            m = np.array(m)\n",
    "\n",
    "            new_pos = pos + m\n",
    "\n",
    "            # Handle border for new pos\n",
    "            new_pos = new_pos % np.array(env_shape)\n",
    "            new_pos[0] = new_pos[0] + env_shape[0] if new_pos[0] < 0 else new_pos[0]\n",
    "            new_pos[1] = new_pos[1] + env_shape[1] if new_pos[1] < 0 else new_pos[1]\n",
    "\n",
    "            # Flatten pos\n",
    "            flat_pos = (env_shape[1] * pos[0]) + pos[1]\n",
    "            flat_new_pos = (env_shape[1] * new_pos[0]) + new_pos[1]\n",
    "            reachable_states[flat_pos, a] = flat_new_pos\n",
    "\n",
    "reachable_states = reachable_states[:,:,None]"
   ]
  },
  {
   "cell_type": "code",
   "execution_count": 8,
   "metadata": {},
   "outputs": [],
   "source": [
    "# Reward function\n",
    "def reward_func(s,a,sn,o):\n",
    "    return np.where(sn == (Mx*(My-1)/2 + (Mx-1)/2), 1.0, 0.0)"
   ]
  },
  {
   "cell_type": "code",
   "execution_count": 9,
   "metadata": {},
   "outputs": [],
   "source": [
    "# flatten mette di default tutte le righe una in fila all'altra shape = (shape[0]*shape[1],), [:,None] rende questo vettore riga un matrice con una colonna shape = (shape[0]*shape[1],1)\n",
    "observations = np.concatenate((like.flatten()[:,None], (1-like.flatten()[:,None])),axis=1)\n",
    "# shape is (like.shape[0]*like.shape[1],2)\n",
    "observations = observations.reshape(state_count,1,2).repeat(len(move), axis=1) #Repeat for each action\n",
    "# observation shape = (number of states,n actions, n observation values)"
   ]
  },
  {
   "cell_type": "code",
   "execution_count": 10,
   "metadata": {},
   "outputs": [
    {
     "name": "stdout",
     "output_type": "stream",
     "text": [
      "[04/11/2024, 15:44:30] Instantiation of MDP Model:\n",
      "[04/11/2024, 15:44:30] - 6461 states\n",
      "[04/11/2024, 15:44:30] - 4 actions\n",
      "[04/11/2024, 15:44:30] - At most 1 reachable states per state-action pair\n",
      "[04/11/2024, 15:44:30] - Starting generation of transitions table\n",
      "[04/11/2024, 15:44:30]     > [Warning] No transition matrix or function provided but reachable states are, so probability to reach any reachable states will \"1 / reachable state count\" so here: 1.000.\n",
      "[04/11/2024, 15:44:30]     > Done in 0.000s\n",
      "[04/11/2024, 15:44:30] - Generation of state grid\n",
      "[04/11/2024, 15:44:30] - Generating start probabilities table\n",
      "[04/11/2024, 15:44:30] - Starting computation of reachable state probabilities from transition data\n",
      "[04/11/2024, 15:44:30]     > Done in 0.000s\n",
      "\n",
      "[04/11/2024, 15:44:30] POMDP particular parameters:\n",
      "[04/11/2024, 15:44:30] - 2 observations\n",
      "[04/11/2024, 15:44:30] - Starting of transitional observations for reachable states table\n",
      "[04/11/2024, 15:44:30]     > Done in 0.001s\n",
      "[04/11/2024, 15:44:30] - [Warning] The rewards are provided as a function, if the model is saved, the rewards will need to be defined before loading model.\n",
      "[04/11/2024, 15:44:30]     > Alternative: Setting end states/actions and leaving the rewards can be done to make the end states/action giving a reward of 1 by default.\n",
      "[04/11/2024, 15:44:30] - Starting generation of expected rewards table\n",
      "[04/11/2024, 15:44:30]     > Done in 0.002s\n"
     ]
    }
   ],
   "source": [
    "model = Model(\n",
    "    states=state_grid,\n",
    "    actions=move,\n",
    "    observations=['something', 'nothing'],\n",
    "    reachable_states=reachable_states,\n",
    "    rewards=reward_func,\n",
    "    observation_table=observations,\n",
    "    end_states=[(Mx*(My-1)/2 + (Mx-1)/2)]\n",
    "    )"
   ]
  },
  {
   "cell_type": "markdown",
   "metadata": {},
   "source": [
    "# MDP solution"
   ]
  },
  {
   "cell_type": "code",
   "execution_count": 11,
   "metadata": {},
   "outputs": [
    {
     "data": {
      "application/vnd.jupyter.widget-view+json": {
       "model_id": "c55ec03e94f84f489db785b121133858",
       "version_major": 2,
       "version_minor": 0
      },
      "text/plain": [
       "  0%|          | 0/10000 [00:00<?, ?it/s]"
      ]
     },
     "metadata": {},
     "output_type": "display_data"
    }
   ],
   "source": [
    "from src.mdp import VI_Solver\n",
    "\n",
    "solver = VI_Solver(eps=1e-3)\n",
    "solution, history = solver.solve(model, use_gpu=False)"
   ]
  },
  {
   "cell_type": "code",
   "execution_count": 12,
   "metadata": {},
   "outputs": [
    {
     "name": "stdout",
     "output_type": "stream",
     "text": [
      "[Warning] 'as_grid' parameter set to False but state count is >3 so it will be plotted as a grid\n"
     ]
    },
    {
     "data": {
      "image/png": "[encoded data removed]",
      "text/plain": [
       "<Figure size 1000x500 with 3 Axes>"
      ]
     },
     "metadata": {},
     "output_type": "display_data"
    }
   ],
   "source": [
    "solution.plot()"
   ]
  },
  {
   "cell_type": "code",
   "execution_count": 13,
   "metadata": {},
   "outputs": [],
   "source": [
    "m_array = np.array(move)"
   ]
  },
  {
   "cell_type": "code",
   "execution_count": 14,
   "metadata": {},
   "outputs": [],
   "source": [
    "m_array_alt = m_array[:,0] + (m_array[:,1] * 1j)"
   ]
  },
  {
   "cell_type": "code",
   "execution_count": 15,
   "metadata": {},
   "outputs": [],
   "source": [
    "m_angles = np.angle(m_array_alt)"
   ]
  },
  {
   "cell_type": "code",
   "execution_count": 16,
   "metadata": {},
   "outputs": [],
   "source": [
    "angle_map = m_angles[solution.actions[np.argmax(solution.alpha_vector_array, axis=0)]].reshape(env_shape)"
   ]
  },
  {
   "cell_type": "code",
   "execution_count": 17,
   "metadata": {},
   "outputs": [
    {
     "data": {
      "text/plain": [
       "array([[-1,  0],\n",
       "       [ 0, -1],\n",
       "       [ 0,  1],\n",
       "       [ 1,  0]])"
      ]
     },
     "execution_count": 17,
     "metadata": {},
     "output_type": "execute_result"
    }
   ],
   "source": [
    "m_array"
   ]
  },
  {
   "cell_type": "code",
   "execution_count": 18,
   "metadata": {},
   "outputs": [
    {
     "data": {
      "text/plain": [
       "array([ 3.14159265, -1.57079633,  1.57079633,  0.        ])"
      ]
     },
     "execution_count": 18,
     "metadata": {},
     "output_type": "execute_result"
    }
   ],
   "source": [
    "m_angles"
   ]
  },
  {
   "cell_type": "code",
   "execution_count": 19,
   "metadata": {},
   "outputs": [
    {
     "data": {
      "text/plain": [
       "<matplotlib.colorbar.Colorbar at 0x1c7075b0710>"
      ]
     },
     "execution_count": 19,
     "metadata": {},
     "output_type": "execute_result"
    },
    {
     "data": {
      "image/png": "[encoded data removed]",
      "text/plain": [
       "<Figure size 640x480 with 2 Axes>"
      ]
     },
     "metadata": {},
     "output_type": "display_data"
    }
   ],
   "source": [
    "plt.imshow(angle_map, cmap='bwr')\n",
    "plt.colorbar()"
   ]
  },
  {
   "cell_type": "markdown",
   "metadata": {},
   "source": [
    "# Training"
   ]
  },
  {
   "cell_type": "code",
   "execution_count": 20,
   "metadata": {},
   "outputs": [
    {
     "data": {
      "application/vnd.jupyter.widget-view+json": {
       "model_id": "af26b52136fb45599f7a09833dd5c0ea",
       "version_major": 2,
       "version_minor": 0
      },
      "text/plain": [
       "Expansions:   0%|          | 0/200 [00:00<?, ?it/s]"
      ]
     },
     "metadata": {},
     "output_type": "display_data"
    },
    {
     "name": "stdout",
     "output_type": "stream",
     "text": [
      "Summary of Value Iteration run\n",
      "  - Model: 6461 state, 4 action, 2 observations\n",
      "  - Converged or stopped after 200 expansion steps and 200 backup steps.\n",
      "  - Resulting value function has 2403 alpha vectors.\n",
      "  - Converged in 251.7429s\n",
      "\n",
      "  - Expand function took on average 0.0192s and yielded on average 2385.58 beliefs per iteration. (0.0000s/it/belief)\n",
      "  - Backup function took on average 1.2395s and yielded on average 11.99 alpha vectors per iteration. (0.0012s/it/alpha)\n",
      "  - Pruning function took on average 0.0000s and yielded on average prunings of 0.00 alpha vectors per iteration.\n"
     ]
    }
   ],
   "source": [
    "fsvi_solver = FSVI_Solver(0.99, eps=1e-8, mdp_policy=solution)\n",
    "\n",
    "fsvi_solution, hist = fsvi_solver.solve(model=model,\n",
    "                                        max_belief_growth=100,\n",
    "                                        expansions=200,\n",
    "                                        print_progress=True,\n",
    "                                        # expand_prune_level=2,\n",
    "                                        use_gpu=False)\n",
    "                                    \n",
    "print(hist.summary)"
   ]
  },
  {
   "cell_type": "markdown",
   "metadata": {},
   "source": [
    "# Test"
   ]
  },
  {
   "cell_type": "code",
   "execution_count": 21,
   "metadata": {},
   "outputs": [],
   "source": [
    "a = Agent(model=model, value_function=fsvi_solution)"
   ]
  },
  {
   "cell_type": "code",
   "execution_count": 105,
   "metadata": {},
   "outputs": [
    {
     "data": {
      "text/plain": [
       "<matplotlib.legend.Legend at 0x1c7a4acb250>"
      ]
     },
     "execution_count": 105,
     "metadata": {},
     "output_type": "execute_result"
    },
    {
     "data": {
      "image/png": "[encoded data removed]",
      "text/plain": [
       "<Figure size 1500x1000 with 2 Axes>"
      ]
     },
     "metadata": {},
     "output_type": "display_data"
    }
   ],
   "source": [
    "tank_size = np.array([yboxsize, xboxsize])\n",
    "\n",
    "# PHYSICAL SPACE\n",
    "source_point = (np.random.random(2) * tank_size).astype(int)\n",
    "agent_start = (np.random.random(2) * tank_size).astype(int)\n",
    "\n",
    "fig, (ax0,ax1) = plt.subplots(ncols=2, figsize=(15,10))\n",
    "\n",
    "ax0.imshow(np.zeros(tank_size), cmap='Greys')\n",
    "ax0.scatter(source_point[1], source_point[0], c='red', label='Source')\n",
    "ax0.scatter(agent_start[1], agent_start[0], c='green', label='Agent')\n",
    "\n",
    "# STATE SPACE\n",
    "center_state = agent_start\n",
    "agent_start_state = center_state + (tank_size - source_point)\n",
    "\n",
    "belief = np.zeros(env_shape)\n",
    "belief[center_state[0]:center_state[0]+tank_size[0]+1, center_state[1]:center_state[1]+tank_size[1]+1] = 1\n",
    "belief /= np.sum(belief)\n",
    "\n",
    "ax1.imshow(np.zeros(env_shape), cmap='Greys')\n",
    "ax1.contour(belief, cmap='Greys')\n",
    "# ax1.invert_yaxis()\n",
    "ax1.scatter(agent_start_state[1], agent_start_state[0], c='green', label='Agent')\n",
    "ax1.scatter(tank_size[1], tank_size[0], c='red', label='Source')\n",
    "ax1.legend()"
   ]
  },
  {
   "cell_type": "code",
   "execution_count": 106,
   "metadata": {},
   "outputs": [
    {
     "data": {
      "application/vnd.jupyter.widget-view+json": {
       "model_id": "4b22c4fd58da464e87d4a8390be93686",
       "version_major": 2,
       "version_minor": 0
      },
      "text/plain": [
       "  0%|          | 0/1000 [00:00<?, ?it/s]"
      ]
     },
     "metadata": {},
     "output_type": "display_data"
    },
    {
     "name": "stdout",
     "output_type": "stream",
     "text": [
      "Simulation done:\n",
      "\t- Runtime (s): 3.410121\n",
      "\t- Steps: 325\n",
      "\t- Total rewards: 1.0\n",
      "\t- End state: s_35_45\n"
     ]
    }
   ],
   "source": [
    "agent_start_flat = (env_shape[1] * agent_start_state[0]) + agent_start_state[1]\n",
    "hist = a.simulate(start_state=agent_start_flat, initial_belief=Belief(model, belief.flatten()))"
   ]
  },
  {
   "cell_type": "code",
   "execution_count": 107,
   "metadata": {},
   "outputs": [
    {
     "data": {
      "text/plain": [
       "<matplotlib.legend.Legend at 0x1c7a448dc10>"
      ]
     },
     "execution_count": 107,
     "metadata": {},
     "output_type": "execute_result"
    },
    {
     "data": {
      "image/png": "[encoded data removed]",
      "text/plain": [
       "<Figure size 1000x1000 with 1 Axes>"
      ]
     },
     "metadata": {},
     "output_type": "display_data"
    }
   ],
   "source": [
    "fig, ax = plt.subplots(figsize=(10,10))\n",
    "\n",
    "# Initial clearing\n",
    "ax.clear()\n",
    "\n",
    "# Get cpu model\n",
    "model = hist.model.cpu_model\n",
    "\n",
    "# Plot setup\n",
    "env_shape = model.cpu_model.state_grid.shape\n",
    "ax.set_xlim(0, tank_size[1])\n",
    "ax.set_ylim(tank_size[0], 0)\n",
    "\n",
    "# Compute shift\n",
    "shift = (hist.grid_point_sequence[0] - agent_start)\n",
    "\n",
    "# Start\n",
    "start_coord = hist.grid_point_sequence[0] - shift\n",
    "ax.scatter(start_coord[1], start_coord[0], c='green', label='Start')\n",
    "\n",
    "# Goal\n",
    "goal_coord = source_point[None,:]\n",
    "ax.scatter(goal_coord[:,1], goal_coord[:,0], c='red', label='Goal')\n",
    "\n",
    "# Until step\n",
    "seq = np.array(hist.grid_point_sequence) - shift[None,:]\n",
    "\n",
    "# Path\n",
    "ax.plot(seq[:,1], seq[:,0], zorder=-1, c='black', label='Path')\n",
    "\n",
    "# Something sensed\n",
    "something_obs_id = model.observation_labels.index('something')\n",
    "obs_ts = np.where(np.array(hist.observations[:]) == something_obs_id)\n",
    "points_obs = seq[obs_ts[0],:]\n",
    "ax.scatter(points_obs[:,1], points_obs[:,0], zorder=1, label='Something observed')\n",
    "\n",
    "# Generate legend\n",
    "ax.legend()"
   ]
  },
  {
   "cell_type": "code",
   "execution_count": null,
   "metadata": {},
   "outputs": [],
   "source": []
  },
  {
   "cell_type": "code",
   "execution_count": null,
   "metadata": {},
   "outputs": [],
   "source": []
  },
  {
   "cell_type": "code",
   "execution_count": null,
   "metadata": {},
   "outputs": [],
   "source": []
  },
  {
   "cell_type": "code",
   "execution_count": 27,
   "metadata": {},
   "outputs": [
    {
     "data": {
      "application/vnd.jupyter.widget-view+json": {
       "model_id": "56803a4054ce421bb782ec29c2ca7833",
       "version_major": 2,
       "version_minor": 0
      },
      "text/plain": [
       "  0%|          | 0/10 [00:00<?, ?it/s]"
      ]
     },
     "metadata": {},
     "output_type": "display_data"
    },
    {
     "name": "stdout",
     "output_type": "stream",
     "text": [
      "All 10 simulations done:\n",
      "\t- Average runtime (s): 2.3657634\n",
      "\t- Simulations reached goal: 10/10 (0 failures)\n",
      "\t- Average step count: 237.0\n",
      "\t- Average total rewards: 1.0\n",
      "\t- Average discounted rewards (ADR): 0.0942476934556249\n"
     ]
    }
   ],
   "source": [
    "agent_start_flat = (env_shape[1] * agent_start[0]) + agent_start[1]\n",
    "hist = a.run_n_simulations(n=10, start_states=agent_start_flat, initial_beliefs=Belief(model, belief.flatten()))"
   ]
  },
  {
   "cell_type": "code",
   "execution_count": 34,
   "metadata": {},
   "outputs": [
    {
     "data": {
      "application/vnd.jupyter.widget-view+json": {
       "model_id": "591bc42facdb4c1282edaf2072196429",
       "version_major": 2,
       "version_minor": 0
      },
      "text/plain": [
       "  0%|          | 0/1000 [00:00<?, ?it/s]"
      ]
     },
     "metadata": {},
     "output_type": "display_data"
    },
    {
     "ename": "IndexError",
     "evalue": "arrays used as indices must be of integer (or boolean) type",
     "output_type": "error",
     "traceback": [
      "\u001b[1;31m---------------------------------------------------------------------------\u001b[0m",
      "\u001b[1;31mIndexError\u001b[0m                                Traceback (most recent call last)",
      "Cell \u001b[1;32mIn[34], line 2\u001b[0m\n\u001b[0;32m      1\u001b[0m agent_start_flat \u001b[38;5;241m=\u001b[39m (env_shape[\u001b[38;5;241m1\u001b[39m] \u001b[38;5;241m*\u001b[39m agent_start[\u001b[38;5;241m0\u001b[39m]) \u001b[38;5;241m+\u001b[39m agent_start[\u001b[38;5;241m1\u001b[39m]\n\u001b[1;32m----> 2\u001b[0m hist \u001b[38;5;241m=\u001b[39m \u001b[43ma\u001b[49m\u001b[38;5;241;43m.\u001b[39;49m\u001b[43mrun_n_simulations_parallel\u001b[49m\u001b[43m(\u001b[49m\u001b[43mn\u001b[49m\u001b[38;5;241;43m=\u001b[39;49m\u001b[38;5;241;43m10\u001b[39;49m\u001b[43m,\u001b[49m\u001b[43m \u001b[49m\u001b[43mstart_states\u001b[49m\u001b[38;5;241;43m=\u001b[39;49m\u001b[38;5;28;43mint\u001b[39;49m\u001b[43m(\u001b[49m\u001b[43magent_start_flat\u001b[49m\u001b[43m)\u001b[49m\u001b[43m,\u001b[49m\u001b[43m \u001b[49m\u001b[43minitial_beliefs\u001b[49m\u001b[38;5;241;43m=\u001b[39;49m\u001b[43mBelief\u001b[49m\u001b[43m(\u001b[49m\u001b[43mmodel\u001b[49m\u001b[43m,\u001b[49m\u001b[43m \u001b[49m\u001b[43mbelief\u001b[49m\u001b[38;5;241;43m.\u001b[39;49m\u001b[43mflatten\u001b[49m\u001b[43m(\u001b[49m\u001b[43m)\u001b[49m\u001b[43m)\u001b[49m\u001b[43m)\u001b[49m\n",
      "File \u001b[1;32mg:\\My Drive\\Documents\\Universita di Genova\\Classes\\2-2 - 90537 - Thesis\\POMDP_PBVI_Exploration\\Experiments\\Sea Robins\\../..\\src\\pomdp.py:3303\u001b[0m, in \u001b[0;36mAgent.run_n_simulations_parallel\u001b[1;34m(self, n, simulator_set, max_steps, start_states, initial_beliefs, reward_discount, print_progress, print_stats)\u001b[0m\n\u001b[0;32m   3300\u001b[0m reachable_state_per_actions \u001b[38;5;241m=\u001b[39m model\u001b[38;5;241m.\u001b[39mreachable_states[:, best_actions, :]\n\u001b[0;32m   3302\u001b[0m \u001b[38;5;66;03m# Run action in simulation\u001b[39;00m\n\u001b[1;32m-> 3303\u001b[0m rewards, observations \u001b[38;5;241m=\u001b[39m \u001b[43msimulator_set\u001b[49m\u001b[38;5;241;43m.\u001b[39;49m\u001b[43mrun_actions\u001b[49m\u001b[43m(\u001b[49m\u001b[43mbest_actions\u001b[49m\u001b[43m)\u001b[49m\n\u001b[0;32m   3305\u001b[0m \u001b[38;5;66;03m# Belief set update\u001b[39;00m\n\u001b[0;32m   3306\u001b[0m reachable_probabilities \u001b[38;5;241m=\u001b[39m (model\u001b[38;5;241m.\u001b[39mreachable_transitional_observation_table[:,best_actions,observations,:] \u001b[38;5;241m*\u001b[39m beliefs\u001b[38;5;241m.\u001b[39mT[:,:,\u001b[38;5;28;01mNone\u001b[39;00m])\n",
      "File \u001b[1;32mg:\\My Drive\\Documents\\Universita di Genova\\Classes\\2-2 - 90537 - Thesis\\POMDP_PBVI_Exploration\\Experiments\\Sea Robins\\../..\\src\\pomdp.py:2925\u001b[0m, in \u001b[0;36mSimulationSet.run_actions\u001b[1;34m(self, actions)\u001b[0m\n\u001b[0;32m   2922\u001b[0m reachable_state_per_actions \u001b[38;5;241m=\u001b[39m \u001b[38;5;28mself\u001b[39m\u001b[38;5;241m.\u001b[39mmodel\u001b[38;5;241m.\u001b[39mreachable_states[:, actions, :]\n\u001b[0;32m   2924\u001b[0m \u001b[38;5;66;03m# Gathering new states based on the transition function and the chosen actions\u001b[39;00m\n\u001b[1;32m-> 2925\u001b[0m next_state_potentials \u001b[38;5;241m=\u001b[39m \u001b[43mreachable_state_per_actions\u001b[49m\u001b[43m[\u001b[49m\u001b[38;5;28;43mself\u001b[39;49m\u001b[38;5;241;43m.\u001b[39;49m\u001b[43magent_states\u001b[49m\u001b[43m,\u001b[49m\u001b[43m \u001b[49m\u001b[43mxp\u001b[49m\u001b[38;5;241;43m.\u001b[39;49m\u001b[43marange\u001b[49m\u001b[43m(\u001b[49m\u001b[38;5;28;43mself\u001b[39;49m\u001b[38;5;241;43m.\u001b[39;49m\u001b[43mn\u001b[49m\u001b[43m)\u001b[49m\u001b[43m]\u001b[49m\n\u001b[0;32m   2926\u001b[0m \u001b[38;5;28;01mif\u001b[39;00m \u001b[38;5;28mself\u001b[39m\u001b[38;5;241m.\u001b[39mmodel\u001b[38;5;241m.\u001b[39mreachable_state_count \u001b[38;5;241m==\u001b[39m \u001b[38;5;241m1\u001b[39m:\n\u001b[0;32m   2927\u001b[0m     next_states \u001b[38;5;241m=\u001b[39m next_state_potentials[:,\u001b[38;5;241m0\u001b[39m]\n",
      "\u001b[1;31mIndexError\u001b[0m: arrays used as indices must be of integer (or boolean) type"
     ]
    }
   ],
   "source": [
    "agent_start_flat = (env_shape[1] * agent_start[0]) + agent_start[1]\n",
    "hist = a.run_n_simulations_parallel(n=10, start_states=int(agent_start_flat), initial_beliefs=Belief(model, belief.flatten()))"
   ]
  },
  {
   "cell_type": "code",
   "execution_count": 85,
   "metadata": {},
   "outputs": [
    {
     "data": {
      "text/plain": [
       "<matplotlib.image.AxesImage at 0x1c73e33b050>"
      ]
     },
     "execution_count": 85,
     "metadata": {},
     "output_type": "execute_result"
    },
    {
     "data": {
      "image/png": "[encoded data removed]",
      "text/plain": [
       "<Figure size 1000x1000 with 1 Axes>"
      ]
     },
     "metadata": {},
     "output_type": "display_data"
    }
   ],
   "source": [
    "fig, ax = plt.subplots(figsize=(10,10))\n",
    "plot_steps(hist, ax=ax)\n",
    "ax.imshow(belief, cmap='Blues', zorder=-10)\n"
   ]
  },
  {
   "cell_type": "code",
   "execution_count": 101,
   "metadata": {},
   "outputs": [
    {
     "name": "stdout",
     "output_type": "stream",
     "text": [
      "Folder \"./Sim Videos\" does not exist yet, creating it...\n",
      "Video saved at './Sim Videos/s6461-a4-20240411_151506.mp4'...\n"
     ]
    }
   ],
   "source": [
    "hist.save_simulation_video()"
   ]
  },
  {
   "cell_type": "code",
   "execution_count": null,
   "metadata": {},
   "outputs": [],
   "source": []
  },
  {
   "cell_type": "code",
   "execution_count": null,
   "metadata": {},
   "outputs": [],
   "source": []
  },
  {
   "cell_type": "code",
   "execution_count": 39,
   "metadata": {},
   "outputs": [],
   "source": [
    "start_positions = np.argwhere(model.start_probabilities > 0)[:,0].tolist()"
   ]
  },
  {
   "cell_type": "code",
   "execution_count": 42,
   "metadata": {},
   "outputs": [
    {
     "data": {
      "text/plain": [
       "6461"
      ]
     },
     "execution_count": 42,
     "metadata": {},
     "output_type": "execute_result"
    }
   ],
   "source": []
  },
  {
   "cell_type": "code",
   "execution_count": 43,
   "metadata": {},
   "outputs": [
    {
     "data": {
      "application/vnd.jupyter.widget-view+json": {
       "model_id": "76b3b304b45c4f12a1a238812c546b24",
       "version_major": 2,
       "version_minor": 0
      },
      "text/plain": [
       "  0%|          | 0/1000 [00:00<?, ?it/s]"
      ]
     },
     "metadata": {},
     "output_type": "display_data"
    },
    {
     "name": "stdout",
     "output_type": "stream",
     "text": [
      "All 6461 simulations done in 1460.500s:\n",
      "\t- Simulations reached goal: 4237/6461 (2224 failures)\n",
      "\t- Average step count: 647.1877418356291\n",
      "\t- Average total rewards: 0.6557808388794304\n",
      "\t- Average discounted rewards (ADR): 0.0725450244308042\n"
     ]
    }
   ],
   "source": [
    "_, hist = a.run_n_simulations_parallel(n=len(start_positions), start_state=start_positions)"
   ]
  },
  {
   "cell_type": "code",
   "execution_count": 44,
   "metadata": {},
   "outputs": [],
   "source": [
    "# Saving simulation\n",
    "import json\n",
    "\n",
    "all_seq = np.empty((len(hist), 1001), dtype=object)\n",
    "for sim_i, sim in enumerate(hist):\n",
    "    seq = []\n",
    "    for s, a, o, r in zip(sim.states, sim.actions+[], sim.observations+[], sim.rewards+[]):\n",
    "        seq.append(json.dumps({'s':s, 'a':a, 'o':o, 'r':r}))\n",
    "    \n",
    "    all_seq[sim_i, :len(seq)] = seq\n",
    "\n",
    "sim_df = pd.DataFrame(all_seq.T, columns=[f'Sim-{sim_i}' for sim_i in range(len(hist))])\n",
    "# sim_df.to_csv(f'./run-q_learning_comp-sims.csv')"
   ]
  },
  {
   "cell_type": "code",
   "execution_count": 24,
   "metadata": {},
   "outputs": [],
   "source": [
    "def plot_steps(sim_hist:SimulationHistory, until_step:int=-1, ax=None) -> None:\n",
    "    '''\n",
    "    Plots a special version of the simulation plot for olfactory navigation\n",
    "    \n",
    "    Parameters\n",
    "    ----------\n",
    "    sim_hist : SimulationHistory\n",
    "        The completed simulation history.\n",
    "    ax : optional\n",
    "        The ax the produce the plot on, if not a new one will be created.\n",
    "    '''\n",
    "    # Generate ax is not provided\n",
    "    if ax is None:\n",
    "        fig, ax = plt.subplots(figsize=(10,10))\n",
    "\n",
    "    # Initial clearing\n",
    "    ax.clear()\n",
    "\n",
    "    # Get cpu model\n",
    "    model = sim_hist.model.cpu_model\n",
    "\n",
    "    # Plot setup\n",
    "    env_shape = model.cpu_model.state_grid.shape\n",
    "    ax.set_xlim(0, env_shape[1])\n",
    "    ax.set_ylim(env_shape[0], 0)\n",
    "\n",
    "    # Start\n",
    "    start_coord = sim_hist.grid_point_sequence[0]\n",
    "    ax.scatter(start_coord[1], start_coord[0], c='green', label='Start')\n",
    "\n",
    "    # Goal\n",
    "    goal_coord = np.array([np.argwhere(model.state_grid == g)[0].tolist() for g in model.end_states])\n",
    "    ax.scatter(goal_coord[:,1], goal_coord[:,0], c='red', label='Goal')\n",
    "\n",
    "    # Until step\n",
    "    seq = np.array(sim_hist.grid_point_sequence)\n",
    "    if until_step < 0:\n",
    "        until_step = len(seq) - 1\n",
    "\n",
    "    # Path\n",
    "    ax.plot(seq[:until_step+1,1], seq[:until_step+1,0], zorder=-1, c='black', label='Path')\n",
    "\n",
    "    # Something sensed\n",
    "    something_obs_id = model.observation_labels.index('something')\n",
    "    obs_ts = np.where(np.array(sim_hist.observations[:until_step]) == something_obs_id)\n",
    "    points_obs = seq[obs_ts[0],:]\n",
    "    ax.scatter(points_obs[:,1], points_obs[:,0], zorder=1, label='Something observed')\n",
    "\n",
    "    # Points sniff\n",
    "    # sniff_air_action_id = -1\n",
    "    # for i, al in enumerate(model.action_labels):\n",
    "    #     if 'air' in al.lower():\n",
    "    #         sniff_air_action_id = i\n",
    "    # sniff_in_air = np.where(np.array(sim_hist.actions[:until_step]) == sniff_air_action_id)\n",
    "    # points_sniff = seq[sniff_in_air[0],:]\n",
    "    # if len(points_sniff) > 0:\n",
    "    #     ax.scatter(points_sniff[:,1], points_sniff[:,0], zorder=2, marker='x', label='Sniff in the air')\n",
    "\n",
    "    # Generate legend\n",
    "    ax.legend()"
   ]
  },
  {
   "cell_type": "code",
   "execution_count": 48,
   "metadata": {},
   "outputs": [
    {
     "ename": "AttributeError",
     "evalue": "'tuple' object has no attribute 'lower'",
     "output_type": "error",
     "traceback": [
      "\u001b[1;31m---------------------------------------------------------------------------\u001b[0m",
      "\u001b[1;31mAttributeError\u001b[0m                            Traceback (most recent call last)",
      "Cell \u001b[1;32mIn[48], line 1\u001b[0m\n\u001b[1;32m----> 1\u001b[0m \u001b[43mplot_steps\u001b[49m\u001b[43m(\u001b[49m\u001b[43mhist\u001b[49m\u001b[43m[\u001b[49m\u001b[38;5;241;43m1\u001b[39;49m\u001b[43m]\u001b[49m\u001b[43m)\u001b[49m\n",
      "Cell \u001b[1;32mIn[47], line 52\u001b[0m, in \u001b[0;36mplot_steps\u001b[1;34m(sim_hist, until_step, ax)\u001b[0m\n\u001b[0;32m     50\u001b[0m sniff_air_action_id \u001b[38;5;241m=\u001b[39m \u001b[38;5;241m-\u001b[39m\u001b[38;5;241m1\u001b[39m\n\u001b[0;32m     51\u001b[0m \u001b[38;5;28;01mfor\u001b[39;00m i, al \u001b[38;5;129;01min\u001b[39;00m \u001b[38;5;28menumerate\u001b[39m(model\u001b[38;5;241m.\u001b[39maction_labels):\n\u001b[1;32m---> 52\u001b[0m     \u001b[38;5;28;01mif\u001b[39;00m \u001b[38;5;124m'\u001b[39m\u001b[38;5;124mair\u001b[39m\u001b[38;5;124m'\u001b[39m \u001b[38;5;129;01min\u001b[39;00m \u001b[43mal\u001b[49m\u001b[38;5;241;43m.\u001b[39;49m\u001b[43mlower\u001b[49m():\n\u001b[0;32m     53\u001b[0m         sniff_air_action_id \u001b[38;5;241m=\u001b[39m i\n\u001b[0;32m     54\u001b[0m sniff_in_air \u001b[38;5;241m=\u001b[39m np\u001b[38;5;241m.\u001b[39mwhere(np\u001b[38;5;241m.\u001b[39marray(sim_hist\u001b[38;5;241m.\u001b[39mactions[:until_step]) \u001b[38;5;241m==\u001b[39m sniff_air_action_id)\n",
      "\u001b[1;31mAttributeError\u001b[0m: 'tuple' object has no attribute 'lower'"
     ]
    },
    {
     "data": {
      "image/png": "[encoded data removed]",
      "text/plain": [
       "<Figure size 1000x1000 with 1 Axes>"
      ]
     },
     "metadata": {},
     "output_type": "display_data"
    }
   ],
   "source": [
    "plot_steps(hist[1])"
   ]
  },
  {
   "cell_type": "code",
   "execution_count": null,
   "metadata": {},
   "outputs": [],
   "source": []
  }
 ],
 "metadata": {
  "kernelspec": {
   "display_name": "Python 3",
   "language": "python",
   "name": "python3"
  },
  "language_info": {
   "codemirror_mode": {
    "name": "ipython",
    "version": 3
   },
   "file_extension": ".py",
   "mimetype": "text/x-python",
   "name": "python",
   "nbconvert_exporter": "python",
   "pygments_lexer": "ipython3",
   "version": "3.11.4"
  }
 },
 "nbformat": 4,
 "nbformat_minor": 2
}
