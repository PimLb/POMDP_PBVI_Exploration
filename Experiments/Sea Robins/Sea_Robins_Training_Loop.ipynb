{
 "cells": [
  {
   "cell_type": "code",
   "execution_count": 45,
   "metadata": {},
   "outputs": [],
   "source": [
    "import sys\n",
    "sys.path.append('../..')\n",
    "from src.pomdp import *\n",
    "\n",
    "import numpy as np\n",
    "import matplotlib.pyplot as plt"
   ]
  },
  {
   "cell_type": "code",
   "execution_count": 14,
   "metadata": {},
   "outputs": [],
   "source": [
    "tank_size = [30,40]\n",
    "grid_size = [(s*2)+1 for s in tank_size]"
   ]
  },
  {
   "cell_type": "code",
   "execution_count": 15,
   "metadata": {},
   "outputs": [],
   "source": [
    "grid = np.zeros(grid_size)"
   ]
  },
  {
   "cell_type": "code",
   "execution_count": 51,
   "metadata": {},
   "outputs": [
    {
     "data": {
      "text/plain": [
       "<matplotlib.collections.PathCollection at 0x25e861fa150>"
      ]
     },
     "execution_count": 51,
     "metadata": {},
     "output_type": "execute_result"
    },
    {
     "data": {
      "image/png": "[encoded data removed]",
      "text/plain": [
       "<Figure size 640x480 with 1 Axes>"
      ]
     },
     "metadata": {},
     "output_type": "display_data"
    }
   ],
   "source": [
    "source_point = (np.random.random(2) * np.array(tank_size)).astype(int)\n",
    "\n",
    "belief = np.zeros(grid_size)\n",
    "belief[source_point[0]:source_point[0]+tank_size[0]+1, source_point[1]:source_point[1]+tank_size[1]+1] = 1\n",
    "belief /= np.sum(belief)\n",
    "\n",
    "plt.imshow(belief, cmap='Greys')\n",
    "plt.scatter(tank_size[1], tank_size[0], c='red')"
   ]
  },
  {
   "cell_type": "code",
   "execution_count": null,
   "metadata": {},
   "outputs": [],
   "source": [
    "model = None # Input this /!\\\n",
    "fsvi_solver = FSVI_Solver()\n",
    "\n",
    "# Set the initial value function (empty)\n",
    "vf = ValueFunction(model=model)\n",
    "\n",
    "\n",
    "for i in range(100):\n",
    "    # Generate a belief of the tank size\n",
    "    belief_array = np.zeros(grid_size)\n",
    "    belief_array[source_point[0]:source_point[0]+tank_size[0]+1, source_point[1]:source_point[1]+tank_size[1]+1] = 1\n",
    "    belief_array /= np.sum(belief_array)\n",
    "\n",
    "    belief_point = Belief(model=model, values=belief_array.ravel())\n",
    "\n",
    "    vf, _ = fsvi_solver.solve(\n",
    "                    model=model,\n",
    "                    expansions=5, # Experiment with different values\n",
    "                    max_belief_growth=100, # Should be around the optimal length to reach the source from any point (or a bit lower)\n",
    "                    initial_belief=belief_point,\n",
    "                    initial_value_function=vf\n",
    "        )"
   ]
  }
 ],
 "metadata": {
  "kernelspec": {
   "display_name": "Python 3",
   "language": "python",
   "name": "python3"
  },
  "language_info": {
   "codemirror_mode": {
    "name": "ipython",
    "version": 3
   },
   "file_extension": ".py",
   "mimetype": "text/x-python",
   "name": "python",
   "nbconvert_exporter": "python",
   "pygments_lexer": "ipython3",
   "version": "3.11.4"
  }
 },
 "nbformat": 4,
 "nbformat_minor": 2
}
