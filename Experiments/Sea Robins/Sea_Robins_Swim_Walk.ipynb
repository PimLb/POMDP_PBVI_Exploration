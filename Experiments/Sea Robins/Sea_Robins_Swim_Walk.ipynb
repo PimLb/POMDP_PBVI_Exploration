{
 "cells": [
  {
   "cell_type": "code",
   "execution_count": 1,
   "metadata": {},
   "outputs": [],
   "source": [
    "import sys\n",
    "sys.path.append('../..')\n",
    "from src.pomdp import *"
   ]
  },
  {
   "cell_type": "markdown",
   "metadata": {},
   "source": [
    "# Model"
   ]
  },
  {
   "cell_type": "code",
   "execution_count": null,
   "metadata": {},
   "outputs": [],
   "source": [
    "tank_size = np.array([142,111]) # actual size: 114cm x 89cm but it is scaled by a walking speed of 0.8 cm/s\n",
    "walking_speed = 1 # unit/s\n",
    "swimming_speed = 8 # unit/s\n",
    "\n",
    "env_shape = (tank_size * 2) + 1"
   ]
  },
  {
   "cell_type": "code",
   "execution_count": 29,
   "metadata": {},
   "outputs": [],
   "source": [
    "# Moves\n",
    "rad = 8.5\n",
    "center = np.array([0,0])\n",
    "moves = []\n",
    "\n",
    "for r in range(int(np.floor(rad * np.sqrt(0.5)))):\n",
    "    d = int(np.floor(np.sqrt(rad**2 - r**2)))\n",
    "    moves.append(center + np.array([-d,  r]))\n",
    "    moves.append(center + np.array([ d,  r]))\n",
    "    moves.append(center + np.array([-d, -r]))\n",
    "    moves.append(center + np.array([ d, -r]))\n",
    "    moves.append(center + np.array([ r, -d]))\n",
    "    moves.append(center + np.array([ r,  d]))\n",
    "    moves.append(center + np.array([-r, -d]))\n",
    "    moves.append(center + np.array([-r,  d]))\n",
    "\n",
    "u_moves = list({m.tobytes():m for m in moves}.values())"
   ]
  },
  {
   "cell_type": "code",
   "execution_count": 31,
   "metadata": {},
   "outputs": [
    {
     "data": {
      "text/plain": [
       "<matplotlib.collections.PathCollection at 0x1a39ada0610>"
      ]
     },
     "execution_count": 31,
     "metadata": {},
     "output_type": "execute_result"
    },
    {
     "data": {
      "image/png": "[encoded data removed]",
      "text/plain": [
       "<Figure size 640x480 with 1 Axes>"
      ]
     },
     "metadata": {},
     "output_type": "display_data"
    },
    {
     "ename": "",
     "evalue": "",
     "output_type": "error",
     "traceback": [
      "\u001b[1;31mThe Kernel crashed while executing code in the current cell or a previous cell. \n",
      "\u001b[1;31mPlease review the code in the cell(s) to identify a possible cause of the failure. \n",
      "\u001b[1;31mClick <a href='https://aka.ms/vscodeJupyterKernelCrash'>here</a> for more info. \n",
      "\u001b[1;31mView Jupyter <a href='command:jupyter.viewOutput'>log</a> for further details."
     ]
    }
   ],
   "source": [
    "# Swimming steps\n",
    "plt.scatter(np.array(u_moves)[:,0], np.array(u_moves)[:,1])"
   ]
  }
 ],
 "metadata": {
  "kernelspec": {
   "display_name": "Python 3",
   "language": "python",
   "name": "python3"
  },
  "language_info": {
   "codemirror_mode": {
    "name": "ipython",
    "version": 3
   },
   "file_extension": ".py",
   "mimetype": "text/x-python",
   "name": "python",
   "nbconvert_exporter": "python",
   "pygments_lexer": "ipython3",
   "version": "3.11.4"
  }
 },
 "nbformat": 4,
 "nbformat_minor": 2
}
