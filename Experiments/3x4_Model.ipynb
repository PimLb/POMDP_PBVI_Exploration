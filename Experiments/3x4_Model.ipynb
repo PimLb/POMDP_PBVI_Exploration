{
 "cells": [
  {
   "cell_type": "code",
   "execution_count": 12,
   "metadata": {},
   "outputs": [],
   "source": [
    "import sys\n",
    "sys.path.append('..')\n",
    "from src.pomdp import *"
   ]
  },
  {
   "cell_type": "code",
   "execution_count": 13,
   "metadata": {},
   "outputs": [],
   "source": [
    "model, solver = load_POMDP_file(file_name='./Example Models/4x3.95-no_loop_2.POMDP')"
   ]
  },
  {
   "cell_type": "code",
   "execution_count": 14,
   "metadata": {},
   "outputs": [],
   "source": [
    "model.convert_to_grid([\n",
    "    ['s0', 's1', 's2', 's3'],\n",
    "    ['s4', None, 's5', 's6'],\n",
    "    ['s7', 's8', 's9', 's10']\n",
    "    ])"
   ]
  },
  {
   "cell_type": "code",
   "execution_count": 16,
   "metadata": {},
   "outputs": [],
   "source": [
    "solver.eps = 10e-4"
   ]
  },
  {
   "cell_type": "code",
   "execution_count": 17,
   "metadata": {},
   "outputs": [
    {
     "name": "stderr",
     "output_type": "stream",
     "text": [
      "Backups 0: 100%|██████████| 10/10 [00:00<00:00, 217.13it/s]\n",
      "Backups 1: 100%|██████████| 10/10 [00:00<00:00, 138.93it/s]\n",
      "Backups 2: 100%|██████████| 10/10 [00:00<00:00, 86.96it/s]\n",
      "Backups 3: 100%|██████████| 10/10 [00:00<00:00, 52.63it/s]\n",
      "Backups 4: 100%|██████████| 10/10 [00:00<00:00, 25.11it/s]\n",
      "Backups 5: 100%|██████████| 10/10 [00:00<00:00, 11.10it/s]\n",
      "Backups 6: 100%|██████████| 10/10 [00:02<00:00,  4.38it/s]\n",
      "Backups 7:  70%|███████   | 7/10 [00:04<00:01,  1.53it/s]]\n",
      "Expansions:  70%|███████   | 7/10 [00:09<00:03,  1.33s/it]"
     ]
    },
    {
     "name": "stdout",
     "output_type": "stream",
     "text": [
      "Converged early...\n"
     ]
    },
    {
     "name": "stderr",
     "output_type": "stream",
     "text": [
      "\n"
     ]
    }
   ],
   "source": [
    "vf, history = solver.solve(model, 10,10)"
   ]
  },
  {
   "cell_type": "code",
   "execution_count": 18,
   "metadata": {},
   "outputs": [
    {
     "name": "stdout",
     "output_type": "stream",
     "text": [
      "Warning: as_grid parameter set to False but state count is >3 so it will be plotted as a grid\n"
     ]
    },
    {
     "data": {
      "image/png": "[encoded data removed]",
      "text/plain": [
       "<Figure size 1000x500 with 3 Axes>"
      ]
     },
     "metadata": {},
     "output_type": "display_data"
    }
   ],
   "source": [
    "vf.plot()"
   ]
  },
  {
   "cell_type": "code",
   "execution_count": 11,
   "metadata": {},
   "outputs": [
    {
     "data": {
      "text/plain": [
       "array([[-0.04 , -0.04 , -0.04 , -0.04 ],\n",
       "       [-0.04 , -0.04 , -0.04 , -0.04 ],\n",
       "       [ 0.064,  0.064,  0.792, -0.04 ],\n",
       "       [ 0.896, -0.704,  0.8  , -0.032],\n",
       "       [-0.04 , -0.04 , -0.04 , -0.04 ],\n",
       "       [-0.136, -0.136, -0.808, -0.04 ],\n",
       "       [ 0.696, -0.136, -0.704,  0.064],\n",
       "       [-0.04 , -0.04 , -0.04 , -0.04 ],\n",
       "       [-0.04 , -0.04 , -0.04 , -0.04 ],\n",
       "       [-0.04 , -0.04 , -0.04 , -0.04 ],\n",
       "       [-0.808, -0.04 , -0.136, -0.136]])"
      ]
     },
     "execution_count": 11,
     "metadata": {},
     "output_type": "execute_result"
    }
   ],
   "source": [
    "model.expected_rewards_table"
   ]
  },
  {
   "cell_type": "markdown",
   "metadata": {},
   "source": [
    "## Checking for better pruning"
   ]
  },
  {
   "cell_type": "code",
   "execution_count": 19,
   "metadata": {},
   "outputs": [
    {
     "data": {
      "text/plain": [
       "40"
      ]
     },
     "execution_count": 19,
     "metadata": {},
     "output_type": "execute_result"
    }
   ],
   "source": [
    "len(vf)"
   ]
  },
  {
   "cell_type": "code",
   "execution_count": 20,
   "metadata": {},
   "outputs": [],
   "source": [
    "pruned_vf = vf.prune(level=4)"
   ]
  },
  {
   "cell_type": "code",
   "execution_count": 21,
   "metadata": {},
   "outputs": [
    {
     "data": {
      "text/plain": [
       "40"
      ]
     },
     "execution_count": 21,
     "metadata": {},
     "output_type": "execute_result"
    }
   ],
   "source": [
    "len(pruned_vf)"
   ]
  },
  {
   "cell_type": "code",
   "execution_count": 22,
   "metadata": {},
   "outputs": [
    {
     "data": {
      "text/plain": [
       "[AlphaVector([ 14.00830653,  14.09909475,  14.62459271,  19.65230791,\n",
       "               14.20485092,  12.81727214, -19.65230791,  13.16897647,\n",
       "               12.40356986,  10.29428391,   7.90796289]),\n",
       " AlphaVector([ 13.26006265,  13.37893262,  14.36844246,  19.65230791,\n",
       "               13.2887099 ,  10.31653351, -19.65230791,  13.16840604,\n",
       "               11.6002621 ,  11.61761476, -14.00286814]),\n",
       " AlphaVector([ 15.19550332,  13.59398158,  14.36844246,  19.65230791,\n",
       "               15.19772874,   7.84675465, -19.65230791,  13.40882167,\n",
       "               11.0861692 ,  -8.14061613, -14.00286814]),\n",
       " AlphaVector([ 14.76258735,  15.57120087,  17.65424349,  19.65230791,\n",
       "               14.6280592 ,  13.22257539, -19.65230791,  13.77984145,\n",
       "               10.40970558,  10.11978586, -14.18617467]),\n",
       " AlphaVector([ 16.27247473,  17.49970396,  16.23640304,  19.65230791,\n",
       "               13.77624193, -13.2061591 , -19.65230791,   7.75152957,\n",
       "                7.34487103,   5.41080955,   4.75159022]),\n",
       " AlphaVector([ 13.91399296,  13.76106456,  12.81273822,  19.65230791,\n",
       "               13.45034239,  12.36720335, -19.65230791,  13.0746629 ,\n",
       "               12.86528768,  12.15082016,   7.97010292]),\n",
       " AlphaVector([  1.27727205,   1.25170054,   2.91020355,  19.65230791,\n",
       "                3.89799979,  -1.26261332, -19.65230791,  14.07912719,\n",
       "               12.29895237,   1.07186576, -13.949018  ]),\n",
       " AlphaVector([ 15.40083806,  15.64211761,  17.65424349,  19.65230791,\n",
       "               15.19539317,  10.87952773, -19.65230791,  13.3004876 ,\n",
       "                9.93035173,  -8.62459543, -14.18617467]),\n",
       " AlphaVector([ 14.14856295,  16.28868206,  18.6747624 ,  19.65230791,\n",
       "               13.08239632, -12.90994219, -19.65230791,  10.44909774,\n",
       "               11.10103335,   8.36212964,   4.88820618]),\n",
       " AlphaVector([ 15.9631122 ,  17.55226089,  18.71275152,  19.65230791,\n",
       "               13.32077734, -13.19301987, -19.65230791,   8.17130891,\n",
       "                7.39742797,   7.88058841,   4.75159022]),\n",
       " AlphaVector([ 13.27007675,  11.04381829,   3.26451808,  19.65230791,\n",
       "               13.32077734,  11.13905689, -19.65230791,  12.55249369,\n",
       "               12.26307355,  11.57037732,   8.06810371]),\n",
       " AlphaVector([ 14.33704272,  16.28868206,  18.60561884,  19.65230791,\n",
       "               13.32077734, -12.90994219, -19.65230791,  10.49899899,\n",
       "               11.10103335,   8.17154967,   4.75159022]),\n",
       " AlphaVector([ 14.11194113,  15.49890684,  17.65424349,  19.65230791,\n",
       "               14.049707  ,  13.43291287, -19.65230791,  13.85747953,\n",
       "               10.48734366,  11.80248573, -14.18617467]),\n",
       " AlphaVector([ 15.52216904,  16.6024617 ,  17.85433571,  19.65230791,\n",
       "               15.19770002,  11.00594986, -19.65230791,  12.96041842,\n",
       "                7.28598461,  -8.59002048, -14.208819  ]),\n",
       " AlphaVector([ 13.33604469,  15.41269613,  17.65424349,  19.65230791,\n",
       "               13.17139415,  13.46323357, -19.65230791,  13.07900598,\n",
       "               10.46337864,  12.06023089, -14.17099512]),\n",
       " AlphaVector([  2.49332235,   1.27727205,   1.00934525,  19.65230791,\n",
       "               12.20976888,   0.21164589, -19.65230791,  13.33017191,\n",
       "               13.13972678,  10.85250269,   6.99320168]),\n",
       " AlphaVector([ 16.26168399,  17.54956636,  16.19789825,  19.65230791,\n",
       "               13.79106976, -13.17655201, -19.65230791,   7.97148046,\n",
       "                7.58044847,   5.39134776,   4.75159022]),\n",
       " AlphaVector([ 15.5302642 ,  17.48343286,  18.78092809,  19.65230791,\n",
       "               13.08239632, -13.14910842, -19.65230791,   8.89279136,\n",
       "                7.94930145,   8.16759135,   4.88820618]),\n",
       " AlphaVector([ 15.77463243,  17.55226089,  18.78189509,  19.65230791,\n",
       "               13.08239632, -13.19301987, -19.65230791,   8.12140765,\n",
       "                7.39742797,   7.94973197,   4.75159022]),\n",
       " AlphaVector([ 11.57375886,  11.08420757,   9.47791288,  19.65230791,\n",
       "               13.08239632,  11.64181597, -19.65230791,  12.10338241,\n",
       "               12.01844975,  12.25613481,   8.0390762 ]),\n",
       " AlphaVector([ 13.7414563 ,  15.45774186,  17.65424349,  19.65230791,\n",
       "               13.53176002,  13.46127626, -19.65230791,  13.07197408,\n",
       "               10.45634674,  12.04457241, -14.17099512]),\n",
       " AlphaVector([ 14.65256306,  15.55897595,  17.65424349,  19.65230791,\n",
       "               14.53025983,  13.21509188, -19.65230791,  13.8125404 ,\n",
       "               10.44240453,  10.05991778, -14.18617467]),\n",
       " AlphaVector([ 13.82528424,  13.68221236,  12.81159811,  19.65230791,\n",
       "               13.44354921,  12.35808242, -19.65230791,  13.102233  ,\n",
       "               12.88979443,  12.14968004,   7.97010292]),\n",
       " AlphaVector([ 14.32809516,  16.42846869,  17.84844358,  19.65230791,\n",
       "               14.14094721,  13.52134014, -19.65230791,  13.45323547,\n",
       "                7.97028662,  11.56518056, -14.20463667]),\n",
       " AlphaVector([ 14.14856295,  16.28868206,  18.6747624 ,  19.65230791,\n",
       "               13.08239632, -12.90994219, -19.65230791,  10.44909774,\n",
       "               11.10103335,   8.24069323,   4.75159022]),\n",
       " AlphaVector([ 15.76413364,  17.54956636,  18.78188636,  19.65230791,\n",
       "               13.08239632, -13.17655201, -19.65230791,   8.32623878,\n",
       "                7.58044847,   8.09677227,   4.88820618]),\n",
       " AlphaVector([ 13.8549651 ,  16.37589868,  17.84844358,  19.65230791,\n",
       "               13.72038715,  13.54196755, -19.65230791,  13.52728961,\n",
       "                8.04434075,  11.73019986, -14.20463667]),\n",
       " AlphaVector([ 12.88300729,  10.51254755,   2.39668633,  19.65230791,\n",
       "               13.34386878,  11.31037459, -19.65230791,  13.14738607,\n",
       "               12.97725048,  12.23984377,   6.99320168]),\n",
       " AlphaVector([ 16.27207699,  17.49960479,  16.23640297,  19.65230791,\n",
       "               13.77723945, -13.20451598, -19.65230791,   7.86333466,\n",
       "                7.38571765,   5.42466005,   4.75159022]),\n",
       " AlphaVector([ 14.81424746,  17.23073837,  18.7717168 ,  19.65230791,\n",
       "               13.08239632, -13.16407724, -19.65230791,  10.93384291,\n",
       "                8.41350409,   8.42272279,   4.88820618]),\n",
       " AlphaVector([ 14.88263547,  16.54176412,  17.85571789,  19.65230791,\n",
       "               14.43943206,  13.30400167, -19.65230791,  12.67377851,\n",
       "                7.55814941,   9.76823145, -14.22529559]),\n",
       " AlphaVector([ 14.0232324 ,  15.48905032,  17.65424349,  19.65230791,\n",
       "               13.9708548 ,  13.43177276, -19.65230791,  13.86054287,\n",
       "               10.490407  ,  11.79336481, -14.18617467]),\n",
       " AlphaVector([ 15.9526134 ,  17.54956636,  18.71274279,  19.65230791,\n",
       "               13.32077734, -13.17655201, -19.65230791,   8.37614003,\n",
       "                7.58044847,   7.9061923 ,   4.75159022]),\n",
       " AlphaVector([ 12.88300729,  12.24798396,   9.46916628,  19.65230791,\n",
       "               13.34386878,  11.57184322, -19.65230791,  13.14738607,\n",
       "               12.94645301,  12.24738821,   8.0390762 ]),\n",
       " AlphaVector([ 13.91399296,  13.77695424,  12.8763645 ,  19.65230791,\n",
       "               13.45034239,  12.36733848, -19.65230791,  13.0746629 ,\n",
       "               12.86057297,  12.13202887,   7.97064344]),\n",
       " AlphaVector([ 11.77170702,  15.23888083,  17.65424349,  19.65230791,\n",
       "               11.78087177,  13.46351583, -19.65230791,  12.99505095,\n",
       "               10.3794236 ,  12.06248898, -14.17099512]),\n",
       " AlphaVector([ 11.89175514,  16.20944409,  17.85571789,  19.65230791,\n",
       "               11.78087177,  13.54494211, -19.65230791,  12.64349654,\n",
       "                7.52786744,  11.69575502, -14.22529559]),\n",
       " AlphaVector([ 16.27247473,  17.55226089,  16.24297266,  19.65230791,\n",
       "               13.77624193, -13.19301987, -19.65230791,   7.75152957,\n",
       "                7.39742797,   5.41080955,   4.75159022]),\n",
       " AlphaVector([ 13.91399296,  13.78050391,  12.89844653,  19.65230791,\n",
       "               13.45034239,  12.37281082, -19.65230791,  13.0746629 ,\n",
       "               12.85947768,  12.12523671,   7.95135546]),\n",
       " AlphaVector([ 13.55663182,  15.43720581,  17.65424349,  19.65230791,\n",
       "               13.55609873,  13.45287512, -19.65230791,  13.86486056,\n",
       "               10.49472469,  11.96218374, -14.18617467])]"
      ]
     },
     "execution_count": 22,
     "metadata": {},
     "output_type": "execute_result"
    }
   ],
   "source": [
    "vf"
   ]
  },
  {
   "cell_type": "code",
   "execution_count": null,
   "metadata": {},
   "outputs": [],
   "source": []
  },
  {
   "cell_type": "code",
   "execution_count": null,
   "metadata": {},
   "outputs": [],
   "source": []
  },
  {
   "cell_type": "markdown",
   "metadata": {},
   "source": [
    "## Agent simulation"
   ]
  },
  {
   "cell_type": "code",
   "execution_count": 23,
   "metadata": {},
   "outputs": [],
   "source": [
    "sim = Simulation(model=model, done_on_state=[3,6])"
   ]
  },
  {
   "cell_type": "code",
   "execution_count": 24,
   "metadata": {},
   "outputs": [],
   "source": [
    "a = Agent(model)"
   ]
  },
  {
   "cell_type": "code",
   "execution_count": 25,
   "metadata": {},
   "outputs": [],
   "source": [
    "a.value_function = vf"
   ]
  },
  {
   "cell_type": "code",
   "execution_count": 31,
   "metadata": {},
   "outputs": [],
   "source": [
    "rh = a.simulate(sim)"
   ]
  },
  {
   "cell_type": "code",
   "execution_count": 32,
   "metadata": {},
   "outputs": [
    {
     "data": {
      "text/plain": [
       "[{'belief': Belief([0.09090909, 0.09090909, 0.09090909, 0.09090909, 0.09090909,\n",
       "          0.09090909, 0.09090909, 0.09090909, 0.09090909, 0.09090909,\n",
       "          0.09090909]),\n",
       "  'state': 10,\n",
       "  'action': 3,\n",
       "  'next_state': 9,\n",
       "  'next_belief': Belief([0.    , 0.3125, 0.0625, 0.    , 0.    , 0.    , 0.    , 0.    ,\n",
       "          0.3125, 0.3125, 0.    ]),\n",
       "  'reward': -0.04,\n",
       "  'observation': 2},\n",
       " {'belief': Belief([0.    , 0.3125, 0.0625, 0.    , 0.    , 0.    , 0.    , 0.    ,\n",
       "          0.3125, 0.3125, 0.    ]),\n",
       "  'state': 9,\n",
       "  'action': 0,\n",
       "  'next_state': 5,\n",
       "  'next_belief': Belief([0.1, 0. , 0. , 0. , 0. , 0.8, 0. , 0.1, 0. , 0. , 0. ]),\n",
       "  'reward': -0.04,\n",
       "  'observation': 0},\n",
       " {'belief': Belief([0.1, 0. , 0. , 0. , 0. , 0.8, 0. , 0.1, 0. , 0. , 0. ]),\n",
       "  'state': 5,\n",
       "  'action': 0,\n",
       "  'next_state': 2,\n",
       "  'next_belief': Belief([0.        , 0.01515152, 0.96969697, 0.        , 0.        ,\n",
       "          0.        , 0.        , 0.        , 0.01515152, 0.        ,\n",
       "          0.        ]),\n",
       "  'reward': -0.04,\n",
       "  'observation': 2},\n",
       " {'belief': Belief([0.        , 0.01515152, 0.96969697, 0.        , 0.        ,\n",
       "          0.        , 0.        , 0.        , 0.01515152, 0.        ,\n",
       "          0.        ]),\n",
       "  'state': 2,\n",
       "  'action': 2,\n",
       "  'next_state': 2,\n",
       "  'next_belief': Belief([0.        , 0.02380952, 0.85714286, 0.        , 0.        ,\n",
       "          0.        , 0.        , 0.        , 0.02380952, 0.0952381 ,\n",
       "          0.        ]),\n",
       "  'reward': -0.04,\n",
       "  'observation': 2},\n",
       " {'belief': Belief([0.        , 0.02380952, 0.85714286, 0.        , 0.        ,\n",
       "          0.        , 0.        , 0.        , 0.02380952, 0.0952381 ,\n",
       "          0.        ]),\n",
       "  'state': 2,\n",
       "  'action': 2,\n",
       "  'next_state': 3,\n",
       "  'next_belief': Belief([0., 0., 0., 1., 0., 0., 0., 0., 0., 0., 0.]),\n",
       "  'reward': 1.0,\n",
       "  'observation': 4}]"
      ]
     },
     "execution_count": 32,
     "metadata": {},
     "output_type": "execute_result"
    }
   ],
   "source": [
    "rh"
   ]
  },
  {
   "cell_type": "code",
   "execution_count": 33,
   "metadata": {},
   "outputs": [
    {
     "name": "stdout",
     "output_type": "stream",
     "text": [
      "10 - 3\n",
      "9 - 0\n",
      "5 - 0\n",
      "2 - 2\n",
      "2 - 2\n"
     ]
    }
   ],
   "source": [
    "for step in rh:\n",
    "    print(f\"{step['state']} - {step['action']}\")"
   ]
  },
  {
   "cell_type": "code",
   "execution_count": 21,
   "metadata": {},
   "outputs": [
    {
     "name": "stdout",
     "output_type": "stream",
     "text": [
      "Warning: as_grid parameter set to False but state count is >3 so it will be plotted as a grid\n"
     ]
    },
    {
     "data": {
      "image/png": "[encoded data removed]",
      "text/plain": [
       "<Figure size 1000x500 with 3 Axes>"
      ]
     },
     "metadata": {},
     "output_type": "display_data"
    }
   ],
   "source": [
    "vf.plot()"
   ]
  },
  {
   "cell_type": "code",
   "execution_count": 43,
   "metadata": {},
   "outputs": [
    {
     "data": {
      "text/plain": [
       "array([[[1., 1., 1., 1., 1., 1.],\n",
       "        [1., 1., 1., 1., 1., 1.],\n",
       "        [1., 1., 1., 1., 1., 1.],\n",
       "        [1., 1., 1., 1., 1., 1.]],\n",
       "\n",
       "       [[1., 1., 1., 1., 1., 1.],\n",
       "        [1., 1., 1., 1., 1., 1.],\n",
       "        [1., 1., 1., 1., 1., 1.],\n",
       "        [1., 1., 1., 1., 1., 1.]],\n",
       "\n",
       "       [[1., 1., 1., 1., 1., 1.],\n",
       "        [1., 1., 1., 1., 1., 1.],\n",
       "        [1., 1., 1., 1., 1., 1.],\n",
       "        [1., 1., 1., 1., 1., 1.]],\n",
       "\n",
       "       [[1., 1., 1., 1., 1., 1.],\n",
       "        [1., 1., 1., 1., 1., 1.],\n",
       "        [1., 1., 1., 1., 1., 1.],\n",
       "        [1., 1., 1., 1., 1., 1.]],\n",
       "\n",
       "       [[1., 1., 1., 1., 1., 1.],\n",
       "        [1., 1., 1., 1., 1., 1.],\n",
       "        [1., 1., 1., 1., 1., 1.],\n",
       "        [1., 1., 1., 1., 1., 1.]],\n",
       "\n",
       "       [[1., 1., 1., 1., 1., 1.],\n",
       "        [1., 1., 1., 1., 1., 1.],\n",
       "        [1., 1., 1., 1., 1., 1.],\n",
       "        [1., 1., 1., 1., 1., 1.]],\n",
       "\n",
       "       [[1., 1., 1., 1., 1., 1.],\n",
       "        [1., 1., 1., 1., 1., 1.],\n",
       "        [1., 1., 1., 1., 1., 1.],\n",
       "        [1., 1., 1., 1., 1., 1.]],\n",
       "\n",
       "       [[1., 1., 1., 1., 1., 1.],\n",
       "        [1., 1., 1., 1., 1., 1.],\n",
       "        [1., 1., 1., 1., 1., 1.],\n",
       "        [1., 1., 1., 1., 1., 1.]],\n",
       "\n",
       "       [[1., 1., 1., 1., 1., 1.],\n",
       "        [1., 1., 1., 1., 1., 1.],\n",
       "        [1., 1., 1., 1., 1., 1.],\n",
       "        [1., 1., 1., 1., 1., 1.]],\n",
       "\n",
       "       [[1., 1., 1., 1., 1., 1.],\n",
       "        [1., 1., 1., 1., 1., 1.],\n",
       "        [1., 1., 1., 1., 1., 1.],\n",
       "        [1., 1., 1., 1., 1., 1.]],\n",
       "\n",
       "       [[1., 1., 1., 1., 1., 1.],\n",
       "        [1., 1., 1., 1., 1., 1.],\n",
       "        [1., 1., 1., 1., 1., 1.],\n",
       "        [1., 1., 1., 1., 1., 1.]]])"
      ]
     },
     "execution_count": 43,
     "metadata": {},
     "output_type": "execute_result"
    }
   ],
   "source": [
    "model.immediate_reward_table[:,:,3,:]"
   ]
  },
  {
   "cell_type": "code",
   "execution_count": 46,
   "metadata": {},
   "outputs": [
    {
     "name": "stdout",
     "output_type": "stream",
     "text": [
      "a 0 - sp 0 - inner_sum: -0.04 - T 0.111111\n",
      "a 0 - sp 1 - inner_sum: -0.04 - T 0.111111\n",
      "a 0 - sp 2 - inner_sum: -0.04 - T 0.111111\n",
      "a 0 - sp 3 - inner_sum: 1.0 - T 0.0\n",
      "a 0 - sp 4 - inner_sum: -0.04 - T 0.111111\n",
      "a 0 - sp 5 - inner_sum: -0.04 - T 0.111111\n",
      "a 0 - sp 6 - inner_sum: -1.0 - T 0.0\n",
      "a 0 - sp 7 - inner_sum: -0.04 - T 0.111112\n",
      "a 0 - sp 8 - inner_sum: -0.04 - T 0.111111\n",
      "a 0 - sp 9 - inner_sum: -0.04 - T 0.111111\n",
      "a 0 - sp 10 - inner_sum: -0.04 - T 0.111111\n",
      "a 1 - sp 0 - inner_sum: -0.04 - T 0.111111\n",
      "a 1 - sp 1 - inner_sum: -0.04 - T 0.111111\n",
      "a 1 - sp 2 - inner_sum: -0.04 - T 0.111111\n",
      "a 1 - sp 3 - inner_sum: 1.0 - T 0.0\n",
      "a 1 - sp 4 - inner_sum: -0.04 - T 0.111111\n",
      "a 1 - sp 5 - inner_sum: -0.04 - T 0.111111\n",
      "a 1 - sp 6 - inner_sum: -1.0 - T 0.0\n",
      "a 1 - sp 7 - inner_sum: -0.04 - T 0.111112\n",
      "a 1 - sp 8 - inner_sum: -0.04 - T 0.111111\n",
      "a 1 - sp 9 - inner_sum: -0.04 - T 0.111111\n",
      "a 1 - sp 10 - inner_sum: -0.04 - T 0.111111\n",
      "a 2 - sp 0 - inner_sum: -0.04 - T 0.111111\n",
      "a 2 - sp 1 - inner_sum: -0.04 - T 0.111111\n",
      "a 2 - sp 2 - inner_sum: -0.04 - T 0.111111\n",
      "a 2 - sp 3 - inner_sum: 1.0 - T 0.0\n",
      "a 2 - sp 4 - inner_sum: -0.04 - T 0.111111\n",
      "a 2 - sp 5 - inner_sum: -0.04 - T 0.111111\n",
      "a 2 - sp 6 - inner_sum: -1.0 - T 0.0\n",
      "a 2 - sp 7 - inner_sum: -0.04 - T 0.111112\n",
      "a 2 - sp 8 - inner_sum: -0.04 - T 0.111111\n",
      "a 2 - sp 9 - inner_sum: -0.04 - T 0.111111\n",
      "a 2 - sp 10 - inner_sum: -0.04 - T 0.111111\n",
      "a 3 - sp 0 - inner_sum: -0.04 - T 0.111111\n",
      "a 3 - sp 1 - inner_sum: -0.04 - T 0.111111\n",
      "a 3 - sp 2 - inner_sum: -0.04 - T 0.111111\n",
      "a 3 - sp 3 - inner_sum: 1.0 - T 0.0\n",
      "a 3 - sp 4 - inner_sum: -0.04 - T 0.111111\n",
      "a 3 - sp 5 - inner_sum: -0.04 - T 0.111111\n",
      "a 3 - sp 6 - inner_sum: -1.0 - T 0.0\n",
      "a 3 - sp 7 - inner_sum: -0.04 - T 0.111112\n",
      "a 3 - sp 8 - inner_sum: -0.04 - T 0.111111\n",
      "a 3 - sp 9 - inner_sum: -0.04 - T 0.111111\n",
      "a 3 - sp 10 - inner_sum: -0.04 - T 0.111111\n"
     ]
    }
   ],
   "source": [
    "for s in [3]:\n",
    "    for a in model.actions:\n",
    "        sum = 0\n",
    "        for s_p in model.states:\n",
    "            inner_sum = 0\n",
    "            for o in model.observations:\n",
    "                inner_sum += (model.observation_table[s_p,a,o] * model.immediate_reward_table[s,a,s_p,o])\n",
    "            sum += (model.transition_table[s,a,s_p] * inner_sum)\n",
    "            print(f'a {a} - sp {s_p} - inner_sum: {inner_sum} - T {model.transition_table[s,a,s_p]}')\n",
    "        # self.expected_rewards_table[s,a] = sum"
   ]
  },
  {
   "cell_type": "code",
   "execution_count": null,
   "metadata": {},
   "outputs": [],
   "source": []
  },
  {
   "cell_type": "code",
   "execution_count": null,
   "metadata": {},
   "outputs": [],
   "source": []
  },
  {
   "cell_type": "code",
   "execution_count": null,
   "metadata": {},
   "outputs": [],
   "source": []
  },
  {
   "cell_type": "code",
   "execution_count": null,
   "metadata": {},
   "outputs": [],
   "source": []
  },
  {
   "cell_type": "code",
   "execution_count": null,
   "metadata": {},
   "outputs": [],
   "source": []
  },
  {
   "cell_type": "code",
   "execution_count": 16,
   "metadata": {},
   "outputs": [
    {
     "data": {
      "text/plain": [
       "120.32"
      ]
     },
     "execution_count": 16,
     "metadata": {},
     "output_type": "execute_result"
    }
   ],
   "source": [
    "np.sum(rh)"
   ]
  },
  {
   "cell_type": "code",
   "execution_count": 17,
   "metadata": {},
   "outputs": [
    {
     "data": {
      "image/png": "[encoded data removed]",
      "text/plain": [
       "<Figure size 1000x500 with 1 Axes>"
      ]
     },
     "metadata": {},
     "output_type": "display_data"
    }
   ],
   "source": [
    "rh.plot('total')"
   ]
  },
  {
   "cell_type": "code",
   "execution_count": 18,
   "metadata": {},
   "outputs": [],
   "source": [
    "beliefs = np.eye(model.state_count)"
   ]
  },
  {
   "cell_type": "code",
   "execution_count": 21,
   "metadata": {},
   "outputs": [],
   "source": [
    "best_actions = []\n",
    "for s in range(model.state_count):\n",
    "    best_action = a.get_best_action(beliefs[s,:])\n",
    "    best_actions.append(best_action)"
   ]
  },
  {
   "cell_type": "code",
   "execution_count": 22,
   "metadata": {},
   "outputs": [
    {
     "data": {
      "text/plain": [
       "[2, 2, 2, 0, 0, 0, 0, 0, 2, 0, 3]"
      ]
     },
     "execution_count": 22,
     "metadata": {},
     "output_type": "execute_result"
    }
   ],
   "source": [
    "best_actions"
   ]
  },
  {
   "cell_type": "code",
   "execution_count": 23,
   "metadata": {},
   "outputs": [
    {
     "data": {
      "text/plain": [
       "['n', 's', 'e', 'w']"
      ]
     },
     "execution_count": 23,
     "metadata": {},
     "output_type": "execute_result"
    }
   ],
   "source": [
    "model.action_labels"
   ]
  },
  {
   "cell_type": "code",
   "execution_count": 24,
   "metadata": {},
   "outputs": [
    {
     "name": "stdout",
     "output_type": "stream",
     "text": [
      "State 0 - action e\n",
      "State 1 - action e\n",
      "State 2 - action e\n",
      "State 3 - action n\n",
      "State 4 - action n\n",
      "State 5 - action n\n",
      "State 6 - action n\n",
      "State 7 - action n\n",
      "State 8 - action e\n",
      "State 9 - action n\n",
      "State 10 - action w\n"
     ]
    }
   ],
   "source": [
    "for s in range(model.state_count):\n",
    "    action_label = model.action_labels[best_actions[s]]\n",
    "    print(f'State {s} - action {action_label}')"
   ]
  },
  {
   "cell_type": "code",
   "execution_count": null,
   "metadata": {},
   "outputs": [],
   "source": []
  }
 ],
 "metadata": {
  "kernelspec": {
   "display_name": "Python 3",
   "language": "python",
   "name": "python3"
  },
  "language_info": {
   "codemirror_mode": {
    "name": "ipython",
    "version": 3
   },
   "file_extension": ".py",
   "mimetype": "text/x-python",
   "name": "python",
   "nbconvert_exporter": "python",
   "pygments_lexer": "ipython3",
   "version": "3.11.4"
  },
  "orig_nbformat": 4
 },
 "nbformat": 4,
 "nbformat_minor": 2
}
