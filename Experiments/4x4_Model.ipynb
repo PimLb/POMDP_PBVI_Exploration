{
 "cells": [
  {
   "cell_type": "code",
   "execution_count": 1,
   "metadata": {},
   "outputs": [],
   "source": [
    "import sys\n",
    "sys.path.append('..')\n",
    "from src.pomdp import *"
   ]
  },
  {
   "cell_type": "markdown",
   "metadata": {},
   "source": [
    "## Model definition "
   ]
  },
  {
   "cell_type": "code",
   "execution_count": 2,
   "metadata": {},
   "outputs": [
    {
     "name": "stdout",
     "output_type": "stream",
     "text": [
      "[10/02/2023, 02:00:42] Instantiation of MDP Model:\n",
      "[10/02/2023, 02:00:42] - 16 states\n",
      "[10/02/2023, 02:00:42] - 4 actions\n",
      "[10/02/2023, 02:00:42] - Starting generation of transitions table\n",
      "[10/02/2023, 02:00:42]     > Done in 0.000s\n",
      "[10/02/2023, 02:00:42] - Generation of state grid\n",
      "[10/02/2023, 02:00:42] - Generating start probabilities table\n",
      "[10/02/2023, 02:00:42] - Starting computation of reachable states from transition data\n",
      "[10/02/2023, 02:00:42]     > Done in 0.000s\n",
      "[10/02/2023, 02:00:42] - At most 1 reachable states per state-action pair\n",
      "[10/02/2023, 02:00:42] - Starting computation of reachable state probabilities from transition data\n",
      "[10/02/2023, 02:00:42]     > Done in 0.000s\n",
      "[10/02/2023, 02:00:42] POMDP particular parameters:\n",
      "[10/02/2023, 02:00:42] - 2 observations\n",
      "[10/02/2023, 02:00:42] - Starting of transitional observations for reachable states table\n",
      "[10/02/2023, 02:00:42]     > Done in 0.000s\n",
      "[10/02/2023, 02:00:42] - Starting generation of expected rewards table\n",
      "[10/02/2023, 02:00:42]     > Done in 0.000s\n"
     ]
    }
   ],
   "source": [
    "model, solver = load_POMDP_file(file_name='./Example Models/4x4.95-no_loop.POMDP')"
   ]
  },
  {
   "cell_type": "code",
   "execution_count": 3,
   "metadata": {},
   "outputs": [],
   "source": [
    "model.state_grid = model.state_grid.reshape((4,4))"
   ]
  },
  {
   "cell_type": "code",
   "execution_count": 4,
   "metadata": {},
   "outputs": [],
   "source": [
    "model.end_states = [15]"
   ]
  },
  {
   "cell_type": "markdown",
   "metadata": {},
   "source": [
    "## Solving"
   ]
  },
  {
   "cell_type": "code",
   "execution_count": 5,
   "metadata": {},
   "outputs": [],
   "source": [
    "solver.eps = 10e-4"
   ]
  },
  {
   "cell_type": "code",
   "execution_count": 6,
   "metadata": {},
   "outputs": [
    {
     "data": {
      "application/vnd.jupyter.widget-view+json": {
       "model_id": "e8ca83b6fdb2442399ded2c7eaaa1c19",
       "version_major": 2,
       "version_minor": 0
      },
      "text/plain": [
       "Expansions:   0%|          | 0/10 [00:00<?, ?it/s]"
      ]
     },
     "metadata": {},
     "output_type": "display_data"
    },
    {
     "data": {
      "application/vnd.jupyter.widget-view+json": {
       "model_id": "dc3ec6cc1ee14f108b4708a2f239474c",
       "version_major": 2,
       "version_minor": 0
      },
      "text/plain": [
       "Backups 0:   0%|          | 0/10 [00:00<?, ?it/s]"
      ]
     },
     "metadata": {},
     "output_type": "display_data"
    },
    {
     "data": {
      "application/vnd.jupyter.widget-view+json": {
       "model_id": "2d28a1a9b868443f800eed0d7d7212c2",
       "version_major": 2,
       "version_minor": 0
      },
      "text/plain": [
       "Backups 1:   0%|          | 0/10 [00:00<?, ?it/s]"
      ]
     },
     "metadata": {},
     "output_type": "display_data"
    },
    {
     "data": {
      "application/vnd.jupyter.widget-view+json": {
       "model_id": "f1471b6200564ab9acddc96ec5894ca9",
       "version_major": 2,
       "version_minor": 0
      },
      "text/plain": [
       "Backups 2:   0%|          | 0/10 [00:00<?, ?it/s]"
      ]
     },
     "metadata": {},
     "output_type": "display_data"
    },
    {
     "data": {
      "application/vnd.jupyter.widget-view+json": {
       "model_id": "c7a8ad512c6c44cba3bad827a58098be",
       "version_major": 2,
       "version_minor": 0
      },
      "text/plain": [
       "Backups 3:   0%|          | 0/10 [00:00<?, ?it/s]"
      ]
     },
     "metadata": {},
     "output_type": "display_data"
    },
    {
     "data": {
      "application/vnd.jupyter.widget-view+json": {
       "model_id": "8ba1999479064af8a5546cc9c1d0d387",
       "version_major": 2,
       "version_minor": 0
      },
      "text/plain": [
       "Backups 4:   0%|          | 0/10 [00:00<?, ?it/s]"
      ]
     },
     "metadata": {},
     "output_type": "display_data"
    },
    {
     "data": {
      "application/vnd.jupyter.widget-view+json": {
       "model_id": "7e9c2a2259154f39aa2d176c277914ea",
       "version_major": 2,
       "version_minor": 0
      },
      "text/plain": [
       "Backups 5:   0%|          | 0/10 [00:00<?, ?it/s]"
      ]
     },
     "metadata": {},
     "output_type": "display_data"
    },
    {
     "data": {
      "application/vnd.jupyter.widget-view+json": {
       "model_id": "7e52b919c06546fdb15b2c6df7a06e6b",
       "version_major": 2,
       "version_minor": 0
      },
      "text/plain": [
       "Backups 6:   0%|          | 0/10 [00:00<?, ?it/s]"
      ]
     },
     "metadata": {},
     "output_type": "display_data"
    },
    {
     "data": {
      "application/vnd.jupyter.widget-view+json": {
       "model_id": "12a5087c97934d41b1ac815f2079b4fc",
       "version_major": 2,
       "version_minor": 0
      },
      "text/plain": [
       "Backups 7:   0%|          | 0/10 [00:00<?, ?it/s]"
      ]
     },
     "metadata": {},
     "output_type": "display_data"
    },
    {
     "name": "stdout",
     "output_type": "stream",
     "text": [
      "Converged early...\n"
     ]
    }
   ],
   "source": [
    "vf, history = solver.solve(model, 10,10)"
   ]
  },
  {
   "cell_type": "code",
   "execution_count": 7,
   "metadata": {},
   "outputs": [
    {
     "name": "stdout",
     "output_type": "stream",
     "text": [
      "[Warning] 'as_grid' parameter set to False but state count is >3 so it will be plotted as a grid\n"
     ]
    },
    {
     "data": {
      "image/png": "[encoded data removed]",
      "text/plain": [
       "<Figure size 1000x500 with 3 Axes>"
      ]
     },
     "metadata": {},
     "output_type": "display_data"
    }
   ],
   "source": [
    "vf.plot()"
   ]
  },
  {
   "cell_type": "markdown",
   "metadata": {},
   "source": [
    "## Simulation"
   ]
  },
  {
   "cell_type": "code",
   "execution_count": 8,
   "metadata": {},
   "outputs": [],
   "source": [
    "a = Agent(model)\n",
    "a.value_function = vf"
   ]
  },
  {
   "cell_type": "code",
   "execution_count": 9,
   "metadata": {},
   "outputs": [
    {
     "data": {
      "application/vnd.jupyter.widget-view+json": {
       "model_id": "9ea3363640d5487d8a5376880d54bd65",
       "version_major": 2,
       "version_minor": 0
      },
      "text/plain": [
       "  0%|          | 0/1000 [00:00<?, ?it/s]"
      ]
     },
     "metadata": {},
     "output_type": "display_data"
    },
    {
     "name": "stdout",
     "output_type": "stream",
     "text": [
      "Simulation done:\n",
      "\t- Runtime (s): 0.019859\n",
      "\t- Steps: 7\n",
      "\t- Total rewards: 1.0\n",
      "\t- End state: s15\n"
     ]
    }
   ],
   "source": [
    "sim_history = a.simulate(start_state=0)"
   ]
  },
  {
   "cell_type": "code",
   "execution_count": 10,
   "metadata": {},
   "outputs": [
    {
     "data": {
      "image/png": "[encoded data removed]",
      "text/plain": [
       "<Figure size 500x500 with 1 Axes>"
      ]
     },
     "metadata": {},
     "output_type": "display_data"
    }
   ],
   "source": [
    "sim_history.plot_simulation_steps()"
   ]
  },
  {
   "cell_type": "code",
   "execution_count": 11,
   "metadata": {},
   "outputs": [
    {
     "name": "stdout",
     "output_type": "stream",
     "text": [
      "Video saved at 'Sim Videos/s16-a4-20231002_020058.mp4'...\n"
     ]
    }
   ],
   "source": [
    "sim_history.save_simulation_video()"
   ]
  },
  {
   "cell_type": "code",
   "execution_count": null,
   "metadata": {},
   "outputs": [],
   "source": []
  }
 ],
 "metadata": {
  "kernelspec": {
   "display_name": "Python 3",
   "language": "python",
   "name": "python3"
  },
  "language_info": {
   "codemirror_mode": {
    "name": "ipython",
    "version": 3
   },
   "file_extension": ".py",
   "mimetype": "text/x-python",
   "name": "python",
   "nbconvert_exporter": "python",
   "pygments_lexer": "ipython3",
   "version": "3.11.4"
  },
  "orig_nbformat": 4
 },
 "nbformat": 4,
 "nbformat_minor": 2
}
