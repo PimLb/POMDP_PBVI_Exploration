{
 "cells": [
  {
   "cell_type": "code",
   "execution_count": 1,
   "metadata": {},
   "outputs": [],
   "source": [
    "import sys\n",
    "sys.path.append('..')\n",
    "from src.pomdp import *\n",
    "from src.mdp import VI_Solver\n",
    "\n",
    "import numpy as np"
   ]
  },
  {
   "cell_type": "markdown",
   "metadata": {},
   "source": [
    "# POMDP Toy Problem\n",
    "\n",
    "Asymmetric 2 state, 2 action model\n",
    "\n",
    "In this model, there is additional chance to stay in state 0 or move to it, like if there was an uphile slope from state 0 to state 1."
   ]
  },
  {
   "cell_type": "code",
   "execution_count": 2,
   "metadata": {},
   "outputs": [],
   "source": [
    "ACTION_COUNT = 2\n",
    "STATE_COUNT = 2"
   ]
  },
  {
   "cell_type": "code",
   "execution_count": 3,
   "metadata": {},
   "outputs": [
    {
     "data": {
      "text/plain": [
       "array([[0.9, 0.1],\n",
       "       [0.3, 0.7]])"
      ]
     },
     "execution_count": 3,
     "metadata": {},
     "output_type": "execute_result"
    }
   ],
   "source": [
    "# 80% chance of success, 10% land in other tile, 10% stay in place\n",
    "MOVE_RND = 0.8\n",
    "def transition_function(s, a, s_p):\n",
    "    s_a = (s + a) % STATE_COUNT\n",
    "    s_a = s_a if s_a >= 0 else s_a + STATE_COUNT\n",
    "    \n",
    "    if s_a == s_p:\n",
    "        return MOVE_RND\n",
    "    else:\n",
    "        return round((1.0 - MOVE_RND) / (STATE_COUNT - 1), 1)\n",
    "\n",
    "# Setup table to speedup computation\n",
    "transition_table = np.zeros(shape=(STATE_COUNT, ACTION_COUNT, STATE_COUNT))\n",
    "for s in range(STATE_COUNT):\n",
    "    for a in range(ACTION_COUNT):\n",
    "        for s_p in range(STATE_COUNT):\n",
    "            add = 0.1 if s_p == 0 else -0.1\n",
    "            transition_table[s,a,s_p] = transition_function(s,a,s_p) + add\n",
    "\n",
    "# Test with action 0, ie: stay\n",
    "transition_table[:,0,:]"
   ]
  },
  {
   "cell_type": "code",
   "execution_count": 4,
   "metadata": {},
   "outputs": [
    {
     "data": {
      "text/plain": [
       "array([[0.7, 0.3],\n",
       "       [0.3, 0.7]])"
      ]
     },
     "execution_count": 4,
     "metadata": {},
     "output_type": "execute_result"
    }
   ],
   "source": [
    "OBS_RND = 0.7 # 70% of observation success\n",
    "\n",
    "observation_table = np.zeros((STATE_COUNT, ACTION_COUNT, STATE_COUNT))\n",
    "for s_p in range(STATE_COUNT):\n",
    "    for a in range(ACTION_COUNT):\n",
    "        for o in range(STATE_COUNT):\n",
    "            observation_table[s_p, a, o] = OBS_RND if s_p == o else (1.0 - OBS_RND) / (STATE_COUNT - 1)\n",
    "          \n",
    "observation_table[:,0,:]"
   ]
  },
  {
   "cell_type": "code",
   "execution_count": 5,
   "metadata": {},
   "outputs": [
    {
     "data": {
      "text/plain": [
       "array([[[[0.2, 0.2],\n",
       "         [0.7, 0.7]],\n",
       "\n",
       "        [[0.2, 0.2],\n",
       "         [0.7, 0.7]]],\n",
       "\n",
       "\n",
       "       [[[0.2, 0.2],\n",
       "         [0.7, 0.7]],\n",
       "\n",
       "        [[0.2, 0.2],\n",
       "         [0.7, 0.7]]]])"
      ]
     },
     "execution_count": 5,
     "metadata": {},
     "output_type": "execute_result"
    }
   ],
   "source": [
    "REWARD_PROBS = [0.2, 0.7]\n",
    "\n",
    "reward_table = np.zeros((STATE_COUNT, ACTION_COUNT, STATE_COUNT, STATE_COUNT))\n",
    "for s in range(STATE_COUNT):\n",
    "    for a in range(ACTION_COUNT):\n",
    "        for s_p in range(STATE_COUNT):\n",
    "            reward_table[s,a,s_p,:] = REWARD_PROBS[s_p]\n",
    "        \n",
    "reward_table"
   ]
  },
  {
   "cell_type": "code",
   "execution_count": 6,
   "metadata": {},
   "outputs": [
    {
     "name": "stdout",
     "output_type": "stream",
     "text": [
      "[10/14/2023, 00:27:19] Instantiation of MDP Model:\n",
      "[10/14/2023, 00:27:19] - 2 states\n",
      "[10/14/2023, 00:27:19] - 2 actions\n",
      "[10/14/2023, 00:27:19] - Starting generation of transitions table\n",
      "[10/14/2023, 00:27:19]     > Done in 0.001s\n",
      "[10/14/2023, 00:27:19] - Generation of state grid\n",
      "[10/14/2023, 00:27:19] - Generating start probabilities table\n",
      "[10/14/2023, 00:27:19] - Starting computation of reachable states from transition data\n",
      "[10/14/2023, 00:27:19]     > Done in 0.000s\n",
      "[10/14/2023, 00:27:19] - At most 2 reachable states per state-action pair\n",
      "[10/14/2023, 00:27:19] - Starting computation of reachable state probabilities from transition data\n",
      "[10/14/2023, 00:27:19]     > Done in 0.000s\n",
      "[10/14/2023, 00:27:19] POMDP particular parameters:\n",
      "[10/14/2023, 00:27:19] - 2 observations\n",
      "[10/14/2023, 00:27:19] - Starting of transitional observations for reachable states table\n",
      "[10/14/2023, 00:27:19]     > Done in 0.000s\n",
      "[10/14/2023, 00:27:19] - Starting generation of expected rewards table\n",
      "[10/14/2023, 00:27:19]     > Done in 0.000s\n"
     ]
    }
   ],
   "source": [
    "states = ['s0','s1']\n",
    "actions = ['stay', 'move']\n",
    "observations = ['s0', 's1']\n",
    "\n",
    "model = Model(states=states,\n",
    "              actions=actions,\n",
    "              observations=observations,\n",
    "              transitions=transition_table,\n",
    "              rewards=reward_table,\n",
    "              observation_table=observation_table,\n",
    "              rewards_are_probabilistic=True)"
   ]
  },
  {
   "cell_type": "markdown",
   "metadata": {},
   "source": [
    "## Solving"
   ]
  },
  {
   "cell_type": "code",
   "execution_count": 7,
   "metadata": {},
   "outputs": [],
   "source": [
    "solver = PBVI_Solver(eps=1e-6)"
   ]
  },
  {
   "cell_type": "code",
   "execution_count": 8,
   "metadata": {},
   "outputs": [
    {
     "data": {
      "application/vnd.jupyter.widget-view+json": {
       "model_id": "917fed25ac5149e4b31da4de769f5380",
       "version_major": 2,
       "version_minor": 0
      },
      "text/plain": [
       "Expansions:   0%|          | 0/9 [00:00<?, ?it/s]"
      ]
     },
     "metadata": {},
     "output_type": "display_data"
    },
    {
     "data": {
      "application/vnd.jupyter.widget-view+json": {
       "model_id": "d0b5fac459444419a0781e3216128339",
       "version_major": 2,
       "version_minor": 0
      },
      "text/plain": [
       "Backups 0:   0%|          | 0/10 [00:00<?, ?it/s]"
      ]
     },
     "metadata": {},
     "output_type": "display_data"
    },
    {
     "data": {
      "application/vnd.jupyter.widget-view+json": {
       "model_id": "4012ea21f89b4c39b66dc3fecb83da38",
       "version_major": 2,
       "version_minor": 0
      },
      "text/plain": [
       "Backups 1:   0%|          | 0/10 [00:00<?, ?it/s]"
      ]
     },
     "metadata": {},
     "output_type": "display_data"
    },
    {
     "data": {
      "application/vnd.jupyter.widget-view+json": {
       "model_id": "44151a7bedf04441964b77576e309a7d",
       "version_major": 2,
       "version_minor": 0
      },
      "text/plain": [
       "Backups 2:   0%|          | 0/10 [00:00<?, ?it/s]"
      ]
     },
     "metadata": {},
     "output_type": "display_data"
    },
    {
     "data": {
      "application/vnd.jupyter.widget-view+json": {
       "model_id": "376aea691e264e3dbcb74a5200f46826",
       "version_major": 2,
       "version_minor": 0
      },
      "text/plain": [
       "Backups 3:   0%|          | 0/10 [00:00<?, ?it/s]"
      ]
     },
     "metadata": {},
     "output_type": "display_data"
    },
    {
     "data": {
      "application/vnd.jupyter.widget-view+json": {
       "model_id": "f8a61a2bb76d4029b6bd82a0685fe61d",
       "version_major": 2,
       "version_minor": 0
      },
      "text/plain": [
       "Backups 4:   0%|          | 0/10 [00:00<?, ?it/s]"
      ]
     },
     "metadata": {},
     "output_type": "display_data"
    },
    {
     "data": {
      "application/vnd.jupyter.widget-view+json": {
       "model_id": "eef86c5f0a2c4c0d9df07ea43cf9d13a",
       "version_major": 2,
       "version_minor": 0
      },
      "text/plain": [
       "Backups 5:   0%|          | 0/10 [00:00<?, ?it/s]"
      ]
     },
     "metadata": {},
     "output_type": "display_data"
    },
    {
     "data": {
      "application/vnd.jupyter.widget-view+json": {
       "model_id": "7215b0666fcb4a65b3aea3ccfe8b2e0f",
       "version_major": 2,
       "version_minor": 0
      },
      "text/plain": [
       "Backups 6:   0%|          | 0/10 [00:00<?, ?it/s]"
      ]
     },
     "metadata": {},
     "output_type": "display_data"
    },
    {
     "data": {
      "application/vnd.jupyter.widget-view+json": {
       "model_id": "5c5b68b7a2b34be9ad82aab9418a156b",
       "version_major": 2,
       "version_minor": 0
      },
      "text/plain": [
       "Backups 7:   0%|          | 0/10 [00:00<?, ?it/s]"
      ]
     },
     "metadata": {},
     "output_type": "display_data"
    },
    {
     "data": {
      "application/vnd.jupyter.widget-view+json": {
       "model_id": "b4b2aeb1a35047bf86935bb65692a543",
       "version_major": 2,
       "version_minor": 0
      },
      "text/plain": [
       "Backups 8:   0%|          | 0/10 [00:00<?, ?it/s]"
      ]
     },
     "metadata": {},
     "output_type": "display_data"
    }
   ],
   "source": [
    "value_function, solve_history = solver.solve(model,9,10, prune_level=2)"
   ]
  },
  {
   "cell_type": "code",
   "execution_count": 9,
   "metadata": {},
   "outputs": [
    {
     "data": {
      "text/plain": [
       "<Figure size 700x500 with 0 Axes>"
      ]
     },
     "metadata": {},
     "output_type": "display_data"
    },
    {
     "data": {
      "image/png": "[encoded data removed]",
      "text/plain": [
       "<Figure size 640x480 with 1 Axes>"
      ]
     },
     "metadata": {},
     "output_type": "display_data"
    }
   ],
   "source": [
    "value_function.plot()"
   ]
  },
  {
   "cell_type": "code",
   "execution_count": null,
   "metadata": {},
   "outputs": [],
   "source": []
  }
 ],
 "metadata": {
  "kernelspec": {
   "display_name": "Python 3",
   "language": "python",
   "name": "python3"
  },
  "language_info": {
   "codemirror_mode": {
    "name": "ipython",
    "version": 3
   },
   "file_extension": ".py",
   "mimetype": "text/x-python",
   "name": "python",
   "nbconvert_exporter": "python",
   "pygments_lexer": "ipython3",
   "version": "3.11.4"
  },
  "orig_nbformat": 4
 },
 "nbformat": 4,
 "nbformat_minor": 2
}
