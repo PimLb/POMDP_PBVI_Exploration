{
 "cells": [
  {
   "cell_type": "code",
   "execution_count": 1,
   "metadata": {},
   "outputs": [],
   "source": [
    "import sys\n",
    "sys.path.append('../..')\n",
    "from src.pomdp import *\n",
    "\n",
    "import pandas as pd\n",
    "import numpy as np\n",
    "import cupy as cp\n",
    "import cv2"
   ]
  },
  {
   "cell_type": "code",
   "execution_count": 2,
   "metadata": {},
   "outputs": [],
   "source": [
    "from cupy.cuda import runtime as cuda_runtime\n",
    "cuda_runtime.setDevice(0)"
   ]
  },
  {
   "cell_type": "markdown",
   "metadata": {},
   "source": [
    "# Model definition"
   ]
  },
  {
   "cell_type": "code",
   "execution_count": 3,
   "metadata": {},
   "outputs": [
    {
     "name": "stdout",
     "output_type": "stream",
     "text": [
      "Environment shape: [61, 361]\n",
      "State count: 22021\n"
     ]
    }
   ],
   "source": [
    "env_x = [-2,10]\n",
    "env_y = [-1,1]\n",
    "points_per_unit = 30\n",
    "\n",
    "width = ((env_x[1] - env_x[0]) * points_per_unit) + 1\n",
    "height = ((env_y[1] - env_y[0]) * points_per_unit) + 1\n",
    "\n",
    "env_shape = [height, width]\n",
    "state_count = width * height\n",
    "print(f'Environment shape: {env_shape}')\n",
    "print(f'State count: {state_count}')"
   ]
  },
  {
   "cell_type": "code",
   "execution_count": 4,
   "metadata": {},
   "outputs": [],
   "source": [
    "# Data loading\n",
    "ground_data = pd.read_csv('./Data/statistics_abs_ground_3e6.dat', sep=' ', skiprows=[0], names=list(range(320)), index_col=False).to_numpy().T\n",
    "\n",
    "ground_data = cv2.resize(ground_data, dsize=((4 * points_per_unit) + 1, points_per_unit + 1))\n",
    "\n",
    "ground_data_padded = np.zeros(env_shape)\n",
    "ground_data_padded[15:46, 60:181] = ground_data\n",
    "\n",
    "ground_data = ground_data_padded"
   ]
  },
  {
   "cell_type": "code",
   "execution_count": 5,
   "metadata": {},
   "outputs": [
    {
     "name": "stdout",
     "output_type": "stream",
     "text": [
      "Goal state: 10890\n"
     ]
    }
   ],
   "source": [
    "# goal state\n",
    "goal_state_coords = [30,60]\n",
    "goal_state = (goal_state_coords[0] * env_shape[1]) + goal_state_coords[1]\n",
    "\n",
    "print(f'Goal state: {goal_state}')"
   ]
  },
  {
   "cell_type": "code",
   "execution_count": 6,
   "metadata": {},
   "outputs": [
    {
     "data": {
      "text/plain": [
       "<matplotlib.collections.PathCollection at 0x7f02f2dab8d0>"
      ]
     },
     "execution_count": 6,
     "metadata": {},
     "output_type": "execute_result"
    },
    {
     "data": {
      "image/png": "[encoded data removed]",
      "text/plain": [
       "<Figure size 1000x2000 with 1 Axes>"
      ]
     },
     "metadata": {},
     "output_type": "display_data"
    }
   ],
   "source": [
    "plt.figure(figsize=(10,20))\n",
    "plt.imshow(ground_data)\n",
    "plt.scatter(goal_state_coords[1], goal_state_coords[0], c='red',s=1)"
   ]
  },
  {
   "cell_type": "code",
   "execution_count": 7,
   "metadata": {},
   "outputs": [],
   "source": [
    "# observation matrix\n",
    "observations = np.empty((state_count, 5, 3)) # 5-actions, 3-observations\n",
    "\n",
    "# obs 0: Nothing observed, obs 1: Something observed, obs 2: source found\n",
    "\n",
    "observations[:,:,0] = (1 - ground_data.ravel()[:,None])\n",
    "observations[:,:,1] = ground_data.ravel()[:,None]\n",
    "\n",
    "# Detection of goal\n",
    "observations[:,:,2] = 0.0\n",
    "observations[goal_state,:,:] = 0.0\n",
    "observations[goal_state,:,2] = 1.0"
   ]
  },
  {
   "cell_type": "code",
   "execution_count": 8,
   "metadata": {},
   "outputs": [],
   "source": [
    "# states\n",
    "state_grid = []\n",
    "\n",
    "# State labels\n",
    "for i in range(env_shape[0]):\n",
    "    i_states = []\n",
    "    for j in range(env_shape[1]):\n",
    "        i_states.append(f's_{i}_{j}')\n",
    "\n",
    "    state_grid.append(i_states)"
   ]
  },
  {
   "cell_type": "code",
   "execution_count": 9,
   "metadata": {},
   "outputs": [],
   "source": [
    "# Reachable states\n",
    "row_w = env_shape[1]\n",
    "\n",
    "reachable_states = np.zeros((state_count, 5, 1), dtype=int)\n",
    "for s in range(state_count):\n",
    "    reachable_states[s,0,0] = s - row_w if s - row_w >= 0 else (state_count - row_w) + s # North\n",
    "    reachable_states[s,1,0] = s + 1 if (s + 1) % row_w > 0 else s - (row_w - 1) # East\n",
    "    reachable_states[s,2,0] = s + row_w if s + row_w < state_count else s % row_w # South\n",
    "    reachable_states[s,3,0] = s - 1 if (s - 1) % row_w < (row_w - 1) else s + row_w - 1 # West\n",
    "    reachable_states[s,4,0] = s # Doesn't move and sniff ground\n",
    "\n",
    "reachable_states = np.array(reachable_states)"
   ]
  },
  {
   "cell_type": "code",
   "execution_count": 10,
   "metadata": {},
   "outputs": [],
   "source": [
    "# Reward function\n",
    "def reward_func(s,a,sn,o):\n",
    "    return np.where(sn == goal_state, 1.0, 0.0)"
   ]
  },
  {
   "cell_type": "code",
   "execution_count": 11,
   "metadata": {},
   "outputs": [],
   "source": [
    "# Start belief\n",
    "start = np.zeros(env_shape)\n",
    "start[15:46,60:316] = 1.0\n",
    "start /= np.sum(start)"
   ]
  },
  {
   "cell_type": "code",
   "execution_count": 12,
   "metadata": {},
   "outputs": [
    {
     "name": "stdout",
     "output_type": "stream",
     "text": [
      "[11/20/2023, 14:13:52] Instantiation of MDP Model:\n",
      "[11/20/2023, 14:13:52] - 22021 states\n",
      "[11/20/2023, 14:13:52] - 5 actions\n",
      "[11/20/2023, 14:13:52] - At most 1 reachable states per state-action pair\n",
      "[11/20/2023, 14:13:52] - Starting generation of transitions table\n",
      "[11/20/2023, 14:13:52]     > [Warning] No transition matrix or function provided but reachable states are, so probability to reach any reachable states will \"1 / reachable state count\" so here: 1.000.\n",
      "[11/20/2023, 14:13:52]     > Done in 0.000s\n",
      "[11/20/2023, 14:13:52] - Generation of state grid\n",
      "[11/20/2023, 14:13:52] - Generating start probabilities table\n",
      "[11/20/2023, 14:13:52] - Starting computation of reachable state probabilities from transition data\n",
      "[11/20/2023, 14:13:52]     > Done in 0.000s\n",
      "\n",
      "[11/20/2023, 14:13:52] POMDP particular parameters:\n",
      "[11/20/2023, 14:13:52] - 3 observations\n",
      "[11/20/2023, 14:13:52] - Starting of transitional observations for reachable states table\n",
      "[11/20/2023, 14:13:52]     > Done in 0.007s\n",
      "[11/20/2023, 14:13:52] - Starting generation of expected rewards table\n",
      "[11/20/2023, 14:13:53]     > Done in 0.301s\n"
     ]
    }
   ],
   "source": [
    "model = Model(\n",
    "    states=state_grid,\n",
    "    actions=['N','E','S','W','O_Ground'],\n",
    "    observations=['nothing','something','goal'],\n",
    "    reachable_states=reachable_states,\n",
    "    rewards=reward_func,\n",
    "    observation_table=observations,\n",
    "    end_states=[goal_state],\n",
    "    start_probabilities=start.ravel()\n",
    ")"
   ]
  },
  {
   "cell_type": "code",
   "execution_count": 13,
   "metadata": {},
   "outputs": [],
   "source": [
    "# model.save('Alt_Wrap_GroundOnly')"
   ]
  },
  {
   "cell_type": "markdown",
   "metadata": {},
   "source": [
    "# FSVI Solving"
   ]
  },
  {
   "cell_type": "code",
   "execution_count": 14,
   "metadata": {},
   "outputs": [],
   "source": [
    "fsvi_solver = FSVI_Solver(0.99, eps=1e-6)"
   ]
  },
  {
   "cell_type": "code",
   "execution_count": 15,
   "metadata": {},
   "outputs": [
    {
     "name": "stdout",
     "output_type": "stream",
     "text": [
      "[11/20/2023, 11:17:09] Sending Model to GPU...\n",
      "[11/20/2023, 11:17:10]     > Done in 0.257s\n",
      "[11/20/2023, 11:17:10] [Warning] MDP solution not provided, running value iteration on the problem to retrieve it...\n",
      "[11/20/2023, 11:17:10]     > Starting MDP Value Iteration...\n",
      "[11/20/2023, 11:17:11]     > Value Iteration stopped or converged in 0.903s, and after 918 iteration.\n",
      "\n"
     ]
    },
    {
     "data": {
      "application/vnd.jupyter.widget-view+json": {
       "model_id": "2dfacd028a234ab78bb3a9f4d633df1b",
       "version_major": 2,
       "version_minor": 0
      },
      "text/plain": [
       "Expansions:   0%|          | 0/300 [00:00<?, ?it/s]"
      ]
     },
     "metadata": {},
     "output_type": "display_data"
    },
    {
     "name": "stdout",
     "output_type": "stream",
     "text": [
      "Memory full: Out of memory allocating 23,312,311,808 bytes (allocated so far: 64,479,260,160 bytes).\n",
      "Returning value function and history as is...\n",
      "\n",
      "Summary of Value Iteration run\n",
      "  - Model: 22021 state, 5 action, 3 observations\n",
      "  - Converged or stopped after 300 expansion steps and 299 backup steps.\n",
      "  - Resulting value function has 8822 alpha vectors.\n",
      "  - Converged in 206.2083s\n",
      "\n",
      "  - Expand function took on average 0.0772s and yielded on average 81.59 beliefs per iteration. (0.0009s/it/belief)\n",
      "  - Backup function took on average 0.6122s and yielded on average value functions of size 3896.14 per iteration. (0.0004s/it/alpha)\n",
      "  - Pruning function took on average 0.0000s and yielded on average prunings of 0.00 alpha vectors per iteration.\n"
     ]
    }
   ],
   "source": [
    "fsvi_solution, hist = fsvi_solver.solve(model=model,\n",
    "                                        expansions=300,\n",
    "                                        max_belief_growth=100,\n",
    "                                        # prune_level=2, # Useless because of belief domination\n",
    "                                        # prune_interval=25,\n",
    "                                        # history_tracking_level=2,\n",
    "                                        use_gpu=True)\n",
    "print(hist.summary)"
   ]
  },
  {
   "cell_type": "code",
   "execution_count": 16,
   "metadata": {},
   "outputs": [],
   "source": [
    "# fsvi_solution.save(file_name='20231117_fsvi_g0.99_i300_e100_value_function_wrap_ground_retry.csv', compress=True)"
   ]
  },
  {
   "cell_type": "markdown",
   "metadata": {},
   "source": [
    "# Loading fsvi solution"
   ]
  },
  {
   "cell_type": "code",
   "execution_count": 74,
   "metadata": {},
   "outputs": [],
   "source": [
    "# fsvi_solution = ValueFunction.load_from_file('./ValueFunctions/20231117_fsvi_g0.99_i300_e100_value_function_wrap_ground.csv.gzip', model).to_gpu()\n",
    "fsvi_solution = ValueFunction.load_from_file('./ValueFunctions/20231117_fsvi_g0.99_i300_e100_value_function_wrap_ground_retry.csv.gzip', model).to_gpu()"
   ]
  },
  {
   "cell_type": "code",
   "execution_count": 27,
   "metadata": {},
   "outputs": [
    {
     "name": "stdout",
     "output_type": "stream",
     "text": [
      "[Warning] Value function on GPU, converting to numpy before plotting...\n",
      "[Warning] 'as_grid' parameter set to False but state count is >3 so it will be plotted as a grid\n"
     ]
    },
    {
     "data": {
      "image/png": "[encoded data removed]",
      "text/plain": [
       "<Figure size 1000x500 with 3 Axes>"
      ]
     },
     "metadata": {},
     "output_type": "display_data"
    }
   ],
   "source": [
    "fsvi_solution.plot()"
   ]
  },
  {
   "cell_type": "markdown",
   "metadata": {},
   "source": [
    "# Sim"
   ]
  },
  {
   "cell_type": "code",
   "execution_count": 15,
   "metadata": {},
   "outputs": [],
   "source": [
    "a = Agent(model=model, value_function=fsvi_solution)"
   ]
  },
  {
   "cell_type": "code",
   "execution_count": 28,
   "metadata": {},
   "outputs": [],
   "source": [
    "# a = Agent(model=model, value_function=fsvi_solution.to_cpu())"
   ]
  },
  {
   "cell_type": "code",
   "execution_count": 16,
   "metadata": {},
   "outputs": [
    {
     "data": {
      "application/vnd.jupyter.widget-view+json": {
       "model_id": "b7593df2e817410ca9886839908f85f0",
       "version_major": 2,
       "version_minor": 0
      },
      "text/plain": [
       "  0%|          | 0/1000 [00:00<?, ?it/s]"
      ]
     },
     "metadata": {},
     "output_type": "display_data"
    },
    {
     "name": "stdout",
     "output_type": "stream",
     "text": [
      "Simulation done:\n",
      "\t- Runtime (s): 1.240937\n",
      "\t- Steps: 434\n",
      "\t- Total rewards: 1.0\n",
      "\t- End state: s_30_60\n"
     ]
    }
   ],
   "source": [
    "sim_hist = a.simulate(start_state=(env_shape[1]*15)+300)"
   ]
  },
  {
   "cell_type": "code",
   "execution_count": 35,
   "metadata": {},
   "outputs": [
    {
     "name": "stdout",
     "output_type": "stream",
     "text": [
      "[Warning] Beliefs not saved with simulation history but the belief sequence can be recreated from the actions and observations.\n"
     ]
    }
   ],
   "source": [
    "sim_hist.save()"
   ]
  },
  {
   "cell_type": "code",
   "execution_count": 17,
   "metadata": {},
   "outputs": [
    {
     "name": "stdout",
     "output_type": "stream",
     "text": [
      "Video saved at './Sim Videos/s22021-a5-20231120_140007.mp4'...\n"
     ]
    }
   ],
   "source": [
    "sim_hist.save_simulation_video()"
   ]
  },
  {
   "cell_type": "markdown",
   "metadata": {},
   "source": [
    "# Sim plot"
   ]
  },
  {
   "cell_type": "code",
   "execution_count": 33,
   "metadata": {},
   "outputs": [
    {
     "data": {
      "image/png": "[encoded data removed]",
      "text/plain": [
       "<Figure size 1800x300 with 1 Axes>"
      ]
     },
     "metadata": {},
     "output_type": "display_data"
    }
   ],
   "source": [
    "# PLot setup\n",
    "plt.figure(figsize=(18,3))\n",
    "plt.xlim(0, env_shape[1])\n",
    "plt.ylim(env_shape[0], 0)\n",
    "\n",
    "\n",
    "# Goal\n",
    "plt.scatter(60, 30, c='red')\n",
    "\n",
    "# Path\n",
    "seq = np.array(sim_hist.grid_point_sequence)\n",
    "plt.plot(seq[:,1], seq[:,0], c='black')\n",
    "\n",
    "# Something sensed\n",
    "obs_ts = np.where(np.array(sim_hist.observations) == 1)\n",
    "points_obs = seq[obs_ts[0],:]\n",
    "plt.scatter(points_obs[:,1], points_obs[:,0])\n",
    "\n",
    "# Points sniff\n",
    "sniff_in_air = np.where(np.array(sim_hist.actions) == 5)\n",
    "points_sniff = seq[sniff_in_air[0],:]\n",
    "plt.scatter(points_sniff[:,1], points_sniff[:,0], marker='x')\n",
    "\n",
    "plt.show()"
   ]
  },
  {
   "cell_type": "markdown",
   "metadata": {},
   "source": [
    "# Entropy-value plot"
   ]
  },
  {
   "cell_type": "code",
   "execution_count": 27,
   "metadata": {},
   "outputs": [],
   "source": [
    "from scipy.stats import entropy"
   ]
  },
  {
   "cell_type": "code",
   "execution_count": 28,
   "metadata": {},
   "outputs": [],
   "source": [
    "ents = [entropy(b.values) for b in sim_hist.beliefs]"
   ]
  },
  {
   "cell_type": "code",
   "execution_count": 29,
   "metadata": {},
   "outputs": [],
   "source": [
    "b_array = cp.array([(b.values) for b in sim_hist.beliefs])\n",
    "b_vals = cp.asnumpy(cp.max(cp.matmul(fsvi_solution.alpha_vector_array, b_array.T), axis=0))"
   ]
  },
  {
   "cell_type": "code",
   "execution_count": 65,
   "metadata": {},
   "outputs": [
    {
     "data": {
      "image/png": "[encoded data removed]",
      "text/plain": [
       "<Figure size 640x480 with 2 Axes>"
      ]
     },
     "metadata": {},
     "output_type": "display_data"
    }
   ],
   "source": [
    "def plot_d(ax):\n",
    "    ax.set_xlabel('Time')\n",
    "\n",
    "    # Entropy\n",
    "    ax.plot(np.arange(len(ents)), ents, color='blue')\n",
    "    ax.set_ylabel('Entropy', color='blue')\n",
    "\n",
    "    ax2 = ax.twinx()\n",
    "\n",
    "    # Value\n",
    "    ax2.plot(np.arange(len(b_vals)), b_vals, color='red')\n",
    "    ax2.set_ylabel('Value', color='red')\n",
    "\n",
    "fig, ax1 = plt.subplots()\n",
    "plot_d(ax1)\n",
    "plt.show()"
   ]
  },
  {
   "cell_type": "markdown",
   "metadata": {},
   "source": [
    "# Multiple simulations"
   ]
  },
  {
   "cell_type": "code",
   "execution_count": 15,
   "metadata": {},
   "outputs": [],
   "source": [
    "a = Agent(model, fsvi_solution)"
   ]
  },
  {
   "cell_type": "code",
   "execution_count": 16,
   "metadata": {},
   "outputs": [
    {
     "data": {
      "application/vnd.jupyter.widget-view+json": {
       "model_id": "ea24e9586b36488abba8c225db35cee5",
       "version_major": 2,
       "version_minor": 0
      },
      "text/plain": [
       "  0%|          | 0/1000 [00:00<?, ?it/s]"
      ]
     },
     "metadata": {},
     "output_type": "display_data"
    },
    {
     "name": "stdout",
     "output_type": "stream",
     "text": [
      "All 300 simulations done in 36.331s:\n",
      "\t- Simulations reached goal: 214/300 (86 failures)\n",
      "\t- Average step count: 535.75\n",
      "\t- Average total rewards: 0.7133333333333334\n",
      "\t- Average discounted rewards (ADR): 0.02223882608860371\n"
     ]
    }
   ],
   "source": [
    "# On center line\n",
    "_, sim_set = a.run_n_simulations_parallel(n=300, start_state=[(env_shape[1]*30)+300, # Center\n",
    "                                                              (env_shape[1]*15)+300, # Bellow\n",
    "                                                              (env_shape[1]*45)+300]) # Above"
   ]
  },
  {
   "cell_type": "markdown",
   "metadata": {},
   "source": [
    "# Res df"
   ]
  },
  {
   "cell_type": "code",
   "execution_count": 26,
   "metadata": {},
   "outputs": [],
   "source": [
    "res_df = pd.DataFrame()"
   ]
  },
  {
   "cell_type": "markdown",
   "metadata": {},
   "source": [
    "# Extra steps needed"
   ]
  },
  {
   "cell_type": "code",
   "execution_count": 27,
   "metadata": {},
   "outputs": [],
   "source": [
    "sim_lengths = [len(sim) for sim in sim_set]"
   ]
  },
  {
   "cell_type": "code",
   "execution_count": 28,
   "metadata": {},
   "outputs": [],
   "source": [
    "opt_traj = np.ones(300) * 240\n",
    "opt_traj[100:] += 15"
   ]
  },
  {
   "cell_type": "code",
   "execution_count": 29,
   "metadata": {},
   "outputs": [],
   "source": [
    "res_df['Steps'] = sim_lengths\n",
    "res_df['Extra Steps'] = np.array(sim_lengths) - opt_traj"
   ]
  },
  {
   "cell_type": "code",
   "execution_count": 33,
   "metadata": {},
   "outputs": [
    {
     "data": {
      "image/png": "[encoded data removed]",
      "text/plain": [
       "<Figure size 640x480 with 1 Axes>"
      ]
     },
     "metadata": {},
     "output_type": "display_data"
    }
   ],
   "source": [
    "def plot_b(ax):\n",
    "    ax.set_ylabel('Additional steps to target')\n",
    "    ax.set_ylim(0,500)\n",
    "    ax.boxplot(np.array(sim_lengths) - opt_traj)\n",
    "\n",
    "fig, ax1 = plt.subplots()\n",
    "plot_b(ax1)\n",
    "plt.show()"
   ]
  },
  {
   "cell_type": "markdown",
   "metadata": {},
   "source": [
    "# Save res"
   ]
  },
  {
   "cell_type": "code",
   "execution_count": 31,
   "metadata": {},
   "outputs": [],
   "source": [
    "# res_df.to_csv('./Results/res_300it_alt_paper_wrap_ground_only.csv', index=False)"
   ]
  },
  {
   "cell_type": "markdown",
   "metadata": {},
   "source": [
    "# Making sim all accross the space"
   ]
  },
  {
   "cell_type": "code",
   "execution_count": 19,
   "metadata": {},
   "outputs": [
    {
     "data": {
      "text/plain": [
       "[30, 60]"
      ]
     },
     "execution_count": 19,
     "metadata": {},
     "output_type": "execute_result"
    }
   ],
   "source": [
    "goal_state_coords"
   ]
  },
  {
   "cell_type": "code",
   "execution_count": 75,
   "metadata": {},
   "outputs": [
    {
     "data": {
      "text/html": [
       "<div>\n",
       "<style scoped>\n",
       "    .dataframe tbody tr th:only-of-type {\n",
       "        vertical-align: middle;\n",
       "    }\n",
       "\n",
       "    .dataframe tbody tr th {\n",
       "        vertical-align: top;\n",
       "    }\n",
       "\n",
       "    .dataframe thead th {\n",
       "        text-align: right;\n",
       "    }\n",
       "</style>\n",
       "<table border=\"1\" class=\"dataframe\">\n",
       "  <thead>\n",
       "    <tr style=\"text-align: right;\">\n",
       "      <th></th>\n",
       "      <th>x</th>\n",
       "      <th>y</th>\n",
       "      <th>cell</th>\n",
       "      <th>cell_x</th>\n",
       "      <th>cell_y</th>\n",
       "      <th>opt_traj</th>\n",
       "      <th>point_id</th>\n",
       "    </tr>\n",
       "  </thead>\n",
       "  <tbody>\n",
       "    <tr>\n",
       "      <th>0</th>\n",
       "      <td>65</td>\n",
       "      <td>24</td>\n",
       "      <td>0</td>\n",
       "      <td>65.0</td>\n",
       "      <td>20.0</td>\n",
       "      <td>11</td>\n",
       "      <td>8729</td>\n",
       "    </tr>\n",
       "    <tr>\n",
       "      <th>1</th>\n",
       "      <td>66</td>\n",
       "      <td>17</td>\n",
       "      <td>0</td>\n",
       "      <td>65.0</td>\n",
       "      <td>20.0</td>\n",
       "      <td>19</td>\n",
       "      <td>6203</td>\n",
       "    </tr>\n",
       "    <tr>\n",
       "      <th>2</th>\n",
       "      <td>61</td>\n",
       "      <td>15</td>\n",
       "      <td>0</td>\n",
       "      <td>65.0</td>\n",
       "      <td>20.0</td>\n",
       "      <td>16</td>\n",
       "      <td>5476</td>\n",
       "    </tr>\n",
       "    <tr>\n",
       "      <th>3</th>\n",
       "      <td>64</td>\n",
       "      <td>24</td>\n",
       "      <td>0</td>\n",
       "      <td>65.0</td>\n",
       "      <td>20.0</td>\n",
       "      <td>10</td>\n",
       "      <td>8728</td>\n",
       "    </tr>\n",
       "    <tr>\n",
       "      <th>4</th>\n",
       "      <td>64</td>\n",
       "      <td>19</td>\n",
       "      <td>0</td>\n",
       "      <td>65.0</td>\n",
       "      <td>20.0</td>\n",
       "      <td>15</td>\n",
       "      <td>6923</td>\n",
       "    </tr>\n",
       "    <tr>\n",
       "      <th>...</th>\n",
       "      <td>...</td>\n",
       "      <td>...</td>\n",
       "      <td>...</td>\n",
       "      <td>...</td>\n",
       "      <td>...</td>\n",
       "      <td>...</td>\n",
       "      <td>...</td>\n",
       "    </tr>\n",
       "    <tr>\n",
       "      <th>715</th>\n",
       "      <td>298</td>\n",
       "      <td>36</td>\n",
       "      <td>71</td>\n",
       "      <td>295.0</td>\n",
       "      <td>40.0</td>\n",
       "      <td>244</td>\n",
       "      <td>13294</td>\n",
       "    </tr>\n",
       "    <tr>\n",
       "      <th>716</th>\n",
       "      <td>290</td>\n",
       "      <td>44</td>\n",
       "      <td>71</td>\n",
       "      <td>295.0</td>\n",
       "      <td>40.0</td>\n",
       "      <td>244</td>\n",
       "      <td>16174</td>\n",
       "    </tr>\n",
       "    <tr>\n",
       "      <th>717</th>\n",
       "      <td>299</td>\n",
       "      <td>43</td>\n",
       "      <td>71</td>\n",
       "      <td>295.0</td>\n",
       "      <td>40.0</td>\n",
       "      <td>252</td>\n",
       "      <td>15822</td>\n",
       "    </tr>\n",
       "    <tr>\n",
       "      <th>718</th>\n",
       "      <td>293</td>\n",
       "      <td>42</td>\n",
       "      <td>71</td>\n",
       "      <td>295.0</td>\n",
       "      <td>40.0</td>\n",
       "      <td>245</td>\n",
       "      <td>15455</td>\n",
       "    </tr>\n",
       "    <tr>\n",
       "      <th>719</th>\n",
       "      <td>291</td>\n",
       "      <td>38</td>\n",
       "      <td>71</td>\n",
       "      <td>295.0</td>\n",
       "      <td>40.0</td>\n",
       "      <td>239</td>\n",
       "      <td>14009</td>\n",
       "    </tr>\n",
       "  </tbody>\n",
       "</table>\n",
       "<p>720 rows × 7 columns</p>\n",
       "</div>"
      ],
      "text/plain": [
       "       x   y  cell  cell_x  cell_y  opt_traj  point_id\n",
       "0     65  24     0    65.0    20.0        11      8729\n",
       "1     66  17     0    65.0    20.0        19      6203\n",
       "2     61  15     0    65.0    20.0        16      5476\n",
       "3     64  24     0    65.0    20.0        10      8728\n",
       "4     64  19     0    65.0    20.0        15      6923\n",
       "..   ...  ..   ...     ...     ...       ...       ...\n",
       "715  298  36    71   295.0    40.0       244     13294\n",
       "716  290  44    71   295.0    40.0       244     16174\n",
       "717  299  43    71   295.0    40.0       252     15822\n",
       "718  293  42    71   295.0    40.0       245     15455\n",
       "719  291  38    71   295.0    40.0       239     14009\n",
       "\n",
       "[720 rows x 7 columns]"
      ]
     },
     "execution_count": 75,
     "metadata": {},
     "output_type": "execute_result"
    }
   ],
   "source": [
    "random_points = []\n",
    "cell_centers = []\n",
    "\n",
    "CELL_SIZE = 10\n",
    "POINT_PER_CELL = 10\n",
    "\n",
    "height_count = 0\n",
    "\n",
    "for i in range(15,45,CELL_SIZE):\n",
    "    height_count += 1\n",
    "    for j in range(60,300,CELL_SIZE):\n",
    "        for k in range(POINT_PER_CELL):\n",
    "            rand_x = np.random.randint(j,j+10)\n",
    "            rand_y = np.random.randint(i,i+10)\n",
    "\n",
    "            random_points.append([rand_x, rand_y])\n",
    "\n",
    "            cell_centers.append([j+(CELL_SIZE/2), i+(CELL_SIZE/2)])\n",
    "\n",
    "rand_points_array = np.array(random_points)\n",
    "\n",
    "points_df = pd.DataFrame(rand_points_array, columns=['x','y'])\n",
    "\n",
    "# Cells\n",
    "points_df['cell'] = np.repeat(np.arange(len(points_df)/POINT_PER_CELL, dtype=int), POINT_PER_CELL)\n",
    "cell_centers_array = np.array(cell_centers)\n",
    "points_df['cell_x'] = cell_centers_array[:,0]\n",
    "points_df['cell_y'] = cell_centers_array[:,1]\n",
    "\n",
    "# Traj and ids\n",
    "points_df['opt_traj'] = np.abs(goal_state_coords[1] - rand_points_array[:,0]) + np.abs(goal_state_coords[0] - rand_points_array[:,1])\n",
    "points_df['point_id'] = (env_shape[1] * rand_points_array[:,1]) + rand_points_array[:,0]\n",
    "points_df"
   ]
  },
  {
   "cell_type": "code",
   "execution_count": 76,
   "metadata": {},
   "outputs": [
    {
     "data": {
      "application/vnd.jupyter.widget-view+json": {
       "model_id": "8e80f3d7a0f4402aa0c3f5f083210e31",
       "version_major": 2,
       "version_minor": 0
      },
      "text/plain": [
       "  0%|          | 0/1000 [00:00<?, ?it/s]"
      ]
     },
     "metadata": {},
     "output_type": "display_data"
    },
    {
     "name": "stdout",
     "output_type": "stream",
     "text": [
      "All 720 simulations done in 79.962s:\n",
      "\t- Simulations reached goal: 707/720 (13 failures)\n",
      "\t- Average step count: 277.2111111111111\n",
      "\t- Average total rewards: 0.9819444444444444\n",
      "\t- Average discounted rewards (ADR): 0.1818437884721819\n"
     ]
    }
   ],
   "source": [
    "a = Agent(model, fsvi_solution)\n",
    "_, all_sim_hist = a.run_n_simulations_parallel(len(rand_points_array), start_state=points_df['point_id'].to_list())"
   ]
  },
  {
   "cell_type": "code",
   "execution_count": 77,
   "metadata": {},
   "outputs": [
    {
     "data": {
      "text/html": [
       "<div>\n",
       "<style scoped>\n",
       "    .dataframe tbody tr th:only-of-type {\n",
       "        vertical-align: middle;\n",
       "    }\n",
       "\n",
       "    .dataframe tbody tr th {\n",
       "        vertical-align: top;\n",
       "    }\n",
       "\n",
       "    .dataframe thead th {\n",
       "        text-align: right;\n",
       "    }\n",
       "</style>\n",
       "<table border=\"1\" class=\"dataframe\">\n",
       "  <thead>\n",
       "    <tr style=\"text-align: right;\">\n",
       "      <th></th>\n",
       "      <th>x</th>\n",
       "      <th>y</th>\n",
       "      <th>cell</th>\n",
       "      <th>cell_x</th>\n",
       "      <th>cell_y</th>\n",
       "      <th>opt_traj</th>\n",
       "      <th>point_id</th>\n",
       "      <th>steps_taken</th>\n",
       "      <th>extra_steps</th>\n",
       "    </tr>\n",
       "  </thead>\n",
       "  <tbody>\n",
       "    <tr>\n",
       "      <th>0</th>\n",
       "      <td>65</td>\n",
       "      <td>24</td>\n",
       "      <td>0</td>\n",
       "      <td>65.0</td>\n",
       "      <td>20.0</td>\n",
       "      <td>11</td>\n",
       "      <td>8729</td>\n",
       "      <td>754</td>\n",
       "      <td>743</td>\n",
       "    </tr>\n",
       "    <tr>\n",
       "      <th>1</th>\n",
       "      <td>66</td>\n",
       "      <td>17</td>\n",
       "      <td>0</td>\n",
       "      <td>65.0</td>\n",
       "      <td>20.0</td>\n",
       "      <td>19</td>\n",
       "      <td>6203</td>\n",
       "      <td>742</td>\n",
       "      <td>723</td>\n",
       "    </tr>\n",
       "    <tr>\n",
       "      <th>2</th>\n",
       "      <td>61</td>\n",
       "      <td>15</td>\n",
       "      <td>0</td>\n",
       "      <td>65.0</td>\n",
       "      <td>20.0</td>\n",
       "      <td>16</td>\n",
       "      <td>5476</td>\n",
       "      <td>787</td>\n",
       "      <td>771</td>\n",
       "    </tr>\n",
       "    <tr>\n",
       "      <th>3</th>\n",
       "      <td>64</td>\n",
       "      <td>24</td>\n",
       "      <td>0</td>\n",
       "      <td>65.0</td>\n",
       "      <td>20.0</td>\n",
       "      <td>10</td>\n",
       "      <td>8728</td>\n",
       "      <td>737</td>\n",
       "      <td>727</td>\n",
       "    </tr>\n",
       "    <tr>\n",
       "      <th>4</th>\n",
       "      <td>64</td>\n",
       "      <td>19</td>\n",
       "      <td>0</td>\n",
       "      <td>65.0</td>\n",
       "      <td>20.0</td>\n",
       "      <td>15</td>\n",
       "      <td>6923</td>\n",
       "      <td>724</td>\n",
       "      <td>709</td>\n",
       "    </tr>\n",
       "    <tr>\n",
       "      <th>...</th>\n",
       "      <td>...</td>\n",
       "      <td>...</td>\n",
       "      <td>...</td>\n",
       "      <td>...</td>\n",
       "      <td>...</td>\n",
       "      <td>...</td>\n",
       "      <td>...</td>\n",
       "      <td>...</td>\n",
       "      <td>...</td>\n",
       "    </tr>\n",
       "    <tr>\n",
       "      <th>715</th>\n",
       "      <td>298</td>\n",
       "      <td>36</td>\n",
       "      <td>71</td>\n",
       "      <td>295.0</td>\n",
       "      <td>40.0</td>\n",
       "      <td>244</td>\n",
       "      <td>13294</td>\n",
       "      <td>367</td>\n",
       "      <td>123</td>\n",
       "    </tr>\n",
       "    <tr>\n",
       "      <th>716</th>\n",
       "      <td>290</td>\n",
       "      <td>44</td>\n",
       "      <td>71</td>\n",
       "      <td>295.0</td>\n",
       "      <td>40.0</td>\n",
       "      <td>244</td>\n",
       "      <td>16174</td>\n",
       "      <td>339</td>\n",
       "      <td>95</td>\n",
       "    </tr>\n",
       "    <tr>\n",
       "      <th>717</th>\n",
       "      <td>299</td>\n",
       "      <td>43</td>\n",
       "      <td>71</td>\n",
       "      <td>295.0</td>\n",
       "      <td>40.0</td>\n",
       "      <td>252</td>\n",
       "      <td>15822</td>\n",
       "      <td>363</td>\n",
       "      <td>111</td>\n",
       "    </tr>\n",
       "    <tr>\n",
       "      <th>718</th>\n",
       "      <td>293</td>\n",
       "      <td>42</td>\n",
       "      <td>71</td>\n",
       "      <td>295.0</td>\n",
       "      <td>40.0</td>\n",
       "      <td>245</td>\n",
       "      <td>15455</td>\n",
       "      <td>340</td>\n",
       "      <td>95</td>\n",
       "    </tr>\n",
       "    <tr>\n",
       "      <th>719</th>\n",
       "      <td>291</td>\n",
       "      <td>38</td>\n",
       "      <td>71</td>\n",
       "      <td>295.0</td>\n",
       "      <td>40.0</td>\n",
       "      <td>239</td>\n",
       "      <td>14009</td>\n",
       "      <td>346</td>\n",
       "      <td>107</td>\n",
       "    </tr>\n",
       "  </tbody>\n",
       "</table>\n",
       "<p>720 rows × 9 columns</p>\n",
       "</div>"
      ],
      "text/plain": [
       "       x   y  cell  cell_x  cell_y  opt_traj  point_id  steps_taken  \\\n",
       "0     65  24     0    65.0    20.0        11      8729          754   \n",
       "1     66  17     0    65.0    20.0        19      6203          742   \n",
       "2     61  15     0    65.0    20.0        16      5476          787   \n",
       "3     64  24     0    65.0    20.0        10      8728          737   \n",
       "4     64  19     0    65.0    20.0        15      6923          724   \n",
       "..   ...  ..   ...     ...     ...       ...       ...          ...   \n",
       "715  298  36    71   295.0    40.0       244     13294          367   \n",
       "716  290  44    71   295.0    40.0       244     16174          339   \n",
       "717  299  43    71   295.0    40.0       252     15822          363   \n",
       "718  293  42    71   295.0    40.0       245     15455          340   \n",
       "719  291  38    71   295.0    40.0       239     14009          346   \n",
       "\n",
       "     extra_steps  \n",
       "0            743  \n",
       "1            723  \n",
       "2            771  \n",
       "3            727  \n",
       "4            709  \n",
       "..           ...  \n",
       "715          123  \n",
       "716           95  \n",
       "717          111  \n",
       "718           95  \n",
       "719          107  \n",
       "\n",
       "[720 rows x 9 columns]"
      ]
     },
     "execution_count": 77,
     "metadata": {},
     "output_type": "execute_result"
    }
   ],
   "source": [
    "# Adding sim results\n",
    "points_df['steps_taken'] = [len(sim) for sim in all_sim_hist]\n",
    "points_df['extra_steps'] = points_df['steps_taken'] - points_df['opt_traj']\n",
    "\n",
    "points_df"
   ]
  },
  {
   "cell_type": "code",
   "execution_count": 79,
   "metadata": {},
   "outputs": [],
   "source": [
    "# Computing averages per cell\n",
    "average_per_cell = points_df.groupby('cell').mean('extra_steps')['extra_steps'].to_list()\n",
    "\n",
    "average_grid = []\n",
    "item = 0\n",
    "for i in range(15,45,CELL_SIZE):\n",
    "    row = []\n",
    "    for j in range(60,300,CELL_SIZE):\n",
    "        row.append(average_per_cell[item])\n",
    "        item += 1\n",
    "    average_grid.append(row)\n",
    "\n",
    "average_grid_array = np.array(average_grid)"
   ]
  },
  {
   "cell_type": "code",
   "execution_count": 82,
   "metadata": {},
   "outputs": [
    {
     "name": "stderr",
     "output_type": "stream",
     "text": [
      "/tmp/ipykernel_2660847/3135967870.py:3: MatplotlibDeprecationWarning: The get_cmap function was deprecated in Matplotlib 3.7 and will be removed two minor releases later. Use ``matplotlib.colormaps[name]`` or ``matplotlib.colormaps.get_cmap(obj)`` instead.\n",
      "  plt.imshow(average_grid_array, cmap=plt.cm.get_cmap('RdYlGn').reversed())\n"
     ]
    },
    {
     "data": {
      "image/png": "[encoded data removed]",
      "text/plain": [
       "<Figure size 640x480 with 2 Axes>"
      ]
     },
     "metadata": {},
     "output_type": "display_data"
    }
   ],
   "source": [
    "plt.title('Additional steps needed\\nAvg of 10 realizations per tile')\n",
    "\n",
    "plt.imshow(average_grid_array, cmap=plt.cm.get_cmap('RdYlGn').reversed())\n",
    "plt.colorbar(orientation='horizontal')\n",
    "\n",
    "# Axes\n",
    "plt.xticks(np.arange(average_grid_array.shape[1]), labels=np.unique(cell_centers_array[:,0]), rotation=90)\n",
    "plt.yticks(np.arange(average_grid_array.shape[0]), labels=np.unique(cell_centers_array[:,1]))\n",
    "\n",
    "plt.show()"
   ]
  },
  {
   "cell_type": "code",
   "execution_count": null,
   "metadata": {},
   "outputs": [],
   "source": []
  }
 ],
 "metadata": {
  "kernelspec": {
   "display_name": "Python 3",
   "language": "python",
   "name": "python3"
  },
  "language_info": {
   "codemirror_mode": {
    "name": "ipython",
    "version": 3
   },
   "file_extension": ".py",
   "mimetype": "text/x-python",
   "name": "python",
   "nbconvert_exporter": "python",
   "pygments_lexer": "ipython3",
   "version": "3.11.5"
  }
 },
 "nbformat": 4,
 "nbformat_minor": 2
}
