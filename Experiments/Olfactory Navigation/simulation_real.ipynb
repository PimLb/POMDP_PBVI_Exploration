{
 "cells": [
  {
   "cell_type": "code",
   "execution_count": 1,
   "metadata": {},
   "outputs": [],
   "source": [
    "import numpy as np\n",
    "import cv2\n",
    "import h5py\n",
    "import time\n",
    "\n",
    "import matplotlib.pyplot as plt\n",
    "from tqdm.notebook import trange"
   ]
  },
  {
   "cell_type": "markdown",
   "metadata": {},
   "source": [
    "# Loading simulation data"
   ]
  },
  {
   "cell_type": "code",
   "execution_count": 2,
   "metadata": {},
   "outputs": [
    {
     "name": "stdout",
     "output_type": "stream",
     "text": [
      "[--] Data read in 48.0794s!\n"
     ]
    }
   ],
   "source": [
    "f = h5py.File(\"/storage/rando/data/nose_data.mat\")\n",
    "reading_time = time.time()\n",
    "nose_data = np.asarray(f[\"nose\"])\n",
    "reading_time = time.time() - reading_time\n",
    "print(\"[--] Data read in {}s!\".format(round(reading_time, 4)))\n",
    "f.close()"
   ]
  },
  {
   "cell_type": "code",
   "execution_count": 3,
   "metadata": {},
   "outputs": [
    {
     "name": "stdout",
     "output_type": "stream",
     "text": [
      "[--] Data read in 48.479s!\n"
     ]
    }
   ],
   "source": [
    "f = h5py.File(\"/storage/rando/data/ground_data.mat\")\n",
    "reading_time = time.time()\n",
    "ground_data = np.asarray(f[\"ground\"])\n",
    "reading_time = time.time() - reading_time\n",
    "print(\"[--] Data read in {}s!\".format(round(reading_time, 4)))\n",
    "f.close()"
   ]
  },
  {
   "cell_type": "markdown",
   "metadata": {},
   "source": [
    "# Resizing data and treshold"
   ]
  },
  {
   "cell_type": "code",
   "execution_count": 4,
   "metadata": {},
   "outputs": [],
   "source": [
    "tresh = 3e-6"
   ]
  },
  {
   "cell_type": "code",
   "execution_count": 5,
   "metadata": {},
   "outputs": [
    {
     "data": {
      "application/vnd.jupyter.widget-view+json": {
       "model_id": "6e6e00467adb49e4aa3fbec61b1b051e",
       "version_major": 2,
       "version_minor": 0
      },
      "text/plain": [
       "  0%|          | 0/2600 [00:00<?, ?it/s]"
      ]
     },
     "metadata": {},
     "output_type": "display_data"
    }
   ],
   "source": [
    "nose_resized = []\n",
    "for i in trange(nose_data.shape[0]):\n",
    "    arr = np.zeros((61,361))\n",
    "    arr[15:46,60:181] = cv2.resize(nose_data[i], dsize=(121,31))\n",
    "    nose_resized.append(arr)\n",
    "\n",
    "nose_resized = np.array(nose_resized) > tresh"
   ]
  },
  {
   "cell_type": "code",
   "execution_count": 6,
   "metadata": {},
   "outputs": [
    {
     "data": {
      "application/vnd.jupyter.widget-view+json": {
       "model_id": "ac5b5d4745cd4e04b38903aef955f639",
       "version_major": 2,
       "version_minor": 0
      },
      "text/plain": [
       "  0%|          | 0/2600 [00:00<?, ?it/s]"
      ]
     },
     "metadata": {},
     "output_type": "display_data"
    }
   ],
   "source": [
    "ground_resized = []\n",
    "for i in trange(ground_data.shape[0]):\n",
    "    arr = np.zeros((61,361))\n",
    "    arr[15:46,60:181] = cv2.resize(ground_data[i], dsize=(121,31))\n",
    "    ground_resized.append(arr)\n",
    "\n",
    "ground_resized = np.array(ground_resized) > tresh"
   ]
  },
  {
   "cell_type": "markdown",
   "metadata": {},
   "source": [
    "# Overwriting Simulation"
   ]
  },
  {
   "cell_type": "code",
   "execution_count": 7,
   "metadata": {},
   "outputs": [],
   "source": [
    "import sys\n",
    "sys.path.append('../..')\n",
    "from src.pomdp import *"
   ]
  },
  {
   "cell_type": "code",
   "execution_count": 8,
   "metadata": {},
   "outputs": [],
   "source": [
    "class RealSimulation(Simulation):\n",
    "    def __init__(self, model: Model) -> None:\n",
    "        self.iter = None\n",
    "        super().__init__(model)\n",
    "\n",
    "\n",
    "    def initialize_simulation(self, start_state: int | None = None) -> int:\n",
    "        self.iter = 0\n",
    "        return super().initialize_simulation(start_state)\n",
    "\n",
    "\n",
    "    def run_action(self, a: int) -> tuple[int | float, int]:\n",
    "        r,_ = super().run_action(a)\n",
    "\n",
    "        x,y = self.model.get_coords(self.agent_state)\n",
    "        o = 1 if (nose_resized if a == 5 else ground_resized)[self.iter, x, y] else 0\n",
    "\n",
    "        self.iter += 1\n",
    "        return (r,o)"
   ]
  },
  {
   "cell_type": "markdown",
   "metadata": {},
   "source": [
    "# Gather model and VF"
   ]
  },
  {
   "cell_type": "code",
   "execution_count": 9,
   "metadata": {},
   "outputs": [],
   "source": [
    "model = Model.load_from_file('./Models/Alt_Wrap_GroundAir.pck')\n",
    "vf = ValueFunction.load_from_file('./Test_GroundAir_FSVI_300it_100exp_099g_e6eps_20run_20231121_165329/ValueFunctions/run-3-VF.gzip', model)"
   ]
  },
  {
   "cell_type": "markdown",
   "metadata": {},
   "source": [
    "# Simulation"
   ]
  },
  {
   "cell_type": "code",
   "execution_count": 10,
   "metadata": {},
   "outputs": [],
   "source": [
    "a = Agent(model, vf)"
   ]
  },
  {
   "cell_type": "code",
   "execution_count": 14,
   "metadata": {},
   "outputs": [
    {
     "data": {
      "application/vnd.jupyter.widget-view+json": {
       "model_id": "cb2817a6ed814e598a39a77d9f46b6ac",
       "version_major": 2,
       "version_minor": 0
      },
      "text/plain": [
       "  0%|          | 0/1000 [00:00<?, ?it/s]"
      ]
     },
     "metadata": {},
     "output_type": "display_data"
    },
    {
     "name": "stdout",
     "output_type": "stream",
     "text": [
      "Simulation done:\n",
      "\t- Runtime (s): 29.52127\n",
      "\t- Steps: 638\n",
      "\t- Total rewards: 1.0\n",
      "\t- End state: s_30_60\n"
     ]
    }
   ],
   "source": [
    "hist = a.simulate(RealSimulation(model), start_state=(361*30)+300)"
   ]
  },
  {
   "cell_type": "markdown",
   "metadata": {},
   "source": [
    "# Plot Result"
   ]
  },
  {
   "cell_type": "code",
   "execution_count": 15,
   "metadata": {},
   "outputs": [],
   "source": [
    "from viz_functions import plot_steps"
   ]
  },
  {
   "cell_type": "code",
   "execution_count": 16,
   "metadata": {},
   "outputs": [
    {
     "data": {
      "image/png": "[encoded data removed]",
      "text/plain": [
       "<Figure size 1800x300 with 1 Axes>"
      ]
     },
     "metadata": {},
     "output_type": "display_data"
    }
   ],
   "source": [
    "plot_steps(hist)"
   ]
  },
  {
   "cell_type": "markdown",
   "metadata": {},
   "source": [
    "# Generate a vid"
   ]
  },
  {
   "cell_type": "code",
   "execution_count": 23,
   "metadata": {},
   "outputs": [],
   "source": [
    "def plot_steps_mod(sim_hist:SimulationHistory, until_step:int=-1, ax=None) -> None:\n",
    "    '''\n",
    "    Plots a special version of the simulation plot for olfactory navigation\n",
    "    \n",
    "    Parameters\n",
    "    ----------\n",
    "    sim_hist : SimulationHistory\n",
    "        The completed simulation history.\n",
    "    ax : optional\n",
    "        The ax the produce the plot on, if not a new one will be created.\n",
    "    '''\n",
    "    # Generate ax is not provided\n",
    "    if ax is None:\n",
    "        fig, ax = plt.subplots(figsize=(18,3))\n",
    "\n",
    "    # Initial clearing\n",
    "    ax.clear()\n",
    "\n",
    "    # Get cpu model\n",
    "    model = sim_hist.model.cpu_model\n",
    "\n",
    "    # Plot setup\n",
    "    env_shape = model.cpu_model.state_grid.shape\n",
    "    ax.set_xlim(0, env_shape[1])\n",
    "    ax.set_ylim(env_shape[0], 0)\n",
    "\n",
    "    # Start\n",
    "    start_coord = sim_hist.grid_point_sequence[0]\n",
    "    ax.scatter(start_coord[1], start_coord[0], c='green', label='Start')\n",
    "\n",
    "    # Goal\n",
    "    goal_coord = np.array([np.argwhere(model.state_grid == g)[0].tolist() for g in model.end_states])\n",
    "    ax.scatter(goal_coord[:,1], goal_coord[:,0], c='red', label='Goal')\n",
    "\n",
    "    # Until step\n",
    "    seq = np.array(sim_hist.grid_point_sequence)\n",
    "    if until_step < 0:\n",
    "        until_step = len(seq) - 1\n",
    "\n",
    "    # Plot background\n",
    "    if until_step < len(sim_hist.actions):\n",
    "        if sim_hist.actions[until_step] == 5:\n",
    "            ax.imshow(nose_resized[until_step], zorder=-2, alpha=0.7, cmap='Oranges')\n",
    "        else:\n",
    "            ax.imshow(ground_resized[until_step], zorder=-2, alpha=0.7, cmap='Blues')\n",
    "\n",
    "    # Path\n",
    "    ax.plot(seq[:until_step+1,1], seq[:until_step+1,0], zorder=-1, c='black', label='Path')\n",
    "\n",
    "    # Something sensed\n",
    "    something_obs_id = model.observation_labels.index('something')\n",
    "    obs_ts = np.where(np.array(sim_hist.observations[:until_step]) == something_obs_id)\n",
    "    points_obs = seq[obs_ts[0],:]\n",
    "    ax.scatter(points_obs[:,1], points_obs[:,0], zorder=1, label='Something observed')\n",
    "\n",
    "    # Points sniff\n",
    "    sniff_air_action_id = -1\n",
    "    for i, al in enumerate(model.action_labels):\n",
    "        if 'air' in al.lower():\n",
    "            sniff_air_action_id = i\n",
    "    sniff_in_air = np.where(np.array(sim_hist.actions[:until_step]) == sniff_air_action_id)\n",
    "    points_sniff = seq[sniff_in_air[0],:]\n",
    "    if len(points_sniff) > 0:\n",
    "        ax.scatter(points_sniff[:,1], points_sniff[:,0], zorder=2, marker='x', label='Sniff in the air')\n",
    "\n",
    "    # Generate legend\n",
    "    ax.legend(title=f'Frame: {until_step}', loc='upper right')"
   ]
  },
  {
   "cell_type": "code",
   "execution_count": 24,
   "metadata": {},
   "outputs": [
    {
     "data": {
      "image/png": "[encoded data removed]",
      "text/plain": [
       "<Figure size 1800x300 with 1 Axes>"
      ]
     },
     "metadata": {},
     "output_type": "display_data"
    }
   ],
   "source": [
    "fig = plt.figure(figsize=(18,3))\n",
    "ax = plt.gca()\n",
    "steps = len(hist.states)\n",
    "\n",
    "ani = animation.FuncAnimation(fig, (lambda frame_i: plot_steps_mod(hist, until_step=frame_i, ax=ax)), frames=steps, interval=1, repeat=False)\n",
    "\n",
    "writervideo = animation.FFMpegWriter(fps=20)\n",
    "ani.save('./Sim Videos/' + 'real_sim.mp4', writer=writervideo)"
   ]
  }
 ],
 "metadata": {
  "kernelspec": {
   "display_name": "pomdp_olf_nav_env",
   "language": "python",
   "name": "python3"
  },
  "language_info": {
   "codemirror_mode": {
    "name": "ipython",
    "version": 3
   },
   "file_extension": ".py",
   "mimetype": "text/x-python",
   "name": "python",
   "nbconvert_exporter": "python",
   "pygments_lexer": "ipython3",
   "version": "3.11.5"
  }
 },
 "nbformat": 4,
 "nbformat_minor": 2
}
