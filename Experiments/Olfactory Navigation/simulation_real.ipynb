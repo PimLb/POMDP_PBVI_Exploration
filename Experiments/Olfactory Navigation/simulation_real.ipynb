{
 "cells": [
  {
   "cell_type": "code",
   "execution_count": 1,
   "metadata": {},
   "outputs": [],
   "source": [
    "import numpy as np\n",
    "import cv2\n",
    "import h5py\n",
    "import time\n",
    "\n",
    "import matplotlib.pyplot as plt\n",
    "from tqdm.notebook import trange"
   ]
  },
  {
   "cell_type": "markdown",
   "metadata": {},
   "source": [
    "# Loading simulation data"
   ]
  },
  {
   "cell_type": "code",
   "execution_count": 2,
   "metadata": {},
   "outputs": [
    {
     "name": "stdout",
     "output_type": "stream",
     "text": [
      "[--] Data read in 47.627s!\n"
     ]
    }
   ],
   "source": [
    "f = h5py.File(\"/storage/rando/data/nose_data.mat\")\n",
    "reading_time = time.time()\n",
    "nose_data = np.asarray(f[\"nose\"])\n",
    "reading_time = time.time() - reading_time\n",
    "print(\"[--] Data read in {}s!\".format(round(reading_time, 4)))\n",
    "f.close()"
   ]
  },
  {
   "cell_type": "code",
   "execution_count": 3,
   "metadata": {},
   "outputs": [
    {
     "name": "stdout",
     "output_type": "stream",
     "text": [
      "[--] Data read in 48.6786s!\n"
     ]
    }
   ],
   "source": [
    "f = h5py.File(\"/storage/rando/data/ground_data.mat\")\n",
    "reading_time = time.time()\n",
    "ground_data = np.asarray(f[\"ground\"])\n",
    "reading_time = time.time() - reading_time\n",
    "print(\"[--] Data read in {}s!\".format(round(reading_time, 4)))\n",
    "f.close()"
   ]
  },
  {
   "cell_type": "markdown",
   "metadata": {},
   "source": [
    "# Resizing data and treshold"
   ]
  },
  {
   "cell_type": "code",
   "execution_count": 4,
   "metadata": {},
   "outputs": [],
   "source": [
    "tresh = 3e-6"
   ]
  },
  {
   "cell_type": "code",
   "execution_count": 5,
   "metadata": {},
   "outputs": [
    {
     "data": {
      "application/vnd.jupyter.widget-view+json": {
       "model_id": "c9d59628aae84b12af152c5bfe4687cd",
       "version_major": 2,
       "version_minor": 0
      },
      "text/plain": [
       "  0%|          | 0/2600 [00:00<?, ?it/s]"
      ]
     },
     "metadata": {},
     "output_type": "display_data"
    }
   ],
   "source": [
    "nose_resized = []\n",
    "for i in trange(nose_data.shape[0]):\n",
    "    arr = np.zeros((61,361))\n",
    "    arr[15:46,60:181] = cv2.resize(nose_data[i], dsize=(121,31))\n",
    "    nose_resized.append(arr)\n",
    "\n",
    "nose_resized = np.array(nose_resized) > tresh"
   ]
  },
  {
   "cell_type": "code",
   "execution_count": 6,
   "metadata": {},
   "outputs": [
    {
     "data": {
      "application/vnd.jupyter.widget-view+json": {
       "model_id": "b3da38423b8f4ce19559024a2486c492",
       "version_major": 2,
       "version_minor": 0
      },
      "text/plain": [
       "  0%|          | 0/2600 [00:00<?, ?it/s]"
      ]
     },
     "metadata": {},
     "output_type": "display_data"
    }
   ],
   "source": [
    "ground_resized = []\n",
    "for i in trange(ground_data.shape[0]):\n",
    "    arr = np.zeros((61,361))\n",
    "    arr[15:46,60:181] = cv2.resize(ground_data[i], dsize=(121,31))\n",
    "    ground_resized.append(arr)\n",
    "\n",
    "ground_resized = np.array(ground_resized) > tresh"
   ]
  },
  {
   "cell_type": "markdown",
   "metadata": {},
   "source": [
    "# Overwriting Simulation"
   ]
  },
  {
   "cell_type": "code",
   "execution_count": 7,
   "metadata": {},
   "outputs": [],
   "source": [
    "import sys\n",
    "sys.path.append('../..')\n",
    "from src.pomdp import *"
   ]
  },
  {
   "cell_type": "code",
   "execution_count": 21,
   "metadata": {},
   "outputs": [],
   "source": [
    "class RealSimulation(Simulation):\n",
    "    def __init__(self, model: Model) -> None:\n",
    "        self.iter = None\n",
    "        super().__init__(model)\n",
    "\n",
    "\n",
    "    def initialize_simulation(self, start_state: int | None = None) -> int:\n",
    "        self.iter = 0\n",
    "        return super().initialize_simulation(start_state)\n",
    "\n",
    "\n",
    "    def run_action(self, a: int) -> tuple[int | float, int]:\n",
    "        r,_ = super().run_action(a)\n",
    "\n",
    "        x,y = self.model.get_coords(self.agent_state)\n",
    "        o = 1 if (nose_resized if a == 5 else ground_resized)[self.iter, x, y] else 0\n",
    "\n",
    "        self.iter += 1\n",
    "        return (r,o)"
   ]
  },
  {
   "cell_type": "markdown",
   "metadata": {},
   "source": [
    "# Gather model and VF"
   ]
  },
  {
   "cell_type": "code",
   "execution_count": 11,
   "metadata": {},
   "outputs": [],
   "source": [
    "model = Model.load_from_file('./Models/Alt_Wrap_GroundAir.pck')\n",
    "vf = ValueFunction.load_from_file('./Test_GroundAir_FSVI_300it_100exp_099g_e6eps_20run_20231121_165329/ValueFunctions/run-3-VF.gzip', model)"
   ]
  },
  {
   "cell_type": "markdown",
   "metadata": {},
   "source": [
    "# Simulation"
   ]
  },
  {
   "cell_type": "code",
   "execution_count": 22,
   "metadata": {},
   "outputs": [],
   "source": [
    "a = Agent(model, vf)"
   ]
  },
  {
   "cell_type": "code",
   "execution_count": 28,
   "metadata": {},
   "outputs": [
    {
     "data": {
      "application/vnd.jupyter.widget-view+json": {
       "model_id": "f278a212059a471ea43e53c2bf5963f5",
       "version_major": 2,
       "version_minor": 0
      },
      "text/plain": [
       "  0%|          | 0/1000 [00:00<?, ?it/s]"
      ]
     },
     "metadata": {},
     "output_type": "display_data"
    },
    {
     "name": "stdout",
     "output_type": "stream",
     "text": [
      "Simulation done:\n",
      "\t- Runtime (s): 35.678043\n",
      "\t- Steps: 440\n",
      "\t- Total rewards: 1.0\n",
      "\t- End state: s_30_60\n"
     ]
    }
   ],
   "source": [
    "hist = a.simulate(RealSimulation(model))"
   ]
  },
  {
   "cell_type": "markdown",
   "metadata": {},
   "source": [
    "# Plot Result"
   ]
  },
  {
   "cell_type": "code",
   "execution_count": 24,
   "metadata": {},
   "outputs": [],
   "source": [
    "from viz_functions import plot_steps"
   ]
  },
  {
   "cell_type": "code",
   "execution_count": 29,
   "metadata": {},
   "outputs": [
    {
     "data": {
      "image/png": "[encoded data removed]",
      "text/plain": [
       "<Figure size 1800x300 with 1 Axes>"
      ]
     },
     "metadata": {},
     "output_type": "display_data"
    }
   ],
   "source": [
    "plot_steps(hist)"
   ]
  }
 ],
 "metadata": {
  "kernelspec": {
   "display_name": "pomdp_olf_nav_env",
   "language": "python",
   "name": "python3"
  },
  "language_info": {
   "codemirror_mode": {
    "name": "ipython",
    "version": 3
   },
   "file_extension": ".py",
   "mimetype": "text/x-python",
   "name": "python",
   "nbconvert_exporter": "python",
   "pygments_lexer": "ipython3",
   "version": "3.11.5"
  }
 },
 "nbformat": 4,
 "nbformat_minor": 2
}
