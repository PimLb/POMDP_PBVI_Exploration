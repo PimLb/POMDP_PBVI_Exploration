{
 "cells": [
  {
   "cell_type": "code",
   "execution_count": 1,
   "metadata": {},
   "outputs": [],
   "source": [
    "import sys\n",
    "sys.path.append('../..')\n",
    "from src.pomdp import *\n",
    "\n",
    "import pandas as pd\n",
    "import numpy as np\n",
    "import cupy as cp\n",
    "import cv2"
   ]
  },
  {
   "cell_type": "code",
   "execution_count": 2,
   "metadata": {},
   "outputs": [],
   "source": [
    "# from cupy.cuda import runtime as cuda_runtime\n",
    "# cuda_runtime.setDevice(1)"
   ]
  },
  {
   "cell_type": "markdown",
   "metadata": {},
   "source": [
    "# Model definition"
   ]
  },
  {
   "cell_type": "code",
   "execution_count": 3,
   "metadata": {},
   "outputs": [
    {
     "name": "stdout",
     "output_type": "stream",
     "text": [
      "Environment shape: [61, 361]\n",
      "State count: 22021\n"
     ]
    }
   ],
   "source": [
    "env_x = [-2,10]\n",
    "env_y = [-1,1]\n",
    "points_per_unit = 30\n",
    "\n",
    "width = ((env_x[1] - env_x[0]) * points_per_unit) + 1\n",
    "height = ((env_y[1] - env_y[0]) * points_per_unit) + 1\n",
    "\n",
    "env_shape = [height, width]\n",
    "state_count = width * height\n",
    "print(f'Environment shape: {env_shape}')\n",
    "print(f'State count: {state_count}')"
   ]
  },
  {
   "cell_type": "code",
   "execution_count": 4,
   "metadata": {},
   "outputs": [],
   "source": [
    "# Data loading\n",
    "nose_data = pd.read_csv('./Data/statistics_abs_nose_3e6.dat', sep=' ', skiprows=[0], names=list(range(320)), index_col=False).to_numpy().T\n",
    "ground_data = pd.read_csv('./Data/statistics_abs_ground_3e6.dat', sep=' ', skiprows=[0], names=list(range(320)), index_col=False).to_numpy().T\n",
    "\n",
    "nose_data = cv2.resize(nose_data, dsize=((4 * points_per_unit) + 1, points_per_unit + 1))\n",
    "ground_data = cv2.resize(ground_data, dsize=((4 * points_per_unit) + 1, points_per_unit + 1))\n",
    "\n",
    "nose_data_padded = np.zeros(env_shape)\n",
    "nose_data_padded[15:46, 60:181] = nose_data\n",
    "\n",
    "ground_data_padded = np.zeros(env_shape)\n",
    "ground_data_padded[15:46, 60:181] = ground_data\n",
    "\n",
    "nose_data = nose_data_padded\n",
    "ground_data = ground_data_padded"
   ]
  },
  {
   "cell_type": "code",
   "execution_count": 5,
   "metadata": {},
   "outputs": [
    {
     "name": "stdout",
     "output_type": "stream",
     "text": [
      "Goal state: 10890\n"
     ]
    }
   ],
   "source": [
    "# goal state\n",
    "goal_state_coords = [30,60]\n",
    "goal_state = (goal_state_coords[0] * env_shape[1]) + goal_state_coords[1]\n",
    "\n",
    "print(f'Goal state: {goal_state}')"
   ]
  },
  {
   "cell_type": "code",
   "execution_count": 6,
   "metadata": {},
   "outputs": [
    {
     "data": {
      "text/plain": [
       "<matplotlib.collections.PathCollection at 0x20a7fad2490>"
      ]
     },
     "execution_count": 6,
     "metadata": {},
     "output_type": "execute_result"
    },
    {
     "data": {
      "image/png": "[encoded data removed]",
      "text/plain": [
       "<Figure size 1000x2000 with 1 Axes>"
      ]
     },
     "metadata": {},
     "output_type": "display_data"
    }
   ],
   "source": [
    "plt.figure(figsize=(10,20))\n",
    "plt.imshow(ground_data)\n",
    "plt.scatter(goal_state_coords[1], goal_state_coords[0], c='red',s=1)"
   ]
  },
  {
   "cell_type": "code",
   "execution_count": 7,
   "metadata": {},
   "outputs": [],
   "source": [
    "# observation matrix\n",
    "observations = np.empty((state_count, 6, 3)) # 6-actions, 3-observations\n",
    "\n",
    "# obs 0: Nothing observed, obs 1: Something observed, obs 2: source found\n",
    "\n",
    "observations[:,:5,0] = (1 - ground_data.ravel()[:,None])\n",
    "observations[:,:5,1] = ground_data.ravel()[:,None]\n",
    "\n",
    "observations[:,5,0] = (1 - nose_data.ravel())\n",
    "observations[:,5,1] = nose_data.ravel()\n",
    "\n",
    "# Detection of goal\n",
    "observations[:,:,2] = 0.0\n",
    "observations[goal_state,:,:] = 0.0\n",
    "observations[goal_state,:,2] = 1.0"
   ]
  },
  {
   "cell_type": "code",
   "execution_count": 8,
   "metadata": {},
   "outputs": [],
   "source": [
    "# states\n",
    "state_grid = []\n",
    "\n",
    "# State labels\n",
    "for i in range(env_shape[0]):\n",
    "    i_states = []\n",
    "    for j in range(env_shape[1]):\n",
    "        i_states.append(f's_{i}_{j}')\n",
    "\n",
    "    state_grid.append(i_states)"
   ]
  },
  {
   "cell_type": "code",
   "execution_count": 9,
   "metadata": {},
   "outputs": [],
   "source": [
    "# Reachable states\n",
    "row_w = env_shape[1]\n",
    "\n",
    "reachable_states = np.zeros((state_count, 6, 1), dtype=int)\n",
    "for s in range(state_count):\n",
    "    reachable_states[s,0,0] = s - row_w if s - row_w >= 0 else s # North\n",
    "    reachable_states[s,1,0] = s + 1 if (s + 1) % row_w > 0 else s # East\n",
    "    reachable_states[s,2,0] = s + row_w if s + row_w < state_count else s # South\n",
    "    reachable_states[s,3,0] = s - 1 if (s - 1) % row_w < (row_w - 1) else s # West\n",
    "    reachable_states[s,4,0] = s # Doesn't move and sniff ground\n",
    "    reachable_states[s,5,0] = s # Doesn't move and sniff air\n",
    "\n",
    "reachable_states = np.array(reachable_states)"
   ]
  },
  {
   "cell_type": "code",
   "execution_count": 10,
   "metadata": {},
   "outputs": [],
   "source": [
    "# Reward function\n",
    "def reward_func(s,a,sn,o):\n",
    "    return np.where(sn == goal_state, 1.0, 0.0)"
   ]
  },
  {
   "cell_type": "code",
   "execution_count": 11,
   "metadata": {},
   "outputs": [],
   "source": [
    "# Start belief\n",
    "start = np.zeros(env_shape)\n",
    "start[15:46,60:316] = 1.0\n",
    "start /= np.sum(start)"
   ]
  },
  {
   "cell_type": "code",
   "execution_count": 12,
   "metadata": {},
   "outputs": [
    {
     "name": "stdout",
     "output_type": "stream",
     "text": [
      "[11/14/2023, 15:25:03] Instantiation of MDP Model:\n",
      "[11/14/2023, 15:25:03] - 22021 states\n",
      "[11/14/2023, 15:25:03] - 6 actions\n",
      "[11/14/2023, 15:25:03] - At most 1 reachable states per state-action pair\n",
      "[11/14/2023, 15:25:03] - Starting generation of transitions table\n",
      "[Warning] No transition matrix or function provided but reachable states are, so probability to reach any reachable states will \"1 / reachable state count\" so here: 1.000.\n",
      "[11/14/2023, 15:25:03]     > Done in 0.000s\n",
      "[11/14/2023, 15:25:03] - Generation of state grid\n",
      "[11/14/2023, 15:25:03] - Generating start probabilities table\n",
      "[11/14/2023, 15:25:03] - Starting computation of reachable state probabilities from transition data\n",
      "[11/14/2023, 15:25:03]     > Done in 0.001s\n",
      "[11/14/2023, 15:25:03] POMDP particular parameters:\n",
      "[11/14/2023, 15:25:03] - 3 observations\n",
      "[11/14/2023, 15:25:03] - Starting of transitional observations for reachable states table\n",
      "[11/14/2023, 15:25:03]     > Done in 0.005s\n",
      "[11/14/2023, 15:25:03] - Starting generation of expected rewards table\n",
      "[11/14/2023, 15:25:03]     > Done in 0.020s\n"
     ]
    }
   ],
   "source": [
    "model = Model(\n",
    "    states=state_grid,\n",
    "    actions=['N','E','S','W','O_Ground','O_Air'],\n",
    "    observations=['nothing','something','goal'],\n",
    "    reachable_states=reachable_states,\n",
    "    rewards=reward_func,\n",
    "    observation_table=observations,\n",
    "    end_states=[goal_state],\n",
    "    start_probabilities=start.ravel()\n",
    ")"
   ]
  },
  {
   "cell_type": "markdown",
   "metadata": {},
   "source": [
    "# MDP solving"
   ]
  },
  {
   "cell_type": "code",
   "execution_count": 13,
   "metadata": {},
   "outputs": [],
   "source": [
    "from src.mdp import VI_Solver"
   ]
  },
  {
   "cell_type": "code",
   "execution_count": 14,
   "metadata": {},
   "outputs": [],
   "source": [
    "solver = VI_Solver(eps=1e-4)"
   ]
  },
  {
   "cell_type": "code",
   "execution_count": 15,
   "metadata": {},
   "outputs": [
    {
     "name": "stdout",
     "output_type": "stream",
     "text": [
      "[11/14/2023, 15:25:03] Sending Model to GPU...\n",
      "[11/14/2023, 15:25:04]     > Done in 1.287s\n"
     ]
    },
    {
     "data": {
      "application/vnd.jupyter.widget-view+json": {
       "model_id": "af8d41d975b442ddb40551c7b73c9836",
       "version_major": 2,
       "version_minor": 0
      },
      "text/plain": [
       "  0%|          | 0/10000 [00:00<?, ?it/s]"
      ]
     },
     "metadata": {},
     "output_type": "display_data"
    },
    {
     "name": "stdout",
     "output_type": "stream",
     "text": [
      "Summary of Value Iteration run\n",
      "  - Model: 22021-state, 6-action\n",
      "  - Converged in 460 iterations and 1.1013 seconds\n",
      "  - Took on average 0.0024s per iteration\n"
     ]
    }
   ],
   "source": [
    "mdp_solution, history = solver.solve(model, use_gpu=True)\n",
    "print(history.summary)"
   ]
  },
  {
   "cell_type": "code",
   "execution_count": 16,
   "metadata": {},
   "outputs": [
    {
     "name": "stdout",
     "output_type": "stream",
     "text": [
      "[Warning] Value function on GPU, converting to numpy before plotting...\n",
      "[Warning] 'as_grid' parameter set to False but state count is >3 so it will be plotted as a grid\n"
     ]
    },
    {
     "data": {
      "image/png": "[encoded data removed]",
      "text/plain": [
       "<Figure size 1000x500 with 3 Axes>"
      ]
     },
     "metadata": {},
     "output_type": "display_data"
    }
   ],
   "source": [
    "mdp_solution.plot()"
   ]
  },
  {
   "cell_type": "markdown",
   "metadata": {},
   "source": [
    "# FSVI Solving"
   ]
  },
  {
   "cell_type": "code",
   "execution_count": 17,
   "metadata": {},
   "outputs": [],
   "source": [
    "fsvi_solver = FSVI_Solver(0.99, eps=1e-6)"
   ]
  },
  {
   "cell_type": "code",
   "execution_count": 18,
   "metadata": {},
   "outputs": [
    {
     "data": {
      "application/vnd.jupyter.widget-view+json": {
       "model_id": "9527b7777db642e6b526a6f985506f71",
       "version_major": 2,
       "version_minor": 0
      },
      "text/plain": [
       "Expansions:   0%|          | 0/300 [00:00<?, ?it/s]"
      ]
     },
     "metadata": {},
     "output_type": "display_data"
    },
    {
     "name": "stdout",
     "output_type": "stream",
     "text": [
      "[11/13/2023, 18:21:03] Horizon reached before goal...\n",
      "[11/13/2023, 18:21:04] Horizon reached before goal...\n",
      "[11/13/2023, 18:21:05] Horizon reached before goal...\n",
      "[11/13/2023, 18:21:05] Horizon reached before goal...\n",
      "[11/13/2023, 18:21:05] Horizon reached before goal...\n",
      "[11/13/2023, 18:21:05] Horizon reached before goal...\n",
      "[11/13/2023, 18:21:05] Horizon reached before goal...\n",
      "[11/13/2023, 18:21:05] Horizon reached before goal...\n",
      "[11/13/2023, 18:21:05] Horizon reached before goal...\n",
      "[11/13/2023, 18:21:05] Horizon reached before goal...\n",
      "[11/13/2023, 18:21:06] Horizon reached before goal...\n",
      "[11/13/2023, 18:21:06] Horizon reached before goal...\n",
      "[11/13/2023, 18:21:06] Horizon reached before goal...\n",
      "[11/13/2023, 18:21:06] Horizon reached before goal...\n",
      "[11/13/2023, 18:21:06] Horizon reached before goal...\n",
      "[11/13/2023, 18:21:07] Horizon reached before goal...\n",
      "[11/13/2023, 18:21:07] Horizon reached before goal...\n",
      "[11/13/2023, 18:21:07] Horizon reached before goal...\n",
      "[11/13/2023, 18:21:07] Horizon reached before goal...\n",
      "[11/13/2023, 18:21:07] Horizon reached before goal...\n",
      "[11/13/2023, 18:21:07] Horizon reached before goal...\n",
      "[11/13/2023, 18:21:07] Horizon reached before goal...\n",
      "[11/13/2023, 18:21:07] Horizon reached before goal...\n",
      "[11/13/2023, 18:21:07] Horizon reached before goal...\n",
      "[11/13/2023, 18:21:08] Horizon reached before goal...\n",
      "[11/13/2023, 18:21:08] Horizon reached before goal...\n",
      "[11/13/2023, 18:21:08] Horizon reached before goal...\n",
      "[11/13/2023, 18:21:08] Horizon reached before goal...\n",
      "[11/13/2023, 18:21:08] Horizon reached before goal...\n",
      "[11/13/2023, 18:21:09] Horizon reached before goal...\n",
      "[11/13/2023, 18:21:09] Horizon reached before goal...\n",
      "[11/13/2023, 18:21:09] Horizon reached before goal...\n",
      "[11/13/2023, 18:21:09] Horizon reached before goal...\n",
      "[11/13/2023, 18:21:09] Horizon reached before goal...\n",
      "[11/13/2023, 18:21:10] Horizon reached before goal...\n",
      "[11/13/2023, 18:21:10] Horizon reached before goal...\n",
      "[11/13/2023, 18:21:10] Horizon reached before goal...\n",
      "[11/13/2023, 18:21:10] Horizon reached before goal...\n",
      "[11/13/2023, 18:21:10] Horizon reached before goal...\n",
      "[11/13/2023, 18:21:11] Horizon reached before goal...\n",
      "[11/13/2023, 18:21:11] Horizon reached before goal...\n",
      "[11/13/2023, 18:21:12] Horizon reached before goal...\n",
      "[11/13/2023, 18:21:12] Horizon reached before goal...\n",
      "[11/13/2023, 18:21:12] Horizon reached before goal...\n",
      "[11/13/2023, 18:21:12] Horizon reached before goal...\n",
      "[11/13/2023, 18:21:13] Horizon reached before goal...\n",
      "[11/13/2023, 18:21:13] Horizon reached before goal...\n",
      "[11/13/2023, 18:21:14] Horizon reached before goal...\n",
      "[11/13/2023, 18:21:14] Horizon reached before goal...\n",
      "[11/13/2023, 18:21:15] Horizon reached before goal...\n",
      "[11/13/2023, 18:21:15] Horizon reached before goal...\n",
      "[11/13/2023, 18:21:15] Horizon reached before goal...\n",
      "[11/13/2023, 18:21:16] Horizon reached before goal...\n",
      "[11/13/2023, 18:21:16] Horizon reached before goal...\n",
      "[11/13/2023, 18:21:17] Horizon reached before goal...\n",
      "[11/13/2023, 18:21:17] Horizon reached before goal...\n",
      "[11/13/2023, 18:21:17] Horizon reached before goal...\n",
      "[11/13/2023, 18:21:19] Horizon reached before goal...\n",
      "[11/13/2023, 18:21:19] Horizon reached before goal...\n",
      "[11/13/2023, 18:21:20] Horizon reached before goal...\n",
      "[11/13/2023, 18:21:20] Horizon reached before goal...\n",
      "[11/13/2023, 18:21:20] Horizon reached before goal...\n",
      "[11/13/2023, 18:21:20] Horizon reached before goal...\n",
      "[11/13/2023, 18:21:22] Horizon reached before goal...\n",
      "[11/13/2023, 18:21:22] Horizon reached before goal...\n",
      "[11/13/2023, 18:21:22] Horizon reached before goal...\n",
      "[11/13/2023, 18:21:22] Horizon reached before goal...\n",
      "[11/13/2023, 18:21:24] Horizon reached before goal...\n",
      "[11/13/2023, 18:21:25] Horizon reached before goal...\n",
      "[11/13/2023, 18:21:25] Horizon reached before goal...\n",
      "[11/13/2023, 18:21:25] Horizon reached before goal...\n",
      "[11/13/2023, 18:21:26] Horizon reached before goal...\n",
      "[11/13/2023, 18:21:26] Horizon reached before goal...\n",
      "[11/13/2023, 18:21:27] Horizon reached before goal...\n",
      "[11/13/2023, 18:21:27] Horizon reached before goal...\n",
      "[11/13/2023, 18:21:29] Horizon reached before goal...\n",
      "[11/13/2023, 18:21:30] Horizon reached before goal...\n",
      "[11/13/2023, 18:21:31] Horizon reached before goal...\n",
      "[11/13/2023, 18:21:31] Horizon reached before goal...\n",
      "[11/13/2023, 18:21:33] Horizon reached before goal...\n",
      "[11/13/2023, 18:21:33] Horizon reached before goal...\n",
      "[11/13/2023, 18:21:34] Horizon reached before goal...\n",
      "[11/13/2023, 18:21:34] Horizon reached before goal...\n",
      "[11/13/2023, 18:21:35] Horizon reached before goal...\n",
      "[11/13/2023, 18:21:35] Horizon reached before goal...\n",
      "[11/13/2023, 18:21:36] Horizon reached before goal...\n",
      "[11/13/2023, 18:21:37] Horizon reached before goal...\n",
      "[11/13/2023, 18:21:37] Horizon reached before goal...\n",
      "[11/13/2023, 18:21:38] Horizon reached before goal...\n",
      "[11/13/2023, 18:21:39] Horizon reached before goal...\n",
      "[11/13/2023, 18:21:39] Horizon reached before goal...\n",
      "[11/13/2023, 18:21:41] Horizon reached before goal...\n",
      "[11/13/2023, 18:21:41] Horizon reached before goal...\n",
      "[11/13/2023, 18:21:43] Horizon reached before goal...\n",
      "[11/13/2023, 18:21:43] Horizon reached before goal...\n",
      "[11/13/2023, 18:21:44] Horizon reached before goal...\n",
      "[11/13/2023, 18:21:45] Horizon reached before goal...\n",
      "[11/13/2023, 18:21:48] Horizon reached before goal...\n",
      "[11/13/2023, 18:21:48] Horizon reached before goal...\n",
      "[11/13/2023, 18:21:49] Horizon reached before goal...\n",
      "[11/13/2023, 18:21:51] Horizon reached before goal...\n",
      "[11/13/2023, 18:21:51] Horizon reached before goal...\n",
      "[11/13/2023, 18:21:52] Horizon reached before goal...\n",
      "[11/13/2023, 18:21:54] Horizon reached before goal...\n",
      "[11/13/2023, 18:21:56] Horizon reached before goal...\n",
      "[11/13/2023, 18:21:56] Horizon reached before goal...\n",
      "[11/13/2023, 18:21:58] Horizon reached before goal...\n",
      "[11/13/2023, 18:22:00] Horizon reached before goal...\n",
      "[11/13/2023, 18:22:00] Horizon reached before goal...\n",
      "[11/13/2023, 18:22:01] Horizon reached before goal...\n",
      "[11/13/2023, 18:22:02] Horizon reached before goal...\n",
      "[11/13/2023, 18:22:02] Horizon reached before goal...\n",
      "[11/13/2023, 18:22:04] Horizon reached before goal...\n",
      "[11/13/2023, 18:22:04] Horizon reached before goal...\n",
      "[11/13/2023, 18:22:04] Horizon reached before goal...\n",
      "[11/13/2023, 18:22:06] Horizon reached before goal...\n",
      "[11/13/2023, 18:22:06] Horizon reached before goal...\n",
      "[11/13/2023, 18:22:08] Horizon reached before goal...\n",
      "[11/13/2023, 18:22:09] Horizon reached before goal...\n",
      "[11/13/2023, 18:22:09] Horizon reached before goal...\n",
      "[11/13/2023, 18:22:10] Horizon reached before goal...\n",
      "[11/13/2023, 18:22:11] Horizon reached before goal...\n",
      "[11/13/2023, 18:22:12] Horizon reached before goal...\n",
      "[11/13/2023, 18:22:14] Horizon reached before goal...\n",
      "[11/13/2023, 18:22:15] Horizon reached before goal...\n",
      "[11/13/2023, 18:22:17] Horizon reached before goal...\n",
      "[11/13/2023, 18:22:18] Horizon reached before goal...\n",
      "[11/13/2023, 18:22:18] Horizon reached before goal...\n",
      "[11/13/2023, 18:22:20] Horizon reached before goal...\n",
      "[11/13/2023, 18:22:20] Horizon reached before goal...\n",
      "[11/13/2023, 18:22:22] Horizon reached before goal...\n",
      "[11/13/2023, 18:22:23] Horizon reached before goal...\n",
      "[11/13/2023, 18:22:25] Horizon reached before goal...\n",
      "[11/13/2023, 18:22:25] Horizon reached before goal...\n",
      "[11/13/2023, 18:22:27] Horizon reached before goal...\n",
      "[11/13/2023, 18:22:28] Horizon reached before goal...\n",
      "[11/13/2023, 18:22:29] Horizon reached before goal...\n",
      "[11/13/2023, 18:22:30] Horizon reached before goal...\n",
      "[11/13/2023, 18:22:30] Horizon reached before goal...\n",
      "[11/13/2023, 18:22:32] Horizon reached before goal...\n",
      "[11/13/2023, 18:22:32] Horizon reached before goal...\n",
      "[11/13/2023, 18:22:37] Horizon reached before goal...\n",
      "[11/13/2023, 18:22:38] Horizon reached before goal...\n",
      "[11/13/2023, 18:22:40] Horizon reached before goal...\n",
      "[11/13/2023, 18:22:44] Horizon reached before goal...\n",
      "[11/13/2023, 18:22:44] Horizon reached before goal...\n",
      "[11/13/2023, 18:22:45] Horizon reached before goal...\n",
      "[11/13/2023, 18:22:47] Horizon reached before goal...\n",
      "[11/13/2023, 18:22:49] Horizon reached before goal...\n",
      "[11/13/2023, 18:22:51] Horizon reached before goal...\n",
      "[11/13/2023, 18:22:51] Horizon reached before goal...\n",
      "[11/13/2023, 18:22:52] Horizon reached before goal...\n",
      "[11/13/2023, 18:22:52] Horizon reached before goal...\n",
      "[11/13/2023, 18:22:54] Horizon reached before goal...\n",
      "[11/13/2023, 18:22:54] Horizon reached before goal...\n",
      "[11/13/2023, 18:22:56] Horizon reached before goal...\n",
      "[11/13/2023, 18:22:58] Horizon reached before goal...\n",
      "[11/13/2023, 18:22:58] Horizon reached before goal...\n",
      "[11/13/2023, 18:23:00] Horizon reached before goal...\n",
      "[11/13/2023, 18:23:00] Horizon reached before goal...\n",
      "[11/13/2023, 18:23:01] Horizon reached before goal...\n",
      "[11/13/2023, 18:23:02] Horizon reached before goal...\n",
      "[11/13/2023, 18:23:03] Horizon reached before goal...\n",
      "[11/13/2023, 18:23:06] Horizon reached before goal...\n",
      "[11/13/2023, 18:23:08] Horizon reached before goal...\n",
      "[11/13/2023, 18:23:09] Horizon reached before goal...\n",
      "[11/13/2023, 18:23:12] Horizon reached before goal...\n",
      "[11/13/2023, 18:23:14] Horizon reached before goal...\n",
      "[11/13/2023, 18:23:15] Horizon reached before goal...\n",
      "[11/13/2023, 18:23:17] Horizon reached before goal...\n",
      "[11/13/2023, 18:23:19] Horizon reached before goal...\n",
      "[11/13/2023, 18:23:23] Horizon reached before goal...\n",
      "[11/13/2023, 18:23:25] Horizon reached before goal...\n",
      "[11/13/2023, 18:23:26] Horizon reached before goal...\n",
      "[11/13/2023, 18:23:27] Horizon reached before goal...\n",
      "[11/13/2023, 18:23:30] Horizon reached before goal...\n",
      "[11/13/2023, 18:23:31] Horizon reached before goal...\n",
      "[11/13/2023, 18:23:32] Horizon reached before goal...\n",
      "[11/13/2023, 18:23:33] Horizon reached before goal...\n",
      "[11/13/2023, 18:23:35] Horizon reached before goal...\n",
      "[11/13/2023, 18:23:37] Horizon reached before goal...\n",
      "[11/13/2023, 18:23:38] Horizon reached before goal...\n",
      "[11/13/2023, 18:23:39] Horizon reached before goal...\n",
      "[11/13/2023, 18:23:42] Horizon reached before goal...\n",
      "[11/13/2023, 18:23:46] Horizon reached before goal...\n",
      "[11/13/2023, 18:23:48] Horizon reached before goal...\n",
      "[11/13/2023, 18:23:50] Horizon reached before goal...\n",
      "[11/13/2023, 18:23:52] Horizon reached before goal...\n",
      "[11/13/2023, 18:23:58] Horizon reached before goal...\n",
      "[11/13/2023, 18:23:59] Horizon reached before goal...\n",
      "[11/13/2023, 18:24:00] Horizon reached before goal...\n",
      "Summary of Value Iteration run\n",
      "  - Model: 22021 state, 6 action, 3 observations\n",
      "  - Converged or stopped after 300 expansion steps and 300 backup steps.\n",
      "  - Resulting value function has 5930 alpha vectors.\n",
      "  - Converged in 177.5551s\n",
      "\n",
      "  - Expand function took on average 0.0556s and yielded on average 84.49 beliefs per iteration. (0.0007s/it/belief)\n",
      "  - Backup function took on average 0.5363s and yielded on average value functions of size 2870.33 per iteration. (0.0007s/it/alpha)\n",
      "  - Pruning function took on average 0.0000s and yielded on average prunings of 0.00 alpha vectors per iteration.\n"
     ]
    }
   ],
   "source": [
    "fsvi_solution, hist = fsvi_solver.solve(model=model,\n",
    "                                        expansions=300,\n",
    "                                        horizon=100,\n",
    "                                        mdp_policy=mdp_solution,\n",
    "                                        belief_memory_depth=10,\n",
    "                                        # prune_level=2, # Useless because of belief domination\n",
    "                                        # prune_interval=25,\n",
    "                                        # history_tracking_level=2,\n",
    "                                        use_gpu=True)\n",
    "print(hist.summary)"
   ]
  },
  {
   "cell_type": "code",
   "execution_count": 20,
   "metadata": {},
   "outputs": [],
   "source": [
    "fsvi_solution.save()"
   ]
  },
  {
   "cell_type": "code",
   "execution_count": 21,
   "metadata": {},
   "outputs": [
    {
     "name": "stdout",
     "output_type": "stream",
     "text": [
      "[Warning] Value function on GPU, converting to numpy before plotting...\n",
      "[Warning] 'as_grid' parameter set to False but state count is >3 so it will be plotted as a grid\n"
     ]
    },
    {
     "data": {
      "image/png": "[encoded data removed]",
      "text/plain": [
       "<Figure size 1000x500 with 3 Axes>"
      ]
     },
     "metadata": {},
     "output_type": "display_data"
    }
   ],
   "source": [
    "fsvi_solution.plot()"
   ]
  },
  {
   "cell_type": "markdown",
   "metadata": {},
   "source": [
    "# Sim"
   ]
  },
  {
   "cell_type": "code",
   "execution_count": 22,
   "metadata": {},
   "outputs": [],
   "source": [
    "a = Agent(model=model, value_function=fsvi_solution)"
   ]
  },
  {
   "cell_type": "code",
   "execution_count": 23,
   "metadata": {},
   "outputs": [
    {
     "data": {
      "application/vnd.jupyter.widget-view+json": {
       "model_id": "afc1e21acffc4bd083a563254b8d2812",
       "version_major": 2,
       "version_minor": 0
      },
      "text/plain": [
       "  0%|          | 0/1000 [00:00<?, ?it/s]"
      ]
     },
     "metadata": {},
     "output_type": "display_data"
    },
    {
     "name": "stdout",
     "output_type": "stream",
     "text": [
      "Simulation done:\n",
      "\t- Runtime (s): 13.844435\n",
      "\t- Steps: 442\n",
      "\t- Total rewards: 1.0\n",
      "\t- End state: s_30_60\n"
     ]
    }
   ],
   "source": [
    "sim_hist = a.simulate(start_state=(300*30)+270)"
   ]
  },
  {
   "cell_type": "code",
   "execution_count": 25,
   "metadata": {},
   "outputs": [
    {
     "name": "stdout",
     "output_type": "stream",
     "text": [
      "Folder does not exist yet, creating it...\n",
      "Video saved at 'Sim Videos/s22021-a6-20231113_182627.mp4'...\n"
     ]
    }
   ],
   "source": [
    "sim_hist.save_simulation_video()"
   ]
  },
  {
   "cell_type": "code",
   "execution_count": 1,
   "metadata": {},
   "outputs": [
    {
     "ename": "NameError",
     "evalue": "name 'sim_hist' is not defined",
     "output_type": "error",
     "traceback": [
      "\u001b[0;31m---------------------------------------------------------------------------\u001b[0m",
      "\u001b[0;31mNameError\u001b[0m                                 Traceback (most recent call last)",
      "\u001b[1;32m/home/arnaud/POMDP_PBVI_Exploration/Experiments/Olfactory Navigation/Olfactory_Alternation_Paper.ipynb Cell 28\u001b[0m line \u001b[0;36m1\n\u001b[0;32m----> <a href='vscode-notebook-cell://ssh-remote%2B10.187.172.7/home/arnaud/POMDP_PBVI_Exploration/Experiments/Olfactory%20Navigation/Olfactory_Alternation_Paper.ipynb#X36sdnNjb2RlLXJlbW90ZQ%3D%3D?line=0'>1</a>\u001b[0m sim_hist\u001b[39m.\u001b[39mplot_simulation_steps()\n",
      "\u001b[0;31mNameError\u001b[0m: name 'sim_hist' is not defined"
     ]
    }
   ],
   "source": [
    "sim_hist.plot_simulation_steps()"
   ]
  }
 ],
 "metadata": {
  "kernelspec": {
   "display_name": "Python 3",
   "language": "python",
   "name": "python3"
  },
  "language_info": {
   "codemirror_mode": {
    "name": "ipython",
    "version": 3
   },
   "file_extension": ".py",
   "mimetype": "text/x-python",
   "name": "python",
   "nbconvert_exporter": "python",
   "pygments_lexer": "ipython3",
   "version": "3.11.4"
  }
 },
 "nbformat": 4,
 "nbformat_minor": 2
}
