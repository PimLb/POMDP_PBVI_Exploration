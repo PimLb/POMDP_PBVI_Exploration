{
 "cells": [
  {
   "cell_type": "code",
   "execution_count": 2,
   "metadata": {},
   "outputs": [],
   "source": [
    "import sys\n",
    "sys.path.append('../..')\n",
    "from src.pomdp import *\n",
    "\n",
    "import pandas as pd\n",
    "import numpy as np\n",
    "import cupy as cp\n",
    "import cv2"
   ]
  },
  {
   "cell_type": "code",
   "execution_count": 3,
   "metadata": {},
   "outputs": [],
   "source": [
    "from cupy.cuda import runtime as cuda_runtime\n",
    "cuda_runtime.setDevice(1)"
   ]
  },
  {
   "cell_type": "markdown",
   "metadata": {},
   "source": [
    "# Model definition"
   ]
  },
  {
   "cell_type": "code",
   "execution_count": 4,
   "metadata": {},
   "outputs": [
    {
     "name": "stdout",
     "output_type": "stream",
     "text": [
      "Environment shape: [61, 361]\n",
      "State count: 22021\n"
     ]
    }
   ],
   "source": [
    "env_x = [-2,10]\n",
    "env_y = [-1,1]\n",
    "points_per_unit = 30\n",
    "\n",
    "width = ((env_x[1] - env_x[0]) * points_per_unit) + 1\n",
    "height = ((env_y[1] - env_y[0]) * points_per_unit) + 1\n",
    "\n",
    "env_shape = [height, width]\n",
    "state_count = width * height\n",
    "print(f'Environment shape: {env_shape}')\n",
    "print(f'State count: {state_count}')"
   ]
  },
  {
   "cell_type": "code",
   "execution_count": 5,
   "metadata": {},
   "outputs": [],
   "source": [
    "# Data loading\n",
    "nose_data = pd.read_csv('./Data/statistics_abs_nose_3e6.dat', sep=' ', skiprows=[0], names=list(range(320)), index_col=False).to_numpy().T\n",
    "ground_data = pd.read_csv('./Data/statistics_abs_ground_3e6.dat', sep=' ', skiprows=[0], names=list(range(320)), index_col=False).to_numpy().T\n",
    "\n",
    "nose_data = cv2.resize(nose_data, dsize=((4 * points_per_unit) + 1, points_per_unit + 1))\n",
    "ground_data = cv2.resize(ground_data, dsize=((4 * points_per_unit) + 1, points_per_unit + 1))\n",
    "\n",
    "nose_data_padded = np.zeros(env_shape)\n",
    "nose_data_padded[15:46, 60:181] = nose_data\n",
    "\n",
    "ground_data_padded = np.zeros(env_shape)\n",
    "ground_data_padded[15:46, 60:181] = ground_data\n",
    "\n",
    "nose_data = nose_data_padded\n",
    "ground_data = ground_data_padded"
   ]
  },
  {
   "cell_type": "code",
   "execution_count": 6,
   "metadata": {},
   "outputs": [
    {
     "name": "stdout",
     "output_type": "stream",
     "text": [
      "Goal state: 10890\n"
     ]
    }
   ],
   "source": [
    "# goal state\n",
    "goal_state_coords = [30,60]\n",
    "goal_state = (goal_state_coords[0] * env_shape[1]) + goal_state_coords[1]\n",
    "\n",
    "print(f'Goal state: {goal_state}')"
   ]
  },
  {
   "cell_type": "code",
   "execution_count": 7,
   "metadata": {},
   "outputs": [
    {
     "data": {
      "text/plain": [
       "<matplotlib.collections.PathCollection at 0x7fca5e6f7110>"
      ]
     },
     "execution_count": 7,
     "metadata": {},
     "output_type": "execute_result"
    },
    {
     "data": {
      "image/png": "[encoded data removed]",
      "text/plain": [
       "<Figure size 1000x2000 with 1 Axes>"
      ]
     },
     "metadata": {},
     "output_type": "display_data"
    }
   ],
   "source": [
    "plt.figure(figsize=(10,20))\n",
    "plt.imshow(ground_data)\n",
    "plt.scatter(goal_state_coords[1], goal_state_coords[0], c='red',s=1)"
   ]
  },
  {
   "cell_type": "code",
   "execution_count": 8,
   "metadata": {},
   "outputs": [],
   "source": [
    "# observation matrix\n",
    "observations = np.empty((state_count, 6, 3)) # 6-actions, 3-observations\n",
    "\n",
    "# obs 0: Nothing observed, obs 1: Something observed, obs 2: source found\n",
    "\n",
    "observations[:,:5,0] = (1 - ground_data.ravel()[:,None])\n",
    "observations[:,:5,1] = ground_data.ravel()[:,None]\n",
    "\n",
    "observations[:,5,0] = (1 - nose_data.ravel())\n",
    "observations[:,5,1] = nose_data.ravel()\n",
    "\n",
    "# Detection of goal\n",
    "observations[:,:,2] = 0.0\n",
    "observations[goal_state,:,:] = 0.0\n",
    "observations[goal_state,:,2] = 1.0"
   ]
  },
  {
   "cell_type": "code",
   "execution_count": 9,
   "metadata": {},
   "outputs": [],
   "source": [
    "# states\n",
    "state_grid = []\n",
    "\n",
    "# State labels\n",
    "for i in range(env_shape[0]):\n",
    "    i_states = []\n",
    "    for j in range(env_shape[1]):\n",
    "        i_states.append(f's_{i}_{j}')\n",
    "\n",
    "    state_grid.append(i_states)"
   ]
  },
  {
   "cell_type": "code",
   "execution_count": 10,
   "metadata": {},
   "outputs": [],
   "source": [
    "# Reachable states\n",
    "row_w = env_shape[1]\n",
    "\n",
    "reachable_states = np.zeros((state_count, 6, 1), dtype=int)\n",
    "for s in range(state_count):\n",
    "    reachable_states[s,0,0] = s - row_w if s - row_w >= 0 else s # North\n",
    "    reachable_states[s,1,0] = s + 1 if (s + 1) % row_w > 0 else s # East\n",
    "    reachable_states[s,2,0] = s + row_w if s + row_w < state_count else s # South\n",
    "    reachable_states[s,3,0] = s - 1 if (s - 1) % row_w < (row_w - 1) else s # West\n",
    "    reachable_states[s,4,0] = s # Doesn't move and sniff ground\n",
    "    reachable_states[s,5,0] = s # Doesn't move and sniff air\n",
    "\n",
    "reachable_states = np.array(reachable_states)"
   ]
  },
  {
   "cell_type": "code",
   "execution_count": 11,
   "metadata": {},
   "outputs": [],
   "source": [
    "# Reward function\n",
    "def reward_func(s,a,sn,o):\n",
    "    return np.where(sn == goal_state, 1.0, 0.0)"
   ]
  },
  {
   "cell_type": "code",
   "execution_count": 12,
   "metadata": {},
   "outputs": [],
   "source": [
    "# Start belief\n",
    "start = np.zeros(env_shape)\n",
    "start[15:46,60:316] = 1.0\n",
    "start /= np.sum(start)"
   ]
  },
  {
   "cell_type": "code",
   "execution_count": 13,
   "metadata": {},
   "outputs": [
    {
     "name": "stdout",
     "output_type": "stream",
     "text": [
      "[11/15/2023, 14:43:23] Instantiation of MDP Model:\n",
      "[11/15/2023, 14:43:23] - 22021 states\n",
      "[11/15/2023, 14:43:23] - 6 actions\n",
      "[11/15/2023, 14:43:23] - At most 1 reachable states per state-action pair\n",
      "[11/15/2023, 14:43:23] - Starting generation of transitions table\n",
      "[Warning] No transition matrix or function provided but reachable states are, so probability to reach any reachable states will \"1 / reachable state count\" so here: 1.000.\n",
      "[11/15/2023, 14:43:23]     > Done in 0.000s\n",
      "[11/15/2023, 14:43:23] - Generation of state grid\n",
      "[11/15/2023, 14:43:23] - Generating start probabilities table\n",
      "[11/15/2023, 14:43:23] - Starting computation of reachable state probabilities from transition data\n",
      "[11/15/2023, 14:43:23]     > Done in 0.000s\n",
      "[11/15/2023, 14:43:23] POMDP particular parameters:\n",
      "[11/15/2023, 14:43:23] - 3 observations\n",
      "[11/15/2023, 14:43:23] - Starting of transitional observations for reachable states table\n",
      "[11/15/2023, 14:43:23]     > Done in 0.007s\n",
      "[11/15/2023, 14:43:23] - Starting generation of expected rewards table\n",
      "[11/15/2023, 14:43:23]     > Done in 0.010s\n"
     ]
    }
   ],
   "source": [
    "model = Model(\n",
    "    states=state_grid,\n",
    "    actions=['N','E','S','W','O_Ground','O_Air'],\n",
    "    observations=['nothing','something','goal'],\n",
    "    reachable_states=reachable_states,\n",
    "    rewards=reward_func,\n",
    "    observation_table=observations,\n",
    "    end_states=[goal_state],\n",
    "    start_probabilities=start.ravel()\n",
    ")"
   ]
  },
  {
   "cell_type": "markdown",
   "metadata": {},
   "source": [
    "# MDP solving"
   ]
  },
  {
   "cell_type": "code",
   "execution_count": 13,
   "metadata": {},
   "outputs": [],
   "source": [
    "from src.mdp import VI_Solver"
   ]
  },
  {
   "cell_type": "code",
   "execution_count": 14,
   "metadata": {},
   "outputs": [],
   "source": [
    "solver = VI_Solver(eps=1e-4)"
   ]
  },
  {
   "cell_type": "code",
   "execution_count": 15,
   "metadata": {},
   "outputs": [
    {
     "name": "stdout",
     "output_type": "stream",
     "text": [
      "[11/14/2023, 16:23:43] Sending Model to GPU...\n",
      "[11/14/2023, 16:23:43]     > Done in 0.263s\n"
     ]
    },
    {
     "data": {
      "application/vnd.jupyter.widget-view+json": {
       "model_id": "f25fa181045c4cbf8ef1ec1edb0bbbfc",
       "version_major": 2,
       "version_minor": 0
      },
      "text/plain": [
       "  0%|          | 0/10000 [00:00<?, ?it/s]"
      ]
     },
     "metadata": {},
     "output_type": "display_data"
    },
    {
     "name": "stdout",
     "output_type": "stream",
     "text": [
      "Summary of Value Iteration run\n",
      "  - Model: 22021-state, 6-action\n",
      "  - Converged in 460 iterations and 0.5860 seconds\n",
      "  - Took on average 0.0013s per iteration\n"
     ]
    }
   ],
   "source": [
    "mdp_solution, history = solver.solve(model, use_gpu=True)\n",
    "print(history.summary)"
   ]
  },
  {
   "cell_type": "code",
   "execution_count": 16,
   "metadata": {},
   "outputs": [
    {
     "name": "stdout",
     "output_type": "stream",
     "text": [
      "[Warning] Value function on GPU, converting to numpy before plotting...\n",
      "[Warning] 'as_grid' parameter set to False but state count is >3 so it will be plotted as a grid\n"
     ]
    },
    {
     "data": {
      "image/png": "[encoded data removed]",
      "text/plain": [
       "<Figure size 1000x500 with 3 Axes>"
      ]
     },
     "metadata": {},
     "output_type": "display_data"
    }
   ],
   "source": [
    "mdp_solution.plot()"
   ]
  },
  {
   "cell_type": "markdown",
   "metadata": {},
   "source": [
    "# FSVI Solving"
   ]
  },
  {
   "cell_type": "code",
   "execution_count": 17,
   "metadata": {},
   "outputs": [],
   "source": [
    "fsvi_solver = FSVI_Solver(0.99, eps=1e-6)"
   ]
  },
  {
   "cell_type": "code",
   "execution_count": 18,
   "metadata": {},
   "outputs": [
    {
     "data": {
      "application/vnd.jupyter.widget-view+json": {
       "model_id": "4a47f3ce18e84d5d85661216bf464599",
       "version_major": 2,
       "version_minor": 0
      },
      "text/plain": [
       "Expansions:   0%|          | 0/300 [00:00<?, ?it/s]"
      ]
     },
     "metadata": {},
     "output_type": "display_data"
    },
    {
     "name": "stdout",
     "output_type": "stream",
     "text": [
      "[11/14/2023, 16:23:44] Horizon reached before goal...\n",
      "[11/14/2023, 16:23:45] Horizon reached before goal...\n",
      "[11/14/2023, 16:23:45] Horizon reached before goal...\n",
      "[11/14/2023, 16:23:45] Horizon reached before goal...\n",
      "[11/14/2023, 16:23:45] Horizon reached before goal...\n",
      "[11/14/2023, 16:23:46] Horizon reached before goal...\n",
      "[11/14/2023, 16:23:46] Horizon reached before goal...\n",
      "[11/14/2023, 16:23:46] Horizon reached before goal...\n",
      "[11/14/2023, 16:23:46] Horizon reached before goal...\n",
      "[11/14/2023, 16:23:46] Horizon reached before goal...\n",
      "[11/14/2023, 16:23:46] Horizon reached before goal...\n",
      "[11/14/2023, 16:23:47] Horizon reached before goal...\n",
      "[11/14/2023, 16:23:47] Horizon reached before goal...\n",
      "[11/14/2023, 16:23:47] Horizon reached before goal...\n",
      "[11/14/2023, 16:23:47] Horizon reached before goal...\n",
      "[11/14/2023, 16:23:47] Horizon reached before goal...\n",
      "[11/14/2023, 16:23:47] Horizon reached before goal...\n",
      "[11/14/2023, 16:23:47] Horizon reached before goal...\n",
      "[11/14/2023, 16:23:48] Horizon reached before goal...\n",
      "[11/14/2023, 16:23:48] Horizon reached before goal...\n",
      "[11/14/2023, 16:23:48] Horizon reached before goal...\n",
      "[11/14/2023, 16:23:48] Horizon reached before goal...\n",
      "[11/14/2023, 16:23:48] Horizon reached before goal...\n",
      "[11/14/2023, 16:23:48] Horizon reached before goal...\n",
      "[11/14/2023, 16:23:49] Horizon reached before goal...\n",
      "[11/14/2023, 16:23:49] Horizon reached before goal...\n",
      "[11/14/2023, 16:23:50] Horizon reached before goal...\n",
      "[11/14/2023, 16:23:50] Horizon reached before goal...\n",
      "[11/14/2023, 16:23:50] Horizon reached before goal...\n",
      "[11/14/2023, 16:23:50] Horizon reached before goal...\n",
      "[11/14/2023, 16:23:50] Horizon reached before goal...\n",
      "[11/14/2023, 16:23:51] Horizon reached before goal...\n",
      "[11/14/2023, 16:23:51] Horizon reached before goal...\n",
      "[11/14/2023, 16:23:51] Horizon reached before goal...\n",
      "[11/14/2023, 16:23:52] Horizon reached before goal...\n",
      "[11/14/2023, 16:23:52] Horizon reached before goal...\n",
      "[11/14/2023, 16:23:52] Horizon reached before goal...\n",
      "[11/14/2023, 16:23:53] Horizon reached before goal...\n",
      "[11/14/2023, 16:23:53] Horizon reached before goal...\n",
      "[11/14/2023, 16:23:53] Horizon reached before goal...\n",
      "[11/14/2023, 16:23:53] Horizon reached before goal...\n",
      "[11/14/2023, 16:23:54] Horizon reached before goal...\n",
      "[11/14/2023, 16:23:54] Horizon reached before goal...\n",
      "[11/14/2023, 16:23:54] Horizon reached before goal...\n",
      "[11/14/2023, 16:23:55] Horizon reached before goal...\n",
      "[11/14/2023, 16:23:55] Horizon reached before goal...\n",
      "[11/14/2023, 16:23:55] Horizon reached before goal...\n",
      "[11/14/2023, 16:23:55] Horizon reached before goal...\n",
      "[11/14/2023, 16:23:55] Horizon reached before goal...\n",
      "[11/14/2023, 16:23:57] Horizon reached before goal...\n",
      "[11/14/2023, 16:23:57] Horizon reached before goal...\n",
      "[11/14/2023, 16:23:57] Horizon reached before goal...\n",
      "[11/14/2023, 16:23:58] Horizon reached before goal...\n",
      "[11/14/2023, 16:23:59] Horizon reached before goal...\n",
      "[11/14/2023, 16:23:59] Horizon reached before goal...\n",
      "[11/14/2023, 16:23:59] Horizon reached before goal...\n",
      "[11/14/2023, 16:24:00] Horizon reached before goal...\n",
      "[11/14/2023, 16:24:00] Horizon reached before goal...\n",
      "[11/14/2023, 16:24:00] Horizon reached before goal...\n",
      "[11/14/2023, 16:24:02] Horizon reached before goal...\n",
      "[11/14/2023, 16:24:02] Horizon reached before goal...\n",
      "[11/14/2023, 16:24:02] Horizon reached before goal...\n",
      "[11/14/2023, 16:24:02] Horizon reached before goal...\n",
      "[11/14/2023, 16:24:02] Horizon reached before goal...\n",
      "[11/14/2023, 16:24:02] Horizon reached before goal...\n",
      "[11/14/2023, 16:24:02] Horizon reached before goal...\n",
      "[11/14/2023, 16:24:03] Horizon reached before goal...\n",
      "[11/14/2023, 16:24:04] Horizon reached before goal...\n",
      "[11/14/2023, 16:24:04] Horizon reached before goal...\n",
      "[11/14/2023, 16:24:04] Horizon reached before goal...\n",
      "[11/14/2023, 16:24:06] Horizon reached before goal...\n",
      "[11/14/2023, 16:24:07] Horizon reached before goal...\n",
      "[11/14/2023, 16:24:07] Horizon reached before goal...\n",
      "[11/14/2023, 16:24:07] Horizon reached before goal...\n",
      "[11/14/2023, 16:24:07] Horizon reached before goal...\n",
      "[11/14/2023, 16:24:08] Horizon reached before goal...\n",
      "[11/14/2023, 16:24:09] Horizon reached before goal...\n",
      "[11/14/2023, 16:24:09] Horizon reached before goal...\n",
      "[11/14/2023, 16:24:11] Horizon reached before goal...\n",
      "[11/14/2023, 16:24:11] Horizon reached before goal...\n",
      "[11/14/2023, 16:24:11] Horizon reached before goal...\n",
      "[11/14/2023, 16:24:11] Horizon reached before goal...\n",
      "[11/14/2023, 16:24:12] Horizon reached before goal...\n",
      "[11/14/2023, 16:24:12] Horizon reached before goal...\n",
      "[11/14/2023, 16:24:13] Horizon reached before goal...\n",
      "[11/14/2023, 16:24:13] Horizon reached before goal...\n",
      "[11/14/2023, 16:24:15] Horizon reached before goal...\n",
      "[11/14/2023, 16:24:15] Horizon reached before goal...\n",
      "[11/14/2023, 16:24:15] Horizon reached before goal...\n",
      "[11/14/2023, 16:24:15] Horizon reached before goal...\n",
      "[11/14/2023, 16:24:17] Horizon reached before goal...\n",
      "[11/14/2023, 16:24:17] Horizon reached before goal...\n",
      "[11/14/2023, 16:24:19] Horizon reached before goal...\n",
      "[11/14/2023, 16:24:21] Horizon reached before goal...\n",
      "[11/14/2023, 16:24:21] Horizon reached before goal...\n",
      "[11/14/2023, 16:24:21] Horizon reached before goal...\n",
      "[11/14/2023, 16:24:21] Horizon reached before goal...\n",
      "[11/14/2023, 16:24:22] Horizon reached before goal...\n",
      "[11/14/2023, 16:24:23] Horizon reached before goal...\n",
      "[11/14/2023, 16:24:24] Horizon reached before goal...\n",
      "[11/14/2023, 16:24:25] Horizon reached before goal...\n",
      "[11/14/2023, 16:24:25] Horizon reached before goal...\n",
      "[11/14/2023, 16:24:27] Horizon reached before goal...\n",
      "[11/14/2023, 16:24:27] Horizon reached before goal...\n",
      "[11/14/2023, 16:24:27] Horizon reached before goal...\n",
      "[11/14/2023, 16:24:29] Horizon reached before goal...\n",
      "[11/14/2023, 16:24:29] Horizon reached before goal...\n",
      "[11/14/2023, 16:24:29] Horizon reached before goal...\n",
      "[11/14/2023, 16:24:31] Horizon reached before goal...\n",
      "[11/14/2023, 16:24:31] Horizon reached before goal...\n",
      "[11/14/2023, 16:24:34] Horizon reached before goal...\n",
      "[11/14/2023, 16:24:36] Horizon reached before goal...\n",
      "[11/14/2023, 16:24:36] Horizon reached before goal...\n",
      "[11/14/2023, 16:24:38] Horizon reached before goal...\n",
      "[11/14/2023, 16:24:40] Horizon reached before goal...\n",
      "[11/14/2023, 16:24:40] Horizon reached before goal...\n",
      "[11/14/2023, 16:24:40] Horizon reached before goal...\n",
      "[11/14/2023, 16:24:43] Horizon reached before goal...\n",
      "[11/14/2023, 16:24:43] Horizon reached before goal...\n",
      "[11/14/2023, 16:24:44] Horizon reached before goal...\n",
      "[11/14/2023, 16:24:45] Horizon reached before goal...\n",
      "[11/14/2023, 16:24:46] Horizon reached before goal...\n",
      "[11/14/2023, 16:24:48] Horizon reached before goal...\n",
      "[11/14/2023, 16:24:49] Horizon reached before goal...\n",
      "[11/14/2023, 16:24:51] Horizon reached before goal...\n",
      "[11/14/2023, 16:24:51] Horizon reached before goal...\n",
      "[11/14/2023, 16:24:52] Horizon reached before goal...\n",
      "[11/14/2023, 16:24:54] Horizon reached before goal...\n",
      "[11/14/2023, 16:24:55] Horizon reached before goal...\n",
      "[11/14/2023, 16:24:55] Horizon reached before goal...\n",
      "[11/14/2023, 16:24:58] Horizon reached before goal...\n",
      "[11/14/2023, 16:25:00] Horizon reached before goal...\n",
      "[11/14/2023, 16:25:01] Horizon reached before goal...\n",
      "[11/14/2023, 16:25:02] Horizon reached before goal...\n",
      "[11/14/2023, 16:25:03] Horizon reached before goal...\n",
      "[11/14/2023, 16:25:04] Horizon reached before goal...\n",
      "[11/14/2023, 16:25:04] Horizon reached before goal...\n",
      "[11/14/2023, 16:25:06] Horizon reached before goal...\n",
      "[11/14/2023, 16:25:07] Horizon reached before goal...\n",
      "[11/14/2023, 16:25:09] Horizon reached before goal...\n",
      "[11/14/2023, 16:25:09] Horizon reached before goal...\n",
      "[11/14/2023, 16:25:10] Horizon reached before goal...\n",
      "[11/14/2023, 16:25:12] Horizon reached before goal...\n",
      "[11/14/2023, 16:25:14] Horizon reached before goal...\n",
      "[11/14/2023, 16:25:14] Horizon reached before goal...\n",
      "[11/14/2023, 16:25:15] Horizon reached before goal...\n",
      "[11/14/2023, 16:25:15] Horizon reached before goal...\n",
      "[11/14/2023, 16:25:17] Horizon reached before goal...\n",
      "[11/14/2023, 16:25:19] Horizon reached before goal...\n",
      "[11/14/2023, 16:25:19] Horizon reached before goal...\n",
      "[11/14/2023, 16:25:21] Horizon reached before goal...\n",
      "[11/14/2023, 16:25:22] Horizon reached before goal...\n",
      "[11/14/2023, 16:25:23] Horizon reached before goal...\n",
      "[11/14/2023, 16:25:24] Horizon reached before goal...\n",
      "[11/14/2023, 16:25:26] Horizon reached before goal...\n",
      "[11/14/2023, 16:25:28] Horizon reached before goal...\n",
      "[11/14/2023, 16:25:30] Horizon reached before goal...\n",
      "[11/14/2023, 16:25:34] Horizon reached before goal...\n",
      "[11/14/2023, 16:25:35] Horizon reached before goal...\n",
      "[11/14/2023, 16:25:37] Horizon reached before goal...\n",
      "[11/14/2023, 16:25:37] Horizon reached before goal...\n",
      "[11/14/2023, 16:25:39] Horizon reached before goal...\n",
      "[11/14/2023, 16:25:42] Horizon reached before goal...\n",
      "[11/14/2023, 16:25:43] Horizon reached before goal...\n",
      "[11/14/2023, 16:25:45] Horizon reached before goal...\n",
      "[11/14/2023, 16:25:46] Horizon reached before goal...\n",
      "[11/14/2023, 16:25:47] Horizon reached before goal...\n",
      "[11/14/2023, 16:25:49] Horizon reached before goal...\n",
      "[11/14/2023, 16:25:53] Horizon reached before goal...\n",
      "[11/14/2023, 16:25:54] Horizon reached before goal...\n",
      "[11/14/2023, 16:25:55] Horizon reached before goal...\n",
      "[11/14/2023, 16:25:56] Horizon reached before goal...\n",
      "[11/14/2023, 16:25:57] Horizon reached before goal...\n",
      "[11/14/2023, 16:25:59] Horizon reached before goal...\n",
      "[11/14/2023, 16:26:02] Horizon reached before goal...\n",
      "[11/14/2023, 16:26:03] Horizon reached before goal...\n",
      "[11/14/2023, 16:26:09] Horizon reached before goal...\n",
      "[11/14/2023, 16:26:11] Horizon reached before goal...\n",
      "[11/14/2023, 16:26:15] Horizon reached before goal...\n",
      "[11/14/2023, 16:26:16] Horizon reached before goal...\n",
      "[11/14/2023, 16:26:17] Horizon reached before goal...\n",
      "[11/14/2023, 16:26:18] Horizon reached before goal...\n",
      "[11/14/2023, 16:26:19] Horizon reached before goal...\n",
      "[11/14/2023, 16:26:21] Horizon reached before goal...\n",
      "[11/14/2023, 16:26:23] Horizon reached before goal...\n",
      "[11/14/2023, 16:26:25] Horizon reached before goal...\n",
      "[11/14/2023, 16:26:26] Horizon reached before goal...\n",
      "[11/14/2023, 16:26:27] Horizon reached before goal...\n",
      "[11/14/2023, 16:26:30] Horizon reached before goal...\n",
      "[11/14/2023, 16:26:31] Horizon reached before goal...\n",
      "[11/14/2023, 16:26:32] Horizon reached before goal...\n",
      "Summary of Value Iteration run\n",
      "  - Model: 22021 state, 6 action, 3 observations\n",
      "  - Converged or stopped after 300 expansion steps and 300 backup steps.\n",
      "  - Resulting value function has 6047 alpha vectors.\n",
      "  - Converged in 167.7528s\n",
      "\n",
      "  - Expand function took on average 0.0542s and yielded on average 83.94 beliefs per iteration. (0.0007s/it/belief)\n",
      "  - Backup function took on average 0.5050s and yielded on average value functions of size 2723.30 per iteration. (0.0004s/it/alpha)\n",
      "  - Pruning function took on average 0.0000s and yielded on average prunings of 0.00 alpha vectors per iteration.\n"
     ]
    }
   ],
   "source": [
    "fsvi_solution, hist = fsvi_solver.solve(model=model,\n",
    "                                        expansions=300,\n",
    "                                        horizon=100,\n",
    "                                        mdp_policy=mdp_solution,\n",
    "                                        belief_memory_depth=10,\n",
    "                                        # prune_level=2, # Useless because of belief domination\n",
    "                                        # prune_interval=25,\n",
    "                                        # history_tracking_level=2,\n",
    "                                        use_gpu=True)\n",
    "print(hist.summary)"
   ]
  },
  {
   "cell_type": "code",
   "execution_count": 19,
   "metadata": {},
   "outputs": [],
   "source": [
    "fsvi_solution.save()"
   ]
  },
  {
   "cell_type": "markdown",
   "metadata": {},
   "source": [
    "# Loading fsvi solution"
   ]
  },
  {
   "cell_type": "code",
   "execution_count": 14,
   "metadata": {},
   "outputs": [
    {
     "name": "stdout",
     "output_type": "stream",
     "text": [
      "[11/15/2023, 14:44:40] Sending Model to GPU...\n",
      "[11/15/2023, 14:44:41]     > Done in 0.212s\n"
     ]
    }
   ],
   "source": [
    "fsvi_solution = ValueFunction.load_from_file('./ValueFunctions/20231114_fsvi_g0.99_i300_e100_value_function.csv', model).to_gpu()"
   ]
  },
  {
   "cell_type": "code",
   "execution_count": 15,
   "metadata": {},
   "outputs": [
    {
     "name": "stdout",
     "output_type": "stream",
     "text": [
      "[Warning] Value function on GPU, converting to numpy before plotting...\n",
      "[Warning] 'as_grid' parameter set to False but state count is >3 so it will be plotted as a grid\n"
     ]
    },
    {
     "data": {
      "image/png": "[encoded data removed]",
      "text/plain": [
       "<Figure size 1000x500 with 3 Axes>"
      ]
     },
     "metadata": {},
     "output_type": "display_data"
    }
   ],
   "source": [
    "fsvi_solution.plot()"
   ]
  },
  {
   "cell_type": "markdown",
   "metadata": {},
   "source": [
    "# Sim"
   ]
  },
  {
   "cell_type": "code",
   "execution_count": 27,
   "metadata": {},
   "outputs": [],
   "source": [
    "a = Agent(model=model, value_function=fsvi_solution.to_cpu())"
   ]
  },
  {
   "cell_type": "code",
   "execution_count": 28,
   "metadata": {},
   "outputs": [
    {
     "data": {
      "application/vnd.jupyter.widget-view+json": {
       "model_id": "3e6bdd4303fa4a5e9a40d764596e7268",
       "version_major": 2,
       "version_minor": 0
      },
      "text/plain": [
       "  0%|          | 0/1000 [00:00<?, ?it/s]"
      ]
     },
     "metadata": {},
     "output_type": "display_data"
    },
    {
     "name": "stdout",
     "output_type": "stream",
     "text": [
      "Simulation done:\n",
      "\t- Runtime (s): 15.52186\n",
      "\t- Steps: 476\n",
      "\t- Total rewards: 1.0\n",
      "\t- End state: s_30_60\n"
     ]
    }
   ],
   "source": [
    "sim_hist = a.simulate(start_state=(env_shape[1]*30)+300)"
   ]
  },
  {
   "cell_type": "code",
   "execution_count": 26,
   "metadata": {},
   "outputs": [
    {
     "name": "stdout",
     "output_type": "stream",
     "text": [
      "<class 'cupy.ndarray'>\n"
     ]
    }
   ],
   "source": [
    "for o in sim_hist.model.observations:\n",
    "    print(type(o))\n",
    "    break"
   ]
  },
  {
   "cell_type": "code",
   "execution_count": 29,
   "metadata": {},
   "outputs": [
    {
     "name": "stdout",
     "output_type": "stream",
     "text": [
      "Video saved at 'Sim Videos/s22021-a6-20231114_163420.mp4'...\n"
     ]
    }
   ],
   "source": [
    "# sim_hist.save_simulation_video()"
   ]
  },
  {
   "cell_type": "markdown",
   "metadata": {},
   "source": [
    "# Sim plot"
   ]
  },
  {
   "cell_type": "code",
   "execution_count": 60,
   "metadata": {},
   "outputs": [
    {
     "data": {
      "text/plain": [
       "<matplotlib.collections.PathCollection at 0x7efff0daf750>"
      ]
     },
     "execution_count": 60,
     "metadata": {},
     "output_type": "execute_result"
    },
    {
     "data": {
      "image/png": "[encoded data removed]",
      "text/plain": [
       "<Figure size 1800x300 with 1 Axes>"
      ]
     },
     "metadata": {},
     "output_type": "display_data"
    }
   ],
   "source": [
    "# PLot setup\n",
    "plt.figure(figsize=(18,3))\n",
    "plt.xlim(0, env_shape[1])\n",
    "plt.ylim(0, env_shape[0])\n",
    "\n",
    "# Goal\n",
    "plt.scatter(60, 30, c='red')\n",
    "\n",
    "# Path\n",
    "seq = np.array(sim_hist.grid_point_sequence)\n",
    "plt.plot(seq[:,1], seq[:,0], c='black')\n",
    "\n",
    "# Something sensed\n",
    "obs_ts = np.where(np.array(sim_hist.observations) == 1)\n",
    "points_obs = seq[obs_ts[0],:]\n",
    "plt.scatter(points_obs[:,1], points_obs[:,0])\n",
    "\n",
    "# Points sniff\n",
    "sniff_in_air = np.where(np.array(sim_hist.actions) == 5)\n",
    "points_sniff = seq[sniff_in_air[0],:]\n",
    "plt.scatter(points_sniff[:,1], points_sniff[:,0], marker='x')"
   ]
  },
  {
   "cell_type": "markdown",
   "metadata": {},
   "source": [
    "# Entropy-value plot"
   ]
  },
  {
   "cell_type": "code",
   "execution_count": 62,
   "metadata": {},
   "outputs": [],
   "source": [
    "from scipy.stats import entropy"
   ]
  },
  {
   "cell_type": "code",
   "execution_count": 64,
   "metadata": {},
   "outputs": [],
   "source": [
    "ents = [entropy(b.values) for b in sim_hist.beliefs]"
   ]
  },
  {
   "cell_type": "code",
   "execution_count": 89,
   "metadata": {},
   "outputs": [],
   "source": [
    "b_array = cp.array([(b.values) for b in sim_hist.beliefs])\n",
    "b_vals = cp.asnumpy(cp.max(cp.matmul(fsvi_solution.alpha_vector_array, b_array.T), axis=0))"
   ]
  },
  {
   "cell_type": "code",
   "execution_count": 93,
   "metadata": {},
   "outputs": [
    {
     "data": {
      "image/png": "[encoded data removed]",
      "text/plain": [
       "<Figure size 640x480 with 2 Axes>"
      ]
     },
     "metadata": {},
     "output_type": "display_data"
    }
   ],
   "source": [
    "fig, ax1 = plt.subplots()\n",
    "\n",
    "# Entropy\n",
    "ax1.plot(np.arange(len(ents)), ents, color='blue')\n",
    "ax1.set_ylabel('entropy', color='blue')\n",
    "\n",
    "ax2 = ax1.twinx()\n",
    "\n",
    "ax2.plot(np.arange(len(b_vals)), b_vals, color='red')\n",
    "ax2.set_ylabel('value', color='red')\n",
    "\n",
    "fig.tight_layout()  # otherwise the right y-label is slightly clipped\n",
    "plt.show()"
   ]
  },
  {
   "cell_type": "markdown",
   "metadata": {},
   "source": [
    "# Multiple simulations"
   ]
  },
  {
   "cell_type": "code",
   "execution_count": 16,
   "metadata": {},
   "outputs": [],
   "source": [
    "a = Agent(model, fsvi_solution)"
   ]
  },
  {
   "cell_type": "code",
   "execution_count": 17,
   "metadata": {},
   "outputs": [
    {
     "data": {
      "application/vnd.jupyter.widget-view+json": {
       "model_id": "f4c22d4ba6b247ccbb650d2cd599aa28",
       "version_major": 2,
       "version_minor": 0
      },
      "text/plain": [
       "  0%|          | 0/100 [00:00<?, ?it/s]"
      ]
     },
     "metadata": {},
     "output_type": "display_data"
    },
    {
     "name": "stdout",
     "output_type": "stream",
     "text": [
      "All 100 simulations done:\n",
      "\t- Average runtime (s): 0.59715723\n",
      "\t- Average step count: 477.75\n",
      "\t- Average total rewards: 1.0\n",
      "\t- Average discounted rewards (ADR): 0.008458535758317122\n"
     ]
    }
   ],
   "source": [
    "# On center line\n",
    "_, sim_set = a.run_n_simulations(n=100, start_state=(env_shape[1]*30)+300)"
   ]
  },
  {
   "cell_type": "markdown",
   "metadata": {},
   "source": [
    "# Extra steps needed"
   ]
  },
  {
   "cell_type": "code",
   "execution_count": 18,
   "metadata": {},
   "outputs": [],
   "source": [
    "sim_lengths = [len(sim) for sim in sim_set]"
   ]
  },
  {
   "cell_type": "code",
   "execution_count": 20,
   "metadata": {},
   "outputs": [
    {
     "data": {
      "image/png": "[encoded data removed]",
      "text/plain": [
       "<Figure size 640x480 with 1 Axes>"
      ]
     },
     "metadata": {},
     "output_type": "display_data"
    }
   ],
   "source": [
    "plt.boxplot(np.array(sim_lengths)-240)\n",
    "plt.show()"
   ]
  },
  {
   "cell_type": "markdown",
   "metadata": {},
   "source": [
    "# Sniff in air clos vs far"
   ]
  },
  {
   "cell_type": "code",
   "execution_count": 21,
   "metadata": {},
   "outputs": [],
   "source": [
    "close_points = np.where(nose_data.ravel() > 0)[0]"
   ]
  },
  {
   "cell_type": "code",
   "execution_count": 22,
   "metadata": {},
   "outputs": [],
   "source": [
    "close_rates = []\n",
    "far_rates = []\n",
    "for sim in sim_set:\n",
    "    close_sniff_air = 0\n",
    "    close_steps = 0\n",
    "\n",
    "    far_sniff_air = 0\n",
    "    far_steps = 0\n",
    "    for s,a in zip(sim.states[1:], sim.actions):\n",
    "        if s in close_points:\n",
    "            close_steps += 1\n",
    "            if a == 5:\n",
    "                close_sniff_air +=1\n",
    "        else:\n",
    "            far_steps += 1\n",
    "            if a == 5:\n",
    "                far_sniff_air += 1\n",
    "\n",
    "    close_rates.append(close_sniff_air / close_steps)\n",
    "    far_rates.append(far_sniff_air / far_steps)"
   ]
  },
  {
   "cell_type": "code",
   "execution_count": 23,
   "metadata": {},
   "outputs": [
    {
     "data": {
      "image/png": "[encoded data removed]",
      "text/plain": [
       "<Figure size 640x480 with 1 Axes>"
      ]
     },
     "metadata": {},
     "output_type": "display_data"
    }
   ],
   "source": [
    "plt.hist(far_rates, alpha=0.5, label='far')\n",
    "plt.hist(close_rates, alpha=0.5, label='close')\n",
    "plt.legend()\n",
    "plt.show()"
   ]
  },
  {
   "cell_type": "markdown",
   "metadata": {},
   "source": [
    "# Cast/surge rates"
   ]
  },
  {
   "cell_type": "code",
   "execution_count": 56,
   "metadata": {},
   "outputs": [],
   "source": [
    "surge_rates = []\n",
    "cast_rates = []\n",
    "\n",
    "for sim in sim_set:\n",
    "\n",
    "    # Cast action: 0 or 2\n",
    "    is_action = np.where((np.array(sim.actions) == 0) | (np.array(sim.actions) == 2) | (np.array(sim.actions) == 5), 1, 0)\n",
    "    is_action_seq = is_action[:-2] + is_action[1:-1] + is_action[2:]\n",
    "    cast_sequence = np.zeros(len(sim), dtype=bool)\n",
    "\n",
    "    for i, el in enumerate(is_action_seq):\n",
    "        if el == 3:\n",
    "            cast_sequence[i:i+3] = True\n",
    "\n",
    "    cast_count = np.sum(cast_sequence[:-1])\n",
    "    cast_sniff = np.sum(cast_sequence[:-1] & (np.array(sim.actions) == 5))\n",
    "    cast_rates.append(cast_sniff / cast_count)\n",
    "\n",
    "    # Surge action: 3\n",
    "    is_action = np.where((np.array(sim.actions) == 3) | (np.array(sim.actions) == 5), 1, 0)\n",
    "    is_action_seq = is_action[:-2] + is_action[1:-1] + is_action[2:]\n",
    "    surge_sequence = np.zeros(len(sim), dtype=bool)\n",
    "\n",
    "    for i, el in enumerate(is_action_seq):\n",
    "        if el == 3:\n",
    "            surge_sequence[i:i+3] = True\n",
    "\n",
    "    surge_count = np.sum(surge_sequence[:-1])\n",
    "    surge_sniff = np.sum(surge_sequence[:-1] & (np.array(sim.actions) == 5))\n",
    "    surge_rates.append(surge_sniff / surge_count)"
   ]
  },
  {
   "cell_type": "code",
   "execution_count": 57,
   "metadata": {},
   "outputs": [
    {
     "data": {
      "image/png": "[encoded data removed]",
      "text/plain": [
       "<Figure size 640x480 with 1 Axes>"
      ]
     },
     "metadata": {},
     "output_type": "display_data"
    }
   ],
   "source": [
    "plt.hist(surge_rates, alpha=0.5, label='surge')\n",
    "plt.hist(cast_rates, alpha=0.5, label='cast')\n",
    "plt.legend()\n",
    "plt.show()"
   ]
  },
  {
   "cell_type": "code",
   "execution_count": null,
   "metadata": {},
   "outputs": [],
   "source": [
    "# above center line\n",
    "# _, sim_set = a.run_n_simulations(n=100, start_state=(env_shape[1]*15)+300)"
   ]
  },
  {
   "cell_type": "code",
   "execution_count": null,
   "metadata": {},
   "outputs": [],
   "source": [
    "# below center line\n",
    "# _, sim_set = a.run_n_simulations(n=100, start_state=(env_shape[1]*45)+300)"
   ]
  }
 ],
 "metadata": {
  "kernelspec": {
   "display_name": "Python 3",
   "language": "python",
   "name": "python3"
  },
  "language_info": {
   "codemirror_mode": {
    "name": "ipython",
    "version": 3
   },
   "file_extension": ".py",
   "mimetype": "text/x-python",
   "name": "python",
   "nbconvert_exporter": "python",
   "pygments_lexer": "ipython3",
   "version": "3.11.5"
  }
 },
 "nbformat": 4,
 "nbformat_minor": 2
}
