{
 "cells": [
  {
   "cell_type": "code",
   "execution_count": 1,
   "metadata": {},
   "outputs": [],
   "source": [
    "import sys\n",
    "sys.path.append('../..')\n",
    "from src.pomdp import *\n",
    "\n",
    "import cv2"
   ]
  },
  {
   "cell_type": "code",
   "execution_count": 8,
   "metadata": {},
   "outputs": [],
   "source": [
    "from cupy.cuda import runtime as cuda_runtime\n",
    "cuda_runtime.setDevice(2)"
   ]
  },
  {
   "cell_type": "markdown",
   "metadata": {},
   "source": [
    "# Gathering model and solution"
   ]
  },
  {
   "cell_type": "code",
   "execution_count": 2,
   "metadata": {},
   "outputs": [],
   "source": [
    "model = Model.load_from_file('./Models/Alt_Wrap_GroundAir.pck')\n",
    "vf = ValueFunction.load_from_file('./Test_GroundAir_FSVI_300it_100exp_099g_e6eps_20run_20231121_165329/ValueFunctions/run-3-VF.gzip', model)"
   ]
  },
  {
   "cell_type": "markdown",
   "metadata": {},
   "source": [
    "# Get source stats"
   ]
  },
  {
   "cell_type": "code",
   "execution_count": 3,
   "metadata": {},
   "outputs": [],
   "source": [
    "points_per_unit = 30\n",
    "env_x = [-2,10]\n",
    "env_y = [-1,1]\n",
    "\n",
    "width = ((env_x[1] - env_x[0]) * points_per_unit) + 1\n",
    "height = ((env_y[1] - env_y[0]) * points_per_unit) + 1\n",
    "\n",
    "env_shape = [height, width]"
   ]
  },
  {
   "cell_type": "code",
   "execution_count": 4,
   "metadata": {},
   "outputs": [],
   "source": [
    "# Data loading\n",
    "def get_data(dx_mod:float=1.0, dy_mod:float=1.0):\n",
    "    nose_data = pd.read_csv('./Data/statistics_abs_nose_3e6.dat', sep=' ', skiprows=[0], names=list(range(320)), index_col=False).to_numpy().T\n",
    "    ground_data = pd.read_csv('./Data/statistics_abs_ground_3e6.dat', sep=' ', skiprows=[0], names=list(range(320)), index_col=False).to_numpy().T\n",
    "    \n",
    "    dx = int((4 * points_per_unit) * dx_mod)\n",
    "    dx += 1 if dx % 2 == 0 else 0\n",
    "\n",
    "    dy = int((points_per_unit) * dy_mod)\n",
    "    dy += 1 if dy % 2 == 0 else 0\n",
    "\n",
    "    top_y = int(points_per_unit - ((dy-1) / 2))\n",
    "\n",
    "    nose_data = cv2.resize(nose_data, dsize=(dx, dy))\n",
    "    ground_data = cv2.resize(ground_data, dsize=(dx, dy))\n",
    "\n",
    "    nose_data_padded = np.zeros(env_shape)\n",
    "    nose_data_padded[top_y:top_y+dy, 60:60+dx] = nose_data\n",
    "\n",
    "    ground_data_padded = np.zeros(env_shape)\n",
    "    ground_data_padded[top_y:top_y+dy, 60:60+dx] = ground_data\n",
    "\n",
    "    nose_data = nose_data_padded\n",
    "    ground_data = ground_data_padded\n",
    "\n",
    "    return nose_data, ground_data"
   ]
  },
  {
   "cell_type": "code",
   "execution_count": 5,
   "metadata": {},
   "outputs": [],
   "source": [
    "nose_data, ground_data = get_data(1,0.1)"
   ]
  },
  {
   "cell_type": "code",
   "execution_count": 6,
   "metadata": {},
   "outputs": [
    {
     "data": {
      "image/png": "[encoded data removed]",
      "text/plain": [
       "<Figure size 1000x400 with 3 Axes>"
      ]
     },
     "metadata": {},
     "output_type": "display_data"
    }
   ],
   "source": [
    "fig, (ax_a, ax_g) = plt.subplots(2, 1, figsize=(10,4))\n",
    "\n",
    "min_x = 60\n",
    "min_y = 15\n",
    "width = 8.5*30\n",
    "height = 30\n",
    "\n",
    "ax_a.set_title('Air')\n",
    "im = ax_a.imshow(nose_data, vmax=1, vmin=0, cmap='Greys')\n",
    "\n",
    "ax_g.set_title('Ground')\n",
    "im = ax_g.imshow(ground_data, vmax=1, vmin=0, cmap='Greys')\n",
    "\n",
    "cbar = plt.colorbar(im, ax=[ax_g,ax_a])\n",
    "cbar.set_label('Observation probability')"
   ]
  },
  {
   "cell_type": "markdown",
   "metadata": {},
   "source": [
    "# Alt olf probability simulation"
   ]
  },
  {
   "cell_type": "code",
   "execution_count": 68,
   "metadata": {},
   "outputs": [],
   "source": [
    "class AltSimulationSet(SimulationSet):\n",
    "    def __init__(self, model:Model, alt_air:np.ndarray, alt_ground:np.ndarray):\n",
    "        self.alt_air = alt_air.ravel()\n",
    "        self.alt_ground = alt_ground.ravel()\n",
    "        super().__init__(model)\n",
    "\n",
    "    \n",
    "    def run_actions(self, actions:np.ndarray) -> tuple[np.ndarray, np.ndarray]:\n",
    "        rewards,_ =  super().run_actions(actions)\n",
    "\n",
    "        # GPU support\n",
    "        xp = np if not self.model.is_on_gpu else cp\n",
    "\n",
    "        # Generate observations\n",
    "        obs_probs = xp.where(actions == 5, self.alt_air[self.agent_states], self.alt_ground[self.agent_states])\n",
    "        observations = (xp.random.random(self.n) < obs_probs).astype(int)\n",
    "\n",
    "        # Check if at goal\n",
    "        observations = xp.where(xp.isin(self.agent_states, xp.array(self.model.end_states)), 2, observations)\n",
    "\n",
    "        return rewards, observations"
   ]
  },
  {
   "cell_type": "code",
   "execution_count": 16,
   "metadata": {},
   "outputs": [],
   "source": [
    "model = model.gpu_model\n",
    "value_function = vf.to_gpu()"
   ]
  },
  {
   "cell_type": "markdown",
   "metadata": {},
   "source": [
    "# Grid test"
   ]
  },
  {
   "cell_type": "code",
   "execution_count": 11,
   "metadata": {},
   "outputs": [],
   "source": [
    "zone = None\n",
    "cell_size = 10\n",
    "points_per_cell = 10"
   ]
  },
  {
   "cell_type": "code",
   "execution_count": 12,
   "metadata": {},
   "outputs": [],
   "source": [
    "model = value_function.model\n",
    "\n",
    "# Getting grid zone\n",
    "min_x = None\n",
    "max_x = None\n",
    "min_y = None\n",
    "max_y = None\n",
    "\n",
    "if zone is None:\n",
    "    start_coords = np.array(model.cpu_model.get_coords(model.cpu_model.states[model.cpu_model.start_probabilities > 0]))\n",
    "    (min_x, max_x) = (np.min(start_coords[:,1]), np.max(start_coords[:,1]))\n",
    "    (min_y, max_y) = (np.min(start_coords[:,0]), np.max(start_coords[:,0]))\n",
    "else:\n",
    "    ((min_x,max_x),(min_y,max_y)) = zone\n",
    "\n",
    "# Generation of points\n",
    "random_points = []\n",
    "cell_centers_x = []\n",
    "cell_centers_y = []\n",
    "\n",
    "for i in range(min_y, max_y, cell_size):\n",
    "    for j in range(min_x, max_x, cell_size):\n",
    "        cell_centers_x.append((j + min([max_x, j+cell_size])) / 2)\n",
    "        cell_centers_y.append((i + min([max_y, i+cell_size])) / 2)\n",
    "\n",
    "        for _ in range(points_per_cell):\n",
    "            rand_x = np.random.randint(j, min([max_x, j+cell_size]))\n",
    "            rand_y = np.random.randint(i, min([max_y, i+cell_size]))\n",
    "\n",
    "            random_points.append([rand_x, rand_y])\n",
    "\n",
    "rand_points_array = np.array(random_points)\n",
    "\n",
    "points_df = pd.DataFrame(rand_points_array, columns=['x','y'])\n",
    "\n",
    "# # Cells\n",
    "points_df['cell'] = np.repeat(np.arange(len(points_df)/points_per_cell, dtype=int), points_per_cell)\n",
    "points_df['cell_x'] = np.repeat(np.array(cell_centers_x), points_per_cell)\n",
    "points_df['cell_y'] = np.repeat(np.array(cell_centers_y), points_per_cell)\n",
    "\n",
    "# Traj and ids\n",
    "goal_state_coords = model.get_coords(model.end_states[0])\n",
    "points_df['opt_traj'] = np.abs(goal_state_coords[1] - rand_points_array[:,0]) + np.abs(goal_state_coords[0] - rand_points_array[:,1])\n",
    "points_df['point_id'] = (model.state_grid.shape[1] * rand_points_array[:,1]) + rand_points_array[:,0]"
   ]
  },
  {
   "cell_type": "markdown",
   "metadata": {},
   "source": [
    "# Run simulations"
   ]
  },
  {
   "cell_type": "code",
   "execution_count": 71,
   "metadata": {},
   "outputs": [],
   "source": [
    "nose_data, ground_data = get_data(0.9,0.9)\n",
    "a = Agent(model, value_function)"
   ]
  },
  {
   "cell_type": "code",
   "execution_count": 72,
   "metadata": {},
   "outputs": [
    {
     "data": {
      "application/vnd.jupyter.widget-view+json": {
       "model_id": "df6bb85a59624bfaa2897442f2bc118d",
       "version_major": 2,
       "version_minor": 0
      },
      "text/plain": [
       "  0%|          | 0/1000 [00:00<?, ?it/s]"
      ]
     },
     "metadata": {},
     "output_type": "display_data"
    },
    {
     "name": "stdout",
     "output_type": "stream",
     "text": [
      "All 780 simulations done in 130.693s:\n",
      "\t- Simulations reached goal: 780/780 (0 failures)\n",
      "\t- Average step count: 267.0692307692308\n",
      "\t- Average total rewards: 1.0\n",
      "\t- Average discounted rewards (ADR): 0.18395408014736028\n"
     ]
    }
   ],
   "source": [
    "_, all_sim_hist = a.run_n_simulations_parallel(len(rand_points_array),\n",
    "                                               simulator_set=AltSimulationSet(model, cp.array(nose_data), cp.array(ground_data)),\n",
    "                                               start_state=points_df['point_id'].to_list(),\n",
    "                                               print_progress=True)"
   ]
  },
  {
   "cell_type": "code",
   "execution_count": null,
   "metadata": {},
   "outputs": [],
   "source": []
  },
  {
   "cell_type": "code",
   "execution_count": 78,
   "metadata": {},
   "outputs": [
    {
     "data": {
      "text/plain": [
       "array([0.2, 0.3, 0.4, 0.5, 0.6, 0.7, 0.8, 0.9, 1. , 1.1, 1.2, 1.3, 1.4,\n",
       "       1.5, 1.6, 1.7, 1.8])"
      ]
     },
     "execution_count": 78,
     "metadata": {},
     "output_type": "execute_result"
    }
   ],
   "source": [
    "np.range"
   ]
  }
 ],
 "metadata": {
  "kernelspec": {
   "display_name": "pomdp_olf_nav_env",
   "language": "python",
   "name": "python3"
  },
  "language_info": {
   "codemirror_mode": {
    "name": "ipython",
    "version": 3
   },
   "file_extension": ".py",
   "mimetype": "text/x-python",
   "name": "python",
   "nbconvert_exporter": "python",
   "pygments_lexer": "ipython3",
   "version": "3.11.5"
  }
 },
 "nbformat": 4,
 "nbformat_minor": 2
}
