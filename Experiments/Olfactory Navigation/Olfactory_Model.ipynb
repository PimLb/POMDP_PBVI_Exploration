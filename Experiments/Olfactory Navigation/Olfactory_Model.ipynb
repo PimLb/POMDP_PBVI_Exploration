{
 "cells": [
  {
   "cell_type": "code",
   "execution_count": 1,
   "metadata": {},
   "outputs": [],
   "source": [
    "import sys\n",
    "sys.path.append('../..')\n",
    "from src.pomdp import *\n",
    "\n",
    "import pandas as pd\n",
    "import numpy as np\n",
    "import cupy as cp\n"
   ]
  },
  {
   "cell_type": "code",
   "execution_count": 2,
   "metadata": {},
   "outputs": [],
   "source": [
    "mempool = cp.get_default_memory_pool()\n",
    "mempool.set_limit(size=4*1024**3)"
   ]
  },
  {
   "cell_type": "markdown",
   "metadata": {},
   "source": [
    "## Model definition"
   ]
  },
  {
   "cell_type": "code",
   "execution_count": 3,
   "metadata": {},
   "outputs": [],
   "source": [
    "olfactory_data = pd.read_csv('./Data/statistics_nose_3e6_35_153.dat', sep=',', header=None).values\n",
    "olfactory_data = np.array(olfactory_data)"
   ]
  },
  {
   "cell_type": "code",
   "execution_count": 4,
   "metadata": {},
   "outputs": [],
   "source": [
    "# olfactory_data = pd.read_csv('./Data/statistics_nose_5e6.dat', sep=' ', skiprows=[0], header=None).values.T\n",
    "# olfactory_data = np.array(olfactory_data[:320,:])"
   ]
  },
  {
   "cell_type": "code",
   "execution_count": 5,
   "metadata": {},
   "outputs": [
    {
     "name": "stdout",
     "output_type": "stream",
     "text": [
      "Environment shape: (35, 153)\n",
      "State count: 5355\n"
     ]
    }
   ],
   "source": [
    "# Model size\n",
    "# env_shape = (280, 1225)\n",
    "# env_shape = (70,153)\n",
    "env_shape = olfactory_data.shape\n",
    "state_count = env_shape[0] * env_shape[1]\n",
    "\n",
    "print(f'Environment shape: {env_shape}')\n",
    "print(f'State count: {state_count}')"
   ]
  },
  {
   "cell_type": "code",
   "execution_count": 6,
   "metadata": {},
   "outputs": [
    {
     "data": {
      "text/plain": [
       "0.9988461538461538"
      ]
     },
     "execution_count": 6,
     "metadata": {},
     "output_type": "execute_result"
    }
   ],
   "source": [
    "# goal state\n",
    "olfactory_data[17,0]"
   ]
  },
  {
   "cell_type": "code",
   "execution_count": 7,
   "metadata": {},
   "outputs": [],
   "source": [
    "def id_from_pos(x,y):\n",
    "    return (x * env_shape[1]) + y"
   ]
  },
  {
   "cell_type": "code",
   "execution_count": 8,
   "metadata": {},
   "outputs": [],
   "source": [
    "# states\n",
    "state_grid = []\n",
    "\n",
    "# Rewards\n",
    "# rewards = np.zeros((state_count, 4, state_count,2))\n",
    "# rewards[:,:,id_from_pos(17,0),:] = 1\n",
    "\n",
    "# observation matrix\n",
    "flattened_olfactory_data = olfactory_data.flatten()\n",
    "\n",
    "observations = np.zeros((state_count, 4, 2))\n",
    "observations[:,:,0] = flattened_olfactory_data.reshape((flattened_olfactory_data.shape[0],1)).repeat(4, axis=1)\n",
    "observations[:,:,1] = (1 - observations[:,:,0])\n",
    "\n",
    "# Transitions and state labels\n",
    "for i in range(env_shape[0]):\n",
    "    i_states = []\n",
    "    for j in range(env_shape[1]):\n",
    "        i_states.append(f's_{i}_{j}')\n",
    "\n",
    "    state_grid.append(i_states)"
   ]
  },
  {
   "cell_type": "code",
   "execution_count": 9,
   "metadata": {},
   "outputs": [],
   "source": [
    "row_w = env_shape[1]\n",
    "\n",
    "reachable_states = np.zeros((state_count, 4, 1), dtype=int)\n",
    "for s in range(state_count):\n",
    "    reachable_states[s,0,0] = s - row_w if s - row_w >= 0 else s # North\n",
    "    reachable_states[s,1,0] = s + 1 if (s + 1) % row_w > 0 else s # East\n",
    "    reachable_states[s,2,0] = s + row_w if s + row_w < state_count else s # South\n",
    "    reachable_states[s,3,0] = s - 1 if (s - 1) % row_w < (row_w - 1) else s # West\n",
    "\n",
    "reachable_states = np.array(reachable_states)"
   ]
  },
  {
   "cell_type": "code",
   "execution_count": 10,
   "metadata": {},
   "outputs": [],
   "source": [
    "# Reward function\n",
    "def reward_func(s,a,sn,o):\n",
    "    # return np.where(sn == (175*env_shape[1]), 1.0, 0.0)\n",
    "    return np.where(sn == (17*env_shape[1]), 1.0, 0.0)"
   ]
  },
  {
   "cell_type": "code",
   "execution_count": 11,
   "metadata": {},
   "outputs": [
    {
     "name": "stdout",
     "output_type": "stream",
     "text": [
      "[09/30/2023, 17:02:03] Instantiation of MDP Model:\n",
      "[09/30/2023, 17:02:03] - 5355 states\n",
      "[09/30/2023, 17:02:03] - 4 actions\n",
      "[09/30/2023, 17:02:03] - At most 1 reachable states per state-action pair\n",
      "[09/30/2023, 17:02:03] - Starting generation of transitions table\n",
      "[Warning] No transition matrix or function provided but reachable states are, so probability to reach any reachable states will \"1 / reachable state count\" so here: 1.000.\n",
      "[09/30/2023, 17:02:03]     > Done in 0.000s\n",
      "[09/30/2023, 17:02:03] - Generating start probabilities table\n",
      "[09/30/2023, 17:02:03] - Starting computation of reachable state probabilities from transition data\n",
      "[09/30/2023, 17:02:03]     > Done in 0.000s\n",
      "[09/30/2023, 17:02:03] POMDP particular parameters:\n",
      "[09/30/2023, 17:02:03] - 2 observations\n",
      "[09/30/2023, 17:02:03] - Starting of transitional observations for reachable states table\n",
      "[09/30/2023, 17:02:03]     > Done in 0.001s\n",
      "[09/30/2023, 17:02:03] - Starting generation of expected rewards table\n",
      "[09/30/2023, 17:02:03]     > Done in 0.003s\n"
     ]
    }
   ],
   "source": [
    "model = Model(\n",
    "    states=state_grid,\n",
    "    actions=['N','E','S','W'],\n",
    "    observations=['something', 'nothing'],\n",
    "    reachable_states=reachable_states,\n",
    "    rewards=reward_func,\n",
    "    observation_table=observations,\n",
    "    end_states=[id_from_pos(17,0)]\n",
    ")"
   ]
  },
  {
   "cell_type": "code",
   "execution_count": null,
   "metadata": {},
   "outputs": [],
   "source": []
  },
  {
   "cell_type": "markdown",
   "metadata": {},
   "source": [
    "## VI Solve"
   ]
  },
  {
   "cell_type": "code",
   "execution_count": 12,
   "metadata": {},
   "outputs": [],
   "source": [
    "from src.mdp import VI_Solver"
   ]
  },
  {
   "cell_type": "code",
   "execution_count": 13,
   "metadata": {},
   "outputs": [],
   "source": [
    "solver = VI_Solver(eps=1e-3)"
   ]
  },
  {
   "cell_type": "code",
   "execution_count": 14,
   "metadata": {},
   "outputs": [
    {
     "name": "stdout",
     "output_type": "stream",
     "text": [
      "[09/30/2023, 17:02:03] Sending Model to GPU...\n",
      "[09/30/2023, 17:02:03]     > Done in 0.179s\n"
     ]
    },
    {
     "data": {
      "application/vnd.jupyter.widget-view+json": {
       "model_id": "a2ac41bf7e084842af31a667d53debb1",
       "version_major": 2,
       "version_minor": 0
      },
      "text/plain": [
       "  0%|          | 0/10000 [00:00<?, ?it/s]"
      ]
     },
     "metadata": {},
     "output_type": "display_data"
    }
   ],
   "source": [
    "solution, history = solver.solve(model, use_gpu=True)"
   ]
  },
  {
   "cell_type": "code",
   "execution_count": 15,
   "metadata": {},
   "outputs": [
    {
     "name": "stdout",
     "output_type": "stream",
     "text": [
      "Summary of Value Iteration run\n",
      "  - Model: 5355-state, 4-action\n",
      "  - Converged in 231 iterations and 0.2975 seconds\n",
      "  - Took on average 0.0013s per iteration\n"
     ]
    }
   ],
   "source": [
    "print(history.summary)"
   ]
  },
  {
   "cell_type": "code",
   "execution_count": 16,
   "metadata": {},
   "outputs": [
    {
     "name": "stdout",
     "output_type": "stream",
     "text": [
      "[Warning] Value function on GPU, converting to numpy before plotting...\n",
      "Warning: as_grid parameter set to False but state count is >3 so it will be plotted as a grid\n"
     ]
    },
    {
     "data": {
      "image/png": "[encoded data removed]",
      "text/plain": [
       "<Figure size 1000x500 with 3 Axes>"
      ]
     },
     "metadata": {},
     "output_type": "display_data"
    }
   ],
   "source": [
    "solution.plot()"
   ]
  },
  {
   "cell_type": "markdown",
   "metadata": {},
   "source": [
    "## FSVI"
   ]
  },
  {
   "cell_type": "code",
   "execution_count": 19,
   "metadata": {},
   "outputs": [],
   "source": [
    "fsvi_solver = FSVI_Solver(0.99, eps=1e-6)"
   ]
  },
  {
   "cell_type": "code",
   "execution_count": 22,
   "metadata": {},
   "outputs": [
    {
     "data": {
      "application/vnd.jupyter.widget-view+json": {
       "model_id": "d46958fe11ff492480033aebba24ed11",
       "version_major": 2,
       "version_minor": 0
      },
      "text/plain": [
       "Expansions:   0%|          | 0/100 [00:00<?, ?it/s]"
      ]
     },
     "metadata": {},
     "output_type": "display_data"
    }
   ],
   "source": [
    "fsvi_solution, hist = fsvi_solver.solve(model,100,300,solution,use_gpu=True)"
   ]
  },
  {
   "cell_type": "code",
   "execution_count": 26,
   "metadata": {},
   "outputs": [
    {
     "data": {
      "text/plain": [
       "<matplotlib.collections.PathCollection at 0x1df7d4e7750>"
      ]
     },
     "execution_count": 26,
     "metadata": {},
     "output_type": "execute_result"
    },
    {
     "data": {
      "image/png": "[encoded data removed]",
      "text/plain": [
       "<Figure size 640x480 with 1 Axes>"
      ]
     },
     "metadata": {},
     "output_type": "display_data"
    }
   ],
   "source": [
    "plt.scatter(np.arange(len(hist.backup_times[1:])), hist.backup_times[1:])"
   ]
  },
  {
   "cell_type": "code",
   "execution_count": 25,
   "metadata": {},
   "outputs": [
    {
     "data": {
      "text/plain": [
       "<matplotlib.collections.PathCollection at 0x1b36c0aa690>"
      ]
     },
     "execution_count": 25,
     "metadata": {},
     "output_type": "execute_result"
    },
    {
     "data": {
      "image/png": "[encoded data removed]",
      "text/plain": [
       "<Figure size 640x480 with 1 Axes>"
      ]
     },
     "metadata": {},
     "output_type": "display_data"
    }
   ],
   "source": [
    "plt.scatter(np.arange(len(hist.beliefs_counts)), hist.beliefs_counts, )"
   ]
  },
  {
   "cell_type": "code",
   "execution_count": 27,
   "metadata": {},
   "outputs": [
    {
     "name": "stdout",
     "output_type": "stream",
     "text": [
      "Summary of Value Iteration run\n",
      "  - Model: 5355 state, 4 action, 2 observations\n",
      "  - Converged or stopped after 100 expansion steps and 100 backup steps.\n",
      "  - Converged in 65.6828s\n",
      "\n",
      "  - Expand function took on average 0.3569s and yielded on average 89.67 beliefs per iteration.\n",
      "  - Backup function took on average 0.3000s and yielded on average value functions of size 438.81 per iteration.\n"
     ]
    }
   ],
   "source": [
    "print(hist.summary)"
   ]
  },
  {
   "cell_type": "code",
   "execution_count": 28,
   "metadata": {},
   "outputs": [
    {
     "data": {
      "text/plain": [
       "[<matplotlib.lines.Line2D at 0x1df7d2e7790>]"
      ]
     },
     "execution_count": 28,
     "metadata": {},
     "output_type": "execute_result"
    },
    {
     "data": {
      "image/png": "[encoded data removed]",
      "text/plain": [
       "<Figure size 640x480 with 1 Axes>"
      ]
     },
     "metadata": {},
     "output_type": "display_data"
    }
   ],
   "source": [
    "plt.plot(np.arange(len(hist.value_function_changes)), hist.value_function_changes)"
   ]
  },
  {
   "cell_type": "markdown",
   "metadata": {},
   "source": [
    "## FSVI with mdp solution as initial value function"
   ]
  },
  {
   "cell_type": "code",
   "execution_count": 17,
   "metadata": {},
   "outputs": [],
   "source": [
    "fsvi_solver = FSVI_Solver(0.99, eps=1e-6)"
   ]
  },
  {
   "cell_type": "code",
   "execution_count": 18,
   "metadata": {},
   "outputs": [
    {
     "data": {
      "application/vnd.jupyter.widget-view+json": {
       "model_id": "f64d1648ab6444c6be055a1dfb437ed2",
       "version_major": 2,
       "version_minor": 0
      },
      "text/plain": [
       "Expansions:   0%|          | 0/100 [00:00<?, ?it/s]"
      ]
     },
     "metadata": {},
     "output_type": "display_data"
    },
    {
     "name": "stdout",
     "output_type": "stream",
     "text": [
      "Converged early...\n"
     ]
    }
   ],
   "source": [
    "fsvi_solution, hist = fsvi_solver.solve(model, 100, 300, mdp_policy=solution, initial_value_function=solution, use_gpu=True)"
   ]
  },
  {
   "cell_type": "code",
   "execution_count": 19,
   "metadata": {},
   "outputs": [
    {
     "data": {
      "text/plain": [
       "[<matplotlib.lines.Line2D at 0x21aa46f2990>]"
      ]
     },
     "execution_count": 19,
     "metadata": {},
     "output_type": "execute_result"
    },
    {
     "data": {
      "image/png": "[encoded data removed]",
      "text/plain": [
       "<Figure size 640x480 with 1 Axes>"
      ]
     },
     "metadata": {},
     "output_type": "display_data"
    }
   ],
   "source": [
    "plt.plot(np.arange(len(hist.value_function_changes)), hist.value_function_changes)"
   ]
  },
  {
   "cell_type": "code",
   "execution_count": null,
   "metadata": {},
   "outputs": [],
   "source": []
  },
  {
   "cell_type": "code",
   "execution_count": null,
   "metadata": {},
   "outputs": [],
   "source": []
  },
  {
   "cell_type": "code",
   "execution_count": null,
   "metadata": {},
   "outputs": [],
   "source": []
  },
  {
   "cell_type": "code",
   "execution_count": 68,
   "metadata": {},
   "outputs": [
    {
     "name": "stderr",
     "output_type": "stream",
     "text": [
      "1it [00:00,  1.34it/s]"
     ]
    },
    {
     "name": "stdout",
     "output_type": "stream",
     "text": [
      "[0. 0. 0. ... 0. 0. 0.]\n",
      " -> Dominated\n",
      "\n"
     ]
    },
    {
     "name": "stderr",
     "output_type": "stream",
     "text": [
      "2it [00:01,  1.36it/s]"
     ]
    },
    {
     "name": "stdout",
     "output_type": "stream",
     "text": [
      "[0. 0. 0. ... 0. 0. 0.]\n",
      " -> Dominated\n",
      "\n"
     ]
    },
    {
     "name": "stderr",
     "output_type": "stream",
     "text": [
      "3it [00:02,  1.39it/s]"
     ]
    },
    {
     "name": "stdout",
     "output_type": "stream",
     "text": [
      "[0. 0. 0. ... 0. 0. 0.]\n",
      " -> Dominated\n",
      "\n"
     ]
    },
    {
     "name": "stderr",
     "output_type": "stream",
     "text": [
      "4it [00:02,  1.37it/s]"
     ]
    },
    {
     "name": "stdout",
     "output_type": "stream",
     "text": [
      "[0. 0. 0. ... 0. 0. 0.]\n",
      " -> Dominated\n",
      "\n"
     ]
    },
    {
     "name": "stderr",
     "output_type": "stream",
     "text": [
      "5it [00:03,  1.39it/s]"
     ]
    },
    {
     "name": "stdout",
     "output_type": "stream",
     "text": [
      "[0. 0. 0. ... 0. 0. 0.]\n",
      " -> Dominated\n",
      "\n"
     ]
    },
    {
     "name": "stderr",
     "output_type": "stream",
     "text": [
      "6it [00:04,  1.40it/s]"
     ]
    },
    {
     "name": "stdout",
     "output_type": "stream",
     "text": [
      "[0. 0. 0. ... 0. 0. 0.]\n",
      " -> Dominated\n",
      "\n"
     ]
    },
    {
     "name": "stderr",
     "output_type": "stream",
     "text": [
      "7it [00:05,  1.40it/s]"
     ]
    },
    {
     "name": "stdout",
     "output_type": "stream",
     "text": [
      "[0. 0. 0. ... 0. 0. 0.]\n",
      " -> Dominated\n",
      "\n"
     ]
    },
    {
     "name": "stderr",
     "output_type": "stream",
     "text": [
      "8it [00:05,  1.38it/s]"
     ]
    },
    {
     "name": "stdout",
     "output_type": "stream",
     "text": [
      "[0. 0. 0. ... 0. 0. 0.]\n",
      " -> Dominated\n",
      "\n"
     ]
    },
    {
     "name": "stderr",
     "output_type": "stream",
     "text": [
      "9it [00:06,  1.38it/s]"
     ]
    },
    {
     "name": "stdout",
     "output_type": "stream",
     "text": [
      "[0. 0. 0. ... 0. 0. 0.]\n",
      " -> Dominated\n",
      "\n"
     ]
    },
    {
     "name": "stderr",
     "output_type": "stream",
     "text": [
      "10it [00:07,  1.40it/s]"
     ]
    },
    {
     "name": "stdout",
     "output_type": "stream",
     "text": [
      "[0. 0. 0. ... 0. 0. 0.]\n",
      " -> Dominated\n",
      "\n"
     ]
    },
    {
     "name": "stderr",
     "output_type": "stream",
     "text": [
      "11it [00:07,  1.41it/s]"
     ]
    },
    {
     "name": "stdout",
     "output_type": "stream",
     "text": [
      "[0. 0. 0. ... 0. 0. 0.]\n",
      " -> Dominated\n",
      "\n"
     ]
    },
    {
     "name": "stderr",
     "output_type": "stream",
     "text": [
      "12it [00:08,  1.40it/s]"
     ]
    },
    {
     "name": "stdout",
     "output_type": "stream",
     "text": [
      "[0. 0. 0. ... 0. 0. 0.]\n",
      " -> Dominated\n",
      "\n"
     ]
    },
    {
     "name": "stderr",
     "output_type": "stream",
     "text": [
      "13it [00:09,  1.41it/s]"
     ]
    },
    {
     "name": "stdout",
     "output_type": "stream",
     "text": [
      "[0. 0. 0. ... 0. 0. 0.]\n",
      " -> Dominated\n",
      "\n"
     ]
    },
    {
     "name": "stderr",
     "output_type": "stream",
     "text": [
      "14it [00:10,  1.42it/s]"
     ]
    },
    {
     "name": "stdout",
     "output_type": "stream",
     "text": [
      "[0. 0. 0. ... 0. 0. 0.]\n",
      " -> Dominated\n",
      "\n"
     ]
    },
    {
     "name": "stderr",
     "output_type": "stream",
     "text": [
      "15it [00:10,  1.42it/s]"
     ]
    },
    {
     "name": "stdout",
     "output_type": "stream",
     "text": [
      "[0. 0. 0. ... 0. 0. 0.]\n",
      " -> Dominated\n",
      "\n"
     ]
    },
    {
     "name": "stderr",
     "output_type": "stream",
     "text": [
      "16it [00:11,  1.40it/s]"
     ]
    },
    {
     "name": "stdout",
     "output_type": "stream",
     "text": [
      "[0. 0. 0. ... 0. 0. 0.]\n",
      " -> Dominated\n",
      "\n"
     ]
    },
    {
     "name": "stderr",
     "output_type": "stream",
     "text": [
      "17it [00:12,  1.40it/s]"
     ]
    },
    {
     "name": "stdout",
     "output_type": "stream",
     "text": [
      "[0. 0. 0. ... 0. 0. 0.]\n",
      " -> Dominated\n",
      "\n"
     ]
    },
    {
     "name": "stderr",
     "output_type": "stream",
     "text": [
      "18it [00:12,  1.40it/s]"
     ]
    },
    {
     "name": "stdout",
     "output_type": "stream",
     "text": [
      "[0. 0. 0. ... 0. 0. 0.]\n",
      " -> Dominated\n",
      "\n"
     ]
    },
    {
     "name": "stderr",
     "output_type": "stream",
     "text": [
      "19it [00:13,  1.41it/s]"
     ]
    },
    {
     "name": "stdout",
     "output_type": "stream",
     "text": [
      "[0. 0. 0. ... 0. 0. 0.]\n",
      " -> Dominated\n",
      "\n"
     ]
    },
    {
     "name": "stderr",
     "output_type": "stream",
     "text": [
      "20it [00:14,  1.43it/s]"
     ]
    },
    {
     "name": "stdout",
     "output_type": "stream",
     "text": [
      "[0. 0. 0. ... 0. 0. 0.]\n",
      " -> Dominated\n",
      "\n"
     ]
    },
    {
     "name": "stderr",
     "output_type": "stream",
     "text": [
      "21it [00:14,  1.43it/s]"
     ]
    },
    {
     "name": "stdout",
     "output_type": "stream",
     "text": [
      "[0. 0. 0. ... 0. 0. 0.]\n",
      " -> Dominated\n",
      "\n"
     ]
    },
    {
     "name": "stderr",
     "output_type": "stream",
     "text": [
      "22it [00:15,  1.44it/s]"
     ]
    },
    {
     "name": "stdout",
     "output_type": "stream",
     "text": [
      "[0. 0. 0. ... 0. 0. 0.]\n",
      " -> Dominated\n",
      "\n"
     ]
    },
    {
     "name": "stderr",
     "output_type": "stream",
     "text": [
      "23it [00:16,  1.42it/s]"
     ]
    },
    {
     "name": "stdout",
     "output_type": "stream",
     "text": [
      "[0. 0. 0. ... 0. 0. 0.]\n",
      " -> Dominated\n",
      "\n"
     ]
    },
    {
     "name": "stderr",
     "output_type": "stream",
     "text": [
      "24it [00:17,  1.42it/s]"
     ]
    },
    {
     "name": "stdout",
     "output_type": "stream",
     "text": [
      "[0. 0. 0. ... 0. 0. 0.]\n",
      " -> Dominated\n",
      "\n"
     ]
    },
    {
     "name": "stderr",
     "output_type": "stream",
     "text": [
      "25it [00:17,  1.42it/s]"
     ]
    },
    {
     "name": "stdout",
     "output_type": "stream",
     "text": [
      "[0. 0. 0. ... 0. 0. 0.]\n",
      " -> Dominated\n",
      "\n"
     ]
    },
    {
     "name": "stderr",
     "output_type": "stream",
     "text": [
      "26it [00:18,  1.43it/s]"
     ]
    },
    {
     "name": "stdout",
     "output_type": "stream",
     "text": [
      "[0. 0. 0. ... 0. 0. 0.]\n",
      " -> Dominated\n",
      "\n"
     ]
    },
    {
     "name": "stderr",
     "output_type": "stream",
     "text": [
      "27it [00:19,  1.44it/s]"
     ]
    },
    {
     "name": "stdout",
     "output_type": "stream",
     "text": [
      "[0. 0. 0. ... 0. 0. 0.]\n",
      " -> Dominated\n",
      "\n"
     ]
    },
    {
     "name": "stderr",
     "output_type": "stream",
     "text": [
      "28it [00:19,  1.45it/s]"
     ]
    },
    {
     "name": "stdout",
     "output_type": "stream",
     "text": [
      "[0. 0. 0. ... 0. 0. 0.]\n",
      " -> Dominated\n",
      "\n"
     ]
    },
    {
     "name": "stderr",
     "output_type": "stream",
     "text": [
      "29it [00:20,  1.44it/s]"
     ]
    },
    {
     "name": "stdout",
     "output_type": "stream",
     "text": [
      "[0. 0. 0. ... 0. 0. 0.]\n",
      " -> Dominated\n",
      "\n"
     ]
    },
    {
     "name": "stderr",
     "output_type": "stream",
     "text": [
      "30it [00:21,  1.43it/s]"
     ]
    },
    {
     "name": "stdout",
     "output_type": "stream",
     "text": [
      "[0. 0. 0. ... 0. 0. 0.]\n",
      " -> Dominated\n",
      "\n"
     ]
    },
    {
     "name": "stderr",
     "output_type": "stream",
     "text": [
      "31it [00:21,  1.42it/s]"
     ]
    },
    {
     "name": "stdout",
     "output_type": "stream",
     "text": [
      "[0. 0. 0. ... 0. 0. 0.]\n",
      " -> Dominated\n",
      "\n"
     ]
    },
    {
     "name": "stderr",
     "output_type": "stream",
     "text": [
      "32it [00:22,  1.42it/s]"
     ]
    },
    {
     "name": "stdout",
     "output_type": "stream",
     "text": [
      "[0. 0. 0. ... 0. 0. 0.]\n",
      " -> Dominated\n",
      "\n"
     ]
    },
    {
     "name": "stderr",
     "output_type": "stream",
     "text": [
      "33it [00:23,  1.37it/s]"
     ]
    },
    {
     "name": "stdout",
     "output_type": "stream",
     "text": [
      "[0. 0. 0. ... 0. 0. 0.]\n",
      " -> Dominated\n",
      "\n"
     ]
    },
    {
     "name": "stderr",
     "output_type": "stream",
     "text": [
      "34it [00:24,  1.31it/s]"
     ]
    },
    {
     "name": "stdout",
     "output_type": "stream",
     "text": [
      "[0. 0. 0. ... 0. 0. 0.]\n",
      " -> Dominated\n",
      "\n"
     ]
    },
    {
     "name": "stderr",
     "output_type": "stream",
     "text": [
      "35it [00:25,  1.27it/s]"
     ]
    },
    {
     "name": "stdout",
     "output_type": "stream",
     "text": [
      "[0. 0. 0. ... 0. 0. 0.]\n",
      " -> Dominated\n",
      "\n"
     ]
    },
    {
     "name": "stderr",
     "output_type": "stream",
     "text": [
      "36it [00:25,  1.25it/s]"
     ]
    },
    {
     "name": "stdout",
     "output_type": "stream",
     "text": [
      "[0. 0. 0. ... 0. 0. 0.]\n",
      " -> Dominated\n",
      "\n"
     ]
    },
    {
     "name": "stderr",
     "output_type": "stream",
     "text": [
      "37it [00:26,  1.25it/s]"
     ]
    },
    {
     "name": "stdout",
     "output_type": "stream",
     "text": [
      "[0. 0. 0. ... 0. 0. 0.]\n",
      " -> Dominated\n",
      "\n"
     ]
    },
    {
     "name": "stderr",
     "output_type": "stream",
     "text": [
      "38it [00:27,  1.23it/s]"
     ]
    },
    {
     "name": "stdout",
     "output_type": "stream",
     "text": [
      "[0. 0. 0. ... 0. 0. 0.]\n",
      " -> Dominated\n",
      "\n"
     ]
    },
    {
     "name": "stderr",
     "output_type": "stream",
     "text": [
      "39it [00:28,  1.23it/s]"
     ]
    },
    {
     "name": "stdout",
     "output_type": "stream",
     "text": [
      "[0. 0. 0. ... 0. 0. 0.]\n",
      " -> Dominated\n",
      "\n"
     ]
    },
    {
     "name": "stderr",
     "output_type": "stream",
     "text": [
      "40it [00:29,  1.23it/s]"
     ]
    },
    {
     "name": "stdout",
     "output_type": "stream",
     "text": [
      "[0. 0. 0. ... 0. 0. 0.]\n",
      " -> Dominated\n",
      "\n"
     ]
    },
    {
     "name": "stderr",
     "output_type": "stream",
     "text": [
      "41it [00:30,  1.24it/s]"
     ]
    },
    {
     "name": "stdout",
     "output_type": "stream",
     "text": [
      "[0. 0. 0. ... 0. 0. 0.]\n",
      " -> Dominated\n",
      "\n"
     ]
    },
    {
     "name": "stderr",
     "output_type": "stream",
     "text": [
      "42it [00:30,  1.23it/s]"
     ]
    },
    {
     "name": "stdout",
     "output_type": "stream",
     "text": [
      "[0. 0. 0. ... 0. 0. 0.]\n",
      " -> Dominated\n",
      "\n"
     ]
    },
    {
     "name": "stderr",
     "output_type": "stream",
     "text": [
      "43it [00:31,  1.19it/s]"
     ]
    },
    {
     "name": "stdout",
     "output_type": "stream",
     "text": [
      "[0. 0. 0. ... 0. 0. 0.]\n",
      " -> Dominated\n",
      "\n"
     ]
    },
    {
     "name": "stderr",
     "output_type": "stream",
     "text": [
      "44it [00:32,  1.15it/s]"
     ]
    },
    {
     "name": "stdout",
     "output_type": "stream",
     "text": [
      "[0. 0. 0. ... 0. 0. 0.]\n",
      " -> Dominated\n",
      "\n"
     ]
    },
    {
     "name": "stderr",
     "output_type": "stream",
     "text": [
      "45it [00:33,  1.14it/s]"
     ]
    },
    {
     "name": "stdout",
     "output_type": "stream",
     "text": [
      "[0. 0. 0. ... 0. 0. 0.]\n",
      " -> Dominated\n",
      "\n"
     ]
    },
    {
     "name": "stderr",
     "output_type": "stream",
     "text": [
      "46it [00:34,  1.16it/s]"
     ]
    },
    {
     "name": "stdout",
     "output_type": "stream",
     "text": [
      "[0. 0. 0. ... 0. 0. 0.]\n",
      " -> Dominated\n",
      "\n"
     ]
    },
    {
     "name": "stderr",
     "output_type": "stream",
     "text": [
      "47it [00:35,  1.15it/s]"
     ]
    },
    {
     "name": "stdout",
     "output_type": "stream",
     "text": [
      "[0. 0. 0. ... 0. 0. 0.]\n",
      " -> Dominated\n",
      "\n"
     ]
    },
    {
     "name": "stderr",
     "output_type": "stream",
     "text": [
      "48it [00:36,  1.11it/s]"
     ]
    },
    {
     "name": "stdout",
     "output_type": "stream",
     "text": [
      "[0. 0. 0. ... 0. 0. 0.]\n",
      " -> Dominated\n",
      "\n"
     ]
    },
    {
     "name": "stderr",
     "output_type": "stream",
     "text": [
      "49it [00:37,  1.08it/s]"
     ]
    },
    {
     "name": "stdout",
     "output_type": "stream",
     "text": [
      "[0. 0. 0. ... 0. 0. 0.]\n",
      " -> Dominated\n",
      "\n"
     ]
    },
    {
     "name": "stderr",
     "output_type": "stream",
     "text": [
      "50it [00:38,  1.06it/s]"
     ]
    },
    {
     "name": "stdout",
     "output_type": "stream",
     "text": [
      "[0. 0. 0. ... 0. 0. 0.]\n",
      " -> Dominated\n",
      "\n"
     ]
    },
    {
     "name": "stderr",
     "output_type": "stream",
     "text": [
      "51it [00:39,  1.03it/s]"
     ]
    },
    {
     "name": "stdout",
     "output_type": "stream",
     "text": [
      "[0. 0. 0. ... 0. 0. 0.]\n",
      " -> Dominated\n",
      "\n"
     ]
    },
    {
     "name": "stderr",
     "output_type": "stream",
     "text": [
      "52it [00:40,  1.02it/s]"
     ]
    },
    {
     "name": "stdout",
     "output_type": "stream",
     "text": [
      "[0. 0. 0. ... 0. 0. 0.]\n",
      " -> Dominated\n",
      "\n"
     ]
    },
    {
     "name": "stderr",
     "output_type": "stream",
     "text": [
      "53it [00:41,  1.01s/it]"
     ]
    },
    {
     "name": "stdout",
     "output_type": "stream",
     "text": [
      "[0. 0. 0. ... 0. 0. 0.]\n",
      " -> Dominated\n",
      "\n"
     ]
    },
    {
     "name": "stderr",
     "output_type": "stream",
     "text": [
      "54it [00:42,  1.04s/it]"
     ]
    },
    {
     "name": "stdout",
     "output_type": "stream",
     "text": [
      "[0. 0. 0. ... 0. 0. 0.]\n",
      " -> Dominated\n",
      "\n"
     ]
    },
    {
     "name": "stderr",
     "output_type": "stream",
     "text": [
      "55it [00:43,  1.03s/it]"
     ]
    },
    {
     "name": "stdout",
     "output_type": "stream",
     "text": [
      "[0. 0. 0. ... 0. 0. 0.]\n",
      " -> Dominated\n",
      "\n"
     ]
    },
    {
     "name": "stderr",
     "output_type": "stream",
     "text": [
      "56it [00:44,  1.04s/it]"
     ]
    },
    {
     "name": "stdout",
     "output_type": "stream",
     "text": [
      "[0. 0. 0. ... 0. 0. 0.]\n",
      " -> Dominated\n",
      "\n"
     ]
    },
    {
     "name": "stderr",
     "output_type": "stream",
     "text": [
      "57it [00:45,  1.01it/s]"
     ]
    },
    {
     "name": "stdout",
     "output_type": "stream",
     "text": [
      "[0. 0. 0. ... 0. 0. 0.]\n",
      " -> Dominated\n",
      "\n"
     ]
    },
    {
     "name": "stderr",
     "output_type": "stream",
     "text": [
      "58it [00:46,  1.05it/s]"
     ]
    },
    {
     "name": "stdout",
     "output_type": "stream",
     "text": [
      "[0. 0. 0. ... 0. 0. 0.]\n",
      " -> Dominated\n",
      "\n"
     ]
    },
    {
     "name": "stderr",
     "output_type": "stream",
     "text": [
      "59it [00:47,  1.10it/s]"
     ]
    },
    {
     "name": "stdout",
     "output_type": "stream",
     "text": [
      "[0. 0. 0. ... 0. 0. 0.]\n",
      " -> Dominated\n",
      "\n"
     ]
    },
    {
     "name": "stderr",
     "output_type": "stream",
     "text": [
      "60it [00:47,  1.12it/s]"
     ]
    },
    {
     "name": "stdout",
     "output_type": "stream",
     "text": [
      "[0. 0. 0. ... 0. 0. 0.]\n",
      " -> Dominated\n",
      "\n"
     ]
    },
    {
     "name": "stderr",
     "output_type": "stream",
     "text": [
      "61it [00:48,  1.13it/s]"
     ]
    },
    {
     "name": "stdout",
     "output_type": "stream",
     "text": [
      "[0. 0. 0. ... 0. 0. 0.]\n",
      " -> Dominated\n",
      "\n"
     ]
    },
    {
     "name": "stderr",
     "output_type": "stream",
     "text": [
      "62it [00:49,  1.13it/s]"
     ]
    },
    {
     "name": "stdout",
     "output_type": "stream",
     "text": [
      "[0. 0. 0. ... 0. 0. 0.]\n",
      " -> Dominated\n",
      "\n"
     ]
    },
    {
     "name": "stderr",
     "output_type": "stream",
     "text": [
      "63it [00:50,  1.14it/s]"
     ]
    },
    {
     "name": "stdout",
     "output_type": "stream",
     "text": [
      "[0. 0. 0. ... 0. 0. 0.]\n",
      " -> Dominated\n",
      "\n"
     ]
    },
    {
     "name": "stderr",
     "output_type": "stream",
     "text": [
      "64it [00:51,  1.16it/s]"
     ]
    },
    {
     "name": "stdout",
     "output_type": "stream",
     "text": [
      "[0. 0. 0. ... 0. 0. 0.]\n",
      " -> Dominated\n",
      "\n"
     ]
    },
    {
     "name": "stderr",
     "output_type": "stream",
     "text": [
      "65it [00:52,  1.10it/s]"
     ]
    },
    {
     "name": "stdout",
     "output_type": "stream",
     "text": [
      "[0. 0. 0. ... 0. 0. 0.]\n",
      " -> Dominated\n",
      "\n"
     ]
    },
    {
     "name": "stderr",
     "output_type": "stream",
     "text": [
      "66it [00:53,  1.11it/s]"
     ]
    },
    {
     "name": "stdout",
     "output_type": "stream",
     "text": [
      "[0. 0. 0. ... 0. 0. 0.]\n",
      " -> Dominated\n",
      "\n"
     ]
    },
    {
     "name": "stderr",
     "output_type": "stream",
     "text": [
      "67it [00:54,  1.13it/s]"
     ]
    },
    {
     "name": "stdout",
     "output_type": "stream",
     "text": [
      "[0. 0. 0. ... 0. 0. 0.]\n",
      " -> Dominated\n",
      "\n"
     ]
    },
    {
     "name": "stderr",
     "output_type": "stream",
     "text": [
      "68it [00:54,  1.14it/s]"
     ]
    },
    {
     "name": "stdout",
     "output_type": "stream",
     "text": [
      "[0. 0. 0. ... 0. 0. 0.]\n",
      " -> Dominated\n",
      "\n"
     ]
    },
    {
     "name": "stderr",
     "output_type": "stream",
     "text": [
      "69it [00:55,  1.13it/s]"
     ]
    },
    {
     "name": "stdout",
     "output_type": "stream",
     "text": [
      "[0. 0. 0. ... 0. 0. 0.]\n",
      " -> Dominated\n",
      "\n"
     ]
    },
    {
     "name": "stderr",
     "output_type": "stream",
     "text": [
      "70it [00:56,  1.10it/s]"
     ]
    },
    {
     "name": "stdout",
     "output_type": "stream",
     "text": [
      "[0. 0. 0. ... 0. 0. 0.]\n",
      " -> Dominated\n",
      "\n"
     ]
    },
    {
     "name": "stderr",
     "output_type": "stream",
     "text": [
      "71it [00:57,  1.09it/s]"
     ]
    },
    {
     "name": "stdout",
     "output_type": "stream",
     "text": [
      "[0. 0. 0. ... 0. 0. 0.]\n",
      " -> Dominated\n",
      "\n"
     ]
    },
    {
     "name": "stderr",
     "output_type": "stream",
     "text": [
      "72it [00:58,  1.07it/s]"
     ]
    },
    {
     "name": "stdout",
     "output_type": "stream",
     "text": [
      "[0. 0. 0. ... 0. 0. 0.]\n",
      " -> Dominated\n",
      "\n"
     ]
    },
    {
     "name": "stderr",
     "output_type": "stream",
     "text": [
      "73it [00:59,  1.07it/s]"
     ]
    },
    {
     "name": "stdout",
     "output_type": "stream",
     "text": [
      "[0. 0. 0. ... 0. 0. 0.]\n",
      " -> Dominated\n",
      "\n"
     ]
    },
    {
     "name": "stderr",
     "output_type": "stream",
     "text": [
      "74it [01:00,  1.04it/s]"
     ]
    },
    {
     "name": "stdout",
     "output_type": "stream",
     "text": [
      "[0. 0. 0. ... 0. 0. 0.]\n",
      " -> Dominated\n",
      "\n"
     ]
    },
    {
     "name": "stderr",
     "output_type": "stream",
     "text": [
      "75it [01:01,  1.04it/s]"
     ]
    },
    {
     "name": "stdout",
     "output_type": "stream",
     "text": [
      "[0. 0. 0. ... 0. 0. 0.]\n",
      " -> Dominated\n",
      "\n"
     ]
    },
    {
     "name": "stderr",
     "output_type": "stream",
     "text": [
      "76it [01:02,  1.03it/s]"
     ]
    },
    {
     "name": "stdout",
     "output_type": "stream",
     "text": [
      "[0. 0. 0. ... 0. 0. 0.]\n",
      " -> Dominated\n",
      "\n"
     ]
    },
    {
     "name": "stderr",
     "output_type": "stream",
     "text": [
      "77it [01:03,  1.03it/s]"
     ]
    },
    {
     "name": "stdout",
     "output_type": "stream",
     "text": [
      "[0. 0. 0. ... 0. 0. 0.]\n",
      " -> Dominated\n",
      "\n"
     ]
    },
    {
     "name": "stderr",
     "output_type": "stream",
     "text": [
      "78it [01:04,  1.02it/s]"
     ]
    },
    {
     "name": "stdout",
     "output_type": "stream",
     "text": [
      "[0. 0. 0. ... 0. 0. 0.]\n",
      " -> Dominated\n",
      "\n"
     ]
    },
    {
     "name": "stderr",
     "output_type": "stream",
     "text": [
      "79it [01:05,  1.01it/s]"
     ]
    },
    {
     "name": "stdout",
     "output_type": "stream",
     "text": [
      "[0. 0. 0. ... 0. 0. 0.]\n",
      " -> Dominated\n",
      "\n"
     ]
    },
    {
     "name": "stderr",
     "output_type": "stream",
     "text": [
      "80it [01:06,  1.02it/s]"
     ]
    },
    {
     "name": "stdout",
     "output_type": "stream",
     "text": [
      "[0. 0. 0. ... 0. 0. 0.]\n",
      " -> Dominated\n",
      "\n"
     ]
    },
    {
     "name": "stderr",
     "output_type": "stream",
     "text": [
      "81it [01:07,  1.04it/s]"
     ]
    },
    {
     "name": "stdout",
     "output_type": "stream",
     "text": [
      "[0. 0. 0. ... 0. 0. 0.]\n",
      " -> Dominated\n",
      "\n"
     ]
    },
    {
     "name": "stderr",
     "output_type": "stream",
     "text": [
      "82it [01:08,  1.03it/s]"
     ]
    },
    {
     "name": "stdout",
     "output_type": "stream",
     "text": [
      "[0. 0. 0. ... 0. 0. 0.]\n",
      " -> Dominated\n",
      "\n"
     ]
    },
    {
     "name": "stderr",
     "output_type": "stream",
     "text": [
      "83it [01:09,  1.03it/s]"
     ]
    },
    {
     "name": "stdout",
     "output_type": "stream",
     "text": [
      "[0. 0. 0. ... 0. 0. 0.]\n",
      " -> Dominated\n",
      "\n"
     ]
    },
    {
     "name": "stderr",
     "output_type": "stream",
     "text": [
      "84it [01:10,  1.03it/s]"
     ]
    },
    {
     "name": "stdout",
     "output_type": "stream",
     "text": [
      "[0. 0. 0. ... 0. 0. 0.]\n",
      " -> Dominated\n",
      "\n"
     ]
    },
    {
     "name": "stderr",
     "output_type": "stream",
     "text": [
      "85it [01:11,  1.03it/s]"
     ]
    },
    {
     "name": "stdout",
     "output_type": "stream",
     "text": [
      "[0. 0. 0. ... 0. 0. 0.]\n",
      " -> Dominated\n",
      "\n"
     ]
    },
    {
     "name": "stderr",
     "output_type": "stream",
     "text": [
      "86it [01:12,  1.02it/s]"
     ]
    },
    {
     "name": "stdout",
     "output_type": "stream",
     "text": [
      "[0. 0. 0. ... 0. 0. 0.]\n",
      " -> Dominated\n",
      "\n"
     ]
    },
    {
     "name": "stderr",
     "output_type": "stream",
     "text": [
      "87it [01:13,  1.03it/s]"
     ]
    },
    {
     "name": "stdout",
     "output_type": "stream",
     "text": [
      "[0. 0. 0. ... 0. 0. 0.]\n",
      " -> Dominated\n",
      "\n"
     ]
    },
    {
     "name": "stderr",
     "output_type": "stream",
     "text": [
      "88it [01:14,  1.04it/s]"
     ]
    },
    {
     "name": "stdout",
     "output_type": "stream",
     "text": [
      "[0. 0. 0. ... 0. 0. 0.]\n",
      " -> Dominated\n",
      "\n"
     ]
    },
    {
     "name": "stderr",
     "output_type": "stream",
     "text": [
      "89it [01:15,  1.05it/s]"
     ]
    },
    {
     "name": "stdout",
     "output_type": "stream",
     "text": [
      "[0. 0. 0. ... 0. 0. 0.]\n",
      " -> Dominated\n",
      "\n"
     ]
    },
    {
     "name": "stderr",
     "output_type": "stream",
     "text": [
      "90it [01:16,  1.07it/s]"
     ]
    },
    {
     "name": "stdout",
     "output_type": "stream",
     "text": [
      "[0. 0. 0. ... 0. 0. 0.]\n",
      " -> Dominated\n",
      "\n"
     ]
    },
    {
     "name": "stderr",
     "output_type": "stream",
     "text": [
      "91it [01:17,  1.05it/s]"
     ]
    },
    {
     "name": "stdout",
     "output_type": "stream",
     "text": [
      "[0. 0. 0. ... 0. 0. 0.]\n",
      " -> Dominated\n",
      "\n"
     ]
    },
    {
     "name": "stderr",
     "output_type": "stream",
     "text": [
      "92it [01:18,  1.05it/s]"
     ]
    },
    {
     "name": "stdout",
     "output_type": "stream",
     "text": [
      "[0. 0. 0. ... 0. 0. 0.]\n",
      " -> Dominated\n",
      "\n"
     ]
    },
    {
     "name": "stderr",
     "output_type": "stream",
     "text": [
      "93it [01:19,  1.05it/s]"
     ]
    },
    {
     "name": "stdout",
     "output_type": "stream",
     "text": [
      "[0. 0. 0. ... 0. 0. 0.]\n",
      " -> Dominated\n",
      "\n"
     ]
    },
    {
     "name": "stderr",
     "output_type": "stream",
     "text": [
      "94it [01:20,  1.04it/s]"
     ]
    },
    {
     "name": "stdout",
     "output_type": "stream",
     "text": [
      "[0. 0. 0. ... 0. 0. 0.]\n",
      " -> Dominated\n",
      "\n"
     ]
    },
    {
     "name": "stderr",
     "output_type": "stream",
     "text": [
      "95it [01:21,  1.03it/s]"
     ]
    },
    {
     "name": "stdout",
     "output_type": "stream",
     "text": [
      "[0. 0. 0. ... 0. 0. 0.]\n",
      " -> Dominated\n",
      "\n"
     ]
    },
    {
     "name": "stderr",
     "output_type": "stream",
     "text": [
      "96it [01:22,  1.03it/s]"
     ]
    },
    {
     "name": "stdout",
     "output_type": "stream",
     "text": [
      "[0. 0. 0. ... 0. 0. 0.]\n",
      " -> Dominated\n",
      "\n"
     ]
    },
    {
     "name": "stderr",
     "output_type": "stream",
     "text": [
      "97it [01:23,  1.02it/s]"
     ]
    },
    {
     "name": "stdout",
     "output_type": "stream",
     "text": [
      "[0. 0. 0. ... 0. 0. 0.]\n",
      " -> Dominated\n",
      "\n"
     ]
    },
    {
     "name": "stderr",
     "output_type": "stream",
     "text": [
      "98it [01:24,  1.02it/s]"
     ]
    },
    {
     "name": "stdout",
     "output_type": "stream",
     "text": [
      "[0. 0. 0. ... 0. 0. 0.]\n",
      " -> Dominated\n",
      "\n"
     ]
    },
    {
     "name": "stderr",
     "output_type": "stream",
     "text": [
      "99it [01:24,  1.04it/s]"
     ]
    },
    {
     "name": "stdout",
     "output_type": "stream",
     "text": [
      "[0. 0. 0. ... 0. 0. 0.]\n",
      " -> Dominated\n",
      "\n"
     ]
    },
    {
     "name": "stderr",
     "output_type": "stream",
     "text": [
      "100it [01:25,  1.04it/s]"
     ]
    },
    {
     "name": "stdout",
     "output_type": "stream",
     "text": [
      "[0. 0. 0. ... 0. 0. 0.]\n",
      " -> Dominated\n",
      "\n"
     ]
    },
    {
     "name": "stderr",
     "output_type": "stream",
     "text": [
      "101it [01:26,  1.06it/s]"
     ]
    },
    {
     "name": "stdout",
     "output_type": "stream",
     "text": [
      "[0. 0. 0. ... 0. 0. 0.]\n",
      " -> Dominated\n",
      "\n"
     ]
    },
    {
     "name": "stderr",
     "output_type": "stream",
     "text": [
      "102it [01:27,  1.08it/s]"
     ]
    },
    {
     "name": "stdout",
     "output_type": "stream",
     "text": [
      "[0. 0. 0. ... 0. 0. 0.]\n",
      " -> Dominated\n",
      "\n"
     ]
    },
    {
     "name": "stderr",
     "output_type": "stream",
     "text": [
      "103it [01:28,  1.09it/s]"
     ]
    },
    {
     "name": "stdout",
     "output_type": "stream",
     "text": [
      "[0. 0. 0. ... 0. 0. 0.]\n",
      " -> Dominated\n",
      "\n"
     ]
    },
    {
     "name": "stderr",
     "output_type": "stream",
     "text": [
      "104it [01:29,  1.08it/s]"
     ]
    },
    {
     "name": "stdout",
     "output_type": "stream",
     "text": [
      "[0. 0. 0. ... 0. 0. 0.]\n",
      " -> Dominated\n",
      "\n"
     ]
    },
    {
     "name": "stderr",
     "output_type": "stream",
     "text": [
      "105it [01:30,  1.07it/s]"
     ]
    },
    {
     "name": "stdout",
     "output_type": "stream",
     "text": [
      "[0. 0. 0. ... 0. 0. 0.]\n",
      " -> Dominated\n",
      "\n"
     ]
    },
    {
     "name": "stderr",
     "output_type": "stream",
     "text": [
      "106it [01:31,  1.06it/s]"
     ]
    },
    {
     "name": "stdout",
     "output_type": "stream",
     "text": [
      "[0. 0. 0. ... 0. 0. 0.]\n",
      " -> Dominated\n",
      "\n"
     ]
    },
    {
     "name": "stderr",
     "output_type": "stream",
     "text": [
      "107it [01:32,  1.05it/s]"
     ]
    },
    {
     "name": "stdout",
     "output_type": "stream",
     "text": [
      "[0. 0. 0. ... 0. 0. 0.]\n",
      " -> Dominated\n",
      "\n"
     ]
    },
    {
     "name": "stderr",
     "output_type": "stream",
     "text": [
      "108it [01:33,  1.05it/s]"
     ]
    },
    {
     "name": "stdout",
     "output_type": "stream",
     "text": [
      "[0. 0. 0. ... 0. 0. 0.]\n",
      " -> Dominated\n",
      "\n"
     ]
    },
    {
     "name": "stderr",
     "output_type": "stream",
     "text": [
      "109it [01:34,  1.04it/s]"
     ]
    },
    {
     "name": "stdout",
     "output_type": "stream",
     "text": [
      "[0. 0. 0. ... 0. 0. 0.]\n",
      " -> Dominated\n",
      "\n"
     ]
    },
    {
     "name": "stderr",
     "output_type": "stream",
     "text": [
      "110it [01:35,  1.04it/s]"
     ]
    },
    {
     "name": "stdout",
     "output_type": "stream",
     "text": [
      "[0. 0. 0. ... 0. 0. 0.]\n",
      " -> Dominated\n",
      "\n"
     ]
    },
    {
     "name": "stderr",
     "output_type": "stream",
     "text": [
      "111it [01:36,  1.03it/s]"
     ]
    },
    {
     "name": "stdout",
     "output_type": "stream",
     "text": [
      "[0. 0. 0. ... 0. 0. 0.]\n",
      " -> Dominated\n",
      "\n"
     ]
    },
    {
     "name": "stderr",
     "output_type": "stream",
     "text": [
      "112it [01:37,  1.04it/s]"
     ]
    },
    {
     "name": "stdout",
     "output_type": "stream",
     "text": [
      "[0. 0. 0. ... 0. 0. 0.]\n",
      " -> Dominated\n",
      "\n"
     ]
    },
    {
     "name": "stderr",
     "output_type": "stream",
     "text": [
      "113it [01:38,  1.03it/s]"
     ]
    },
    {
     "name": "stdout",
     "output_type": "stream",
     "text": [
      "[0. 0. 0. ... 0. 0. 0.]\n",
      " -> Dominated\n",
      "\n"
     ]
    },
    {
     "name": "stderr",
     "output_type": "stream",
     "text": [
      "114it [01:39,  1.04it/s]"
     ]
    },
    {
     "name": "stdout",
     "output_type": "stream",
     "text": [
      "[0. 0. 0. ... 0. 0. 0.]\n",
      " -> Dominated\n",
      "\n"
     ]
    },
    {
     "name": "stderr",
     "output_type": "stream",
     "text": [
      "115it [01:40,  1.06it/s]"
     ]
    },
    {
     "name": "stdout",
     "output_type": "stream",
     "text": [
      "[0. 0. 0. ... 0. 0. 0.]\n",
      " -> Dominated\n",
      "\n"
     ]
    },
    {
     "name": "stderr",
     "output_type": "stream",
     "text": [
      "116it [01:40,  1.07it/s]"
     ]
    },
    {
     "name": "stdout",
     "output_type": "stream",
     "text": [
      "[0. 0. 0. ... 0. 0. 0.]\n",
      " -> Dominated\n",
      "\n"
     ]
    },
    {
     "name": "stderr",
     "output_type": "stream",
     "text": [
      "117it [01:41,  1.04it/s]"
     ]
    },
    {
     "name": "stdout",
     "output_type": "stream",
     "text": [
      "[0. 0. 0. ... 0. 0. 0.]\n",
      " -> Dominated\n",
      "\n"
     ]
    },
    {
     "name": "stderr",
     "output_type": "stream",
     "text": [
      "118it [01:43,  1.03it/s]"
     ]
    },
    {
     "name": "stdout",
     "output_type": "stream",
     "text": [
      "[0. 0. 0. ... 0. 0. 0.]\n",
      " -> Dominated\n",
      "\n"
     ]
    },
    {
     "name": "stderr",
     "output_type": "stream",
     "text": [
      "119it [01:43,  1.04it/s]"
     ]
    },
    {
     "name": "stdout",
     "output_type": "stream",
     "text": [
      "[0. 0. 0. ... 0. 0. 0.]\n",
      " -> Dominated\n",
      "\n"
     ]
    },
    {
     "name": "stderr",
     "output_type": "stream",
     "text": [
      "120it [01:44,  1.06it/s]"
     ]
    },
    {
     "name": "stdout",
     "output_type": "stream",
     "text": [
      "[0. 0. 0. ... 0. 0. 0.]\n",
      " -> Dominated\n",
      "\n"
     ]
    },
    {
     "name": "stderr",
     "output_type": "stream",
     "text": [
      "121it [01:45,  1.06it/s]"
     ]
    },
    {
     "name": "stdout",
     "output_type": "stream",
     "text": [
      "[0. 0. 0. ... 0. 0. 0.]\n",
      " -> Dominated\n",
      "\n"
     ]
    },
    {
     "name": "stderr",
     "output_type": "stream",
     "text": [
      "122it [01:46,  1.08it/s]"
     ]
    },
    {
     "name": "stdout",
     "output_type": "stream",
     "text": [
      "[0. 0. 0. ... 0. 0. 0.]\n",
      " -> Dominated\n",
      "\n"
     ]
    },
    {
     "name": "stderr",
     "output_type": "stream",
     "text": [
      "123it [01:47,  1.11it/s]"
     ]
    },
    {
     "name": "stdout",
     "output_type": "stream",
     "text": [
      "[0. 0. 0. ... 0. 0. 0.]\n",
      " -> Dominated\n",
      "\n"
     ]
    },
    {
     "name": "stderr",
     "output_type": "stream",
     "text": [
      "124it [01:48,  1.13it/s]"
     ]
    },
    {
     "name": "stdout",
     "output_type": "stream",
     "text": [
      "[0. 0. 0. ... 0. 0. 0.]\n",
      " -> Dominated\n",
      "\n"
     ]
    },
    {
     "name": "stderr",
     "output_type": "stream",
     "text": [
      "125it [01:49,  1.14it/s]"
     ]
    },
    {
     "name": "stdout",
     "output_type": "stream",
     "text": [
      "[0. 0. 0. ... 0. 0. 0.]\n",
      " -> Dominated\n",
      "\n"
     ]
    },
    {
     "name": "stderr",
     "output_type": "stream",
     "text": [
      "126it [01:50,  1.07it/s]"
     ]
    },
    {
     "name": "stdout",
     "output_type": "stream",
     "text": [
      "[0. 0. 0. ... 0. 0. 0.]\n",
      " -> Dominated\n",
      "\n"
     ]
    },
    {
     "name": "stderr",
     "output_type": "stream",
     "text": [
      "127it [01:51,  1.06it/s]"
     ]
    },
    {
     "name": "stdout",
     "output_type": "stream",
     "text": [
      "[0. 0. 0. ... 0. 0. 0.]\n",
      " -> Dominated\n",
      "\n"
     ]
    },
    {
     "name": "stderr",
     "output_type": "stream",
     "text": [
      "128it [01:52,  1.03it/s]"
     ]
    },
    {
     "name": "stdout",
     "output_type": "stream",
     "text": [
      "[0. 0. 0. ... 0. 0. 0.]\n",
      " -> Dominated\n",
      "\n"
     ]
    },
    {
     "name": "stderr",
     "output_type": "stream",
     "text": [
      "129it [01:53,  1.02it/s]"
     ]
    },
    {
     "name": "stdout",
     "output_type": "stream",
     "text": [
      "[0. 0. 0. ... 0. 0. 0.]\n",
      " -> Dominated\n",
      "\n"
     ]
    },
    {
     "name": "stderr",
     "output_type": "stream",
     "text": [
      "130it [01:54,  1.02it/s]"
     ]
    },
    {
     "name": "stdout",
     "output_type": "stream",
     "text": [
      "[0. 0. 0. ... 0. 0. 0.]\n",
      " -> Dominated\n",
      "\n"
     ]
    },
    {
     "name": "stderr",
     "output_type": "stream",
     "text": [
      "131it [01:55,  1.03it/s]"
     ]
    },
    {
     "name": "stdout",
     "output_type": "stream",
     "text": [
      "[0. 0. 0. ... 0. 0. 0.]\n",
      " -> Dominated\n",
      "\n"
     ]
    },
    {
     "name": "stderr",
     "output_type": "stream",
     "text": [
      "132it [01:56,  1.05it/s]"
     ]
    },
    {
     "name": "stdout",
     "output_type": "stream",
     "text": [
      "[0. 0. 0. ... 0. 0. 0.]\n",
      " -> Dominated\n",
      "\n"
     ]
    },
    {
     "name": "stderr",
     "output_type": "stream",
     "text": [
      "133it [01:57,  1.00it/s]"
     ]
    },
    {
     "name": "stdout",
     "output_type": "stream",
     "text": [
      "[0. 0. 0. ... 0. 0. 0.]\n",
      " -> Dominated\n",
      "\n"
     ]
    },
    {
     "name": "stderr",
     "output_type": "stream",
     "text": [
      "134it [01:58,  1.02it/s]"
     ]
    },
    {
     "name": "stdout",
     "output_type": "stream",
     "text": [
      "[0. 0. 0. ... 0. 0. 0.]\n",
      " -> Dominated\n",
      "\n"
     ]
    },
    {
     "name": "stderr",
     "output_type": "stream",
     "text": [
      "135it [01:59,  1.02it/s]"
     ]
    },
    {
     "name": "stdout",
     "output_type": "stream",
     "text": [
      "[0. 0. 0. ... 0. 0. 0.]\n",
      " -> Dominated\n",
      "\n"
     ]
    },
    {
     "name": "stderr",
     "output_type": "stream",
     "text": [
      "136it [02:00,  1.01it/s]"
     ]
    },
    {
     "name": "stdout",
     "output_type": "stream",
     "text": [
      "[0. 0. 0. ... 0. 0. 0.]\n",
      " -> Dominated\n",
      "\n"
     ]
    },
    {
     "name": "stderr",
     "output_type": "stream",
     "text": [
      "137it [02:01,  1.02s/it]"
     ]
    },
    {
     "name": "stdout",
     "output_type": "stream",
     "text": [
      "[0. 0. 0. ... 0. 0. 0.]\n",
      " -> Dominated\n",
      "\n"
     ]
    },
    {
     "name": "stderr",
     "output_type": "stream",
     "text": [
      "138it [02:02,  1.03s/it]"
     ]
    },
    {
     "name": "stdout",
     "output_type": "stream",
     "text": [
      "[0. 0. 0. ... 0. 0. 0.]\n",
      " -> Dominated\n",
      "\n"
     ]
    },
    {
     "name": "stderr",
     "output_type": "stream",
     "text": [
      "139it [02:03,  1.02s/it]"
     ]
    },
    {
     "name": "stdout",
     "output_type": "stream",
     "text": [
      "[0. 0. 0. ... 0. 0. 0.]\n",
      " -> Dominated\n",
      "\n"
     ]
    },
    {
     "name": "stderr",
     "output_type": "stream",
     "text": [
      "140it [02:04,  1.02s/it]"
     ]
    },
    {
     "name": "stdout",
     "output_type": "stream",
     "text": [
      "[0. 0. 0. ... 0. 0. 0.]\n",
      " -> Dominated\n",
      "\n"
     ]
    },
    {
     "name": "stderr",
     "output_type": "stream",
     "text": [
      "141it [02:05,  1.11s/it]"
     ]
    },
    {
     "name": "stdout",
     "output_type": "stream",
     "text": [
      "[0. 0. 0. ... 0. 0. 0.]\n",
      " -> Dominated\n",
      "\n"
     ]
    },
    {
     "name": "stderr",
     "output_type": "stream",
     "text": [
      "142it [02:06,  1.08s/it]"
     ]
    },
    {
     "name": "stdout",
     "output_type": "stream",
     "text": [
      "[0. 0. 0. ... 0. 0. 0.]\n",
      " -> Dominated\n",
      "\n"
     ]
    },
    {
     "name": "stderr",
     "output_type": "stream",
     "text": [
      "143it [02:07,  1.06s/it]"
     ]
    },
    {
     "name": "stdout",
     "output_type": "stream",
     "text": [
      "[0. 0. 0. ... 0. 0. 0.]\n",
      " -> Dominated\n",
      "\n"
     ]
    },
    {
     "name": "stderr",
     "output_type": "stream",
     "text": [
      "144it [02:08,  1.04s/it]"
     ]
    },
    {
     "name": "stdout",
     "output_type": "stream",
     "text": [
      "[0. 0. 0. ... 0. 0. 0.]\n",
      " -> Dominated\n",
      "\n"
     ]
    },
    {
     "name": "stderr",
     "output_type": "stream",
     "text": [
      "145it [02:09,  1.02s/it]"
     ]
    },
    {
     "name": "stdout",
     "output_type": "stream",
     "text": [
      "[0. 0. 0. ... 0. 0. 0.]\n",
      " -> Dominated\n",
      "\n"
     ]
    },
    {
     "name": "stderr",
     "output_type": "stream",
     "text": [
      "146it [02:10,  1.01s/it]"
     ]
    },
    {
     "name": "stdout",
     "output_type": "stream",
     "text": [
      "[0. 0. 0. ... 0. 0. 0.]\n",
      " -> Dominated\n",
      "\n"
     ]
    },
    {
     "name": "stderr",
     "output_type": "stream",
     "text": [
      "147it [02:11,  1.02s/it]"
     ]
    },
    {
     "name": "stdout",
     "output_type": "stream",
     "text": [
      "[0. 0. 0. ... 0. 0. 0.]\n",
      " -> Dominated\n",
      "\n"
     ]
    },
    {
     "name": "stderr",
     "output_type": "stream",
     "text": [
      "148it [02:12,  1.03s/it]"
     ]
    },
    {
     "name": "stdout",
     "output_type": "stream",
     "text": [
      "[0. 0. 0. ... 0. 0. 0.]\n",
      " -> Dominated\n",
      "\n"
     ]
    },
    {
     "name": "stderr",
     "output_type": "stream",
     "text": [
      "149it [02:13,  1.04s/it]"
     ]
    },
    {
     "name": "stdout",
     "output_type": "stream",
     "text": [
      "[0. 0. 0. ... 0. 0. 0.]\n",
      " -> Dominated\n",
      "\n"
     ]
    },
    {
     "name": "stderr",
     "output_type": "stream",
     "text": [
      "150it [02:14,  1.05s/it]"
     ]
    },
    {
     "name": "stdout",
     "output_type": "stream",
     "text": [
      "[0. 0. 0. ... 0. 0. 0.]\n",
      " -> Dominated\n",
      "\n"
     ]
    },
    {
     "name": "stderr",
     "output_type": "stream",
     "text": [
      "151it [02:15,  1.05s/it]"
     ]
    },
    {
     "name": "stdout",
     "output_type": "stream",
     "text": [
      "[0. 0. 0. ... 0. 0. 0.]\n",
      " -> Dominated\n",
      "\n"
     ]
    },
    {
     "name": "stderr",
     "output_type": "stream",
     "text": [
      "152it [02:16,  1.06s/it]"
     ]
    },
    {
     "name": "stdout",
     "output_type": "stream",
     "text": [
      "[0. 0. 0. ... 0. 0. 0.]\n",
      " -> Dominated\n",
      "\n"
     ]
    },
    {
     "name": "stderr",
     "output_type": "stream",
     "text": [
      "153it [02:18,  1.06s/it]"
     ]
    },
    {
     "name": "stdout",
     "output_type": "stream",
     "text": [
      "[0. 0. 0. ... 0. 0. 0.]\n",
      " -> Dominated\n",
      "\n"
     ]
    },
    {
     "name": "stderr",
     "output_type": "stream",
     "text": [
      "154it [02:19,  1.06s/it]"
     ]
    },
    {
     "name": "stdout",
     "output_type": "stream",
     "text": [
      "[0. 0. 0. ... 0. 0. 0.]\n",
      " -> Dominated\n",
      "\n"
     ]
    },
    {
     "name": "stderr",
     "output_type": "stream",
     "text": [
      "155it [02:20,  1.05s/it]"
     ]
    },
    {
     "name": "stdout",
     "output_type": "stream",
     "text": [
      "[0. 0. 0. ... 0. 0. 0.]\n",
      " -> Dominated\n",
      "\n"
     ]
    },
    {
     "name": "stderr",
     "output_type": "stream",
     "text": [
      "156it [02:21,  1.05s/it]"
     ]
    },
    {
     "name": "stdout",
     "output_type": "stream",
     "text": [
      "[0. 0. 0. ... 0. 0. 0.]\n",
      " -> Dominated\n",
      "\n"
     ]
    },
    {
     "name": "stderr",
     "output_type": "stream",
     "text": [
      "157it [02:22,  1.07s/it]"
     ]
    },
    {
     "name": "stdout",
     "output_type": "stream",
     "text": [
      "[0. 0. 0. ... 0. 0. 0.]\n",
      " -> Dominated\n",
      "\n"
     ]
    },
    {
     "name": "stderr",
     "output_type": "stream",
     "text": [
      "158it [02:23,  1.07s/it]"
     ]
    },
    {
     "name": "stdout",
     "output_type": "stream",
     "text": [
      "[0. 0. 0. ... 0. 0. 0.]\n",
      " -> Dominated\n",
      "\n"
     ]
    },
    {
     "name": "stderr",
     "output_type": "stream",
     "text": [
      "159it [02:24,  1.11s/it]"
     ]
    },
    {
     "name": "stdout",
     "output_type": "stream",
     "text": [
      "[0. 0. 0. ... 0. 0. 0.]\n",
      " -> Dominated\n",
      "\n"
     ]
    },
    {
     "name": "stderr",
     "output_type": "stream",
     "text": [
      "160it [02:25,  1.11s/it]"
     ]
    },
    {
     "name": "stdout",
     "output_type": "stream",
     "text": [
      "[0. 0. 0. ... 0. 0. 0.]\n",
      " -> Dominated\n",
      "\n"
     ]
    },
    {
     "name": "stderr",
     "output_type": "stream",
     "text": [
      "161it [02:26,  1.09s/it]"
     ]
    },
    {
     "name": "stdout",
     "output_type": "stream",
     "text": [
      "[0. 0. 0. ... 0. 0. 0.]\n",
      " -> Dominated\n",
      "\n"
     ]
    },
    {
     "name": "stderr",
     "output_type": "stream",
     "text": [
      "162it [02:27,  1.07s/it]"
     ]
    },
    {
     "name": "stdout",
     "output_type": "stream",
     "text": [
      "[0. 0. 0. ... 0. 0. 0.]\n",
      " -> Dominated\n",
      "\n"
     ]
    },
    {
     "name": "stderr",
     "output_type": "stream",
     "text": [
      "163it [02:28,  1.06s/it]"
     ]
    },
    {
     "name": "stdout",
     "output_type": "stream",
     "text": [
      "[0. 0. 0. ... 0. 0. 0.]\n",
      " -> Dominated\n",
      "\n"
     ]
    },
    {
     "name": "stderr",
     "output_type": "stream",
     "text": [
      "164it [02:29,  1.04s/it]"
     ]
    },
    {
     "name": "stdout",
     "output_type": "stream",
     "text": [
      "[0. 0. 0. ... 0. 0. 0.]\n",
      " -> Dominated\n",
      "\n"
     ]
    },
    {
     "name": "stderr",
     "output_type": "stream",
     "text": [
      "165it [02:30,  1.04s/it]"
     ]
    },
    {
     "name": "stdout",
     "output_type": "stream",
     "text": [
      "[0. 0. 0. ... 0. 0. 0.]\n",
      " -> Dominated\n",
      "\n"
     ]
    },
    {
     "name": "stderr",
     "output_type": "stream",
     "text": [
      "166it [02:31,  1.02s/it]"
     ]
    },
    {
     "name": "stdout",
     "output_type": "stream",
     "text": [
      "[0. 0. 0. ... 0. 0. 0.]\n",
      " -> Dominated\n",
      "\n"
     ]
    },
    {
     "name": "stderr",
     "output_type": "stream",
     "text": [
      "167it [02:32,  1.01s/it]"
     ]
    },
    {
     "name": "stdout",
     "output_type": "stream",
     "text": [
      "[0. 0. 0. ... 0. 0. 0.]\n",
      " -> Dominated\n",
      "\n"
     ]
    },
    {
     "name": "stderr",
     "output_type": "stream",
     "text": [
      "168it [02:33,  1.02s/it]"
     ]
    },
    {
     "name": "stdout",
     "output_type": "stream",
     "text": [
      "[0. 0. 0. ... 0. 0. 0.]\n",
      " -> Dominated\n",
      "\n"
     ]
    },
    {
     "name": "stderr",
     "output_type": "stream",
     "text": [
      "169it [02:34,  1.03s/it]"
     ]
    },
    {
     "name": "stdout",
     "output_type": "stream",
     "text": [
      "[0. 0. 0. ... 0. 0. 0.]\n",
      " -> Dominated\n",
      "\n"
     ]
    },
    {
     "name": "stderr",
     "output_type": "stream",
     "text": [
      "170it [02:35,  1.01s/it]"
     ]
    },
    {
     "name": "stdout",
     "output_type": "stream",
     "text": [
      "[0. 0. 0. ... 0. 0. 0.]\n",
      " -> Dominated\n",
      "\n"
     ]
    },
    {
     "name": "stderr",
     "output_type": "stream",
     "text": [
      "171it [02:36,  1.01s/it]"
     ]
    },
    {
     "name": "stdout",
     "output_type": "stream",
     "text": [
      "[0. 0. 0. ... 0. 0. 0.]\n",
      " -> Dominated\n",
      "\n"
     ]
    },
    {
     "name": "stderr",
     "output_type": "stream",
     "text": [
      "172it [02:37,  1.01s/it]"
     ]
    },
    {
     "name": "stdout",
     "output_type": "stream",
     "text": [
      "[0. 0. 0. ... 0. 0. 0.]\n",
      " -> Dominated\n",
      "\n"
     ]
    },
    {
     "name": "stderr",
     "output_type": "stream",
     "text": [
      "173it [02:38,  1.01it/s]"
     ]
    },
    {
     "name": "stdout",
     "output_type": "stream",
     "text": [
      "[0. 0. 0. ... 0. 0. 0.]\n",
      " -> Dominated\n",
      "\n"
     ]
    },
    {
     "name": "stderr",
     "output_type": "stream",
     "text": [
      "174it [02:39,  1.01it/s]"
     ]
    },
    {
     "name": "stdout",
     "output_type": "stream",
     "text": [
      "[0. 0. 0. ... 0. 0. 0.]\n",
      " -> Dominated\n",
      "\n"
     ]
    },
    {
     "name": "stderr",
     "output_type": "stream",
     "text": [
      "175it [02:40,  1.01it/s]"
     ]
    },
    {
     "name": "stdout",
     "output_type": "stream",
     "text": [
      "[0. 0. 0. ... 0. 0. 0.]\n",
      " -> Dominated\n",
      "\n"
     ]
    },
    {
     "name": "stderr",
     "output_type": "stream",
     "text": [
      "176it [02:41,  1.01it/s]"
     ]
    },
    {
     "name": "stdout",
     "output_type": "stream",
     "text": [
      "[0. 0. 0. ... 0. 0. 0.]\n",
      " -> Dominated\n",
      "\n"
     ]
    },
    {
     "name": "stderr",
     "output_type": "stream",
     "text": [
      "177it [02:42,  1.01s/it]"
     ]
    },
    {
     "name": "stdout",
     "output_type": "stream",
     "text": [
      "[0. 0. 0. ... 0. 0. 0.]\n",
      " -> Dominated\n",
      "\n"
     ]
    },
    {
     "name": "stderr",
     "output_type": "stream",
     "text": [
      "178it [02:43,  1.04s/it]"
     ]
    },
    {
     "name": "stdout",
     "output_type": "stream",
     "text": [
      "[0. 0. 0. ... 0. 0. 0.]\n",
      " -> Dominated\n",
      "\n"
     ]
    },
    {
     "name": "stderr",
     "output_type": "stream",
     "text": [
      "179it [02:45,  1.09s/it]"
     ]
    },
    {
     "name": "stdout",
     "output_type": "stream",
     "text": [
      "[0. 0. 0. ... 0. 0. 0.]\n",
      " -> Dominated\n",
      "\n"
     ]
    },
    {
     "name": "stderr",
     "output_type": "stream",
     "text": [
      "180it [02:46,  1.04s/it]"
     ]
    },
    {
     "name": "stdout",
     "output_type": "stream",
     "text": [
      "[0. 0. 0. ... 0. 0. 0.]\n",
      " -> Dominated\n",
      "\n"
     ]
    },
    {
     "name": "stderr",
     "output_type": "stream",
     "text": [
      "181it [02:47,  1.03s/it]"
     ]
    },
    {
     "name": "stdout",
     "output_type": "stream",
     "text": [
      "[0. 0. 0. ... 0. 0. 0.]\n",
      " -> Dominated\n",
      "\n"
     ]
    },
    {
     "name": "stderr",
     "output_type": "stream",
     "text": [
      "182it [02:47,  1.01it/s]"
     ]
    },
    {
     "name": "stdout",
     "output_type": "stream",
     "text": [
      "[0. 0. 0. ... 0. 0. 0.]\n",
      " -> Dominated\n",
      "\n"
     ]
    },
    {
     "name": "stderr",
     "output_type": "stream",
     "text": [
      "183it [02:48,  1.05it/s]"
     ]
    },
    {
     "name": "stdout",
     "output_type": "stream",
     "text": [
      "[0. 0. 0. ... 0. 0. 0.]\n",
      " -> Dominated\n",
      "\n"
     ]
    },
    {
     "name": "stderr",
     "output_type": "stream",
     "text": [
      "184it [02:49,  1.06it/s]"
     ]
    },
    {
     "name": "stdout",
     "output_type": "stream",
     "text": [
      "[0. 0. 0. ... 0. 0. 0.]\n",
      " -> Dominated\n",
      "\n"
     ]
    },
    {
     "name": "stderr",
     "output_type": "stream",
     "text": [
      "185it [02:50,  1.04it/s]"
     ]
    },
    {
     "name": "stdout",
     "output_type": "stream",
     "text": [
      "[0. 0. 0. ... 0. 0. 0.]\n",
      " -> Dominated\n",
      "\n"
     ]
    },
    {
     "name": "stderr",
     "output_type": "stream",
     "text": [
      "186it [02:51,  1.06it/s]"
     ]
    },
    {
     "name": "stdout",
     "output_type": "stream",
     "text": [
      "[0. 0. 0. ... 0. 0. 0.]\n",
      " -> Dominated\n",
      "\n"
     ]
    },
    {
     "name": "stderr",
     "output_type": "stream",
     "text": [
      "187it [02:52,  1.07it/s]"
     ]
    },
    {
     "name": "stdout",
     "output_type": "stream",
     "text": [
      "[0. 0. 0. ... 0. 0. 0.]\n",
      " -> Dominated\n",
      "\n"
     ]
    },
    {
     "name": "stderr",
     "output_type": "stream",
     "text": [
      "188it [02:53,  1.08it/s]"
     ]
    },
    {
     "name": "stdout",
     "output_type": "stream",
     "text": [
      "[0. 0. 0. ... 0. 0. 0.]\n",
      " -> Dominated\n",
      "\n"
     ]
    },
    {
     "name": "stderr",
     "output_type": "stream",
     "text": [
      "189it [02:54,  1.08it/s]"
     ]
    },
    {
     "name": "stdout",
     "output_type": "stream",
     "text": [
      "[0. 0. 0. ... 0. 0. 0.]\n",
      " -> Dominated\n",
      "\n"
     ]
    },
    {
     "name": "stderr",
     "output_type": "stream",
     "text": [
      "190it [02:55,  1.05it/s]"
     ]
    },
    {
     "name": "stdout",
     "output_type": "stream",
     "text": [
      "[0. 0. 0. ... 0. 0. 0.]\n",
      " -> Dominated\n",
      "\n"
     ]
    },
    {
     "name": "stderr",
     "output_type": "stream",
     "text": [
      "191it [02:56,  1.00s/it]"
     ]
    },
    {
     "name": "stdout",
     "output_type": "stream",
     "text": [
      "[0. 0. 0. ... 0. 0. 0.]\n",
      " -> Dominated\n",
      "\n"
     ]
    },
    {
     "name": "stderr",
     "output_type": "stream",
     "text": [
      "192it [02:57,  1.03s/it]"
     ]
    },
    {
     "name": "stdout",
     "output_type": "stream",
     "text": [
      "[0. 0. 0. ... 0. 0. 0.]\n",
      " -> Dominated\n",
      "\n"
     ]
    },
    {
     "name": "stderr",
     "output_type": "stream",
     "text": [
      "193it [02:58,  1.05s/it]"
     ]
    },
    {
     "name": "stdout",
     "output_type": "stream",
     "text": [
      "[0. 0. 0. ... 0. 0. 0.]\n",
      " -> Dominated\n",
      "\n"
     ]
    },
    {
     "name": "stderr",
     "output_type": "stream",
     "text": [
      "194it [02:59,  1.05s/it]"
     ]
    },
    {
     "name": "stdout",
     "output_type": "stream",
     "text": [
      "[0. 0. 0. ... 0. 0. 0.]\n",
      " -> Dominated\n",
      "\n"
     ]
    },
    {
     "name": "stderr",
     "output_type": "stream",
     "text": [
      "195it [03:00,  1.09s/it]"
     ]
    },
    {
     "name": "stdout",
     "output_type": "stream",
     "text": [
      "[0. 0. 0. ... 0. 0. 0.]\n",
      " -> Dominated\n",
      "\n"
     ]
    },
    {
     "name": "stderr",
     "output_type": "stream",
     "text": [
      "196it [03:02,  1.09s/it]"
     ]
    },
    {
     "name": "stdout",
     "output_type": "stream",
     "text": [
      "[0. 0. 0. ... 0. 0. 0.]\n",
      " -> Dominated\n",
      "\n"
     ]
    },
    {
     "name": "stderr",
     "output_type": "stream",
     "text": [
      "197it [03:03,  1.09s/it]"
     ]
    },
    {
     "name": "stdout",
     "output_type": "stream",
     "text": [
      "[0. 0. 0. ... 0. 0. 0.]\n",
      " -> Dominated\n",
      "\n"
     ]
    },
    {
     "name": "stderr",
     "output_type": "stream",
     "text": [
      "198it [03:04,  1.07s/it]"
     ]
    },
    {
     "name": "stdout",
     "output_type": "stream",
     "text": [
      "[0. 0. 0. ... 0. 0. 0.]\n",
      " -> Dominated\n",
      "\n"
     ]
    },
    {
     "name": "stderr",
     "output_type": "stream",
     "text": [
      "199it [03:05,  1.06s/it]"
     ]
    },
    {
     "name": "stdout",
     "output_type": "stream",
     "text": [
      "[0. 0. 0. ... 0. 0. 0.]\n",
      " -> Dominated\n",
      "\n"
     ]
    },
    {
     "name": "stderr",
     "output_type": "stream",
     "text": [
      "200it [03:06,  1.05s/it]"
     ]
    },
    {
     "name": "stdout",
     "output_type": "stream",
     "text": [
      "[0. 0. 0. ... 0. 0. 0.]\n",
      " -> Dominated\n",
      "\n"
     ]
    },
    {
     "name": "stderr",
     "output_type": "stream",
     "text": [
      "201it [03:07,  1.04s/it]"
     ]
    },
    {
     "name": "stdout",
     "output_type": "stream",
     "text": [
      "[0. 0. 0. ... 0. 0. 0.]\n",
      " -> Dominated\n",
      "\n"
     ]
    },
    {
     "name": "stderr",
     "output_type": "stream",
     "text": [
      "202it [03:08,  1.08s/it]"
     ]
    },
    {
     "name": "stdout",
     "output_type": "stream",
     "text": [
      "[0. 0. 0. ... 0. 0. 0.]\n",
      " -> Dominated\n",
      "\n"
     ]
    },
    {
     "name": "stderr",
     "output_type": "stream",
     "text": [
      "203it [03:09,  1.04s/it]"
     ]
    },
    {
     "name": "stdout",
     "output_type": "stream",
     "text": [
      "[0. 0. 0. ... 0. 0. 0.]\n",
      " -> Dominated\n",
      "\n"
     ]
    },
    {
     "name": "stderr",
     "output_type": "stream",
     "text": [
      "204it [03:10,  1.05s/it]"
     ]
    },
    {
     "name": "stdout",
     "output_type": "stream",
     "text": [
      "[0. 0. 0. ... 0. 0. 0.]\n",
      " -> Dominated\n",
      "\n"
     ]
    },
    {
     "name": "stderr",
     "output_type": "stream",
     "text": [
      "205it [03:11,  1.03s/it]"
     ]
    },
    {
     "name": "stdout",
     "output_type": "stream",
     "text": [
      "[0. 0. 0. ... 0. 0. 0.]\n",
      " -> Dominated\n",
      "\n"
     ]
    },
    {
     "name": "stderr",
     "output_type": "stream",
     "text": [
      "206it [03:12,  1.02s/it]"
     ]
    },
    {
     "name": "stdout",
     "output_type": "stream",
     "text": [
      "[0. 0. 0. ... 0. 0. 0.]\n",
      " -> Dominated\n",
      "\n"
     ]
    },
    {
     "name": "stderr",
     "output_type": "stream",
     "text": [
      "207it [03:13,  1.00it/s]"
     ]
    },
    {
     "name": "stdout",
     "output_type": "stream",
     "text": [
      "[0. 0. 0. ... 0. 0. 0.]\n",
      " -> Dominated\n",
      "\n"
     ]
    },
    {
     "name": "stderr",
     "output_type": "stream",
     "text": [
      "208it [03:14,  1.02it/s]"
     ]
    },
    {
     "name": "stdout",
     "output_type": "stream",
     "text": [
      "[0. 0. 0. ... 0. 0. 0.]\n",
      " -> Dominated\n",
      "\n"
     ]
    },
    {
     "name": "stderr",
     "output_type": "stream",
     "text": [
      "209it [03:15,  1.02it/s]"
     ]
    },
    {
     "name": "stdout",
     "output_type": "stream",
     "text": [
      "[0. 0. 0. ... 0. 0. 0.]\n",
      " -> Dominated\n",
      "\n"
     ]
    },
    {
     "name": "stderr",
     "output_type": "stream",
     "text": [
      "210it [03:16,  1.04it/s]"
     ]
    },
    {
     "name": "stdout",
     "output_type": "stream",
     "text": [
      "[0. 0. 0. ... 0. 0. 0.]\n",
      " -> Dominated\n",
      "\n"
     ]
    },
    {
     "name": "stderr",
     "output_type": "stream",
     "text": [
      "211it [03:17,  1.05it/s]"
     ]
    },
    {
     "name": "stdout",
     "output_type": "stream",
     "text": [
      "[0. 0. 0. ... 0. 0. 0.]\n",
      " -> Dominated\n",
      "\n"
     ]
    },
    {
     "name": "stderr",
     "output_type": "stream",
     "text": [
      "212it [03:18,  1.04it/s]"
     ]
    },
    {
     "name": "stdout",
     "output_type": "stream",
     "text": [
      "[0. 0. 0. ... 0. 0. 0.]\n",
      " -> Dominated\n",
      "\n"
     ]
    },
    {
     "name": "stderr",
     "output_type": "stream",
     "text": [
      "213it [03:19,  1.01it/s]"
     ]
    },
    {
     "name": "stdout",
     "output_type": "stream",
     "text": [
      "[0. 0. 0. ... 0. 0. 0.]\n",
      " -> Dominated\n",
      "\n"
     ]
    },
    {
     "name": "stderr",
     "output_type": "stream",
     "text": [
      "214it [03:20,  1.04it/s]"
     ]
    },
    {
     "name": "stdout",
     "output_type": "stream",
     "text": [
      "[0. 0. 0. ... 0. 0. 0.]\n",
      " -> Dominated\n",
      "\n"
     ]
    },
    {
     "name": "stderr",
     "output_type": "stream",
     "text": [
      "215it [03:21,  1.04it/s]"
     ]
    },
    {
     "name": "stdout",
     "output_type": "stream",
     "text": [
      "[0. 0. 0. ... 0. 0. 0.]\n",
      " -> Dominated\n",
      "\n"
     ]
    },
    {
     "name": "stderr",
     "output_type": "stream",
     "text": [
      "216it [03:21,  1.03it/s]"
     ]
    },
    {
     "name": "stdout",
     "output_type": "stream",
     "text": [
      "[0. 0. 0. ... 0. 0. 0.]\n",
      " -> Dominated\n",
      "\n"
     ]
    },
    {
     "name": "stderr",
     "output_type": "stream",
     "text": [
      "217it [03:23,  1.02it/s]"
     ]
    },
    {
     "name": "stdout",
     "output_type": "stream",
     "text": [
      "[0. 0. 0. ... 0. 0. 0.]\n",
      " -> Dominated\n",
      "\n"
     ]
    },
    {
     "name": "stderr",
     "output_type": "stream",
     "text": [
      "218it [03:23,  1.04it/s]"
     ]
    },
    {
     "name": "stdout",
     "output_type": "stream",
     "text": [
      "[0. 0. 0. ... 0. 0. 0.]\n",
      " -> Dominated\n",
      "\n"
     ]
    },
    {
     "name": "stderr",
     "output_type": "stream",
     "text": [
      "219it [03:24,  1.05it/s]"
     ]
    },
    {
     "name": "stdout",
     "output_type": "stream",
     "text": [
      "[0. 0. 0. ... 0. 0. 0.]\n",
      " -> Dominated\n",
      "\n"
     ]
    },
    {
     "name": "stderr",
     "output_type": "stream",
     "text": [
      "220it [03:25,  1.05it/s]"
     ]
    },
    {
     "name": "stdout",
     "output_type": "stream",
     "text": [
      "[0. 0. 0. ... 0. 0. 0.]\n",
      " -> Dominated\n",
      "\n"
     ]
    },
    {
     "name": "stderr",
     "output_type": "stream",
     "text": [
      "221it [03:26,  1.04it/s]"
     ]
    },
    {
     "name": "stdout",
     "output_type": "stream",
     "text": [
      "[0. 0. 0. ... 0. 0. 0.]\n",
      " -> Dominated\n",
      "\n"
     ]
    },
    {
     "name": "stderr",
     "output_type": "stream",
     "text": [
      "222it [03:27,  1.03it/s]"
     ]
    },
    {
     "name": "stdout",
     "output_type": "stream",
     "text": [
      "[0. 0. 0. ... 0. 0. 0.]\n",
      " -> Dominated\n",
      "\n"
     ]
    },
    {
     "name": "stderr",
     "output_type": "stream",
     "text": [
      "223it [03:28,  1.04it/s]"
     ]
    },
    {
     "name": "stdout",
     "output_type": "stream",
     "text": [
      "[0. 0. 0. ... 0. 0. 0.]\n",
      " -> Dominated\n",
      "\n"
     ]
    },
    {
     "name": "stderr",
     "output_type": "stream",
     "text": [
      "224it [03:29,  1.07it/s]"
     ]
    },
    {
     "name": "stdout",
     "output_type": "stream",
     "text": [
      "[0. 0. 0. ... 0. 0. 0.]\n",
      " -> Dominated\n",
      "\n"
     ]
    },
    {
     "name": "stderr",
     "output_type": "stream",
     "text": [
      "225it [03:30,  1.06it/s]"
     ]
    },
    {
     "name": "stdout",
     "output_type": "stream",
     "text": [
      "[0. 0. 0. ... 0. 0. 0.]\n",
      " -> Dominated\n",
      "\n"
     ]
    },
    {
     "name": "stderr",
     "output_type": "stream",
     "text": [
      "226it [03:31,  1.04it/s]"
     ]
    },
    {
     "name": "stdout",
     "output_type": "stream",
     "text": [
      "[0. 0. 0. ... 0. 0. 0.]\n",
      " -> Dominated\n",
      "\n"
     ]
    },
    {
     "name": "stderr",
     "output_type": "stream",
     "text": [
      "227it [03:32,  1.03it/s]"
     ]
    },
    {
     "name": "stdout",
     "output_type": "stream",
     "text": [
      "[0. 0. 0. ... 0. 0. 0.]\n",
      " -> Dominated\n",
      "\n"
     ]
    },
    {
     "name": "stderr",
     "output_type": "stream",
     "text": [
      "228it [03:33,  1.02it/s]"
     ]
    },
    {
     "name": "stdout",
     "output_type": "stream",
     "text": [
      "[0. 0. 0. ... 0. 0. 0.]\n",
      " -> Dominated\n",
      "\n"
     ]
    },
    {
     "name": "stderr",
     "output_type": "stream",
     "text": [
      "229it [03:34,  1.02it/s]"
     ]
    },
    {
     "name": "stdout",
     "output_type": "stream",
     "text": [
      "[0. 0. 0. ... 0. 0. 0.]\n",
      " -> Dominated\n",
      "\n"
     ]
    },
    {
     "name": "stderr",
     "output_type": "stream",
     "text": [
      "230it [03:35,  1.01it/s]"
     ]
    },
    {
     "name": "stdout",
     "output_type": "stream",
     "text": [
      "[0. 0. 0. ... 0. 0. 0.]\n",
      " -> Dominated\n",
      "\n"
     ]
    },
    {
     "name": "stderr",
     "output_type": "stream",
     "text": [
      "231it [03:36,  1.02it/s]"
     ]
    },
    {
     "name": "stdout",
     "output_type": "stream",
     "text": [
      "[0. 0. 0. ... 0. 0. 0.]\n",
      " -> Dominated\n",
      "\n"
     ]
    },
    {
     "name": "stderr",
     "output_type": "stream",
     "text": [
      "232it [03:37,  1.03it/s]"
     ]
    },
    {
     "name": "stdout",
     "output_type": "stream",
     "text": [
      "[0. 0. 0. ... 0. 0. 0.]\n",
      " -> Dominated\n",
      "\n"
     ]
    },
    {
     "name": "stderr",
     "output_type": "stream",
     "text": [
      "233it [03:38,  1.02it/s]"
     ]
    },
    {
     "name": "stdout",
     "output_type": "stream",
     "text": [
      "[0. 0. 0. ... 0. 0. 0.]\n",
      " -> Dominated\n",
      "\n"
     ]
    },
    {
     "name": "stderr",
     "output_type": "stream",
     "text": [
      "234it [03:39,  1.01it/s]"
     ]
    },
    {
     "name": "stdout",
     "output_type": "stream",
     "text": [
      "[0. 0. 0. ... 0. 0. 0.]\n",
      " -> Dominated\n",
      "\n"
     ]
    },
    {
     "name": "stderr",
     "output_type": "stream",
     "text": [
      "235it [03:40,  1.02it/s]"
     ]
    },
    {
     "name": "stdout",
     "output_type": "stream",
     "text": [
      "[0. 0. 0. ... 0. 0. 0.]\n",
      " -> Dominated\n",
      "\n"
     ]
    },
    {
     "name": "stderr",
     "output_type": "stream",
     "text": [
      "236it [03:41,  1.03it/s]"
     ]
    },
    {
     "name": "stdout",
     "output_type": "stream",
     "text": [
      "[0. 0. 0. ... 0. 0. 0.]\n",
      " -> Dominated\n",
      "\n"
     ]
    },
    {
     "name": "stderr",
     "output_type": "stream",
     "text": [
      "237it [03:42,  1.00it/s]"
     ]
    },
    {
     "name": "stdout",
     "output_type": "stream",
     "text": [
      "[0. 0. 0. ... 0. 0. 0.]\n",
      " -> Dominated\n",
      "\n"
     ]
    },
    {
     "name": "stderr",
     "output_type": "stream",
     "text": [
      "238it [03:43,  1.01it/s]"
     ]
    },
    {
     "name": "stdout",
     "output_type": "stream",
     "text": [
      "[0. 0. 0. ... 0. 0. 0.]\n",
      " -> Dominated\n",
      "\n"
     ]
    },
    {
     "name": "stderr",
     "output_type": "stream",
     "text": [
      "239it [03:44,  1.01it/s]"
     ]
    },
    {
     "name": "stdout",
     "output_type": "stream",
     "text": [
      "[0. 0. 0. ... 0. 0. 0.]\n",
      " -> Dominated\n",
      "\n"
     ]
    },
    {
     "name": "stderr",
     "output_type": "stream",
     "text": [
      "240it [03:45,  1.03it/s]"
     ]
    },
    {
     "name": "stdout",
     "output_type": "stream",
     "text": [
      "[0. 0. 0. ... 0. 0. 0.]\n",
      " -> Dominated\n",
      "\n"
     ]
    },
    {
     "name": "stderr",
     "output_type": "stream",
     "text": [
      "241it [03:47,  1.36s/it]"
     ]
    },
    {
     "name": "stdout",
     "output_type": "stream",
     "text": [
      "[0. 0. 0. ... 0. 0. 0.]\n",
      " -> Dominated\n",
      "\n"
     ]
    },
    {
     "name": "stderr",
     "output_type": "stream",
     "text": [
      "242it [03:48,  1.25s/it]"
     ]
    },
    {
     "name": "stdout",
     "output_type": "stream",
     "text": [
      "[0. 0. 0. ... 0. 0. 0.]\n",
      " -> Dominated\n",
      "\n"
     ]
    },
    {
     "name": "stderr",
     "output_type": "stream",
     "text": [
      "243it [03:49,  1.16s/it]"
     ]
    },
    {
     "name": "stdout",
     "output_type": "stream",
     "text": [
      "[0. 0. 0. ... 0. 0. 0.]\n",
      " -> Dominated\n",
      "\n"
     ]
    },
    {
     "name": "stderr",
     "output_type": "stream",
     "text": [
      "244it [03:50,  1.12s/it]"
     ]
    },
    {
     "name": "stdout",
     "output_type": "stream",
     "text": [
      "[0. 0. 0. ... 0. 0. 0.]\n",
      " -> Dominated\n",
      "\n"
     ]
    },
    {
     "name": "stderr",
     "output_type": "stream",
     "text": [
      "245it [03:51,  1.08s/it]"
     ]
    },
    {
     "name": "stdout",
     "output_type": "stream",
     "text": [
      "[0. 0. 0. ... 0. 0. 0.]\n",
      " -> Dominated\n",
      "\n"
     ]
    },
    {
     "name": "stderr",
     "output_type": "stream",
     "text": [
      "246it [03:52,  1.05s/it]"
     ]
    },
    {
     "name": "stdout",
     "output_type": "stream",
     "text": [
      "[0. 0. 0. ... 0. 0. 0.]\n",
      " -> Dominated\n",
      "\n"
     ]
    },
    {
     "name": "stderr",
     "output_type": "stream",
     "text": [
      "247it [03:53,  1.02s/it]"
     ]
    },
    {
     "name": "stdout",
     "output_type": "stream",
     "text": [
      "[0. 0. 0. ... 0. 0. 0.]\n",
      " -> Dominated\n",
      "\n"
     ]
    },
    {
     "name": "stderr",
     "output_type": "stream",
     "text": [
      "248it [03:54,  1.05s/it]"
     ]
    },
    {
     "name": "stdout",
     "output_type": "stream",
     "text": [
      "[0. 0. 0. ... 0. 0. 0.]\n",
      " -> Dominated\n",
      "\n"
     ]
    },
    {
     "name": "stderr",
     "output_type": "stream",
     "text": [
      "249it [03:55,  1.08s/it]"
     ]
    },
    {
     "name": "stdout",
     "output_type": "stream",
     "text": [
      "[0. 0. 0. ... 0. 0. 0.]\n",
      " -> Dominated\n",
      "\n"
     ]
    },
    {
     "name": "stderr",
     "output_type": "stream",
     "text": [
      "250it [03:56,  1.05s/it]"
     ]
    },
    {
     "name": "stdout",
     "output_type": "stream",
     "text": [
      "[0. 0. 0. ... 0. 0. 0.]\n",
      " -> Dominated\n",
      "\n"
     ]
    },
    {
     "name": "stderr",
     "output_type": "stream",
     "text": [
      "251it [03:57,  1.03s/it]"
     ]
    },
    {
     "name": "stdout",
     "output_type": "stream",
     "text": [
      "[0. 0. 0. ... 0. 0. 0.]\n",
      " -> Dominated\n",
      "\n"
     ]
    },
    {
     "name": "stderr",
     "output_type": "stream",
     "text": [
      "252it [03:58,  1.01it/s]"
     ]
    },
    {
     "name": "stdout",
     "output_type": "stream",
     "text": [
      "[0. 0. 0. ... 0. 0. 0.]\n",
      " -> Dominated\n",
      "\n"
     ]
    },
    {
     "name": "stderr",
     "output_type": "stream",
     "text": [
      "253it [03:59,  1.03it/s]"
     ]
    },
    {
     "name": "stdout",
     "output_type": "stream",
     "text": [
      "[0. 0. 0. ... 0. 0. 0.]\n",
      " -> Dominated\n",
      "\n"
     ]
    },
    {
     "name": "stderr",
     "output_type": "stream",
     "text": [
      "254it [04:00,  1.06it/s]"
     ]
    },
    {
     "name": "stdout",
     "output_type": "stream",
     "text": [
      "[0. 0. 0. ... 0. 0. 0.]\n",
      " -> Dominated\n",
      "\n"
     ]
    },
    {
     "name": "stderr",
     "output_type": "stream",
     "text": [
      "255it [04:01,  1.06it/s]"
     ]
    },
    {
     "name": "stdout",
     "output_type": "stream",
     "text": [
      "[0. 0. 0. ... 0. 0. 0.]\n",
      " -> Dominated\n",
      "\n"
     ]
    },
    {
     "name": "stderr",
     "output_type": "stream",
     "text": [
      "256it [04:02,  1.05it/s]"
     ]
    },
    {
     "name": "stdout",
     "output_type": "stream",
     "text": [
      "[0. 0. 0. ... 0. 0. 0.]\n",
      " -> Dominated\n",
      "\n"
     ]
    },
    {
     "name": "stderr",
     "output_type": "stream",
     "text": [
      "257it [04:03,  1.04it/s]"
     ]
    },
    {
     "name": "stdout",
     "output_type": "stream",
     "text": [
      "[0. 0. 0. ... 0. 0. 0.]\n",
      " -> Dominated\n",
      "\n"
     ]
    },
    {
     "name": "stderr",
     "output_type": "stream",
     "text": [
      "258it [04:04,  1.00s/it]"
     ]
    },
    {
     "name": "stdout",
     "output_type": "stream",
     "text": [
      "[0. 0. 0. ... 0. 0. 0.]\n",
      " -> Dominated\n",
      "\n"
     ]
    },
    {
     "name": "stderr",
     "output_type": "stream",
     "text": [
      "259it [04:05,  1.01it/s]"
     ]
    },
    {
     "name": "stdout",
     "output_type": "stream",
     "text": [
      "[0. 0. 0. ... 0. 0. 0.]\n",
      " -> Dominated\n",
      "\n"
     ]
    },
    {
     "name": "stderr",
     "output_type": "stream",
     "text": [
      "260it [04:06,  1.02it/s]"
     ]
    },
    {
     "name": "stdout",
     "output_type": "stream",
     "text": [
      "[0. 0. 0. ... 0. 0. 0.]\n",
      " -> Dominated\n",
      "\n"
     ]
    },
    {
     "name": "stderr",
     "output_type": "stream",
     "text": [
      "261it [04:07,  1.01s/it]"
     ]
    },
    {
     "name": "stdout",
     "output_type": "stream",
     "text": [
      "[0. 0. 0. ... 0. 0. 0.]\n",
      " -> Dominated\n",
      "\n"
     ]
    },
    {
     "name": "stderr",
     "output_type": "stream",
     "text": [
      "262it [04:08,  1.05s/it]"
     ]
    },
    {
     "name": "stdout",
     "output_type": "stream",
     "text": [
      "[0. 0. 0. ... 0. 0. 0.]\n",
      " -> Dominated\n",
      "\n"
     ]
    },
    {
     "name": "stderr",
     "output_type": "stream",
     "text": [
      "263it [04:09,  1.04s/it]"
     ]
    },
    {
     "name": "stdout",
     "output_type": "stream",
     "text": [
      "[0. 0. 0. ... 0. 0. 0.]\n",
      " -> Dominated\n",
      "\n"
     ]
    },
    {
     "name": "stderr",
     "output_type": "stream",
     "text": [
      "264it [04:10,  1.02s/it]"
     ]
    },
    {
     "name": "stdout",
     "output_type": "stream",
     "text": [
      "[0. 0. 0. ... 0. 0. 0.]\n",
      " -> Dominated\n",
      "\n"
     ]
    },
    {
     "name": "stderr",
     "output_type": "stream",
     "text": [
      "265it [04:11,  1.01s/it]"
     ]
    },
    {
     "name": "stdout",
     "output_type": "stream",
     "text": [
      "[0. 0. 0. ... 0. 0. 0.]\n",
      " -> Dominated\n",
      "\n"
     ]
    },
    {
     "name": "stderr",
     "output_type": "stream",
     "text": [
      "266it [04:12,  1.01it/s]"
     ]
    },
    {
     "name": "stdout",
     "output_type": "stream",
     "text": [
      "[0. 0. 0. ... 0. 0. 0.]\n",
      " -> Dominated\n",
      "\n"
     ]
    },
    {
     "name": "stderr",
     "output_type": "stream",
     "text": [
      "267it [04:13,  1.04s/it]"
     ]
    },
    {
     "name": "stdout",
     "output_type": "stream",
     "text": [
      "[0. 0. 0. ... 0. 0. 0.]\n",
      " -> Dominated\n",
      "\n"
     ]
    },
    {
     "name": "stderr",
     "output_type": "stream",
     "text": [
      "268it [04:14,  1.01s/it]"
     ]
    },
    {
     "name": "stdout",
     "output_type": "stream",
     "text": [
      "[0. 0. 0. ... 0. 0. 0.]\n",
      " -> Dominated\n",
      "\n"
     ]
    },
    {
     "name": "stderr",
     "output_type": "stream",
     "text": [
      "269it [04:15,  1.00it/s]"
     ]
    },
    {
     "name": "stdout",
     "output_type": "stream",
     "text": [
      "[0. 0. 0. ... 0. 0. 0.]\n",
      " -> Dominated\n",
      "\n"
     ]
    },
    {
     "name": "stderr",
     "output_type": "stream",
     "text": [
      "270it [04:16,  1.01s/it]"
     ]
    },
    {
     "name": "stdout",
     "output_type": "stream",
     "text": [
      "[0. 0. 0. ... 0. 0. 0.]\n",
      " -> Dominated\n",
      "\n"
     ]
    },
    {
     "name": "stderr",
     "output_type": "stream",
     "text": [
      "271it [04:17,  1.03s/it]"
     ]
    },
    {
     "name": "stdout",
     "output_type": "stream",
     "text": [
      "[0. 0. 0. ... 0. 0. 0.]\n",
      " -> Dominated\n",
      "\n"
     ]
    },
    {
     "name": "stderr",
     "output_type": "stream",
     "text": [
      "272it [04:18,  1.03s/it]"
     ]
    },
    {
     "name": "stdout",
     "output_type": "stream",
     "text": [
      "[0. 0. 0. ... 0. 0. 0.]\n",
      " -> Dominated\n",
      "\n"
     ]
    },
    {
     "name": "stderr",
     "output_type": "stream",
     "text": [
      "273it [04:19,  1.01it/s]"
     ]
    },
    {
     "name": "stdout",
     "output_type": "stream",
     "text": [
      "[0. 0. 0. ... 0. 0. 0.]\n",
      " -> Dominated\n",
      "\n"
     ]
    },
    {
     "name": "stderr",
     "output_type": "stream",
     "text": [
      "274it [04:20,  1.01it/s]"
     ]
    },
    {
     "name": "stdout",
     "output_type": "stream",
     "text": [
      "[0. 0. 0. ... 0. 0. 0.]\n",
      " -> Dominated\n",
      "\n"
     ]
    },
    {
     "name": "stderr",
     "output_type": "stream",
     "text": [
      "275it [04:21,  1.01it/s]"
     ]
    },
    {
     "name": "stdout",
     "output_type": "stream",
     "text": [
      "[0. 0. 0. ... 0. 0. 0.]\n",
      " -> Dominated\n",
      "\n"
     ]
    },
    {
     "name": "stderr",
     "output_type": "stream",
     "text": [
      "276it [04:22,  1.01s/it]"
     ]
    },
    {
     "name": "stdout",
     "output_type": "stream",
     "text": [
      "[0. 0. 0. ... 0. 0. 0.]\n",
      " -> Dominated\n",
      "\n"
     ]
    },
    {
     "name": "stderr",
     "output_type": "stream",
     "text": [
      "277it [04:23,  1.05s/it]"
     ]
    },
    {
     "name": "stdout",
     "output_type": "stream",
     "text": [
      "[0. 0. 0. ... 0. 0. 0.]\n",
      " -> Dominated\n",
      "\n"
     ]
    },
    {
     "name": "stderr",
     "output_type": "stream",
     "text": [
      "278it [04:24,  1.04s/it]"
     ]
    },
    {
     "name": "stdout",
     "output_type": "stream",
     "text": [
      "[0. 0. 0. ... 0. 0. 0.]\n",
      " -> Dominated\n",
      "\n"
     ]
    },
    {
     "name": "stderr",
     "output_type": "stream",
     "text": [
      "279it [04:25,  1.01s/it]"
     ]
    },
    {
     "name": "stdout",
     "output_type": "stream",
     "text": [
      "[0. 0. 0. ... 0. 0. 0.]\n",
      " -> Dominated\n",
      "\n"
     ]
    },
    {
     "name": "stderr",
     "output_type": "stream",
     "text": [
      "280it [04:26,  1.05s/it]"
     ]
    },
    {
     "name": "stdout",
     "output_type": "stream",
     "text": [
      "[0. 0. 0. ... 0. 0. 0.]\n",
      " -> Dominated\n",
      "\n"
     ]
    },
    {
     "name": "stderr",
     "output_type": "stream",
     "text": [
      "281it [04:28,  1.13s/it]"
     ]
    },
    {
     "name": "stdout",
     "output_type": "stream",
     "text": [
      "[0. 0. 0. ... 0. 0. 0.]\n",
      " -> Dominated\n",
      "\n"
     ]
    },
    {
     "name": "stderr",
     "output_type": "stream",
     "text": [
      "282it [04:29,  1.16s/it]"
     ]
    },
    {
     "name": "stdout",
     "output_type": "stream",
     "text": [
      "[0. 0. 0. ... 0. 0. 0.]\n",
      " -> Dominated\n",
      "\n"
     ]
    },
    {
     "name": "stderr",
     "output_type": "stream",
     "text": [
      "283it [04:30,  1.13s/it]"
     ]
    },
    {
     "name": "stdout",
     "output_type": "stream",
     "text": [
      "[0. 0. 0. ... 0. 0. 0.]\n",
      " -> Dominated\n",
      "\n"
     ]
    },
    {
     "name": "stderr",
     "output_type": "stream",
     "text": [
      "284it [04:31,  1.16s/it]"
     ]
    },
    {
     "name": "stdout",
     "output_type": "stream",
     "text": [
      "[0. 0. 0. ... 0. 0. 0.]\n",
      " -> Dominated\n",
      "\n"
     ]
    },
    {
     "name": "stderr",
     "output_type": "stream",
     "text": [
      "285it [04:32,  1.13s/it]"
     ]
    },
    {
     "name": "stdout",
     "output_type": "stream",
     "text": [
      "[0. 0. 0. ... 0. 0. 0.]\n",
      " -> Dominated\n",
      "\n"
     ]
    },
    {
     "name": "stderr",
     "output_type": "stream",
     "text": [
      "286it [04:34,  1.20s/it]"
     ]
    },
    {
     "name": "stdout",
     "output_type": "stream",
     "text": [
      "[0. 0. 0. ... 0. 0. 0.]\n",
      " -> Dominated\n",
      "\n"
     ]
    },
    {
     "name": "stderr",
     "output_type": "stream",
     "text": [
      "287it [04:35,  1.14s/it]"
     ]
    },
    {
     "name": "stdout",
     "output_type": "stream",
     "text": [
      "[0. 0. 0. ... 0. 0. 0.]\n",
      " -> Dominated\n",
      "\n"
     ]
    },
    {
     "name": "stderr",
     "output_type": "stream",
     "text": [
      "288it [04:36,  1.16s/it]"
     ]
    },
    {
     "name": "stdout",
     "output_type": "stream",
     "text": [
      "[0. 0. 0. ... 0. 0. 0.]\n",
      " -> Dominated\n",
      "\n"
     ]
    },
    {
     "name": "stderr",
     "output_type": "stream",
     "text": [
      "289it [04:37,  1.09s/it]"
     ]
    },
    {
     "name": "stdout",
     "output_type": "stream",
     "text": [
      "[0. 0. 0. ... 0. 0. 0.]\n",
      " -> Dominated\n",
      "\n"
     ]
    },
    {
     "name": "stderr",
     "output_type": "stream",
     "text": [
      "290it [04:38,  1.08s/it]"
     ]
    },
    {
     "name": "stdout",
     "output_type": "stream",
     "text": [
      "[0. 0. 0. ... 0. 0. 0.]\n",
      " -> Dominated\n",
      "\n"
     ]
    },
    {
     "name": "stderr",
     "output_type": "stream",
     "text": [
      "291it [04:39,  1.09s/it]"
     ]
    },
    {
     "name": "stdout",
     "output_type": "stream",
     "text": [
      "[0. 0. 0. ... 0. 0. 0.]\n",
      " -> Dominated\n",
      "\n"
     ]
    },
    {
     "name": "stderr",
     "output_type": "stream",
     "text": [
      "292it [04:40,  1.08s/it]"
     ]
    },
    {
     "name": "stdout",
     "output_type": "stream",
     "text": [
      "[0. 0. 0. ... 0. 0. 0.]\n",
      " -> Dominated\n",
      "\n"
     ]
    },
    {
     "name": "stderr",
     "output_type": "stream",
     "text": [
      "293it [04:41,  1.11s/it]"
     ]
    },
    {
     "name": "stdout",
     "output_type": "stream",
     "text": [
      "[0. 0. 0. ... 0. 0. 0.]\n",
      " -> Dominated\n",
      "\n"
     ]
    },
    {
     "name": "stderr",
     "output_type": "stream",
     "text": [
      "294it [04:42,  1.13s/it]"
     ]
    },
    {
     "name": "stdout",
     "output_type": "stream",
     "text": [
      "[0. 0. 0. ... 0. 0. 0.]\n",
      " -> Dominated\n",
      "\n"
     ]
    },
    {
     "name": "stderr",
     "output_type": "stream",
     "text": [
      "295it [04:43,  1.10s/it]"
     ]
    },
    {
     "name": "stdout",
     "output_type": "stream",
     "text": [
      "[0. 0. 0. ... 0. 0. 0.]\n",
      " -> Dominated\n",
      "\n"
     ]
    },
    {
     "name": "stderr",
     "output_type": "stream",
     "text": [
      "296it [04:44,  1.07s/it]"
     ]
    },
    {
     "name": "stdout",
     "output_type": "stream",
     "text": [
      "[0. 0. 0. ... 0. 0. 0.]\n",
      " -> Dominated\n",
      "\n"
     ]
    },
    {
     "name": "stderr",
     "output_type": "stream",
     "text": [
      "297it [04:45,  1.04s/it]"
     ]
    },
    {
     "name": "stdout",
     "output_type": "stream",
     "text": [
      "[0. 0. 0. ... 0. 0. 0.]\n",
      " -> Dominated\n",
      "\n"
     ]
    },
    {
     "name": "stderr",
     "output_type": "stream",
     "text": [
      "298it [04:46,  1.03s/it]"
     ]
    },
    {
     "name": "stdout",
     "output_type": "stream",
     "text": [
      "[0. 0. 0. ... 0. 0. 0.]\n",
      " -> Dominated\n",
      "\n"
     ]
    },
    {
     "name": "stderr",
     "output_type": "stream",
     "text": [
      "299it [04:47,  1.02s/it]"
     ]
    },
    {
     "name": "stdout",
     "output_type": "stream",
     "text": [
      "[0. 0. 0. ... 0. 0. 0.]\n",
      " -> Dominated\n",
      "\n"
     ]
    },
    {
     "name": "stderr",
     "output_type": "stream",
     "text": [
      "300it [15:42, 197.16s/it]"
     ]
    },
    {
     "name": "stdout",
     "output_type": "stream",
     "text": [
      "[0. 0. 0. ... 0. 0. 0.]\n",
      " -> Dominated\n",
      "\n"
     ]
    },
    {
     "name": "stderr",
     "output_type": "stream",
     "text": [
      "301it [15:43, 138.31s/it]"
     ]
    },
    {
     "name": "stdout",
     "output_type": "stream",
     "text": [
      "[0. 0. 0. ... 0. 0. 0.]\n",
      " -> Dominated\n",
      "\n"
     ]
    },
    {
     "name": "stderr",
     "output_type": "stream",
     "text": [
      "302it [15:44, 97.10s/it] "
     ]
    },
    {
     "name": "stdout",
     "output_type": "stream",
     "text": [
      "[0. 0. 0. ... 0. 0. 0.]\n",
      " -> Dominated\n",
      "\n"
     ]
    },
    {
     "name": "stderr",
     "output_type": "stream",
     "text": [
      "303it [15:45, 68.25s/it]"
     ]
    },
    {
     "name": "stdout",
     "output_type": "stream",
     "text": [
      "[0. 0. 0. ... 0. 0. 0.]\n",
      " -> Dominated\n",
      "\n"
     ]
    },
    {
     "name": "stderr",
     "output_type": "stream",
     "text": [
      "304it [15:46, 48.03s/it]"
     ]
    },
    {
     "name": "stdout",
     "output_type": "stream",
     "text": [
      "[0. 0. 0. ... 0. 0. 0.]\n",
      " -> Dominated\n",
      "\n"
     ]
    },
    {
     "name": "stderr",
     "output_type": "stream",
     "text": [
      "305it [15:47, 33.90s/it]"
     ]
    },
    {
     "name": "stdout",
     "output_type": "stream",
     "text": [
      "[0. 0. 0. ... 0. 0. 0.]\n",
      " -> Dominated\n",
      "\n"
     ]
    },
    {
     "name": "stderr",
     "output_type": "stream",
     "text": [
      "306it [15:48, 24.01s/it]"
     ]
    },
    {
     "name": "stdout",
     "output_type": "stream",
     "text": [
      "[0. 0. 0. ... 0. 0. 0.]\n",
      " -> Dominated\n",
      "\n"
     ]
    },
    {
     "name": "stderr",
     "output_type": "stream",
     "text": [
      "307it [15:49, 17.09s/it]"
     ]
    },
    {
     "name": "stdout",
     "output_type": "stream",
     "text": [
      "[0. 0. 0. ... 0. 0. 0.]\n",
      " -> Dominated\n",
      "\n"
     ]
    },
    {
     "name": "stderr",
     "output_type": "stream",
     "text": [
      "308it [15:50, 12.22s/it]"
     ]
    },
    {
     "name": "stdout",
     "output_type": "stream",
     "text": [
      "[0. 0. 0. ... 0. 0. 0.]\n",
      " -> Dominated\n",
      "\n"
     ]
    },
    {
     "name": "stderr",
     "output_type": "stream",
     "text": [
      "309it [15:51,  8.85s/it]"
     ]
    },
    {
     "name": "stdout",
     "output_type": "stream",
     "text": [
      "[0.64910263 0.64910263 0.64910263 ... 0.         0.         0.        ]\n",
      " -> Dominated\n",
      "\n"
     ]
    },
    {
     "name": "stderr",
     "output_type": "stream",
     "text": [
      "310it [15:52,  6.52s/it]"
     ]
    },
    {
     "name": "stdout",
     "output_type": "stream",
     "text": [
      "[0.64910263 0.64910263 0.64910263 ... 0.         0.         0.        ]\n",
      " -> Dominated\n",
      "\n"
     ]
    },
    {
     "name": "stderr",
     "output_type": "stream",
     "text": [
      "311it [15:53,  4.87s/it]"
     ]
    },
    {
     "name": "stdout",
     "output_type": "stream",
     "text": [
      "[0. 0. 0. ... 0. 0. 0.]\n",
      " -> Dominated\n",
      "\n"
     ]
    },
    {
     "name": "stderr",
     "output_type": "stream",
     "text": [
      "312it [15:54,  3.72s/it]"
     ]
    },
    {
     "name": "stdout",
     "output_type": "stream",
     "text": [
      "[0. 0. 0. ... 0. 0. 0.]\n",
      " -> Dominated\n",
      "\n"
     ]
    },
    {
     "name": "stderr",
     "output_type": "stream",
     "text": [
      "313it [15:55,  2.90s/it]"
     ]
    },
    {
     "name": "stdout",
     "output_type": "stream",
     "text": [
      "[0. 0. 0. ... 0. 0. 0.]\n",
      " -> Dominated\n",
      "\n"
     ]
    },
    {
     "name": "stderr",
     "output_type": "stream",
     "text": [
      "314it [15:56,  2.31s/it]"
     ]
    },
    {
     "name": "stdout",
     "output_type": "stream",
     "text": [
      "[0. 0. 0. ... 0. 0. 0.]\n",
      " -> Dominated\n",
      "\n"
     ]
    },
    {
     "name": "stderr",
     "output_type": "stream",
     "text": [
      "315it [15:57,  1.91s/it]"
     ]
    },
    {
     "name": "stdout",
     "output_type": "stream",
     "text": [
      "[0. 0. 0. ... 0. 0. 0.]\n",
      " -> Dominated\n",
      "\n"
     ]
    },
    {
     "name": "stderr",
     "output_type": "stream",
     "text": [
      "316it [15:58,  1.64s/it]"
     ]
    },
    {
     "name": "stdout",
     "output_type": "stream",
     "text": [
      "[0. 0. 0. ... 0. 0. 0.]\n",
      " -> Dominated\n",
      "\n"
     ]
    },
    {
     "name": "stderr",
     "output_type": "stream",
     "text": [
      "317it [15:59,  1.48s/it]"
     ]
    },
    {
     "name": "stdout",
     "output_type": "stream",
     "text": [
      "[0. 0. 0. ... 0. 0. 0.]\n",
      " -> Dominated\n",
      "\n"
     ]
    },
    {
     "name": "stderr",
     "output_type": "stream",
     "text": [
      "318it [16:01,  1.59s/it]"
     ]
    },
    {
     "name": "stdout",
     "output_type": "stream",
     "text": [
      "[0. 0. 0. ... 0. 0. 0.]\n",
      " -> Dominated\n",
      "\n"
     ]
    },
    {
     "name": "stderr",
     "output_type": "stream",
     "text": [
      "319it [16:03,  1.84s/it]"
     ]
    },
    {
     "name": "stdout",
     "output_type": "stream",
     "text": [
      "[0. 0. 0. ... 0. 0. 0.]\n",
      " -> Dominated\n",
      "\n"
     ]
    },
    {
     "name": "stderr",
     "output_type": "stream",
     "text": [
      "320it [16:04,  1.62s/it]"
     ]
    },
    {
     "name": "stdout",
     "output_type": "stream",
     "text": [
      "[0.6426116 0.6426116 0.6426116 ... 0.        0.        0.       ]\n",
      " -> Dominated\n",
      "\n"
     ]
    },
    {
     "name": "stderr",
     "output_type": "stream",
     "text": [
      "321it [16:05,  1.45s/it]"
     ]
    },
    {
     "name": "stdout",
     "output_type": "stream",
     "text": [
      "[0.6426116 0.6426116 0.6426116 ... 0.        0.        0.       ]\n",
      " -> Dominated\n",
      "\n"
     ]
    },
    {
     "name": "stderr",
     "output_type": "stream",
     "text": [
      "322it [16:06,  1.29s/it]"
     ]
    },
    {
     "name": "stdout",
     "output_type": "stream",
     "text": [
      "[0. 0. 0. ... 0. 0. 0.]\n",
      " -> Dominated\n",
      "\n"
     ]
    },
    {
     "name": "stderr",
     "output_type": "stream",
     "text": [
      "323it [16:07,  1.19s/it]"
     ]
    },
    {
     "name": "stdout",
     "output_type": "stream",
     "text": [
      "[0. 0. 0. ... 0. 0. 0.]\n",
      " -> Dominated\n",
      "\n"
     ]
    },
    {
     "name": "stderr",
     "output_type": "stream",
     "text": [
      "324it [16:08,  1.14s/it]"
     ]
    },
    {
     "name": "stdout",
     "output_type": "stream",
     "text": [
      "[0. 0. 0. ... 0. 0. 0.]\n",
      " -> Dominated\n",
      "\n"
     ]
    },
    {
     "name": "stderr",
     "output_type": "stream",
     "text": [
      "325it [16:09,  1.09s/it]"
     ]
    },
    {
     "name": "stdout",
     "output_type": "stream",
     "text": [
      "[0. 0. 0. ... 0. 0. 0.]\n",
      " -> Dominated\n",
      "\n"
     ]
    },
    {
     "name": "stderr",
     "output_type": "stream",
     "text": [
      "326it [16:10,  1.06s/it]"
     ]
    },
    {
     "name": "stdout",
     "output_type": "stream",
     "text": [
      "[0. 0. 0. ... 0. 0. 0.]\n",
      " -> Dominated\n",
      "\n"
     ]
    },
    {
     "name": "stderr",
     "output_type": "stream",
     "text": [
      "327it [16:11,  1.04s/it]"
     ]
    },
    {
     "name": "stdout",
     "output_type": "stream",
     "text": [
      "[0. 0. 0. ... 0. 0. 0.]\n",
      " -> Dominated\n",
      "\n"
     ]
    },
    {
     "name": "stderr",
     "output_type": "stream",
     "text": [
      "328it [16:12,  1.05s/it]"
     ]
    },
    {
     "name": "stdout",
     "output_type": "stream",
     "text": [
      "[0. 0. 0. ... 0. 0. 0.]\n",
      " -> Dominated\n",
      "\n"
     ]
    },
    {
     "name": "stderr",
     "output_type": "stream",
     "text": [
      "329it [16:13,  1.02s/it]"
     ]
    },
    {
     "name": "stdout",
     "output_type": "stream",
     "text": [
      "[0. 0. 0. ... 0. 0. 0.]\n",
      " -> Dominated\n",
      "\n"
     ]
    },
    {
     "name": "stderr",
     "output_type": "stream",
     "text": [
      "330it [16:14,  1.02s/it]"
     ]
    },
    {
     "name": "stdout",
     "output_type": "stream",
     "text": [
      "[0. 0. 0. ... 0. 0. 0.]\n",
      " -> Dominated\n",
      "\n"
     ]
    },
    {
     "name": "stderr",
     "output_type": "stream",
     "text": [
      "331it [16:15,  1.02s/it]"
     ]
    },
    {
     "name": "stdout",
     "output_type": "stream",
     "text": [
      "[0.63618549 0.63618549 0.63618549 ... 0.         0.         0.        ]\n",
      " -> Dominated\n",
      "\n"
     ]
    },
    {
     "name": "stderr",
     "output_type": "stream",
     "text": [
      "332it [16:16,  1.00s/it]"
     ]
    },
    {
     "name": "stdout",
     "output_type": "stream",
     "text": [
      "[0. 0. 0. ... 0. 0. 0.]\n",
      " -> Dominated\n",
      "\n"
     ]
    },
    {
     "name": "stderr",
     "output_type": "stream",
     "text": [
      "333it [16:17,  1.01s/it]"
     ]
    },
    {
     "name": "stdout",
     "output_type": "stream",
     "text": [
      "[0. 0. 0. ... 0. 0. 0.]\n",
      " -> Dominated\n",
      "\n"
     ]
    },
    {
     "name": "stderr",
     "output_type": "stream",
     "text": [
      "334it [16:18,  1.01s/it]"
     ]
    },
    {
     "name": "stdout",
     "output_type": "stream",
     "text": [
      "[0. 0. 0. ... 0. 0. 0.]\n",
      " -> Dominated\n",
      "\n"
     ]
    },
    {
     "name": "stderr",
     "output_type": "stream",
     "text": [
      "335it [16:19,  1.01s/it]"
     ]
    },
    {
     "name": "stdout",
     "output_type": "stream",
     "text": [
      "[0. 0. 0. ... 0. 0. 0.]\n",
      " -> Dominated\n",
      "\n"
     ]
    },
    {
     "name": "stderr",
     "output_type": "stream",
     "text": [
      "336it [16:20,  1.03s/it]"
     ]
    },
    {
     "name": "stdout",
     "output_type": "stream",
     "text": [
      "[0. 0. 0. ... 0. 0. 0.]\n",
      " -> Dominated\n",
      "\n"
     ]
    },
    {
     "name": "stderr",
     "output_type": "stream",
     "text": [
      "337it [16:21,  1.01s/it]"
     ]
    },
    {
     "name": "stdout",
     "output_type": "stream",
     "text": [
      "[0. 0. 0. ... 0. 0. 0.]\n",
      " -> Dominated\n",
      "\n"
     ]
    },
    {
     "name": "stderr",
     "output_type": "stream",
     "text": [
      "338it [16:22,  1.07s/it]"
     ]
    },
    {
     "name": "stdout",
     "output_type": "stream",
     "text": [
      "[0. 0. 0. ... 0. 0. 0.]\n",
      " -> Dominated\n",
      "\n"
     ]
    },
    {
     "name": "stderr",
     "output_type": "stream",
     "text": [
      "339it [16:24,  1.21s/it]"
     ]
    },
    {
     "name": "stdout",
     "output_type": "stream",
     "text": [
      "[0. 0. 0. ... 0. 0. 0.]\n",
      " -> Dominated\n",
      "\n"
     ]
    },
    {
     "name": "stderr",
     "output_type": "stream",
     "text": [
      "340it [16:25,  1.20s/it]"
     ]
    },
    {
     "name": "stdout",
     "output_type": "stream",
     "text": [
      "[0. 0. 0. ... 0. 0. 0.]\n",
      " -> Dominated\n",
      "\n"
     ]
    },
    {
     "name": "stderr",
     "output_type": "stream",
     "text": [
      "341it [16:26,  1.24s/it]"
     ]
    },
    {
     "name": "stdout",
     "output_type": "stream",
     "text": [
      "[0. 0. 0. ... 0. 0. 0.]\n",
      " -> Dominated\n",
      "\n"
     ]
    },
    {
     "name": "stderr",
     "output_type": "stream",
     "text": [
      "342it [16:27,  1.18s/it]"
     ]
    },
    {
     "name": "stdout",
     "output_type": "stream",
     "text": [
      "[0. 0. 0. ... 0. 0. 0.]\n",
      " -> Dominated\n",
      "\n"
     ]
    },
    {
     "name": "stderr",
     "output_type": "stream",
     "text": [
      "343it [16:28,  1.13s/it]"
     ]
    },
    {
     "name": "stdout",
     "output_type": "stream",
     "text": [
      "[0. 0. 0. ... 0. 0. 0.]\n",
      " -> Dominated\n",
      "\n"
     ]
    },
    {
     "name": "stderr",
     "output_type": "stream",
     "text": [
      "344it [16:30,  1.17s/it]"
     ]
    },
    {
     "name": "stdout",
     "output_type": "stream",
     "text": [
      "[0. 0. 0. ... 0. 0. 0.]\n",
      " -> Dominated\n",
      "\n"
     ]
    },
    {
     "name": "stderr",
     "output_type": "stream",
     "text": [
      "345it [16:31,  1.12s/it]"
     ]
    },
    {
     "name": "stdout",
     "output_type": "stream",
     "text": [
      "[0. 0. 0. ... 0. 0. 0.]\n",
      " -> Dominated\n",
      "\n"
     ]
    },
    {
     "name": "stderr",
     "output_type": "stream",
     "text": [
      "346it [16:32,  1.12s/it]"
     ]
    },
    {
     "name": "stdout",
     "output_type": "stream",
     "text": [
      "[1.2652824 1.2652824 1.2652824 ... 0.        0.        0.       ]\n",
      " -> Dominated\n",
      "\n"
     ]
    },
    {
     "name": "stderr",
     "output_type": "stream",
     "text": [
      "347it [16:33,  1.14s/it]"
     ]
    },
    {
     "name": "stdout",
     "output_type": "stream",
     "text": [
      "[0.62982363 0.62982363 0.62982363 ... 0.         0.         0.        ]\n",
      " -> Dominated\n",
      "\n"
     ]
    },
    {
     "name": "stderr",
     "output_type": "stream",
     "text": [
      "348it [16:34,  1.15s/it]"
     ]
    },
    {
     "name": "stdout",
     "output_type": "stream",
     "text": [
      "[0. 0. 0. ... 0. 0. 0.]\n",
      " -> Dominated\n",
      "\n"
     ]
    },
    {
     "name": "stderr",
     "output_type": "stream",
     "text": [
      "349it [16:35,  1.15s/it]"
     ]
    },
    {
     "name": "stdout",
     "output_type": "stream",
     "text": [
      "[0. 0. 0. ... 0. 0. 0.]\n",
      " -> Dominated\n",
      "\n"
     ]
    },
    {
     "name": "stderr",
     "output_type": "stream",
     "text": [
      "350it [16:36,  1.11s/it]"
     ]
    },
    {
     "name": "stdout",
     "output_type": "stream",
     "text": [
      "[0. 0. 0. ... 0. 0. 0.]\n",
      " -> Dominated\n",
      "\n"
     ]
    },
    {
     "name": "stderr",
     "output_type": "stream",
     "text": [
      "351it [16:37,  1.12s/it]"
     ]
    },
    {
     "name": "stdout",
     "output_type": "stream",
     "text": [
      "[0.62352539 0.62352539 0.62352539 ... 0.         0.         0.        ]\n",
      " -> Dominated\n",
      "\n"
     ]
    },
    {
     "name": "stderr",
     "output_type": "stream",
     "text": [
      "352it [16:38,  1.10s/it]"
     ]
    },
    {
     "name": "stdout",
     "output_type": "stream",
     "text": [
      "[0. 0. 0. ... 0. 0. 0.]\n",
      " -> Dominated\n",
      "\n"
     ]
    },
    {
     "name": "stderr",
     "output_type": "stream",
     "text": [
      "353it [16:41,  1.42s/it]"
     ]
    },
    {
     "name": "stdout",
     "output_type": "stream",
     "text": [
      "[0. 0. 0. ... 0. 0. 0.]\n",
      " -> Dominated\n",
      "\n"
     ]
    },
    {
     "name": "stderr",
     "output_type": "stream",
     "text": [
      "354it [16:42,  1.36s/it]"
     ]
    },
    {
     "name": "stdout",
     "output_type": "stream",
     "text": [
      "[1.25262957 1.25262957 1.25262957 ... 0.         0.         0.        ]\n",
      " -> Dominated\n",
      "\n"
     ]
    },
    {
     "name": "stderr",
     "output_type": "stream",
     "text": [
      "355it [16:43,  1.27s/it]"
     ]
    },
    {
     "name": "stdout",
     "output_type": "stream",
     "text": [
      "[1.25262957 1.25262957 1.25262957 ... 0.         0.         0.        ]\n",
      " -> Dominated\n",
      "\n"
     ]
    },
    {
     "name": "stderr",
     "output_type": "stream",
     "text": [
      "356it [16:44,  1.17s/it]"
     ]
    },
    {
     "name": "stdout",
     "output_type": "stream",
     "text": [
      "[0. 0. 0. ... 0. 0. 0.]\n",
      " -> Dominated\n",
      "\n"
     ]
    },
    {
     "name": "stderr",
     "output_type": "stream",
     "text": [
      "357it [16:45,  1.14s/it]"
     ]
    },
    {
     "name": "stdout",
     "output_type": "stream",
     "text": [
      "[0. 0. 0. ... 0. 0. 0.]\n",
      " -> Dominated\n",
      "\n"
     ]
    },
    {
     "name": "stderr",
     "output_type": "stream",
     "text": [
      "358it [16:46,  1.11s/it]"
     ]
    },
    {
     "name": "stdout",
     "output_type": "stream",
     "text": [
      "[0.62352539 0.62352539 0.62352539 ... 0.         0.         0.        ]\n",
      " -> Dominated\n",
      "\n"
     ]
    },
    {
     "name": "stderr",
     "output_type": "stream",
     "text": [
      "359it [16:47,  1.09s/it]"
     ]
    },
    {
     "name": "stdout",
     "output_type": "stream",
     "text": [
      "[0.61729014 0.61729014 0.61729014 ... 0.         0.         0.        ]\n",
      " -> Dominated\n",
      "\n"
     ]
    },
    {
     "name": "stderr",
     "output_type": "stream",
     "text": [
      "360it [16:48,  1.08s/it]"
     ]
    },
    {
     "name": "stdout",
     "output_type": "stream",
     "text": [
      "[0. 0. 0. ... 0. 0. 0.]\n",
      " -> Dominated\n",
      "\n"
     ]
    },
    {
     "name": "stderr",
     "output_type": "stream",
     "text": [
      "361it [16:49,  1.05s/it]"
     ]
    },
    {
     "name": "stdout",
     "output_type": "stream",
     "text": [
      "[0. 0. 0. ... 0. 0. 0.]\n",
      " -> Dominated\n",
      "\n"
     ]
    },
    {
     "name": "stderr",
     "output_type": "stream",
     "text": [
      "362it [16:51,  1.32s/it]"
     ]
    },
    {
     "name": "stdout",
     "output_type": "stream",
     "text": [
      "[0. 0. 0. ... 0. 0. 0.]\n",
      " -> Dominated\n",
      "\n"
     ]
    },
    {
     "name": "stderr",
     "output_type": "stream",
     "text": [
      "363it [16:52,  1.30s/it]"
     ]
    },
    {
     "name": "stdout",
     "output_type": "stream",
     "text": [
      "[1.24010328 1.24010328 1.24010328 ... 0.         0.         0.        ]\n",
      " -> Dominated\n",
      "\n"
     ]
    },
    {
     "name": "stderr",
     "output_type": "stream",
     "text": [
      "364it [16:53,  1.25s/it]"
     ]
    },
    {
     "name": "stdout",
     "output_type": "stream",
     "text": [
      "[1.24010328 1.24010328 1.24010328 ... 0.         0.         0.        ]\n",
      " -> Dominated\n",
      "\n"
     ]
    },
    {
     "name": "stderr",
     "output_type": "stream",
     "text": [
      "365it [16:54,  1.19s/it]"
     ]
    },
    {
     "name": "stdout",
     "output_type": "stream",
     "text": [
      "[1.24010328 1.24010328 1.24010328 ... 0.         0.         0.        ]\n",
      " -> Dominated\n",
      "\n"
     ]
    },
    {
     "name": "stderr",
     "output_type": "stream",
     "text": [
      "366it [16:55,  1.12s/it]"
     ]
    },
    {
     "name": "stdout",
     "output_type": "stream",
     "text": [
      "[0. 0. 0. ... 0. 0. 0.]\n",
      " -> Dominated\n",
      "\n"
     ]
    },
    {
     "name": "stderr",
     "output_type": "stream",
     "text": [
      "367it [16:56,  1.11s/it]"
     ]
    },
    {
     "name": "stdout",
     "output_type": "stream",
     "text": [
      "[0. 0. 0. ... 0. 0. 0.]\n",
      " -> Dominated\n",
      "\n"
     ]
    },
    {
     "name": "stderr",
     "output_type": "stream",
     "text": [
      "368it [16:58,  1.14s/it]"
     ]
    },
    {
     "name": "stdout",
     "output_type": "stream",
     "text": [
      "[0. 0. 0. ... 0. 0. 0.]\n",
      " -> Dominated\n",
      "\n"
     ]
    },
    {
     "name": "stderr",
     "output_type": "stream",
     "text": [
      "369it [16:59,  1.13s/it]"
     ]
    },
    {
     "name": "stdout",
     "output_type": "stream",
     "text": [
      "[1.22770225 1.22770225 1.22770225 ... 0.         0.         0.        ]\n",
      " -> Dominated\n",
      "\n"
     ]
    },
    {
     "name": "stderr",
     "output_type": "stream",
     "text": [
      "370it [17:00,  1.07s/it]"
     ]
    },
    {
     "name": "stdout",
     "output_type": "stream",
     "text": [
      "[0. 0. 0. ... 0. 0. 0.]\n",
      " -> Dominated\n",
      "\n"
     ]
    },
    {
     "name": "stderr",
     "output_type": "stream",
     "text": [
      "371it [17:01,  1.06s/it]"
     ]
    },
    {
     "name": "stdout",
     "output_type": "stream",
     "text": [
      "[0. 0. 0. ... 0. 0. 0.]\n",
      " -> Dominated\n",
      "\n"
     ]
    },
    {
     "name": "stderr",
     "output_type": "stream",
     "text": [
      "372it [17:02,  1.04s/it]"
     ]
    },
    {
     "name": "stdout",
     "output_type": "stream",
     "text": [
      "[0. 0. 0. ... 0. 0. 0.]\n",
      " -> Dominated\n",
      "\n"
     ]
    },
    {
     "name": "stderr",
     "output_type": "stream",
     "text": [
      "373it [17:03,  1.04s/it]"
     ]
    },
    {
     "name": "stdout",
     "output_type": "stream",
     "text": [
      "[0. 0. 0. ... 0. 0. 0.]\n",
      " -> Dominated\n",
      "\n"
     ]
    },
    {
     "name": "stderr",
     "output_type": "stream",
     "text": [
      "374it [17:04,  1.03s/it]"
     ]
    },
    {
     "name": "stdout",
     "output_type": "stream",
     "text": [
      "[0. 0. 0. ... 0. 0. 0.]\n",
      " -> Dominated\n",
      "\n"
     ]
    },
    {
     "name": "stderr",
     "output_type": "stream",
     "text": [
      "375it [17:05,  1.05s/it]"
     ]
    },
    {
     "name": "stdout",
     "output_type": "stream",
     "text": [
      "[0. 0. 0. ... 0. 0. 0.]\n",
      " -> Dominated\n",
      "\n"
     ]
    },
    {
     "name": "stderr",
     "output_type": "stream",
     "text": [
      "376it [17:06,  1.17s/it]"
     ]
    },
    {
     "name": "stdout",
     "output_type": "stream",
     "text": [
      "[0. 0. 0. ... 0. 0. 0.]\n",
      " -> Dominated\n",
      "\n"
     ]
    },
    {
     "name": "stderr",
     "output_type": "stream",
     "text": [
      "377it [17:07,  1.14s/it]"
     ]
    },
    {
     "name": "stdout",
     "output_type": "stream",
     "text": [
      "[1.21542522 1.21542522 1.21542522 ... 0.         0.         0.        ]\n",
      " -> Dominated\n",
      "\n"
     ]
    },
    {
     "name": "stderr",
     "output_type": "stream",
     "text": [
      "378it [17:08,  1.11s/it]"
     ]
    },
    {
     "name": "stdout",
     "output_type": "stream",
     "text": [
      "[1.21542522 1.21542522 1.21542522 ... 0.         0.         0.        ]\n",
      " -> Dominated\n",
      "\n"
     ]
    },
    {
     "name": "stderr",
     "output_type": "stream",
     "text": [
      "379it [17:09,  1.05s/it]"
     ]
    },
    {
     "name": "stdout",
     "output_type": "stream",
     "text": [
      "[0. 0. 0. ... 0. 0. 0.]\n",
      " -> Dominated\n",
      "\n"
     ]
    },
    {
     "name": "stderr",
     "output_type": "stream",
     "text": [
      "380it [17:10,  1.03s/it]"
     ]
    },
    {
     "name": "stdout",
     "output_type": "stream",
     "text": [
      "[0. 0. 0. ... 0. 0. 0.]\n",
      " -> Dominated\n",
      "\n"
     ]
    },
    {
     "name": "stderr",
     "output_type": "stream",
     "text": [
      "381it [17:11,  1.03s/it]"
     ]
    },
    {
     "name": "stdout",
     "output_type": "stream",
     "text": [
      "[0. 0. 0. ... 0. 0. 0.]\n",
      " -> Dominated\n",
      "\n"
     ]
    },
    {
     "name": "stderr",
     "output_type": "stream",
     "text": [
      "382it [17:12,  1.02s/it]"
     ]
    },
    {
     "name": "stdout",
     "output_type": "stream",
     "text": [
      "[0. 0. 0. ... 0. 0. 0.]\n",
      " -> Dominated\n",
      "\n"
     ]
    },
    {
     "name": "stderr",
     "output_type": "stream",
     "text": [
      "383it [17:13,  1.01s/it]"
     ]
    },
    {
     "name": "stdout",
     "output_type": "stream",
     "text": [
      "[2.43098027 2.43098027 2.43098027 ... 0.         0.         0.        ]\n",
      " -> Dominated\n",
      "\n"
     ]
    },
    {
     "name": "stderr",
     "output_type": "stream",
     "text": [
      "384it [17:15,  1.10s/it]"
     ]
    },
    {
     "name": "stdout",
     "output_type": "stream",
     "text": [
      "[1.20327097 1.20327097 1.20327097 ... 0.         0.         0.        ]\n",
      " -> Dominated\n",
      "\n"
     ]
    },
    {
     "name": "stderr",
     "output_type": "stream",
     "text": [
      "385it [17:16,  1.07s/it]"
     ]
    },
    {
     "name": "stdout",
     "output_type": "stream",
     "text": [
      "[0. 0. 0. ... 0. 0. 0.]\n",
      " -> Dominated\n",
      "\n"
     ]
    },
    {
     "name": "stderr",
     "output_type": "stream",
     "text": [
      "386it [17:17,  1.05s/it]"
     ]
    },
    {
     "name": "stdout",
     "output_type": "stream",
     "text": [
      "[0. 0. 0. ... 0. 0. 0.]\n",
      " -> Dominated\n",
      "\n"
     ]
    },
    {
     "name": "stderr",
     "output_type": "stream",
     "text": [
      "387it [17:18,  1.03s/it]"
     ]
    },
    {
     "name": "stdout",
     "output_type": "stream",
     "text": [
      "[0. 0. 0. ... 0. 0. 0.]\n",
      " -> Dominated\n",
      "\n"
     ]
    },
    {
     "name": "stderr",
     "output_type": "stream",
     "text": [
      "388it [17:19,  1.04s/it]"
     ]
    },
    {
     "name": "stdout",
     "output_type": "stream",
     "text": [
      "[1.19123826 1.19123826 1.19123826 ... 0.         0.         0.        ]\n",
      " -> Dominated\n",
      "\n"
     ]
    },
    {
     "name": "stderr",
     "output_type": "stream",
     "text": [
      "389it [17:20,  1.06s/it]"
     ]
    },
    {
     "name": "stdout",
     "output_type": "stream",
     "text": [
      "[1.19123826 1.19123826 1.19123826 ... 0.         0.         0.        ]\n",
      " -> Dominated\n",
      "\n"
     ]
    },
    {
     "name": "stderr",
     "output_type": "stream",
     "text": [
      "392it [17:23,  1.03s/it]"
     ]
    },
    {
     "name": "stdout",
     "output_type": "stream",
     "text": [
      "[2.40667046 2.40667046 2.40667046 ... 0.         0.         0.        ]\n",
      " -> Dominated\n",
      "\n"
     ]
    },
    {
     "name": "stderr",
     "output_type": "stream",
     "text": [
      "393it [17:24,  1.01s/it]"
     ]
    },
    {
     "name": "stdout",
     "output_type": "stream",
     "text": [
      "[0. 0. 0. ... 0. 0. 0.]\n",
      " -> Dominated\n",
      "\n"
     ]
    },
    {
     "name": "stderr",
     "output_type": "stream",
     "text": [
      "394it [17:25,  1.01s/it]"
     ]
    },
    {
     "name": "stdout",
     "output_type": "stream",
     "text": [
      "[0. 0. 0. ... 0. 0. 0.]\n",
      " -> Dominated\n",
      "\n"
     ]
    },
    {
     "name": "stderr",
     "output_type": "stream",
     "text": [
      "395it [17:26,  1.01s/it]"
     ]
    },
    {
     "name": "stdout",
     "output_type": "stream",
     "text": [
      "[0. 0. 0. ... 0. 0. 0.]\n",
      " -> Dominated\n",
      "\n"
     ]
    },
    {
     "name": "stderr",
     "output_type": "stream",
     "text": [
      "396it [17:27,  1.11s/it]"
     ]
    },
    {
     "name": "stdout",
     "output_type": "stream",
     "text": [
      "[1.21542522 1.21542522 1.21542522 ... 0.         0.         0.        ]\n",
      " -> Dominated\n",
      "\n"
     ]
    },
    {
     "name": "stderr",
     "output_type": "stream",
     "text": [
      "397it [17:28,  1.11s/it]"
     ]
    },
    {
     "name": "stdout",
     "output_type": "stream",
     "text": [
      "[1.19123826 1.19123826 1.19123826 ... 0.         0.         0.        ]\n",
      " -> Dominated\n",
      "\n"
     ]
    },
    {
     "name": "stderr",
     "output_type": "stream",
     "text": [
      "398it [17:29,  1.10s/it]"
     ]
    },
    {
     "name": "stdout",
     "output_type": "stream",
     "text": [
      "[1.17932588 1.17932588 1.17932588 ... 0.         0.         0.        ]\n",
      " -> Dominated\n",
      "\n"
     ]
    },
    {
     "name": "stderr",
     "output_type": "stream",
     "text": [
      "399it [17:30,  1.10s/it]"
     ]
    },
    {
     "name": "stdout",
     "output_type": "stream",
     "text": [
      "[2.38260376 2.38260376 2.38260376 ... 0.         0.         0.        ]\n",
      " -> Dominated\n",
      "\n"
     ]
    },
    {
     "name": "stderr",
     "output_type": "stream",
     "text": [
      "400it [17:32,  1.33s/it]"
     ]
    },
    {
     "name": "stdout",
     "output_type": "stream",
     "text": [
      "[0. 0. 0. ... 0. 0. 0.]\n",
      " -> Dominated\n",
      "\n"
     ]
    },
    {
     "name": "stderr",
     "output_type": "stream",
     "text": [
      "404it [17:37,  1.14s/it]"
     ]
    },
    {
     "name": "stdout",
     "output_type": "stream",
     "text": [
      "[0. 0. 0. ... 0. 0. 0.]\n",
      " -> Dominated\n",
      "\n"
     ]
    },
    {
     "name": "stderr",
     "output_type": "stream",
     "text": [
      "405it [17:38,  1.11s/it]"
     ]
    },
    {
     "name": "stdout",
     "output_type": "stream",
     "text": [
      "[0. 0. 0. ... 0. 0. 0.]\n",
      " -> Dominated\n",
      "\n"
     ]
    },
    {
     "name": "stderr",
     "output_type": "stream",
     "text": [
      "406it [17:39,  1.08s/it]"
     ]
    },
    {
     "name": "stdout",
     "output_type": "stream",
     "text": [
      "[0. 0. 0. ... 0. 0. 0.]\n",
      " -> Dominated\n",
      "\n"
     ]
    },
    {
     "name": "stderr",
     "output_type": "stream",
     "text": [
      "407it [17:40,  1.07s/it]"
     ]
    },
    {
     "name": "stdout",
     "output_type": "stream",
     "text": [
      "[0. 0. 0. ... 0. 0. 0.]\n",
      " -> Dominated\n",
      "\n"
     ]
    },
    {
     "name": "stderr",
     "output_type": "stream",
     "text": [
      "408it [17:41,  1.09s/it]"
     ]
    },
    {
     "name": "stdout",
     "output_type": "stream",
     "text": [
      "[1.17932588 1.17932588 1.17932588 ... 0.         0.         0.        ]\n",
      " -> Dominated\n",
      "\n"
     ]
    },
    {
     "name": "stderr",
     "output_type": "stream",
     "text": [
      "410it [17:44,  1.41s/it]"
     ]
    },
    {
     "name": "stdout",
     "output_type": "stream",
     "text": [
      "[0. 0. 0. ... 0. 0. 0.]\n",
      " -> Dominated\n",
      "\n"
     ]
    },
    {
     "name": "stderr",
     "output_type": "stream",
     "text": [
      "414it [17:49,  1.18s/it]"
     ]
    },
    {
     "name": "stdout",
     "output_type": "stream",
     "text": [
      "[0. 0. 0. ... 0. 0. 0.]\n",
      " -> Dominated\n",
      "\n"
     ]
    },
    {
     "name": "stderr",
     "output_type": "stream",
     "text": [
      "415it [17:50,  1.14s/it]"
     ]
    },
    {
     "name": "stdout",
     "output_type": "stream",
     "text": [
      "[0. 0. 0. ... 0. 0. 0.]\n",
      " -> Dominated\n",
      "\n"
     ]
    },
    {
     "name": "stderr",
     "output_type": "stream",
     "text": [
      "416it [17:51,  1.12s/it]"
     ]
    },
    {
     "name": "stdout",
     "output_type": "stream",
     "text": [
      "[0. 0. 0. ... 0. 0. 0.]\n",
      " -> Dominated\n",
      "\n"
     ]
    },
    {
     "name": "stderr",
     "output_type": "stream",
     "text": [
      "418it [17:53,  1.10s/it]"
     ]
    },
    {
     "name": "stdout",
     "output_type": "stream",
     "text": [
      "[0. 0. 0. ... 0. 0. 0.]\n",
      " -> Dominated\n",
      "\n"
     ]
    },
    {
     "name": "stderr",
     "output_type": "stream",
     "text": [
      "419it [17:54,  1.08s/it]"
     ]
    },
    {
     "name": "stdout",
     "output_type": "stream",
     "text": [
      "[0. 0. 0. ... 0. 0. 0.]\n",
      " -> Dominated\n",
      "\n"
     ]
    },
    {
     "name": "stderr",
     "output_type": "stream",
     "text": [
      "420it [17:56,  1.07s/it]"
     ]
    },
    {
     "name": "stdout",
     "output_type": "stream",
     "text": [
      "[0. 0. 0. ... 0. 0. 0.]\n",
      " -> Dominated\n",
      "\n"
     ]
    },
    {
     "name": "stderr",
     "output_type": "stream",
     "text": [
      "421it [17:57,  1.09s/it]"
     ]
    },
    {
     "name": "stdout",
     "output_type": "stream",
     "text": [
      "[0. 0. 0. ... 0. 0. 0.]\n",
      " -> Dominated\n",
      "\n"
     ]
    },
    {
     "name": "stderr",
     "output_type": "stream",
     "text": [
      "422it [17:58,  1.07s/it]"
     ]
    },
    {
     "name": "stdout",
     "output_type": "stream",
     "text": [
      "[0. 0. 0. ... 0. 0. 0.]\n",
      " -> Dominated\n",
      "\n"
     ]
    },
    {
     "name": "stderr",
     "output_type": "stream",
     "text": [
      "423it [17:59,  1.09s/it]"
     ]
    },
    {
     "name": "stdout",
     "output_type": "stream",
     "text": [
      "[0. 0. 0. ... 0. 0. 0.]\n",
      " -> Dominated\n",
      "\n"
     ]
    },
    {
     "name": "stderr",
     "output_type": "stream",
     "text": [
      "424it [18:00,  1.13s/it]"
     ]
    },
    {
     "name": "stdout",
     "output_type": "stream",
     "text": [
      "[1.16753262 1.16753262 1.16753262 ... 0.         0.         0.        ]\n",
      " -> Dominated\n",
      "\n"
     ]
    },
    {
     "name": "stderr",
     "output_type": "stream",
     "text": [
      "425it [18:01,  1.22s/it]"
     ]
    },
    {
     "name": "stdout",
     "output_type": "stream",
     "text": [
      "[1.16753262 1.16753262 1.16753262 ... 0.         0.         0.        ]\n",
      " -> Dominated\n",
      "\n"
     ]
    },
    {
     "name": "stderr",
     "output_type": "stream",
     "text": [
      "426it [18:03,  1.19s/it]"
     ]
    },
    {
     "name": "stdout",
     "output_type": "stream",
     "text": [
      "[0. 0. 0. ... 0. 0. 0.]\n",
      " -> Dominated\n",
      "\n"
     ]
    },
    {
     "name": "stderr",
     "output_type": "stream",
     "text": [
      "427it [18:05,  1.49s/it]"
     ]
    },
    {
     "name": "stdout",
     "output_type": "stream",
     "text": [
      "[0. 0. 0. ... 0. 0. 0.]\n",
      " -> Dominated\n",
      "\n"
     ]
    },
    {
     "name": "stderr",
     "output_type": "stream",
     "text": [
      "428it [18:08,  1.93s/it]"
     ]
    },
    {
     "name": "stdout",
     "output_type": "stream",
     "text": [
      "[0. 0. 0. ... 0. 0. 0.]\n",
      " -> Dominated\n",
      "\n"
     ]
    },
    {
     "name": "stderr",
     "output_type": "stream",
     "text": [
      "432it [18:13,  1.36s/it]"
     ]
    },
    {
     "name": "stdout",
     "output_type": "stream",
     "text": [
      "[0. 0. 0. ... 0. 0. 0.]\n",
      " -> Dominated\n",
      "\n"
     ]
    },
    {
     "name": "stderr",
     "output_type": "stream",
     "text": [
      "433it [18:14,  1.26s/it]"
     ]
    },
    {
     "name": "stdout",
     "output_type": "stream",
     "text": [
      "[0. 0. 0. ... 0. 0. 0.]\n",
      " -> Dominated\n",
      "\n"
     ]
    },
    {
     "name": "stderr",
     "output_type": "stream",
     "text": [
      "434it [18:15,  1.20s/it]"
     ]
    },
    {
     "name": "stdout",
     "output_type": "stream",
     "text": [
      "[1.19123826 1.19123826 1.19123826 ... 0.         0.         0.        ]\n",
      " -> Dominated\n",
      "\n"
     ]
    },
    {
     "name": "stderr",
     "output_type": "stream",
     "text": [
      "440it [18:23,  1.23s/it]"
     ]
    },
    {
     "name": "stdout",
     "output_type": "stream",
     "text": [
      "[0. 0. 0. ... 0. 0. 0.]\n",
      " -> Dominated\n",
      "\n"
     ]
    },
    {
     "name": "stderr",
     "output_type": "stream",
     "text": [
      "441it [18:24,  1.18s/it]"
     ]
    },
    {
     "name": "stdout",
     "output_type": "stream",
     "text": [
      "[0. 0. 0. ... 0. 0. 0.]\n",
      " -> Dominated\n",
      "\n"
     ]
    },
    {
     "name": "stderr",
     "output_type": "stream",
     "text": [
      "442it [18:25,  1.14s/it]"
     ]
    },
    {
     "name": "stdout",
     "output_type": "stream",
     "text": [
      "[0. 0. 0. ... 0. 0. 0.]\n",
      " -> Dominated\n",
      "\n"
     ]
    },
    {
     "name": "stderr",
     "output_type": "stream",
     "text": [
      "443it [18:26,  1.12s/it]"
     ]
    },
    {
     "name": "stdout",
     "output_type": "stream",
     "text": [
      "[0. 0. 0. ... 0. 0. 0.]\n",
      " -> Dominated\n",
      "\n"
     ]
    },
    {
     "name": "stderr",
     "output_type": "stream",
     "text": [
      "446it [18:30,  1.23s/it]"
     ]
    },
    {
     "name": "stdout",
     "output_type": "stream",
     "text": [
      "[0. 0. 0. ... 0. 0. 0.]\n",
      " -> Dominated\n",
      "\n"
     ]
    },
    {
     "name": "stderr",
     "output_type": "stream",
     "text": [
      "447it [18:31,  1.22s/it]"
     ]
    },
    {
     "name": "stdout",
     "output_type": "stream",
     "text": [
      "[0. 0. 0. ... 0. 0. 0.]\n",
      " -> Dominated\n",
      "\n"
     ]
    },
    {
     "name": "stderr",
     "output_type": "stream",
     "text": [
      "448it [18:32,  1.19s/it]"
     ]
    },
    {
     "name": "stdout",
     "output_type": "stream",
     "text": [
      "[0. 0. 0. ... 0. 0. 0.]\n",
      " -> Dominated\n",
      "\n"
     ]
    },
    {
     "name": "stderr",
     "output_type": "stream",
     "text": [
      "449it [18:33,  1.15s/it]"
     ]
    },
    {
     "name": "stdout",
     "output_type": "stream",
     "text": [
      "[0. 0. 0. ... 0. 0. 0.]\n",
      " -> Dominated\n",
      "\n"
     ]
    },
    {
     "name": "stderr",
     "output_type": "stream",
     "text": [
      "450it [18:34,  1.15s/it]"
     ]
    },
    {
     "name": "stdout",
     "output_type": "stream",
     "text": [
      "[0. 0. 0. ... 0. 0. 0.]\n",
      " -> Dominated\n",
      "\n"
     ]
    },
    {
     "name": "stderr",
     "output_type": "stream",
     "text": [
      "451it [18:35,  1.12s/it]"
     ]
    },
    {
     "name": "stdout",
     "output_type": "stream",
     "text": [
      "[0. 0. 0. ... 0. 0. 0.]\n",
      " -> Dominated\n",
      "\n"
     ]
    },
    {
     "name": "stderr",
     "output_type": "stream",
     "text": [
      "453it [18:38,  1.20s/it]"
     ]
    },
    {
     "name": "stdout",
     "output_type": "stream",
     "text": [
      "[0. 0. 0. ... 0. 0. 0.]\n",
      " -> Dominated\n",
      "\n"
     ]
    },
    {
     "name": "stderr",
     "output_type": "stream",
     "text": [
      "457it [18:43,  1.22s/it]"
     ]
    },
    {
     "name": "stdout",
     "output_type": "stream",
     "text": [
      "[1.15585729 1.15585729 1.15585729 ... 0.         0.         0.        ]\n",
      " -> Dominated\n",
      "\n"
     ]
    },
    {
     "name": "stderr",
     "output_type": "stream",
     "text": [
      "460it [18:46,  1.10s/it]"
     ]
    },
    {
     "name": "stdout",
     "output_type": "stream",
     "text": [
      "[0. 0. 0. ... 0. 0. 0.]\n",
      " -> Dominated\n",
      "\n"
     ]
    },
    {
     "name": "stderr",
     "output_type": "stream",
     "text": [
      "461it [18:47,  1.12s/it]"
     ]
    },
    {
     "name": "stdout",
     "output_type": "stream",
     "text": [
      "[0. 0. 0. ... 0. 0. 0.]\n",
      " -> Dominated\n",
      "\n"
     ]
    },
    {
     "name": "stderr",
     "output_type": "stream",
     "text": [
      "462it [18:48,  1.15s/it]"
     ]
    },
    {
     "name": "stdout",
     "output_type": "stream",
     "text": [
      "[0. 0. 0. ... 0. 0. 0.]\n",
      " -> Dominated\n",
      "\n"
     ]
    },
    {
     "name": "stderr",
     "output_type": "stream",
     "text": [
      "463it [18:50,  1.16s/it]"
     ]
    },
    {
     "name": "stdout",
     "output_type": "stream",
     "text": [
      "[0. 0. 0. ... 0. 0. 0.]\n",
      " -> Dominated\n",
      "\n"
     ]
    },
    {
     "name": "stderr",
     "output_type": "stream",
     "text": [
      "468it [18:57,  1.58s/it]"
     ]
    },
    {
     "name": "stdout",
     "output_type": "stream",
     "text": [
      "[0. 0. 0. ... 0. 0. 0.]\n",
      " -> Dominated\n",
      "\n"
     ]
    },
    {
     "name": "stderr",
     "output_type": "stream",
     "text": [
      "473it [19:06,  1.53s/it]"
     ]
    },
    {
     "name": "stdout",
     "output_type": "stream",
     "text": [
      "[0. 0. 0. ... 0. 0. 0.]\n",
      " -> Dominated\n",
      "\n"
     ]
    },
    {
     "name": "stderr",
     "output_type": "stream",
     "text": [
      "474it [19:07,  1.44s/it]"
     ]
    },
    {
     "name": "stdout",
     "output_type": "stream",
     "text": [
      "[0. 0. 0. ... 0. 0. 0.]\n",
      " -> Dominated\n",
      "\n"
     ]
    },
    {
     "name": "stderr",
     "output_type": "stream",
     "text": [
      "475it [19:08,  1.38s/it]"
     ]
    },
    {
     "name": "stdout",
     "output_type": "stream",
     "text": [
      "[0. 0. 0. ... 0. 0. 0.]\n",
      " -> Dominated\n",
      "\n"
     ]
    },
    {
     "name": "stderr",
     "output_type": "stream",
     "text": [
      "476it [19:09,  1.29s/it]"
     ]
    },
    {
     "name": "stdout",
     "output_type": "stream",
     "text": [
      "[0. 0. 0. ... 0. 0. 0.]\n",
      " -> Dominated\n",
      "\n"
     ]
    },
    {
     "name": "stderr",
     "output_type": "stream",
     "text": [
      "477it [19:10,  1.27s/it]"
     ]
    },
    {
     "name": "stdout",
     "output_type": "stream",
     "text": [
      "[0. 0. 0. ... 0. 0. 0.]\n",
      " -> Dominated\n",
      "\n"
     ]
    },
    {
     "name": "stderr",
     "output_type": "stream",
     "text": [
      "484it [19:20,  1.41s/it]"
     ]
    },
    {
     "name": "stdout",
     "output_type": "stream",
     "text": [
      "[0. 0. 0. ... 0. 0. 0.]\n",
      " -> Dominated\n",
      "\n"
     ]
    },
    {
     "name": "stderr",
     "output_type": "stream",
     "text": [
      "485it [19:23,  1.80s/it]"
     ]
    },
    {
     "name": "stdout",
     "output_type": "stream",
     "text": [
      "[0. 0. 0. ... 0. 0. 0.]\n",
      " -> Dominated\n",
      "\n"
     ]
    },
    {
     "name": "stderr",
     "output_type": "stream",
     "text": [
      "489it [19:28,  1.38s/it]"
     ]
    },
    {
     "name": "stdout",
     "output_type": "stream",
     "text": [
      "[0. 0. 0. ... 0. 0. 0.]\n",
      " -> Dominated\n",
      "\n"
     ]
    },
    {
     "name": "stderr",
     "output_type": "stream",
     "text": [
      "490it [19:29,  1.30s/it]"
     ]
    },
    {
     "name": "stdout",
     "output_type": "stream",
     "text": [
      "[0. 0. 0. ... 0. 0. 0.]\n",
      " -> Dominated\n",
      "\n"
     ]
    },
    {
     "name": "stderr",
     "output_type": "stream",
     "text": [
      "491it [19:30,  1.23s/it]"
     ]
    },
    {
     "name": "stdout",
     "output_type": "stream",
     "text": [
      "[0. 0. 0. ... 0. 0. 0.]\n",
      " -> Dominated\n",
      "\n"
     ]
    },
    {
     "name": "stderr",
     "output_type": "stream",
     "text": [
      "492it [19:31,  1.17s/it]"
     ]
    },
    {
     "name": "stdout",
     "output_type": "stream",
     "text": [
      "[0. 0. 0. ... 0. 0. 0.]\n",
      " -> Dominated\n",
      "\n"
     ]
    },
    {
     "name": "stderr",
     "output_type": "stream",
     "text": [
      "493it [19:32,  1.16s/it]"
     ]
    },
    {
     "name": "stdout",
     "output_type": "stream",
     "text": [
      "[0. 0. 0. ... 0. 0. 0.]\n",
      " -> Dominated\n",
      "\n"
     ]
    },
    {
     "name": "stderr",
     "output_type": "stream",
     "text": [
      "497it [19:37,  1.09s/it]"
     ]
    },
    {
     "name": "stdout",
     "output_type": "stream",
     "text": [
      "[0. 0. 0. ... 0. 0. 0.]\n",
      " -> Dominated\n",
      "\n"
     ]
    },
    {
     "name": "stderr",
     "output_type": "stream",
     "text": [
      "498it [19:38,  1.10s/it]"
     ]
    },
    {
     "name": "stdout",
     "output_type": "stream",
     "text": [
      "[0. 0. 0. ... 0. 0. 0.]\n",
      " -> Dominated\n",
      "\n"
     ]
    },
    {
     "name": "stderr",
     "output_type": "stream",
     "text": [
      "499it [19:39,  1.10s/it]"
     ]
    },
    {
     "name": "stdout",
     "output_type": "stream",
     "text": [
      "[0. 0. 0. ... 0. 0. 0.]\n",
      " -> Dominated\n",
      "\n"
     ]
    },
    {
     "name": "stderr",
     "output_type": "stream",
     "text": [
      "500it [19:40,  1.08s/it]"
     ]
    },
    {
     "name": "stdout",
     "output_type": "stream",
     "text": [
      "[0. 0. 0. ... 0. 0. 0.]\n",
      " -> Dominated\n",
      "\n"
     ]
    },
    {
     "name": "stderr",
     "output_type": "stream",
     "text": [
      "501it [19:41,  1.10s/it]"
     ]
    },
    {
     "name": "stdout",
     "output_type": "stream",
     "text": [
      "[0. 0. 0. ... 0. 0. 0.]\n",
      " -> Dominated\n",
      "\n"
     ]
    },
    {
     "name": "stderr",
     "output_type": "stream",
     "text": [
      "503it [19:43,  1.14s/it]"
     ]
    },
    {
     "name": "stdout",
     "output_type": "stream",
     "text": [
      "[0. 0. 0. ... 0. 0. 0.]\n",
      " -> Dominated\n",
      "\n"
     ]
    },
    {
     "name": "stderr",
     "output_type": "stream",
     "text": [
      "507it [19:48,  1.14s/it]"
     ]
    },
    {
     "name": "stdout",
     "output_type": "stream",
     "text": [
      "[0. 0. 0. ... 0. 0. 0.]\n",
      " -> Dominated\n",
      "\n"
     ]
    },
    {
     "name": "stderr",
     "output_type": "stream",
     "text": [
      "512it [19:54,  1.12s/it]"
     ]
    },
    {
     "name": "stdout",
     "output_type": "stream",
     "text": [
      "[0. 0. 0. ... 0. 0. 0.]\n",
      " -> Dominated\n",
      "\n"
     ]
    },
    {
     "name": "stderr",
     "output_type": "stream",
     "text": [
      "513it [19:55,  1.11s/it]"
     ]
    },
    {
     "name": "stdout",
     "output_type": "stream",
     "text": [
      "[0. 0. 0. ... 0. 0. 0.]\n",
      " -> Dominated\n",
      "\n"
     ]
    },
    {
     "name": "stderr",
     "output_type": "stream",
     "text": [
      "520it [20:05,  1.35s/it]"
     ]
    },
    {
     "name": "stdout",
     "output_type": "stream",
     "text": [
      "[0. 0. 0. ... 0. 0. 0.]\n",
      " -> Dominated\n",
      "\n"
     ]
    },
    {
     "name": "stderr",
     "output_type": "stream",
     "text": [
      "522it [20:07,  1.24s/it]"
     ]
    },
    {
     "name": "stdout",
     "output_type": "stream",
     "text": [
      "[0. 0. 0. ... 0. 0. 0.]\n",
      " -> Dominated\n",
      "\n"
     ]
    },
    {
     "name": "stderr",
     "output_type": "stream",
     "text": [
      "531it [20:19,  1.38s/it]"
     ]
    },
    {
     "name": "stdout",
     "output_type": "stream",
     "text": [
      "[0. 0. 0. ... 0. 0. 0.]\n",
      " -> Dominated\n",
      "\n"
     ]
    },
    {
     "name": "stderr",
     "output_type": "stream",
     "text": [
      "540it [20:31,  1.34s/it]"
     ]
    },
    {
     "name": "stdout",
     "output_type": "stream",
     "text": [
      "[0. 0. 0. ... 0. 0. 0.]\n",
      " -> Dominated\n",
      "\n"
     ]
    },
    {
     "name": "stderr",
     "output_type": "stream",
     "text": [
      "545it [20:38,  1.31s/it]"
     ]
    },
    {
     "name": "stdout",
     "output_type": "stream",
     "text": [
      "[0. 0. 0. ... 0. 0. 0.]\n",
      " -> Dominated\n",
      "\n"
     ]
    },
    {
     "name": "stderr",
     "output_type": "stream",
     "text": [
      "558it [20:56,  1.29s/it]"
     ]
    },
    {
     "name": "stdout",
     "output_type": "stream",
     "text": [
      "[0. 0. 0. ... 0. 0. 0.]\n",
      " -> Dominated\n",
      "\n"
     ]
    },
    {
     "name": "stderr",
     "output_type": "stream",
     "text": [
      "980it [35:18,  2.16s/it]\n"
     ]
    }
   ],
   "source": [
    "from tqdm import tqdm\n",
    "from scipy.optimize import milp, LinearConstraint\n",
    "\n",
    "alpha_set = fsvi_solution.alpha_vector_list\n",
    "pruned_alpha_set = []\n",
    "\n",
    "for i, av in tqdm(enumerate(alpha_set)):\n",
    "    alpha_vect = np.asnumpy(av.values)\n",
    "    \n",
    "    oa = alpha_set[:i] + alpha_set[(i+1):]\n",
    "    other_alphas = [np.asnumpy(a.values) for a in oa]\n",
    "\n",
    "    # Objective function\n",
    "    c = numpy.concatenate([numpy.array([1]), -1*alpha_vect])\n",
    "\n",
    "    # Alpha vector contraints\n",
    "    other_count = len(other_alphas)\n",
    "    A = numpy.c_[numpy.ones(other_count), numpy.multiply(numpy.array(other_alphas), -1)]\n",
    "    # b_l = np.zeros(other_count)\n",
    "    # b_u = np.full_like(b_l, np.inf)\n",
    "    alpha_constraints = LinearConstraint(A, 0, numpy.inf)\n",
    "\n",
    "    # Constraints that sum of beliefs is 1\n",
    "    belief_constraint = LinearConstraint(numpy.array([0] + ([1]*model.state_count)), 1, 1)\n",
    "\n",
    "    # Solve problem\n",
    "    res = milp(c=c, constraints=[alpha_constraints, belief_constraint])\n",
    "\n",
    "    # Check if dominated\n",
    "    is_dominated = (res.x[0] - numpy.dot(res.x[1:], alpha_vect)) >= 0\n",
    "    if is_dominated:\n",
    "        print(alpha_vect)\n",
    "        print(' -> Dominated\\n')\n",
    "    else:\n",
    "        pruned_alpha_set.append(alpha_vect)"
   ]
  },
  {
   "cell_type": "code",
   "execution_count": 69,
   "metadata": {},
   "outputs": [
    {
     "data": {
      "text/plain": [
       "515"
      ]
     },
     "execution_count": 69,
     "metadata": {},
     "output_type": "execute_result"
    }
   ],
   "source": [
    "len(pruned_alpha_set)"
   ]
  },
  {
   "cell_type": "code",
   "execution_count": 70,
   "metadata": {},
   "outputs": [
    {
     "data": {
      "text/plain": [
       "array([[4.2745327 , 4.2745327 , 4.2745327 , ..., 0.        , 0.        ,\n",
       "        0.        ],\n",
       "       [4.2745327 , 4.2745327 , 4.2745327 , ..., 0.        , 0.        ,\n",
       "        0.        ],\n",
       "       [4.23178738, 4.23178738, 4.23178738, ..., 0.        , 0.        ,\n",
       "        0.        ],\n",
       "       ...,\n",
       "       [3.90643851, 3.90643851, 3.90643851, ..., 0.        , 0.        ,\n",
       "        0.        ],\n",
       "       [3.90643851, 3.90643851, 3.90643851, ..., 0.        , 0.        ,\n",
       "        0.        ],\n",
       "       [3.90643851, 3.90643851, 3.90643851, ..., 0.        , 0.        ,\n",
       "        0.        ]])"
      ]
     },
     "execution_count": 70,
     "metadata": {},
     "output_type": "execute_result"
    }
   ],
   "source": [
    "numpy.array(pruned_alpha_set)"
   ]
  },
  {
   "cell_type": "code",
   "execution_count": null,
   "metadata": {},
   "outputs": [],
   "source": []
  },
  {
   "cell_type": "code",
   "execution_count": 73,
   "metadata": {},
   "outputs": [
    {
     "data": {
      "text/plain": [
       "<matplotlib.image.AxesImage at 0x1f7e4a4f510>"
      ]
     },
     "execution_count": 73,
     "metadata": {},
     "output_type": "execute_result"
    },
    {
     "data": {
      "image/png": "[encoded data removed]",
      "text/plain": [
       "<Figure size 640x480 with 1 Axes>"
      ]
     },
     "metadata": {},
     "output_type": "display_data"
    }
   ],
   "source": [
    "plt.imshow(numpy.max(numpy.array(pruned_alpha_set), axis=0).reshape(env_shape))"
   ]
  },
  {
   "cell_type": "code",
   "execution_count": null,
   "metadata": {},
   "outputs": [],
   "source": []
  },
  {
   "cell_type": "code",
   "execution_count": null,
   "metadata": {},
   "outputs": [],
   "source": []
  },
  {
   "cell_type": "code",
   "execution_count": 24,
   "metadata": {},
   "outputs": [],
   "source": [
    "from tqdm import tqdm"
   ]
  },
  {
   "cell_type": "code",
   "execution_count": null,
   "metadata": {},
   "outputs": [],
   "source": []
  },
  {
   "cell_type": "code",
   "execution_count": null,
   "metadata": {},
   "outputs": [],
   "source": []
  },
  {
   "cell_type": "code",
   "execution_count": 47,
   "metadata": {},
   "outputs": [
    {
     "name": "stderr",
     "output_type": "stream",
     "text": [
      "  4%|▍         | 37/980 [00:49<21:05,  1.34s/it]\n"
     ]
    },
    {
     "ename": "KeyboardInterrupt",
     "evalue": "",
     "output_type": "error",
     "traceback": [
      "\u001b[1;31m---------------------------------------------------------------------------\u001b[0m",
      "\u001b[1;31mKeyboardInterrupt\u001b[0m                         Traceback (most recent call last)",
      "\u001b[1;32mg:\\My Drive\\Documents\\Universita di Genova\\Classes\\90537 - Thesis\\POMDP_PBVI_Exploration\\Experiments\\Olfactory Navigation\\Olfactory_Model.ipynb Cell 25\u001b[0m line \u001b[0;36m6\n\u001b[0;32m      <a href='vscode-notebook-cell:/g%3A/My%20Drive/Documents/Universita%20di%20Genova/Classes/90537%20-%20Thesis/POMDP_PBVI_Exploration/Experiments/Olfactory%20Navigation/Olfactory_Model.ipynb#Y161sZmlsZQ%3D%3D?line=3'>4</a>\u001b[0m dominated \u001b[39m=\u001b[39m \u001b[39mFalse\u001b[39;00m\n\u001b[0;32m      <a href='vscode-notebook-cell:/g%3A/My%20Drive/Documents/Universita%20di%20Genova/Classes/90537%20-%20Thesis/POMDP_PBVI_Exploration/Experiments/Olfactory%20Navigation/Olfactory_Model.ipynb#Y161sZmlsZQ%3D%3D?line=4'>5</a>\u001b[0m \u001b[39mfor\u001b[39;00m compare_alpha_vector \u001b[39min\u001b[39;00m pruned_alpha_set:\n\u001b[1;32m----> <a href='vscode-notebook-cell:/g%3A/My%20Drive/Documents/Universita%20di%20Genova/Classes/90537%20-%20Thesis/POMDP_PBVI_Exploration/Experiments/Olfactory%20Navigation/Olfactory_Model.ipynb#Y161sZmlsZQ%3D%3D?line=5'>6</a>\u001b[0m     \u001b[39mif\u001b[39;00m \u001b[39mall\u001b[39m(alpha_vector\u001b[39m.\u001b[39mvalues \u001b[39m<\u001b[39m\u001b[39m=\u001b[39m compare_alpha_vector\u001b[39m.\u001b[39mvalues):\n\u001b[0;32m      <a href='vscode-notebook-cell:/g%3A/My%20Drive/Documents/Universita%20di%20Genova/Classes/90537%20-%20Thesis/POMDP_PBVI_Exploration/Experiments/Olfactory%20Navigation/Olfactory_Model.ipynb#Y161sZmlsZQ%3D%3D?line=6'>7</a>\u001b[0m         dominated \u001b[39m=\u001b[39m \u001b[39mTrue\u001b[39;00m\n\u001b[0;32m      <a href='vscode-notebook-cell:/g%3A/My%20Drive/Documents/Universita%20di%20Genova/Classes/90537%20-%20Thesis/POMDP_PBVI_Exploration/Experiments/Olfactory%20Navigation/Olfactory_Model.ipynb#Y161sZmlsZQ%3D%3D?line=7'>8</a>\u001b[0m         \u001b[39mbreak\u001b[39;00m\n",
      "File \u001b[1;32mcupy\\_core\\core.pyx:1492\u001b[0m, in \u001b[0;36mgenexpr\u001b[1;34m()\u001b[0m\n",
      "File \u001b[1;32mcupy\\_core\\core.pyx:1521\u001b[0m, in \u001b[0;36mcupy._core.core._ndarray_base.__getitem__\u001b[1;34m()\u001b[0m\n",
      "File \u001b[1;32mcupy\\_core\\_routines_indexing.pyx:31\u001b[0m, in \u001b[0;36mcupy._core._routines_indexing._ndarray_getitem\u001b[1;34m()\u001b[0m\n",
      "File \u001b[1;32mcupy\\_core\\_routines_indexing.pyx:262\u001b[0m, in \u001b[0;36mcupy._core._routines_indexing._prepare_slice_list\u001b[1;34m()\u001b[0m\n",
      "File \u001b[1;32mc:\\Users\\arnau\\AppData\\Local\\Programs\\Python\\Python311\\Lib\\site-packages\\numpy\\core\\numeric.py:1855\u001b[0m, in \u001b[0;36misscalar\u001b[1;34m(element)\u001b[0m\n\u001b[0;32m   1851\u001b[0m \u001b[39mdef\u001b[39;00m \u001b[39m_frombuffer\u001b[39m(buf, dtype, shape, order):\n\u001b[0;32m   1852\u001b[0m     \u001b[39mreturn\u001b[39;00m frombuffer(buf, dtype\u001b[39m=\u001b[39mdtype)\u001b[39m.\u001b[39mreshape(shape, order\u001b[39m=\u001b[39morder)\n\u001b[1;32m-> 1855\u001b[0m \u001b[39m@set_module\u001b[39m(\u001b[39m'\u001b[39m\u001b[39mnumpy\u001b[39m\u001b[39m'\u001b[39m)\n\u001b[0;32m   1856\u001b[0m \u001b[39mdef\u001b[39;00m \u001b[39misscalar\u001b[39m(element):\n\u001b[0;32m   1857\u001b[0m \u001b[39m    \u001b[39m\u001b[39m\"\"\"\u001b[39;00m\n\u001b[0;32m   1858\u001b[0m \u001b[39m    Returns True if the type of `element` is a scalar type.\u001b[39;00m\n\u001b[0;32m   1859\u001b[0m \n\u001b[1;32m   (...)\u001b[0m\n\u001b[0;32m   1929\u001b[0m \n\u001b[0;32m   1930\u001b[0m \u001b[39m    \"\"\"\u001b[39;00m\n\u001b[0;32m   1931\u001b[0m     \u001b[39mreturn\u001b[39;00m (\u001b[39misinstance\u001b[39m(element, generic)\n\u001b[0;32m   1932\u001b[0m             \u001b[39mor\u001b[39;00m \u001b[39mtype\u001b[39m(element) \u001b[39min\u001b[39;00m ScalarType\n\u001b[0;32m   1933\u001b[0m             \u001b[39mor\u001b[39;00m \u001b[39misinstance\u001b[39m(element, numbers\u001b[39m.\u001b[39mNumber))\n",
      "\u001b[1;31mKeyboardInterrupt\u001b[0m: "
     ]
    }
   ],
   "source": [
    "alpha_set = fsvi_solution\n",
    "pruned_alpha_set = []\n",
    "for alpha_vector in tqdm(alpha_set.alpha_vector_list):\n",
    "    dominated = False\n",
    "    for compare_alpha_vector in pruned_alpha_set:\n",
    "        if all(alpha_vector.values <= compare_alpha_vector.values):\n",
    "            dominated = True\n",
    "            break\n",
    "    if not dominated:\n",
    "        pruned_alpha_set.append(alpha_vector)"
   ]
  },
  {
   "cell_type": "code",
   "execution_count": 31,
   "metadata": {},
   "outputs": [
    {
     "data": {
      "text/plain": [
       "980"
      ]
     },
     "execution_count": 31,
     "metadata": {},
     "output_type": "execute_result"
    }
   ],
   "source": [
    "len(pruned_alpha_set)"
   ]
  },
  {
   "cell_type": "code",
   "execution_count": 34,
   "metadata": {},
   "outputs": [],
   "source": [
    "import numpy"
   ]
  },
  {
   "cell_type": "code",
   "execution_count": 43,
   "metadata": {},
   "outputs": [],
   "source": [
    "def dominates(a, b):\n",
    "    return (a <= b).all()"
   ]
  },
  {
   "cell_type": "code",
   "execution_count": 36,
   "metadata": {},
   "outputs": [],
   "source": [
    "a = np.asnumpy(fsvi_solution.alpha_vector_array)"
   ]
  },
  {
   "cell_type": "code",
   "execution_count": 50,
   "metadata": {},
   "outputs": [
    {
     "ename": "ValueError",
     "evalue": "The truth value of an array with more than one element is ambiguous. Use a.any() or a.all()",
     "output_type": "error",
     "traceback": [
      "\u001b[1;31m---------------------------------------------------------------------------\u001b[0m",
      "\u001b[1;31mValueError\u001b[0m                                Traceback (most recent call last)",
      "\u001b[1;32mg:\\My Drive\\Documents\\Universita di Genova\\Classes\\90537 - Thesis\\POMDP_PBVI_Exploration\\Experiments\\Olfactory Navigation\\Olfactory_Model.ipynb Cell 30\u001b[0m line \u001b[0;36m3\n\u001b[0;32m      <a href='vscode-notebook-cell:/g%3A/My%20Drive/Documents/Universita%20di%20Genova/Classes/90537%20-%20Thesis/POMDP_PBVI_Exploration/Experiments/Olfactory%20Navigation/Olfactory_Model.ipynb#Y164sZmlsZQ%3D%3D?line=0'>1</a>\u001b[0m \u001b[39mfrom\u001b[39;00m \u001b[39mscipy\u001b[39;00m\u001b[39m.\u001b[39;00m\u001b[39mspatial\u001b[39;00m\u001b[39m.\u001b[39;00m\u001b[39mdistance\u001b[39;00m \u001b[39mimport\u001b[39;00m cdist\n\u001b[0;32m      <a href='vscode-notebook-cell:/g%3A/My%20Drive/Documents/Universita%20di%20Genova/Classes/90537%20-%20Thesis/POMDP_PBVI_Exploration/Experiments/Olfactory%20Navigation/Olfactory_Model.ipynb#Y164sZmlsZQ%3D%3D?line=1'>2</a>\u001b[0m X \u001b[39m=\u001b[39m cdist(a, a, metric\u001b[39m=\u001b[39mdominates)\u001b[39m.\u001b[39mastype(\u001b[39mbool\u001b[39m)\n\u001b[1;32m----> <a href='vscode-notebook-cell:/g%3A/My%20Drive/Documents/Universita%20di%20Genova/Classes/90537%20-%20Thesis/POMDP_PBVI_Exploration/Experiments/Olfactory%20Navigation/Olfactory_Model.ipynb#Y164sZmlsZQ%3D%3D?line=2'>3</a>\u001b[0m rulers \u001b[39m=\u001b[39m numpy\u001b[39m.\u001b[39mwhere(\u001b[39mnot\u001b[39;49;00m X\u001b[39m.\u001b[39;49many(axis\u001b[39m=\u001b[39;49m\u001b[39m1\u001b[39;49m))[\u001b[39m0\u001b[39m]\n\u001b[0;32m      <a href='vscode-notebook-cell:/g%3A/My%20Drive/Documents/Universita%20di%20Genova/Classes/90537%20-%20Thesis/POMDP_PBVI_Exploration/Experiments/Olfactory%20Navigation/Olfactory_Model.ipynb#Y164sZmlsZQ%3D%3D?line=3'>4</a>\u001b[0m \u001b[39mif\u001b[39;00m rulers\u001b[39m.\u001b[39msize \u001b[39m>\u001b[39m \u001b[39m0\u001b[39m:\n\u001b[0;32m      <a href='vscode-notebook-cell:/g%3A/My%20Drive/Documents/Universita%20di%20Genova/Classes/90537%20-%20Thesis/POMDP_PBVI_Exploration/Experiments/Olfactory%20Navigation/Olfactory_Model.ipynb#Y164sZmlsZQ%3D%3D?line=4'>5</a>\u001b[0m     rs \u001b[39m=\u001b[39m [a[i] \u001b[39mfor\u001b[39;00m i \u001b[39min\u001b[39;00m rulers]\n",
      "\u001b[1;31mValueError\u001b[0m: The truth value of an array with more than one element is ambiguous. Use a.any() or a.all()"
     ]
    }
   ],
   "source": [
    "from scipy.spatial.distance import cdist\n",
    "X = cdist(a, a, metric=dominates).astype(bool)\n",
    "rulers = numpy.where(not X.any(axis=1))[0]\n",
    "if rulers.size > 0:\n",
    "    rs = [a[i] for i in rulers]\n",
    "else: # no one dominates every other\n",
    "    rs = a"
   ]
  },
  {
   "cell_type": "code",
   "execution_count": 55,
   "metadata": {},
   "outputs": [
    {
     "data": {
      "text/plain": [
       "array([[ True, False, False, ...,  True,  True,  True],\n",
       "       [ True,  True,  True, ...,  True,  True,  True],\n",
       "       [False, False,  True, ...,  True,  True,  True],\n",
       "       ...,\n",
       "       [False, False, False, ...,  True, False, False],\n",
       "       [False, False, False, ..., False,  True, False],\n",
       "       [False, False, False, ..., False, False,  True]])"
      ]
     },
     "execution_count": 55,
     "metadata": {},
     "output_type": "execute_result"
    }
   ],
   "source": [
    "X"
   ]
  },
  {
   "cell_type": "code",
   "execution_count": 66,
   "metadata": {},
   "outputs": [
    {
     "data": {
      "text/plain": [
       "array([   0, 2142, 2295, 2448, 2449, 2452, 2453, 2454, 2455, 2456, 2601,\n",
       "       2603, 2604, 2607, 2608, 2754, 2755, 2756, 2757, 2758, 2907, 2908,\n",
       "       2909, 2910, 2915, 3060, 3061, 3062, 3063, 3064, 3213, 3214, 3215,\n",
       "       3216, 3217, 3366, 3368, 3369, 3521, 3522], dtype=int64)"
      ]
     },
     "execution_count": 66,
     "metadata": {},
     "output_type": "execute_result"
    }
   ],
   "source": [
    "np.unique(np.argmax(fsvi_solution.alpha_vector_array, axis=1))"
   ]
  },
  {
   "cell_type": "code",
   "execution_count": 63,
   "metadata": {},
   "outputs": [
    {
     "data": {
      "text/plain": [
       "array([False, False, False, False, False, False, False, False, False,\n",
       "       False, False, False, False, False, False, False, False, False,\n",
       "       False, False, False, False, False, False, False, False, False,\n",
       "       False, False, False, False, False, False, False, False, False,\n",
       "       False, False, False, False, False, False, False, False, False,\n",
       "       False, False, False, False, False, False, False, False, False,\n",
       "       False, False, False, False, False, False, False, False, False,\n",
       "       False, False, False, False, False, False, False, False, False,\n",
       "       False, False, False, False, False, False, False, False, False,\n",
       "       False, False, False, False, False, False, False, False, False,\n",
       "       False, False, False, False, False, False, False, False, False,\n",
       "       False, False, False, False, False, False, False, False, False,\n",
       "       False, False, False, False, False, False, False, False, False,\n",
       "       False, False, False, False, False, False, False, False, False,\n",
       "       False, False, False, False, False, False, False, False, False,\n",
       "       False, False, False, False, False, False, False, False, False,\n",
       "       False, False, False, False, False, False, False, False, False,\n",
       "       False, False, False, False, False, False, False, False, False,\n",
       "       False, False, False, False, False, False, False, False, False,\n",
       "       False, False, False, False, False, False, False, False, False,\n",
       "       False, False, False, False, False, False, False, False, False,\n",
       "       False, False, False, False, False, False, False, False, False,\n",
       "       False, False, False, False, False, False, False, False, False,\n",
       "       False, False, False, False, False, False, False, False, False,\n",
       "       False, False, False, False, False, False, False, False, False,\n",
       "       False, False, False, False, False, False, False, False, False,\n",
       "       False, False, False, False, False, False, False, False, False,\n",
       "       False, False, False, False, False, False, False, False, False,\n",
       "       False, False, False, False, False, False, False, False, False,\n",
       "       False, False, False, False, False, False, False, False, False,\n",
       "       False, False, False, False, False, False, False, False, False,\n",
       "       False, False, False, False, False, False, False, False, False,\n",
       "       False, False, False, False, False, False, False, False, False,\n",
       "       False, False, False, False, False, False, False, False, False,\n",
       "       False, False, False, False, False, False, False, False, False,\n",
       "       False, False, False, False, False, False, False, False, False,\n",
       "       False, False, False, False, False, False, False, False, False,\n",
       "       False, False, False, False, False, False, False, False, False,\n",
       "       False, False, False, False, False, False, False, False, False,\n",
       "       False, False, False, False, False, False, False, False, False,\n",
       "       False, False, False, False, False, False, False, False, False,\n",
       "       False, False, False, False, False, False, False, False, False,\n",
       "       False, False, False, False, False, False, False, False, False,\n",
       "       False, False, False, False, False, False, False, False, False,\n",
       "       False, False, False, False, False, False, False, False, False,\n",
       "       False, False, False, False, False, False, False, False, False,\n",
       "       False, False, False, False, False, False, False, False, False,\n",
       "       False, False, False, False, False, False, False, False, False,\n",
       "       False, False, False, False, False, False, False, False, False,\n",
       "       False, False, False, False, False, False, False, False, False,\n",
       "       False, False, False, False, False, False, False, False, False,\n",
       "       False, False, False, False, False, False, False, False, False,\n",
       "       False, False, False, False, False, False, False, False, False,\n",
       "       False, False, False, False, False, False, False, False, False,\n",
       "       False, False, False, False, False, False, False, False, False,\n",
       "       False, False, False, False, False, False, False, False, False,\n",
       "       False, False, False, False, False, False, False, False, False,\n",
       "       False, False, False, False, False, False, False, False, False,\n",
       "       False, False, False, False, False, False, False, False, False,\n",
       "       False, False, False, False, False, False, False, False, False,\n",
       "       False, False, False, False, False, False, False, False, False,\n",
       "       False, False, False, False, False, False, False, False, False,\n",
       "       False, False, False, False, False, False, False, False, False,\n",
       "       False, False, False, False, False, False, False, False, False,\n",
       "       False, False, False, False, False, False, False, False, False,\n",
       "       False, False, False, False, False, False, False, False, False,\n",
       "       False, False, False, False, False, False, False, False, False,\n",
       "       False, False, False, False, False, False, False, False, False,\n",
       "       False, False, False, False, False, False, False, False, False,\n",
       "       False, False, False, False, False, False, False, False, False,\n",
       "       False, False, False, False, False, False, False, False, False,\n",
       "       False, False, False, False, False, False, False, False, False,\n",
       "       False, False, False, False, False, False, False, False, False,\n",
       "       False, False, False, False, False, False, False, False, False,\n",
       "       False, False, False, False, False, False, False, False, False,\n",
       "       False, False, False, False, False, False, False, False, False,\n",
       "       False, False, False, False, False, False, False, False, False,\n",
       "       False, False, False, False, False, False, False, False, False,\n",
       "       False, False, False, False, False, False, False, False, False,\n",
       "       False, False, False, False, False, False, False, False, False,\n",
       "       False, False, False, False, False, False, False, False, False,\n",
       "       False, False, False, False, False, False, False, False, False,\n",
       "       False, False, False, False, False, False, False, False, False,\n",
       "       False, False, False, False, False, False, False, False, False,\n",
       "       False, False, False, False, False, False, False, False, False,\n",
       "       False, False, False, False, False, False, False, False, False,\n",
       "       False, False, False, False, False, False, False, False, False,\n",
       "       False, False, False, False, False, False, False, False, False,\n",
       "       False, False, False, False, False, False, False, False, False,\n",
       "       False, False, False, False, False, False, False, False, False,\n",
       "       False, False, False, False, False, False, False, False, False,\n",
       "       False, False, False, False, False, False, False, False, False,\n",
       "       False, False, False, False, False, False, False, False, False,\n",
       "       False, False, False, False, False, False, False, False, False,\n",
       "       False, False, False, False, False, False, False, False, False,\n",
       "       False, False, False, False, False, False, False, False, False,\n",
       "       False, False, False, False, False, False, False, False, False,\n",
       "       False, False, False, False, False, False, False, False, False,\n",
       "       False, False, False, False, False, False, False, False, False,\n",
       "       False, False, False, False, False, False, False, False, False,\n",
       "       False, False, False, False, False, False, False, False, False,\n",
       "       False, False, False, False, False, False, False, False, False,\n",
       "       False, False, False, False, False, False, False, False, False,\n",
       "       False, False, False, False, False, False, False, False, False,\n",
       "       False, False, False, False, False, False, False, False, False,\n",
       "       False, False, False, False, False, False, False, False, False,\n",
       "       False, False, False, False, False, False, False, False, False,\n",
       "       False, False, False, False, False, False, False, False, False,\n",
       "       False, False, False, False, False, False, False, False])"
      ]
     },
     "execution_count": 63,
     "metadata": {},
     "output_type": "execute_result"
    }
   ],
   "source": [
    "numpy.invert(X).all(axis=1)"
   ]
  },
  {
   "cell_type": "code",
   "execution_count": 45,
   "metadata": {},
   "outputs": [
    {
     "data": {
      "text/plain": [
       "array([[ True, False, False, ...,  True,  True,  True],\n",
       "       [ True,  True,  True, ...,  True,  True,  True],\n",
       "       [False, False,  True, ...,  True,  True,  True],\n",
       "       ...,\n",
       "       [False, False, False, ...,  True, False, False],\n",
       "       [False, False, False, ..., False,  True, False],\n",
       "       [False, False, False, ..., False, False,  True]])"
      ]
     },
     "execution_count": 45,
     "metadata": {},
     "output_type": "execute_result"
    }
   ],
   "source": [
    "X"
   ]
  },
  {
   "cell_type": "code",
   "execution_count": 46,
   "metadata": {},
   "outputs": [
    {
     "data": {
      "text/plain": [
       "array([1], dtype=int64)"
      ]
     },
     "execution_count": 46,
     "metadata": {},
     "output_type": "execute_result"
    }
   ],
   "source": [
    "rulers"
   ]
  },
  {
   "cell_type": "code",
   "execution_count": null,
   "metadata": {},
   "outputs": [],
   "source": [
    "non_dominated = np.where(X.all(axis=1))[0]\n"
   ]
  },
  {
   "cell_type": "code",
   "execution_count": null,
   "metadata": {},
   "outputs": [],
   "source": []
  },
  {
   "cell_type": "code",
   "execution_count": 20,
   "metadata": {},
   "outputs": [
    {
     "ename": "TypeError",
     "evalue": "'ValueFunction' object is not iterable",
     "output_type": "error",
     "traceback": [
      "\u001b[1;31m---------------------------------------------------------------------------\u001b[0m",
      "\u001b[1;31mTypeError\u001b[0m                                 Traceback (most recent call last)",
      "\u001b[1;32mg:\\My Drive\\Documents\\Universita di Genova\\Classes\\90537 - Thesis\\POMDP_PBVI_Exploration\\Experiments\\Olfactory Navigation\\Olfactory_Model.ipynb Cell 24\u001b[0m line \u001b[0;36m1\n\u001b[1;32m----> <a href='vscode-notebook-cell:/g%3A/My%20Drive/Documents/Universita%20di%20Genova/Classes/90537%20-%20Thesis/POMDP_PBVI_Exploration/Experiments/Olfactory%20Navigation/Olfactory_Model.ipynb#Y160sZmlsZQ%3D%3D?line=0'>1</a>\u001b[0m fsvi_solution\u001b[39m.\u001b[39;49mprune(level\u001b[39m=\u001b[39;49m\u001b[39m2\u001b[39;49m)\n",
      "File \u001b[1;32mg:\\My Drive\\Documents\\Universita di Genova\\Classes\\90537 - Thesis\\POMDP_PBVI_Exploration\\Experiments\\Olfactory Navigation\\../..\\src\\mdp.py:576\u001b[0m, in \u001b[0;36mValueFunction.prune\u001b[1;34m(self, level)\u001b[0m\n\u001b[0;32m    574\u001b[0m alpha_set \u001b[39m=\u001b[39m pruned_alpha_set\n\u001b[0;32m    575\u001b[0m pruned_alpha_set \u001b[39m=\u001b[39m ValueFunction(\u001b[39mself\u001b[39m\u001b[39m.\u001b[39mmodel)\n\u001b[1;32m--> 576\u001b[0m \u001b[39mfor\u001b[39;00m alpha_vector \u001b[39min\u001b[39;00m alpha_set:\n\u001b[0;32m    577\u001b[0m     dominated \u001b[39m=\u001b[39m \u001b[39mFalse\u001b[39;00m\n\u001b[0;32m    578\u001b[0m     \u001b[39mfor\u001b[39;00m compare_alpha_vector \u001b[39min\u001b[39;00m alpha_set:\n",
      "\u001b[1;31mTypeError\u001b[0m: 'ValueFunction' object is not iterable"
     ]
    }
   ],
   "source": [
    "fsvi_solution.prune(level=2)"
   ]
  },
  {
   "cell_type": "code",
   "execution_count": null,
   "metadata": {},
   "outputs": [],
   "source": []
  },
  {
   "cell_type": "code",
   "execution_count": 26,
   "metadata": {},
   "outputs": [
    {
     "data": {
      "text/plain": [
       "array([[0., 0., 0., ..., 0., 0., 0.],\n",
       "       [0., 0., 0., ..., 0., 0., 0.],\n",
       "       [0., 0., 0., ..., 0., 0., 0.],\n",
       "       ...,\n",
       "       [0., 0., 0., ..., 0., 0., 0.],\n",
       "       [0., 0., 0., ..., 0., 0., 0.],\n",
       "       [0., 0., 0., ..., 0., 0., 0.]])"
      ]
     },
     "execution_count": 26,
     "metadata": {},
     "output_type": "execute_result"
    }
   ],
   "source": [
    "import numpy\n",
    "numpy.max(res, axis=0).reshape(env_shape)\n"
   ]
  },
  {
   "cell_type": "code",
   "execution_count": 33,
   "metadata": {},
   "outputs": [
    {
     "data": {
      "text/plain": [
       "[1, 103, 44, 24, 110, 128]"
      ]
     },
     "execution_count": 33,
     "metadata": {},
     "output_type": "execute_result"
    }
   ],
   "source": [
    "[len(bs.belief_list) for bs in hist.belief_sets]"
   ]
  },
  {
   "cell_type": "code",
   "execution_count": 32,
   "metadata": {},
   "outputs": [
    {
     "data": {
      "text/plain": [
       "<matplotlib.image.AxesImage at 0x2ad9fae7c50>"
      ]
     },
     "execution_count": 32,
     "metadata": {},
     "output_type": "execute_result"
    },
    {
     "data": {
      "image/png": "[encoded data removed]",
      "text/plain": [
       "<Figure size 640x480 with 1 Axes>"
      ]
     },
     "metadata": {},
     "output_type": "display_data"
    }
   ],
   "source": [
    "plt.imshow(numpy.max(res, axis=0).reshape(env_shape))"
   ]
  },
  {
   "cell_type": "code",
   "execution_count": 18,
   "metadata": {},
   "outputs": [
    {
     "name": "stdout",
     "output_type": "stream",
     "text": [
      "Warning: as_grid parameter set to False but state count is >3 so it will be plotted as a grid\n"
     ]
    },
    {
     "ename": "TypeError",
     "evalue": "list indices must be integers or slices, not ndarray",
     "output_type": "error",
     "traceback": [
      "\u001b[1;31m---------------------------------------------------------------------------\u001b[0m",
      "\u001b[1;31mTypeError\u001b[0m                                 Traceback (most recent call last)",
      "\u001b[1;32mg:\\My Drive\\Documents\\Universita di Genova\\Classes\\90537 - Thesis\\POMDP_PBVI_Exploration\\Experiments\\Olfactory Navigation\\Olfactory_Model.ipynb Cell 22\u001b[0m line \u001b[0;36m1\n\u001b[1;32m----> <a href='vscode-notebook-cell:/g%3A/My%20Drive/Documents/Universita%20di%20Genova/Classes/90537%20-%20Thesis/POMDP_PBVI_Exploration/Experiments/Olfactory%20Navigation/Olfactory_Model.ipynb#Y142sZmlsZQ%3D%3D?line=0'>1</a>\u001b[0m fsvi_solution\u001b[39m.\u001b[39;49mplot()\n",
      "File \u001b[1;32mg:\\My Drive\\Documents\\Universita di Genova\\Classes\\90537 - Thesis\\POMDP_PBVI_Exploration\\Experiments\\Olfactory Navigation\\../..\\src\\mdp.py:692\u001b[0m, in \u001b[0;36mValueFunction.plot\u001b[1;34m(self, as_grid, size, belief_set)\u001b[0m\n\u001b[0;32m    689\u001b[0m     \u001b[39mprint\u001b[39m(\u001b[39m'\u001b[39m\u001b[39mWarning: as_grid parameter set to False but state count is >3 so it will be plotted as a grid\u001b[39m\u001b[39m'\u001b[39m)\n\u001b[0;32m    690\u001b[0m     func \u001b[39m=\u001b[39m \u001b[39mself\u001b[39m\u001b[39m.\u001b[39m_plot_grid\n\u001b[1;32m--> 692\u001b[0m func(size, belief_set)\n",
      "File \u001b[1;32mg:\\My Drive\\Documents\\Universita di Genova\\Classes\\90537 - Thesis\\POMDP_PBVI_Exploration\\Experiments\\Olfactory Navigation\\../..\\src\\mdp.py:874\u001b[0m, in \u001b[0;36mValueFunction._plot_grid\u001b[1;34m(self, size, belief_set)\u001b[0m\n\u001b[0;32m    872\u001b[0m             best_vector \u001b[39m=\u001b[39m np\u001b[39m.\u001b[39margmax(\u001b[39mself\u001b[39m\u001b[39m.\u001b[39malpha_vector_array[:,state_id])\n\u001b[0;32m    873\u001b[0m             value_table[x,y] \u001b[39m=\u001b[39m \u001b[39mself\u001b[39m\u001b[39m.\u001b[39malpha_vector_array[best_vector, state_id]\n\u001b[1;32m--> 874\u001b[0m             best_action_table[x,y,:] \u001b[39m=\u001b[39m np\u001b[39m.\u001b[39marray(COLOR_LIST[\u001b[39mself\u001b[39;49m\u001b[39m.\u001b[39;49mactions[best_vector]\u001b[39m.\u001b[39mitem()][\u001b[39m'\u001b[39m\u001b[39mrgb\u001b[39m\u001b[39m'\u001b[39m])\n\u001b[0;32m    876\u001b[0m fig, (ax1,ax2) \u001b[39m=\u001b[39m plt\u001b[39m.\u001b[39msubplots(\u001b[39m1\u001b[39m,\u001b[39m2\u001b[39m, figsize\u001b[39m=\u001b[39m(size\u001b[39m*\u001b[39m\u001b[39m2\u001b[39m, size), width_ratios\u001b[39m=\u001b[39m(\u001b[39m0.55\u001b[39m,\u001b[39m0.45\u001b[39m))\n\u001b[0;32m    878\u001b[0m \u001b[39mtry\u001b[39;00m:\n",
      "\u001b[1;31mTypeError\u001b[0m: list indices must be integers or slices, not ndarray"
     ]
    }
   ],
   "source": [
    "fsvi_solution.plot()"
   ]
  },
  {
   "cell_type": "code",
   "execution_count": 18,
   "metadata": {},
   "outputs": [],
   "source": [
    "import sys\n",
    "t = np.zeros((500000,2000))"
   ]
  },
  {
   "cell_type": "code",
   "execution_count": 20,
   "metadata": {},
   "outputs": [
    {
     "data": {
      "text/plain": [
       "8000000000"
      ]
     },
     "execution_count": 20,
     "metadata": {},
     "output_type": "execute_result"
    }
   ],
   "source": [
    "t.nbytes"
   ]
  },
  {
   "cell_type": "code",
   "execution_count": 22,
   "metadata": {},
   "outputs": [
    {
     "data": {
      "text/plain": [
       "7.450580596923828"
      ]
     },
     "execution_count": 22,
     "metadata": {},
     "output_type": "execute_result"
    }
   ],
   "source": [
    "8000000000 / 1024 / 1024 / 1024"
   ]
  },
  {
   "cell_type": "code",
   "execution_count": 35,
   "metadata": {},
   "outputs": [
    {
     "name": "stdout",
     "output_type": "stream",
     "text": [
      "Warning: as_grid parameter set to False but state count is >3 so it will be plotted as a grid\n"
     ]
    },
    {
     "ename": "TypeError",
     "evalue": "list indices must be integers or slices, not ndarray",
     "output_type": "error",
     "traceback": [
      "\u001b[1;31m---------------------------------------------------------------------------\u001b[0m",
      "\u001b[1;31mTypeError\u001b[0m                                 Traceback (most recent call last)",
      "\u001b[1;32mg:\\My Drive\\Documents\\Universita di Genova\\Classes\\90537 - Thesis\\POMDP_PBVI_Exploration\\Experiments\\Olfactory Navigation\\Olfactory_Model.ipynb Cell 22\u001b[0m line \u001b[0;36m1\n\u001b[1;32m----> <a href='vscode-notebook-cell:/g%3A/My%20Drive/Documents/Universita%20di%20Genova/Classes/90537%20-%20Thesis/POMDP_PBVI_Exploration/Experiments/Olfactory%20Navigation/Olfactory_Model.ipynb#X30sZmlsZQ%3D%3D?line=0'>1</a>\u001b[0m fsvi_solution\u001b[39m.\u001b[39;49mplot()\n",
      "File \u001b[1;32mg:\\My Drive\\Documents\\Universita di Genova\\Classes\\90537 - Thesis\\POMDP_PBVI_Exploration\\Experiments\\Olfactory Navigation\\../..\\src\\mdp.py:692\u001b[0m, in \u001b[0;36mValueFunction.plot\u001b[1;34m(self, as_grid, size, belief_set)\u001b[0m\n\u001b[0;32m    689\u001b[0m     \u001b[39mprint\u001b[39m(\u001b[39m'\u001b[39m\u001b[39mWarning: as_grid parameter set to False but state count is >3 so it will be plotted as a grid\u001b[39m\u001b[39m'\u001b[39m)\n\u001b[0;32m    690\u001b[0m     func \u001b[39m=\u001b[39m \u001b[39mself\u001b[39m\u001b[39m.\u001b[39m_plot_grid\n\u001b[1;32m--> 692\u001b[0m func(size, belief_set)\n",
      "File \u001b[1;32mg:\\My Drive\\Documents\\Universita di Genova\\Classes\\90537 - Thesis\\POMDP_PBVI_Exploration\\Experiments\\Olfactory Navigation\\../..\\src\\mdp.py:892\u001b[0m, in \u001b[0;36mValueFunction._plot_grid\u001b[1;34m(self, size, belief_set)\u001b[0m\n\u001b[0;32m    890\u001b[0m ax2\u001b[39m.\u001b[39mset_title(\u001b[39m'\u001b[39m\u001b[39mAction policy\u001b[39m\u001b[39m'\u001b[39m)\n\u001b[0;32m    891\u001b[0m ax2\u001b[39m.\u001b[39mimshow(best_action_table)\n\u001b[1;32m--> 892\u001b[0m p \u001b[39m=\u001b[39m [ patches\u001b[39m.\u001b[39;49mPatch(color\u001b[39m=\u001b[39;49mCOLOR_LIST[i][\u001b[39m'\u001b[39;49m\u001b[39mid\u001b[39;49m\u001b[39m'\u001b[39;49m], label\u001b[39m=\u001b[39;49m\u001b[39mself\u001b[39;49m\u001b[39m.\u001b[39;49mmodel\u001b[39m.\u001b[39;49maction_labels[i]\u001b[39m.\u001b[39;49mitem()) \u001b[39mfor\u001b[39;49;00m i \u001b[39min\u001b[39;49;00m \u001b[39mself\u001b[39;49m\u001b[39m.\u001b[39;49mmodel\u001b[39m.\u001b[39;49mactions]\n\u001b[0;32m    893\u001b[0m ax2\u001b[39m.\u001b[39mlegend(handles\u001b[39m=\u001b[39mp, bbox_to_anchor\u001b[39m=\u001b[39m(\u001b[39m1.05\u001b[39m, \u001b[39m1\u001b[39m), loc\u001b[39m=\u001b[39m\u001b[39m2\u001b[39m, borderaxespad\u001b[39m=\u001b[39m\u001b[39m0.\u001b[39m)\n\u001b[0;32m    894\u001b[0m ax2\u001b[39m.\u001b[39mset_xticks([i \u001b[39mfor\u001b[39;00m i \u001b[39min\u001b[39;00m \u001b[39mrange\u001b[39m(dimensions[\u001b[39m1\u001b[39m])])\n",
      "File \u001b[1;32mg:\\My Drive\\Documents\\Universita di Genova\\Classes\\90537 - Thesis\\POMDP_PBVI_Exploration\\Experiments\\Olfactory Navigation\\../..\\src\\mdp.py:892\u001b[0m, in \u001b[0;36m<listcomp>\u001b[1;34m(.0)\u001b[0m\n\u001b[0;32m    890\u001b[0m ax2\u001b[39m.\u001b[39mset_title(\u001b[39m'\u001b[39m\u001b[39mAction policy\u001b[39m\u001b[39m'\u001b[39m)\n\u001b[0;32m    891\u001b[0m ax2\u001b[39m.\u001b[39mimshow(best_action_table)\n\u001b[1;32m--> 892\u001b[0m p \u001b[39m=\u001b[39m [ patches\u001b[39m.\u001b[39mPatch(color\u001b[39m=\u001b[39mCOLOR_LIST[i][\u001b[39m'\u001b[39m\u001b[39mid\u001b[39m\u001b[39m'\u001b[39m], label\u001b[39m=\u001b[39m\u001b[39mself\u001b[39m\u001b[39m.\u001b[39mmodel\u001b[39m.\u001b[39maction_labels[i]\u001b[39m.\u001b[39mitem()) \u001b[39mfor\u001b[39;00m i \u001b[39min\u001b[39;00m \u001b[39mself\u001b[39m\u001b[39m.\u001b[39mmodel\u001b[39m.\u001b[39mactions]\n\u001b[0;32m    893\u001b[0m ax2\u001b[39m.\u001b[39mlegend(handles\u001b[39m=\u001b[39mp, bbox_to_anchor\u001b[39m=\u001b[39m(\u001b[39m1.05\u001b[39m, \u001b[39m1\u001b[39m), loc\u001b[39m=\u001b[39m\u001b[39m2\u001b[39m, borderaxespad\u001b[39m=\u001b[39m\u001b[39m0.\u001b[39m)\n\u001b[0;32m    894\u001b[0m ax2\u001b[39m.\u001b[39mset_xticks([i \u001b[39mfor\u001b[39;00m i \u001b[39min\u001b[39;00m \u001b[39mrange\u001b[39m(dimensions[\u001b[39m1\u001b[39m])])\n",
      "\u001b[1;31mTypeError\u001b[0m: list indices must be integers or slices, not ndarray"
     ]
    },
    {
     "data": {
      "image/png": "[encoded data removed]",
      "text/plain": [
       "<Figure size 1000x500 with 3 Axes>"
      ]
     },
     "metadata": {},
     "output_type": "display_data"
    }
   ],
   "source": [
    "fsvi_solution.plot()"
   ]
  },
  {
   "cell_type": "markdown",
   "metadata": {},
   "source": [
    "## Experiments"
   ]
  },
  {
   "cell_type": "code",
   "execution_count": 11,
   "metadata": {},
   "outputs": [],
   "source": [
    "b = Belief(model)\n",
    "belief_set = np.array([b])\n",
    "belief_set = belief_set.repeat(80,axis=0)"
   ]
  },
  {
   "cell_type": "code",
   "execution_count": 12,
   "metadata": {},
   "outputs": [],
   "source": [
    "value_function = ValueFunction(model, [AlphaVector(model.expected_rewards_table[:,a], a) for a in model.actions] * 20).alpha_vector_array"
   ]
  },
  {
   "cell_type": "code",
   "execution_count": 13,
   "metadata": {},
   "outputs": [],
   "source": [
    "gamma = 0.99\n",
    "gamma_a_o_t = gamma * np.einsum('saor,vsar->aovs', model.reachable_transitional_observation_table, value_function[np.arange(value_function.shape[0])[:,None,None,None], model.reachable_states[None,:,:,:]])"
   ]
  },
  {
   "cell_type": "code",
   "execution_count": 14,
   "metadata": {},
   "outputs": [],
   "source": [
    "best_alpha_ind = np.argmax(np.tensordot(belief_set, gamma_a_o_t, (1,3)), axis=3)"
   ]
  },
  {
   "cell_type": "code",
   "execution_count": 16,
   "metadata": {},
   "outputs": [
    {
     "data": {
      "text/plain": [
       "(80, 4, 2)"
      ]
     },
     "execution_count": 16,
     "metadata": {},
     "output_type": "execute_result"
    }
   ],
   "source": [
    "best_alpha_ind.shape"
   ]
  },
  {
   "cell_type": "code",
   "execution_count": 17,
   "metadata": {},
   "outputs": [
    {
     "data": {
      "text/plain": [
       "(4, 2, 80, 5355)"
      ]
     },
     "execution_count": 17,
     "metadata": {},
     "output_type": "execute_result"
    }
   ],
   "source": [
    "gamma_a_o_t.shape"
   ]
  },
  {
   "cell_type": "code",
   "execution_count": 18,
   "metadata": {},
   "outputs": [],
   "source": [
    "import numpy.ma as ma"
   ]
  },
  {
   "cell_type": "code",
   "execution_count": null,
   "metadata": {},
   "outputs": [],
   "source": [
    "ma.array()"
   ]
  },
  {
   "cell_type": "code",
   "execution_count": 31,
   "metadata": {},
   "outputs": [
    {
     "data": {
      "text/plain": [
       "(80, 4, 2, 416000)"
      ]
     },
     "execution_count": 31,
     "metadata": {},
     "output_type": "execute_result"
    }
   ],
   "source": [
    "(*best_alpha_ind.shape, model.state_count)"
   ]
  },
  {
   "cell_type": "code",
   "execution_count": 33,
   "metadata": {},
   "outputs": [],
   "source": [
    "best_alphas_per_o = np.zeros((*best_alpha_ind.shape, model.state_count))\n",
    "it = np.nditer(best_alpha_ind, flags=['multi_index'], op_flags=['readonly'])\n",
    "for x in it:\n",
    "    (b,a,o) = it.multi_index\n",
    "    best_alphas_per_o[b,a,o,:] = gamma_a_o_t[a,o,x,:]"
   ]
  },
  {
   "cell_type": "code",
   "execution_count": 34,
   "metadata": {},
   "outputs": [],
   "source": [
    "best_alphas_per_o_2 = gamma_a_o_t[model.actions[None,:,None,None], model.observations[None,None,:,None], best_alpha_ind[:,:,:,None], model.states[None,None,None,:]]"
   ]
  },
  {
   "cell_type": "code",
   "execution_count": 38,
   "metadata": {},
   "outputs": [],
   "source": [
    "best_alphas_per_o_2 = gamma_a_o_t[:,:,best_alpha_ind[:,:,:,None],:]"
   ]
  },
  {
   "cell_type": "code",
   "execution_count": 39,
   "metadata": {},
   "outputs": [
    {
     "ename": "ValueError",
     "evalue": "operands could not be broadcast together with shapes (80,4,2,416000) (4,2,80,4,2,1,416000) ",
     "output_type": "error",
     "traceback": [
      "\u001b[1;31m---------------------------------------------------------------------------\u001b[0m",
      "\u001b[1;31mValueError\u001b[0m                                Traceback (most recent call last)",
      "\u001b[1;32mg:\\My Drive\\Documents\\Universita di Genova\\Classes\\90537 - Thesis\\POMDP_PBVI_Exploration\\Experiments\\Olfactory Navigation\\Olfactory_Model.ipynb Cell 38\u001b[0m line \u001b[0;36m1\n\u001b[1;32m----> <a href='vscode-notebook-cell:/g%3A/My%20Drive/Documents/Universita%20di%20Genova/Classes/90537%20-%20Thesis/POMDP_PBVI_Exploration/Experiments/Olfactory%20Navigation/Olfactory_Model.ipynb#Z1150sZmlsZQ%3D%3D?line=0'>1</a>\u001b[0m np\u001b[39m.\u001b[39margwhere(best_alphas_per_o \u001b[39m!=\u001b[39;49m best_alphas_per_o_2)\n",
      "\u001b[1;31mValueError\u001b[0m: operands could not be broadcast together with shapes (80,4,2,416000) (4,2,80,4,2,1,416000) "
     ]
    }
   ],
   "source": [
    "np.argwhere(best_alphas_per_o != best_alphas_per_o_2)"
   ]
  },
  {
   "cell_type": "code",
   "execution_count": null,
   "metadata": {},
   "outputs": [],
   "source": []
  },
  {
   "cell_type": "code",
   "execution_count": null,
   "metadata": {},
   "outputs": [],
   "source": []
  },
  {
   "cell_type": "code",
   "execution_count": 59,
   "metadata": {},
   "outputs": [],
   "source": [
    "# Reworked 2\n",
    "def t3():\n",
    "    best_alpha_ind = np.argmax(np.tensordot(beliefs, gamma_a_o_t, (1,3)), axis=3)\n",
    "\n",
    "    best_alphas_per_o = np.zeros((*best_alpha_ind.shape, model.state_count))\n",
    "    it = np.nditer(best_alpha_ind, flags=['multi_index'], op_flags=['readonly'])\n",
    "    for x in it:\n",
    "        (b,a,o) = it.multi_index\n",
    "        best_alphas_per_o[b,a,o,:] = gamma_a_o_t[a,o,x,:]\n",
    "\n",
    "    alpha_a = np.sum(best_alphas_per_o, axis=2)\n",
    "    alpha_a += model.expected_rewards_table.T\n",
    "\n",
    "    new_value_function = np.zeros(beliefs.shape)\n",
    "    for i, b in enumerate(beliefs):\n",
    "        best_ind = np.argmax(np.dot(alpha_a[i,:,:], b))\n",
    "        new_value_function[i,:] = alpha_a[i, best_ind,:]"
   ]
  },
  {
   "cell_type": "code",
   "execution_count": 60,
   "metadata": {},
   "outputs": [
    {
     "name": "stdout",
     "output_type": "stream",
     "text": [
      "950 ms ± 69.6 ms per loop (mean ± std. dev. of 7 runs, 1 loop each)\n"
     ]
    }
   ],
   "source": [
    "%timeit t3()"
   ]
  },
  {
   "cell_type": "code",
   "execution_count": 31,
   "metadata": {},
   "outputs": [],
   "source": [
    "# Reworked\n",
    "def t2():\n",
    "    best_alpha_ind = np.argmax(np.dot(beliefs, gamma_a_o_t.swapaxes(3,2)), axis=3)\n",
    "\n",
    "    best_alphas_per_o = np.zeros((*best_alpha_ind.shape, model.state_count))\n",
    "    it = np.nditer(best_alpha_ind, flags=['multi_index'], op_flags=['readonly'])\n",
    "    for x in it:\n",
    "        (b,a,o) = it.multi_index\n",
    "        best_alphas_per_o[b,a,o,:] = gamma_a_o_t[a,o,x,:]\n",
    "\n",
    "    alpha_a = np.sum(best_alphas_per_o, axis=2)\n",
    "    alpha_a += model.expected_rewards_table.T\n",
    "\n",
    "    new_value_function = np.zeros(beliefs.shape)\n",
    "    for i, b in enumerate(beliefs):\n",
    "        best_ind = np.argmax(np.dot(alpha_a[i,:,:], b))\n",
    "        new_value_function[i,:] = alpha_a[i, best_ind,:]"
   ]
  },
  {
   "cell_type": "code",
   "execution_count": 32,
   "metadata": {},
   "outputs": [
    {
     "name": "stdout",
     "output_type": "stream",
     "text": [
      "34.8 s ± 1.48 s per loop (mean ± std. dev. of 7 runs, 1 loop each)\n"
     ]
    }
   ],
   "source": [
    "%timeit t2()"
   ]
  },
  {
   "cell_type": "code",
   "execution_count": 23,
   "metadata": {},
   "outputs": [],
   "source": [
    "def t1():\n",
    "    for b in beliefs:\n",
    "        best_alpha = None\n",
    "        best_alpha_val = -np.inf\n",
    "\n",
    "        for a in model.actions:\n",
    "            \n",
    "            obs_alpha_sum = np.zeros(model.state_count)\n",
    "            \n",
    "            for o in model.observations:\n",
    "                \n",
    "                # Argmax of alphas\n",
    "                best_alpha_o = np.zeros(model.state_count)\n",
    "                best_alpha_o_val = -np.inf\n",
    "                \n",
    "                for alpha_o in gamma_a_o_t[a][o]:\n",
    "                    val = np.dot(alpha_o, b)\n",
    "                    if val > best_alpha_o_val:\n",
    "                        best_alpha_o_val = val\n",
    "                        best_alpha_o = alpha_o\n",
    "                        \n",
    "                # Sum of the alpha_obs vectors\n",
    "                obs_alpha_sum += best_alpha_o\n",
    "\n",
    "            alpha_a_vect = model.expected_rewards_table[:,a] + obs_alpha_sum\n",
    "\n",
    "            # Step 3\n",
    "            val = np.dot(alpha_a_vect, b)\n",
    "            if val > best_alpha_val:\n",
    "                best_alpha_val = val\n",
    "                best_alpha = AlphaVector(alpha_a_vect, a)"
   ]
  },
  {
   "cell_type": "code",
   "execution_count": 24,
   "metadata": {},
   "outputs": [
    {
     "name": "stdout",
     "output_type": "stream",
     "text": [
      "3min 37s ± 3.97 s per loop (mean ± std. dev. of 7 runs, 1 loop each)\n"
     ]
    }
   ],
   "source": [
    "%timeit t1()"
   ]
  },
  {
   "cell_type": "markdown",
   "metadata": {},
   "source": [
    "## Solving timing"
   ]
  },
  {
   "cell_type": "markdown",
   "metadata": {},
   "source": [
    "regular size"
   ]
  },
  {
   "cell_type": "code",
   "execution_count": 8,
   "metadata": {},
   "outputs": [],
   "source": [
    "solver = PBVI_Solver(eps=10e-5)\n",
    "value_function = ValueFunction(model, [AlphaVector(model.expected_rewards_table[:,a], a) for a in model.actions])\n",
    "belief_set = [Belief(model)]"
   ]
  },
  {
   "cell_type": "code",
   "execution_count": 10,
   "metadata": {},
   "outputs": [
    {
     "name": "stdout",
     "output_type": "stream",
     "text": [
      "670 ms ± 19 ms per loop (mean ± std. dev. of 7 runs, 1 loop each)\n"
     ]
    }
   ],
   "source": [
    "%timeit solver.backup(model, belief_set, value_function)"
   ]
  },
  {
   "cell_type": "markdown",
   "metadata": {},
   "source": [
    "double size"
   ]
  },
  {
   "cell_type": "code",
   "execution_count": 8,
   "metadata": {},
   "outputs": [],
   "source": [
    "solver = PBVI_Solver(eps=10e-5)\n",
    "value_function = ValueFunction(model, [AlphaVector(model.expected_rewards_table[:,a], a) for a in model.actions])\n",
    "belief_set = [Belief(model)]"
   ]
  },
  {
   "cell_type": "code",
   "execution_count": 9,
   "metadata": {},
   "outputs": [
    {
     "name": "stdout",
     "output_type": "stream",
     "text": [
      "45.9 s ± 618 ms per loop (mean ± std. dev. of 7 runs, 1 loop each)\n"
     ]
    }
   ],
   "source": [
    "%timeit solver.backup(model, belief_set, value_function)"
   ]
  },
  {
   "cell_type": "markdown",
   "metadata": {},
   "source": [
    "regular size (reachable)"
   ]
  },
  {
   "cell_type": "code",
   "execution_count": 8,
   "metadata": {},
   "outputs": [],
   "source": [
    "solver = PBVI_Solver(eps=10e-5)\n",
    "value_function = ValueFunction(model, [AlphaVector(model.expected_rewards_table[:,a], a) for a in model.actions])\n",
    "belief_set = [Belief(model)]"
   ]
  },
  {
   "cell_type": "code",
   "execution_count": 9,
   "metadata": {},
   "outputs": [
    {
     "name": "stdout",
     "output_type": "stream",
     "text": [
      "2.57 ms ± 80.2 µs per loop (mean ± std. dev. of 7 runs, 100 loops each)\n"
     ]
    }
   ],
   "source": [
    "%timeit solver.backup(model, belief_set, value_function)"
   ]
  },
  {
   "cell_type": "markdown",
   "metadata": {},
   "source": [
    "Double size (reachable)"
   ]
  },
  {
   "cell_type": "code",
   "execution_count": 8,
   "metadata": {},
   "outputs": [],
   "source": [
    "solver = PBVI_Solver(eps=10e-5)"
   ]
  },
  {
   "cell_type": "code",
   "execution_count": 10,
   "metadata": {},
   "outputs": [],
   "source": [
    "value_function = ValueFunction(model, [AlphaVector(model.expected_rewards_table[:,a], a) for a in model.actions])\n",
    "belief_set = [Belief(model)]"
   ]
  },
  {
   "cell_type": "code",
   "execution_count": 11,
   "metadata": {},
   "outputs": [
    {
     "name": "stdout",
     "output_type": "stream",
     "text": [
      "10.9 ms ± 418 µs per loop (mean ± std. dev. of 7 runs, 100 loops each)\n"
     ]
    }
   ],
   "source": [
    "%timeit solver.backup(model, belief_set, value_function)"
   ]
  },
  {
   "cell_type": "markdown",
   "metadata": {},
   "source": [
    "## Solving profiling"
   ]
  },
  {
   "cell_type": "code",
   "execution_count": 10,
   "metadata": {},
   "outputs": [],
   "source": [
    "solver = PBVI_Solver(eps=10e-8)"
   ]
  },
  {
   "cell_type": "code",
   "execution_count": 11,
   "metadata": {},
   "outputs": [],
   "source": [
    "# solution, history = solver.solve(model, 8, 8)"
   ]
  },
  {
   "cell_type": "code",
   "execution_count": 12,
   "metadata": {},
   "outputs": [
    {
     "data": {
      "text/plain": [
       "(416000, 4)"
      ]
     },
     "execution_count": 12,
     "metadata": {},
     "output_type": "execute_result"
    }
   ],
   "source": [
    "model.expected_rewards_table.shape"
   ]
  },
  {
   "cell_type": "code",
   "execution_count": 13,
   "metadata": {},
   "outputs": [
    {
     "data": {
      "application/vnd.jupyter.widget-view+json": {
       "model_id": "a707bc1a31a94a418313a0caa8469e17",
       "version_major": 2,
       "version_minor": 0
      },
      "text/plain": [
       "Expansions:   0%|          | 0/4 [00:00<?, ?it/s]"
      ]
     },
     "metadata": {},
     "output_type": "display_data"
    },
    {
     "data": {
      "application/vnd.jupyter.widget-view+json": {
       "model_id": "10221b7a4a1a4894a85ff0f882fdf6df",
       "version_major": 2,
       "version_minor": 0
      },
      "text/plain": [
       "Backups 0:   0%|          | 0/8 [00:00<?, ?it/s]"
      ]
     },
     "metadata": {},
     "output_type": "display_data"
    },
    {
     "data": {
      "application/vnd.jupyter.widget-view+json": {
       "model_id": "d4e0b225f6234efab34425b407853458",
       "version_major": 2,
       "version_minor": 0
      },
      "text/plain": [
       "Backups 1:   0%|          | 0/8 [00:00<?, ?it/s]"
      ]
     },
     "metadata": {},
     "output_type": "display_data"
    },
    {
     "data": {
      "application/vnd.jupyter.widget-view+json": {
       "model_id": "f97ca0cf5da841b1a5bed1a1f4db7006",
       "version_major": 2,
       "version_minor": 0
      },
      "text/plain": [
       "Backups 2:   0%|          | 0/8 [00:00<?, ?it/s]"
      ]
     },
     "metadata": {},
     "output_type": "display_data"
    },
    {
     "data": {
      "application/vnd.jupyter.widget-view+json": {
       "model_id": "2a934121116547e0aa6c72cda8cf7ca3",
       "version_major": 2,
       "version_minor": 0
      },
      "text/plain": [
       "Backups 3:   0%|          | 0/8 [00:00<?, ?it/s]"
      ]
     },
     "metadata": {},
     "output_type": "display_data"
    },
    {
     "name": "stdout",
     "output_type": "stream",
     "text": [
      "\n",
      "         203339 function calls (193847 primitive calls) in 8.496 seconds\n",
      "\n",
      "   Ordered by: call count\n",
      "\n",
      "   ncalls  tottime  percall  cumtime  percall filename:lineno(function)\n",
      "    17804    0.005    0.000    0.009    0.000 {built-in method builtins.isinstance}\n",
      "10089/10007    0.002    0.000    0.002    0.000 {built-in method builtins.len}\n",
      "8772/5677    0.003    0.000    0.033    0.000 traitlets.py:692(__get__)\n",
      "7190/5170    0.004    0.000    0.031    0.000 traitlets.py:654(get)\n",
      "     6924    0.001    0.000    0.001    0.000 {method 'append' of 'list' objects}\n",
      "6643/4388    0.004    0.000    0.029    0.000 {built-in method builtins.getattr}\n",
      "     5767    0.001    0.000    0.001    0.000 {method 'get' of 'dict' objects}\n",
      "     3778    0.006    0.000    0.012    0.000 numeric.py:1855(isscalar)\n",
      "     3384    0.002    0.000    0.002    0.000 {built-in method builtins.hasattr}\n",
      "     2881    0.001    0.000    0.001    0.000 {method 'endswith' of 'str' objects}\n",
      "     2726    0.000    0.000    0.000    0.000 {method 'items' of 'dict' objects}\n",
      "     2597    0.011    0.000    0.011    0.000 {method 'startswith' of 'str' objects}\n",
      "     2137    0.000    0.000    0.000    0.000 {method 'rstrip' of 'str' objects}\n",
      "     1784    0.000    0.000    0.000    0.000 {built-in method builtins.callable}\n",
      "     1725    0.000    0.000    0.000    0.000 traitlets.py:263(__init__)\n",
      "     1725    0.000    0.000    0.000    0.000 traitlets.py:266(__call__)\n",
      "     1683    0.005    0.000    0.005    0.000 _internal.py:250(__init__)\n",
      "     1683    0.001    0.000    0.001    0.000 _internal.py:304(data)\n",
      "     1683    0.002    0.000    0.004    0.000 syncdetect.py:36(_declare_synchronize)\n",
      "     1683    0.002    0.000    0.002    0.000 syncdetect.py:27(_is_allowed)\n",
      "     1628    0.001    0.000    0.001    0.000 _parser.py:231(__next)\n",
      "     1567    0.002    0.000    0.004    0.000 traitlets.py:1917(trait_metadata)\n",
      "     1549    0.001    0.000    0.001    0.000 {method 'replace' of 'str' objects}\n",
      "     1490    0.001    0.000    0.001    0.000 {method 'join' of 'str' objects}\n",
      "     1465    0.001    0.000    0.002    0.000 _parser.py:252(get)\n",
      "     1441    0.000    0.000    0.000    0.000 widget.py:792(_trait_to_json)\n",
      "     1027    0.056    0.000    0.059    0.000 {method 'sum' of 'cupy._core.core._ndarray_base' objects}\n",
      "     1018    0.000    0.000    0.000    0.000 {built-in method nt.fspath}\n",
      "     1010    0.000    0.000    0.000    0.000 {built-in method builtins.issubclass}\n",
      "      930    0.000    0.000    0.000    0.000 {built-in method builtins.ord}\n",
      "      864    0.000    0.000    0.000    0.000 _einsum.py:444(<genexpr>)\n",
      "      858    0.002    0.000    0.002    0.000 {method 'encode' of 'str' objects}\n",
      "      842    0.000    0.000    0.000    0.000 {method 'lower' of 'str' objects}\n",
      "      817    0.000    0.000    0.000    0.000 pomdp.py:295(values)\n",
      "      753    0.000    0.000    0.001    0.000 typing.py:1238(_is_dunder)\n",
      "      740    0.096    0.000    0.185    0.000 pomdp.py:970(<genexpr>)\n",
      "      720    0.003    0.000    0.009    0.000 fromnumeric.py:71(_wrapreduction)\n",
      "      720    0.001    0.000    0.001    0.000 fromnumeric.py:72(<dictcomp>)\n",
      "      720    0.000    0.000    0.000    0.000 {built-in method numpy.geterrobj}\n",
      "      720    0.004    0.000    0.004    0.000 {method 'reduce' of 'numpy.ufunc' objects}\n",
      "      707    0.000    0.000    0.004    0.000 {built-in method builtins.next}\n",
      "      700    0.001    0.000    0.004    0.000 <frozen abc>:117(__instancecheck__)\n",
      "      700    0.003    0.000    0.003    0.000 {built-in method _abc._abc_instancecheck}\n",
      "      696    0.000    0.000    0.000    0.000 {method 'group' of 're.Match' objects}\n",
      "      687    0.001    0.000    0.001    0.000 typing.py:1290(__setattr__)\n",
      "      680    0.045    0.000    0.083    0.000 _norms.py:31(norm)\n",
      "      674    0.001    0.000    0.001    0.000 <frozen importlib._bootstrap>:244(_verbose_message)\n",
      "      650    0.000    0.000    0.000    0.000 {method 'rpartition' of 'str' objects}\n",
      "      646    0.000    0.000    0.000    0.000 {built-in method builtins.sorted}\n",
      "      644    0.000    0.000    0.000    0.000 multiarray.py:503(can_cast)\n",
      "      634    0.006    0.000    0.009    0.000 <frozen importlib._bootstrap_external>:96(_path_join)\n",
      "      634    0.001    0.000    0.001    0.000 <frozen importlib._bootstrap_external>:119(<listcomp>)\n",
      "      632    0.001    0.000    1.738    0.003 search.py:10(argmax)\n",
      "      632    0.069    0.000    1.737    0.003 {method 'argmax' of 'cupy._core.core._ndarray_base' objects}\n",
      "      631    0.000    0.000    0.000    0.000 inspect.py:2751(kind)\n",
      "      614    0.000    0.000    0.000    0.000 {method 'extend' of 'list' objects}\n",
      "      611    0.000    0.000    0.000    0.000 {method 'pop' of 'dict' objects}\n",
      "      600    0.001    0.000    0.001    0.000 formatters.py:552(_in_deferred_types)\n",
      "      598    0.000    0.000    0.000    0.000 {built-in method _imp.acquire_lock}\n",
      "      598    0.000    0.000    0.000    0.000 {built-in method _imp.release_lock}\n",
      "      591    0.000    0.000    0.000    0.000 {method 'keys' of 'dict' objects}\n",
      "      584    0.004    0.000    0.006    0.000 encoder.py:205(iterencode)\n",
      "      584    0.001    0.000    0.008    0.000 encoder.py:183(encode)\n",
      "      584    0.001    0.000    0.009    0.000 __init__.py:183(dumps)\n",
      "      584    0.000    0.000    0.000    0.000 encoder.py:105(__init__)\n",
      "      584    0.001    0.000    0.010    0.000 session.py:92(json_packer)\n",
      "      584    0.000    0.000    0.001    0.000 hmac.py:117(update)\n",
      "      584    0.001    0.000    0.001    0.000 {method 'update' of '_hashlib.HMAC' objects}\n",
      "      582    0.000    0.000    0.000    0.000 {built-in method builtins.id}\n",
      "      564    0.000    0.000    0.000    0.000 {method 'index' of 'list' objects}\n",
      "      555    0.000    0.000    0.000    0.000 {method 'split' of 'str' objects}\n",
      "      552    0.001    0.000    0.001    0.000 _einsum.py:443(_tuple_sorted_by_0)\n",
      "  542/512    0.001    0.000    0.002    0.000 traitlets.py:734(_validate)\n",
      "      540    0.000    0.000    0.003    0.000 _methods.py:61(_all)\n",
      "      540    0.001    0.000    0.008    0.000 fromnumeric.py:2421(all)\n",
      "      540    0.000    0.000    0.000    0.000 fromnumeric.py:2416(_all_dispatcher)\n",
      "      540    0.001    0.000    0.005    0.000 {method 'all' of 'numpy.generic' objects}\n",
      "      540    0.001    0.000    0.001    0.000 {built-in method numpy.asanyarray}\n",
      "  515/512    0.001    0.000    0.001    0.000 {method 'format' of 'str' objects}\n",
      "    489/3    0.001    0.000    0.001    0.000 copy.py:128(deepcopy)\n",
      "      482    0.000    0.000    0.000    0.000 {built-in method cupy._core._fusion_thread_local.is_fusing}\n",
      "      480    0.000    0.000    0.000    0.000 copy.py:182(_deepcopy_atomic)\n",
      "      480    0.000    0.000    0.001    0.000 <frozen importlib._bootstrap_external>:134(<genexpr>)\n",
      "      478    0.001    0.000    0.002    0.000 traitlets.py:1519(_notify_observers)\n",
      "      472    0.017    0.000    0.017    0.000 {built-in method cupy._core.core.array}\n",
      "      470    0.001    0.000    0.001    0.000 {built-in method builtins.max}\n",
      "      456    0.000    0.000    0.000    0.000 <frozen os>:697(__iter__)\n",
      "      455    0.000    0.000    0.000    0.000 {method 'pop' of 'list' objects}\n",
      "      454    0.045    0.000    0.045    0.000 {built-in method nt.stat}\n",
      "      450    0.000    0.000    0.000    0.000 multiarray.py:618(min_scalar_type)\n",
      "      445    0.001    0.000    0.001    0.000 <frozen ntpath>:154(splitdrive)\n",
      "      436    0.002    0.000    0.002    0.000 {method 'transpose' of 'cupy._core.core._ndarray_base' objects}\n",
      "      424    0.000    0.000    0.000    0.000 {built-in method _thread.get_ident}\n",
      "      402    0.000    0.000    0.000    0.000 {method 'copy' of 'dict' objects}\n",
      "      399    0.000    0.000    0.000    0.000 typing.py:1358(__eq__)\n",
      "      385    0.000    0.000    0.000    0.000 _parser.py:162(__getitem__)\n",
      "      379    0.000    0.000    0.000    0.000 {built-in method builtins.abs}\n",
      "      373    0.000    0.000    0.000    0.000 <frozen importlib._bootstrap>:1030(__exit__)\n",
      "      373    0.000    0.000    0.000    0.000 <frozen importlib._bootstrap>:1026(__enter__)\n",
      "      372    0.000    0.000    0.000    0.000 _einsum.py:561(<genexpr>)\n",
      "      372    0.000    0.000    0.000    0.000 {method 'upper' of 'str' objects}\n",
      "      371    0.000    0.000    0.000    0.000 {built-in method from_iterable}\n",
      "      360    0.001    0.000    0.003    0.000 _ufunc_config.py:33(seterr)\n",
      "      360    0.000    0.000    0.001    0.000 _ufunc_config.py:452(_no_nep50_warning)\n",
      "      360    0.001    0.000    0.001    0.000 _ufunc_config.py:132(geterr)\n",
      "      360    0.000    0.000    0.000    0.000 {built-in method numpy.seterrobj}\n",
      "      359    0.000    0.000    0.000    0.000 {built-in method builtins.iter}\n",
      "      352    0.000    0.000    0.000    0.000 traitlets.py:1800(has_trait)\n",
      "      348    0.000    0.000    0.000    0.000 string.py:110(convert)\n",
      "      347    0.001    0.000    0.024    0.000 sumprod.py:9(sum)\n",
      "      343    0.000    0.000    0.000    0.000 <frozen os>:742(check_str)\n",
      "      340    0.000    0.000    0.001    0.000 <frozen os>:748(encodekey)\n",
      "      337    0.001    0.000    0.001    0.000 <frozen os>:674(__getitem__)\n",
      "      332    0.000    0.000    0.036    0.000 <frozen importlib._bootstrap_external>:140(_path_stat)\n",
      "      330    0.000    0.000    0.000    0.000 {method 'rfind' of 'str' objects}\n",
      "  322/112    0.001    0.000    0.027    0.000 traitlets.py:1860(trait_defaults)\n",
      "      322    0.000    0.000    0.000    0.000 traitlets.py:1848(_get_trait_default_generator)\n",
      "      304    0.000    0.000    0.000    0.000 multiarray.py:669(result_type)\n",
      "      304    0.001    0.000    0.001    0.000 mdp.py:449(values)\n",
      "  301/281    0.001    0.000    0.008    0.000 typing.py:349(inner)\n",
      "      301    0.000    0.000    0.000    0.000 {method 'update' of 'dict' objects}\n",
      "      298    0.000    0.000    0.000    0.000 _parser.py:247(match)\n",
      "      298    0.000    0.000    0.000    0.000 {built-in method nt.getpid}\n",
      "      295    0.000    0.000    0.000    0.000 {built-in method from_bytes}\n",
      "      292    0.001    0.000    0.002    0.000 jsonutil.py:107(json_default)\n",
      "      292    0.000    0.000    0.000    0.000 jsonutil.py:38(_ensure_tzinfo)\n",
      "      292    0.001    0.000    0.001    0.000 {method 'isoformat' of 'datetime.datetime' objects}\n",
      "      291    0.000    0.000    0.000    0.000 typing.py:1351(<genexpr>)\n",
      "      287    0.000    0.000    0.000    0.000 jsonutil.py:77(json_clean)\n",
      "      283    0.000    0.000    0.000    0.000 {method '__exit__' of '_thread.lock' objects}\n",
      "      276    0.001    0.000    0.001    0.000 _einsum.py:175(_parse_ellipsis_subscript)\n",
      "      276    0.000    0.000    0.000    0.000 _einsum.py:271(<genexpr>)\n",
      "      276    0.000    0.000    0.000    0.000 _einsum.py:203(<listcomp>)\n",
      "      276    0.000    0.000    0.000    0.000 _einsum.py:583(<genexpr>)\n",
      "      276    0.001    0.000    0.001    0.000 {method 'reshape' of 'cupy._core.core._ndarray_base' objects}\n",
      "   266/91    0.000    0.000    0.025    0.000 traitlets.py:616(default)\n",
      "      264    0.000    0.000    0.000    0.000 {method 'add' of 'set' objects}\n",
      "      248    0.003    0.000    0.003    0.000 basic.py:7(empty)\n",
      "      244    0.000    0.000    0.000    0.000 function_base.py:348(iterable)\n",
      "      244    0.002    0.000    0.002    0.000 {built-in method cupy._core._routines_manipulation.broadcast_to}\n",
      "      244    0.006    0.000    0.017    0.000 {built-in method builtins.__build_class__}\n",
      "      242    0.000    0.000    0.000    0.000 inspect.py:2739(name)\n",
      "      241    0.000    0.000    0.000    0.000 typing.py:1657(__eq__)\n",
      "  241/232    0.001    0.000    0.001    0.000 {built-in method __new__ of type object at 0x00007FFD98558F90}\n",
      "      240    0.000    0.000    0.018    0.000 _product.py:42(dot)\n",
      "      240    0.000    0.000    0.000    0.000 mdp.py:444(__init__)\n",
      "      240    1.209    0.005    1.212    0.005 {method 'tobytes' of 'cupy._core.core._ndarray_base' objects}\n",
      "      240    0.018    0.000    0.018    0.000 {method 'dot' of 'cupy._core.core._ndarray_base' objects}\n",
      "      240    0.000    0.000    0.000    0.000 <frozen importlib._bootstrap_external>:84(_unpack_uint32)\n",
      "      235    0.000    0.000    0.001    0.000 {built-in method builtins.setattr}\n",
      "      234    0.001    0.000    0.186    0.001 {built-in method builtins.min}\n",
      "  231/148    0.000    0.000    0.000    0.000 {built-in method builtins.hash}\n",
      "      228    0.000    0.000    0.001    0.000 <frozen _collections_abc>:878(__iter__)\n",
      "      228    0.000    0.000    0.000    0.000 <frozen _collections_abc>:835(__iter__)\n",
      "      222    0.000    0.000    0.000    0.000 inspect.py:3032(parameters)\n",
      "      220    0.000    0.000    0.001    0.000 typing.py:159(_type_convert)\n",
      "      219    0.000    0.000    0.000    0.000 <frozen importlib._bootstrap>:405(parent)\n",
      "      218    0.006    0.000    0.006    0.000 {method 'acquire' of '_thread.lock' objects}\n",
      "      213    0.000    0.000    0.017    0.000 from_data.py:7(array)\n",
      "      212    0.003    0.000    0.007    0.000 basic.py:196(zeros)\n",
      "      212    0.004    0.000    0.004    0.000 {method 'memset_async' of 'cupy.cuda.memory.MemoryPointer' objects}\n",
      "      207    0.001    0.000    0.002    0.000 typing.py:168(_type_check)\n",
      "      203    0.001    0.000    0.001    0.000 {built-in method _thread.allocate_lock}\n",
      "      198    0.000    0.000    0.000    0.000 {method 'partition' of 'str' objects}\n",
      "    197/6    0.000    0.000    0.236    0.039 <frozen importlib._bootstrap>:233(_call_with_frames_removed)\n",
      "      196    0.004    0.000    0.005    0.000 traitlets.py:1886(traits)\n",
      "      192    0.000    0.000    0.000    0.000 _gufuncs.py:415(<genexpr>)\n",
      "      190    0.001    0.000    0.027    0.000 traitlets.py:705(set)\n",
      "      186    0.000    0.000    0.000    0.000 {method 'append' of 'collections.deque' objects}\n",
      "      184    0.000    0.000    0.000    0.000 copy.py:66(copy)\n",
      "      184    0.001    0.000    0.002    0.000 _einsum.py:323(_expand_dims_transpose)\n",
      "      184    0.000    0.000    0.002    0.000 _einsum.py:425(_make_transpose_axes)\n",
      "      184    0.000    0.000    0.001    0.000 _einsum.py:259(_iter_path_pairs)\n",
      "      184    0.000    0.000    0.001    0.000 from_data.py:78(asanyarray)\n",
      "      184    0.000    0.000    0.001    0.000 transpose.py:67(transpose)\n",
      "      184    0.000    0.000    0.001    0.000 dims.py:151(squeeze)\n",
      "      184    0.000    0.000    0.000    0.000 _einsum.py:614(<genexpr>)\n",
      "      184    0.000    0.000    0.000    0.000 {method 'astype' of 'cupy._core.core._ndarray_base' objects}\n",
      "      184    0.001    0.000    0.001    0.000 {method 'squeeze' of 'cupy._core.core._ndarray_base' objects}\n",
      "      184    0.000    0.000    0.000    0.000 {method 'copy' of 'list' objects}\n",
      "      184    0.000    0.000    0.000    0.000 {method 'count' of 'str' objects}\n",
      "      183    0.000    0.000    0.001    0.000 contextlib.py:132(__enter__)\n",
      "      183    0.000    0.000    0.001    0.000 contextlib.py:104(__init__)\n",
      "      183    0.000    0.000    0.001    0.000 contextlib.py:287(helper)\n",
      "      183    0.000    0.000    0.001    0.000 contextlib.py:141(__exit__)\n",
      "      183    0.000    0.000    0.000    0.000 threading.py:568(is_set)\n",
      "      180    0.004    0.000    0.020    0.000 numeric.py:2249(isclose)\n",
      "      180    0.009    0.000    0.023    0.000 _generator.py:1172(gumbel)\n",
      "      180    0.000    0.000    0.002    0.000 _ufunc_config.py:430(__enter__)\n",
      "      180    0.000    0.000    0.001    0.000 _ufunc_config.py:435(__exit__)\n",
      "      180    0.001    0.000    0.024    0.000 numeric.py:2170(allclose)\n",
      "      180    0.000    0.000    0.000    0.000 _ufunc_config.py:426(__init__)\n",
      "      180    0.000    0.000    0.002    0.000 fromnumeric.py:2979(prod)\n",
      "      180    0.003    0.000    0.009    0.000 numeric.py:2330(within_tol)\n",
      "      180    0.000    0.000    0.000    0.000 numeric.py:2166(_allclose_dispatcher)\n",
      "      180    0.000    0.000    0.000    0.000 numeric.py:2245(_isclose_dispatcher)\n",
      "      180    0.000    0.000    0.000    0.000 fromnumeric.py:2974(_prod_dispatcher)\n",
      "      180    0.054    0.000    4.246    0.024 _generator.py:1057(choice)\n",
      "      180    0.007    0.000    4.315    0.024 _sample.py:199(multinomial)\n",
      "      180    0.001    0.000    0.012    0.000 _generator.py:598(_random_sample_raw)\n",
      "      180    0.001    0.000    0.047    0.000 _generator.py:1269(get_random_state)\n",
      "      180    0.000    0.000    0.000    0.000 _generator.py:1305(_check_and_get_dtype)\n",
      "      180    0.001    0.000    4.294    0.024 _sample.py:159(choice)\n",
      "      180    0.000    0.000    0.002    0.000 dims.py:116(broadcast_to)\n",
      "      180    0.018    0.000    4.086    0.023 {method 'all' of 'cupy._core.core._ndarray_base' objects}\n",
      "      180    0.008    0.000    0.009    0.000 {method 'get' of 'cupy._core.core._ndarray_base' objects}\n",
      "      180    0.008    0.000    0.008    0.000 {built-in method cupy_backends.cuda.libs.curand.generateUniformDouble}\n",
      "      180    0.000    0.000    0.000    0.000 {method 'set' of '_contextvars.ContextVar' objects}\n",
      "      180    0.000    0.000    0.000    0.000 {method 'reset' of '_contextvars.ContextVar' objects}\n",
      "      177    0.000    0.000    0.000    0.000 threading.py:1118(_wait_for_tstate_lock)\n",
      "      177    0.000    0.000    0.001    0.000 threading.py:1185(is_alive)\n",
      "      175    0.000    0.000    0.027    0.000 traitlets.py:723(__set__)\n",
      "      175    0.001    0.000    0.002    0.000 <frozen ntpath>:107(join)\n",
      "      170    0.000    0.000    0.001    0.000 traitlets.py:743(_cross_validate)\n",
      "      167    0.007    0.000    0.007    0.000 socket.py:621(send)\n",
      "      167    0.000    0.000    0.000    0.000 iostream.py:127(_event_pipe)\n",
      "      167    0.001    0.000    0.008    0.000 iostream.py:243(schedule)\n",
      "  166/141    0.001    0.000    0.002    0.000 widget.py:85(_separate_buffers)\n",
      "      166    0.000    0.000    0.000    0.000 {method 'items' of 'mappingproxy' objects}\n",
      "      165    0.000    0.000    0.000    0.000 traitlets.py:1237(__get__)\n",
      "      165    0.000    0.000    0.000    0.000 traitlets.py:2146(validate)\n",
      "      161    0.000    0.000    0.004    0.000 <frozen importlib._bootstrap>:392(cached)\n",
      "      160    0.000    0.000    0.000    0.000 widget.py:547(model_id)\n",
      "      160    0.001    0.000    0.001    0.000 <frozen importlib._bootstrap_external>:132(_path_split)\n",
      "      160    0.001    0.000    0.006    0.000 <frozen importlib._bootstrap_external>:437(cache_from_source)\n",
      "      156    0.000    0.000    0.000    0.000 _parser.py:158(__len__)\n",
      "      156    0.000    0.000    0.002    0.000 traitlets.py:1515(notify_change)\n",
      "      156    0.001    0.000    0.024    0.000 widget.py:691(notify_change)\n",
      "      155    0.000    0.000    0.000    0.000 {built-in method builtins.locals}\n",
      "      152    0.000    0.000    0.000    0.000 threading.py:1446(current_thread)\n",
      "      151    0.000    0.000    0.025    0.000 traitlets.py:1504(_notify_trait)\n",
      "      150    0.000    0.000    0.000    0.000 traitlets.py:2167(_resolve_classes)\n",
      "      150    0.000    0.000    0.000    0.000 traitlets.py:2162(instance_init)\n",
      "      146    0.000    0.000    0.001    0.000 hmac.py:122(copy)\n",
      "      146    0.001    0.000    0.016    0.000 session.py:688(serialize)\n",
      "      146    0.001    0.000    0.003    0.000 session.py:647(msg)\n",
      "      146    0.000    0.000    0.000    0.000 hmac.py:139(_current)\n",
      "      146    0.000    0.000    0.001    0.000 session.py:272(msg_header)\n",
      "      146    0.002    0.000    0.030    0.000 session.py:752(send)\n",
      "      146    0.000    0.000    0.001    0.000 hmac.py:161(hexdigest)\n",
      "      146    0.000    0.000    0.001    0.000 session.py:198(utcnow)\n",
      "      146    0.000    0.000    0.000    0.000 session.py:279(extract_header)\n",
      "      146    0.001    0.000    0.003    0.000 session.py:673(sign)\n",
      "      146    0.000    0.000    0.000    0.000 session.py:852(<listcomp>)\n",
      "      146    0.000    0.000    0.001    0.000 session.py:598(msg_id)\n",
      "      146    0.000    0.000    0.002    0.000 session.py:643(msg_header)\n",
      "      146    0.000    0.000    0.000    0.000 configurable.py:565(initialized)\n",
      "      146    0.000    0.000    0.000    0.000 tz.py:74(utcoffset)\n",
      "      146    0.000    0.000    0.008    0.000 iostream.py:327(send_multipart)\n",
      "      146    0.000    0.000    0.008    0.000 iostream.py:255(send_multipart)\n",
      "      146    0.000    0.000    0.000    0.000 {method 'hexdigest' of '_hashlib.HMAC' objects}\n",
      "      146    0.001    0.000    0.001    0.000 {method 'copy' of '_hashlib.HMAC' objects}\n",
      "      146    0.000    0.000    0.000    0.000 {built-in method utcnow}\n",
      "      146    0.000    0.000    0.000    0.000 {method 'replace' of 'datetime.datetime' objects}\n",
      "      145    0.000    0.000    0.000    0.000 std.py:230(__call__)\n",
      "      141    0.000    0.000    0.000    0.000 threading.py:1145(name)\n",
      "      141    0.001    0.000    0.031    0.000 comm.py:24(publish_msg)\n",
      "  141/106    0.002    0.000    0.032    0.000 widget.py:589(get_state)\n",
      "      141    0.000    0.000    0.001    0.000 kernelbase.py:620(get_parent)\n",
      "      141    0.000    0.000    0.002    0.000 widget.py:130(_remove_buffers)\n",
      "      139    0.000    0.000    0.001    0.000 typing.py:689(<genexpr>)\n",
      "      136    0.001    0.000    0.001    0.000 <frozen importlib._bootstrap>:100(acquire)\n",
      "      136    0.001    0.000    0.001    0.000 <frozen importlib._bootstrap>:125(release)\n",
      "      136    0.001    0.000    0.002    0.000 <frozen importlib._bootstrap>:179(_get_module_lock)\n",
      "      135    0.000    0.000    0.000    0.000 feedparser.py:78(readline)\n",
      "      135    0.000    0.000    0.000    0.000 feedparser.py:128(__next__)\n",
      "      134    0.000    0.000    0.001    0.000 {built-in method builtins.any}\n",
      "      133    0.000    0.000    0.000    0.000 {method 'popleft' of 'collections.deque' objects}\n",
      "      132    0.000    0.000    0.002    0.000 <frozen importlib._bootstrap_external>:1421(_path_importer_cache)\n",
      "  131/103    0.000    0.000    0.000    0.000 typing.py:1364(__hash__)\n",
      "      128    0.000    0.000    0.000    0.000 ranges.py:30(<genexpr>)\n",
      "      125    0.002    0.000    0.045    0.000 <frozen importlib._bootstrap_external>:1604(find_spec)\n",
      "      125    0.000    0.000    0.000    0.000 <frozen importlib._bootstrap_external>:67(_relax_case)\n",
      "      125    0.000    0.000    0.000    0.000 {built-in method builtins.divmod}\n",
      "      121    0.004    0.000    0.004    0.000 {method '__exit__' of '_io._IOBase' objects}\n",
      "      121    0.000    0.000    0.000    0.000 {method 'find' of 'bytearray' objects}\n",
      "      117    0.000    0.000    0.000    0.000 _parser.py:284(tell)\n",
      "      116    0.000    0.000    0.000    0.000 numerictypes.py:283(issubclass_)\n",
      "      116    0.001    0.000    0.009    0.000 <frozen importlib._bootstrap_external>:150(_path_is_mode_type)\n",
      "      116    0.008    0.000    0.008    0.000 {method 'read' of '_io.BufferedReader' objects}\n",
      "   113/89    0.000    0.000    0.119    0.001 <frozen importlib._bootstrap>:1207(_handle_fromlist)\n",
      "      112    0.000    0.000    0.001    0.000 <frozen _collections_abc>:771(get)\n",
      "      111    0.000    0.000    0.000    0.000 _parser.py:170(append)\n",
      "      110    0.000    0.000    0.000    0.000 traitlets.py:512(instance_init)\n",
      "      109    0.000    0.000    0.000    0.000 {built-in method time.time}\n",
      "      105    0.000    0.000    0.008    0.000 <frozen importlib._bootstrap_external>:159(_path_isfile)\n",
      "      103    0.000    0.000    0.000    0.000 <frozen ntpath>:51(normcase)\n",
      "      101    0.000    0.000    0.000    0.000 {built-in method _winapi.LCMapStringEx}\n",
      "       98    0.000    0.000    0.001    0.000 typing.py:245(_collect_parameters)\n",
      "       96    0.000    0.000    0.006    0.000 traitlets.py:1230(__call__)\n",
      "       96    0.000    0.000    0.000    0.000 _gufuncs.py:197(<genexpr>)\n",
      "       96    0.000    0.000    0.000    0.000 {method 'union' of 'set' objects}\n",
      "       94    0.001    0.000    0.003    0.000 typing.py:1346(__init__)\n",
      "       94    0.000    0.000    0.001    0.000 typing.py:1251(__init__)\n",
      "       94    0.000    0.000    0.000    0.000 {built-in method builtins.all}\n",
      "       93    0.000    0.000    0.000    0.000 <frozen importlib._bootstrap>:357(__init__)\n",
      "       92    0.000    0.000    0.000    0.000 typing.py:888(__eq__)\n",
      "       92    0.007    0.000    0.098    0.001 _einsum.py:447(einsum)\n",
      "       92    0.000    0.000    0.000    0.000 __init__.py:356(<listcomp>)\n",
      "       92    0.001    0.000    0.001    0.000 __init__.py:350(result_type)\n",
      "       92    0.001    0.000    0.002    0.000 _einsum.py:71(_parse_einsum_input)\n",
      "       92    0.000    0.000    0.000    0.000 _einsum_cutn.py:60(_try_use_cutensornet)\n",
      "       92    0.008    0.000    0.081    0.001 _einsum.py:359(reduced_binary_einsum)\n",
      "       92    0.000    0.000    0.000    0.000 _einsum.py:225(_einsum_diagonals)\n",
      "       92    0.000    0.000    0.001    0.000 _einsum.py:520(<listcomp>)\n",
      "       92    0.000    0.000    0.000    0.000 _einsum.py:376(<listcomp>)\n",
      "       92    0.000    0.000    0.000    0.000 _einsum.py:377(<listcomp>)\n",
      "       92    0.000    0.000    0.000    0.000 _einsum.py:378(<listcomp>)\n",
      "       92    0.000    0.000    0.000    0.000 _einsum.py:379(<listcomp>)\n",
      "       92    0.000    0.000    0.000    0.000 _einsum.py:691(<listcomp>)\n",
      "       92    0.000    0.000    0.001    0.000 _einsum.py:515(<listcomp>)\n",
      "       92    0.000    0.000    0.000    0.000 _einsum.py:633(<listcomp>)\n",
      "       92    0.000    0.000    0.000    0.000 {cupy._core._accelerator.get_routine_accelerators}\n",
      "       92    0.001    0.000    0.001    0.000 <frozen importlib._bootstrap_external>:172(_path_isabs)\n",
      "       92    0.000    0.000    0.000    0.000 {built-in method nt._path_splitroot}\n",
      "       92    0.000    0.000    0.000    0.000 {built-in method builtins.sum}\n",
      "    91/87    0.000    0.000    0.016    0.000 __init__.py:89(find_spec)\n",
      "       89    0.000    0.000    0.001    0.000 <frozen importlib._bootstrap>:71(__init__)\n",
      "       89    0.000    0.000    0.000    0.000 <frozen importlib._bootstrap>:165(__init__)\n",
      "       89    0.000    0.000    0.000    0.000 <frozen importlib._bootstrap>:198(cb)\n",
      "     89/3    0.002    0.000    0.245    0.082 <frozen importlib._bootstrap>:1165(_find_and_load)\n",
      "       89    0.000    0.000    0.001    0.000 <frozen importlib._bootstrap>:173(__exit__)\n",
      "       89    0.000    0.000    0.002    0.000 <frozen importlib._bootstrap>:169(__enter__)\n",
      "    89/87    0.002    0.000    0.064    0.001 <frozen importlib._bootstrap>:1054(_find_spec)\n",
      "     89/3    0.001    0.000    0.244    0.081 <frozen importlib._bootstrap>:1120(_find_and_load_unlocked)\n",
      "    88/64    0.000    0.000    0.000    0.000 typing.py:1662(__hash__)\n",
      "    88/38    0.000    0.000    0.000    0.000 _parser.py:172(getwidth)\n",
      "       88    0.001    0.000    0.048    0.001 <frozen importlib._bootstrap_external>:1464(_get_spec)\n",
      "       88    0.000    0.000    0.000    0.000 <frozen importlib._bootstrap_external>:1565(<genexpr>)\n",
      "       88    0.000    0.000    0.001    0.000 <frozen importlib._bootstrap>:748(find_spec)\n",
      "       88    0.000    0.000    0.000    0.000 <frozen importlib._bootstrap>:920(find_spec)\n",
      "       88    0.000    0.000    0.048    0.001 <frozen importlib._bootstrap_external>:1496(find_spec)\n",
      "       88    0.000    0.000    0.000    0.000 {built-in method _imp.find_frozen}\n",
      "       88    0.000    0.000    0.000    0.000 {built-in method _imp.is_builtin}\n",
      "       86    0.000    0.000    0.001    0.000 widget.py:739(_should_send_property)\n",
      "       86    0.000    0.000    0.018    0.000 base_comm.py:111(send)\n",
      "       86    0.000    0.000    0.020    0.000 widget.py:570(send_state)\n",
      "       86    0.000    0.000    0.018    0.000 widget.py:822(_send)\n",
      "       86    0.000    0.000    0.000    0.000 <frozen importlib._bootstrap>:413(has_location)\n",
      "    86/79    0.000    0.000    0.049    0.001 <frozen importlib._bootstrap>:566(module_from_spec)\n",
      "       86    0.001    0.000    0.006    0.000 <frozen importlib._bootstrap>:493(_init_module_attrs)\n",
      "     86/3    0.001    0.000    0.238    0.079 <frozen importlib._bootstrap>:666(_load_unlocked)\n",
      "       85    0.000    0.000    0.000    0.000 traitlets.py:2875(validate_elements)\n",
      "       85    0.000    0.000    0.001    0.000 traitlets.py:2863(validate)\n",
      "     83/3    0.002    0.000    0.236    0.079 {built-in method builtins.exec}\n",
      "       81    0.000    0.000    0.004    0.000 <frozen importlib._bootstrap_external>:567(_get_cached)\n",
      "       81    0.000    0.000    0.002    0.000 <frozen importlib._bootstrap_external>:1599(_get_spec)\n",
      "       81    0.001    0.000    0.002    0.000 <frozen importlib._bootstrap_external>:778(spec_from_file_location)\n",
      "       80    0.000    0.000    0.000    0.000 _parser.py:109(__init__)\n",
      "       80    0.000    0.000    0.000    0.000 <frozen importlib._bootstrap_external>:1097(__init__)\n",
      "       80    0.000    0.000    0.001    0.000 <frozen importlib._bootstrap_external>:642(_classify_pyc)\n",
      "       80    0.000    0.000    0.000    0.000 <frozen importlib._bootstrap_external>:675(_validate_timestamp_pyc)\n",
      "       80    0.000    0.000    0.000    0.000 <frozen importlib._bootstrap>:48(_new_module)\n",
      "       80    0.001    0.000    0.066    0.001 <frozen importlib._bootstrap_external>:1127(get_data)\n",
      "     80/3    0.001    0.000    0.238    0.079 <frozen importlib._bootstrap_external>:934(exec_module)\n",
      "       80    0.002    0.000    0.119    0.001 <frozen importlib._bootstrap_external>:1007(get_code)\n",
      "       80    0.000    0.000    0.000    0.000 <frozen importlib._bootstrap_external>:599(_check_name_wrapper)\n",
      "       80    0.000    0.000    0.000    0.000 <frozen importlib._bootstrap_external>:1122(get_filename)\n",
      "       80    0.000    0.000    0.006    0.000 <frozen importlib._bootstrap_external>:1146(path_stats)\n",
      "       80    0.001    0.000    0.041    0.001 <frozen importlib._bootstrap_external>:727(_compile_bytecode)\n",
      "       80    0.000    0.000    0.000    0.000 <frozen importlib._bootstrap_external>:931(create_module)\n",
      "       80    0.057    0.001    0.057    0.001 {built-in method io.open_code}\n",
      "       80    0.000    0.000    0.000    0.000 {built-in method _imp._fix_co_filename}\n",
      "       80    0.040    0.001    0.040    0.001 {built-in method marshal.loads}\n",
      "       79    0.000    0.000    0.006    0.000 <frozen genericpath>:16(exists)\n",
      "       76    0.000    0.000    0.000    0.000 _parser.py:79(groups)\n",
      "       76    0.015    0.000    0.030    0.000 pomdp.py:280(__init__)\n",
      "       76    0.000    0.000    0.000    0.000 pomdp.py:406(belief_array)\n",
      "       75    0.000    0.000    0.007    0.000 rounding.py:29(round_)\n",
      "       75    0.000    0.000    0.007    0.000 rounding.py:6(around)\n",
      "       75    0.004    0.000    0.007    0.000 {method 'round' of 'cupy._core.core._ndarray_base' objects}\n",
      "       75    0.000    0.000    0.000    0.000 {method 'match' of 're.Pattern' objects}\n",
      "       75    0.000    0.000    0.000    0.000 {method 'find' of 'str' objects}\n",
      "    72/22    0.001    0.000    0.002    0.000 _compiler.py:37(_compile)\n",
      "       72    0.000    0.000    0.000    0.000 {method 'lstrip' of 'str' objects}\n",
      "       71    0.000    0.000    0.000    0.000 message.py:506(set_raw)\n",
      "       71    0.000    0.000    0.000    0.000 _adapters.py:43(redent)\n",
      "       71    0.000    0.000    0.000    0.000 _policybase.py:293(header_source_parse)\n",
      "       66    0.000    0.000    0.000    0.000 typing.py:1280(__getattr__)\n",
      "       66    0.000    0.000    0.008    0.000 compiler.py:269(_hash_hexdigest)\n",
      "       66    0.000    0.000    0.000    0.000 compiler.py:218(_get_bool_env_variable)\n",
      "       66    0.000    0.000    0.000    0.000 {method 'hexdigest' of '_hashlib.HASH' objects}\n",
      "       66    0.007    0.000    0.007    0.000 {built-in method _hashlib.openssl_sha1}\n",
      "       65    0.000    0.000    0.000    0.000 traitlets.py:2527(validate)\n",
      "       65    0.000    0.000    0.000    0.000 configurable.py:521(instance)\n",
      "       65    0.001    0.000    0.001    0.000 mdp.py:482(__init__)\n",
      "    64/44    0.000    0.000    0.004    0.000 typing.py:476(__getitem__)\n",
      "       64    0.000    0.000    0.000    0.000 _product.py:418(_move_axes_to_head)\n",
      "       64    0.000    0.000    0.001    0.000 _gufuncs.py:414(_transpose_element)\n",
      "       64    0.000    0.000    0.000    0.000 _product.py:427(<listcomp>)\n",
      "       64    0.000    0.000    0.000    0.000 _gufuncs.py:417(<genexpr>)\n",
      "       64    0.000    0.000    0.000    0.000 _gufuncs.py:492(<genexpr>)\n",
      "       64    0.000    0.000    0.007    0.000 mdp.py:512(alpha_vector_array)\n",
      "       64    0.000    0.000    0.000    0.000 mdp.py:454(action)\n",
      "       64    0.000    0.000    0.000    0.000 {built-in method numpy.promote_types}\n",
      "       63    0.000    0.000    0.000    0.000 {method 'get' of 'mappingproxy' objects}\n",
      "       62    0.001    0.000    0.011    0.000 __init__.py:272(_compile)\n",
      "       62    0.000    0.000    0.001    0.000 _dtype.py:346(_name_get)\n",
      "       62    0.000    0.000    0.000    0.000 _dtype.py:24(_kind_name)\n",
      "       62    0.000    0.000    0.000    0.000 _dtype.py:330(_name_includes_bit_suffix)\n",
      "       60    0.001    0.000    0.002    0.000 formatters.py:396(lookup_by_type)\n",
      "       60    0.000    0.000    0.000    0.000 __init__.py:12(escape)\n",
      "       60    0.000    0.000    0.000    0.000 pretty.py:321(_get_mro)\n",
      "       60    0.000    0.000    0.003    0.000 formatters.py:373(lookup)\n",
      "       60    0.000    0.000    0.000    0.000 formatters.py:273(_get_type)\n",
      "       60    0.010    0.000    0.075    0.001 pomdp.py:203(observe)\n",
      "       60    0.000    0.000    0.001    0.000 _dtype.py:34(__str__)\n",
      "       60    0.115    0.002    4.324    0.072 pomdp.py:322(random_state)\n",
      "       60    0.033    0.001    0.087    0.001 pomdp.py:300(update)\n",
      "       60    0.000    0.000    0.000    0.000 std.py:285(format_interval)\n",
      "       60    0.017    0.000    0.095    0.002 mdp.py:293(transition)\n",
      "       60    0.000    0.000    0.004    0.000 order.py:47(amax)\n",
      "       60    0.003    0.000    0.003    0.000 {method 'take' of 'cupy._core.core._ndarray_base' objects}\n",
      "       60    0.003    0.000    0.003    0.000 {method 'max' of 'cupy._core.core._ndarray_base' objects}\n",
      "       58    0.000    0.000    0.000    0.000 typing.py:1561(<genexpr>)\n",
      "       58    0.000    0.000    0.000    0.000 numerictypes.py:357(issubdtype)\n",
      "       58    0.000    0.000    0.000    0.000 {method 'count' of 'list' objects}\n",
      "       57    0.000    0.000    0.000    0.000 inspect.py:292(isclass)\n",
      "       57    0.000    0.000    0.000    0.000 {built-in method nt.urandom}\n",
      "       57    0.000    0.000    0.000    0.000 {method 'values' of 'mappingproxy' objects}\n",
      "       55    0.000    0.000    0.000    0.000 inspect.py:2839(args)\n",
      "       55    0.001    0.000    0.001    0.000 inspect.py:3076(_bind)\n",
      "       55    0.000    0.000    0.000    0.000 inspect.py:2892(apply_defaults)\n",
      "       55    0.000    0.000    0.000    0.000 inspect.py:2862(kwargs)\n",
      "       55    0.000    0.000    0.001    0.000 inspect.py:3207(bind)\n",
      "       55    0.000    0.000    0.000    0.000 inspect.py:2831(__init__)\n",
      "       55    0.000    0.000    0.000    0.000 traitlets.py:2340(_validate_bounds)\n",
      "       55    0.000    0.000    0.000    0.000 traitlets.py:237(parse_notifier_name)\n",
      "       55    0.000    0.000    0.001    0.000 traitlets.py:1272(__new__)\n",
      "       55    0.000    0.000    0.000    0.000 traitlets.py:3011(validate_elements)\n",
      "       55    0.000    0.000    0.000    0.000 traitlets.py:1248(instance_init)\n",
      "       55    0.000    0.000    0.000    0.000 traitlets.py:1628(observe)\n",
      "       55    0.000    0.000    0.001    0.000 traitlets.py:1315(setup_instance)\n",
      "       55    0.000    0.000    0.000    0.000 traitlets.py:1566(_add_notifiers)\n",
      "       55    0.000    0.000    0.000    0.000 traitlets.py:2436(validate)\n",
      "       55    0.000    0.000    0.001    0.000 traitlets.py:1287(setup_instance)\n",
      "       55    0.000    0.000    0.001    0.000 traitlets.py:1329(__init__)\n",
      "       55    0.000    0.000    0.000    0.000 uuid.py:139(__init__)\n",
      "       55    0.000    0.000    0.001    0.000 uuid.py:721(uuid4)\n",
      "       55    0.000    0.000    0.000    0.000 uuid.py:334(hex)\n",
      "       55    0.000    0.000    0.000    0.000 dir2.py:54(get_real_method)\n",
      "       55    0.000    0.000    0.004    0.000 formatters.py:219(catch_format_error)\n",
      "       55    0.000    0.000    0.015    0.000 base_comm.py:24(__init__)\n",
      "       55    0.000    0.000    0.002    0.000 decorator.py:199(fix)\n",
      "       55    0.000    0.000    0.006    0.000 decorator.py:229(fun)\n",
      "       55    0.000    0.000    0.000    0.000 ipkernel.py:56(_get_comm_manager)\n",
      "       55    0.000    0.000    0.013    0.000 base_comm.py:69(open)\n",
      "       55    0.000    0.000    0.015    0.000 ipkernel.py:46(_create_comm)\n",
      "       55    0.000    0.000    0.000    0.000 base_comm.py:190(register_comm)\n",
      "       55    0.000    0.000    0.000    0.000 base_comm.py:131(on_msg)\n",
      "       55    0.000    0.000    0.000    0.000 widget.py:359(_call_widget_constructed)\n",
      "       55    0.000    0.000    0.000    0.000 widget.py:537(_comm_changed)\n",
      "       55    0.000    0.000    0.005    0.000 widget.py:486(_default_keys)\n",
      "    55/40    0.000    0.000    0.000    0.000 widget.py:46(_widget_to_json)\n",
      "    55/20    0.000    0.000    0.038    0.002 widget.py:498(__init__)\n",
      "    55/20    0.001    0.000    0.037    0.002 widget.py:514(open)\n",
      "       55    0.000    0.000    0.000    0.000 widget.py:488(<listcomp>)\n",
      "       52    0.000    0.000    0.000    0.000 enum.py:685(__call__)\n",
      "       52    0.000    0.000    0.000    0.000 enum.py:1091(__new__)\n",
      "       50    0.000    0.000    0.000    0.000 typing.py:1649(<genexpr>)\n",
      "       50    0.000    0.000    0.000    0.000 formatters.py:358(_check_return)\n",
      "       48    0.000    0.000    0.000    0.000 <frozen os>:818(fsdecode)\n",
      "       47    0.000    0.000    0.001    0.000 <frozen importlib._bootstrap>:216(_lock_unlock_module)\n",
      "    46/23    0.002    0.000    0.006    0.000 _parser.py:507(_parse)\n",
      "       45    0.000    0.000    0.002    0.000 formatters.py:330(__call__)\n",
      "       45    0.013    0.000    0.013    0.000 {built-in method io.open}\n",
      "       44    0.000    0.000    0.000    0.000 typing.py:311(_remove_dups_flatten)\n",
      "       44    0.000    0.000    0.000    0.000 typing.py:297(_deduplicate)\n",
      "       44    0.000    0.000    0.000    0.000 enum.py:1515(__and__)\n",
      "       44    0.000    0.000    0.000    0.000 _compiler.py:568(isstring)\n",
      "       44    0.001    0.000    0.003    0.000 typing.py:653(Union)\n",
      "       44    0.000    0.000    0.004    0.000 shutil.py:1443(_access_check)\n",
      "       43    0.000    0.000    0.000    0.000 _compiler.py:426(_get_iscased)\n",
      "    42/22    0.000    0.000    0.006    0.000 _parser.py:447(_parse_sub)\n",
      "       41    0.000    0.000    0.023    0.001 std.py:1157(__iter__)\n",
      "       41    0.000    0.000    0.023    0.001 notebook.py:251(__iter__)\n",
      "       41    0.001    0.000    0.001    0.000 {method 'sub' of 're.Pattern' objects}\n",
      "       41    0.000    0.000    0.000    0.000 {built-in method _stat.S_ISDIR}\n",
      "       40    0.000    0.000    0.001    0.000 typing.py:1565(copy_with)\n",
      "       40    0.000    0.000    0.001    0.000 string.py:104(substitute)\n",
      "       40    0.000    0.000    0.000    0.000 string.py:87(__init__)\n",
      "       39    0.000    0.000    0.000    0.000 {method 'acquire' of '_thread.RLock' objects}\n",
      "       39    0.000    0.000    0.000    0.000 {method 'release' of '_thread.RLock' objects}\n",
      "       38    0.000    0.000    0.000    0.000 __init__.py:23(<genexpr>)\n",
      "       37    0.000    0.000    0.000    0.000 _parser.py:307(_class_escape)\n",
      "       36    0.000    0.000    0.000    0.000 discovery.py:254(<genexpr>)\n",
      "       35    0.000    0.000    0.000    0.000 traitlets.py:2171(make_dynamic_default)\n",
      "       35    0.000    0.000    0.001    0.000 std.py:1443(format_dict)\n",
      "       35    0.001    0.000    0.002    0.000 std.py:352(format_meter)\n",
      "       35    0.000    0.000    0.025    0.001 trait_types.py:364(make_dynamic_default)\n",
      "       35    0.000    0.000    0.000    0.000 trait_types.py:358(validate)\n",
      "       35    0.000    0.000    0.000    0.000 notebook.py:196(colour)\n",
      "       35    0.000    0.000    0.000    0.000 std.py:105(release)\n",
      "       35    0.000    0.000    0.000    0.000 utils.py:39(__init__)\n",
      "       35    0.000    0.000    0.000    0.000 std.py:101(acquire)\n",
      "       35    0.000    0.000    0.003    0.000 <frozen genericpath>:39(isdir)\n",
      "       35    0.000    0.000    0.000    0.000 {method 'acquire' of '_multiprocessing.SemLock' objects}\n",
      "       35    0.000    0.000    0.000    0.000 {method 'release' of '_multiprocessing.SemLock' objects}\n",
      "       34    0.000    0.000    0.000    0.000 {method 'values' of 'dict' objects}\n",
      "       33    0.000    0.000    0.000    0.000 _parser.py:166(__setitem__)\n",
      "       33    0.002    0.000    5.928    0.180 compiler.py:502(_compile_with_cache_cuda)\n",
      "       33    0.001    0.000    5.929    0.180 compiler.py:471(_compile_module_with_cache)\n",
      "       33    0.000    0.000    0.000    0.000 compiler.py:114(_get_nvrtc_version)\n",
      "       33    0.000    0.000    0.000    0.000 compiler.py:455(get_cache_dir)\n",
      "       33    0.188    0.006    0.188    0.006 {method 'load' of 'cupy.cuda.function.Module' objects}\n",
      "       33    0.000    0.000    0.000    0.000 <frozen abc>:121(__subclasscheck__)\n",
      "       33    0.000    0.000    0.000    0.000 {built-in method _abc._abc_subclasscheck}\n",
      "    33/22    0.000    0.000    0.161    0.007 {built-in method builtins.__import__}\n",
      "       32    0.001    0.000    0.003    0.000 _gufuncs.py:422(_get_args_transposed)\n",
      "       32    0.079    0.002    3.514    0.110 pomdp.py:813(backup)\n",
      "       32    0.001    0.000    0.007    0.000 _product.py:271(tensordot)\n",
      "       32    0.000    0.000    0.001    0.000 _gufuncs.py:47(_validate_normalize_axes)\n",
      "       32    0.000    0.000    0.004    0.000 _gufuncs.py:388(_apply_func_to_inputs)\n",
      "       32    0.000    0.000    0.000    0.000 _gufuncs.py:254(determine_dtype)\n",
      "       32    0.001    0.000    0.010    0.000 _gufuncs.py:539(__call__)\n",
      "       32    0.003    0.000    0.004    0.000 ranges.py:9(arange)\n",
      "       32    0.000    0.000    0.000    0.000 pomdp.py:589(add)\n",
      "       32    0.000    0.000    0.000    0.000 _internal.py:920(npy_ctypes_check)\n",
      "       32    0.000    0.000    0.000    0.000 _gufuncs.py:195(_determine_from_args)\n",
      "       32    0.000    0.000    0.000    0.000 _gufuncs.py:521(_determine_order)\n",
      "       32    0.000    0.000    0.000    0.000 _gufuncs.py:472(<listcomp>)\n",
      "       32    0.000    0.000    0.000    0.000 _gufuncs.py:477(<listcomp>)\n",
      "       32    0.000    0.000    0.000    0.000 _gufuncs.py:471(<listcomp>)\n",
      "       32    0.000    0.000    0.000    0.000 _gufuncs.py:94(<listcomp>)\n",
      "       32    0.000    0.000    0.000    0.000 _gufuncs.py:482(<listcomp>)\n",
      "       32    0.000    0.000    0.000    0.000 _gufuncs.py:491(<listcomp>)\n",
      "       32    0.000    0.000    0.000    0.000 _product.py:322(<listcomp>)\n",
      "       32    0.000    0.000    0.000    0.000 _product.py:323(<listcomp>)\n",
      "       32    0.000    0.000    0.000    0.000 _gufuncs.py:66(<listcomp>)\n",
      "       32    0.000    0.000    0.000    0.000 _gufuncs.py:663(<listcomp>)\n",
      "       32    0.000    0.000    0.000    0.000 _gufuncs.py:96(<listcomp>)\n",
      "       32    0.000    0.000    0.000    0.000 _gufuncs.py:476(<listcomp>)\n",
      "       32    0.000    0.000    0.000    0.000 _gufuncs.py:498(<listcomp>)\n",
      "       32    0.000    0.000    0.000    0.000 _gufuncs.py:665(<listcomp>)\n",
      "       32    0.001    0.000    1.543    0.048 mdp.py:544(prune)\n",
      "       32    0.326    0.010    1.538    0.048 mdp.py:565(<dictcomp>)\n",
      "       32    0.000    0.000    0.000    0.000 mdp.py:515(<listcomp>)\n",
      "       32    0.000    0.000    0.000    0.000 mdp.py:516(<listcomp>)\n",
      "       32    0.003    0.000    0.003    0.000 mdp.py:503(alpha_vector_list)\n",
      "       32    0.000    0.000    0.000    0.000 {method '_set_shape_and_strides' of 'cupy._core.core._ndarray_base' objects}\n",
      "       32    0.005    0.000    0.005    0.000 {built-in method cupy._core._routines_linalg.tensordot_core}\n",
      "       32    0.004    0.000    0.004    0.000 {built-in method cupy._core._routines_linalg.matmul}\n",
      "       32    0.000    0.000    0.000    0.000 {built-in method cupy._core.internal.prod}\n",
      "       32    0.000    0.000    0.000    0.000 {built-in method cupy._core.internal._get_strides_for_order_K}\n",
      "       32    0.000    0.000    0.000    0.000 {built-in method cupy._core.internal._broadcast_shapes}\n",
      "       32    0.000    0.000    0.000    0.000 <frozen _collections_abc>:315(__subclasshook__)\n",
      "       32    0.000    0.000    0.000    0.000 {method 'random' of '_random.Random' objects}\n",
      "       32    0.000    0.000    0.000    0.000 {built-in method math.floor}\n",
      "       31    0.000    0.000    0.010    0.000 __init__.py:225(compile)\n",
      "       31    0.000    0.000    0.000    0.000 {method 'isidentifier' of 'str' objects}\n",
      "       30    0.000    0.000    0.001    0.000 __init__.py:198(split)\n",
      "       30    0.000    0.000    0.000    0.000 _compiler.py:396(_simple)\n",
      "       30    0.001    0.000    0.026    0.001 notebook.py:144(display)\n",
      "       30    0.000    0.000    0.000    0.000 widget_float.py:33(_validate_value)\n",
      "       30    0.000    0.000    0.000    0.000 {method 'split' of 're.Pattern' objects}\n",
      "       29    0.000    0.000    0.000    0.000 _compiler.py:214(_compile_charset)\n",
      "       29    0.001    0.000    0.001    0.000 _compiler.py:241(_optimize_charset)\n",
      "       27    0.000    0.000    0.000    0.000 _parser.py:444(_uniq)\n",
      "       27    0.000    0.000    0.000    0.000 subprocess.py:218(Close)\n",
      "       27    0.000    0.000    0.000    0.000 {built-in method fromkeys}\n",
      "       26    0.000    0.000    0.000    0.000 typing.py:275(_check_generic)\n",
      "    26/21    0.000    0.000    0.000    0.000 _compiler.py:434(_get_literal_prefix)\n",
      "       26    0.000    0.000    0.000    0.000 {built-in method now}\n",
      "       25    0.000    0.000    0.000    0.000 {method 'translate' of 'str' objects}\n",
      "       24    0.000    0.000    0.000    0.000 enum.py:744(__delattr__)\n",
      "       24    0.000    0.000    0.001    0.000 typing.py:1556(__getitem__)\n",
      "       24    0.000    0.000    0.000    0.000 compiler.py:448(<genexpr>)\n",
      "       24    0.000    0.000    0.000    0.000 {built-in method builtins.delattr}\n",
      "       23    0.000    0.000    0.000    0.000 _compiler.py:31(_combine_flags)\n",
      "       23    0.000    0.000    0.000    0.000 {method '__contains__' of 'frozenset' objects}\n",
      "       22    0.000    0.000    0.003    0.000 _compiler.py:571(_code)\n",
      "       22    0.000    0.000    0.000    0.000 _parser.py:954(fix_flags)\n",
      "       22    0.000    0.000    0.000    0.000 _parser.py:222(__init__)\n",
      "       22    0.000    0.000    0.000    0.000 _parser.py:73(__init__)\n",
      "       22    0.000    0.000    0.001    0.000 _compiler.py:509(_compile_info)\n",
      "       22    0.000    0.000    0.010    0.000 _compiler.py:738(compile)\n",
      "       22    0.000    0.000    0.006    0.000 _parser.py:970(parse)\n",
      "       22    0.000    0.000    0.000    0.000 {built-in method _sre.compile}\n",
      "       21    0.000    0.000    0.000    0.000 functools.py:35(update_wrapper)\n",
      "       21    0.000    0.000    0.000    0.000 enum.py:47(_is_dunder)\n",
      "       21    0.000    0.000    0.000    0.000 fancy_getopt.py:442(translate_longopt)\n",
      "       20    0.000    0.000    0.002    0.000 typing.py:697(Optional)\n",
      "       20    0.000    0.000    0.000    0.000 typing.py:455(__repr__)\n",
      "       20    0.000    0.000    0.000    0.000 _parser.py:367(_escape)\n",
      "       20    0.000    0.000    0.000    0.000 threading.py:1161(ident)\n",
      "       20    0.000    0.000    0.000    0.000 traitlets.py:2704(validate)\n",
      "       20    0.000    0.000    0.020    0.001 std.py:1195(update)\n",
      "       20    0.000    0.000    0.018    0.001 widget_layout.py:80(__init__)\n",
      "       20    0.000    0.000    0.020    0.001 notebook.py:264(update)\n",
      "       20    0.000    0.000    0.000    0.000 utils.py:153(__eq__)\n",
      "       20    0.000    0.000    0.019    0.001 std.py:1322(refresh)\n",
      "       20    0.000    0.000    0.000    0.000 {built-in method sys.intern}\n",
      "       19    0.000    0.000    0.000    0.000 __init__.py:422(<genexpr>)\n",
      "       19    0.005    0.000    0.005    0.000 {built-in method nt.listdir}\n",
      "       18    0.000    0.000    0.000    0.000 enum.py:58(_is_sunder)\n",
      "       18    0.000    0.000    0.000    0.000 enum.py:78(_is_private)\n",
      "       18    0.000    0.000    0.000    0.000 enum.py:69(_is_internal_class)\n",
      "       18    0.000    0.000    0.000    0.000 enum.py:364(__setitem__)\n",
      "       18    0.000    0.000    0.000    0.000 {built-in method _winapi.CloseHandle}\n",
      "       18    0.000    0.000    0.000    0.000 {built-in method _winapi.GetCurrentProcess}\n",
      "       17    0.000    0.000    0.000    0.000 typing.py:1634(<genexpr>)\n",
      "       17    0.000    0.000    0.000    0.000 _compiler.py:465(_get_charset_prefix)\n",
      "       16    0.000    0.000    0.000    0.000 _parser.py:82(opengroup)\n",
      "       16    0.000    0.000    0.000    0.000 _parser.py:94(closegroup)\n",
      "       16    0.000    0.000    0.001    0.000 typing.py:1640(__getitem__)\n",
      "       15    0.000    0.000    0.000    0.000 enum.py:825(__setattr__)\n",
      "       15    0.000    0.000    0.000    0.000 functools.py:65(wraps)\n",
      "       15    0.000    0.000    0.000    0.000 traitlets.py:3367(validate_elements)\n",
      "       15    0.000    0.000    0.000    0.000 traitlets.py:1690(_register_validator)\n",
      "       15    0.000    0.000    0.000    0.000 traitlets.py:1736(set_trait)\n",
      "       15    0.000    0.000    0.000    0.000 traitlets.py:3360(validate)\n",
      "       15    0.000    0.000    0.000    0.000 traitlets.py:1256(instance_init)\n",
      "       15    0.000    0.000    0.031    0.002 widget_description.py:30(__init__)\n",
      "       15    0.000    0.000    0.000    0.000 utils.py:83(wrapper_setattr)\n",
      "       15    0.000    0.000    0.000    0.000 std.py:109(__enter__)\n",
      "       15    0.000    0.000    0.000    0.000 std.py:112(__exit__)\n",
      "       15    0.000    0.000    0.000    0.000 std.py:225(__init__)\n",
      "       15    0.000    0.000    0.001    0.000 <frozen abc>:105(__new__)\n",
      "       15    0.000    0.000    0.000    0.000 {built-in method _abc._abc_init}\n",
      "       15    0.000    0.000    0.000    0.000 {built-in method _weakref.proxy}\n",
      "       14    0.000    0.000    0.000    0.000 _compiler.py:386(<listcomp>)\n",
      "       14    0.000    0.000    0.000    0.000 _weakrefset.py:63(__iter__)\n",
      "       14    0.000    0.000    0.000    0.000 _compiler.py:384(_mk_bitmap)\n",
      "       14    0.000    0.000    0.000    0.000 __init__.py:892(__bool__)\n",
      "       14    0.000    0.000    0.000    0.000 {method 'translate' of 'bytearray' objects}\n",
      "       14    0.000    0.000    0.000    0.000 {method 'setdefault' of 'dict' objects}\n",
      "       14    0.000    0.000    0.000    0.000 {built-in method sys.audit}\n",
      "       13    0.000    0.000    0.000    0.000 typing.py:838(__init__)\n",
      "       13    0.000    0.000    0.000    0.000 contextlib.py:431(__enter__)\n",
      "       13    0.000    0.000    0.000    0.000 contextlib.py:434(__exit__)\n",
      "       13    0.000    0.000    0.000    0.000 contextlib.py:428(__init__)\n",
      "       13    0.000    0.000    0.000    0.000 _collections.py:20(__missing__)\n",
      "       13    0.000    0.000    0.000    0.000 _collections.py:24(<lambda>)\n",
      "       13    0.000    0.000    0.000    0.000 msvc.py:316(current_is_x86)\n",
      "       13    0.000    0.000    0.000    0.000 {built-in method builtins.compile}\n",
      "       12    0.001    0.000    0.260    0.022 __init__.py:1(<module>)\n",
      "       12    0.000    0.000    0.000    0.000 enum.py:192(__get__)\n",
      "       12    0.000    0.000    0.000    0.000 enum.py:1243(value)\n",
      "       12    0.000    0.000    0.000    0.000 threading.py:236(__init__)\n",
      "       12    0.000    0.000    0.000    0.000 threading.py:555(__init__)\n",
      "       12    0.000    0.000    0.000    0.000 msvc.py:527(microsoft)\n",
      "       12    0.000    0.000    0.000    0.000 <frozen importlib._bootstrap_external>:1684(<setcomp>)\n",
      "       12    0.000    0.000    0.004    0.000 <frozen importlib._bootstrap_external>:1655(_fill_cache)\n",
      "       12    0.001    0.000    0.001    0.000 {built-in method winreg.OpenKey}\n",
      "       11    0.000    0.000    0.006    0.001 threading.py:604(wait)\n",
      "       11    0.000    0.000    0.000    0.000 typing.py:897(__hash__)\n",
      "       11    0.000    0.000    0.000    0.000 threading.py:267(__exit__)\n",
      "       11    0.000    0.000    0.000    0.000 threading.py:264(__enter__)\n",
      "       11    0.000    0.000    0.000    0.000 __init__.py:57(find_spec)\n",
      "       11    0.000    0.000    0.000    0.000 __init__.py:24(_module_matches_namespace)\n",
      "       11    0.000    0.000    0.000    0.000 <frozen importlib._bootstrap_external>:1559(__init__)\n",
      "       11    0.000    0.000    0.001    0.000 <frozen importlib._bootstrap_external>:1696(path_hook_for_FileFinder)\n",
      "       11    0.000    0.000    0.001    0.000 <frozen importlib._bootstrap_external>:164(_path_isdir)\n",
      "       11    0.000    0.000    0.002    0.000 <frozen importlib._bootstrap_external>:1408(_path_hooks)\n",
      "       11    0.000    0.000    0.001    0.000 <frozen zipimport>:64(__init__)\n",
      "       11    0.000    0.000    0.000    0.000 {method 'release' of '_thread.lock' objects}\n",
      "       11    0.000    0.000    0.000    0.000 {method '__enter__' of '_thread.lock' objects}\n",
      "       11    0.000    0.000    0.000    0.000 {method 'setter' of 'property' objects}\n",
      "       10    0.000    0.000    0.005    0.001 threading.py:288(wait)\n",
      "       10    0.000    0.000    0.000    0.000 threading.py:279(_is_owned)\n",
      "       10    0.000    0.000    0.000    0.000 threading.py:273(_release_save)\n",
      "       10    0.000    0.000    0.000    0.000 threading.py:276(_acquire_restore)\n",
      "       10    0.000    0.000    0.000    0.000 traitlets.py:1339(ignore)\n",
      "       10    0.000    0.000    0.000    0.000 dataclasses.py:425(<genexpr>)\n",
      "       10    0.000    0.000    0.006    0.001 iostream.py:547(flush)\n",
      "       10    0.000    0.000    0.020    0.002 widget_string.py:64(__init__)\n",
      "       10    0.000    0.000    0.000    0.000 notebook.py:201(colour)\n",
      "       10    0.000    0.000    0.000    0.000 std.py:1150(_comparable)\n",
      "       10    0.000    0.000    0.000    0.000 std.py:1154(__hash__)\n",
      "       10    0.000    0.000    0.000    0.000 utils.py:118(disable_on_exception)\n",
      "       10    0.000    0.000    0.000    0.000 _apply_pyprojecttoml.py:309(_attrgetter)\n",
      "       10    0.000    0.000    0.000    0.000 {built-in method utcfromtimestamp}\n",
      "       10    0.000    0.000    0.000    0.000 {method 'remove' of 'set' objects}\n",
      "        9    0.000    0.000    0.000    0.000 contextlib.py:260(contextmanager)\n",
      "        9    0.000    0.000    0.000    0.000 contextlib.py:527(_push_exit_callback)\n",
      "        9    0.000    0.000    0.000    0.000 enum.py:1142(__init__)\n",
      "        9    0.000    0.000    0.000    0.000 subprocess.py:1414(_make_inheritable)\n",
      "        9    0.000    0.000    0.000    0.000 enum.py:37(_is_descriptor)\n",
      "        9    0.000    0.000    0.000    0.000 contextlib.py:509(callback)\n",
      "        9    0.000    0.000    0.001    0.000 typing.py:1611(__getitem__)\n",
      "        9    0.000    0.000    0.000    0.000 enum.py:929(_check_for_existing_members_)\n",
      "        9    0.000    0.000    0.000    0.000 contextlib.py:456(_exit_wrapper)\n",
      "        9    0.000    0.000    0.000    0.000 contextlib.py:454(_create_cb_wrapper)\n",
      "        9    0.000    0.000    0.000    0.000 enum.py:238(__init__)\n",
      "        9    0.000    0.000    0.000    0.000 enum.py:241(__set_name__)\n",
      "        9    0.000    0.000    0.000    0.000 copy.py:243(_keep_alive)\n",
      "        9    0.000    0.000    0.000    0.000 {method 'pop' of 'collections.deque' objects}\n",
      "        9    0.000    0.000    0.000    0.000 {built-in method _winapi.DuplicateHandle}\n",
      "        9    0.000    0.000    0.000    0.000 {built-in method sys._getframe}\n",
      "        8    0.000    0.000    0.000    0.000 __init__.py:96(<lambda>)\n",
      "        8    0.000    0.000    0.000    0.000 typing.py:1947(_caller)\n",
      "        8    0.000    0.000    0.000    0.000 _parser.py:265(getuntil)\n",
      "        8    0.000    0.000    0.000    0.000 _parser.py:295(checkgroupname)\n",
      "        8    0.000    0.000    0.003    0.000 __init__.py:914(<genexpr>)\n",
      "        8    0.000    0.000    0.003    0.000 notebook.py:276(close)\n",
      "        8    0.000    0.000    0.000    0.000 __init__.py:16(search_path)\n",
      "        8    0.000    0.000    0.000    0.000 {method 'insert' of 'list' objects}\n",
      "        7    0.000    0.000    0.000    0.000 typing.py:938(__init__)\n",
      "        7    0.000    0.000    0.000    0.000 typing.py:1625(__getitem_inner__)\n",
      "        7    0.000    0.000    0.000    0.000 typing.py:1021(<genexpr>)\n",
      "        7    0.000    0.000    0.000    0.000 typing.py:1606(copy_with)\n",
      "        7    0.000    0.000    0.000    0.000 typing.py:1012(__init__)\n",
      "        7    0.000    0.000    0.000    0.000 __init__.py:848(search)\n",
      "        7    0.000    0.000    0.000    0.000 six.py:194(find_spec)\n",
      "        7    0.000    0.000    0.003    0.000 __init__.py:812(search)\n",
      "        7    0.000    0.000    0.001    0.000 __init__.py:815(mtime)\n",
      "        7    0.000    0.000    0.000    0.000 __init__.py:792(__init__)\n",
      "        6    0.000    0.000    0.002    0.000 subprocess.py:1580(_wait)\n",
      "        6    0.000    0.000    0.000    0.000 enum.py:769(__getattr__)\n",
      "      6/4    0.000    0.000    0.053    0.013 __init__.py:108(import_module)\n",
      "        6    0.000    0.000    0.000    0.000 enum.py:939(_get_mixins_)\n",
      "        6    0.000    0.000    0.002    0.000 subprocess.py:1259(wait)\n",
      "        6    0.000    0.000    0.000    0.000 subprocess.py:1311(_on_error_fd_closer)\n",
      "        6    0.000    0.000    0.000    0.000 typing.py:1810(<genexpr>)\n",
      "        6    0.000    0.000    0.000    0.000 typing.py:2864(<genexpr>)\n",
      "        6    0.000    0.000    0.000    0.000 enum.py:975(_find_data_type_)\n",
      "        6    0.000    0.000    0.000    0.000 subprocess.py:1563(_internal_poll)\n",
      "        6    0.000    0.000    0.000    0.000 _weakrefset.py:85(add)\n",
      "      6/3    0.000    0.000    0.001    0.000 copy.py:227(_deepcopy_dict)\n",
      "        6    0.000    0.000    0.000    0.000 copy.py:264(<genexpr>)\n",
      "        6    0.000    0.000    0.000    0.000 shutil.py:570(_rmtree_isdir)\n",
      "        6    0.000    0.000    0.000    0.000 message.py:489(get)\n",
      "        6    0.000    0.000    0.000    0.000 _collections.py:23(freeze)\n",
      "        6    0.000    0.000    0.000    0.000 monkey.py:53(<genexpr>)\n",
      "      6/4    0.000    0.000    0.053    0.013 <frozen importlib._bootstrap>:1192(_gcd_import)\n",
      "        6    0.000    0.000    0.000    0.000 <frozen importlib._bootstrap>:1101(_sanity_check)\n",
      "        6    0.000    0.000    0.000    0.000 <frozen abc>:7(abstractmethod)\n",
      "        6    0.000    0.000    0.000    0.000 <frozen _collections_abc>:812(__init__)\n",
      "        6    0.000    0.000    0.000    0.000 {method 'stat' of 'nt.DirEntry' objects}\n",
      "        6    0.001    0.000    0.001    0.000 {built-in method nt.unlink}\n",
      "        6    0.000    0.000    0.000    0.000 {method 'close' of '_io.TextIOWrapper' objects}\n",
      "        6    0.000    0.000    0.000    0.000 {method 'pop' of 'set' objects}\n",
      "        6    0.000    0.000    0.000    0.000 {built-in method builtins.repr}\n",
      "        6    0.000    0.000    0.000    0.000 {built-in method builtins.vars}\n",
      "        5    0.000    0.000    0.000    0.000 _compiler.py:389(_bytes_to_codes)\n",
      "        5    0.000    0.000    0.000    0.000 functools.py:845(_is_valid_dispatch_type)\n",
      "        5    0.000    0.000    0.000    0.000 _weakrefset.py:27(__exit__)\n",
      "        5    0.000    0.000    0.000    0.000 functools.py:479(lru_cache)\n",
      "        5    0.000    0.000    0.000    0.000 functools.py:852(register)\n",
      "        5    0.000    0.000    0.000    0.000 _weakrefset.py:17(__init__)\n",
      "        5    0.000    0.000    0.000    0.000 _weakrefset.py:53(_commit_removals)\n",
      "        5    0.000    0.000    0.000    0.000 _weakrefset.py:110(remove)\n",
      "        5    0.000    0.000    0.000    0.000 _weakrefset.py:21(__enter__)\n",
      "        5    0.000    0.000    0.000    0.000 inspect.py:3019(<genexpr>)\n",
      "        5    0.000    0.000    0.000    0.000 __init__.py:48(create_string_buffer)\n",
      "        5    0.000    0.000    0.006    0.001 formatters.py:90(format)\n",
      "        5    0.000    0.000    0.014    0.003 display_functions.py:105(display)\n",
      "        5    0.000    0.000    0.000    0.000 __init__.py:597(<genexpr>)\n",
      "        5    0.000    0.000    0.008    0.002 display_functions.py:45(publish_display_data)\n",
      "        5    0.000    0.000    0.000    0.000 displaypub.py:43(_validate_data)\n",
      "        5    0.000    0.000    0.000    0.000 formatters.py:907(__call__)\n",
      "        5    0.000    0.000    0.001    0.000 formatters.py:953(__call__)\n",
      "        5    0.000    0.000    0.008    0.002 zmqshell.py:80(publish)\n",
      "        5    0.000    0.000    0.000    0.000 formatters.py:944(_check_return)\n",
      "        5    0.000    0.000    0.000    0.000 formatters.py:830(_check_return)\n",
      "        5    0.000    0.000    0.000    0.000 jsonutil.py:52(encode_images)\n",
      "        5    0.000    0.000    0.060    0.012 notebook.py:206(__init__)\n",
      "        5    0.000    0.000    0.040    0.008 notebook.py:99(status_printer)\n",
      "        5    0.000    0.000    0.000    0.000 utils.py:228(_screen_shape_windows)\n",
      "        5    0.000    0.000    0.000    0.000 utils.py:144(__init__)\n",
      "        5    0.000    0.000    0.025    0.005 std.py:551(__new__)\n",
      "        5    0.000    0.000    0.000    0.000 std.py:574(_decr_instances)\n",
      "        5    0.000    0.000    0.000    0.000 std.py:1262(close)\n",
      "        5    0.000    0.000    0.000    0.000 std.py:185(__format__)\n",
      "        5    0.000    0.000    0.001    0.000 std.py:837(__init__)\n",
      "        5    0.000    0.000    0.000    0.000 std.py:166(colour)\n",
      "        5    0.000    0.000    0.001    0.000 widget.py:802(_repr_mimebundle_)\n",
      "        5    0.000    0.000    0.006    0.001 zmqshell.py:63(_flush_streams)\n",
      "        5    0.000    0.000    0.011    0.002 widget_float.py:23(__init__)\n",
      "        5    0.000    0.000    0.007    0.001 widget_box.py:62(__init__)\n",
      "        5    0.000    0.000    0.000    0.000 widget_float.py:41(_validate_min)\n",
      "        5    0.000    0.000    0.000    0.000 widget_float.py:51(_validate_max)\n",
      "        5    0.000    0.000    0.000    0.000 pomdp.py:392(__init__)\n",
      "        5    0.000    0.000    0.000    0.000 zmqshell.py:73(_hooks)\n",
      "        5    0.000    0.000    0.000    0.000 widget.py:50(<listcomp>)\n",
      "        5    0.000    0.000    0.085    0.017 auto.py:33(trange)\n",
      "        5    0.000    0.000    0.000    0.000 utils.py:183(_is_utf)\n",
      "        5    0.000    0.000    0.000    0.000 std.py:570(<setcomp>)\n",
      "        5    0.000    0.000    0.000    0.000 std.py:567(_get_free_pos)\n",
      "        5    0.000    0.000    0.024    0.005 std.py:648(get_lock)\n",
      "        5    0.000    0.000    0.000    0.000 notebook.py:76(_json_)\n",
      "        5    0.000    0.000    0.000    0.000 utils.py:197(_supports_unicode)\n",
      "        5    0.000    0.000    0.000    0.000 utils.py:213(_screen_shape_wrapper)\n",
      "        5    0.000    0.000    0.001    0.000 asyncio.py:23(__init__)\n",
      "        5    0.000    0.000    0.000    0.000 notebook.py:85(__repr__)\n",
      "        5    0.000    0.000    0.000    0.000 utils.py:56(__eq__)\n",
      "        5    0.000    0.000    0.000    0.000 std.py:162(colour)\n",
      "        5    0.000    0.000    0.000    0.000 utils.py:204(_is_ascii)\n",
      "        5    0.000    0.000    0.000    0.000 utils.py:43(__format__)\n",
      "        5    0.000    0.000    0.000    0.000 utils.py:70(__getattr__)\n",
      "        5    0.000    0.000    0.000    0.000 utils.py:87(__init__)\n",
      "        5    0.000    0.000    0.000    0.000 std.py:152(__init__)\n",
      "        5    0.000    0.000    0.000    0.000 reduction.py:43(register)\n",
      "        5    0.000    0.000    0.000    0.000 <frozen codecs>:260(__init__)\n",
      "        5    0.000    0.000    0.000    0.000 <frozen importlib._bootstrap>:422(spec_from_loader)\n",
      "        5    0.000    0.000    0.000    0.000 {built-in method nt.getcwd}\n",
      "        5    5.454    1.091    5.454    1.091 {method 'read' of '_io.TextIOWrapper' objects}\n",
      "        5    0.000    0.000    0.000    0.000 {method 'tolist' of 'memoryview' objects}\n",
      "        5    0.000    0.000    0.000    0.000 {method 'cast' of 'memoryview' objects}\n",
      "        5    0.000    0.000    0.000    0.000 {method 'difference' of 'set' objects}\n",
      "        4    0.000    0.000    0.000    0.000 _compiler.py:405(_generate_overlap_table)\n",
      "        4    0.000    0.000    0.000    0.000 __init__.py:253(escape)\n",
      "        4    0.000    0.000    0.000    0.000 enum.py:1505(__or__)\n",
      "        4    0.000    0.000    0.000    0.000 functools.py:518(decorating_function)\n",
      "        4    0.000    0.000    0.000    0.000 typing.py:1646(<genexpr>)\n",
      "        4    0.000    0.000    0.001    0.000 __init__.py:348(namedtuple)\n",
      "        4    0.000    0.000    0.000    0.000 typing.py:1522(__mro_entries__)\n",
      "        4    0.000    0.000    0.000    0.000 typing.py:1843(__init_subclass__)\n",
      "        4    0.000    0.000    0.000    0.000 random.py:480(choices)\n",
      "        4    0.000    0.000    0.000    0.000 random.py:493(<listcomp>)\n",
      "        4    0.000    0.000    0.000    0.000 inspect.py:1441(formatannotation)\n",
      "        4    0.000    0.000    0.000    0.000 inspect.py:2686(__init__)\n",
      "        4    0.000    0.000    0.000    0.000 __init__.py:1267(__init__)\n",
      "        4    0.000    0.000    0.000    0.000 __init__.py:2081(getLogger)\n",
      "        4    0.000    0.000    0.000    0.000 tempfile.py:142(rng)\n",
      "        4    0.000    0.000    0.000    0.000 tempfile.py:153(__next__)\n",
      "        4    0.000    0.000    0.000    0.000 dataclasses.py:1106(<genexpr>)\n",
      "        4    0.000    0.000    0.000    0.000 dataclasses.py:820(_set_qualname)\n",
      "        4    0.000    0.000    0.000    0.000 dataclasses.py:827(_set_new_attribute)\n",
      "        4    0.000    0.000    0.000    0.000 dataclasses.py:396(<genexpr>)\n",
      "        4    0.000    0.000    0.000    0.000 message.py:633(get_default_type)\n",
      "        4    0.000    0.000    0.000    0.000 message.py:591(get_content_type)\n",
      "        4    0.003    0.001    4.778    1.194 pomdp.py:938(expand_ssea)\n",
      "        4    0.000    0.000    4.778    1.194 pomdp.py:997(expand)\n",
      "        4    0.000    0.000    0.000    0.000 _monitor.py:94(report)\n",
      "        4    0.000    0.000    0.043    0.011 __init__.py:29(load_module)\n",
      "        4    0.000    0.000    0.043    0.011 __init__.py:51(create_module)\n",
      "        4    0.000    0.000    0.000    0.000 __init__.py:54(exec_module)\n",
      "        4    0.000    0.000    0.000    0.000 msvc.py:293(target_cpu)\n",
      "        4    0.000    0.000    0.000    0.000 <frozen ntpath>:35(_get_bothseps)\n",
      "        4    0.000    0.000    0.000    0.000 <frozen ntpath>:208(split)\n",
      "        4    0.000    0.000    0.000    0.000 {built-in method _sre.unicode_tolower}\n",
      "        4    0.000    0.000    0.000    0.000 {method 'seek' of '_io.StringIO' objects}\n",
      "        4    0.000    0.000    0.000    0.000 {method '__init_subclass__' of 'object' objects}\n",
      "        4    0.000    0.000    0.000    0.000 {built-in method builtins.eval}\n",
      "        3    0.000    0.000    0.000    0.000 _header_value_parser.py:876(__new__)\n",
      "        3    0.000    0.000    0.000    0.000 _apply_pyprojecttoml.py:324(_some_attrgetter)\n",
      "        3    0.000    0.000    0.000    0.000 weakref.py:568(__init__)\n",
      "        3    0.000    0.000    0.001    0.000 copy.py:259(_reconstruct)\n",
      "        3    0.000    0.000    0.000    0.000 contextlib.py:546(__exit__)\n",
      "        3    0.000    0.000    0.000    0.000 contextlib.py:543(__enter__)\n",
      "        3    0.000    0.000    0.000    0.000 subprocess.py:259(_cleanup)\n",
      "        3    0.000    0.000    0.000    0.000 enum.py:961(_find_data_repr_)\n",
      "        3    0.000    0.000    0.000    0.000 cp1252.py:18(encode)\n",
      "        3    0.000    0.000    0.000    0.000 cp1252.py:22(decode)\n",
      "        3    0.000    0.000    0.000    0.000 contextlib.py:460(__init__)\n",
      "        3    0.000    0.000    0.000    0.000 typing.py:2402(get_origin)\n",
      "        3    0.000    0.000    0.000    0.000 _parser.py:256(getwhile)\n",
      "        3    0.000    0.000    0.000    0.000 enum.py:357(__init__)\n",
      "        3    0.000    0.000    0.001    0.000 typing.py:2839(_make_nmtuple)\n",
      "        3    0.000    0.000    0.000    0.000 subprocess.py:1120(__del__)\n",
      "        3    0.000    0.000    0.000    0.000 enum.py:1004(_find_new_)\n",
      "        3    0.000    0.000    0.000    0.000 subprocess.py:361(_text_encoding)\n",
      "        3    0.000    0.000    0.000    0.000 enum.py:481(__prepare__)\n",
      "        3    0.000    0.000    0.000    0.000 functools.py:841(_is_union_type)\n",
      "        3    0.000    0.000    0.000    0.000 subprocess.py:193(__init__)\n",
      "        3    0.000    0.000    0.000    0.000 subprocess.py:223(Detach)\n",
      "        3    0.000    0.000    0.000    0.000 subprocess.py:1430(<setcomp>)\n",
      "        3    0.000    0.000    0.000    0.000 subprocess.py:1233(poll)\n",
      "        3    0.000    0.000    0.000    0.000 typing.py:2840(<listcomp>)\n",
      "        3    0.000    0.000    0.000    0.000 copyreg.py:104(__newobj__)\n",
      "        3    0.000    0.000    0.000    0.000 typing.py:2841(<dictcomp>)\n",
      "        3    0.000    0.000    0.000    0.000 subprocess.py:481(__init__)\n",
      "        3    0.000    0.000    0.000    0.000 __init__.py:1327(getLogger)\n",
      "        3    0.000    0.000    0.001    0.000 enum.py:496(__new__)\n",
      "        3    0.000    0.000    5.472    1.824 subprocess.py:506(run)\n",
      "        3    0.001    0.000    0.001    0.000 subprocess.py:576(list2cmdline)\n",
      "        3    0.000    0.000    0.016    0.005 subprocess.py:807(__init__)\n",
      "        3    0.000    0.000    0.000    0.000 subprocess.py:1282(_close_pipe_fds)\n",
      "        3    0.000    0.000    0.000    0.000 subprocess.py:1092(__exit__)\n",
      "        3    0.000    0.000    5.456    1.819 subprocess.py:1165(communicate)\n",
      "        3    0.000    0.000    0.016    0.005 subprocess.py:1436(_execute_child)\n",
      "        3    0.000    0.000    0.000    0.000 subprocess.py:1335(_get_handles)\n",
      "        3    0.000    0.000    0.000    0.000 typing.py:1796(__class_getitem__)\n",
      "        3    0.000    0.000    0.001    0.000 typing.py:2858(__new__)\n",
      "        3    0.000    0.000    0.000    0.000 platform.py:825(uname)\n",
      "        3    0.000    0.000    0.000    0.000 platform.py:1002(_sys_version)\n",
      "        3    0.000    0.000    0.000    0.000 subprocess.py:1089(__enter__)\n",
      "        3    0.000    0.000    5.473    1.824 subprocess.py:417(check_output)\n",
      "        3    0.000    0.000    0.000    0.000 weakref.py:495(popitem)\n",
      "        3    0.000    0.000    0.000    0.000 typing.py:2876(<listcomp>)\n",
      "        3    0.000    0.000    0.000    0.000 typing.py:2922(_namedtuple_mro_entries)\n",
      "        3    0.000    0.000    0.000    0.000 subprocess.py:1423(_filter_handle_list)\n",
      "        3    0.000    0.000    0.000    0.000 platform.py:1106(python_implementation)\n",
      "        3    0.000    0.000    0.000    0.000 weakref.py:592(detach)\n",
      "        3    0.000    0.000    0.000    0.000 __init__.py:1447(__init__)\n",
      "        3    0.000    0.000    0.000    0.000 inspect.py:2773(__str__)\n",
      "        3    0.000    0.000    0.000    0.000 __init__.py:1378(_fixupParents)\n",
      "        3    0.000    0.000    0.000    0.000 dataclasses.py:449(_field_init)\n",
      "        3    0.000    0.000    0.001    0.000 tempfile.py:344(mkdtemp)\n",
      "        3    0.000    0.000    0.000    0.000 tempfile.py:85(_infer_return_type)\n",
      "        3    0.000    0.000    0.000    0.000 __init__.py:228(_acquireLock)\n",
      "        3    0.000    0.000    0.000    0.000 __init__.py:237(_releaseLock)\n",
      "        3    0.000    0.000    0.000    0.000 __init__.py:202(_checkLevel)\n",
      "        3    0.000    0.000    0.000    0.000 __init__.py:1273(append)\n",
      "        3    0.000    0.000    0.000    0.000 inspect.py:378(isfunction)\n",
      "        3    0.000    0.000    0.000    0.000 __init__.py:795(__init__)\n",
      "        3    0.000    0.000    0.000    0.000 inspect.py:1947(_signature_get_user_defined_method)\n",
      "        3    0.000    0.000    0.000    0.000 inspect.py:729(getmro)\n",
      "        3    0.000    0.000    0.000    0.000 inspect.py:2743(default)\n",
      "        3    0.000    0.000    0.000    0.000 tempfile.py:114(_sanitize_params)\n",
      "        3    0.000    0.000    0.000    0.000 tempfile.py:229(_get_candidate_names)\n",
      "        3    0.000    0.000    0.000    0.000 tempfile.py:285(_gettempdir)\n",
      "        3    0.000    0.000    0.000    0.000 shutil.py:1508(<genexpr>)\n",
      "        3    0.000    0.000    0.001    0.000 tempfile.py:852(__init__)\n",
      "        3    0.000    0.000    0.003    0.001 tempfile.py:906(cleanup)\n",
      "        3    0.000    0.000    0.000    0.000 shutil.py:579(_rmtree_islink)\n",
      "        3    0.000    0.000    0.000    0.000 tempfile.py:900(__enter__)\n",
      "        3    0.000    0.000    0.000    0.000 tempfile.py:297(gettempdir)\n",
      "        3    0.000    0.000    0.002    0.001 tempfile.py:861(_rmtree)\n",
      "        3    0.000    0.000    0.003    0.001 tempfile.py:903(__exit__)\n",
      "        3    0.000    0.000    0.000    0.000 tempfile.py:897(__repr__)\n",
      "        3    0.000    0.000    0.000    0.000 dataclasses.py:509(_init_param)\n",
      "        3    0.000    0.000    0.000    0.000 dataclasses.py:723(_get_field)\n",
      "        3    0.000    0.000    0.002    0.001 shutil.py:690(rmtree)\n",
      "        3    0.000    0.000    0.002    0.001 shutil.py:598(_rmtree_unsafe)\n",
      "        3    0.000    0.000    0.001    0.000 dataclasses.py:413(_create_fn)\n",
      "        3    0.000    0.000    0.002    0.001 __init__.py:827(__init__)\n",
      "        3    0.000    0.000    0.000    0.000 dataclasses.py:646(_is_classvar)\n",
      "        3    0.000    0.000    0.000    0.000 dataclasses.py:437(_field_assign)\n",
      "        3    0.000    0.000    0.000    0.000 dataclasses.py:287(__init__)\n",
      "        3    0.000    0.000    0.000    0.000 dataclasses.py:368(field)\n",
      "        3    0.000    0.000    0.000    0.000 dataclasses.py:660(_is_kw_only)\n",
      "        3    0.000    0.000    0.000    0.000 dataclasses.py:654(_is_initvar)\n",
      "        3    0.000    0.000    0.002    0.001 __init__.py:798(children)\n",
      "        3    0.000    0.000    0.000    0.000 message.py:615(get_content_maintype)\n",
      "        3    0.000    0.000    0.002    0.001 __init__.py:821(lookup)\n",
      "        3    0.000    0.000    5.711    1.904 compiler.py:330(compile_using_nvcc)\n",
      "        3    0.000    0.000    5.711    1.904 compiler.py:418(_preprocess)\n",
      "        3    0.000    0.000    5.703    1.901 compiler.py:45(_run_cc)\n",
      "        3    0.000    0.000    0.000    0.000 _environment.py:79(get_nvcc_path)\n",
      "        3    0.000    0.000    0.000    0.000 std.py:1144(__del__)\n",
      "        3    0.000    0.000    0.000    0.000 monkey.py:36(get_unpatched)\n",
      "        3    0.000    0.000    0.000    0.000 monkey.py:47(get_unpatched_class)\n",
      "        3    0.000    0.000    0.000    0.000 monkey.py:22(_get_mro)\n",
      "        3    0.000    0.000    0.000    0.000 msvc.py:707(_as_float_version)\n",
      "        3    0.000    0.000    0.000    0.000 msvc.py:1144(vs_ver)\n",
      "        3    0.000    0.000    0.000    0.000 <frozen ntpath>:242(basename)\n",
      "        3    0.000    0.000    0.000    0.000 <frozen _collections_abc>:933(clear)\n",
      "        3    0.000    0.000    0.000    0.000 <frozen os>:682(__setitem__)\n",
      "        3    0.000    0.000    0.000    0.000 <frozen _collections_abc>:786(keys)\n",
      "        3    0.000    0.000    0.000    0.000 <frozen codecs>:186(__init__)\n",
      "        3    0.000    0.000    0.000    0.000 <frozen _collections_abc>:794(values)\n",
      "        3    0.000    0.000    0.000    0.000 {built-in method _codecs.charmap_encode}\n",
      "        3    0.000    0.000    0.000    0.000 {built-in method _codecs.charmap_decode}\n",
      "        3    0.000    0.000    0.000    0.000 {built-in method _locale.getencoding}\n",
      "        3    0.000    0.000    0.000    0.000 {built-in method _stat.S_ISLNK}\n",
      "        3    0.000    0.000    0.000    0.000 {built-in method atexit.register}\n",
      "        3    0.000    0.000    0.000    0.000 {method '__exit__' of 'nt.ScandirIterator' objects}\n",
      "        3    0.000    0.000    0.000    0.000 {built-in method nt.lstat}\n",
      "        3    0.001    0.000    0.001    0.000 {built-in method nt.mkdir}\n",
      "        3    0.000    0.000    0.000    0.000 {built-in method nt.rmdir}\n",
      "        3    0.000    0.000    0.000    0.000 {built-in method nt.putenv}\n",
      "        3    0.000    0.000    0.000    0.000 {built-in method nt.scandir}\n",
      "        3    0.000    0.000    0.000    0.000 {method '__exit__' of '_thread.RLock' objects}\n",
      "        3    0.000    0.000    0.000    0.000 {method 'write' of '_io.StringIO' objects}\n",
      "        3    0.000    0.000    0.000    0.000 {method 'write' of '_io.TextIOWrapper' objects}\n",
      "        3    0.000    0.000    0.000    0.000 {built-in method _winapi.CreatePipe}\n",
      "        3    0.014    0.005    0.014    0.005 {built-in method _winapi.CreateProcess}\n",
      "        3    0.000    0.000    0.000    0.000 {built-in method _winapi.GetExitCodeProcess}\n",
      "        3    0.000    0.000    0.000    0.000 {built-in method _winapi.GetStdHandle}\n",
      "        3    0.001    0.000    0.001    0.000 {built-in method _winapi.WaitForSingleObject}\n",
      "        3    0.000    0.000    0.000    0.000 {method 'decode' of 'bytes' objects}\n",
      "        3    0.000    0.000    0.000    0.000 {method 'popitem' of 'dict' objects}\n",
      "        3    0.000    0.000    0.000    0.000 {method '__reduce_ex__' of 'object' objects}\n",
      "        3    0.000    0.000    0.000    0.000 {method 'splitlines' of 'str' objects}\n",
      "        3    0.000    0.000    0.000    0.000 {built-in method msvcrt.open_osfhandle}\n",
      "        3    0.000    0.000    0.000    0.000 {built-in method sys.exc_info}\n",
      "        2    0.000    0.000    0.000    0.000 errors.py:1(<module>)\n",
      "        2    0.000    0.000    0.000    0.000 __init__.py:15(_deprecation_notice)\n",
      "        2    0.000    0.000    0.000    0.000 msvc.py:742(VCInstallDir)\n",
      "        2    0.000    0.000    0.001    0.000 extension.py:1(<module>)\n",
      "        2    0.000    0.000    0.000    0.000 typing.py:2561(overload)\n",
      "        2    0.000    0.000    0.000    0.000 functools.py:861(<lambda>)\n",
      "        2    0.000    0.000    0.000    0.000 typing.py:1817(<genexpr>)\n",
      "        2    0.000    0.000    0.000    0.000 _parser.py:160(__delitem__)\n",
      "        2    0.000    0.000    0.000    0.000 functools.py:800(singledispatch)\n",
      "        2    0.000    0.000    0.000    0.000 random.py:128(seed)\n",
      "        2    0.000    0.000    0.000    0.000 typing.py:2246(cast)\n",
      "        2    0.000    0.000    0.000    0.000 platform.py:914(system)\n",
      "        2    0.000    0.000    0.000    0.000 weakref.py:367(__init__)\n",
      "        2    0.000    0.000    0.000    0.000 random.py:119(__init__)\n",
      "      2/1    0.000    0.000    0.000    0.000 inspect.py:2428(_signature_from_callable)\n",
      "        2    0.000    0.000    0.000    0.000 inspect.py:2972(__init__)\n",
      "        2    0.000    0.000    0.000    0.000 inspect.py:735(unwrap)\n",
      "        2    0.000    0.000    0.000    0.000 inspect.py:755(_is_wrapper)\n",
      "        2    0.000    0.000    0.000    0.000 inspect.py:3036(return_annotation)\n",
      "        2    0.000    0.000    0.000    0.000 dataclasses.py:410(<listcomp>)\n",
      "        2    0.000    0.000    0.000    0.000 __init__.py:386(__getattr__)\n",
      "        2    0.000    0.000    0.000    0.000 dataclasses.py:401(_tuple_str)\n",
      "        2    0.000    0.000    0.000    0.000 __init__.py:393(__getitem__)\n",
      "        2    0.000    0.000    0.000    0.000 utils.py:51(_has_surrogates)\n",
      "        2    0.000    0.000    0.000    0.000 __init__.py:581(<genexpr>)\n",
      "        2    0.000    0.000    0.001    0.000 feedparser.py:218(_parsegen)\n",
      "        2    0.000    0.000    0.000    0.000 iostream.py:610(write)\n",
      "        2    0.000    0.000    0.000    0.000 feedparser.py:125(__iter__)\n",
      "        2    0.000    0.000    0.000    0.000 feedparser.py:122(pushlines)\n",
      "        2    0.000    0.000    0.001    0.000 feedparser.py:178(_call_parse)\n",
      "        2    0.000    0.000    0.000    0.000 iostream.py:532(_schedule_flush)\n",
      "        2    0.000    0.000    0.000    0.000 iostream.py:505(_is_master_process)\n",
      "        2    0.000    0.000    0.000    0.000 pomdp.py:402(<genexpr>)\n",
      "        2    0.000    0.000    0.003    0.001 util.py:1(<module>)\n",
      "        2    0.000    0.000    0.007    0.004 version.py:1(<module>)\n",
      "        2    0.000    0.000    0.014    0.007 context.py:1(<module>)\n",
      "        2    0.000    0.000    0.141    0.071 dist.py:1(<module>)\n",
      "        2    0.000    0.000    0.000    0.000 msvc.py:419(visualstudio)\n",
      "        2    0.000    0.000    0.000    0.000 msvc.py:431(sxs)\n",
      "        2    0.000    0.000    0.000    0.000 msvc.py:760(_guess_vc)\n",
      "        2    0.000    0.000    0.000    0.000 <frozen codecs>:309(__init__)\n",
      "        2    0.000    0.000    0.000    0.000 <frozen os>:773(getenv)\n",
      "        2    0.000    0.000    0.000    0.000 <frozen codecs>:319(decode)\n",
      "        2    0.000    0.000    0.000    0.000 {built-in method _codecs.utf_8_decode}\n",
      "        2    0.000    0.000    0.000    0.000 {method 'extend' of 'collections.deque' objects}\n",
      "        2    0.000    0.000    0.000    0.000 {method 'cache_clear' of 'functools._lru_cache_wrapper' objects}\n",
      "        2    0.000    0.000    0.000    0.000 {function Random.seed at 0x000001399E74D8A0}\n",
      "        2    0.000    0.000    0.000    0.000 {method 'end' of 're.Match' objects}\n",
      "        2    0.000    0.000    0.000    0.000 {method 'read' of '_io.StringIO' objects}\n",
      "        2    0.000    0.000    0.000    0.000 {method 'truncate' of '_io.StringIO' objects}\n",
      "        2    0.000    0.000    0.000    0.000 {method 'readlines' of '_io._IOBase' objects}\n",
      "        2    0.000    0.000    0.000    0.000 {built-in method io.text_encoding}\n",
      "        2    0.000    0.000    0.000    0.000 {method 'index' of 'tuple' objects}\n",
      "        2    0.000    0.000    0.000    0.000 {built-in method builtins.globals}\n",
      "        2    0.000    0.000    0.000    0.000 {built-in method sys.getrecursionlimit}\n",
      "        1    0.000    0.000    0.003    0.003 more.py:1(<module>)\n",
      "        1    0.000    0.000    0.016    0.016 _apply_pyprojecttoml.py:1(<module>)\n",
      "        1    0.000    0.000    0.000    0.000 discovery.py:76(_Filter)\n",
      "        1    0.000    0.000    0.000    0.000 more.py:233(peekable)\n",
      "        1    0.000    0.000    0.000    0.000 more.py:2562(seekable)\n",
      "        1    0.000    0.000    0.000    0.000 more.py:2702(run_length)\n",
      "        1    0.000    0.000    0.000    0.000 _parser.py:13(Node)\n",
      "        1    0.000    0.000    0.000    0.000 markers.py:193(Marker)\n",
      "        1    0.000    0.000    0.000    0.000 dist.py:992(DistDeprecationWarning)\n",
      "        1    0.000    0.000    0.000    0.000 markers.py:40(UndefinedComparison)\n",
      "        1    0.000    0.000    0.000    0.000 markers.py:34(InvalidMarker)\n",
      "        1    0.000    0.000    0.000    0.000 markers.py:46(UndefinedEnvironmentName)\n",
      "        1    0.000    0.000    0.000    0.000 more.py:3395(AbortThread)\n",
      "        1    0.000    0.000    0.000    0.000 <string>:1(__create_fn__)\n",
      "        1    0.000    0.000    0.000    0.000 specifiers.py:40(InvalidSpecifier)\n",
      "        1    0.000    0.000    0.000    0.000 <string>:1(<module>)\n",
      "        1    0.000    0.000    0.000    0.000 utils.py:21(InvalidSdistFilename)\n",
      "        1    0.000    0.000    0.000    0.000 utils.py:15(InvalidWheelFilename)\n",
      "        1    0.000    0.000    0.000    0.000 errors.py:42(PackageDiscoveryError)\n",
      "        1    0.000    0.000    0.000    0.000 errors.py:32(RemovedCommandError)\n",
      "        1    0.000    0.000    0.000    0.000 more.py:850(bucket)\n",
      "        1    0.000    0.000    0.000    0.000 more.py:2267(islice_extended)\n",
      "        1    0.000    0.000    0.000    0.000 more.py:2517(SequenceView)\n",
      "        1    0.000    0.000    0.000    0.000 _tokenizer.py:9(Token)\n",
      "        1    0.000    0.000    0.000    0.000 more.py:1481(UnequalIterablesError)\n",
      "        1    0.000    0.000    0.000    0.000 more.py:3071(time_limited)\n",
      "        1    0.000    0.000    0.000    0.000 more.py:3795(countable)\n",
      "        1    0.000    0.000    0.000    0.000 _parser.py:27(Variable)\n",
      "        1    0.000    0.000    0.000    0.000 _parser.py:32(Value)\n",
      "        1    0.000    0.000    0.000    0.000 _parser.py:37(Op)\n",
      "        1    0.000    0.000    0.000    0.000 ordered_set.py:42(OrderedSet)\n",
      "        1    0.000    0.000    0.000    0.000 tags.py:43(Tag)\n",
      "        1    0.000    0.000    0.000    0.000 _tokenizer.py:16(ParserSyntaxError)\n",
      "        1    0.000    0.000    0.000    0.000 __init__.py:428(Stripper)\n",
      "        1    0.000    0.000    0.000    0.000 more.py:1888(numeric_range)\n",
      "        1    0.000    0.000    0.000    0.000 ordered_set.py:1(<module>)\n",
      "        1    0.000    0.000    0.000    0.000 requirements.py:1(<module>)\n",
      "        1    0.000    0.000    0.000    0.000 setupcfg.py:518(ConfigMetadataHandler)\n",
      "        1    0.000    0.000    0.000    0.000 expand.py:433(LazyMappingProxy)\n",
      "        1    0.000    0.000    0.000    0.000 _elffile.py:39(ELFFile)\n",
      "        1    0.000    0.000    0.000    0.000 __init__.py:37(FoldedCase)\n",
      "        1    0.000    0.000    0.000    0.000 expand.py:395(EnsurePackagesDiscovered)\n",
      "        1    0.000    0.000    0.000    0.000 _path.py:1(<module>)\n",
      "        1    0.000    0.000    0.000    0.000 headerregistry.py:156(BaseHeader)\n",
      "        1    0.000    0.000    0.000    0.000 headerregistry.py:276(DateHeader)\n",
      "        1    0.000    0.000    0.000    0.000 headerregistry.py:504(ContentTransferEncodingHeader)\n",
      "        1    0.000    0.000    0.000    0.000 functools.py:191(_special_method_cache)\n",
      "        1    0.000    0.000    0.000    0.000 functools.py:320(Throttler)\n",
      "        1    0.000    0.000    0.000    0.000 functools.py:423(pass_none)\n",
      "        1    0.000    0.000    0.000    0.000 context.py:218(passes)\n",
      "        1    0.000    0.000    0.000    0.000 warnings.py:1(<module>)\n",
      "        1    0.000    0.000    0.000    0.000 expand.py:63(StaticModule)\n",
      "        1    0.000    0.000    0.000    0.000 __init__.py:252(WordSet)\n",
      "        1    0.000    0.000    0.000    0.000 setupcfg.py:609(ConfigOptionsHandler)\n",
      "        1    0.000    0.000    0.000    0.000 _header_value_parser.py:115(TokenList)\n",
      "        1    0.000    0.000    0.002    0.002 msvc.py:605(__init__)\n",
      "        1    0.000    0.000    0.000    0.000 context.py:251(on_interrupt)\n",
      "        1    0.000    0.000    0.001    0.001 _elffile.py:1(<module>)\n",
      "        1    0.000    0.000    0.000    0.000 warnings.py:20(SetuptoolsWarning)\n",
      "        1    0.000    0.000    0.000    0.000 ccompiler.py:1(<module>)\n",
      "        1    0.000    0.000    0.000    0.000 _manylinux.py:69(_GLibCVersion)\n",
      "        1    0.000    0.000    0.000    0.000 _elffile.py:31(EMachine)\n",
      "        1    0.000    0.000    0.000    0.000 _musllinux.py:16(_MuslVersion)\n",
      "        1    0.000    0.000    0.000    0.000 __init__.py:407(SeparatedValues)\n",
      "        1    0.000    0.000    0.000    0.000 __init__.py:229(Splitter)\n",
      "        1    0.000    0.000    0.000    0.000 extension.py:30(Extension)\n",
      "        1    0.000    0.000    0.000    0.000 _itertools.py:1(<module>)\n",
      "        1    0.000    0.000    0.000    0.000 _elffile.py:21(EIClass)\n",
      "        1    0.000    0.000    0.000    0.000 _elffile.py:17(ELFInvalid)\n",
      "        1    0.000    0.000    0.000    0.000 _elffile.py:26(EIData)\n",
      "        1    0.000    0.000    0.000    0.000 context.py:163(__init__)\n",
      "        1    0.000    0.000    0.000    0.000 context.py:240(suppress)\n",
      "        1    0.000    0.000    0.000    0.000 warnings.py:84(InformationOnly)\n",
      "        1    0.000    0.000    0.000    0.000 warnings.py:94(SetuptoolsDeprecationWarning)\n",
      "        1    0.000    0.000    0.000    0.000 requirements.py:14(InvalidRequirement)\n",
      "        1    0.000    0.000    0.000    0.000 extension.py:147(Library)\n",
      "        1    0.000    0.000    0.000    0.000 bdist.py:25(ListCompat)\n",
      "        1    0.000    0.000    0.000    0.000 setupcfg.py:788(_DeprecatedConfig)\n",
      "        1    0.000    0.000    0.000    0.000 pyprojecttoml.py:437(_ExperimentalConfiguration)\n",
      "        1    0.000    0.000    0.000    0.000 bdist.py:35(bdist)\n",
      "        1    0.000    0.000    0.000    0.000 headerregistry.py:402(MIMEVersionHeader)\n",
      "        1    0.000    0.000    0.000    0.000 functools.py:101(method_cache)\n",
      "        1    0.000    0.000    0.000    0.000 context.py:127(ExceptionTrap)\n",
      "        1    0.000    0.000    0.001    0.001 bdist.py:1(<module>)\n",
      "        1    0.000    0.000    0.000    0.000 headerregistry.py:12(Address)\n",
      "        1    0.000    0.000    0.000    0.000 headerregistry.py:327(AddressHeader)\n",
      "        1    0.000    0.000    0.000    0.000 headerregistry.py:468(ContentTypeHeader)\n",
      "        1    0.000    0.000    0.000    0.000 _header_value_parser.py:385(NameAddr)\n",
      "        1    0.000    0.000    0.000    0.000 _header_value_parser.py:455(Mailbox)\n",
      "        1    0.000    0.000    0.000    0.000 _header_value_parser.py:870(Terminal)\n",
      "        1    0.000    0.000    0.000    0.000 msvc.py:375(cross_dir)\n",
      "        1    0.000    0.000    0.001    0.001 msvc.py:634(find_reg_vs_vers)\n",
      "        1    0.000    0.000    0.000    0.000 weakref.py:289(update)\n",
      "        1    0.000    0.000    0.000    0.000 inspect.py:167(get_annotations)\n",
      "        1    0.000    0.000    0.046    0.046 __init__.py:51(ensure_local_distutils)\n",
      "        1    0.000    0.000    0.005    0.005 __init__.py:99(spec_for_distutils)\n",
      "        1    0.000    0.000    0.000    0.000 typing.py:1268(__mro_entries__)\n",
      "        1    0.000    0.000    0.000    0.000 __init__.py:132(is_cpython)\n",
      "        1    0.000    0.000    0.000    0.000 __init__.py:125(exec_module)\n",
      "        1    0.000    0.000    0.000    0.000 decoder.py:332(decode)\n",
      "        1    0.000    0.000    0.046    0.046 __init__.py:68(do_override)\n",
      "        1    0.000    0.000    0.000    0.000 __init__.py:43(enabled)\n",
      "        1    0.000    0.000    0.000    0.000 __init__.py:214(insert_shim)\n",
      "        1    0.000    0.000    0.000    0.000 __init__.py:178(sub)\n",
      "        1    0.000    0.000    0.000    0.000 __init__.py:218(_remove_shim)\n",
      "        1    0.000    0.000    0.000    0.000 __init__.py:9(warn_distutils_present)\n",
      "        1    0.000    0.000    0.000    0.000 decoder.py:343(raw_decode)\n",
      "        1    0.000    0.000    0.000    0.000 __init__.py:28(clear_distutils)\n",
      "        1    0.000    0.000    0.000    0.000 typing.py:3135(__init__)\n",
      "        1    0.000    0.000    0.000    0.000 __init__.py:121(create_module)\n",
      "        1    0.000    0.000    0.000    0.000 __init__.py:120(DistutilsLoader)\n",
      "        1    0.000    0.000    0.000    0.000 __init__.py:207(__enter__)\n",
      "        1    0.000    0.000    0.000    0.000 __init__.py:210(__exit__)\n",
      "        1    0.000    0.000    0.000    0.000 typing.py:919(_is_typevar_like)\n",
      "        1    0.000    0.000    0.001    0.001 __init__.py:274(load)\n",
      "        1    0.000    0.000    0.000    0.000 copyreg.py:113(_slotnames)\n",
      "        1    0.000    0.000    0.000    0.000 threading.py:849(__init__)\n",
      "        1    0.000    0.000    0.000    0.000 threading.py:938(start)\n",
      "        1    0.000    0.000    0.000    0.000 __init__.py:299(loads)\n",
      "        1    0.000    0.000    0.000    0.000 threading.py:804(_newname)\n",
      "        1    0.000    0.000    0.000    0.000 platform.py:951(machine)\n",
      "        1    0.000    0.000    0.000    0.000 threading.py:1199(daemon)\n",
      "        1    0.000    0.000    0.000    0.000 weakref.py:104(__init__)\n",
      "        1    0.000    0.000    0.000    0.000 _weakrefset.py:37(__init__)\n",
      "        1    0.000    0.000    0.000    0.000 threading.py:1317(_make_invoke_excepthook)\n",
      "        1    0.000    0.000    0.000    0.000 threading.py:1214(daemon)\n",
      "        1    0.000    0.000    0.000    0.000 dataclasses.py:528(_init_fn)\n",
      "        1    0.000    0.000    0.000    0.000 inspect.py:2039(_signature_bound_method)\n",
      "        1    0.000    0.000    0.000    0.000 inspect.py:3232(__str__)\n",
      "        1    0.000    0.000    0.000    0.000 inspect.py:2333(_signature_from_function)\n",
      "        1    0.000    0.000    0.000    0.000 pathlib.py:484(_parse_args)\n",
      "        1    0.000    0.000    0.000    0.000 inspect.py:2077(_signature_is_functionlike)\n",
      "        1    0.000    0.000    0.000    0.000 importstring.py:8(import_item)\n",
      "        1    0.000    0.000    0.000    0.000 pathlib.py:147(splitroot)\n",
      "        1    0.000    0.000    0.000    0.000 inspect.py:3040(replace)\n",
      "        1    0.000    0.000    0.000    0.000 inspect.py:310(ismethoddescriptor)\n",
      "        1    0.000    0.000    0.000    0.000 inspect.py:505(isbuiltin)\n",
      "        1    0.000    0.000    0.000    0.000 inspect.py:3024(from_callable)\n",
      "        1    0.000    0.000    0.000    0.000 inspect.py:3278(signature)\n",
      "        1    0.000    0.000    0.000    0.000 inspect.py:2065(_signature_is_builtin)\n",
      "        1    0.000    0.000    0.000    0.000 pathlib.py:530(_make_child)\n",
      "        1    0.000    0.000    0.000    0.000 pathlib.py:536(__str__)\n",
      "        1    0.000    0.000    0.000    0.000 shutil.py:1500(<listcomp>)\n",
      "        1    0.000    0.000    0.000    0.000 pathlib.py:515(_from_parsed_parts)\n",
      "        1    0.000    0.000    0.000    0.000 pathlib.py:1036(open)\n",
      "        1    0.000    0.000    0.000    0.000 pathlib.py:523(_format_parsed_parts)\n",
      "        1    0.000    0.000    0.000    0.000 traitlets.py:1986(_resolve_string)\n",
      "        1    0.000    0.000    0.000    0.000 pathlib.py:546(__fspath__)\n",
      "        1    0.000    0.000    0.000    0.000 pathlib.py:757(joinpath)\n",
      "        1    0.000    0.000    0.000    0.000 pathlib.py:1053(read_text)\n",
      "        1    0.000    0.000    0.000    0.000 traitlets.py:2514(validate)\n",
      "        1    0.000    0.000    0.000    0.000 pathlib.py:94(join_parsed_parts)\n",
      "        1    0.000    0.000    0.000    0.000 dataclasses.py:842(_hash_set_none)\n",
      "        1    0.000    0.000    0.000    0.000 pathlib.py:56(parse_parts)\n",
      "        1    0.000    0.000    0.005    0.005 shutil.py:1448(which)\n",
      "        1    0.000    0.000    0.002    0.002 dataclasses.py:884(_process_class)\n",
      "        1    0.000    0.000    0.000    0.000 zipfile.py:1876(close)\n",
      "        1    0.000    0.000    0.000    0.000 message.py:330(set_payload)\n",
      "        1    0.000    0.000    0.000    0.000 zipfile.py:1245(__init__)\n",
      "        1    0.000    0.000    0.000    0.000 message.py:243(get_payload)\n",
      "        1    0.000    0.000    0.000    0.000 sysconfig.py:718(get_platform)\n",
      "        1    0.000    0.000    0.000    0.000 dataclasses.py:1046(<listcomp>)\n",
      "        1    0.000    0.000    0.000    0.000 dataclasses.py:1052(<listcomp>)\n",
      "        1    0.000    0.000    0.000    0.000 dataclasses.py:228(_recursive_repr)\n",
      "        1    0.000    0.000    0.000    0.000 dataclasses.py:346(__init__)\n",
      "        1    0.000    0.000    0.000    0.000 dataclasses.py:392(_fields_in_init_order)\n",
      "        1    0.000    0.000    0.000    0.000 dataclasses.py:397(<genexpr>)\n",
      "        1    0.000    0.000    0.000    0.000 dataclasses.py:548(<dictcomp>)\n",
      "        1    0.000    0.000    0.000    0.000 dataclasses.py:624(_cmp_fn)\n",
      "        1    0.000    0.000    0.000    0.000 dataclasses.py:1017(<listcomp>)\n",
      "        1    0.000    0.000    0.000    0.000 dataclasses.py:588(_repr_fn)\n",
      "        1    0.000    0.000    0.002    0.002 dataclasses.py:1202(dataclass)\n",
      "        1    0.000    0.000    0.000    0.000 dataclasses.py:573(<listcomp>)\n",
      "        1    0.000    0.000    0.000    0.000 dataclasses.py:592(<listcomp>)\n",
      "        1    0.000    0.000    0.000    0.000 dataclasses.py:1043(<listcomp>)\n",
      "        1    0.000    0.000    0.002    0.002 dataclasses.py:1219(wrap)\n",
      "        1    0.000    0.000    0.000    0.000 zipfile.py:693(_check_compression)\n",
      "        1    0.000    0.000    0.000    0.000 __init__.py:805(zip_children)\n",
      "        1    0.000    0.000    0.003    0.003 __init__.py:549(from_name)\n",
      "        1    0.000    0.000    0.000    0.000 __init__.py:910(_search_paths)\n",
      "        1    0.000    0.000    0.000    0.000 __init__.py:870(__init__)\n",
      "        1    0.000    0.000    0.000    0.000 __init__.py:877(normalize)\n",
      "        1    0.000    0.000    0.000    0.000 message.py:150(__init__)\n",
      "        1    0.000    0.000    0.000    0.000 _adapters.py:42(_repair_headers)\n",
      "        1    0.000    0.000    0.001    0.001 __init__.py:32(message_from_string)\n",
      "        1    0.000    0.000    0.000    0.000 __init__.py:567(discover)\n",
      "        1    0.000    0.000    0.000    0.000 __init__.py:930(read_text)\n",
      "        1    0.000    0.000    0.000    0.000 __init__.py:757(path)\n",
      "        1    0.000    0.000    0.001    0.001 __init__.py:602(metadata)\n",
      "        1    0.000    0.000    0.000    0.000 __init__.py:923(__init__)\n",
      "        1    0.000    0.000    0.001    0.001 __init__.py:629(version)\n",
      "        1    0.000    0.000    0.000    0.000 _policybase.py:281(_sanitize_header)\n",
      "        1    0.000    0.000    0.000    0.000 __init__.py:594(_discover_resolvers)\n",
      "        1    0.000    0.000    0.000    0.000 __init__.py:754(__init__)\n",
      "        1    0.000    0.000    0.000    0.000 __init__.py:884(legacy_normalize)\n",
      "        1    0.000    0.000    0.000    0.000 zipfile.py:2390(__init__)\n",
      "        1    0.000    0.000    0.003    0.003 __init__.py:975(distribution)\n",
      "        1    0.000    0.000    0.004    0.004 __init__.py:1001(version)\n",
      "        1    0.000    0.000    0.000    0.000 _adapters.py:35(__init__)\n",
      "        1    0.000    0.000    0.000    0.000 zipfile.py:1872(__del__)\n",
      "        1    0.000    0.000    0.000    0.000 _adapters.py:49(<listcomp>)\n",
      "        1    0.000    0.000    0.000    0.000 message.py:211(is_multipart)\n",
      "        1    0.000    0.000    0.000    0.000 message.py:409(__getitem__)\n",
      "        1    0.000    0.000    0.000    0.000 __init__.py:897(find_distributions)\n",
      "        1    0.000    0.000    0.000    0.000 _adapters.py:30(__new__)\n",
      "        1    0.000    0.000    0.000    0.000 zipfile.py:2266(make)\n",
      "        1    0.000    0.000    0.000    0.000 _policybase.py:311(header_fetch_parse)\n",
      "        1    0.000    0.000    0.000    0.000 feedparser.py:197(_new_message)\n",
      "        1    0.000    0.000    0.000    0.000 pstats.py:118(init)\n",
      "        1    0.000    0.000    0.000    0.000 pstats.py:137(load_stats)\n",
      "        1    0.000    0.000    0.000    0.000 feedparser.py:471(_parse_headers)\n",
      "        1    0.000    0.000    0.000    0.000 feedparser.py:101(push)\n",
      "        1    0.000    0.000    0.000    0.000 feedparser.py:139(__init__)\n",
      "        1    0.000    0.000    0.000    0.000 feedparser.py:184(close)\n",
      "        1    0.064    0.064    8.496    8.496 pomdp.py:1030(solve)\n",
      "        1    0.000    0.000    0.000    0.000 feedparser.py:70(close)\n",
      "        1    0.000    0.000    0.000    0.000 pstats.py:108(__init__)\n",
      "        1    0.000    0.000    0.000    0.000 cProfile.py:51(create_stats)\n",
      "        1    0.000    0.000    0.001    0.001 parser.py:41(parse)\n",
      "        1    0.000    0.000    0.001    0.001 feedparser.py:173(feed)\n",
      "        1    0.000    0.000    0.000    0.000 feedparser.py:53(__init__)\n",
      "        1    0.000    0.000    0.000    0.000 feedparser.py:210(_pop_message)\n",
      "        1    0.000    0.000    0.000    0.000 parser.py:17(__init__)\n",
      "        1    0.000    0.000    0.001    0.001 parser.py:59(parsestr)\n",
      "        1    0.000    0.000    0.001    0.001 _monitor.py:30(__init__)\n",
      "        1    0.000    0.000    0.229    0.229 compiler.py:92(_get_extra_path_for_msvc)\n",
      "        1    0.000    0.000    0.000    0.000 _generator.py:779(seed)\n",
      "        1    0.000    0.000    0.000    0.000 zmqshell.py:68(_default_thread_local)\n",
      "        1    0.000    0.000    0.000    0.000 pomdp.py:409(<listcomp>)\n",
      "        1    0.000    0.000    0.000    0.000 pomdp.py:565(__init__)\n",
      "        1    0.000    0.000    0.024    0.024 std.py:89(__init__)\n",
      "        1    0.000    0.000    0.024    0.024 std.py:115(create_mp_lock)\n",
      "        1    0.000    0.000    0.000    0.000 std.py:97(<listcomp>)\n",
      "        1    0.000    0.000    0.000    0.000 context.py:30(BaseContext)\n",
      "        1    0.000    0.000    0.000    0.000 synchronize.py:50(__init__)\n",
      "        1    0.000    0.000    0.004    0.004 configparser.py:570(RawConfigParser)\n",
      "        1    0.000    0.000    0.006    0.006 configparser.py:1(<module>)\n",
      "        1    0.000    0.000    0.000    0.000 specifiers.py:107(Specifier)\n",
      "        1    0.000    0.000    0.000    0.000 pyprojecttoml.py:159(_ConfigExpander)\n",
      "        1    0.000    0.000    0.002    0.002 expand.py:1(<module>)\n",
      "        1    0.000    0.000    0.000    0.000 setupcfg.py:229(ConfigHandler)\n",
      "        1    0.000    0.000    0.003    0.003 _normalization.py:1(<module>)\n",
      "        1    0.000    0.000    0.012    0.012 _entry_points.py:1(<module>)\n",
      "        1    0.000    0.000    0.000    0.000 process.py:71(BaseProcess)\n",
      "        1    0.000    0.000    0.001    0.001 _reqs.py:1(<module>)\n",
      "        1    0.000    0.000    0.000    0.000 dist.py:208(Distribution)\n",
      "        1    0.000    0.000    0.046    0.046 _generator.py:56(__init__)\n",
      "        1    0.000    0.000    0.000    0.000 mdp.py:907(__init__)\n",
      "        1    0.000    0.000    0.000    0.000 msvc.py:1111(EnvironmentInfo)\n",
      "        1    0.000    0.000    0.021    0.021 markers.py:1(<module>)\n",
      "        1    0.000    0.000    0.000    0.000 version.py:157(Version)\n",
      "        1    0.000    0.000    0.001    0.001 fancy_getopt.py:1(<module>)\n",
      "        1    0.000    0.000    0.016    0.016 _tokenizer.py:1(<module>)\n",
      "        1    0.000    0.000    0.013    0.013 specifiers.py:1(<module>)\n",
      "        1    0.000    0.000    0.000    0.000 process.py:1(<module>)\n",
      "        1    0.000    0.000    0.001    0.001 msvc.py:1238(VCTools)\n",
      "        1    0.000    0.000    0.000    0.000 discovery.py:1(<module>)\n",
      "        1    0.000    0.000    0.011    0.011 monkey.py:63(patch_all)\n",
      "        1    0.000    0.000    0.011    0.011 headerregistry.py:1(<module>)\n",
      "        1    0.000    0.000    0.002    0.002 _manylinux.py:1(<module>)\n",
      "        1    0.000    0.000    0.000    0.000 _musllinux.py:1(<module>)\n",
      "        1    0.000    0.000    0.019    0.019 _parser.py:1(<module>)\n",
      "        1    0.000    0.000    0.000    0.000 log.py:1(<module>)\n",
      "        1    0.000    0.000    0.000    0.000 process.py:399(__init__)\n",
      "        1    0.000    0.000    0.000    0.000 context.py:237(get_context)\n",
      "        1    0.000    0.000    0.000    0.000 synchronize.py:46(SemLock)\n",
      "        1    0.000    0.000    0.000    0.000 cmd.py:17(Command)\n",
      "        1    0.000    0.000    0.008    0.008 archive_util.py:1(<module>)\n",
      "        1    0.000    0.000    0.000    0.000 context.py:233(__init__)\n",
      "        1    0.000    0.000    0.000    0.000 __init__.py:22(<listcomp>)\n",
      "        1    0.000    0.000    0.000    0.000 context.py:203(reducer)\n",
      "        1    0.000    0.000    0.000    0.000 context.py:220(Process)\n",
      "        1    0.000    0.000    0.000    0.000 context.py:230(DefaultContext)\n",
      "        1    0.000    0.000    0.000    0.000 context.py:331(SpawnProcess)\n",
      "        1    0.000    0.000    0.000    0.000 process.py:364(_ParentProcess)\n",
      "        1    0.000    0.000    0.000    0.000 synchronize.py:186(__init__)\n",
      "        1    0.000    0.000    0.000    0.000 synchronize.py:321(Event)\n",
      "        1    0.000    0.000    0.000    0.000 util.py:48(debug)\n",
      "        1    0.000    0.000    0.000    0.000 util.py:182(Finalize)\n",
      "        1    0.000    0.000    0.046    0.046 override.py:1(<module>)\n",
      "        1    0.000    0.000    0.000    0.000 __init__.py:112(Command)\n",
      "        1    0.000    0.000    0.000    0.000 reduction.py:33(ForkingPickler)\n",
      "        1    0.000    0.000    0.000    0.000 reduction.py:251(AbstractReducer)\n",
      "        1    0.000    0.000    0.000    0.000 synchronize.py:114(_make_name)\n",
      "        1    0.000    0.000    0.000    0.000 fancy_getopt.py:32(FancyGetopt)\n",
      "        1    0.000    0.000    0.000    0.000 dir_util.py:1(<module>)\n",
      "        1    0.000    0.000    0.012    0.012 cmd.py:1(<module>)\n",
      "        1    0.000    0.000    0.000    0.000 synchronize.py:90(_make_methods)\n",
      "        1    0.000    0.000    0.005    0.005 context.py:70(RLock)\n",
      "        1    0.000    0.000    0.000    0.000 util.py:108(_platform_supports_abstract_sockets)\n",
      "        1    0.000    0.000    0.004    0.004 monkey.py:148(patch_params)\n",
      "        1    0.000    0.000    0.000    0.000 depends.py:163(_update_globals)\n",
      "        1    0.000    0.000    0.000    0.000 file_util.py:1(<module>)\n",
      "        1    0.000    0.000    0.000    0.000 config.py:22(PyPIRCCommand)\n",
      "        1    0.000    0.000    0.000    0.000 configparser.py:523(LegacyInterpolation)\n",
      "        1    0.000    0.000    0.000    0.000 process.py:37(current_process)\n",
      "        1    0.000    0.000    0.000    0.000 context.py:17(BufferTooShort)\n",
      "        1    0.000    0.000    0.000    0.000 context.py:23(AuthenticationError)\n",
      "        1    0.000    0.000    0.000    0.000 context.py:20(TimeoutError)\n",
      "        1    0.000    0.000    0.000    0.000 context.py:197(get_start_method)\n",
      "        1    0.000    0.000    0.000    0.000 context.py:343(SpawnContext)\n",
      "        1    0.000    0.000    0.000    0.000 process.py:349(AuthenticationString)\n",
      "        1    0.000    0.000    0.000    0.000 reduction.py:211(_C)\n",
      "        1    0.000    0.000    0.000    0.000 __init__.py:261(sic)\n",
      "        1    0.000    0.000    0.000    0.000 context.py:14(ProcessError)\n",
      "        1    0.000    0.000    0.003    0.003 synchronize.py:1(<module>)\n",
      "        1    0.000    0.000    0.000    0.000 util.py:22(get_host_platform)\n",
      "        1    0.000    0.000    0.001    0.001 msvc.py:665(find_programdata_vs_vers)\n",
      "        1    0.000    0.000    0.000    0.000 reduction.py:1(<module>)\n",
      "        1    0.000    0.000    0.000    0.000 dist.py:120(<listcomp>)\n",
      "        1    0.000    0.000    0.000    0.000 fancy_getopt.py:385(<dictcomp>)\n",
      "        1    0.000    0.000    0.000    0.000 dep_util.py:1(<module>)\n",
      "        1    0.000    0.000    0.000    0.000 _log.py:1(<module>)\n",
      "        1    0.000    0.000    0.000    0.000 process.py:397(_MainProcess)\n",
      "        1    0.000    0.000    0.000    0.000 reduction.py:104(DupHandle)\n",
      "        1    0.000    0.000    0.000    0.000 synchronize.py:123(Semaphore)\n",
      "        1    0.000    0.000    0.000    0.000 synchronize.py:142(BoundedSemaphore)\n",
      "        1    0.000    0.000    0.000    0.000 synchronize.py:159(Lock)\n",
      "        1    0.000    0.000    0.000    0.000 synchronize.py:184(RLock)\n",
      "        1    0.000    0.000    0.000    0.000 util.py:368(ForkAwareThreadLock)\n",
      "        1    0.000    0.000    0.000    0.000 util.py:385(ForkAwareLocal)\n",
      "        1    0.000    0.000    0.000    0.000 synchronize.py:210(Condition)\n",
      "        1    0.000    0.000    0.001    0.001 spawn.py:1(<module>)\n",
      "        1    0.000    0.000    0.008    0.008 config.py:1(<module>)\n",
      "        1    0.000    0.000    0.000    0.000 synchronize.py:363(Barrier)\n",
      "        1    0.000    0.000    0.000    0.000 monkey.py:115(patch_func)\n",
      "        1    0.000    0.000    0.000    0.000 _importlib.py:1(<module>)\n",
      "        1    0.000    0.000    0.000    0.000 version.py:65(_BaseVersion)\n",
      "        1    0.000    0.000    0.000    0.000 _tokenizer.py:88(Tokenizer)\n",
      "        1    0.000    0.000    0.000    0.000 discovery.py:92(_Finder)\n",
      "        1    0.000    0.000    0.000    0.000 util.py:51(get_platform)\n",
      "        1    0.000    0.000    0.000    0.000 dist.py:1029(DistributionMetadata)\n",
      "        1    0.000    0.000    0.007    0.007 monkey.py:136(patch_for_msvc_specialized_compiler)\n",
      "        1    0.000    0.000    0.000    0.000 configparser.py:1256(SectionProxy)\n",
      "        1    0.000    0.000    0.004    0.004 monkey.py:101(_patch_distribution_metadata)\n",
      "        1    0.000    0.000    0.001    0.001 monkey.py:1(<module>)\n",
      "        1    0.000    0.000    0.000    0.000 _structures.py:6(InfinityType)\n",
      "        1    0.000    0.000    0.000    0.000 _structures.py:35(NegativeInfinityType)\n",
      "        1    0.000    0.000    0.040    0.040 core.py:1(<module>)\n",
      "        1    0.000    0.000    0.000    0.000 filelist.py:1(<module>)\n",
      "        1    0.000    0.000    0.010    0.010 depends.py:1(<module>)\n",
      "        1    0.000    0.000    0.000    0.000 errors.py:12(DistutilsError)\n",
      "        1    0.000    0.000    0.000    0.000 errors.py:18(DistutilsModuleError)\n",
      "        1    0.000    0.000    0.000    0.000 errors.py:25(DistutilsClassError)\n",
      "        1    0.000    0.000    0.000    0.000 errors.py:34(DistutilsGetoptError)\n",
      "        1    0.000    0.000    0.000    0.000 errors.py:40(DistutilsArgError)\n",
      "        1    0.000    0.000    0.000    0.000 errors.py:47(DistutilsFileError)\n",
      "        1    0.000    0.000    0.000    0.000 errors.py:55(DistutilsOptionError)\n",
      "        1    0.000    0.000    0.000    0.000 errors.py:66(DistutilsSetupError)\n",
      "        1    0.000    0.000    0.000    0.000 errors.py:73(DistutilsPlatformError)\n",
      "        1    0.000    0.000    0.000    0.000 errors.py:81(DistutilsExecError)\n",
      "        1    0.000    0.000    0.000    0.000 errors.py:88(DistutilsInternalError)\n",
      "        1    0.000    0.000    0.000    0.000 errors.py:95(DistutilsTemplateError)\n",
      "        1    0.000    0.000    0.000    0.000 errors.py:99(DistutilsByteCompileError)\n",
      "        1    0.000    0.000    0.000    0.000 errors.py:104(CCompilerError)\n",
      "        1    0.000    0.000    0.000    0.000 errors.py:108(PreprocessError)\n",
      "        1    0.000    0.000    0.000    0.000 errors.py:112(CompileError)\n",
      "        1    0.000    0.000    0.000    0.000 errors.py:116(LibError)\n",
      "        1    0.000    0.000    0.000    0.000 errors.py:121(LinkError)\n",
      "        1    0.000    0.000    0.000    0.000 errors.py:126(UnknownFileError)\n",
      "        1    0.000    0.000    0.002    0.002 logging.py:1(<module>)\n",
      "        1    0.000    0.000    0.000    0.000 debug.py:1(<module>)\n",
      "        1    0.000    0.000    0.000    0.000 configparser.py:377(BasicInterpolation)\n",
      "        1    0.000    0.000    0.000    0.000 configparser.py:449(ExtendedInterpolation)\n",
      "        1    0.000    0.000    0.000    0.000 configparser.py:1211(ConfigParser)\n",
      "        1    0.000    0.000    0.000    0.000 extension.py:20(Extension)\n",
      "        1    0.000    0.000    0.000    0.000 depends.py:15(Require)\n",
      "        1    0.000    0.000    0.000    0.000 dist.py:53(Distribution)\n",
      "        1    0.000    0.000    0.000    0.000 discovery.py:300(ConfigDiscovery)\n",
      "        1    0.000    0.000    0.000    0.000 fancy_getopt.py:449(OptionDummy)\n",
      "        1    0.000    0.000    0.000    0.000 configparser.py:169(Error)\n",
      "        1    0.000    0.000    0.000    0.000 configparser.py:191(DuplicateSectionError)\n",
      "        1    0.000    0.000    0.000    0.000 configparser.py:217(DuplicateOptionError)\n",
      "        1    0.000    0.000    0.000    0.000 configparser.py:1243(SafeConfigParser)\n",
      "        1    0.000    0.000    0.000    0.000 configparser.py:182(NoSectionError)\n",
      "        1    0.000    0.000    0.000    0.000 configparser.py:244(NoOptionError)\n",
      "        1    0.000    0.000    0.000    0.000 configparser.py:255(InterpolationError)\n",
      "        1    0.000    0.000    0.000    0.000 configparser.py:265(InterpolationMissingOptionError)\n",
      "        1    0.000    0.000    0.000    0.000 configparser.py:277(InterpolationSyntaxError)\n",
      "        1    0.000    0.000    0.000    0.000 configparser.py:285(InterpolationDepthError)\n",
      "        1    0.000    0.000    0.000    0.000 configparser.py:341(MissingSectionHeaderError)\n",
      "        1    0.000    0.000    0.000    0.000 version.py:55(InvalidVersion)\n",
      "        1    0.000    0.000    0.000    0.000 discovery.py:265(FlatLayoutModuleFinder)\n",
      "        1    0.000    0.000    0.000    0.000 configparser.py:361(Interpolation)\n",
      "        1    0.000    0.000    0.000    0.000 filelist.py:275(_UniqueDirs)\n",
      "        1    0.000    0.000    0.000    0.000 discovery.py:183(PEP420PackageFinder)\n",
      "        1    0.000    0.000    0.000    0.000 log.py:42(Log)\n",
      "        1    0.000    0.000    0.000    0.000 filelist.py:17(FileList)\n",
      "        1    0.000    0.000    0.000    0.000 __init__.py:11(__init__)\n",
      "        1    0.000    0.000    0.000    0.000 discovery.py:212(FlatLayoutPackageFinder)\n",
      "        1    0.000    0.000    0.000    0.000 configparser.py:298(ParsingError)\n",
      "        1    0.000    0.000    0.000    0.000 configparser.py:1326(ConverterMapping)\n",
      "        1    0.000    0.000    0.000    0.000 __init__.py:5(VendorImporter)\n",
      "        1    0.000    0.000    0.000    0.000 discovery.py:189(ModuleFinder)\n",
      "        1    0.000    0.000    0.000    0.000 _imp.py:1(<module>)\n",
      "        1    0.000    0.000    0.000    0.000 __init__.py:65(install)\n",
      "        1    0.000    0.000    0.000    0.000 _structures.py:1(<module>)\n",
      "        1    0.000    0.000    0.000    0.000 discovery.py:138(PackageFinder)\n",
      "        1    0.000    0.000    0.000    0.000 more.py:3399(callback_iter)\n",
      "        1    0.000    0.000    0.000    0.000 _parser.py:52(ParsedRequirement)\n",
      "        1    0.000    0.000    0.009    0.009 tags.py:1(<module>)\n",
      "        1    0.000    0.000    0.000    0.000 context.py:191(raises)\n",
      "        1    0.000    0.000    0.000    0.000 requirements.py:20(Requirement)\n",
      "        1    0.000    0.000    0.000    0.000 headerregistry.py:104(Group)\n",
      "        1    0.000    0.000    0.000    0.000 headerregistry.py:439(ParameterizedMIMEHeader)\n",
      "        1    0.000    0.000    0.000    0.000 headerregistry.py:490(ContentDispositionHeader)\n",
      "        1    0.000    0.000    0.000    0.000 _header_value_parser.py:224(QuotedString)\n",
      "        1    0.000    0.000    0.000    0.000 _header_value_parser.py:263(Comment)\n",
      "        1    0.000    0.000    0.000    0.000 _header_value_parser.py:289(AddressList)\n",
      "        1    0.000    0.000    0.000    0.000 _header_value_parser.py:308(Address)\n",
      "        1    0.000    0.000    0.000    0.000 _header_value_parser.py:364(Group)\n",
      "        1    0.000    0.000    0.000    0.000 _header_value_parser.py:556(DisplayName)\n",
      "        1    0.000    0.000    0.000    0.000 _header_value_parser.py:634(DomainLiteral)\n",
      "        1    0.000    0.000    0.000    0.000 _header_value_parser.py:657(Parameter)\n",
      "        1    0.000    0.000    0.002    0.002 _msvccompiler.py:1(<module>)\n",
      "        1    0.000    0.000    0.000    0.000 msvc.py:399(RegistryInfo)\n",
      "        1    0.000    0.000    0.000    0.000 msvc.py:467(vc_for_python)\n",
      "        1    0.000    0.000    0.000    0.000 setupcfg.py:768(_AmbiguousMarker)\n",
      "        1    0.000    0.000    0.000    0.000 headerregistry.py:562(HeaderRegistry)\n",
      "        1    0.000    0.000    0.000    0.000 _header_value_parser.py:251(BareQuotedString)\n",
      "        1    0.000    0.000    0.000    0.000 _header_value_parser.py:482(InvalidMailbox)\n",
      "        1    0.000    0.000    0.000    0.000 _header_value_parser.py:493(Domain)\n",
      "        1    0.000    0.000    0.000    0.000 _header_value_parser.py:721(MimeParameters)\n",
      "        1    0.000    0.000    0.000    0.000 _header_value_parser.py:913(WhiteSpaceTerminal)\n",
      "        1    0.000    0.000    0.000    0.000 _header_value_parser.py:923(ValueTerminal)\n",
      "        1    0.000    0.000    0.000    0.000 _header_value_parser.py:933(EWWhiteSpaceTerminal)\n",
      "        1    0.000    0.000    0.000    0.000 msvc.py:443(vc)\n",
      "        1    0.000    0.000    0.000    0.000 msvc.py:455(vs)\n",
      "        1    0.000    0.000    0.001    0.001 msvc.py:614(_find_latest_available_vs_ver)\n",
      "        1    0.000    0.000    0.002    0.002 msvc.py:1135(__init__)\n",
      "        1    0.000    0.000    0.000    0.000 pyprojecttoml.py:397(_EnsurePackagesDiscovered)\n",
      "        1    0.000    0.000    0.000    0.000 headerregistry.py:260(UnstructuredHeader)\n",
      "        1    0.000    0.000    0.000    0.000 headerregistry.py:525(MessageIDHeader)\n",
      "        1    0.000    0.000    0.000    0.000 _header_value_parser.py:182(WhiteSpaceTokenList)\n",
      "        1    0.000    0.000    0.000    0.000 _header_value_parser.py:333(MailboxList)\n",
      "        1    0.000    0.000    0.000    0.000 _header_value_parser.py:347(GroupList)\n",
      "        1    0.000    0.000    0.000    0.000 _header_value_parser.py:598(LocalPart)\n",
      "        1    0.000    0.000    0.000    0.000 _apply_pyprojecttoml.py:391(_WouldIgnoreField)\n",
      "        1    0.000    0.000    0.000    0.000 headerregistry.py:387(SingleAddressHeader)\n",
      "        1    0.000    0.000    0.000    0.000 _header_value_parser.py:217(EncodedWord)\n",
      "        1    0.000    0.000    0.000    0.000 _header_value_parser.py:446(ObsRoute)\n",
      "        1    0.000    0.000    0.000    0.000 _header_value_parser.py:650(MIMEVersion)\n",
      "        1    0.000    0.000    0.000    0.000 _header_value_parser.py:690(Attribute)\n",
      "        1    0.000    0.000    0.000    0.000 _header_value_parser.py:706(Value)\n",
      "        1    0.000    0.000    0.000    0.000 _header_value_parser.py:807(ParameterizedHeaderValue)\n",
      "        1    0.000    0.000    0.000    0.000 _header_value_parser.py:821(ContentType)\n",
      "        1    0.000    0.000    0.000    0.000 _header_value_parser.py:828(ContentDisposition)\n",
      "        1    0.000    0.000    0.000    0.000 _header_value_parser.py:834(ContentTransferEncoding)\n",
      "        1    0.000    0.000    0.000    0.000 _header_value_parser.py:845(MsgID)\n",
      "        1    0.000    0.000    0.000    0.000 headerregistry.py:271(UniqueUnstructuredHeader)\n",
      "        1    0.000    0.000    0.000    0.000 headerregistry.py:322(UniqueDateHeader)\n",
      "        1    0.000    0.000    0.000    0.000 headerregistry.py:382(UniqueAddressHeader)\n",
      "        1    0.000    0.000    0.000    0.000 headerregistry.py:397(UniqueSingleAddressHeader)\n",
      "        1    0.000    0.000    0.000    0.000 _header_value_parser.py:193(UnstructuredTokenList)\n",
      "        1    0.000    0.000    0.000    0.000 _header_value_parser.py:197(Phrase)\n",
      "        1    0.000    0.000    0.000    0.000 _header_value_parser.py:200(Word)\n",
      "        1    0.000    0.000    0.000    0.000 _header_value_parser.py:204(CFWSList)\n",
      "        1    0.000    0.000    0.000    0.000 _header_value_parser.py:208(Atom)\n",
      "        1    0.000    0.000    0.000    0.000 _header_value_parser.py:212(Token)\n",
      "        1    0.000    0.000    0.000    0.000 _header_value_parser.py:503(DotAtom)\n",
      "        1    0.000    0.000    0.000    0.000 _header_value_parser.py:507(DotAtomText)\n",
      "        1    0.000    0.000    0.000    0.000 _header_value_parser.py:512(NoFoldLiteral)\n",
      "        1    0.000    0.000    0.000    0.000 _header_value_parser.py:550(ObsLocalPart)\n",
      "        1    0.000    0.000    0.000    0.000 _header_value_parser.py:685(InvalidParameter)\n",
      "        1    0.000    0.000    0.000    0.000 _header_value_parser.py:700(Section)\n",
      "        1    0.000    0.000    0.000    0.000 _header_value_parser.py:840(HeaderLabel)\n",
      "        1    0.000    0.000    0.000    0.000 _header_value_parser.py:854(MessageID)\n",
      "        1    0.000    0.000    0.000    0.000 _header_value_parser.py:858(InvalidMessageID)\n",
      "        1    0.000    0.000    0.000    0.000 _header_value_parser.py:862(Header)\n",
      "        1    0.000    0.000    0.000    0.000 _header_value_parser.py:943(_InvalidEwError)\n",
      "        1    0.000    0.000    0.000    0.000 _header_value_parser.py:412(AngleAddr)\n",
      "        1    0.000    0.000    0.000    0.000 _header_value_parser.py:517(AddrSpec)\n",
      "        1    0.000    0.000    0.000    0.000 msvc.py:351(target_dir)\n",
      "        1    0.000    0.000    0.000    0.000 msvc.py:278(PlatformInfo)\n",
      "        1    0.000    0.000    0.000    0.000 msvc.py:416(__init__)\n",
      "        1    0.000    0.000    0.000    0.000 msvc.py:290(__init__)\n",
      "        1    0.000    0.000    0.000    0.000 msvc.py:1156(vc_ver)\n",
      "        1    0.000    0.000    0.005    0.005 _header_value_parser.py:1(<module>)\n",
      "        1    0.000    0.000    0.000    0.000 msvc.py:587(SystemInfo)\n",
      "        1    0.000    0.000    0.010    0.010 utils.py:1(<module>)\n",
      "        1    0.000    0.000    0.019    0.019 pyprojecttoml.py:1(<module>)\n",
      "        1    0.000    0.000    0.000    0.000 recipes.py:1(<module>)\n",
      "        1    0.000    0.000    0.000    0.000 specifiers.py:681(SpecifierSet)\n",
      "        1    0.000    0.000    0.000    0.000 specifiers.py:52(BaseSpecifier)\n",
      "        1    0.000    0.000    0.000    0.000 msvc.py:1(<module>)\n",
      "        1    0.002    0.002    0.002    0.002 _core_metadata.py:1(<module>)\n",
      "        1    0.000    0.000    0.000    0.000 functools.py:1(<module>)\n",
      "        1    0.000    0.000    0.000    0.000 _msvccompiler.py:192(MSVCCompiler)\n",
      "        1    0.000    0.000    0.005    0.005 setupcfg.py:1(<module>)\n",
      "        1    0.000    0.000    0.000    0.000 ccompiler.py:26(CCompiler)\n",
      "        1    0.046    0.046    0.046    0.046 {built-in method cupy_backends.cuda.libs.curand.createGenerator}\n",
      "        1    0.000    0.000    0.000    0.000 {built-in method cupy_backends.cuda.libs.curand.setPseudoRandomGeneratorSeed}\n",
      "        1    0.000    0.000    0.000    0.000 {built-in method cupy_backends.cuda.libs.curand.setGeneratorOffset}\n",
      "        1    0.000    0.000    0.000    0.000 <frozen genericpath>:27(isfile)\n",
      "        1    0.000    0.000    0.000    0.000 <frozen os>:1081(__subclasshook__)\n",
      "        1    0.000    0.000    0.000    0.000 <frozen io>:60(__getattr__)\n",
      "        1    0.000    0.000    0.000    0.000 <frozen _collections_abc>:78(_check_methods)\n",
      "        1    0.000    0.000    0.000    0.000 <frozen importlib._bootstrap_external>:1536(find_distributions)\n",
      "        1    0.000    0.000    0.000    0.000 <frozen ntpath>:249(dirname)\n",
      "        1    0.000    0.000    0.000    0.000 <frozen importlib._bootstrap_external>:1220(__init__)\n",
      "        1    0.000    0.000    0.001    0.001 <frozen importlib._bootstrap_external>:1231(create_module)\n",
      "        1    0.000    0.000    0.000    0.000 <frozen ntpath>:570(abspath)\n",
      "        1    0.000    0.000    0.000    0.000 <frozen importlib._bootstrap_external>:1239(exec_module)\n",
      "        1    0.000    0.000    0.000    0.000 <frozen ntpath>:538(normpath)\n",
      "        1    0.000    0.000    0.000    0.000 <frozen abc>:146(update_abstractmethods)\n",
      "        1    0.000    0.000    0.000    0.000 {built-in method binascii.hexlify}\n",
      "        1    0.000    0.000    0.000    0.000 {built-in method nt._getfullpathname}\n",
      "        1    0.000    0.000    0.000    0.000 {built-in method nt._path_normpath}\n",
      "        1    0.000    0.000    0.000    0.000 {built-in method _thread.start_new_thread}\n",
      "        1    0.000    0.000    0.000    0.000 {method 'remove' of 'list' objects}\n",
      "        1    0.000    0.000    0.000    0.000 {method 'reverse' of 'list' objects}\n",
      "        1    0.000    0.000    0.000    0.000 {method 'update' of 'set' objects}\n",
      "        1    0.000    0.000    0.000    0.000 {method 'rsplit' of 'str' objects}\n",
      "        1    0.000    0.000    0.000    0.000 {built-in method maketrans}\n",
      "        1    0.000    0.000    0.000    0.000 {built-in method builtins.dir}\n",
      "        1    0.000    0.000    0.000    0.000 {built-in method builtins.print}\n",
      "        1    0.001    0.001    0.001    0.001 {built-in method _imp.create_dynamic}\n",
      "        1    0.000    0.000    0.000    0.000 {built-in method _imp.exec_dynamic}\n",
      "        1    0.000    0.000    0.000    0.000 {method 'disable' of '_lsprof.Profiler' objects}\n",
      "\n",
      "\n"
     ]
    },
    {
     "ename": "",
     "evalue": "",
     "output_type": "error",
     "traceback": [
      "\u001b[1;31mThe Kernel crashed while executing code in the the current cell or a previous cell. Please review the code in the cell(s) to identify a possible cause of the failure. Click <a href='https://aka.ms/vscodeJupyterKernelCrash'>here</a> for more info. View Jupyter <a href='command:jupyter.viewOutput'>log</a> for further details."
     ]
    }
   ],
   "source": [
    "from cProfile import Profile\n",
    "from pstats import SortKey, Stats\n",
    "\n",
    "\n",
    "with Profile() as profile:\n",
    "    solver.solve(model, 4, 8)\n",
    "    print(f\"\")\n",
    "    (\n",
    "        Stats(profile)\n",
    "        .strip_dirs()\n",
    "        .sort_stats(SortKey.CALLS)\n",
    "        .print_stats()\n",
    "    )"
   ]
  },
  {
   "cell_type": "code",
   "execution_count": 25,
   "metadata": {},
   "outputs": [
    {
     "name": "stdout",
     "output_type": "stream",
     "text": [
      "C:\\Users\\arnau\\AppData\\Local\\Temp\n"
     ]
    }
   ],
   "source": [
    "import os\n",
    "print(os.environ[\"TEMP\"])"
   ]
  },
  {
   "cell_type": "code",
   "execution_count": 13,
   "metadata": {},
   "outputs": [
    {
     "data": {
      "application/vnd.jupyter.widget-view+json": {
       "model_id": "32768c7548ad4e06a6f4d3fb2a382700",
       "version_major": 2,
       "version_minor": 0
      },
      "text/plain": [
       "Expansions:   0%|          | 0/4 [00:00<?, ?it/s]"
      ]
     },
     "metadata": {},
     "output_type": "display_data"
    },
    {
     "data": {
      "application/vnd.jupyter.widget-view+json": {
       "model_id": "4aab9673f31944109036e131972b11d2",
       "version_major": 2,
       "version_minor": 0
      },
      "text/plain": [
       "Backups 0:   0%|          | 0/8 [00:00<?, ?it/s]"
      ]
     },
     "metadata": {},
     "output_type": "display_data"
    },
    {
     "data": {
      "application/vnd.jupyter.widget-view+json": {
       "model_id": "804cc85e0c33414fb17ee37377520ec4",
       "version_major": 2,
       "version_minor": 0
      },
      "text/plain": [
       "Backups 1:   0%|          | 0/8 [00:00<?, ?it/s]"
      ]
     },
     "metadata": {},
     "output_type": "display_data"
    },
    {
     "data": {
      "application/vnd.jupyter.widget-view+json": {
       "model_id": "abc76482c4604876acd045fe96138473",
       "version_major": 2,
       "version_minor": 0
      },
      "text/plain": [
       "Backups 2:   0%|          | 0/8 [00:00<?, ?it/s]"
      ]
     },
     "metadata": {},
     "output_type": "display_data"
    },
    {
     "data": {
      "application/vnd.jupyter.widget-view+json": {
       "model_id": "9803520d344544099ec77ce2a459c085",
       "version_major": 2,
       "version_minor": 0
      },
      "text/plain": [
       "Backups 3:   0%|          | 0/8 [00:00<?, ?it/s]"
      ]
     },
     "metadata": {},
     "output_type": "display_data"
    },
    {
     "name": "stdout",
     "output_type": "stream",
     "text": [
      "\n",
      "         103472 function calls (95474 primitive calls) in 18.502 seconds\n",
      "\n",
      "   Ordered by: call count\n",
      "\n",
      "   ncalls  tottime  percall  cumtime  percall filename:lineno(function)\n",
      "10170/7075    0.004    0.000    0.035    0.000 traitlets.py:692(__get__)\n",
      "     8798    0.002    0.000    0.002    0.000 {built-in method builtins.isinstance}\n",
      "8504/6484    0.004    0.000    0.031    0.000 traitlets.py:654(get)\n",
      "6515/4260    0.003    0.000    0.029    0.000 {built-in method builtins.getattr}\n",
      "     4066    0.001    0.000    0.001    0.000 {method 'get' of 'dict' objects}\n",
      "     3248    0.002    0.000    0.002    0.000 {built-in method builtins.hasattr}\n",
      "2710/2707    0.001    0.000    0.001    0.000 {built-in method builtins.len}\n",
      "     2134    0.000    0.000    0.000    0.000 {method 'items' of 'dict' objects}\n",
      "     1780    0.000    0.000    0.000    0.000 {built-in method builtins.callable}\n",
      "     1725    0.000    0.000    0.000    0.000 traitlets.py:263(__init__)\n",
      "     1725    0.000    0.000    0.000    0.000 traitlets.py:266(__call__)\n",
      "     1651    0.002    0.000    0.005    0.000 traitlets.py:1917(trait_metadata)\n",
      "     1584    0.000    0.000    0.000    0.000 {method 'append' of 'list' objects}\n",
      "     1483    0.000    0.000    0.000    0.000 widget.py:792(_trait_to_json)\n",
      "     1000    0.000    0.000    0.000    0.000 {method 'encode' of 'str' objects}\n",
      "      975    0.000    0.000    0.000    0.000 {built-in method builtins.issubclass}\n",
      "      891    0.000    0.000    0.000    0.000 {method 'replace' of 'str' objects}\n",
      "      848    0.002    0.000    0.002    0.000 {built-in method numpy.asarray}\n",
      "      813    0.000    0.000    0.000    0.000 {method 'join' of 'str' objects}\n",
      "      752    0.005    0.000    0.009    0.000 encoder.py:205(iterencode)\n",
      "      752    0.002    0.000    0.011    0.000 encoder.py:183(encode)\n",
      "      752    0.002    0.000    0.013    0.000 __init__.py:183(dumps)\n",
      "      752    0.001    0.000    0.001    0.000 encoder.py:105(__init__)\n",
      "      752    0.001    0.000    0.014    0.000 session.py:92(json_packer)\n",
      "      752    0.000    0.000    0.001    0.000 hmac.py:117(update)\n",
      "      752    0.001    0.000    0.001    0.000 {method 'update' of '_hashlib.HMAC' objects}\n",
      "      620    0.000    0.000    0.000    0.000 inspect.py:2751(kind)\n",
      "      616    0.002    0.000    0.002    0.000 pomdp.py:290(__array_finalize__)\n",
      "      600    0.001    0.000    0.001    0.000 formatters.py:552(_in_deferred_types)\n",
      "  590/560    0.001    0.000    0.003    0.000 traitlets.py:734(_validate)\n",
      "      540    0.596    0.001    0.782    0.001 pomdp.py:906(<genexpr>)\n",
      "      520    0.002    0.000    0.003    0.000 traitlets.py:1519(_notify_observers)\n",
      "      512    0.001    0.000    0.025    0.000 fromnumeric.py:53(_wrapfunc)\n",
      "      493    0.000    0.000    0.000    0.000 {method 'extend' of 'list' objects}\n",
      "      486    0.000    0.000    0.000    0.000 {method 'copy' of 'dict' objects}\n",
      "      480    0.007    0.000    0.184    0.000 linalg.py:2383(norm)\n",
      "      480    0.000    0.000    0.000    0.000 linalg.py:140(isComplexType)\n",
      "      480    0.000    0.000    0.000    0.000 linalg.py:2379(_norm_dispatcher)\n",
      "      480    0.175    0.000    0.175    0.000 {method 'dot' of 'numpy.ndarray' objects}\n",
      "      480    0.001    0.000    0.001    0.000 {method 'ravel' of 'numpy.ndarray' objects}\n",
      "      460    0.000    0.000    0.000    0.000 einsumfunc.py:1001(_einsum_dispatcher)\n",
      "      452    0.002    0.000    0.024    0.000 fromnumeric.py:1140(argmax)\n",
      "      452    0.000    0.000    0.000    0.000 fromnumeric.py:1136(_argmax_dispatcher)\n",
      "      452    0.020    0.000    0.020    0.000 {method 'argmax' of 'numpy.ndarray' objects}\n",
      "      379    0.000    0.000    0.000    0.000 {built-in method nt.getpid}\n",
      "      376    0.001    0.000    0.003    0.000 jsonutil.py:107(json_default)\n",
      "      376    0.000    0.000    0.000    0.000 jsonutil.py:38(_ensure_tzinfo)\n",
      "      376    0.002    0.000    0.002    0.000 {method 'isoformat' of 'datetime.datetime' objects}\n",
      "      372    0.001    0.000    0.001    0.000 {method 'format' of 'str' objects}\n",
      "      371    0.000    0.000    0.000    0.000 jsonutil.py:77(json_clean)\n",
      "      352    0.000    0.000    0.000    0.000 traitlets.py:1800(has_trait)\n",
      "      331    0.000    0.000    0.000    0.000 {built-in method builtins.next}\n",
      "  322/112    0.001    0.000    0.027    0.000 traitlets.py:1860(trait_defaults)\n",
      "      322    0.000    0.000    0.000    0.000 traitlets.py:1848(_get_trait_default_generator)\n",
      "      305    0.000    0.000    0.001    0.000 {method 'view' of 'numpy.ndarray' objects}\n",
      "      281    0.000    0.000    0.000    0.000 {method 'update' of 'dict' objects}\n",
      "      272    0.000    0.000    0.000    0.000 multiarray.py:741(dot)\n",
      "   266/91    0.000    0.000    0.025    0.000 traitlets.py:616(default)\n",
      "      259    0.007    0.000    0.007    0.000 {method 'acquire' of '_thread.lock' objects}\n",
      "      249    0.000    0.000    0.000    0.000 {built-in method __new__ of type object at 0x00007FF9FA3C8F90}\n",
      "      244    0.000    0.000    0.000    0.000 mdp.py:448(__array_finalize__)\n",
      "      244    0.000    0.000    0.001    0.000 mdp.py:443(__new__)\n",
      "      241    0.001    0.000    0.001    0.000 std.py:230(__call__)\n",
      "      240    0.213    0.001    0.213    0.001 {method 'tobytes' of 'numpy.ndarray' objects}\n",
      "      238    0.001    0.000    0.049    0.000 traitlets.py:705(set)\n",
      "      238    0.003    0.000    0.005    0.000 traitlets.py:1886(traits)\n",
      "      235    0.000    0.000    0.000    0.000 inspect.py:2739(name)\n",
      "      228    0.000    0.000    0.000    0.000 {built-in method _thread.get_ident}\n",
      "      225    0.000    0.000    0.000    0.000 threading.py:568(is_set)\n",
      "      223    0.000    0.000    0.050    0.000 traitlets.py:723(__set__)\n",
      "      220    0.000    0.000    0.000    0.000 inspect.py:3032(parameters)\n",
      "      219    0.000    0.000    0.001    0.000 threading.py:1118(_wait_for_tstate_lock)\n",
      "      219    0.001    0.000    0.001    0.000 threading.py:1185(is_alive)\n",
      "      219    0.000    0.000    0.000    0.000 {method 'append' of 'collections.deque' objects}\n",
      "      218    0.000    0.000    0.001    0.000 traitlets.py:743(_cross_validate)\n",
      "      216    1.781    0.008    1.781    0.008 {method 'reduce' of 'numpy.ufunc' objects}\n",
      "      209    0.012    0.000    0.012    0.000 socket.py:621(send)\n",
      "      209    0.000    0.000    0.000    0.000 iostream.py:127(_event_pipe)\n",
      "      209    0.001    0.000    0.015    0.000 iostream.py:243(schedule)\n",
      "  208/183    0.001    0.000    0.002    0.000 widget.py:85(_separate_buffers)\n",
      "      200    0.000    0.000    0.000    0.000 {built-in method builtins.max}\n",
      "      198    0.000    0.000    0.002    0.000 traitlets.py:1515(notify_change)\n",
      "      198    0.001    0.000    0.046    0.000 widget.py:691(notify_change)\n",
      "      194    0.000    0.000    0.000    0.000 threading.py:1446(current_thread)\n",
      "      194    0.000    0.000    0.000    0.000 {method 'startswith' of 'str' objects}\n",
      "      193    0.001    0.000    0.047    0.000 traitlets.py:1504(_notify_trait)\n",
      "      190    0.000    0.000    0.000    0.000 {built-in method builtins.locals}\n",
      "      189    0.000    0.000    0.000    0.000 {built-in method builtins.divmod}\n",
      "      188    0.003    0.000    0.046    0.000 session.py:752(send)\n",
      "      188    0.001    0.000    0.006    0.000 session.py:647(msg)\n",
      "      188    0.000    0.000    0.000    0.000 hmac.py:139(_current)\n",
      "      188    0.000    0.000    0.002    0.000 session.py:272(msg_header)\n",
      "      188    0.001    0.000    0.002    0.000 hmac.py:122(copy)\n",
      "      188    0.002    0.000    0.022    0.000 session.py:688(serialize)\n",
      "      188    0.000    0.000    0.002    0.000 session.py:198(utcnow)\n",
      "      188    0.000    0.000    0.001    0.000 hmac.py:161(hexdigest)\n",
      "      188    0.000    0.000    0.000    0.000 session.py:279(extract_header)\n",
      "      188    0.001    0.000    0.005    0.000 session.py:673(sign)\n",
      "      188    0.000    0.000    0.001    0.000 session.py:852(<listcomp>)\n",
      "      188    0.001    0.000    0.001    0.000 session.py:598(msg_id)\n",
      "      188    0.000    0.000    0.004    0.000 session.py:643(msg_header)\n",
      "      188    0.000    0.000    0.000    0.000 configurable.py:565(initialized)\n",
      "      188    0.000    0.000    0.000    0.000 tz.py:74(utcoffset)\n",
      "      188    0.001    0.000    0.014    0.000 iostream.py:327(send_multipart)\n",
      "      188    0.000    0.000    0.013    0.000 iostream.py:255(send_multipart)\n",
      "      188    0.000    0.000    0.000    0.000 {built-in method utcnow}\n",
      "      188    0.001    0.000    0.001    0.000 {method 'replace' of 'datetime.datetime' objects}\n",
      "      188    0.001    0.000    0.001    0.000 {method 'hexdigest' of '_hashlib.HMAC' objects}\n",
      "      188    0.001    0.000    0.001    0.000 {method 'copy' of '_hashlib.HMAC' objects}\n",
      "      184    0.000    0.000    0.000    0.000 {method 'endswith' of 'str' objects}\n",
      "      183    0.000    0.000    0.000    0.000 threading.py:1145(name)\n",
      "      183    0.002    0.000    0.048    0.000 comm.py:24(publish_msg)\n",
      "      183    0.001    0.000    0.002    0.000 kernelbase.py:620(get_parent)\n",
      "  183/148    0.002    0.000    0.032    0.000 widget.py:589(get_state)\n",
      "      183    0.000    0.000    0.002    0.000 widget.py:130(_remove_buffers)\n",
      "      180    0.000    0.000    0.000    0.000 pomdp.py:296(model)\n",
      "      180    0.555    0.003    0.555    0.003 {method 'multinomial' of 'numpy.random.mtrand.RandomState' objects}\n",
      "      171    0.000    0.000    0.000    0.000 {method 'lower' of 'str' objects}\n",
      "      165    0.000    0.000    0.000    0.000 traitlets.py:1237(__get__)\n",
      "      165    0.000    0.000    0.000    0.000 traitlets.py:2146(validate)\n",
      "      165    0.000    0.000    0.000    0.000 {method 'items' of 'mappingproxy' objects}\n",
      "      164    0.000    0.000    0.000    0.000 {built-in method time.time}\n",
      "      160    0.000    0.000    0.000    0.000 widget.py:547(model_id)\n",
      "      156    0.000    0.000    0.000    0.000 {method 'rstrip' of 'str' objects}\n",
      "      152    0.002    0.000    1.783    0.012 fromnumeric.py:71(_wrapreduction)\n",
      "      152    0.001    0.000    0.001    0.000 fromnumeric.py:72(<dictcomp>)\n",
      "      150    0.000    0.000    0.000    0.000 traitlets.py:2167(_resolve_classes)\n",
      "      150    0.000    0.000    0.000    0.000 traitlets.py:2162(instance_init)\n",
      "      147    0.000    0.000    0.000    0.000 {built-in method builtins.iter}\n",
      "      128    0.000    0.000    0.002    0.000 widget.py:739(_should_send_property)\n",
      "      128    0.000    0.000    0.036    0.000 base_comm.py:111(send)\n",
      "      128    0.000    0.000    0.036    0.000 widget.py:822(_send)\n",
      "      128    0.001    0.000    0.040    0.000 widget.py:570(send_state)\n",
      "      116    0.000    0.000    0.000    0.000 {built-in method builtins.id}\n",
      "      112    0.000    0.000    0.006    0.000 traitlets.py:1230(__call__)\n",
      "      110    0.000    0.000    0.000    0.000 traitlets.py:512(instance_init)\n",
      "       97    0.000    0.000    0.000    0.000 traitlets.py:2527(validate)\n",
      "       97    0.444    0.005    0.444    0.005 {built-in method numpy.array}\n",
      "       96    0.037    0.000    0.037    0.000 {method 'reshape' of 'numpy.ndarray' objects}\n",
      "       92    0.000    0.000    0.000    0.000 __init__.py:12(escape)\n",
      "       92    0.001    0.000    0.703    0.008 einsumfunc.py:1009(einsum)\n",
      "       92    0.000    0.000    0.000    0.000 fromnumeric.py:2172(_sum_dispatcher)\n",
      "       92    0.001    0.000    1.779    0.019 fromnumeric.py:2177(sum)\n",
      "       92    0.000    0.000    0.001    0.000 std.py:285(format_interval)\n",
      "       92    0.702    0.008    0.702    0.008 {built-in method numpy.core._multiarray_umath.c_einsum}\n",
      "       85    0.000    0.000    0.000    0.000 traitlets.py:2875(validate_elements)\n",
      "       85    0.000    0.000    0.001    0.000 traitlets.py:2863(validate)\n",
      "       82    0.000    0.000    0.000    0.000 {method 'pop' of 'dict' objects}\n",
      "       73    0.000    0.000    0.000    0.000 {built-in method from_bytes}\n",
      "       72    0.001    0.000    0.783    0.011 {built-in method builtins.min}\n",
      "       71    0.000    0.000    0.000    0.000 traitlets.py:2340(_validate_bounds)\n",
      "       71    0.000    0.000    0.000    0.000 traitlets.py:2436(validate)\n",
      "    70/66    0.000    0.000    0.018    0.000 <frozen importlib._bootstrap>:1207(_handle_fromlist)\n",
      "       65    0.000    0.000    0.000    0.000 configurable.py:521(instance)\n",
      "       65    0.000    0.000    0.001    0.000 mdp.py:480(__init__)\n",
      "       64    0.000    0.000    0.034    0.001 mdp.py:510(alpha_vector_array)\n",
      "       64    0.000    0.000    0.000    0.000 {method 'transpose' of 'numpy.ndarray' objects}\n",
      "       63    0.000    0.000    0.000    0.000 {built-in method builtins.ord}\n",
      "       61    0.002    0.000    1.636    0.027 pomdp.py:279(__new__)\n",
      "       60    0.001    0.000    0.002    0.000 formatters.py:396(lookup_by_type)\n",
      "       60    0.000    0.000    0.000    0.000 pretty.py:321(_get_mro)\n",
      "       60    0.000    0.000    0.002    0.000 formatters.py:373(lookup)\n",
      "       60    0.000    0.000    0.000    0.000 formatters.py:273(_get_type)\n",
      "       60    0.000    0.000    0.001    0.000 pomdp.py:202(observe)\n",
      "       60    0.031    0.001    2.063    0.034 pomdp.py:302(update)\n",
      "       60    0.006    0.000    0.579    0.010 pomdp.py:324(random_state)\n",
      "       60    0.000    0.000    0.003    0.000 fromnumeric.py:3269(round)\n",
      "       60    0.000    0.000    0.000    0.000 fromnumeric.py:2687(_max_dispatcher)\n",
      "       60    0.000    0.000    0.000    0.000 fromnumeric.py:3265(_round_dispatcher)\n",
      "       60    0.001    0.000    0.006    0.000 fromnumeric.py:2692(max)\n",
      "       60    0.001    0.000    0.003    0.000 mdp.py:292(transition)\n",
      "       60    1.631    0.027    1.631    0.027 {built-in method builtins.sum}\n",
      "       60    0.003    0.000    0.003    0.000 {method 'round' of 'numpy.generic' objects}\n",
      "       60    0.193    0.003    0.194    0.003 {method 'take' of 'numpy.ndarray' objects}\n",
      "       56    0.000    0.000    0.000    0.000 {built-in method nt.urandom}\n",
      "       55    0.000    0.000    0.001    0.000 traitlets.py:1329(__init__)\n",
      "       55    0.001    0.000    0.001    0.000 inspect.py:3076(_bind)\n",
      "       55    0.000    0.000    0.000    0.000 inspect.py:2892(apply_defaults)\n",
      "       55    0.000    0.000    0.000    0.000 inspect.py:2839(args)\n",
      "       55    0.000    0.000    0.000    0.000 inspect.py:2862(kwargs)\n",
      "       55    0.000    0.000    0.000    0.000 inspect.py:292(isclass)\n",
      "       55    0.000    0.000    0.001    0.000 inspect.py:3207(bind)\n",
      "       55    0.000    0.000    0.000    0.000 inspect.py:2831(__init__)\n",
      "       55    0.000    0.000    0.000    0.000 traitlets.py:237(parse_notifier_name)\n",
      "       55    0.000    0.000    0.001    0.000 traitlets.py:1272(__new__)\n",
      "       55    0.000    0.000    0.000    0.000 traitlets.py:3011(validate_elements)\n",
      "       55    0.000    0.000    0.000    0.000 traitlets.py:1248(instance_init)\n",
      "       55    0.000    0.000    0.000    0.000 traitlets.py:1628(observe)\n",
      "       55    0.000    0.000    0.001    0.000 traitlets.py:1315(setup_instance)\n",
      "       55    0.000    0.000    0.000    0.000 traitlets.py:1566(_add_notifiers)\n",
      "       55    0.000    0.000    0.001    0.000 traitlets.py:1287(setup_instance)\n",
      "       55    0.000    0.000    0.000    0.000 uuid.py:139(__init__)\n",
      "       55    0.000    0.000    0.004    0.000 formatters.py:219(catch_format_error)\n",
      "       55    0.000    0.000    0.001    0.000 uuid.py:721(uuid4)\n",
      "       55    0.000    0.000    0.000    0.000 uuid.py:334(hex)\n",
      "       55    0.000    0.000    0.000    0.000 dir2.py:54(get_real_method)\n",
      "       55    0.000    0.000    0.014    0.000 base_comm.py:24(__init__)\n",
      "       55    0.000    0.000    0.002    0.000 decorator.py:199(fix)\n",
      "       55    0.000    0.000    0.005    0.000 decorator.py:229(fun)\n",
      "       55    0.000    0.000    0.000    0.000 ipkernel.py:56(_get_comm_manager)\n",
      "       55    0.000    0.000    0.013    0.000 base_comm.py:69(open)\n",
      "       55    0.000    0.000    0.015    0.000 ipkernel.py:46(_create_comm)\n",
      "       55    0.000    0.000    0.000    0.000 base_comm.py:190(register_comm)\n",
      "       55    0.000    0.000    0.000    0.000 base_comm.py:131(on_msg)\n",
      "       55    0.000    0.000    0.005    0.000 widget.py:486(_default_keys)\n",
      "       55    0.000    0.000    0.000    0.000 widget.py:359(_call_widget_constructed)\n",
      "       55    0.000    0.000    0.000    0.000 widget.py:537(_comm_changed)\n",
      "    55/20    0.001    0.000    0.036    0.002 widget.py:514(open)\n",
      "    55/40    0.000    0.000    0.000    0.000 widget.py:46(_widget_to_json)\n",
      "    55/20    0.000    0.000    0.037    0.002 widget.py:498(__init__)\n",
      "       55    0.000    0.000    0.000    0.000 widget.py:488(<listcomp>)\n",
      "       55    0.000    0.000    0.000    0.000 {method 'values' of 'mappingproxy' objects}\n",
      "       55    0.000    0.000    0.000    0.000 {method 'count' of 'list' objects}\n",
      "       53    0.000    0.000    0.000    0.000 <frozen importlib._bootstrap>:244(_verbose_message)\n",
      "       52    0.000    0.000    0.000    0.000 {method 'acquire' of '_thread.RLock' objects}\n",
      "       52    0.000    0.000    0.000    0.000 {method 'release' of '_thread.RLock' objects}\n",
      "       52    0.000    0.000    0.000    0.000 {built-in method _imp.acquire_lock}\n",
      "       52    0.000    0.000    0.000    0.000 {built-in method _imp.release_lock}\n",
      "       51    0.001    0.000    0.001    0.000 std.py:1443(format_dict)\n",
      "       51    0.002    0.000    0.003    0.000 std.py:352(format_meter)\n",
      "       51    0.000    0.000    0.000    0.000 std.py:105(release)\n",
      "       51    0.000    0.000    0.001    0.000 std.py:101(acquire)\n",
      "       51    0.000    0.000    0.000    0.000 utils.py:39(__init__)\n",
      "       51    0.000    0.000    0.001    0.000 notebook.py:196(colour)\n",
      "       51    0.000    0.000    0.000    0.000 {method 'acquire' of '_multiprocessing.SemLock' objects}\n",
      "       51    0.000    0.000    0.000    0.000 {method 'release' of '_multiprocessing.SemLock' objects}\n",
      "       50    0.000    0.000    0.000    0.000 formatters.py:358(_check_return)\n",
      "       48    0.000    0.000    0.001    0.000 <frozen importlib._bootstrap_external>:96(_path_join)\n",
      "       48    0.000    0.000    0.000    0.000 <frozen importlib._bootstrap_external>:119(<listcomp>)\n",
      "       48    0.000    0.000    0.000    0.000 {method 'rpartition' of 'str' objects}\n",
      "       46    0.000    0.000    0.001    0.000 __init__.py:198(split)\n",
      "       46    0.000    0.000    0.001    0.000 __init__.py:272(_compile)\n",
      "       46    0.001    0.000    0.052    0.001 notebook.py:144(display)\n",
      "       46    0.000    0.000    0.000    0.000 widget_float.py:33(_validate_value)\n",
      "       46    0.000    0.000    0.000    0.000 {method 'split' of 're.Pattern' objects}\n",
      "       45    0.000    0.000    0.002    0.000 formatters.py:330(__call__)\n",
      "       45    0.000    0.000    0.000    0.000 {method '__exit__' of '_thread.lock' objects}\n",
      "       42    0.000    0.000    0.000    0.000 {built-in method now}\n",
      "       41    0.000    0.000    0.051    0.001 std.py:1157(__iter__)\n",
      "       41    0.000    0.000    0.051    0.001 notebook.py:251(__iter__)\n",
      "       38    0.000    0.000    0.000    0.000 __init__.py:23(<genexpr>)\n",
      "       38    0.000    0.000    0.000    0.000 {method 'add' of 'set' objects}\n",
      "       36    0.001    0.000    0.048    0.001 std.py:1195(update)\n",
      "       36    0.000    0.000    0.049    0.001 notebook.py:264(update)\n",
      "       36    0.000    0.000    0.000    0.000 mdp.py:452(action)\n",
      "       36    0.000    0.000    0.047    0.001 std.py:1322(refresh)\n",
      "       36    0.000    0.000    0.000    0.000 <frozen importlib._bootstrap_external>:134(<genexpr>)\n",
      "       36    0.000    0.000    0.000    0.000 {built-in method _thread.allocate_lock}\n",
      "       35    0.000    0.000    0.000    0.000 traitlets.py:2171(make_dynamic_default)\n",
      "       35    0.000    0.000    0.000    0.000 trait_types.py:358(validate)\n",
      "       35    0.000    0.000    0.025    0.001 trait_types.py:364(make_dynamic_default)\n",
      "       33    0.000    0.000    0.000    0.000 mdp.py:514(<listcomp>)\n",
      "       32    0.190    0.006    0.228    0.007 numeric.py:932(tensordot)\n",
      "       32   10.463    0.327   13.786    0.431 pomdp.py:756(backup)\n",
      "       32    0.001    0.000    0.602    0.019 mdp.py:542(prune)\n",
      "       32    0.001    0.000    0.001    0.000 pomdp.py:429(add)\n",
      "       32    0.000    0.000    0.000    0.000 numeric.py:1111(<listcomp>)\n",
      "       32    0.000    0.000    0.000    0.000 numeric.py:1108(<listcomp>)\n",
      "       32    0.000    0.000    0.000    0.000 numeric.py:1103(<listcomp>)\n",
      "       32    0.000    0.000    0.000    0.000 numeric.py:1109(<listcomp>)\n",
      "       32    0.000    0.000    0.000    0.000 numeric.py:1116(<listcomp>)\n",
      "       32    0.000    0.000    0.000    0.000 numeric.py:1117(<listcomp>)\n",
      "       32    0.000    0.000    0.000    0.000 numeric.py:928(_tensordot_dispatcher)\n",
      "       32    0.001    0.000    0.002    0.000 mdp.py:501(alpha_vector_list)\n",
      "       32    0.386    0.012    0.599    0.019 mdp.py:563(<dictcomp>)\n",
      "       32    0.000    0.000    0.000    0.000 {method 'values' of 'dict' objects}\n",
      "       32    0.000    0.000    0.000    0.000 {built-in method numpy.arange}\n",
      "       32    0.001    0.000    0.001    0.000 {built-in method numpy.zeros}\n",
      "       28    0.000    0.000    0.000    0.000 <frozen importlib._bootstrap>:1030(__exit__)\n",
      "       28    0.000    0.000    0.000    0.000 <frozen importlib._bootstrap>:1026(__enter__)\n",
      "       28    0.010    0.000    0.010    0.000 {built-in method builtins.__build_class__}\n",
      "       27    0.000    0.000    0.005    0.000 <frozen importlib._bootstrap_external>:140(_path_stat)\n",
      "       27    0.005    0.000    0.005    0.000 {built-in method nt.stat}\n",
      "       27    0.000    0.000    0.000    0.000 {method 'partition' of 'str' objects}\n",
      "       24    0.000    0.000    0.000    0.000 {method 'rfind' of 'str' objects}\n",
      "       22    0.000    0.000    0.000    0.000 _parser.py:162(__getitem__)\n",
      "       22    0.000    0.000    0.000    0.000 {built-in method builtins.setattr}\n",
      "       20    0.000    0.000    0.000    0.000 threading.py:1161(ident)\n",
      "       20    0.000    0.000    0.000    0.000 traitlets.py:2704(validate)\n",
      "       20    0.000    0.000    0.017    0.001 widget_layout.py:80(__init__)\n",
      "       20    0.000    0.000    0.000    0.000 utils.py:153(__eq__)\n",
      "     20/4    0.000    0.000    0.033    0.008 <frozen importlib._bootstrap>:233(_call_with_frames_removed)\n",
      "       20    0.000    0.000    0.000    0.000 {built-in method nt.fspath}\n",
      "     19/4    0.000    0.000    0.013    0.003 copy.py:128(deepcopy)\n",
      "       19    0.000    0.000    0.000    0.000 copy.py:243(_keep_alive)\n",
      "       19    0.000    0.000    0.000    0.000 {built-in method builtins.abs}\n",
      "       18    0.000    0.000    0.000    0.000 <frozen importlib._bootstrap_external>:84(_unpack_uint32)\n",
      "       17    0.000    0.000    0.000    0.000 <frozen importlib._bootstrap>:100(acquire)\n",
      "       17    0.000    0.000    0.000    0.000 <frozen importlib._bootstrap>:125(release)\n",
      "       17    0.000    0.000    0.000    0.000 <frozen importlib._bootstrap>:179(_get_module_lock)\n",
      "       16    0.000    0.000    0.000    0.000 <frozen importlib._bootstrap>:405(parent)\n",
      "       15    0.000    0.000    0.000    0.000 traitlets.py:3367(validate_elements)\n",
      "       15    0.000    0.000    0.000    0.000 traitlets.py:1690(_register_validator)\n",
      "       15    0.000    0.000    0.000    0.000 traitlets.py:1736(set_trait)\n",
      "       15    0.000    0.000    0.000    0.000 traitlets.py:1256(instance_init)\n",
      "       15    0.000    0.000    0.000    0.000 traitlets.py:3360(validate)\n",
      "       15    0.000    0.000    0.030    0.002 widget_description.py:30(__init__)\n",
      "       15    0.000    0.000    0.000    0.000 std.py:109(__enter__)\n",
      "       15    0.000    0.000    0.000    0.000 std.py:112(__exit__)\n",
      "       15    0.000    0.000    0.000    0.000 std.py:225(__init__)\n",
      "       15    0.000    0.000    0.000    0.000 utils.py:83(wrapper_setattr)\n",
      "       15    0.000    0.000    0.000    0.000 {built-in method _weakref.proxy}\n",
      "       15    0.012    0.001    0.012    0.001 {method '__deepcopy__' of 'numpy.ndarray' objects}\n",
      "       14    0.000    0.000    0.000    0.000 _weakrefset.py:63(__iter__)\n",
      "       13    0.000    0.000    0.000    0.000 <frozen importlib._bootstrap>:392(cached)\n",
      "       12    0.000    0.000    0.000    0.000 threading.py:236(__init__)\n",
      "       12    0.000    0.000    0.000    0.000 threading.py:555(__init__)\n",
      "       12    0.000    0.000    0.000    0.000 <frozen importlib._bootstrap_external>:132(_path_split)\n",
      "       12    0.000    0.000    0.000    0.000 <frozen importlib._bootstrap_external>:437(cache_from_source)\n",
      "       12    0.000    0.000    0.000    0.000 <frozen importlib._bootstrap_external>:1421(_path_importer_cache)\n",
      "       11    0.000    0.000    0.007    0.001 threading.py:604(wait)\n",
      "       11    0.000    0.000    0.000    0.000 _parser.py:231(__next)\n",
      "       11    0.000    0.000    0.000    0.000 threading.py:267(__exit__)\n",
      "       11    0.000    0.000    0.000    0.000 threading.py:264(__enter__)\n",
      "       11    0.000    0.000    0.000    0.000 {method '__enter__' of '_thread.lock' objects}\n",
      "       10    0.000    0.000    0.000    0.000 _parser.py:252(get)\n",
      "       10    0.000    0.000    0.007    0.001 threading.py:288(wait)\n",
      "       10    0.000    0.000    0.000    0.000 threading.py:279(_is_owned)\n",
      "       10    0.000    0.000    0.000    0.000 threading.py:273(_release_save)\n",
      "       10    0.000    0.000    0.000    0.000 threading.py:276(_acquire_restore)\n",
      "       10    0.000    0.000    0.000    0.000 traitlets.py:1339(ignore)\n",
      "       10    0.000    0.000    0.009    0.001 iostream.py:547(flush)\n",
      "       10    0.000    0.000    0.020    0.002 widget_string.py:64(__init__)\n",
      "       10    0.000    0.000    0.000    0.000 std.py:1150(_comparable)\n",
      "       10    0.000    0.000    0.000    0.000 std.py:1154(__hash__)\n",
      "       10    0.000    0.000    0.000    0.000 notebook.py:201(colour)\n",
      "       10    0.000    0.000    0.000    0.000 utils.py:118(disable_on_exception)\n",
      "       10    0.000    0.000    0.007    0.001 <frozen importlib._bootstrap_external>:1604(find_spec)\n",
      "       10    0.000    0.000    0.000    0.000 <frozen importlib._bootstrap_external>:67(_relax_case)\n",
      "       10    0.000    0.000    0.003    0.000 <frozen importlib._bootstrap_external>:150(_path_is_mode_type)\n",
      "       10    0.000    0.000    0.000    0.000 <frozen importlib._bootstrap>:216(_lock_unlock_module)\n",
      "       10    0.000    0.000    0.000    0.000 {built-in method utcfromtimestamp}\n",
      "       10    0.000    0.000    0.000    0.000 {method 'release' of '_thread.lock' objects}\n",
      "       10    0.000    0.000    0.000    0.000 {method 'pop' of 'list' objects}\n",
      "       10    0.000    0.000    0.000    0.000 {method 'remove' of 'set' objects}\n",
      "        9    0.000    0.000    0.003    0.000 <frozen importlib._bootstrap_external>:159(_path_isfile)\n",
      "        8    0.000    0.000    0.000    0.000 _parser.py:170(append)\n",
      "        8    0.000    0.000    0.002    0.000 notebook.py:276(close)\n",
      "        8    0.000    0.000    0.000    0.000 <frozen importlib._bootstrap_external>:172(_path_isabs)\n",
      "        8    0.000    0.000    0.000    0.000 <frozen importlib._bootstrap_external>:1565(<genexpr>)\n",
      "        8    0.000    0.000    0.000    0.000 {method 'random' of '_random.Random' objects}\n",
      "        8    0.000    0.000    0.000    0.000 {built-in method math.floor}\n",
      "        8    0.000    0.000    0.000    0.000 {built-in method nt._path_splitroot}\n",
      "        7    0.000    0.000    0.000    0.000 _parser.py:158(__len__)\n",
      "        7    0.000    0.000    0.000    0.000 __init__.py:89(find_spec)\n",
      "        7    0.000    0.000    0.000    0.000 <frozen importlib._bootstrap>:413(has_location)\n",
      "        7    0.000    0.000    0.000    0.000 <frozen importlib._bootstrap>:71(__init__)\n",
      "        7    0.000    0.000    0.008    0.001 <frozen importlib._bootstrap_external>:1464(_get_spec)\n",
      "        7    0.000    0.000    0.013    0.002 <frozen importlib._bootstrap>:566(module_from_spec)\n",
      "        7    0.000    0.000    0.000    0.000 <frozen importlib._bootstrap>:493(_init_module_attrs)\n",
      "      7/2    0.000    0.000    0.035    0.018 <frozen importlib._bootstrap>:666(_load_unlocked)\n",
      "        7    0.000    0.000    0.000    0.000 <frozen importlib._bootstrap>:165(__init__)\n",
      "        7    0.000    0.000    0.000    0.000 <frozen importlib._bootstrap_external>:567(_get_cached)\n",
      "        7    0.000    0.000    0.000    0.000 <frozen importlib._bootstrap>:748(find_spec)\n",
      "        7    0.000    0.000    0.000    0.000 <frozen importlib._bootstrap_external>:1599(_get_spec)\n",
      "        7    0.000    0.000    0.000    0.000 <frozen importlib._bootstrap>:198(cb)\n",
      "        7    0.000    0.000    0.000    0.000 <frozen importlib._bootstrap>:920(find_spec)\n",
      "      7/2    0.000    0.000    0.039    0.020 <frozen importlib._bootstrap>:1165(_find_and_load)\n",
      "        7    0.000    0.000    0.008    0.001 <frozen importlib._bootstrap_external>:1496(find_spec)\n",
      "        7    0.000    0.000    0.000    0.000 <frozen importlib._bootstrap>:173(__exit__)\n",
      "        7    0.000    0.000    0.000    0.000 <frozen importlib._bootstrap>:169(__enter__)\n",
      "        7    0.000    0.000    0.000    0.000 <frozen importlib._bootstrap>:357(__init__)\n",
      "        7    0.000    0.000    0.008    0.001 <frozen importlib._bootstrap>:1054(_find_spec)\n",
      "        7    0.000    0.000    0.000    0.000 <frozen importlib._bootstrap_external>:778(spec_from_file_location)\n",
      "      7/2    0.000    0.000    0.039    0.019 <frozen importlib._bootstrap>:1120(_find_and_load_unlocked)\n",
      "        7    0.000    0.000    0.000    0.000 {built-in method _imp.find_frozen}\n",
      "        7    0.000    0.000    0.000    0.000 {built-in method _imp.is_builtin}\n",
      "        6    0.000    0.000    0.000    0.000 _weakrefset.py:85(add)\n",
      "        6    0.000    0.000    0.000    0.000 <frozen importlib._bootstrap_external>:1097(__init__)\n",
      "        6    0.000    0.000    0.000    0.000 <frozen importlib._bootstrap_external>:642(_classify_pyc)\n",
      "        6    0.000    0.000    0.000    0.000 <frozen importlib._bootstrap_external>:675(_validate_timestamp_pyc)\n",
      "        6    0.000    0.000    0.000    0.000 <frozen importlib._bootstrap>:48(_new_module)\n",
      "        6    0.000    0.000    0.006    0.001 <frozen importlib._bootstrap_external>:1127(get_data)\n",
      "      6/2    0.000    0.000    0.035    0.017 <frozen importlib._bootstrap_external>:934(exec_module)\n",
      "        6    0.000    0.000    0.007    0.001 <frozen importlib._bootstrap_external>:1007(get_code)\n",
      "        6    0.000    0.000    0.000    0.000 <frozen importlib._bootstrap_external>:599(_check_name_wrapper)\n",
      "        6    0.000    0.000    0.000    0.000 <frozen importlib._bootstrap_external>:1122(get_filename)\n",
      "        6    0.000    0.000    0.000    0.000 <frozen importlib._bootstrap_external>:1146(path_stats)\n",
      "        6    0.000    0.000    0.001    0.000 <frozen importlib._bootstrap_external>:727(_compile_bytecode)\n",
      "        6    0.000    0.000    0.000    0.000 <frozen importlib._bootstrap_external>:931(create_module)\n",
      "        6    0.001    0.000    0.001    0.000 {method 'read' of '_io.BufferedReader' objects}\n",
      "        6    0.000    0.000    0.000    0.000 {method '__exit__' of '_io._IOBase' objects}\n",
      "        6    0.004    0.001    0.004    0.001 {built-in method io.open_code}\n",
      "        6    0.000    0.000    0.000    0.000 {method 'setter' of 'property' objects}\n",
      "      6/3    0.000    0.000    0.018    0.006 {built-in method builtins.__import__}\n",
      "      6/2    0.000    0.000    0.033    0.016 {built-in method builtins.exec}\n",
      "        6    0.000    0.000    0.000    0.000 {built-in method _imp._fix_co_filename}\n",
      "        6    0.001    0.000    0.001    0.000 {built-in method marshal.loads}\n",
      "        5    0.000    0.000    0.000    0.000 reduction.py:43(register)\n",
      "        5    0.000    0.000    0.000    0.000 _weakrefset.py:27(__exit__)\n",
      "        5    0.000    0.000    0.000    0.000 _parser.py:247(match)\n",
      "        5    0.000    0.000    0.000    0.000 _weakrefset.py:17(__init__)\n",
      "        5    0.000    0.000    0.000    0.000 _weakrefset.py:53(_commit_removals)\n",
      "        5    0.000    0.000    0.000    0.000 _weakrefset.py:21(__enter__)\n",
      "        5    0.000    0.000    0.000    0.000 _weakrefset.py:110(remove)\n",
      "        5    0.000    0.000    0.000    0.000 __init__.py:48(create_string_buffer)\n",
      "        5    0.000    0.000    0.006    0.001 formatters.py:90(format)\n",
      "        5    0.000    0.000    0.017    0.003 display_functions.py:105(display)\n",
      "        5    0.000    0.000    0.011    0.002 display_functions.py:45(publish_display_data)\n",
      "        5    0.000    0.000    0.000    0.000 displaypub.py:43(_validate_data)\n",
      "        5    0.000    0.000    0.000    0.000 formatters.py:907(__call__)\n",
      "        5    0.000    0.000    0.001    0.000 formatters.py:953(__call__)\n",
      "        5    0.000    0.000    0.000    0.000 formatters.py:944(_check_return)\n",
      "        5    0.000    0.000    0.000    0.000 formatters.py:830(_check_return)\n",
      "        5    0.000    0.000    0.000    0.000 jsonutil.py:52(encode_images)\n",
      "        5    0.000    0.000    0.011    0.002 zmqshell.py:80(publish)\n",
      "        5    0.000    0.000    0.063    0.013 notebook.py:206(__init__)\n",
      "        5    0.000    0.000    0.039    0.008 notebook.py:99(status_printer)\n",
      "        5    0.000    0.000    0.000    0.000 utils.py:228(_screen_shape_windows)\n",
      "        5    0.000    0.000    0.000    0.000 utils.py:144(__init__)\n",
      "        5    0.000    0.000    0.040    0.008 std.py:551(__new__)\n",
      "        5    0.000    0.000    0.000    0.000 std.py:574(_decr_instances)\n",
      "        5    0.000    0.000    0.000    0.000 std.py:1262(close)\n",
      "        5    0.000    0.000    0.000    0.000 std.py:185(__format__)\n",
      "        5    0.000    0.000    0.000    0.000 std.py:166(colour)\n",
      "        5    0.000    0.000    0.001    0.000 std.py:837(__init__)\n",
      "        5    0.000    0.000    0.001    0.000 widget.py:802(_repr_mimebundle_)\n",
      "        5    0.000    0.000    0.000    0.000 zmqshell.py:73(_hooks)\n",
      "        5    0.000    0.000    0.009    0.002 zmqshell.py:63(_flush_streams)\n",
      "        5    0.000    0.000    0.007    0.001 widget_box.py:62(__init__)\n",
      "        5    0.000    0.000    0.011    0.002 widget_float.py:23(__init__)\n",
      "        5    0.000    0.000    0.000    0.000 widget_float.py:41(_validate_min)\n",
      "        5    0.000    0.000    0.000    0.000 widget_float.py:51(_validate_max)\n",
      "        5    0.000    0.000    0.000    0.000 widget.py:50(<listcomp>)\n",
      "        5    0.000    0.000    0.103    0.021 auto.py:33(trange)\n",
      "        5    0.000    0.000    0.001    0.000 notebook.py:85(__repr__)\n",
      "        5    0.000    0.000    0.000    0.000 utils.py:183(_is_utf)\n",
      "        5    0.000    0.000    0.000    0.000 std.py:567(_get_free_pos)\n",
      "        5    0.000    0.000    0.001    0.000 asyncio.py:23(__init__)\n",
      "        5    0.000    0.000    0.039    0.008 std.py:648(get_lock)\n",
      "        5    0.000    0.000    0.000    0.000 utils.py:197(_supports_unicode)\n",
      "        5    0.000    0.000    0.000    0.000 utils.py:213(_screen_shape_wrapper)\n",
      "        5    0.000    0.000    0.000    0.000 notebook.py:76(_json_)\n",
      "        5    0.000    0.000    0.000    0.000 utils.py:43(__format__)\n",
      "        5    0.000    0.000    0.000    0.000 utils.py:70(__getattr__)\n",
      "        5    0.000    0.000    0.000    0.000 utils.py:56(__eq__)\n",
      "        5    0.000    0.000    0.000    0.000 std.py:162(colour)\n",
      "        5    0.000    0.000    0.000    0.000 std.py:570(<setcomp>)\n",
      "        5    0.000    0.000    0.000    0.000 utils.py:204(_is_ascii)\n",
      "        5    0.000    0.000    0.000    0.000 std.py:152(__init__)\n",
      "        5    0.000    0.000    0.000    0.000 utils.py:87(__init__)\n",
      "        5    0.000    0.000    0.000    0.000 {method 'difference' of 'set' objects}\n",
      "        5    0.000    0.000    0.001    0.000 {built-in method builtins.repr}\n",
      "        5    0.000    0.000    0.000    0.000 {built-in method sys.audit}\n",
      "        4    0.000    0.000    0.013    0.003 copy.py:201(_deepcopy_list)\n",
      "        4    0.011    0.003    3.453    0.863 pomdp.py:878(expand_ssea)\n",
      "        4    0.000    0.000    3.454    0.863 pomdp.py:933(expand)\n",
      "        4    0.000    0.000    0.000    0.000 _monitor.py:94(report)\n",
      "        3    0.000    0.000    0.000    0.000 _parser.py:109(__init__)\n",
      "        3    0.000    0.000    0.000    0.000 _parser.py:284(tell)\n",
      "      3/1    0.000    0.000    0.000    0.000 _compiler.py:37(_compile)\n",
      "      3/1    0.000    0.000    0.000    0.000 _parser.py:172(getwidth)\n",
      "        3    0.000    0.000    0.000    0.000 std.py:1144(__del__)\n",
      "        3    0.000    0.000    0.000    0.000 {method '__exit__' of '_thread.RLock' objects}\n",
      "        2    0.000    0.000    0.000    0.000 __init__.py:96(<lambda>)\n",
      "        2    0.000    0.000    0.000    0.000 enum.py:685(__call__)\n",
      "        2    0.000    0.000    0.000    0.000 _compiler.py:396(_simple)\n",
      "        2    0.000    0.000    0.000    0.000 enum.py:1515(__and__)\n",
      "        2    0.000    0.000    0.000    0.000 _parser.py:166(__setitem__)\n",
      "        2    0.000    0.000    0.000    0.000 _compiler.py:568(isstring)\n",
      "        2    0.000    0.000    0.000    0.000 _parser.py:79(groups)\n",
      "        2    0.000    0.000    0.000    0.000 _compiler.py:426(_get_iscased)\n",
      "        2    0.000    0.000    0.000    0.000 enum.py:1091(__new__)\n",
      "        2    0.000    0.000    0.000    0.000 _parser.py:367(_escape)\n",
      "        2    0.000    0.000    0.000    0.000 __init__.py:386(__getattr__)\n",
      "        2    0.000    0.000    0.000    0.000 __init__.py:393(__getitem__)\n",
      "        2    0.000    0.000    0.000    0.000 iostream.py:610(write)\n",
      "        2    0.000    0.000    0.000    0.000 iostream.py:532(_schedule_flush)\n",
      "        2    0.000    0.000    0.000    0.000 iostream.py:505(_is_master_process)\n",
      "        2    0.000    0.000    0.000    0.000 <frozen importlib._bootstrap_external>:1684(<setcomp>)\n",
      "        2    0.000    0.000    0.002    0.001 <frozen importlib._bootstrap_external>:1655(_fill_cache)\n",
      "        2    0.000    0.000    0.000    0.000 {built-in method atexit.register}\n",
      "        2    0.001    0.001    0.001    0.001 {built-in method nt.listdir}\n",
      "        2    0.000    0.000    0.000    0.000 {method 'write' of '_io.StringIO' objects}\n",
      "        2    0.000    0.000    0.000    0.000 {built-in method builtins.globals}\n",
      "        1    0.000    0.000    0.000    0.000 process.py:1(<module>)\n",
      "        1    0.000    0.000    0.000    0.000 process.py:71(BaseProcess)\n",
      "        1    0.000    0.000    0.000    0.000 context.py:30(BaseContext)\n",
      "        1    0.000    0.000    0.000    0.000 reduction.py:1(<module>)\n",
      "        1    0.000    0.000    0.015    0.015 context.py:1(<module>)\n",
      "        1    0.000    0.000    0.016    0.016 synchronize.py:1(<module>)\n",
      "        1    0.000    0.000    0.000    0.000 synchronize.py:50(__init__)\n",
      "        1    0.000    0.000    0.000    0.000 util.py:1(<module>)\n",
      "        1    0.000    0.000    0.000    0.000 process.py:399(__init__)\n",
      "        1    0.000    0.000    0.000    0.000 synchronize.py:363(Barrier)\n",
      "        1    0.000    0.000    0.017    0.017 __init__.py:1(<module>)\n",
      "        1    0.000    0.000    0.000    0.000 context.py:237(get_context)\n",
      "        1    0.000    0.000    0.000    0.000 synchronize.py:46(SemLock)\n",
      "        1    0.000    0.000    0.000    0.000 reduction.py:33(ForkingPickler)\n",
      "        1    0.000    0.000    0.000    0.000 reduction.py:251(AbstractReducer)\n",
      "        1    0.000    0.000    0.000    0.000 synchronize.py:114(_make_name)\n",
      "        1    0.000    0.000    0.000    0.000 context.py:203(reducer)\n",
      "        1    0.000    0.000    0.000    0.000 context.py:220(Process)\n",
      "        1    0.000    0.000    0.000    0.000 context.py:230(DefaultContext)\n",
      "        1    0.000    0.000    0.000    0.000 context.py:331(SpawnProcess)\n",
      "        1    0.000    0.000    0.000    0.000 process.py:364(_ParentProcess)\n",
      "        1    0.000    0.000    0.000    0.000 synchronize.py:186(__init__)\n",
      "        1    0.000    0.000    0.000    0.000 synchronize.py:321(Event)\n",
      "        1    0.000    0.000    0.000    0.000 util.py:48(debug)\n",
      "        1    0.000    0.000    0.000    0.000 util.py:182(Finalize)\n",
      "        1    0.000    0.000    0.000    0.000 context.py:14(ProcessError)\n",
      "        1    0.000    0.000    0.000    0.000 context.py:17(BufferTooShort)\n",
      "        1    0.000    0.000    0.000    0.000 context.py:23(AuthenticationError)\n",
      "        1    0.000    0.000    0.000    0.000 context.py:20(TimeoutError)\n",
      "        1    0.000    0.000    0.000    0.000 context.py:197(get_start_method)\n",
      "        1    0.000    0.000    0.000    0.000 context.py:343(SpawnContext)\n",
      "        1    0.000    0.000    0.000    0.000 process.py:37(current_process)\n",
      "        1    0.000    0.000    0.000    0.000 process.py:349(AuthenticationString)\n",
      "        1    0.000    0.000    0.000    0.000 reduction.py:211(_C)\n",
      "        1    0.000    0.000    0.000    0.000 synchronize.py:90(_make_methods)\n",
      "        1    0.000    0.000    0.017    0.017 context.py:70(RLock)\n",
      "        1    0.000    0.000    0.000    0.000 util.py:108(_platform_supports_abstract_sockets)\n",
      "        1    0.000    0.000    0.000    0.000 synchronize.py:210(Condition)\n",
      "        1    0.000    0.000    0.000    0.000 context.py:233(__init__)\n",
      "        1    0.000    0.000    0.000    0.000 process.py:397(_MainProcess)\n",
      "        1    0.000    0.000    0.000    0.000 reduction.py:104(DupHandle)\n",
      "        1    0.000    0.000    0.000    0.000 synchronize.py:123(Semaphore)\n",
      "        1    0.000    0.000    0.000    0.000 synchronize.py:142(BoundedSemaphore)\n",
      "        1    0.000    0.000    0.000    0.000 synchronize.py:159(Lock)\n",
      "        1    0.000    0.000    0.000    0.000 synchronize.py:184(RLock)\n",
      "        1    0.000    0.000    0.000    0.000 util.py:368(ForkAwareThreadLock)\n",
      "        1    0.000    0.000    0.000    0.000 util.py:385(ForkAwareLocal)\n",
      "        1    0.000    0.000    0.000    0.000 random.py:128(seed)\n",
      "        1    0.000    0.000    0.000    0.000 weakref.py:289(update)\n",
      "        1    0.000    0.000    0.000    0.000 _compiler.py:571(_code)\n",
      "        1    0.000    0.000    0.000    0.000 _parser.py:954(fix_flags)\n",
      "        1    0.000    0.000    0.000    0.000 _parser.py:222(__init__)\n",
      "        1    0.000    0.000    0.000    0.000 _parser.py:73(__init__)\n",
      "        1    0.000    0.000    0.000    0.000 _compiler.py:738(compile)\n",
      "        1    0.000    0.000    0.000    0.000 threading.py:849(__init__)\n",
      "        1    0.000    0.000    0.000    0.000 _compiler.py:465(_get_charset_prefix)\n",
      "        1    0.000    0.000    0.000    0.000 _compiler.py:509(_compile_info)\n",
      "        1    0.000    0.000    0.000    0.000 _parser.py:507(_parse)\n",
      "        1    0.000    0.000    0.000    0.000 _parser.py:970(parse)\n",
      "        1    0.000    0.000    0.000    0.000 _compiler.py:434(_get_literal_prefix)\n",
      "        1    0.000    0.000    0.000    0.000 _parser.py:447(_parse_sub)\n",
      "        1    0.000    0.000    0.000    0.000 random.py:480(choices)\n",
      "        1    0.000    0.000    0.000    0.000 threading.py:804(_newname)\n",
      "        1    0.000    0.000    0.000    0.000 threading.py:1199(daemon)\n",
      "        1    0.000    0.000    0.000    0.000 weakref.py:104(__init__)\n",
      "        1    0.000    0.000    0.000    0.000 _weakrefset.py:37(__init__)\n",
      "        1    0.000    0.000    0.000    0.000 threading.py:1317(_make_invoke_excepthook)\n",
      "        1    0.000    0.000    0.000    0.000 threading.py:1214(daemon)\n",
      "        1    0.000    0.000    0.000    0.000 random.py:493(<listcomp>)\n",
      "        1    0.000    0.000    0.000    0.000 random.py:119(__init__)\n",
      "        1    0.000    0.000    0.000    0.000 threading.py:938(start)\n",
      "        1    0.000    0.000    0.000    0.000 importstring.py:8(import_item)\n",
      "        1    0.000    0.000    0.000    0.000 tempfile.py:142(rng)\n",
      "        1    0.000    0.000    0.000    0.000 tempfile.py:153(__next__)\n",
      "        1    0.000    0.000    0.000    0.000 traitlets.py:1986(_resolve_string)\n",
      "        1    0.000    0.000    0.000    0.000 traitlets.py:2514(validate)\n",
      "        1    0.000    0.000    0.000    0.000 _monitor.py:30(__init__)\n",
      "        1    0.000    0.000    0.000    0.000 pstats.py:118(init)\n",
      "        1    0.000    0.000    0.000    0.000 pstats.py:137(load_stats)\n",
      "        1    0.000    0.000    0.000    0.000 pstats.py:108(__init__)\n",
      "        1    0.000    0.000    0.000    0.000 cProfile.py:51(create_stats)\n",
      "        1    0.862    0.862   18.501   18.501 pomdp.py:966(solve)\n",
      "        1    0.000    0.000    0.000    0.000 zmqshell.py:68(_default_thread_local)\n",
      "        1    0.000    0.000    0.000    0.000 pomdp.py:405(__init__)\n",
      "        1    0.000    0.000    0.000    0.000 pomdp.py:1010(<listcomp>)\n",
      "        1    0.000    0.000    0.039    0.039 std.py:89(__init__)\n",
      "        1    0.000    0.000    0.039    0.039 std.py:115(create_mp_lock)\n",
      "        1    0.000    0.000    0.000    0.000 __init__.py:22(<listcomp>)\n",
      "        1    0.000    0.000    0.000    0.000 std.py:97(<listcomp>)\n",
      "        1    0.000    0.000    0.000    0.000 mdp.py:905(__init__)\n",
      "        1    0.000    0.000    0.000    0.000 <frozen importlib._bootstrap_external>:1559(__init__)\n",
      "        1    0.000    0.000    0.000    0.000 <frozen importlib._bootstrap_external>:1696(path_hook_for_FileFinder)\n",
      "        1    0.000    0.000    0.000    0.000 <frozen importlib._bootstrap_external>:164(_path_isdir)\n",
      "        1    0.000    0.000    0.000    0.000 <frozen importlib._bootstrap_external>:1220(__init__)\n",
      "        1    0.000    0.000    0.012    0.012 <frozen importlib._bootstrap_external>:1231(create_module)\n",
      "        1    0.000    0.000    0.000    0.000 <frozen importlib._bootstrap_external>:1408(_path_hooks)\n",
      "        1    0.000    0.000    0.000    0.000 <frozen ntpath>:570(abspath)\n",
      "        1    0.000    0.000    0.000    0.000 <frozen zipimport>:64(__init__)\n",
      "        1    0.000    0.000    0.000    0.000 <frozen importlib._bootstrap_external>:1239(exec_module)\n",
      "        1    0.000    0.000    0.000    0.000 <frozen abc>:105(__new__)\n",
      "        1    0.000    0.000    0.000    0.000 <frozen ntpath>:538(normpath)\n",
      "        1    0.000    0.000    0.000    0.000 {built-in method _abc._abc_init}\n",
      "        1    0.000    0.000    0.000    0.000 {function Random.seed at 0x000002064D0CD8A0}\n",
      "        1    0.000    0.000    0.000    0.000 {built-in method _sre.compile}\n",
      "        1    0.000    0.000    0.000    0.000 {built-in method nt.getcwd}\n",
      "        1    0.000    0.000    0.000    0.000 {built-in method nt._getfullpathname}\n",
      "        1    0.000    0.000    0.000    0.000 {built-in method nt._path_normpath}\n",
      "        1    0.000    0.000    0.000    0.000 {built-in method _thread.start_new_thread}\n",
      "        1    0.000    0.000    0.000    0.000 {method 'rsplit' of 'str' objects}\n",
      "        1    0.000    0.000    0.000    0.000 {built-in method builtins.dir}\n",
      "        1    0.000    0.000    0.001    0.001 {built-in method builtins.print}\n",
      "        1    0.012    0.012    0.012    0.012 {built-in method _imp.create_dynamic}\n",
      "        1    0.000    0.000    0.000    0.000 {built-in method _imp.exec_dynamic}\n",
      "        1    0.000    0.000    0.000    0.000 {method 'disable' of '_lsprof.Profiler' objects}\n",
      "\n",
      "\n"
     ]
    }
   ],
   "source": [
    "from cProfile import Profile\n",
    "from pstats import SortKey, Stats\n",
    "\n",
    "\n",
    "with Profile() as profile:\n",
    "    solver.solve(model, 4, 8)\n",
    "    print(f\"\")\n",
    "    (\n",
    "        Stats(profile)\n",
    "        .strip_dirs()\n",
    "        .sort_stats(SortKey.CALLS)\n",
    "        .print_stats()\n",
    "    )"
   ]
  },
  {
   "cell_type": "code",
   "execution_count": null,
   "metadata": {},
   "outputs": [],
   "source": []
  }
 ],
 "metadata": {
  "kernelspec": {
   "display_name": "Python 3",
   "language": "python",
   "name": "python3"
  },
  "language_info": {
   "codemirror_mode": {
    "name": "ipython",
    "version": 3
   },
   "file_extension": ".py",
   "mimetype": "text/x-python",
   "name": "python",
   "nbconvert_exporter": "python",
   "pygments_lexer": "ipython3",
   "version": "3.11.4"
  },
  "orig_nbformat": 4
 },
 "nbformat": 4,
 "nbformat_minor": 2
}
