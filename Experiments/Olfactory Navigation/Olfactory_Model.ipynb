{
 "cells": [
  {
   "cell_type": "code",
   "execution_count": 1,
   "metadata": {},
   "outputs": [],
   "source": [
    "import sys\n",
    "sys.path.append('../..')\n",
    "from src.pomdp import *\n",
    "\n",
    "import pandas as pd\n",
    "import numpy as np"
   ]
  },
  {
   "cell_type": "markdown",
   "metadata": {},
   "source": [
    "## Model definition"
   ]
  },
  {
   "cell_type": "code",
   "execution_count": 2,
   "metadata": {},
   "outputs": [],
   "source": [
    "# olfactory_data = pd.read_csv('./Data/statistics_nose_3e6_35_153.dat', sep=',', header=None).values"
   ]
  },
  {
   "cell_type": "code",
   "execution_count": 3,
   "metadata": {},
   "outputs": [],
   "source": [
    "olfactory_data = pd.read_csv('./Data/statistics_nose_5e6.dat', sep=' ', skiprows=[0], header=None).values.T"
   ]
  },
  {
   "cell_type": "code",
   "execution_count": 4,
   "metadata": {},
   "outputs": [
    {
     "name": "stdout",
     "output_type": "stream",
     "text": [
      "Environment shape: (321, 1300)\n",
      "State count: 417300\n"
     ]
    }
   ],
   "source": [
    "# Model size\n",
    "# env_shape = (280, 1225)\n",
    "# env_shape = (70,153)\n",
    "env_shape = olfactory_data.shape\n",
    "state_count = env_shape[0] * env_shape[1]\n",
    "\n",
    "print(f'Environment shape: {env_shape}')\n",
    "print(f'State count: {state_count}')"
   ]
  },
  {
   "cell_type": "code",
   "execution_count": 5,
   "metadata": {},
   "outputs": [
    {
     "data": {
      "text/plain": [
       "0.0"
      ]
     },
     "execution_count": 5,
     "metadata": {},
     "output_type": "execute_result"
    }
   ],
   "source": [
    "# goal state\n",
    "olfactory_data[17,0]"
   ]
  },
  {
   "cell_type": "code",
   "execution_count": 6,
   "metadata": {},
   "outputs": [],
   "source": [
    "def id_from_pos(x,y):\n",
    "    return (x * env_shape[1]) + y"
   ]
  },
  {
   "cell_type": "code",
   "execution_count": 7,
   "metadata": {},
   "outputs": [],
   "source": [
    "# states\n",
    "state_grid = []\n",
    "\n",
    "# Rewards\n",
    "# rewards = np.zeros((state_count, 4, state_count,2))\n",
    "# rewards[:,:,id_from_pos(17,0),:] = 1\n",
    "\n",
    "# observation matrix\n",
    "flattened_olfactory_data = olfactory_data.flatten()\n",
    "\n",
    "# observations = np.zeros((state_count, 4, 2))\n",
    "# observations[:,:,0] = flattened_olfactory_data.reshape((flattened_olfactory_data.shape[0],1)).repeat(4, axis=1)\n",
    "# observations[:,:,1] = (1 - observations[:,:,0])\n",
    "\n",
    "# Transitions and state labels\n",
    "for i in range(env_shape[0]):\n",
    "    i_states = []\n",
    "    for j in range(env_shape[1]):\n",
    "        i_states.append(f's_{i}_{j}')\n",
    "\n",
    "    state_grid.append(i_states)"
   ]
  },
  {
   "cell_type": "code",
   "execution_count": 8,
   "metadata": {},
   "outputs": [],
   "source": [
    "row_w = env_shape[1]\n",
    "\n",
    "reachable_states = np.zeros((state_count, 4, 1), dtype=int)\n",
    "for s in range(state_count):\n",
    "    reachable_states[s,0,0] = s - row_w if s - row_w >= 0 else s # North\n",
    "    reachable_states[s,1,0] = s + 1 if (s + 1) % row_w > 0 else s # East\n",
    "    reachable_states[s,2,0] = s + row_w if s + row_w < state_count else s # South\n",
    "    reachable_states[s,3,0] = s - 1 if (s - 1) % row_w < (row_w - 1) else s # West"
   ]
  },
  {
   "cell_type": "code",
   "execution_count": 9,
   "metadata": {},
   "outputs": [
    {
     "name": "stdout",
     "output_type": "stream",
     "text": [
      "[09/22/2023, 19:30:52] Instantiation of MDP Model:\n",
      "[09/22/2023, 19:30:52] - 417300 states\n",
      "[09/22/2023, 19:30:52] - 4 actions\n",
      "[09/22/2023, 19:30:52] - At most 1 reachable states per state-action pair\n",
      "[09/22/2023, 19:30:52] - Starting generation of transitions table\n",
      "[Warning] No transition matrix or function provided but reachable states are, so probability to reach any reachable states will \"1 / reachable state count\" so here: 1.000.\n",
      "[09/22/2023, 19:30:52]     > Done in 0.000s\n",
      "[09/22/2023, 19:30:52] - Generating start probabilities table\n",
      "[09/22/2023, 19:30:52] - Starting computation of reachable state probabilities from transition data\n",
      "[09/22/2023, 19:30:52]     > Done in 0.011s\n",
      "[09/22/2023, 19:30:52] - POMDP particular parameters:\n",
      "[09/22/2023, 19:30:52] - 2 observations\n",
      "[09/22/2023, 19:30:52] - Starting of transitional observations for reachable states table\n",
      "[09/22/2023, 19:30:55]     > Done in 2.484s\n",
      "[09/22/2023, 19:30:55] - Starting generation of expected rewards table\n",
      "[09/22/2023, 19:31:00]     > Done in 4.833s\n"
     ]
    }
   ],
   "source": [
    "model = Model(\n",
    "    states=state_grid,\n",
    "    actions=['N','E','S','W'],\n",
    "    observations=['something', 'nothing'],\n",
    "    reachable_states=reachable_states,\n",
    "    rewards=(lambda s,a,sn,o: 1.0 if sn==(env_shape[1] * 17) else 0.0),\n",
    "    # observation_table=observations,\n",
    "    end_states=[id_from_pos(17,0)]\n",
    ")"
   ]
  },
  {
   "cell_type": "code",
   "execution_count": null,
   "metadata": {},
   "outputs": [],
   "source": []
  },
  {
   "cell_type": "markdown",
   "metadata": {},
   "source": [
    "## Experiments"
   ]
  },
  {
   "cell_type": "code",
   "execution_count": 9,
   "metadata": {},
   "outputs": [],
   "source": [
    "b = Belief(model)\n",
    "beliefs = np.array([b])\n",
    "beliefs = beliefs.repeat(1000,axis=0)"
   ]
  },
  {
   "cell_type": "code",
   "execution_count": 10,
   "metadata": {},
   "outputs": [],
   "source": [
    "value_function = np.array(ValueFunction(model, [AlphaVector(model.expected_rewards_table[:,a], a) for a in model.actions]))\n",
    "value_function = np.tile(value_function, (250,1))"
   ]
  },
  {
   "cell_type": "code",
   "execution_count": 11,
   "metadata": {},
   "outputs": [],
   "source": [
    "gamma = 0.99\n",
    "gamma_a_o_t = gamma * np.einsum('saor,vsar->aovs', model.reachable_transitional_observation_table, value_function.take(model.reachable_states, axis=1))"
   ]
  },
  {
   "cell_type": "code",
   "execution_count": 59,
   "metadata": {},
   "outputs": [],
   "source": [
    "# Reworked 2\n",
    "def t3():\n",
    "    best_alpha_ind = np.argmax(np.tensordot(beliefs, gamma_a_o_t, (1,3)), axis=3)\n",
    "\n",
    "    best_alphas_per_o = np.zeros((*best_alpha_ind.shape, model.state_count))\n",
    "    it = np.nditer(best_alpha_ind, flags=['multi_index'], op_flags=['readonly'])\n",
    "    for x in it:\n",
    "        (b,a,o) = it.multi_index\n",
    "        best_alphas_per_o[b,a,o,:] = gamma_a_o_t[a,o,x,:]\n",
    "\n",
    "    alpha_a = np.sum(best_alphas_per_o, axis=2)\n",
    "    alpha_a += model.expected_rewards_table.T\n",
    "\n",
    "    new_value_function = np.zeros(beliefs.shape)\n",
    "    for i, b in enumerate(beliefs):\n",
    "        best_ind = np.argmax(np.dot(alpha_a[i,:,:], b))\n",
    "        new_value_function[i,:] = alpha_a[i, best_ind,:]"
   ]
  },
  {
   "cell_type": "code",
   "execution_count": 60,
   "metadata": {},
   "outputs": [
    {
     "name": "stdout",
     "output_type": "stream",
     "text": [
      "950 ms ± 69.6 ms per loop (mean ± std. dev. of 7 runs, 1 loop each)\n"
     ]
    }
   ],
   "source": [
    "%timeit t3()"
   ]
  },
  {
   "cell_type": "code",
   "execution_count": 31,
   "metadata": {},
   "outputs": [],
   "source": [
    "# Reworked\n",
    "def t2():\n",
    "    best_alpha_ind = np.argmax(np.dot(beliefs, gamma_a_o_t.swapaxes(3,2)), axis=3)\n",
    "\n",
    "    best_alphas_per_o = np.zeros((*best_alpha_ind.shape, model.state_count))\n",
    "    it = np.nditer(best_alpha_ind, flags=['multi_index'], op_flags=['readonly'])\n",
    "    for x in it:\n",
    "        (b,a,o) = it.multi_index\n",
    "        best_alphas_per_o[b,a,o,:] = gamma_a_o_t[a,o,x,:]\n",
    "\n",
    "    alpha_a = np.sum(best_alphas_per_o, axis=2)\n",
    "    alpha_a += model.expected_rewards_table.T\n",
    "\n",
    "    new_value_function = np.zeros(beliefs.shape)\n",
    "    for i, b in enumerate(beliefs):\n",
    "        best_ind = np.argmax(np.dot(alpha_a[i,:,:], b))\n",
    "        new_value_function[i,:] = alpha_a[i, best_ind,:]"
   ]
  },
  {
   "cell_type": "code",
   "execution_count": 32,
   "metadata": {},
   "outputs": [
    {
     "name": "stdout",
     "output_type": "stream",
     "text": [
      "34.8 s ± 1.48 s per loop (mean ± std. dev. of 7 runs, 1 loop each)\n"
     ]
    }
   ],
   "source": [
    "%timeit t2()"
   ]
  },
  {
   "cell_type": "code",
   "execution_count": 23,
   "metadata": {},
   "outputs": [],
   "source": [
    "def t1():\n",
    "    for b in beliefs:\n",
    "        best_alpha = None\n",
    "        best_alpha_val = -np.inf\n",
    "\n",
    "        for a in model.actions:\n",
    "            \n",
    "            obs_alpha_sum = np.zeros(model.state_count)\n",
    "            \n",
    "            for o in model.observations:\n",
    "                \n",
    "                # Argmax of alphas\n",
    "                best_alpha_o = np.zeros(model.state_count)\n",
    "                best_alpha_o_val = -np.inf\n",
    "                \n",
    "                for alpha_o in gamma_a_o_t[a][o]:\n",
    "                    val = np.dot(alpha_o, b)\n",
    "                    if val > best_alpha_o_val:\n",
    "                        best_alpha_o_val = val\n",
    "                        best_alpha_o = alpha_o\n",
    "                        \n",
    "                # Sum of the alpha_obs vectors\n",
    "                obs_alpha_sum += best_alpha_o\n",
    "\n",
    "            alpha_a_vect = model.expected_rewards_table[:,a] + obs_alpha_sum\n",
    "\n",
    "            # Step 3\n",
    "            val = np.dot(alpha_a_vect, b)\n",
    "            if val > best_alpha_val:\n",
    "                best_alpha_val = val\n",
    "                best_alpha = AlphaVector(alpha_a_vect, a)"
   ]
  },
  {
   "cell_type": "code",
   "execution_count": 24,
   "metadata": {},
   "outputs": [
    {
     "name": "stdout",
     "output_type": "stream",
     "text": [
      "3min 37s ± 3.97 s per loop (mean ± std. dev. of 7 runs, 1 loop each)\n"
     ]
    }
   ],
   "source": [
    "%timeit t1()"
   ]
  },
  {
   "cell_type": "markdown",
   "metadata": {},
   "source": [
    "## VI Solve"
   ]
  },
  {
   "cell_type": "code",
   "execution_count": 8,
   "metadata": {},
   "outputs": [],
   "source": [
    "from src.mdp import VI_Solver"
   ]
  },
  {
   "cell_type": "code",
   "execution_count": 9,
   "metadata": {},
   "outputs": [],
   "source": [
    "solver = VI_Solver()"
   ]
  },
  {
   "cell_type": "code",
   "execution_count": 10,
   "metadata": {},
   "outputs": [
    {
     "data": {
      "application/vnd.jupyter.widget-view+json": {
       "model_id": "1fe3de6cf9184dfd958e3c14dd9616b9",
       "version_major": 2,
       "version_minor": 0
      },
      "text/plain": [
       "  0%|          | 0/10000 [00:00<?, ?it/s]"
      ]
     },
     "metadata": {},
     "output_type": "display_data"
    }
   ],
   "source": [
    "solution, history = solver.solve(model)"
   ]
  },
  {
   "cell_type": "code",
   "execution_count": 11,
   "metadata": {},
   "outputs": [
    {
     "name": "stdout",
     "output_type": "stream",
     "text": [
      "Warning: as_grid parameter set to False but state count is >3 so it will be plotted as a grid\n"
     ]
    },
    {
     "data": {
      "image/png": "[encoded data removed]",
      "text/plain": [
       "<Figure size 1000x500 with 3 Axes>"
      ]
     },
     "metadata": {},
     "output_type": "display_data"
    }
   ],
   "source": [
    "solution.plot()"
   ]
  },
  {
   "cell_type": "code",
   "execution_count": 13,
   "metadata": {},
   "outputs": [
    {
     "data": {
      "text/plain": [
       "(4, 5355)"
      ]
     },
     "execution_count": 13,
     "metadata": {},
     "output_type": "execute_result"
    }
   ],
   "source": [
    "np.array(solution).shape"
   ]
  },
  {
   "cell_type": "markdown",
   "metadata": {},
   "source": [
    "## Solving timing"
   ]
  },
  {
   "cell_type": "markdown",
   "metadata": {},
   "source": [
    "regular size"
   ]
  },
  {
   "cell_type": "code",
   "execution_count": 8,
   "metadata": {},
   "outputs": [],
   "source": [
    "solver = PBVI_Solver(eps=10e-5)\n",
    "value_function = ValueFunction(model, [AlphaVector(model.expected_rewards_table[:,a], a) for a in model.actions])\n",
    "belief_set = [Belief(model)]"
   ]
  },
  {
   "cell_type": "code",
   "execution_count": 10,
   "metadata": {},
   "outputs": [
    {
     "name": "stdout",
     "output_type": "stream",
     "text": [
      "670 ms ± 19 ms per loop (mean ± std. dev. of 7 runs, 1 loop each)\n"
     ]
    }
   ],
   "source": [
    "%timeit solver.backup(model, belief_set, value_function)"
   ]
  },
  {
   "cell_type": "markdown",
   "metadata": {},
   "source": [
    "double size"
   ]
  },
  {
   "cell_type": "code",
   "execution_count": 8,
   "metadata": {},
   "outputs": [],
   "source": [
    "solver = PBVI_Solver(eps=10e-5)\n",
    "value_function = ValueFunction(model, [AlphaVector(model.expected_rewards_table[:,a], a) for a in model.actions])\n",
    "belief_set = [Belief(model)]"
   ]
  },
  {
   "cell_type": "code",
   "execution_count": 9,
   "metadata": {},
   "outputs": [
    {
     "name": "stdout",
     "output_type": "stream",
     "text": [
      "45.9 s ± 618 ms per loop (mean ± std. dev. of 7 runs, 1 loop each)\n"
     ]
    }
   ],
   "source": [
    "%timeit solver.backup(model, belief_set, value_function)"
   ]
  },
  {
   "cell_type": "markdown",
   "metadata": {},
   "source": [
    "regular size (reachable)"
   ]
  },
  {
   "cell_type": "code",
   "execution_count": 8,
   "metadata": {},
   "outputs": [],
   "source": [
    "solver = PBVI_Solver(eps=10e-5)\n",
    "value_function = ValueFunction(model, [AlphaVector(model.expected_rewards_table[:,a], a) for a in model.actions])\n",
    "belief_set = [Belief(model)]"
   ]
  },
  {
   "cell_type": "code",
   "execution_count": 9,
   "metadata": {},
   "outputs": [
    {
     "name": "stdout",
     "output_type": "stream",
     "text": [
      "2.57 ms ± 80.2 µs per loop (mean ± std. dev. of 7 runs, 100 loops each)\n"
     ]
    }
   ],
   "source": [
    "%timeit solver.backup(model, belief_set, value_function)"
   ]
  },
  {
   "cell_type": "markdown",
   "metadata": {},
   "source": [
    "Double size (reachable)"
   ]
  },
  {
   "cell_type": "code",
   "execution_count": 8,
   "metadata": {},
   "outputs": [],
   "source": [
    "solver = PBVI_Solver(eps=10e-5)"
   ]
  },
  {
   "cell_type": "code",
   "execution_count": 10,
   "metadata": {},
   "outputs": [],
   "source": [
    "value_function = ValueFunction(model, [AlphaVector(model.expected_rewards_table[:,a], a) for a in model.actions])\n",
    "belief_set = [Belief(model)]"
   ]
  },
  {
   "cell_type": "code",
   "execution_count": 11,
   "metadata": {},
   "outputs": [
    {
     "name": "stdout",
     "output_type": "stream",
     "text": [
      "10.9 ms ± 418 µs per loop (mean ± std. dev. of 7 runs, 100 loops each)\n"
     ]
    }
   ],
   "source": [
    "%timeit solver.backup(model, belief_set, value_function)"
   ]
  },
  {
   "cell_type": "markdown",
   "metadata": {},
   "source": [
    "## Solving profiling"
   ]
  },
  {
   "cell_type": "code",
   "execution_count": 13,
   "metadata": {},
   "outputs": [],
   "source": [
    "solver = PBVI_Solver(eps=10e-8)"
   ]
  },
  {
   "cell_type": "code",
   "execution_count": 14,
   "metadata": {},
   "outputs": [],
   "source": [
    "# solution, history = solver.solve(model, 8, 8)"
   ]
  },
  {
   "cell_type": "code",
   "execution_count": 15,
   "metadata": {},
   "outputs": [
    {
     "data": {
      "application/vnd.jupyter.widget-view+json": {
       "model_id": "d2f0eef97d334a838355799dc9a929bd",
       "version_major": 2,
       "version_minor": 0
      },
      "text/plain": [
       "Expansions:   0%|          | 0/4 [00:00<?, ?it/s]"
      ]
     },
     "metadata": {},
     "output_type": "display_data"
    },
    {
     "data": {
      "application/vnd.jupyter.widget-view+json": {
       "model_id": "44532ef217cb4c58a8e6c6eb62e48a27",
       "version_major": 2,
       "version_minor": 0
      },
      "text/plain": [
       "Backups 0:   0%|          | 0/8 [00:00<?, ?it/s]"
      ]
     },
     "metadata": {},
     "output_type": "display_data"
    },
    {
     "data": {
      "application/vnd.jupyter.widget-view+json": {
       "model_id": "ceb6e0ef105247d8ad229ee764d02e35",
       "version_major": 2,
       "version_minor": 0
      },
      "text/plain": [
       "Backups 1:   0%|          | 0/8 [00:00<?, ?it/s]"
      ]
     },
     "metadata": {},
     "output_type": "display_data"
    },
    {
     "data": {
      "application/vnd.jupyter.widget-view+json": {
       "model_id": "23ac9e8166c74f33849daa0c29a8e932",
       "version_major": 2,
       "version_minor": 0
      },
      "text/plain": [
       "Backups 2:   0%|          | 0/8 [00:00<?, ?it/s]"
      ]
     },
     "metadata": {},
     "output_type": "display_data"
    },
    {
     "data": {
      "application/vnd.jupyter.widget-view+json": {
       "model_id": "47c9aede1fc2421ab601fc0798c26bb5",
       "version_major": 2,
       "version_minor": 0
      },
      "text/plain": [
       "Backups 3:   0%|          | 0/8 [00:00<?, ?it/s]"
      ]
     },
     "metadata": {},
     "output_type": "display_data"
    },
    {
     "name": "stdout",
     "output_type": "stream",
     "text": [
      "\n",
      "         100762 function calls (92817 primitive calls) in 22.482 seconds\n",
      "\n",
      "   Ordered by: call count\n",
      "\n",
      "   ncalls  tottime  percall  cumtime  percall filename:lineno(function)\n",
      "10169/7074    0.004    0.000    0.032    0.000 traitlets.py:692(__get__)\n",
      "     8724    0.002    0.000    0.002    0.000 {built-in method builtins.isinstance}\n",
      "8503/6483    0.004    0.000    0.029    0.000 traitlets.py:654(get)\n",
      "6672/4417    0.003    0.000    0.027    0.000 {built-in method builtins.getattr}\n",
      "     4030    0.001    0.000    0.001    0.000 {method 'get' of 'dict' objects}\n",
      "     3208    0.001    0.000    0.002    0.000 {built-in method builtins.hasattr}\n",
      "     2551    0.001    0.000    0.001    0.000 {built-in method builtins.len}\n",
      "     2130    0.000    0.000    0.000    0.000 {method 'items' of 'dict' objects}\n",
      "     1780    0.000    0.000    0.000    0.000 {built-in method builtins.callable}\n",
      "     1725    0.000    0.000    0.000    0.000 traitlets.py:263(__init__)\n",
      "     1725    0.000    0.000    0.000    0.000 traitlets.py:266(__call__)\n",
      "     1651    0.002    0.000    0.004    0.000 traitlets.py:1917(trait_metadata)\n",
      "     1483    0.000    0.000    0.000    0.000 widget.py:792(_trait_to_json)\n",
      "     1482    0.000    0.000    0.000    0.000 {method 'append' of 'list' objects}\n",
      "     1000    0.000    0.000    0.000    0.000 {method 'encode' of 'str' objects}\n",
      "      975    0.000    0.000    0.000    0.000 {built-in method builtins.issubclass}\n",
      "      882    0.000    0.000    0.000    0.000 {method 'replace' of 'str' objects}\n",
      "      848    0.001    0.000    0.001    0.000 {built-in method numpy.asarray}\n",
      "      796    0.002    0.000    0.002    0.000 pomdp.py:284(__array_finalize__)\n",
      "      752    0.001    0.000    0.009    0.000 encoder.py:183(encode)\n",
      "      752    0.002    0.000    0.012    0.000 __init__.py:183(dumps)\n",
      "      752    0.001    0.000    0.001    0.000 encoder.py:105(__init__)\n",
      "      752    0.005    0.000    0.008    0.000 encoder.py:205(iterencode)\n",
      "      752    0.001    0.000    0.013    0.000 session.py:92(json_packer)\n",
      "      752    0.000    0.000    0.001    0.000 hmac.py:117(update)\n",
      "      752    0.000    0.000    0.000    0.000 {method 'join' of 'str' objects}\n",
      "      752    0.001    0.000    0.001    0.000 {method 'update' of '_hashlib.HMAC' objects}\n",
      "      620    0.000    0.000    0.000    0.000 inspect.py:2751(kind)\n",
      "      600    0.001    0.000    0.001    0.000 formatters.py:552(_in_deferred_types)\n",
      "  588/558    0.001    0.000    0.003    0.000 traitlets.py:734(_validate)\n",
      "      540    0.518    0.001    0.731    0.001 pomdp.py:899(<genexpr>)\n",
      "      518    0.002    0.000    0.002    0.000 traitlets.py:1519(_notify_observers)\n",
      "      518    0.000    0.000    0.000    0.000 {method 'extend' of 'list' objects}\n",
      "      512    0.001    0.000    0.018    0.000 fromnumeric.py:53(_wrapfunc)\n",
      "      486    0.000    0.000    0.000    0.000 {method 'copy' of 'dict' objects}\n",
      "      480    0.006    0.000    0.211    0.000 linalg.py:2383(norm)\n",
      "      480    0.000    0.000    0.000    0.000 linalg.py:140(isComplexType)\n",
      "      480    0.000    0.000    0.000    0.000 linalg.py:2379(_norm_dispatcher)\n",
      "      480    0.204    0.000    0.204    0.000 {method 'dot' of 'numpy.ndarray' objects}\n",
      "      480    0.000    0.000    0.000    0.000 {method 'ravel' of 'numpy.ndarray' objects}\n",
      "      452    0.002    0.000    0.017    0.000 fromnumeric.py:1140(argmax)\n",
      "      452    0.000    0.000    0.000    0.000 fromnumeric.py:1136(_argmax_dispatcher)\n",
      "      452    0.014    0.000    0.014    0.000 {method 'argmax' of 'numpy.ndarray' objects}\n",
      "      378    0.000    0.000    0.000    0.000 {built-in method nt.getpid}\n",
      "      376    0.001    0.000    0.003    0.000 jsonutil.py:107(json_default)\n",
      "      376    0.000    0.000    0.000    0.000 jsonutil.py:38(_ensure_tzinfo)\n",
      "      376    0.001    0.000    0.002    0.000 {method 'isoformat' of 'datetime.datetime' objects}\n",
      "      371    0.000    0.000    0.000    0.000 jsonutil.py:77(json_clean)\n",
      "      350    0.000    0.000    0.000    0.000 traitlets.py:1800(has_trait)\n",
      "      341    0.001    0.000    0.001    0.000 {method 'format' of 'str' objects}\n",
      "      330    0.000    0.000    0.000    0.000 {built-in method builtins.next}\n",
      "  320/110    0.001    0.000    0.026    0.000 traitlets.py:1860(trait_defaults)\n",
      "      320    0.000    0.000    0.000    0.000 traitlets.py:1848(_get_trait_default_generator)\n",
      "      305    0.000    0.000    0.001    0.000 {method 'view' of 'numpy.ndarray' objects}\n",
      "      280    0.000    0.000    0.000    0.000 {method 'update' of 'dict' objects}\n",
      "      272    0.000    0.000    0.000    0.000 multiarray.py:741(dot)\n",
      "   265/90    0.000    0.000    0.024    0.000 traitlets.py:616(default)\n",
      "      251    0.007    0.000    0.007    0.000 {method 'acquire' of '_thread.lock' objects}\n",
      "      248    0.000    0.000    0.000    0.000 {built-in method __new__ of type object at 0x00007FF9FA3C8F90}\n",
      "      244    0.000    0.000    0.000    0.000 mdp.py:452(__array_finalize__)\n",
      "      244    0.000    0.000    0.001    0.000 mdp.py:447(__new__)\n",
      "      240    0.000    0.000    0.000    0.000 std.py:230(__call__)\n",
      "      240    0.177    0.001    0.177    0.001 {method 'tobytes' of 'numpy.ndarray' objects}\n",
      "      238    0.003    0.000    0.005    0.000 traitlets.py:1886(traits)\n",
      "      238    0.001    0.000    0.044    0.000 traitlets.py:705(set)\n",
      "      235    0.000    0.000    0.000    0.000 inspect.py:2739(name)\n",
      "      224    0.000    0.000    0.000    0.000 threading.py:568(is_set)\n",
      "      223    0.000    0.000    0.044    0.000 traitlets.py:723(__set__)\n",
      "      220    0.000    0.000    0.000    0.000 inspect.py:3032(parameters)\n",
      "      219    0.000    0.000    0.000    0.000 threading.py:1118(_wait_for_tstate_lock)\n",
      "      219    0.000    0.000    0.001    0.000 threading.py:1185(is_alive)\n",
      "      218    0.000    0.000    0.001    0.000 traitlets.py:743(_cross_validate)\n",
      "      217    0.000    0.000    0.000    0.000 {method 'append' of 'collections.deque' objects}\n",
      "      216    1.532    0.007    1.533    0.007 {method 'reduce' of 'numpy.ufunc' objects}\n",
      "      209    0.010    0.000    0.010    0.000 socket.py:621(send)\n",
      "      209    0.000    0.000    0.000    0.000 iostream.py:127(_event_pipe)\n",
      "      209    0.001    0.000    0.012    0.000 iostream.py:243(schedule)\n",
      "  208/183    0.001    0.000    0.002    0.000 widget.py:85(_separate_buffers)\n",
      "      198    0.000    0.000    0.002    0.000 traitlets.py:1515(notify_change)\n",
      "      198    0.001    0.000    0.041    0.000 widget.py:691(notify_change)\n",
      "      193    0.000    0.000    0.000    0.000 threading.py:1446(current_thread)\n",
      "      193    0.000    0.000    0.041    0.000 traitlets.py:1504(_notify_trait)\n",
      "      193    0.000    0.000    0.000    0.000 {built-in method _thread.get_ident}\n",
      "      189    0.000    0.000    0.000    0.000 {built-in method builtins.divmod}\n",
      "      188    0.000    0.000    0.001    0.000 hmac.py:122(copy)\n",
      "      188    0.002    0.000    0.020    0.000 session.py:688(serialize)\n",
      "      188    0.001    0.000    0.004    0.000 session.py:647(msg)\n",
      "      188    0.004    0.000    0.041    0.000 session.py:752(send)\n",
      "      188    0.000    0.000    0.000    0.000 hmac.py:139(_current)\n",
      "      188    0.000    0.000    0.001    0.000 session.py:272(msg_header)\n",
      "      188    0.000    0.000    0.001    0.000 session.py:198(utcnow)\n",
      "      188    0.000    0.000    0.001    0.000 hmac.py:161(hexdigest)\n",
      "      188    0.000    0.000    0.000    0.000 session.py:279(extract_header)\n",
      "      188    0.001    0.000    0.004    0.000 session.py:673(sign)\n",
      "      188    0.000    0.000    0.001    0.000 session.py:852(<listcomp>)\n",
      "      188    0.001    0.000    0.001    0.000 session.py:598(msg_id)\n",
      "      188    0.000    0.000    0.003    0.000 session.py:643(msg_header)\n",
      "      188    0.000    0.000    0.000    0.000 configurable.py:565(initialized)\n",
      "      188    0.000    0.000    0.000    0.000 tz.py:74(utcoffset)\n",
      "      188    0.000    0.000    0.012    0.000 iostream.py:327(send_multipart)\n",
      "      188    0.000    0.000    0.011    0.000 iostream.py:255(send_multipart)\n",
      "      188    0.000    0.000    0.000    0.000 {built-in method utcnow}\n",
      "      188    0.001    0.000    0.001    0.000 {method 'replace' of 'datetime.datetime' objects}\n",
      "      188    0.000    0.000    0.000    0.000 {built-in method builtins.locals}\n",
      "      188    0.000    0.000    0.000    0.000 {built-in method builtins.max}\n",
      "      188    0.001    0.000    0.001    0.000 {method 'hexdigest' of '_hashlib.HMAC' objects}\n",
      "      188    0.001    0.000    0.001    0.000 {method 'copy' of '_hashlib.HMAC' objects}\n",
      "      183    0.000    0.000    0.000    0.000 threading.py:1145(name)\n",
      "      183    0.002    0.000    0.043    0.000 comm.py:24(publish_msg)\n",
      "      183    0.001    0.000    0.001    0.000 kernelbase.py:620(get_parent)\n",
      "  183/148    0.002    0.000    0.030    0.000 widget.py:589(get_state)\n",
      "      183    0.000    0.000    0.002    0.000 widget.py:130(_remove_buffers)\n",
      "      180    0.000    0.000    0.000    0.000 pomdp.py:290(model)\n",
      "      180    0.562    0.003    0.562    0.003 {method 'multinomial' of 'numpy.random.mtrand.RandomState' objects}\n",
      "      165    0.000    0.000    0.000    0.000 traitlets.py:1237(__get__)\n",
      "      165    0.000    0.000    0.000    0.000 traitlets.py:2146(validate)\n",
      "      165    0.000    0.000    0.000    0.000 {method 'items' of 'mappingproxy' objects}\n",
      "      164    0.000    0.000    0.000    0.000 {built-in method time.time}\n",
      "      160    0.000    0.000    0.000    0.000 widget.py:547(model_id)\n",
      "      160    0.000    0.000    0.000    0.000 einsumfunc.py:1001(_einsum_dispatcher)\n",
      "      152    0.002    0.000    1.534    0.010 fromnumeric.py:71(_wrapreduction)\n",
      "      152    0.000    0.000    0.000    0.000 fromnumeric.py:72(<dictcomp>)\n",
      "      150    0.000    0.000    0.000    0.000 traitlets.py:2167(_resolve_classes)\n",
      "      150    0.000    0.000    0.000    0.000 traitlets.py:2162(instance_init)\n",
      "      147    0.000    0.000    0.000    0.000 {built-in method builtins.iter}\n",
      "      128    0.000    0.000    0.001    0.000 widget.py:739(_should_send_property)\n",
      "      128    0.000    0.000    0.032    0.000 base_comm.py:111(send)\n",
      "      128    0.000    0.000    0.033    0.000 widget.py:822(_send)\n",
      "      128    0.001    0.000    0.036    0.000 widget.py:570(send_state)\n",
      "      128    0.535    0.004    0.535    0.004 {built-in method numpy.array}\n",
      "      120    0.000    0.000    0.000    0.000 {method 'lower' of 'str' objects}\n",
      "      116    0.000    0.000    0.000    0.000 {built-in method builtins.id}\n",
      "      111    0.000    0.000    0.005    0.000 traitlets.py:1230(__call__)\n",
      "      110    0.000    0.000    0.000    0.000 traitlets.py:512(instance_init)\n",
      "       97    0.000    0.000    0.000    0.000 traitlets.py:2527(validate)\n",
      "       96    1.003    0.010    1.003    0.010 {method 'reshape' of 'numpy.ndarray' objects}\n",
      "       92    0.000    0.000    0.000    0.000 __init__.py:12(escape)\n",
      "       92    0.000    0.000    0.000    0.000 fromnumeric.py:2172(_sum_dispatcher)\n",
      "       92    0.001    0.000    1.533    0.017 fromnumeric.py:2177(sum)\n",
      "       92    0.000    0.000    0.000    0.000 std.py:285(format_interval)\n",
      "       92    1.296    0.014    1.296    0.014 {method 'take' of 'numpy.ndarray' objects}\n",
      "       85    0.000    0.000    0.000    0.000 traitlets.py:2875(validate_elements)\n",
      "       85    0.000    0.000    0.001    0.000 traitlets.py:2863(validate)\n",
      "       75    0.000    0.000    0.000    0.000 {method 'pop' of 'dict' objects}\n",
      "       71    0.000    0.000    0.000    0.000 traitlets.py:2340(_validate_bounds)\n",
      "       71    0.000    0.000    0.000    0.000 traitlets.py:2436(validate)\n",
      "       65    0.000    0.000    0.000    0.000 configurable.py:521(instance)\n",
      "       65    0.001    0.000    0.002    0.000 mdp.py:484(__init__)\n",
      "       65    0.001    0.000    0.731    0.011 {built-in method builtins.min}\n",
      "       64    0.000    0.000    0.000    0.000 {method 'transpose' of 'numpy.ndarray' objects}\n",
      "       64    0.002    0.000    0.002    0.000 {built-in method numpy.zeros}\n",
      "       61    0.002    0.000    3.952    0.065 pomdp.py:273(__new__)\n",
      "       60    0.001    0.000    0.002    0.000 formatters.py:396(lookup_by_type)\n",
      "       60    0.000    0.000    0.000    0.000 pretty.py:321(_get_mro)\n",
      "       60    0.000    0.000    0.002    0.000 formatters.py:373(lookup)\n",
      "       60    0.000    0.000    0.000    0.000 formatters.py:273(_get_type)\n",
      "       60    0.000    0.000    0.001    0.000 pomdp.py:196(observe)\n",
      "       60    0.006    0.000    0.580    0.010 pomdp.py:320(random_state)\n",
      "       60    0.175    0.003    4.330    0.072 pomdp.py:296(update)\n",
      "       60    0.000    0.000    0.003    0.000 fromnumeric.py:3269(round)\n",
      "       60    0.000    0.000    0.031    0.001 _methods.py:47(_sum)\n",
      "       60    0.000    0.000    0.000    0.000 fromnumeric.py:2687(_max_dispatcher)\n",
      "       60    0.000    0.000    0.000    0.000 fromnumeric.py:3265(_round_dispatcher)\n",
      "       60    0.000    0.000    0.002    0.000 fromnumeric.py:2692(max)\n",
      "       60    0.001    0.000    0.002    0.000 mdp.py:296(transition)\n",
      "       60    0.000    0.000    0.000    0.000 <frozen importlib._bootstrap>:1207(_handle_fromlist)\n",
      "       60    3.947    0.066    3.947    0.066 {built-in method builtins.sum}\n",
      "       60    0.002    0.000    0.002    0.000 {method 'round' of 'numpy.generic' objects}\n",
      "       60    0.000    0.000    0.032    0.001 {method 'sum' of 'numpy.ndarray' objects}\n",
      "       55    0.000    0.000    0.000    0.000 inspect.py:2892(apply_defaults)\n",
      "       55    0.000    0.000    0.000    0.000 inspect.py:2839(args)\n",
      "       55    0.000    0.000    0.001    0.000 inspect.py:3076(_bind)\n",
      "       55    0.000    0.000    0.000    0.000 inspect.py:2862(kwargs)\n",
      "       55    0.000    0.000    0.000    0.000 inspect.py:292(isclass)\n",
      "       55    0.000    0.000    0.001    0.000 inspect.py:3207(bind)\n",
      "       55    0.000    0.000    0.000    0.000 inspect.py:2831(__init__)\n",
      "       55    0.000    0.000    0.000    0.000 traitlets.py:237(parse_notifier_name)\n",
      "       55    0.000    0.000    0.001    0.000 traitlets.py:1272(__new__)\n",
      "       55    0.000    0.000    0.000    0.000 traitlets.py:3011(validate_elements)\n",
      "       55    0.000    0.000    0.001    0.000 traitlets.py:1329(__init__)\n",
      "       55    0.000    0.000    0.000    0.000 uuid.py:139(__init__)\n",
      "       55    0.000    0.000    0.003    0.000 formatters.py:219(catch_format_error)\n",
      "       55    0.000    0.000    0.000    0.000 traitlets.py:1248(instance_init)\n",
      "       55    0.000    0.000    0.000    0.000 traitlets.py:1628(observe)\n",
      "       55    0.000    0.000    0.001    0.000 traitlets.py:1315(setup_instance)\n",
      "       55    0.000    0.000    0.000    0.000 traitlets.py:1566(_add_notifiers)\n",
      "       55    0.000    0.000    0.001    0.000 traitlets.py:1287(setup_instance)\n",
      "       55    0.000    0.000    0.001    0.000 uuid.py:721(uuid4)\n",
      "       55    0.000    0.000    0.000    0.000 uuid.py:334(hex)\n",
      "       55    0.000    0.000    0.000    0.000 dir2.py:54(get_real_method)\n",
      "       55    0.000    0.000    0.013    0.000 base_comm.py:24(__init__)\n",
      "       55    0.000    0.000    0.002    0.000 decorator.py:199(fix)\n",
      "       55    0.000    0.000    0.005    0.000 decorator.py:229(fun)\n",
      "       55    0.000    0.000    0.000    0.000 ipkernel.py:56(_get_comm_manager)\n",
      "       55    0.000    0.000    0.012    0.000 base_comm.py:69(open)\n",
      "       55    0.000    0.000    0.013    0.000 ipkernel.py:46(_create_comm)\n",
      "       55    0.000    0.000    0.000    0.000 base_comm.py:190(register_comm)\n",
      "       55    0.000    0.000    0.000    0.000 base_comm.py:131(on_msg)\n",
      "       55    0.000    0.000    0.005    0.000 widget.py:486(_default_keys)\n",
      "       55    0.000    0.000    0.000    0.000 widget.py:359(_call_widget_constructed)\n",
      "       55    0.000    0.000    0.000    0.000 widget.py:537(_comm_changed)\n",
      "    55/20    0.000    0.000    0.034    0.002 widget.py:514(open)\n",
      "    55/40    0.000    0.000    0.000    0.000 widget.py:46(_widget_to_json)\n",
      "    55/20    0.000    0.000    0.035    0.002 widget.py:498(__init__)\n",
      "       55    0.000    0.000    0.000    0.000 widget.py:488(<listcomp>)\n",
      "       55    0.000    0.000    0.000    0.000 {built-in method nt.urandom}\n",
      "       55    0.000    0.000    0.000    0.000 {method 'values' of 'mappingproxy' objects}\n",
      "       55    0.000    0.000    0.000    0.000 {method 'count' of 'list' objects}\n",
      "       55    0.000    0.000    0.000    0.000 {built-in method from_bytes}\n",
      "       55    0.000    0.000    0.000    0.000 {built-in method builtins.ord}\n",
      "       51    0.001    0.000    0.002    0.000 std.py:352(format_meter)\n",
      "       51    0.000    0.000    0.001    0.000 std.py:1443(format_dict)\n",
      "       51    0.000    0.000    0.000    0.000 std.py:105(release)\n",
      "       51    0.000    0.000    0.000    0.000 std.py:101(acquire)\n",
      "       51    0.000    0.000    0.000    0.000 utils.py:39(__init__)\n",
      "       51    0.000    0.000    0.001    0.000 notebook.py:196(colour)\n",
      "       51    0.000    0.000    0.000    0.000 {method 'acquire' of '_thread.RLock' objects}\n",
      "       51    0.000    0.000    0.000    0.000 {method 'release' of '_thread.RLock' objects}\n",
      "       51    0.000    0.000    0.000    0.000 {method 'acquire' of '_multiprocessing.SemLock' objects}\n",
      "       51    0.000    0.000    0.000    0.000 {method 'release' of '_multiprocessing.SemLock' objects}\n",
      "       50    0.000    0.000    0.000    0.000 formatters.py:358(_check_return)\n",
      "       46    0.000    0.000    0.000    0.000 __init__.py:198(split)\n",
      "       46    0.000    0.000    0.000    0.000 __init__.py:272(_compile)\n",
      "       46    0.001    0.000    0.046    0.001 notebook.py:144(display)\n",
      "       46    0.000    0.000    0.000    0.000 widget_float.py:33(_validate_value)\n",
      "       46    0.000    0.000    0.000    0.000 {method 'split' of 're.Pattern' objects}\n",
      "       45    0.000    0.000    0.002    0.000 formatters.py:330(__call__)\n",
      "       42    0.000    0.000    0.000    0.000 {built-in method now}\n",
      "       41    0.000    0.000    0.044    0.001 std.py:1157(__iter__)\n",
      "       41    0.000    0.000    0.044    0.001 notebook.py:251(__iter__)\n",
      "       36    0.000    0.000    0.041    0.001 std.py:1195(update)\n",
      "       36    0.000    0.000    0.041    0.001 notebook.py:264(update)\n",
      "       36    0.000    0.000    0.040    0.001 std.py:1322(refresh)\n",
      "       35    0.000    0.000    0.000    0.000 traitlets.py:2171(make_dynamic_default)\n",
      "       35    0.000    0.000    0.000    0.000 trait_types.py:358(validate)\n",
      "       35    0.000    0.000    0.024    0.001 trait_types.py:364(make_dynamic_default)\n",
      "       32    9.059    0.283   15.510    0.485 pomdp.py:752(backup)\n",
      "       32    0.437    0.014    1.441    0.045 numeric.py:932(tensordot)\n",
      "       32    0.000    0.000    1.678    0.052 einsumfunc.py:1009(einsum)\n",
      "       32    0.001    0.000    0.421    0.013 mdp.py:502(prune)\n",
      "       32    0.000    0.000    0.000    0.000 pomdp.py:425(add)\n",
      "       32    0.000    0.000    0.000    0.000 numeric.py:1111(<listcomp>)\n",
      "       32    0.000    0.000    0.000    0.000 numeric.py:1108(<listcomp>)\n",
      "       32    0.000    0.000    0.000    0.000 numeric.py:1103(<listcomp>)\n",
      "       32    0.000    0.000    0.000    0.000 numeric.py:1109(<listcomp>)\n",
      "       32    0.000    0.000    0.000    0.000 numeric.py:1116(<listcomp>)\n",
      "       32    0.000    0.000    0.000    0.000 numeric.py:1117(<listcomp>)\n",
      "       32    0.000    0.000    0.000    0.000 numeric.py:928(_tensordot_dispatcher)\n",
      "       32    0.244    0.008    0.421    0.013 mdp.py:526(<dictcomp>)\n",
      "       32    0.000    0.000    0.000    0.000 {method 'values' of 'dict' objects}\n",
      "       32    1.678    0.052    1.678    0.052 {built-in method numpy.core._multiarray_umath.c_einsum}\n",
      "       20    0.000    0.000    0.000    0.000 threading.py:1161(ident)\n",
      "       20    0.000    0.000    0.000    0.000 traitlets.py:2704(validate)\n",
      "       20    0.000    0.000    0.017    0.001 widget_layout.py:80(__init__)\n",
      "       20    0.000    0.000    0.000    0.000 utils.py:153(__eq__)\n",
      "     19/4    0.000    0.000    0.012    0.003 copy.py:128(deepcopy)\n",
      "       19    0.000    0.000    0.000    0.000 copy.py:243(_keep_alive)\n",
      "       19    0.000    0.000    0.000    0.000 {built-in method builtins.abs}\n",
      "       18    0.000    0.000    0.000    0.000 {built-in method _thread.allocate_lock}\n",
      "       15    0.000    0.000    0.000    0.000 traitlets.py:3367(validate_elements)\n",
      "       15    0.000    0.000    0.000    0.000 traitlets.py:1690(_register_validator)\n",
      "       15    0.000    0.000    0.000    0.000 traitlets.py:1736(set_trait)\n",
      "       15    0.000    0.000    0.000    0.000 traitlets.py:1256(instance_init)\n",
      "       15    0.000    0.000    0.000    0.000 traitlets.py:3360(validate)\n",
      "       15    0.000    0.000    0.028    0.002 widget_description.py:30(__init__)\n",
      "       15    0.000    0.000    0.000    0.000 std.py:109(__enter__)\n",
      "       15    0.000    0.000    0.000    0.000 std.py:112(__exit__)\n",
      "       15    0.000    0.000    0.000    0.000 std.py:225(__init__)\n",
      "       15    0.000    0.000    0.000    0.000 utils.py:83(wrapper_setattr)\n",
      "       15    0.000    0.000    0.000    0.000 {built-in method _weakref.proxy}\n",
      "       15    0.000    0.000    0.000    0.000 {built-in method builtins.setattr}\n",
      "       15    0.012    0.001    0.012    0.001 {method '__deepcopy__' of 'numpy.ndarray' objects}\n",
      "       14    0.000    0.000    0.000    0.000 _weakrefset.py:63(__iter__)\n",
      "       10    0.000    0.000    0.007    0.001 threading.py:604(wait)\n",
      "       10    0.000    0.000    0.000    0.000 threading.py:236(__init__)\n",
      "       10    0.000    0.000    0.000    0.000 threading.py:267(__exit__)\n",
      "       10    0.000    0.000    0.000    0.000 threading.py:264(__enter__)\n",
      "       10    0.000    0.000    0.000    0.000 threading.py:555(__init__)\n",
      "       10    0.000    0.000    0.000    0.000 traitlets.py:1339(ignore)\n",
      "       10    0.000    0.000    0.009    0.001 iostream.py:547(flush)\n",
      "       10    0.000    0.000    0.016    0.002 widget_string.py:64(__init__)\n",
      "       10    0.000    0.000    0.000    0.000 std.py:1150(_comparable)\n",
      "       10    0.000    0.000    0.000    0.000 std.py:1154(__hash__)\n",
      "       10    0.000    0.000    0.000    0.000 notebook.py:201(colour)\n",
      "       10    0.000    0.000    0.000    0.000 utils.py:118(disable_on_exception)\n",
      "       10    0.000    0.000    0.000    0.000 {built-in method utcfromtimestamp}\n",
      "       10    0.000    0.000    0.000    0.000 {method '__enter__' of '_thread.lock' objects}\n",
      "       10    0.000    0.000    0.000    0.000 {method '__exit__' of '_thread.lock' objects}\n",
      "       10    0.000    0.000    0.000    0.000 {method 'add' of 'set' objects}\n",
      "       10    0.000    0.000    0.000    0.000 {method 'remove' of 'set' objects}\n",
      "        8    0.000    0.000    0.007    0.001 threading.py:288(wait)\n",
      "        8    0.000    0.000    0.000    0.000 threading.py:279(_is_owned)\n",
      "        8    0.000    0.000    0.000    0.000 threading.py:273(_release_save)\n",
      "        8    0.000    0.000    0.000    0.000 threading.py:276(_acquire_restore)\n",
      "        8    0.000    0.000    0.000    0.000 {method 'release' of '_thread.lock' objects}\n",
      "        7    0.000    0.000    0.002    0.000 notebook.py:276(close)\n",
      "        5    0.000    0.000    0.000    0.000 _weakrefset.py:27(__exit__)\n",
      "        5    0.000    0.000    0.000    0.000 _weakrefset.py:17(__init__)\n",
      "        5    0.000    0.000    0.000    0.000 _weakrefset.py:53(_commit_removals)\n",
      "        5    0.000    0.000    0.000    0.000 _weakrefset.py:21(__enter__)\n",
      "        5    0.000    0.000    0.000    0.000 _weakrefset.py:85(add)\n",
      "        5    0.000    0.000    0.000    0.000 _weakrefset.py:110(remove)\n",
      "        5    0.000    0.000    0.000    0.000 __init__.py:48(create_string_buffer)\n",
      "        5    0.000    0.000    0.005    0.001 formatters.py:90(format)\n",
      "        5    0.000    0.000    0.016    0.003 display_functions.py:105(display)\n",
      "        5    0.000    0.000    0.011    0.002 display_functions.py:45(publish_display_data)\n",
      "        5    0.000    0.000    0.000    0.000 displaypub.py:43(_validate_data)\n",
      "        5    0.000    0.000    0.000    0.000 formatters.py:907(__call__)\n",
      "        5    0.000    0.000    0.001    0.000 formatters.py:953(__call__)\n",
      "        5    0.000    0.000    0.000    0.000 formatters.py:944(_check_return)\n",
      "        5    0.000    0.000    0.000    0.000 formatters.py:830(_check_return)\n",
      "        5    0.000    0.000    0.000    0.000 jsonutil.py:52(encode_images)\n",
      "        5    0.000    0.000    0.011    0.002 zmqshell.py:80(publish)\n",
      "        5    0.000    0.000    0.000    0.000 std.py:574(_decr_instances)\n",
      "        5    0.000    0.000    0.000    0.000 std.py:551(__new__)\n",
      "        5    0.000    0.000    0.037    0.007 notebook.py:99(status_printer)\n",
      "        5    0.000    0.000    0.000    0.000 utils.py:228(_screen_shape_windows)\n",
      "        5    0.000    0.000    0.000    0.000 utils.py:144(__init__)\n",
      "        5    0.000    0.000    0.000    0.000 std.py:166(colour)\n",
      "        5    0.000    0.000    0.000    0.000 std.py:185(__format__)\n",
      "        5    0.000    0.000    0.000    0.000 std.py:1262(close)\n",
      "        5    0.000    0.000    0.058    0.012 notebook.py:206(__init__)\n",
      "        5    0.000    0.000    0.001    0.000 std.py:837(__init__)\n",
      "        5    0.000    0.000    0.000    0.000 widget.py:802(_repr_mimebundle_)\n",
      "        5    0.000    0.000    0.000    0.000 zmqshell.py:73(_hooks)\n",
      "        5    0.000    0.000    0.009    0.002 zmqshell.py:63(_flush_streams)\n",
      "        5    0.000    0.000    0.011    0.002 widget_float.py:23(__init__)\n",
      "        5    0.000    0.000    0.007    0.001 widget_box.py:62(__init__)\n",
      "        5    0.000    0.000    0.000    0.000 widget_float.py:41(_validate_min)\n",
      "        5    0.000    0.000    0.000    0.000 widget_float.py:51(_validate_max)\n",
      "        5    0.000    0.000    0.000    0.000 widget.py:50(<listcomp>)\n",
      "        5    0.000    0.000    0.058    0.012 auto.py:33(trange)\n",
      "        5    0.000    0.000    0.000    0.000 notebook.py:85(__repr__)\n",
      "        5    0.000    0.000    0.000    0.000 utils.py:183(_is_utf)\n",
      "        5    0.000    0.000    0.000    0.000 std.py:567(_get_free_pos)\n",
      "        5    0.000    0.000    0.001    0.000 asyncio.py:23(__init__)\n",
      "        5    0.000    0.000    0.000    0.000 std.py:648(get_lock)\n",
      "        5    0.000    0.000    0.000    0.000 utils.py:197(_supports_unicode)\n",
      "        5    0.000    0.000    0.000    0.000 utils.py:213(_screen_shape_wrapper)\n",
      "        5    0.000    0.000    0.000    0.000 notebook.py:76(_json_)\n",
      "        5    0.000    0.000    0.000    0.000 _monitor.py:94(report)\n",
      "        5    0.000    0.000    0.000    0.000 utils.py:43(__format__)\n",
      "        5    0.000    0.000    0.000    0.000 utils.py:70(__getattr__)\n",
      "        5    0.000    0.000    0.000    0.000 utils.py:56(__eq__)\n",
      "        5    0.000    0.000    0.000    0.000 std.py:162(colour)\n",
      "        5    0.000    0.000    0.000    0.000 std.py:570(<setcomp>)\n",
      "        5    0.000    0.000    0.000    0.000 utils.py:204(_is_ascii)\n",
      "        5    0.000    0.000    0.000    0.000 std.py:152(__init__)\n",
      "        5    0.000    0.000    0.000    0.000 utils.py:87(__init__)\n",
      "        5    0.000    0.000    0.000    0.000 {method 'pop' of 'list' objects}\n",
      "        5    0.000    0.000    0.000    0.000 {method 'difference' of 'set' objects}\n",
      "        5    0.000    0.000    0.000    0.000 {built-in method builtins.repr}\n",
      "        5    0.000    0.000    0.000    0.000 {built-in method sys.audit}\n",
      "        4    0.000    0.000    0.012    0.003 copy.py:201(_deepcopy_list)\n",
      "        4    0.009    0.002    5.664    1.416 pomdp.py:871(expand_ssea)\n",
      "        4    0.001    0.000    5.665    1.416 pomdp.py:926(expand)\n",
      "        4    0.000    0.000    0.000    0.000 pomdp.py:948(<dictcomp>)\n",
      "        2    0.000    0.000    0.000    0.000 iostream.py:610(write)\n",
      "        2    0.000    0.000    0.000    0.000 iostream.py:532(_schedule_flush)\n",
      "        2    0.000    0.000    0.000    0.000 iostream.py:505(_is_master_process)\n",
      "        2    0.000    0.000    0.000    0.000 std.py:1144(__del__)\n",
      "        2    0.000    0.000    0.000    0.000 {method '__exit__' of '_thread.RLock' objects}\n",
      "        2    0.000    0.000    0.000    0.000 {method 'write' of '_io.StringIO' objects}\n",
      "        1    0.000    0.000    0.000    0.000 pstats.py:137(load_stats)\n",
      "        1    0.000    0.000    0.000    0.000 pstats.py:118(init)\n",
      "        1    0.000    0.000    0.000    0.000 pstats.py:108(__init__)\n",
      "        1    0.000    0.000    0.000    0.000 cProfile.py:51(create_stats)\n",
      "        1    0.943    0.943   22.481   22.481 pomdp.py:958(solve)\n",
      "        1    0.000    0.000    0.000    0.000 pomdp.py:401(__init__)\n",
      "        1    0.000    0.000    0.000    0.000 pomdp.py:1000(<listcomp>)\n",
      "        1    0.000    0.000    0.000    0.000 mdp.py:868(__init__)\n",
      "        1    0.000    0.000    0.000    0.000 {built-in method builtins.print}\n",
      "        1    0.000    0.000    0.000    0.000 {method 'disable' of '_lsprof.Profiler' objects}\n",
      "\n",
      "\n"
     ]
    }
   ],
   "source": [
    "from cProfile import Profile\n",
    "from pstats import SortKey, Stats\n",
    "\n",
    "\n",
    "with Profile() as profile:\n",
    "    solver.solve(model, 4, 8)\n",
    "    print(f\"\")\n",
    "    (\n",
    "        Stats(profile)\n",
    "        .strip_dirs()\n",
    "        .sort_stats(SortKey.CALLS)\n",
    "        .print_stats()\n",
    "    )"
   ]
  },
  {
   "cell_type": "code",
   "execution_count": null,
   "metadata": {},
   "outputs": [],
   "source": []
  }
 ],
 "metadata": {
  "kernelspec": {
   "display_name": "Python 3",
   "language": "python",
   "name": "python3"
  },
  "language_info": {
   "codemirror_mode": {
    "name": "ipython",
    "version": 3
   },
   "file_extension": ".py",
   "mimetype": "text/x-python",
   "name": "python",
   "nbconvert_exporter": "python",
   "pygments_lexer": "ipython3",
   "version": "3.11.4"
  },
  "orig_nbformat": 4
 },
 "nbformat": 4,
 "nbformat_minor": 2
}
