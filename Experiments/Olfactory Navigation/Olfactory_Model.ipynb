{
 "cells": [
  {
   "cell_type": "code",
   "execution_count": 1,
   "metadata": {},
   "outputs": [],
   "source": [
    "import sys\n",
    "sys.path.append('../..')\n",
    "from src.pomdp import *\n",
    "\n",
    "import pandas as pd\n",
    "import numpy as np\n",
    "import cupy as cp\n"
   ]
  },
  {
   "cell_type": "code",
   "execution_count": 2,
   "metadata": {},
   "outputs": [],
   "source": [
    "# For my computer: so it doesn't use shared GPU memory which is slower\n",
    "mempool = cp.get_default_memory_pool()\n",
    "mempool.set_limit(size=3.7*1024**3) # Allowing cupy 3.8 GB of GPU memory"
   ]
  },
  {
   "cell_type": "markdown",
   "metadata": {},
   "source": [
    "## Model definition"
   ]
  },
  {
   "cell_type": "code",
   "execution_count": 3,
   "metadata": {},
   "outputs": [],
   "source": [
    "olfactory_data = pd.read_csv('./Data/statistics_nose_3e6_35_153.dat', sep=',', header=None).values\n",
    "olfactory_data = np.array(olfactory_data)"
   ]
  },
  {
   "cell_type": "code",
   "execution_count": 4,
   "metadata": {},
   "outputs": [],
   "source": [
    "# olfactory_data = pd.read_csv('./Data/statistics_nose_5e6.dat', sep=' ', skiprows=[0], header=None).values.T\n",
    "# olfactory_data = np.array(olfactory_data[:320,:])"
   ]
  },
  {
   "cell_type": "code",
   "execution_count": 5,
   "metadata": {},
   "outputs": [
    {
     "name": "stdout",
     "output_type": "stream",
     "text": [
      "Environment shape: (35, 153)\n",
      "State count: 5355\n"
     ]
    }
   ],
   "source": [
    "# Model size\n",
    "env_shape = olfactory_data.shape\n",
    "state_count = env_shape[0] * env_shape[1]\n",
    "\n",
    "print(f'Environment shape: {env_shape}')\n",
    "print(f'State count: {state_count}')"
   ]
  },
  {
   "cell_type": "code",
   "execution_count": 6,
   "metadata": {},
   "outputs": [
    {
     "data": {
      "text/plain": [
       "0.9988461538461538"
      ]
     },
     "execution_count": 6,
     "metadata": {},
     "output_type": "execute_result"
    }
   ],
   "source": [
    "# goal state\n",
    "olfactory_data[17,0]"
   ]
  },
  {
   "cell_type": "code",
   "execution_count": 7,
   "metadata": {},
   "outputs": [],
   "source": [
    "def id_from_pos(x,y):\n",
    "    return (x * env_shape[1]) + y"
   ]
  },
  {
   "cell_type": "code",
   "execution_count": 8,
   "metadata": {},
   "outputs": [],
   "source": [
    "# states\n",
    "state_grid = []\n",
    "\n",
    "# observation matrix\n",
    "flattened_olfactory_data = olfactory_data.flatten()\n",
    "\n",
    "observations = np.zeros((state_count, 4, 2))\n",
    "observations[:,:,0] = flattened_olfactory_data.reshape((flattened_olfactory_data.shape[0],1)).repeat(4, axis=1)\n",
    "observations[:,:,1] = (1 - observations[:,:,0])\n",
    "\n",
    "# State labels\n",
    "for i in range(env_shape[0]):\n",
    "    i_states = []\n",
    "    for j in range(env_shape[1]):\n",
    "        i_states.append(f's_{i}_{j}')\n",
    "\n",
    "    state_grid.append(i_states)"
   ]
  },
  {
   "cell_type": "code",
   "execution_count": 9,
   "metadata": {},
   "outputs": [],
   "source": [
    "row_w = env_shape[1]\n",
    "\n",
    "reachable_states = np.zeros((state_count, 4, 1), dtype=int)\n",
    "for s in range(state_count):\n",
    "    reachable_states[s,0,0] = s - row_w if s - row_w >= 0 else s # North\n",
    "    reachable_states[s,1,0] = s + 1 if (s + 1) % row_w > 0 else s # East\n",
    "    reachable_states[s,2,0] = s + row_w if s + row_w < state_count else s # South\n",
    "    reachable_states[s,3,0] = s - 1 if (s - 1) % row_w < (row_w - 1) else s # West\n",
    "\n",
    "reachable_states = np.array(reachable_states)"
   ]
  },
  {
   "cell_type": "code",
   "execution_count": 10,
   "metadata": {},
   "outputs": [],
   "source": [
    "# Reward function\n",
    "def reward_func(s,a,sn,o):\n",
    "    # return np.where(sn == (175*env_shape[1]), 1.0, 0.0)\n",
    "    return np.where(sn == (17*env_shape[1]), 1.0, 0.0)"
   ]
  },
  {
   "cell_type": "code",
   "execution_count": 11,
   "metadata": {},
   "outputs": [
    {
     "name": "stdout",
     "output_type": "stream",
     "text": [
      "[10/13/2023, 00:30:32] Instantiation of MDP Model:\n",
      "[10/13/2023, 00:30:32] - 5355 states\n",
      "[10/13/2023, 00:30:32] - 4 actions\n",
      "[10/13/2023, 00:30:32] - At most 1 reachable states per state-action pair\n",
      "[10/13/2023, 00:30:32] - Starting generation of transitions table\n",
      "[Warning] No transition matrix or function provided but reachable states are, so probability to reach any reachable states will \"1 / reachable state count\" so here: 1.000.\n",
      "[10/13/2023, 00:30:32]     > Done in 0.000s\n",
      "[10/13/2023, 00:30:32] - Generation of state grid\n",
      "[10/13/2023, 00:30:32] - Generating start probabilities table\n",
      "[10/13/2023, 00:30:32] - Starting computation of reachable state probabilities from transition data\n",
      "[10/13/2023, 00:30:32]     > Done in 0.000s\n",
      "[10/13/2023, 00:30:32] POMDP particular parameters:\n",
      "[10/13/2023, 00:30:32] - 2 observations\n",
      "[10/13/2023, 00:30:32] - Starting of transitional observations for reachable states table\n",
      "[10/13/2023, 00:30:32]     > Done in 0.000s\n",
      "[10/13/2023, 00:30:32] - Starting generation of expected rewards table\n",
      "[10/13/2023, 00:30:32]     > Done in 0.002s\n"
     ]
    }
   ],
   "source": [
    "model = Model(\n",
    "    states=state_grid,\n",
    "    actions=['N','E','S','W'],\n",
    "    observations=['something', 'nothing'],\n",
    "    reachable_states=reachable_states,\n",
    "    rewards=reward_func,\n",
    "    observation_table=observations,\n",
    "    end_states=[id_from_pos(17,0)]\n",
    ")"
   ]
  },
  {
   "cell_type": "code",
   "execution_count": null,
   "metadata": {},
   "outputs": [],
   "source": []
  },
  {
   "cell_type": "markdown",
   "metadata": {},
   "source": [
    "## VI Solve"
   ]
  },
  {
   "cell_type": "code",
   "execution_count": 12,
   "metadata": {},
   "outputs": [],
   "source": [
    "from src.mdp import VI_Solver"
   ]
  },
  {
   "cell_type": "code",
   "execution_count": 13,
   "metadata": {},
   "outputs": [],
   "source": [
    "solver = VI_Solver(eps=1e-3)"
   ]
  },
  {
   "cell_type": "code",
   "execution_count": 14,
   "metadata": {},
   "outputs": [
    {
     "name": "stdout",
     "output_type": "stream",
     "text": [
      "[10/13/2023, 00:30:32] Sending Model to GPU...\n",
      "[10/13/2023, 00:30:33]     > Done in 0.152s\n"
     ]
    },
    {
     "data": {
      "application/vnd.jupyter.widget-view+json": {
       "model_id": "95941aa7977f40fca0c9454a9443a41f",
       "version_major": 2,
       "version_minor": 0
      },
      "text/plain": [
       "  0%|          | 0/10000 [00:00<?, ?it/s]"
      ]
     },
     "metadata": {},
     "output_type": "display_data"
    }
   ],
   "source": [
    "solution, history = solver.solve(model, use_gpu=True)"
   ]
  },
  {
   "cell_type": "code",
   "execution_count": 15,
   "metadata": {},
   "outputs": [
    {
     "name": "stdout",
     "output_type": "stream",
     "text": [
      "Summary of Value Iteration run\n",
      "  - Model: 5355-state, 4-action\n",
      "  - Converged in 231 iterations and 0.3160 seconds\n",
      "  - Took on average 0.0014s per iteration\n"
     ]
    }
   ],
   "source": [
    "print(history.summary)"
   ]
  },
  {
   "cell_type": "code",
   "execution_count": 16,
   "metadata": {},
   "outputs": [
    {
     "name": "stdout",
     "output_type": "stream",
     "text": [
      "[Warning] Value function on GPU, converting to numpy before plotting...\n",
      "[Warning] 'as_grid' parameter set to False but state count is >3 so it will be plotted as a grid\n"
     ]
    },
    {
     "data": {
      "image/png": "[encoded data removed]",
      "text/plain": [
       "<Figure size 1000x500 with 3 Axes>"
      ]
     },
     "metadata": {},
     "output_type": "display_data"
    }
   ],
   "source": [
    "solution.plot()"
   ]
  },
  {
   "cell_type": "markdown",
   "metadata": {},
   "source": [
    "## FSVI"
   ]
  },
  {
   "cell_type": "code",
   "execution_count": 17,
   "metadata": {},
   "outputs": [],
   "source": [
    "fsvi_solver = FSVI_Solver(0.99, eps=1e-6)"
   ]
  },
  {
   "cell_type": "code",
   "execution_count": 18,
   "metadata": {},
   "outputs": [
    {
     "data": {
      "application/vnd.jupyter.widget-view+json": {
       "model_id": "00841b810c5948f0a438a691d135884a",
       "version_major": 2,
       "version_minor": 0
      },
      "text/plain": [
       "Expansions:   0%|          | 0/100 [00:00<?, ?it/s]"
      ]
     },
     "metadata": {},
     "output_type": "display_data"
    }
   ],
   "source": [
    "fsvi_solution, hist = fsvi_solver.solve(model=model,\n",
    "                                        expansions=100,\n",
    "                                        horizon=300,\n",
    "                                        mdp_policy=solution,\n",
    "                                        # expand_prune_level=2,\n",
    "                                        # history_tracking_level=2,\n",
    "                                        use_gpu=True)"
   ]
  },
  {
   "cell_type": "code",
   "execution_count": 18,
   "metadata": {},
   "outputs": [
    {
     "data": {
      "application/vnd.jupyter.widget-view+json": {
       "model_id": "01ec518593034df281839e5f7fe6ec24",
       "version_major": 2,
       "version_minor": 0
      },
      "text/plain": [
       "Expansions:   0%|          | 0/100 [00:00<?, ?it/s]"
      ]
     },
     "metadata": {},
     "output_type": "display_data"
    },
    {
     "name": "stdout",
     "output_type": "stream",
     "text": [
      "         5801488 function calls (5789399 primitive calls) in 52.357 seconds\n",
      "\n",
      "   Ordered by: call count\n",
      "\n",
      "   ncalls  tottime  percall  cumtime  percall filename:lineno(function)\n",
      "  1062770    0.215    0.000    0.215    0.000 pomdp.py:337(values)\n",
      "   778070    0.211    0.000    0.286    0.000 {built-in method builtins.isinstance}\n",
      "561605/561324    0.095    0.000    0.095    0.000 {built-in method builtins.len}\n",
      "   540483    0.524    0.000    0.612    0.000 __init__.py:830(get_array_module)\n",
      "   522493    0.396    0.000    0.580    0.000 pomdp.py:451(<genexpr>)\n",
      "   522493    0.481    0.000    1.103    0.000 pomdp.py:456(<genexpr>)\n",
      "   133088    0.223    0.000    0.402    0.000 numeric.py:1855(isscalar)\n",
      "    71248    0.174    0.000    0.174    0.000 _internal.py:250(__init__)\n",
      "    71248    0.050    0.000    0.050    0.000 _internal.py:304(data)\n",
      "    71048    0.087    0.000    0.128    0.000 syncdetect.py:36(_declare_synchronize)\n",
      "    71048    0.041    0.000    0.041    0.000 syncdetect.py:27(_is_allowed)\n",
      "47656/47205    0.032    0.000    0.038    0.000 {built-in method builtins.getattr}\n",
      "    44464    0.031    0.000    0.075    0.000 <frozen abc>:117(__instancecheck__)\n",
      "    44464    0.043    0.000    0.043    0.000 {built-in method _abc._abc_instancecheck}\n",
      "    36471    0.010    0.000    0.010    0.000 {method 'items' of 'dict' objects}\n",
      "    35568    0.144    0.000    0.514    0.000 fromnumeric.py:71(_wrapreduction)\n",
      "    35568    0.040    0.000    0.040    0.000 fromnumeric.py:72(<dictcomp>)\n",
      "    35568    0.009    0.000    0.009    0.000 {built-in method numpy.geterrobj}\n",
      "    35568    0.195    0.000    0.195    0.000 {method 'reduce' of 'numpy.ufunc' objects}\n",
      "    26777    0.025    0.000    0.025    0.000 {built-in method cupy._core._fusion_thread_local.is_fusing}\n",
      "    26676    0.023    0.000    0.164    0.000 _methods.py:61(_all)\n",
      "    26676    0.060    0.000    0.460    0.000 fromnumeric.py:2421(all)\n",
      "    26676    0.008    0.000    0.008    0.000 fromnumeric.py:2416(_all_dispatcher)\n",
      "    26676    0.061    0.000    0.061    0.000 {built-in method numpy.asanyarray}\n",
      "    26676    0.077    0.000    0.241    0.000 {method 'all' of 'numpy.generic' objects}\n",
      "    20603    0.005    0.000    0.005    0.000 {method 'append' of 'list' objects}\n",
      "    18492    0.699    0.000    0.703    0.000 {built-in method cupy._core.core.array}\n",
      "    18092    0.020    0.000    0.721    0.000 from_data.py:7(array)\n",
      "    17989    0.217    0.000    1.900    0.000 {built-in method builtins.all}\n",
      "    17884    0.032    0.000   19.572    0.001 search.py:10(argmax)\n",
      "    17884    0.009    0.000    0.009    0.000 multiarray.py:618(min_scalar_type)\n",
      "    17884    1.443    0.000   19.541    0.001 {method 'argmax' of 'cupy._core.core._ndarray_base' objects}\n",
      "    17866    0.018    0.000    0.073    0.000 {built-in method builtins.next}\n",
      "    17787    0.023    0.000    0.023    0.000 {built-in method builtins.abs}\n",
      "    17784    0.063    0.000    0.140    0.000 _ufunc_config.py:33(seterr)\n",
      "    17784    0.050    0.000    0.053    0.000 _ufunc_config.py:132(geterr)\n",
      "    17784    0.019    0.000    0.051    0.000 _ufunc_config.py:452(_no_nep50_warning)\n",
      "    17784    0.045    0.000    1.250    0.000 sumprod.py:9(sum)\n",
      "    17784    0.017    0.000    0.017    0.000 {built-in method numpy.seterrobj}\n",
      "    17784    1.168    0.000    1.188    0.000 {method 'sum' of 'cupy._core.core._ndarray_base' objects}\n",
      "    17584    1.020    0.000    1.027    0.000 {method 'flatten' of 'cupy._core.core._ndarray_base' objects}\n",
      "    13700    0.006    0.000    0.006    0.000 {method 'get' of 'dict' objects}\n",
      "11023/10404    0.006    0.000    0.018    0.000 traitlets.py:692(__get__)\n",
      "    10359    0.011    0.000    0.012    0.000 {built-in method builtins.max}\n",
      "    10239    0.006    0.000    0.006    0.000 {method 'extend' of 'list' objects}\n",
      "10145/9741    0.005    0.000    0.012    0.000 traitlets.py:654(get)\n",
      "     9393    0.144    0.000    0.144    0.000 basic.py:7(empty)\n",
      "     9317    0.004    0.000    0.004    0.000 {built-in method builtins.iter}\n",
      "     9294    0.012    0.000    0.016    0.000 function_base.py:348(iterable)\n",
      "     9294    0.104    0.000    0.120    0.000 {built-in method cupy._core._routines_manipulation.broadcast_to}\n",
      "     9193    0.002    0.000    0.002    0.000 multiarray.py:669(result_type)\n",
      "9148/9139    0.006    0.000    0.007    0.000 {built-in method __new__ of type object at 0x00007FFA826A8F90}\n",
      "     9093    0.014    0.000    0.206    0.000 mdp.py:658(alpha_vector_array)\n",
      "     8993    0.025    0.000    0.737    0.000 order.py:47(amax)\n",
      "     8993    0.703    0.000    0.703    0.000 {method 'max' of 'cupy._core.core._ndarray_base' objects}\n",
      "     8906    0.005    0.000    0.005    0.000 multiarray.py:503(can_cast)\n",
      "     8900    0.899    0.000    0.928    0.000 mdp.py:578(__init__)\n",
      "     8900    0.531    0.000    0.561    0.000 {method 'tobytes' of 'cupy._core.core._ndarray_base' objects}\n",
      "     8895    0.023    0.000    0.052    0.000 contextlib.py:141(__exit__)\n",
      "     8895    0.011    0.000    0.051    0.000 contextlib.py:132(__enter__)\n",
      "     8895    0.022    0.000    0.026    0.000 contextlib.py:104(__init__)\n",
      "     8895    0.018    0.000    0.044    0.000 contextlib.py:287(helper)\n",
      "     8893    0.039    0.000    1.956    0.000 pomdp.py:442(__init__)\n",
      "     8892    0.012    0.000    0.129    0.000 dims.py:116(broadcast_to)\n",
      " 8892/100    0.321    0.000   23.870    0.239 pomdp.py:1473(MDPExplore)\n",
      "     8892    0.221    0.000    1.142    0.000 numeric.py:2249(isclose)\n",
      "     8892    0.476    0.000    0.934    0.000 _generator.py:1172(gumbel)\n",
      "     8892    0.022    0.000    0.108    0.000 _ufunc_config.py:430(__enter__)\n",
      "     8892    0.018    0.000    0.072    0.000 _ufunc_config.py:435(__exit__)\n",
      "     8892    0.005    0.000    0.005    0.000 _ufunc_config.py:426(__init__)\n",
      "     8892    0.066    0.000    1.340    0.000 numeric.py:2170(allclose)\n",
      "     8892    0.018    0.000    0.132    0.000 fromnumeric.py:2979(prod)\n",
      "     8892    0.163    0.000    0.520    0.000 numeric.py:2330(within_tol)\n",
      "     8892    0.004    0.000    0.004    0.000 numeric.py:2166(_allclose_dispatcher)\n",
      "     8892    0.002    0.000    0.002    0.000 numeric.py:2245(_isclose_dispatcher)\n",
      "     8892    0.003    0.000    0.003    0.000 fromnumeric.py:2974(_prod_dispatcher)\n",
      "     8892    3.384    0.000   13.312    0.001 _generator.py:1057(choice)\n",
      "     8892    0.049    0.000    0.427    0.000 _generator.py:598(_random_sample_raw)\n",
      "     8892    0.032    0.000    0.067    0.000 _generator.py:1269(get_random_state)\n",
      "     8892    0.018    0.000    0.018    0.000 _generator.py:1305(_check_and_get_dtype)\n",
      "     8892    0.088    0.000   13.468    0.002 _sample.py:159(choice)\n",
      "     8892    0.226    0.000    0.226    0.000 {built-in method cupy_backends.cuda.libs.curand.generateUniformDouble}\n",
      "     8892    0.021    0.000    0.021    0.000 {method 'set' of '_contextvars.ContextVar' objects}\n",
      "     8892    0.011    0.000    0.011    0.000 {method 'reset' of '_contextvars.ContextVar' objects}\n",
      "     8892    0.894    0.000    4.911    0.001 {method 'all' of 'cupy._core.core._ndarray_base' objects}\n",
      "     8892    0.407    0.000    0.448    0.000 {method 'get' of 'cupy._core.core._ndarray_base' objects}\n",
      "     8792    1.196    0.000    1.322    0.000 mdp.py:393(transition)\n",
      "     8792    2.685    0.000    8.708    0.001 pomdp.py:345(update)\n",
      "     8792    1.462    0.000   10.819    0.001 pomdp.py:275(observe)\n",
      "     8792    0.003    0.000    0.003    0.000 pomdp.py:479(belief_list)\n",
      "     8792    2.104    0.000    4.184    0.000 histogram.py:481(bincount)\n",
      "     8792    0.140    0.000    0.355    0.000 basic.py:196(zeros)\n",
      "     8792    0.215    0.000    0.215    0.000 {method 'memset_async' of 'cupy.cuda.memory.MemoryPointer' objects}\n",
      "     8792    0.886    0.000    0.888    0.000 {method 'any' of 'cupy._core.core._ndarray_base' objects}\n",
      "     3769    0.001    0.000    0.001    0.000 {method 'replace' of 'str' objects}\n",
      "     3578    0.001    0.000    0.001    0.000 {method 'group' of 're.Match' objects}\n",
      "     3204    0.002    0.000    0.002    0.000 {built-in method builtins.hasattr}\n",
      "     2705    0.001    0.000    0.001    0.000 {method 'endswith' of 'str' objects}\n",
      "     2405    0.001    0.000    0.001    0.000 {method 'startswith' of 'str' objects}\n",
      "     2300    0.001    0.000    0.001    0.000 _einsum.py:444(<genexpr>)\n",
      "     2112    0.000    0.000    0.000    0.000 {method 'pop' of 'dict' objects}\n",
      "     2104    0.000    0.000    0.000    0.000 {built-in method nt.fspath}\n",
      "     2094    0.000    0.000    0.000    0.000 {built-in method builtins.ord}\n",
      "     2085    0.001    0.000    0.001    0.000 {method 'join' of 'str' objects}\n",
      "     1981    0.000    0.000    0.000    0.000 {method 'rstrip' of 'str' objects}\n",
      "     1832    0.018    0.000    0.018    0.000 {method 'encode' of 'str' objects}\n",
      "     1789    0.002    0.000    0.003    0.000 string.py:110(convert)\n",
      "     1617    0.001    0.000    0.001    0.000 _parser.py:231(__next)\n",
      "     1503    0.000    0.000    0.000    0.000 {method 'keys' of 'dict' objects}\n",
      "     1455    0.001    0.000    0.001    0.000 _parser.py:252(get)\n",
      "     1403    0.008    0.000    0.008    0.000 {method 'transpose' of 'cupy._core.core._ndarray_base' objects}\n",
      "     1402    0.001    0.000    0.001    0.000 {built-in method builtins.sorted}\n",
      "     1400    0.000    0.000    0.000    0.000 {method 'index' of 'list' objects}\n",
      "     1251    0.004    0.000    0.005    0.000 <frozen ntpath>:154(splitdrive)\n",
      "     1240    0.003    0.000    0.018    0.000 encoder.py:183(encode)\n",
      "     1240    0.003    0.000    0.022    0.000 __init__.py:183(dumps)\n",
      "     1240    0.001    0.000    0.001    0.000 encoder.py:105(__init__)\n",
      "     1240    0.009    0.000    0.014    0.000 encoder.py:205(iterencode)\n",
      "     1240    0.002    0.000    0.025    0.000 session.py:92(json_packer)\n",
      "     1240    0.001    0.000    0.002    0.000 hmac.py:117(update)\n",
      "     1240    0.001    0.000    0.001    0.000 {method 'update' of '_hashlib.HMAC' objects}\n",
      "     1206    0.000    0.000    0.000    0.000 _gufuncs.py:415(<genexpr>)\n",
      "     1200    0.002    0.000    0.003    0.000 _einsum.py:443(_tuple_sorted_by_0)\n",
      "     1200    0.003    0.000    0.004    0.000 ranges.py:30(<genexpr>)\n",
      "     1095    0.001    0.000    0.001    0.000 {method 'split' of 'str' objects}\n",
      "     1042    0.015    0.000    0.015    0.000 {method 'update' of 'dict' objects}\n",
      "     1001    0.006    0.000    0.006    0.000 {method 'reshape' of 'cupy._core.core._ndarray_base' objects}\n",
      "     1000    0.000    0.000    0.000    0.000 _einsum.py:561(<genexpr>)\n",
      "      878    0.000    0.000    0.000    0.000 {method 'pop' of 'list' objects}\n",
      "      875    0.002    0.000    0.003    0.000 traitlets.py:1917(trait_metadata)\n",
      "      844    0.000    0.000    0.000    0.000 {method 'upper' of 'str' objects}\n",
      "  841/838    0.002    0.000    0.002    0.000 {method 'format' of 'str' objects}\n",
      "      803    0.000    0.000    0.000    0.000 {built-in method from_iterable}\n",
      "      753    0.000    0.000    0.001    0.000 typing.py:1238(_is_dunder)\n",
      "      717    0.000    0.000    0.000    0.000 {method 'lower' of 'str' objects}\n",
      "      703    0.000    0.000    0.000    0.000 {method 'union' of 'set' objects}\n",
      "      700    0.001    0.000    0.001    0.000 {built-in method cupy._core.internal.prod}\n",
      "      687    0.001    0.000    0.001    0.000 typing.py:1290(__setattr__)\n",
      "      646    0.000    0.000    0.000    0.000 <frozen os>:742(check_str)\n",
      "      643    0.001    0.000    0.001    0.000 <frozen os>:748(encodekey)\n",
      "      642    0.001    0.000    0.001    0.000 {method 'copy' of 'dict' objects}\n",
      "      640    0.002    0.000    0.003    0.000 <frozen os>:674(__getitem__)\n",
      "      628    0.053    0.000    0.053    0.000 {built-in method nt.stat}\n",
      "      623    0.000    0.000    0.000    0.000 {built-in method nt.getpid}\n",
      "      621    0.000    0.000    0.000    0.000 <frozen importlib._bootstrap>:244(_verbose_message)\n",
      "      620    0.002    0.000    0.005    0.000 jsonutil.py:107(json_default)\n",
      "      620    0.000    0.000    0.000    0.000 jsonutil.py:38(_ensure_tzinfo)\n",
      "      620    0.003    0.000    0.003    0.000 {method 'isoformat' of 'datetime.datetime' objects}\n",
      "      619    0.000    0.000    0.000    0.000 jsonutil.py:77(json_clean)\n",
      "      603    0.000    0.000    0.000    0.000 _gufuncs.py:197(<genexpr>)\n",
      "      602    0.000    0.000    0.000    0.000 _gufuncs.py:417(<genexpr>)\n",
      "      602    0.000    0.000    0.000    0.000 _gufuncs.py:492(<genexpr>)\n",
      "      602    0.000    0.000    0.000    0.000 {method 'rpartition' of 'str' objects}\n",
      "      600    0.000    0.000    0.000    0.000 _einsum.py:271(<genexpr>)\n",
      "      600    0.001    0.000    0.001    0.000 _einsum.py:203(<listcomp>)\n",
      "      600    0.000    0.000    0.000    0.000 _einsum.py:296(<listcomp>)\n",
      "      600    0.000    0.000    0.000    0.000 _einsum.py:583(<genexpr>)\n",
      "      600    0.002    0.000    0.003    0.000 _einsum.py:175(_parse_ellipsis_subscript)\n",
      "      593    0.001    0.000    0.001    0.000 std.py:230(__call__)\n",
      "      586    0.005    0.000    0.007    0.000 <frozen importlib._bootstrap_external>:96(_path_join)\n",
      "      586    0.001    0.000    0.001    0.000 <frozen importlib._bootstrap_external>:119(<listcomp>)\n",
      "      569    0.000    0.000    0.000    0.000 widget.py:792(_trait_to_json)\n",
      "      549    0.000    0.000    0.000    0.000 {built-in method _thread.get_ident}\n",
      "      546    0.000    0.000    0.000    0.000 {built-in method _imp.acquire_lock}\n",
      "      546    0.000    0.000    0.000    0.000 {built-in method _imp.release_lock}\n",
      "      526    0.000    0.000    0.000    0.000 {built-in method builtins.id}\n",
      "      510    0.001    0.000    0.005    0.000 {built-in method builtins.any}\n",
      "      500    0.001    0.000    0.001    0.000 {built-in method now}\n",
      "    489/3    0.001    0.000    0.001    0.000 copy.py:128(deepcopy)\n",
      "      480    0.000    0.000    0.000    0.000 copy.py:182(_deepcopy_atomic)\n",
      "      477    0.003    0.000    0.008    0.000 <frozen ntpath>:107(join)\n",
      "      456    0.000    0.000    0.000    0.000 <frozen os>:697(__iter__)\n",
      "      444    0.000    0.000    0.000    0.000 <frozen importlib._bootstrap_external>:134(<genexpr>)\n",
      "      415    0.001    0.000    0.003    0.000 <frozen _collections_abc>:771(get)\n",
      "      402    0.002    0.000    0.005    0.000 _gufuncs.py:414(_transpose_element)\n",
      "      402    0.000    0.000    0.000    0.000 {built-in method numpy.promote_types}\n",
      "      401    0.000    0.000    0.000    0.000 {built-in method builtins.divmod}\n",
      "      400    0.000    0.000    0.002    0.000 from_data.py:78(asanyarray)\n",
      "      400    0.000    0.000    0.000    0.000 _einsum.py:614(<genexpr>)\n",
      "      400    0.001    0.000    0.001    0.000 copy.py:66(copy)\n",
      "      400    0.002    0.000    0.005    0.000 _einsum.py:425(_make_transpose_axes)\n",
      "      400    0.001    0.000    0.002    0.000 _einsum.py:259(_iter_path_pairs)\n",
      "      400    0.000    0.000    0.000    0.000 {method 'copy' of 'list' objects}\n",
      "      400    0.000    0.000    0.000    0.000 {method 'count' of 'str' objects}\n",
      "      400    0.000    0.000    0.000    0.000 {method 'astype' of 'cupy._core.core._ndarray_base' objects}\n",
      "      399    0.000    0.000    0.000    0.000 typing.py:1358(__eq__)\n",
      "      398    0.000    0.000    0.000    0.000 {built-in method time.time}\n",
      "  390/384    0.001    0.000    0.004    0.000 traitlets.py:734(_validate)\n",
      "      376    0.002    0.000    0.002    0.000 traitlets.py:1519(_notify_observers)\n",
      "      363    0.000    0.000    0.000    0.000 _parser.py:162(__getitem__)\n",
      "      360    0.000    0.000    0.000    0.000 {built-in method builtins.callable}\n",
      "      345    0.000    0.000    0.000    0.000 traitlets.py:263(__init__)\n",
      "      345    0.000    0.000    0.000    0.000 traitlets.py:266(__call__)\n",
      "      345    0.000    0.000    0.000    0.000 <frozen importlib._bootstrap>:1030(__exit__)\n",
      "      345    0.000    0.000    0.000    0.000 <frozen importlib._bootstrap>:1026(__enter__)\n",
      "      325    0.000    0.000    0.000    0.000 {method 'append' of 'collections.deque' objects}\n",
      "      325    0.001    0.000    0.001    0.000 {method 'acquire' of '_thread.lock' objects}\n",
      "      320    0.001    0.000    0.002    0.000 traitlets.py:1886(traits)\n",
      "      320    0.001    0.000    0.111    0.000 traitlets.py:705(set)\n",
      "      317    0.000    0.000    0.000    0.000 threading.py:568(is_set)\n",
      "      317    0.001    0.000    0.112    0.000 traitlets.py:723(__set__)\n",
      "      317    0.000    0.000    0.000    0.000 {built-in method builtins.locals}\n",
      "      316    0.000    0.000    0.001    0.000 threading.py:1118(_wait_for_tstate_lock)\n",
      "      316    0.001    0.000    0.002    0.000 threading.py:1185(is_alive)\n",
      "      316    0.001    0.000    0.002    0.000 traitlets.py:743(_cross_validate)\n",
      "      314    0.020    0.000    0.020    0.000 socket.py:621(send)\n",
      "      314    0.000    0.000    0.000    0.000 iostream.py:127(_event_pipe)\n",
      "  314/309    0.001    0.000    0.002    0.000 widget.py:85(_separate_buffers)\n",
      "      314    0.002    0.000    0.024    0.000 iostream.py:243(schedule)\n",
      "      312    0.000    0.000    0.003    0.000 traitlets.py:1515(notify_change)\n",
      "      312    0.003    0.000    0.106    0.000 widget.py:691(notify_change)\n",
      "      311    0.000    0.000    0.001    0.000 threading.py:1446(current_thread)\n",
      "      310    0.003    0.000    0.039    0.000 session.py:688(serialize)\n",
      "      310    0.001    0.000    0.003    0.000 hmac.py:122(copy)\n",
      "      310    0.001    0.000    0.009    0.000 session.py:647(msg)\n",
      "      310    0.005    0.000    0.081    0.000 session.py:752(send)\n",
      "      310    0.001    0.000    0.106    0.000 traitlets.py:1504(_notify_trait)\n",
      "      310    0.000    0.000    0.000    0.000 hmac.py:139(_current)\n",
      "      310    0.001    0.000    0.003    0.000 session.py:272(msg_header)\n",
      "      310    0.000    0.000    0.002    0.000 hmac.py:161(hexdigest)\n",
      "      310    0.001    0.000    0.002    0.000 session.py:198(utcnow)\n",
      "      310    0.000    0.000    0.000    0.000 session.py:279(extract_header)\n",
      "      310    0.002    0.000    0.009    0.000 session.py:673(sign)\n",
      "      310    0.001    0.000    0.001    0.000 session.py:852(<listcomp>)\n",
      "      310    0.001    0.000    0.002    0.000 session.py:598(msg_id)\n",
      "      310    0.001    0.000    0.006    0.000 session.py:643(msg_header)\n",
      "      310    0.000    0.000    0.001    0.000 configurable.py:565(initialized)\n",
      "      310    0.000    0.000    0.000    0.000 tz.py:74(utcoffset)\n",
      "      310    0.001    0.000    0.025    0.000 iostream.py:327(send_multipart)\n",
      "      310    0.001    0.000    0.024    0.000 iostream.py:255(send_multipart)\n",
      "      310    0.000    0.000    0.000    0.000 {built-in method utcnow}\n",
      "      310    0.001    0.000    0.001    0.000 {method 'replace' of 'datetime.datetime' objects}\n",
      "      310    0.001    0.000    0.001    0.000 {method 'hexdigest' of '_hashlib.HMAC' objects}\n",
      "      310    0.001    0.000    0.001    0.000 {method 'copy' of '_hashlib.HMAC' objects}\n",
      "      309    0.000    0.000    0.000    0.000 threading.py:1145(name)\n",
      "      309    0.003    0.000    0.088    0.000 comm.py:24(publish_msg)\n",
      "  309/302    0.002    0.000    0.011    0.000 widget.py:589(get_state)\n",
      "      309    0.001    0.000    0.003    0.000 kernelbase.py:620(get_parent)\n",
      "      309    0.001    0.000    0.002    0.000 widget.py:130(_remove_buffers)\n",
      "      306    0.000    0.000    0.000    0.000 {method 'rfind' of 'str' objects}\n",
      "      305    0.000    0.000    0.025    0.000 <frozen importlib._bootstrap_external>:140(_path_stat)\n",
      "  301/281    0.000    0.000    0.006    0.000 typing.py:349(inner)\n",
      "      300    0.001    0.000    0.001    0.000 _internal.py:920(npy_ctypes_check)\n",
      "      300    0.025    0.000    0.038    0.000 ranges.py:9(arange)\n",
      "      300    0.000    0.000    0.000    0.000 {cupy._core._accelerator.get_routine_accelerators}\n",
      "      298    0.001    0.000    0.003    0.000 widget.py:739(_should_send_property)\n",
      "      298    0.000    0.000    0.086    0.000 base_comm.py:111(send)\n",
      "      298    0.002    0.000    0.096    0.000 widget.py:570(send_state)\n",
      "      298    0.001    0.000    0.088    0.000 widget.py:822(_send)\n",
      "      293    0.000    0.000    0.000    0.000 _parser.py:247(match)\n",
      "      291    0.000    0.000    0.000    0.000 typing.py:1351(<genexpr>)\n",
      "      268    0.001    0.000    0.041    0.000 compiler.py:269(_hash_hexdigest)\n",
      "      268    0.000    0.000    0.003    0.000 compiler.py:218(_get_bool_env_variable)\n",
      "      268    0.001    0.000    0.001    0.000 {method 'hexdigest' of '_hashlib.HASH' objects}\n",
      "      268    0.040    0.000    0.040    0.000 {built-in method _hashlib.openssl_sha1}\n",
      "      241    0.000    0.000    0.000    0.000 typing.py:1657(__eq__)\n",
      "      241    0.000    0.000    0.000    0.000 {built-in method builtins.issubclass}\n",
      "      240    0.000    0.000    0.000    0.000 {method '__exit__' of '_thread.lock' objects}\n",
      "      235    0.000    0.000    0.000    0.000 {method 'add' of 'set' objects}\n",
      "      233    0.000    0.000    0.000    0.000 {built-in method from_bytes}\n",
      "  231/148    0.000    0.000    0.000    0.000 {built-in method builtins.hash}\n",
      "      228    0.000    0.000    0.001    0.000 <frozen _collections_abc>:878(__iter__)\n",
      "      228    0.000    0.000    0.000    0.000 <frozen _collections_abc>:835(__iter__)\n",
      "      222    0.000    0.000    0.000    0.000 <frozen importlib._bootstrap_external>:84(_unpack_uint32)\n",
      "      220    0.000    0.000    0.001    0.000 typing.py:159(_type_convert)\n",
      "      216    0.004    0.000    0.004    0.000 {method '__exit__' of '_io._IOBase' objects}\n",
      "      216    0.004    0.000    0.013    0.000 {built-in method builtins.__build_class__}\n",
      "      216    0.000    0.000    0.000    0.000 {built-in method builtins.setattr}\n",
      "      211    0.010    0.000    0.010    0.000 {method 'read' of '_io.BufferedReader' objects}\n",
      "      207    0.001    0.000    0.002    0.000 typing.py:168(_type_check)\n",
      "      204    0.000    0.000    0.000    0.000 {method 'values' of 'dict' objects}\n",
      "      203    0.000    0.000    0.000    0.000 <frozen importlib._bootstrap>:405(parent)\n",
      "      201    0.000    0.000    0.000    0.000 traitlets.py:2527(validate)\n",
      "      201    0.003    0.000    0.005    0.000 _gufuncs.py:47(_validate_normalize_axes)\n",
      "      201    0.008    0.000    0.023    0.000 _gufuncs.py:422(_get_args_transposed)\n",
      "      201    0.001    0.000    1.007    0.005 _gufuncs.py:388(_apply_func_to_inputs)\n",
      "      201    0.001    0.000    0.003    0.000 _gufuncs.py:254(determine_dtype)\n",
      "      201    0.008    0.000    1.054    0.005 _gufuncs.py:539(__call__)\n",
      "      201    0.001    0.000    0.001    0.000 _gufuncs.py:195(_determine_from_args)\n",
      "      201    0.000    0.000    0.000    0.000 _gufuncs.py:521(_determine_order)\n",
      "      201    0.001    0.000    0.004    0.000 _gufuncs.py:472(<listcomp>)\n",
      "      201    0.000    0.000    0.001    0.000 _gufuncs.py:477(<listcomp>)\n",
      "      201    0.000    0.000    0.001    0.000 _gufuncs.py:471(<listcomp>)\n",
      "      201    0.001    0.000    0.001    0.000 _gufuncs.py:94(<listcomp>)\n",
      "      201    0.001    0.000    0.001    0.000 _gufuncs.py:482(<listcomp>)\n",
      "      201    0.001    0.000    0.001    0.000 _gufuncs.py:491(<listcomp>)\n",
      "      201    0.000    0.000    0.000    0.000 _gufuncs.py:66(<listcomp>)\n",
      "      201    0.000    0.000    0.001    0.000 _gufuncs.py:96(<listcomp>)\n",
      "      201    0.000    0.000    0.000    0.000 _gufuncs.py:476(<listcomp>)\n",
      "      201    0.000    0.000    0.000    0.000 _gufuncs.py:498(<listcomp>)\n",
      "      201    0.000    0.000    0.000    0.000 _gufuncs.py:663(<listcomp>)\n",
      "      201    0.000    0.000    0.000    0.000 _gufuncs.py:665(<listcomp>)\n",
      "      201    1.003    0.005    1.006    0.005 {built-in method cupy._core._routines_linalg.matmul}\n",
      "      201    0.001    0.000    0.001    0.000 {built-in method cupy._core.internal._get_strides_for_order_K}\n",
      "      201    0.001    0.000    0.001    0.000 {built-in method cupy._core.internal._broadcast_shapes}\n",
      "      201    0.001    0.000    0.001    0.000 {method '_set_shape_and_strides' of 'cupy._core.core._ndarray_base' objects}\n",
      "      200    0.000    0.000    0.001    0.000 transpose.py:67(transpose)\n",
      "      200    0.000    0.000    0.001    0.000 dims.py:151(squeeze)\n",
      "      200    0.001    0.000    0.003    0.000 _einsum.py:520(<listcomp>)\n",
      "      200    0.001    0.000    0.001    0.000 _einsum.py:299(<listcomp>)\n",
      "      200    0.001    0.000    0.003    0.000 _einsum.py:515(<listcomp>)\n",
      "      200    0.001    0.000    0.001    0.000 _einsum.py:633(<listcomp>)\n",
      "      200    0.000    0.000    0.000    0.000 _einsum.py:376(<listcomp>)\n",
      "      200    0.000    0.000    0.000    0.000 _einsum.py:377(<listcomp>)\n",
      "      200    0.000    0.000    0.000    0.000 _einsum.py:378(<listcomp>)\n",
      "      200    0.000    0.000    0.000    0.000 _einsum.py:379(<listcomp>)\n",
      "      200    0.000    0.000    0.000    0.000 _einsum.py:691(<listcomp>)\n",
      "      200    0.000    0.000    0.001    0.000 __init__.py:12(escape)\n",
      "      200    0.001    0.000    0.001    0.000 std.py:285(format_interval)\n",
      "      200    0.000    0.000    0.000    0.000 __init__.py:356(<listcomp>)\n",
      "      200    0.001    0.000    0.002    0.000 _product.py:418(_move_axes_to_head)\n",
      "      200    0.002    0.000    0.003    0.000 __init__.py:350(result_type)\n",
      "      200    0.000    0.000    0.000    0.000 _product.py:427(<listcomp>)\n",
      "      200    0.019    0.000    1.101    0.006 _einsum.py:447(einsum)\n",
      "      200    0.993    0.005    1.055    0.005 _einsum.py:359(reduced_binary_einsum)\n",
      "      200    0.001    0.000    0.001    0.000 _einsum_cutn.py:60(_try_use_cutensornet)\n",
      "      200    0.001    0.000    0.001    0.000 _einsum.py:225(_einsum_diagonals)\n",
      "      200    0.002    0.000    0.004    0.000 _einsum.py:323(_expand_dims_transpose)\n",
      "      200    0.003    0.000    0.004    0.000 _einsum.py:71(_parse_einsum_input)\n",
      "      200    0.002    0.000    0.005    0.000 _einsum.py:280(_flatten_transpose)\n",
      "      200    0.000    0.000    0.000    0.000 {method 'total_seconds' of 'datetime.timedelta' objects}\n",
      "      200    0.001    0.000    0.001    0.000 {built-in method builtins.sum}\n",
      "      200    0.001    0.000    0.001    0.000 {method 'squeeze' of 'cupy._core.core._ndarray_base' objects}\n",
      "      179    0.000    0.000    0.012    0.000 <frozen genericpath>:16(exists)\n",
      "      179    0.000    0.000    0.000    0.000 {method 'partition' of 'str' objects}\n",
      "    177/2    0.000    0.000    0.130    0.065 <frozen importlib._bootstrap>:233(_call_with_frames_removed)\n",
      "      171    0.000    0.000    0.000    0.000 {built-in method _thread.allocate_lock}\n",
      "      163    0.000    0.000    0.000    0.000 {built-in method builtins.min}\n",
      "      149    0.000    0.000    0.000    0.000 _parser.py:158(__len__)\n",
      "      148    0.000    0.000    0.001    0.000 <frozen importlib._bootstrap_external>:132(_path_split)\n",
      "      148    0.001    0.000    0.004    0.000 <frozen importlib._bootstrap_external>:437(cache_from_source)\n",
      "      148    0.000    0.000    0.003    0.000 <frozen importlib._bootstrap>:392(cached)\n",
      "      146    0.013    0.000    0.013    0.000 {built-in method io.open}\n",
      "      145    0.004    0.000    0.007    0.000 {method 'sub' of 're.Pattern' objects}\n",
      "      144    0.001    0.000    0.008    0.000 string.py:104(substitute)\n",
      "      144    0.000    0.000    0.000    0.000 string.py:87(__init__)\n",
      "      142    0.000    0.000    0.000    0.000 {built-in method _stat.S_ISDIR}\n",
      "      139    0.000    0.000    0.001    0.000 typing.py:689(<genexpr>)\n",
      "      136    0.000    0.000    0.016    0.000 <frozen genericpath>:39(isdir)\n",
      "      135    0.000    0.000    0.000    0.000 inspect.py:2751(kind)\n",
      "      135    0.000    0.000    0.000    0.000 feedparser.py:78(readline)\n",
      "      135    0.000    0.000    0.000    0.000 feedparser.py:128(__next__)\n",
      "      134    0.023    0.000   22.175    0.165 compiler.py:502(_compile_with_cache_cuda)\n",
      "      134    0.003    0.000   22.180    0.166 compiler.py:471(_compile_module_with_cache)\n",
      "      134    0.000    0.000    0.000    0.000 compiler.py:114(_get_nvrtc_version)\n",
      "      134    0.000    0.000    0.001    0.000 compiler.py:455(get_cache_dir)\n",
      "      134   16.293    0.122   16.293    0.122 {method 'load' of 'cupy.cuda.function.Module' objects}\n",
      "      133    0.000    0.000    0.000    0.000 {method 'popleft' of 'collections.deque' objects}\n",
      "      132    0.001    0.000    0.008    0.000 __init__.py:272(_compile)\n",
      "  131/103    0.000    0.000    0.000    0.000 typing.py:1364(__hash__)\n",
      "      121    0.000    0.000    0.000    0.000 {method 'find' of 'bytearray' objects}\n",
      "      120    0.000    0.000    0.000    0.000 formatters.py:552(_in_deferred_types)\n",
      "      120    0.000    0.000    0.002    0.000 <frozen importlib._bootstrap_external>:1421(_path_importer_cache)\n",
      "      119    0.000    0.000    0.001    0.000 <frozen importlib._bootstrap>:100(acquire)\n",
      "      119    0.000    0.000    0.000    0.000 <frozen importlib._bootstrap>:125(release)\n",
      "      119    0.001    0.000    0.001    0.000 <frozen importlib._bootstrap>:179(_get_module_lock)\n",
      "      115    0.002    0.000    0.031    0.000 <frozen importlib._bootstrap_external>:1604(find_spec)\n",
      "      115    0.000    0.000    0.000    0.000 <frozen importlib._bootstrap_external>:67(_relax_case)\n",
      "      114    0.000    0.000    0.000    0.000 _parser.py:284(tell)\n",
      "      113    0.000    0.000    0.002    0.000 traitlets.py:1230(__call__)\n",
      "      106    0.000    0.000    0.006    0.000 <frozen importlib._bootstrap_external>:150(_path_is_mode_type)\n",
      "      105    0.000    0.000    0.000    0.000 traitlets.py:2340(_validate_bounds)\n",
      "      105    0.000    0.000    0.000    0.000 traitlets.py:2436(validate)\n",
      "      104    0.000    0.000    0.000    0.000 {method 'acquire' of '_thread.RLock' objects}\n",
      "      104    0.000    0.000    0.000    0.000 {method 'release' of '_thread.RLock' objects}\n",
      "      103    0.000    0.000    0.000    0.000 _parser.py:170(append)\n",
      "      102    0.131    0.001    0.693    0.007 mdp.py:640(<dictcomp>)\n",
      "      102    0.026    0.000    0.026    0.000 mdp.py:667(<listcomp>)\n",
      "      102    0.014    0.000    0.014    0.000 mdp.py:668(<listcomp>)\n",
      "      102    0.149    0.001    1.794    0.018 mdp.py:606(__init__)\n",
      "      101    0.000    0.000    0.000    0.000 mdp.py:686(__len__)\n",
      "      101    0.001    0.000    0.130    0.001 std.py:1157(__iter__)\n",
      "      101    0.001    0.000    0.003    0.000 std.py:1443(format_dict)\n",
      "      101    0.003    0.000    0.006    0.000 std.py:352(format_meter)\n",
      "      101    0.000    0.000    0.000    0.000 pomdp.py:489(__len__)\n",
      "      101    0.000    0.000    0.130    0.001 notebook.py:251(__iter__)\n",
      "      101    0.001    0.000    0.002    0.000 notebook.py:196(colour)\n",
      "      101    0.000    0.000    0.001    0.000 std.py:105(release)\n",
      "      101    0.000    0.000    0.000    0.000 utils.py:39(__init__)\n",
      "      101    0.001    0.000    0.001    0.000 std.py:101(acquire)\n",
      "      101    0.000    0.000    0.000    0.000 <frozen abc>:121(__subclasscheck__)\n",
      "      101    0.000    0.000    0.000    0.000 <frozen ntpath>:51(normcase)\n",
      "      101    0.000    0.000    0.000    0.000 {built-in method _abc._abc_subclasscheck}\n",
      "      101    0.000    0.000    0.000    0.000 {built-in method _winapi.LCMapStringEx}\n",
      "      101    0.000    0.000    0.000    0.000 {method 'acquire' of '_multiprocessing.SemLock' objects}\n",
      "      101    0.000    0.000    0.000    0.000 {method 'release' of '_multiprocessing.SemLock' objects}\n",
      "      100    0.003    0.000    0.017    0.000 mdp.py:735(extend)\n",
      "      100    0.000    0.000    0.001    0.000 __init__.py:198(split)\n",
      "      100    1.480    0.015   22.711    0.227 pomdp.py:1063(backup)\n",
      "      100    0.001    0.000    0.043    0.000 pomdp.py:467(belief_array)\n",
      "      100    0.000    0.000    0.001    0.000 widget_float.py:33(_validate_value)\n",
      "      100    0.098    0.001    0.099    0.001 pomdp.py:795(add_backup_step)\n",
      "      100    0.002    0.000    0.019    0.000 _product.py:271(tensordot)\n",
      "      100    0.002    0.000    0.125    0.001 notebook.py:144(display)\n",
      "      100    0.000    0.000    0.001    0.000 pomdp.py:773(add_expand_step)\n",
      "      100    0.004    0.000    0.007    0.000 pomdp.py:475(<listcomp>)\n",
      "      100    0.012    0.000    4.257    0.043 pomdp.py:377(random_state)\n",
      "      100    0.000    0.000    0.000    0.000 _product.py:322(<listcomp>)\n",
      "      100    0.000    0.000    0.000    0.000 _product.py:323(<listcomp>)\n",
      "      100    0.027    0.000    0.047    0.000 indexing.py:31(take_along_axis)\n",
      "      100    0.012    0.000    0.012    0.000 {built-in method cupy._core._routines_linalg.tensordot_core}\n",
      "      100    0.000    0.000    0.000    0.000 <frozen _collections_abc>:315(__subclasshook__)\n",
      "      100    0.001    0.000    0.001    0.000 {method 'split' of 're.Pattern' objects}\n",
      "      100    0.000    0.000    0.000    0.000 {built-in method cupy._core.internal._normalize_axis_index}\n",
      "       98    0.000    0.000    0.001    0.000 typing.py:245(_collect_parameters)\n",
      "       98    0.002    0.000    0.129    0.001 std.py:1195(update)\n",
      "       98    0.000    0.000    0.129    0.001 notebook.py:264(update)\n",
      "       98    0.001    0.000    0.126    0.001 std.py:1322(refresh)\n",
      "       96    0.000    0.000    0.006    0.000 <frozen importlib._bootstrap_external>:159(_path_isfile)\n",
      "       94    0.000    0.000    0.002    0.000 typing.py:1346(__init__)\n",
      "       94    0.000    0.000    0.001    0.000 typing.py:1251(__init__)\n",
      "       92    0.000    0.000    0.000    0.000 typing.py:888(__eq__)\n",
      "    88/64    0.000    0.000    0.000    0.000 typing.py:1662(__hash__)\n",
      "       86    0.000    0.000    0.000    0.000 <frozen importlib._bootstrap>:357(__init__)\n",
      "    85/37    0.000    0.000    0.000    0.000 _parser.py:172(getwidth)\n",
      "    84/80    0.000    0.000    0.004    0.000 __init__.py:89(find_spec)\n",
      "       84    0.000    0.000    0.001    0.000 <frozen importlib._bootstrap_external>:172(_path_isabs)\n",
      "       84    0.000    0.000    0.000    0.000 {built-in method nt._path_splitroot}\n",
      "       82    0.000    0.000    0.000    0.000 numerictypes.py:283(issubclass_)\n",
      "       82    0.000    0.000    0.001    0.000 <frozen importlib._bootstrap>:71(__init__)\n",
      "       82    0.000    0.000    0.000    0.000 <frozen importlib._bootstrap>:165(__init__)\n",
      "       82    0.000    0.000    0.000    0.000 <frozen importlib._bootstrap>:198(cb)\n",
      "     82/1    0.001    0.000    0.135    0.135 <frozen importlib._bootstrap>:1165(_find_and_load)\n",
      "       82    0.000    0.000    0.001    0.000 <frozen importlib._bootstrap>:173(__exit__)\n",
      "       82    0.000    0.000    0.002    0.000 <frozen importlib._bootstrap>:169(__enter__)\n",
      "    82/80    0.001    0.000    0.038    0.000 <frozen importlib._bootstrap>:1054(_find_spec)\n",
      "     82/1    0.001    0.000    0.135    0.135 <frozen importlib._bootstrap>:1120(_find_and_load_unlocked)\n",
      "       81    0.001    0.000    0.034    0.000 <frozen importlib._bootstrap_external>:1464(_get_spec)\n",
      "       81    0.000    0.000    0.000    0.000 <frozen importlib._bootstrap>:748(find_spec)\n",
      "       81    0.000    0.000    0.000    0.000 <frozen importlib._bootstrap>:920(find_spec)\n",
      "       81    0.000    0.000    0.034    0.000 <frozen importlib._bootstrap_external>:1496(find_spec)\n",
      "       81    0.000    0.000    0.000    0.000 {built-in method _imp.find_frozen}\n",
      "       81    0.000    0.000    0.000    0.000 {built-in method _imp.is_builtin}\n",
      "       80    0.000    0.000    0.000    0.000 <frozen importlib._bootstrap_external>:1565(<genexpr>)\n",
      "       79    0.000    0.000    0.000    0.000 <frozen importlib._bootstrap>:413(has_location)\n",
      "    79/72    0.000    0.000    0.015    0.000 <frozen importlib._bootstrap>:566(module_from_spec)\n",
      "       79    0.001    0.000    0.004    0.000 <frozen importlib._bootstrap>:493(_init_module_attrs)\n",
      "     79/1    0.001    0.000    0.131    0.131 <frozen importlib._bootstrap>:666(_load_unlocked)\n",
      "       77    0.000    0.000    0.000    0.000 _parser.py:109(__init__)\n",
      "     77/1    0.001    0.000    0.130    0.130 {built-in method builtins.exec}\n",
      "       75    0.000    0.000    0.000    0.000 {method 'match' of 're.Pattern' objects}\n",
      "       75    0.000    0.000    0.000    0.000 {method 'find' of 'str' objects}\n",
      "       74    0.000    0.000    0.000    0.000 _parser.py:79(groups)\n",
      "       74    0.000    0.000    0.000    0.000 <frozen importlib._bootstrap_external>:1097(__init__)\n",
      "       74    0.000    0.000    0.001    0.000 <frozen importlib._bootstrap_external>:642(_classify_pyc)\n",
      "       74    0.000    0.000    0.000    0.000 <frozen importlib._bootstrap_external>:675(_validate_timestamp_pyc)\n",
      "       74    0.000    0.000    0.003    0.000 <frozen importlib._bootstrap_external>:567(_get_cached)\n",
      "       74    0.000    0.000    0.000    0.000 <frozen importlib._bootstrap>:48(_new_module)\n",
      "       74    0.001    0.000    0.037    0.001 <frozen importlib._bootstrap_external>:1127(get_data)\n",
      "       74    0.000    0.000    0.001    0.000 <frozen importlib._bootstrap_external>:1599(_get_spec)\n",
      "     74/1    0.000    0.000    0.130    0.130 <frozen importlib._bootstrap_external>:934(exec_module)\n",
      "       74    0.001    0.000    0.054    0.001 <frozen importlib._bootstrap_external>:1007(get_code)\n",
      "       74    0.000    0.000    0.000    0.000 <frozen importlib._bootstrap_external>:599(_check_name_wrapper)\n",
      "       74    0.000    0.000    0.000    0.000 <frozen importlib._bootstrap_external>:1122(get_filename)\n",
      "       74    0.000    0.000    0.004    0.000 <frozen importlib._bootstrap_external>:1146(path_stats)\n",
      "       74    0.000    0.000    0.009    0.000 <frozen importlib._bootstrap_external>:727(_compile_bytecode)\n",
      "       74    0.000    0.000    0.000    0.000 <frozen importlib._bootstrap_external>:931(create_module)\n",
      "       74    0.000    0.000    0.001    0.000 <frozen importlib._bootstrap_external>:778(spec_from_file_location)\n",
      "       74    0.032    0.000    0.032    0.000 {built-in method io.open_code}\n",
      "       74    0.000    0.000    0.000    0.000 {built-in method _imp._fix_co_filename}\n",
      "       74    0.008    0.000    0.008    0.000 {built-in method marshal.loads}\n",
      "       72    0.000    0.000    0.000    0.000 {method 'lstrip' of 'str' objects}\n",
      "       71    0.000    0.000    0.000    0.000 message.py:506(set_raw)\n",
      "       71    0.000    0.000    0.000    0.000 _adapters.py:43(redent)\n",
      "       71    0.000    0.000    0.000    0.000 _policybase.py:293(header_source_parse)\n",
      "       70    0.000    0.000    0.000    0.000 traitlets.py:1800(has_trait)\n",
      "    69/21    0.000    0.000    0.002    0.000 _compiler.py:37(_compile)\n",
      "       66    0.000    0.000    0.000    0.000 typing.py:1280(__getattr__)\n",
      "    64/44    0.000    0.000    0.003    0.000 typing.py:476(__getitem__)\n",
      "    64/22    0.000    0.000    0.006    0.000 traitlets.py:1860(trait_defaults)\n",
      "       64    0.000    0.000    0.000    0.000 traitlets.py:1848(_get_trait_default_generator)\n",
      "       63    0.000    0.000    0.000    0.000 {method 'get' of 'mappingproxy' objects}\n",
      "       58    0.000    0.000    0.000    0.000 typing.py:1561(<genexpr>)\n",
      "    55/35    0.000    0.000    0.064    0.002 <frozen importlib._bootstrap>:1207(_handle_fromlist)\n",
      "       54    0.000    0.000    0.000    0.000 inspect.py:2739(name)\n",
      "    53/18    0.000    0.000    0.006    0.000 traitlets.py:616(default)\n",
      "       50    0.000    0.000    0.000    0.000 enum.py:685(__call__)\n",
      "       50    0.000    0.000    0.000    0.000 typing.py:1649(<genexpr>)\n",
      "       50    0.000    0.000    0.000    0.000 enum.py:1091(__new__)\n",
      "       48    0.000    0.000    0.000    0.000 <frozen os>:818(fsdecode)\n",
      "       46    0.000    0.000    0.000    0.000 inspect.py:3032(parameters)\n",
      "    45/22    0.002    0.000    0.004    0.000 _parser.py:507(_parse)\n",
      "       44    0.000    0.000    0.000    0.000 typing.py:311(_remove_dups_flatten)\n",
      "       44    0.000    0.000    0.000    0.000 typing.py:297(_deduplicate)\n",
      "       44    0.000    0.000    0.002    0.000 typing.py:653(Union)\n",
      "       43    0.000    0.000    0.002    0.000 shutil.py:1443(_access_check)\n",
      "       43    0.000    0.000    0.000    0.000 _dtype.py:346(_name_get)\n",
      "       43    0.000    0.000    0.000    0.000 _dtype.py:24(_kind_name)\n",
      "       43    0.000    0.000    0.000    0.000 _dtype.py:330(_name_includes_bit_suffix)\n",
      "       42    0.000    0.000    0.000    0.000 enum.py:1515(__and__)\n",
      "       42    0.000    0.000    0.000    0.000 _compiler.py:568(isstring)\n",
      "       41    0.000    0.000    0.000    0.000 _compiler.py:426(_get_iscased)\n",
      "    41/21    0.000    0.000    0.004    0.000 _parser.py:447(_parse_sub)\n",
      "       41    0.000    0.000    0.000    0.000 numerictypes.py:357(issubdtype)\n",
      "       41    0.000    0.000    0.001    0.000 _dtype.py:34(__str__)\n",
      "       40    0.000    0.000    0.001    0.000 typing.py:1565(copy_with)\n",
      "       37    0.000    0.000    0.000    0.000 _parser.py:307(_class_escape)\n",
      "       37    0.000    0.000    0.000    0.000 <frozen importlib._bootstrap>:216(_lock_unlock_module)\n",
      "       36    0.000    0.000    0.000    0.000 discovery.py:254(<genexpr>)\n",
      "       34    0.000    0.000    0.000    0.000 {method 'items' of 'mappingproxy' objects}\n",
      "       33    0.000    0.000    0.000    0.000 traitlets.py:1237(__get__)\n",
      "       33    0.000    0.000    0.000    0.000 traitlets.py:2146(validate)\n",
      "       32    0.000    0.000    0.000    0.000 widget.py:547(model_id)\n",
      "       31    0.000    0.000    0.008    0.000 __init__.py:225(compile)\n",
      "       31    0.000    0.000    0.000    0.000 _parser.py:166(__setitem__)\n",
      "       31    0.000    0.000    0.000    0.000 {method 'isidentifier' of 'str' objects}\n",
      "       30    0.000    0.000    0.000    0.000 traitlets.py:2167(_resolve_classes)\n",
      "       30    0.000    0.000    0.000    0.000 traitlets.py:2162(instance_init)\n",
      "       29    0.001    0.000    0.001    0.000 _compiler.py:241(_optimize_charset)\n",
      "       29    0.000    0.000    0.000    0.000 _compiler.py:214(_compile_charset)\n",
      "       28    0.000    0.000    0.000    0.000 _compiler.py:396(_simple)\n",
      "       27    0.000    0.000    0.000    0.000 _parser.py:444(_uniq)\n",
      "       27    0.000    0.000    0.000    0.000 subprocess.py:218(Close)\n",
      "       27    0.000    0.000    0.000    0.000 {built-in method fromkeys}\n",
      "    27/19    0.000    0.000    0.076    0.004 {built-in method builtins.__import__}\n",
      "       26    0.000    0.000    0.000    0.000 typing.py:275(_check_generic)\n",
      "    25/20    0.000    0.000    0.000    0.000 _compiler.py:434(_get_literal_prefix)\n",
      "       25    0.000    0.000    0.000    0.000 {method 'translate' of 'str' objects}\n",
      "       24    0.000    0.000    0.000    0.000 enum.py:744(__delattr__)\n",
      "       24    0.000    0.000    0.001    0.000 typing.py:1556(__getitem__)\n",
      "       24    0.000    0.000    0.000    0.000 compiler.py:448(<genexpr>)\n",
      "       24    0.000    0.000    0.000    0.000 {method 'random' of '_random.Random' objects}\n",
      "       24    0.000    0.000    0.000    0.000 {built-in method math.floor}\n",
      "       24    0.000    0.000    0.000    0.000 {built-in method builtins.delattr}\n",
      "       23    0.000    0.000    0.000    0.000 _compiler.py:31(_combine_flags)\n",
      "       23    0.000    0.000    0.000    0.000 {method '__contains__' of 'frozenset' objects}\n",
      "       22    0.000    0.000    0.000    0.000 traitlets.py:512(instance_init)\n",
      "       21    0.000    0.000    0.000    0.000 fancy_getopt.py:442(translate_longopt)\n",
      "       21    0.000    0.000    0.000    0.000 functools.py:35(update_wrapper)\n",
      "       21    0.000    0.000    0.002    0.000 _compiler.py:571(_code)\n",
      "       21    0.000    0.000    0.000    0.000 enum.py:47(_is_dunder)\n",
      "       21    0.000    0.000    0.000    0.000 _parser.py:954(fix_flags)\n",
      "       21    0.000    0.000    0.000    0.000 _parser.py:222(__init__)\n",
      "       21    0.000    0.000    0.000    0.000 _parser.py:73(__init__)\n",
      "       21    0.000    0.000    0.007    0.000 _compiler.py:738(compile)\n",
      "       21    0.000    0.000    0.000    0.000 _compiler.py:509(_compile_info)\n",
      "       21    0.000    0.000    0.005    0.000 _parser.py:970(parse)\n",
      "       21    0.000    0.000    0.000    0.000 {built-in method _sre.compile}\n",
      "       20    0.000    0.000    0.001    0.000 typing.py:697(Optional)\n",
      "       20    0.000    0.000    0.000    0.000 typing.py:455(__repr__)\n",
      "       20    0.000    0.000    0.000    0.000 {built-in method sys.intern}\n",
      "       19    0.000    0.000    0.000    0.000 __init__.py:422(<genexpr>)\n",
      "       18    0.000    0.000    0.000    0.000 enum.py:58(_is_sunder)\n",
      "       18    0.000    0.000    0.000    0.000 enum.py:78(_is_private)\n",
      "       18    0.000    0.000    0.000    0.000 enum.py:69(_is_internal_class)\n",
      "       18    0.000    0.000    0.000    0.000 _parser.py:367(_escape)\n",
      "       18    0.000    0.000    0.000    0.000 enum.py:364(__setitem__)\n",
      "       18    0.004    0.000    0.004    0.000 {built-in method nt.listdir}\n",
      "       18    0.000    0.000    0.000    0.000 {built-in method _winapi.CloseHandle}\n",
      "       18    0.000    0.000    0.000    0.000 {built-in method _winapi.GetCurrentProcess}\n",
      "       17    0.000    0.000    0.000    0.000 typing.py:1634(<genexpr>)\n",
      "       17    0.000    0.000    0.000    0.000 traitlets.py:2875(validate_elements)\n",
      "       17    0.000    0.000    0.000    0.000 traitlets.py:2863(validate)\n",
      "       16    0.000    0.000    0.000    0.000 _parser.py:82(opengroup)\n",
      "       16    0.000    0.000    0.000    0.000 _parser.py:94(closegroup)\n",
      "       16    0.000    0.000    0.000    0.000 _compiler.py:465(_get_charset_prefix)\n",
      "       16    0.000    0.000    0.001    0.000 typing.py:1640(__getitem__)\n",
      "       15    0.000    0.000    0.000    0.000 enum.py:825(__setattr__)\n",
      "       15    0.000    0.000    0.000    0.000 functools.py:65(wraps)\n",
      "       14    0.000    0.000    0.000    0.000 _compiler.py:386(<listcomp>)\n",
      "       14    0.000    0.000    0.000    0.000 _compiler.py:384(_mk_bitmap)\n",
      "       14    0.000    0.000    0.000    0.000 __init__.py:892(__bool__)\n",
      "       14    0.000    0.000    0.000    0.000 <frozen abc>:105(__new__)\n",
      "       14    0.000    0.000    0.000    0.000 {built-in method _abc._abc_init}\n",
      "       14    0.000    0.000    0.000    0.000 {method 'translate' of 'bytearray' objects}\n",
      "       14    0.000    0.000    0.000    0.000 {method 'setdefault' of 'dict' objects}\n",
      "       14    0.000    0.000    0.000    0.000 {method 'count' of 'list' objects}\n",
      "       13    0.000    0.000    0.000    0.000 msvc.py:316(current_is_x86)\n",
      "       13    0.000    0.000    0.000    0.000 typing.py:838(__init__)\n",
      "       13    0.000    0.000    0.000    0.000 contextlib.py:431(__enter__)\n",
      "       13    0.000    0.000    0.000    0.000 contextlib.py:434(__exit__)\n",
      "       13    0.000    0.000    0.000    0.000 contextlib.py:428(__init__)\n",
      "       13    0.000    0.000    0.000    0.000 inspect.py:292(isclass)\n",
      "       13    0.000    0.000    0.000    0.000 configurable.py:521(instance)\n",
      "       13    0.000    0.000    0.000    0.000 _collections.py:20(__missing__)\n",
      "       13    0.000    0.000    0.000    0.000 _collections.py:24(<lambda>)\n",
      "       13    0.000    0.000    0.000    0.000 {method 'values' of 'mappingproxy' objects}\n",
      "       13    0.000    0.000    0.000    0.000 {built-in method builtins.compile}\n",
      "       12    0.000    0.000    0.000    0.000 msvc.py:527(microsoft)\n",
      "       12    0.000    0.000    0.000    0.000 enum.py:192(__get__)\n",
      "       12    0.000    0.000    0.000    0.000 enum.py:1243(value)\n",
      "       12    0.000    0.000    0.000    0.000 formatters.py:396(lookup_by_type)\n",
      "       12    0.000    0.000    0.000    0.000 pretty.py:321(_get_mro)\n",
      "       12    0.000    0.000    0.000    0.000 formatters.py:373(lookup)\n",
      "       12    0.000    0.000    0.000    0.000 formatters.py:273(_get_type)\n",
      "       12    0.000    0.000    0.000    0.000 {built-in method nt.urandom}\n",
      "       12    0.000    0.000    0.000    0.000 {built-in method winreg.OpenKey}\n",
      "       11    0.000    0.000    0.146    0.013 __init__.py:1(<module>)\n",
      "       11    0.000    0.000    0.000    0.000 __init__.py:24(_module_matches_namespace)\n",
      "       11    0.000    0.000    0.000    0.000 __init__.py:57(find_spec)\n",
      "       11    0.000    0.000    0.000    0.000 typing.py:897(__hash__)\n",
      "       11    0.000    0.000    0.000    0.000 inspect.py:2839(args)\n",
      "       11    0.000    0.000    0.000    0.000 inspect.py:3076(_bind)\n",
      "       11    0.000    0.000    0.000    0.000 inspect.py:2892(apply_defaults)\n",
      "       11    0.000    0.000    0.000    0.000 inspect.py:2862(kwargs)\n",
      "       11    0.000    0.000    0.000    0.000 inspect.py:3207(bind)\n",
      "       11    0.000    0.000    0.000    0.000 inspect.py:2831(__init__)\n",
      "       11    0.000    0.000    0.000    0.000 traitlets.py:237(parse_notifier_name)\n",
      "       11    0.000    0.000    0.001    0.000 traitlets.py:1272(__new__)\n",
      "       11    0.000    0.000    0.000    0.000 traitlets.py:3011(validate_elements)\n",
      "       11    0.000    0.000    0.000    0.000 traitlets.py:1329(__init__)\n",
      "       11    0.000    0.000    0.001    0.000 formatters.py:219(catch_format_error)\n",
      "       11    0.000    0.000    0.000    0.000 uuid.py:139(__init__)\n",
      "       11    0.000    0.000    0.000    0.000 traitlets.py:1248(instance_init)\n",
      "       11    0.000    0.000    0.000    0.000 traitlets.py:1628(observe)\n",
      "       11    0.000    0.000    0.001    0.000 traitlets.py:1315(setup_instance)\n",
      "       11    0.000    0.000    0.000    0.000 traitlets.py:1566(_add_notifiers)\n",
      "       11    0.000    0.000    0.001    0.000 traitlets.py:1287(setup_instance)\n",
      "       11    0.000    0.000    0.000    0.000 uuid.py:721(uuid4)\n",
      "       11    0.000    0.000    0.000    0.000 uuid.py:334(hex)\n",
      "       11    0.000    0.000    0.000    0.000 dir2.py:54(get_real_method)\n",
      "       11    0.000    0.000    0.003    0.000 base_comm.py:24(__init__)\n",
      "       11    0.000    0.000    0.000    0.000 decorator.py:199(fix)\n",
      "       11    0.000    0.000    0.001    0.000 decorator.py:229(fun)\n",
      "       11    0.000    0.000    0.000    0.000 ipkernel.py:56(_get_comm_manager)\n",
      "       11    0.000    0.000    0.003    0.000 base_comm.py:69(open)\n",
      "       11    0.000    0.000    0.003    0.000 ipkernel.py:46(_create_comm)\n",
      "       11    0.000    0.000    0.000    0.000 base_comm.py:190(register_comm)\n",
      "       11    0.000    0.000    0.000    0.000 base_comm.py:131(on_msg)\n",
      "       11    0.000    0.000    0.000    0.000 widget.py:359(_call_widget_constructed)\n",
      "       11    0.000    0.000    0.000    0.000 widget.py:537(_comm_changed)\n",
      "       11    0.000    0.000    0.001    0.000 widget.py:486(_default_keys)\n",
      "     11/8    0.000    0.000    0.000    0.000 widget.py:46(_widget_to_json)\n",
      "     11/4    0.000    0.000    0.009    0.002 widget.py:498(__init__)\n",
      "     11/4    0.000    0.000    0.008    0.002 widget.py:514(open)\n",
      "       11    0.000    0.000    0.000    0.000 widget.py:488(<listcomp>)\n",
      "       11    0.000    0.000    0.000    0.000 <frozen importlib._bootstrap_external>:1684(<setcomp>)\n",
      "       11    0.000    0.000    0.003    0.000 <frozen importlib._bootstrap_external>:1655(_fill_cache)\n",
      "       10    0.000    0.000    0.000    0.000 _apply_pyprojecttoml.py:309(_attrgetter)\n",
      "       10    0.000    0.000    0.000    0.000 dataclasses.py:425(<genexpr>)\n",
      "       10    0.000    0.000    0.000    0.000 formatters.py:358(_check_return)\n",
      "       10    0.000    0.000    0.000    0.000 <frozen importlib._bootstrap_external>:1559(__init__)\n",
      "       10    0.000    0.000    0.001    0.000 <frozen importlib._bootstrap_external>:1696(path_hook_for_FileFinder)\n",
      "       10    0.000    0.000    0.001    0.000 <frozen importlib._bootstrap_external>:164(_path_isdir)\n",
      "       10    0.000    0.000    0.002    0.000 <frozen importlib._bootstrap_external>:1408(_path_hooks)\n",
      "       10    0.000    0.000    0.001    0.000 <frozen zipimport>:64(__init__)\n",
      "       10    0.000    0.000    0.000    0.000 {built-in method sys.audit}\n",
      "        9    0.000    0.000    0.000    0.000 contextlib.py:260(contextmanager)\n",
      "        9    0.000    0.000    0.000    0.000 contextlib.py:527(_push_exit_callback)\n",
      "        9    0.000    0.000    0.000    0.000 enum.py:1142(__init__)\n",
      "        9    0.000    0.000    0.000    0.000 subprocess.py:1414(_make_inheritable)\n",
      "        9    0.000    0.000    0.000    0.000 enum.py:37(_is_descriptor)\n",
      "        9    0.000    0.000    0.000    0.000 contextlib.py:509(callback)\n",
      "        9    0.000    0.000    0.000    0.000 typing.py:1611(__getitem__)\n",
      "        9    0.000    0.000    0.000    0.000 enum.py:929(_check_for_existing_members_)\n",
      "        9    0.000    0.000    0.000    0.000 contextlib.py:456(_exit_wrapper)\n",
      "        9    0.000    0.000    0.000    0.000 contextlib.py:454(_create_cb_wrapper)\n",
      "        9    0.000    0.000    0.000    0.000 enum.py:238(__init__)\n",
      "        9    0.000    0.000    0.000    0.000 enum.py:241(__set_name__)\n",
      "        9    0.000    0.000    0.000    0.000 copy.py:243(_keep_alive)\n",
      "        9    0.000    0.000    0.000    0.000 formatters.py:330(__call__)\n",
      "        9    0.000    0.000    0.000    0.000 {method 'pop' of 'collections.deque' objects}\n",
      "        9    0.000    0.000    0.000    0.000 {built-in method _winapi.DuplicateHandle}\n",
      "        9    0.000    0.000    0.000    0.000 {built-in method sys._getframe}\n",
      "        8    0.000    0.000    0.000    0.000 __init__.py:16(search_path)\n",
      "        8    0.000    0.000    0.000    0.000 typing.py:1947(_caller)\n",
      "        8    0.000    0.000    0.000    0.000 _parser.py:265(getuntil)\n",
      "        8    0.000    0.000    0.000    0.000 _parser.py:295(checkgroupname)\n",
      "        8    0.000    0.000    0.003    0.000 __init__.py:914(<genexpr>)\n",
      "        8    0.000    0.000    0.000    0.000 {method 'insert' of 'list' objects}\n",
      "        7    0.000    0.000    0.000    0.000 typing.py:938(__init__)\n",
      "        7    0.000    0.000    0.000    0.000 typing.py:1625(__getitem_inner__)\n",
      "        7    0.000    0.000    0.000    0.000 typing.py:1021(<genexpr>)\n",
      "        7    0.000    0.000    0.000    0.000 typing.py:1606(copy_with)\n",
      "        7    0.000    0.000    0.000    0.000 typing.py:1012(__init__)\n",
      "        7    0.000    0.000    0.000    0.000 __init__.py:848(search)\n",
      "        7    0.000    0.000    0.000    0.000 traitlets.py:2171(make_dynamic_default)\n",
      "        7    0.000    0.000    0.000    0.000 six.py:194(find_spec)\n",
      "        7    0.000    0.000    0.003    0.000 __init__.py:812(search)\n",
      "        7    0.000    0.000    0.001    0.000 __init__.py:815(mtime)\n",
      "        7    0.000    0.000    0.000    0.000 __init__.py:792(__init__)\n",
      "        7    0.000    0.000    0.006    0.001 trait_types.py:364(make_dynamic_default)\n",
      "        7    0.000    0.000    0.000    0.000 trait_types.py:358(validate)\n",
      "        6    0.000    0.000    0.000    0.000 monkey.py:53(<genexpr>)\n",
      "        6    0.000    0.000    0.001    0.000 subprocess.py:1580(_wait)\n",
      "        6    0.000    0.000    0.000    0.000 __init__.py:96(<lambda>)\n",
      "        6    0.000    0.000    0.000    0.000 enum.py:769(__getattr__)\n",
      "      6/4    0.000    0.000    0.036    0.009 __init__.py:108(import_module)\n",
      "        6    0.000    0.000    0.000    0.000 enum.py:939(_get_mixins_)\n",
      "        6    0.000    0.000    0.001    0.000 subprocess.py:1259(wait)\n",
      "        6    0.000    0.000    0.000    0.000 subprocess.py:1311(_on_error_fd_closer)\n",
      "        6    0.000    0.000    0.000    0.000 typing.py:1810(<genexpr>)\n",
      "        6    0.000    0.000    0.000    0.000 typing.py:2864(<genexpr>)\n",
      "        6    0.000    0.000    0.000    0.000 enum.py:975(_find_data_type_)\n",
      "        6    0.000    0.000    0.000    0.000 subprocess.py:1563(_internal_poll)\n",
      "      6/3    0.000    0.000    0.001    0.000 copy.py:227(_deepcopy_dict)\n",
      "        6    0.000    0.000    0.000    0.000 copy.py:264(<genexpr>)\n",
      "        6    0.000    0.000    0.000    0.000 shutil.py:570(_rmtree_isdir)\n",
      "        6    0.000    0.000    0.000    0.000 message.py:489(get)\n",
      "        6    0.000    0.000    0.000    0.000 _collections.py:23(freeze)\n",
      "        6    0.000    0.000    0.000    0.000 cycler.py:239(__iter__)\n",
      "      6/4    0.000    0.000    0.036    0.009 <frozen importlib._bootstrap>:1192(_gcd_import)\n",
      "        6    0.000    0.000    0.000    0.000 <frozen importlib._bootstrap>:1101(_sanity_check)\n",
      "        6    0.000    0.000    0.000    0.000 <frozen abc>:7(abstractmethod)\n",
      "        6    0.000    0.000    0.000    0.000 <frozen _collections_abc>:812(__init__)\n",
      "        6    0.000    0.000    0.000    0.000 {method 'stat' of 'nt.DirEntry' objects}\n",
      "        6    0.001    0.000    0.001    0.000 {built-in method nt.unlink}\n",
      "        6    0.000    0.000    0.000    0.000 {method 'close' of '_io.TextIOWrapper' objects}\n",
      "        6    0.000    0.000    0.000    0.000 {method 'pop' of 'set' objects}\n",
      "        6    0.000    0.000    0.000    0.000 {built-in method builtins.vars}\n",
      "        5    0.000    0.000    0.000    0.000 mdp.py:622(<genexpr>)\n",
      "        5    0.000    0.000    0.000    0.000 mdp.py:617(<genexpr>)\n",
      "        5    0.000    0.000    0.000    0.000 _compiler.py:389(_bytes_to_codes)\n",
      "        5    0.000    0.000    0.000    0.000 functools.py:845(_is_valid_dispatch_type)\n",
      "        5    0.000    0.000    0.000    0.000 functools.py:479(lru_cache)\n",
      "        5    0.000    0.000    0.000    0.000 functools.py:852(register)\n",
      "        5    0.000    0.000    0.000    0.000 inspect.py:3019(<genexpr>)\n",
      "        5    0.000    0.000    0.000    0.000 __init__.py:597(<genexpr>)\n",
      "        5    0.000    0.000    0.000    0.000 <frozen codecs>:260(__init__)\n",
      "        5    0.000    0.000    0.000    0.000 <frozen importlib._bootstrap>:422(spec_from_loader)\n",
      "        5    5.587    1.117    5.587    1.117 {method 'read' of '_io.TextIOWrapper' objects}\n",
      "        5    0.000    0.000    0.000    0.000 {method 'setter' of 'property' objects}\n",
      "        5    0.000    0.000    0.000    0.000 {method 'tolist' of 'memoryview' objects}\n",
      "        5    0.000    0.000    0.000    0.000 {method 'cast' of 'memoryview' objects}\n",
      "        4    0.000    0.000    0.011    0.003 __init__.py:29(load_module)\n",
      "        4    0.000    0.000    0.011    0.003 __init__.py:51(create_module)\n",
      "        4    0.000    0.000    0.000    0.000 __init__.py:54(exec_module)\n",
      "        4    0.000    0.000    0.000    0.000 msvc.py:293(target_cpu)\n",
      "        4    0.000    0.000    0.000    0.000 _compiler.py:405(_generate_overlap_table)\n",
      "        4    0.000    0.000    0.000    0.000 __init__.py:253(escape)\n",
      "        4    0.000    0.000    0.000    0.000 enum.py:1505(__or__)\n",
      "        4    0.000    0.000    0.000    0.000 functools.py:518(decorating_function)\n",
      "        4    0.000    0.000    0.000    0.000 typing.py:1646(<genexpr>)\n",
      "        4    0.000    0.000    0.001    0.000 __init__.py:348(namedtuple)\n",
      "        4    0.000    0.000    0.000    0.000 inspect.py:1441(formatannotation)\n",
      "        4    0.000    0.000    0.000    0.000 typing.py:1522(__mro_entries__)\n",
      "        4    0.000    0.000    0.000    0.000 typing.py:1843(__init_subclass__)\n",
      "        4    0.000    0.000    0.000    0.000 threading.py:1161(ident)\n",
      "        4    0.000    0.000    0.000    0.000 inspect.py:2686(__init__)\n",
      "        4    0.000    0.000    0.000    0.000 __init__.py:1267(__init__)\n",
      "        4    0.000    0.000    0.000    0.000 __init__.py:2081(getLogger)\n",
      "        4    0.000    0.000    0.000    0.000 traitlets.py:2704(validate)\n",
      "        4    0.000    0.000    0.000    0.000 dataclasses.py:1106(<genexpr>)\n",
      "        4    0.000    0.000    0.000    0.000 dataclasses.py:820(_set_qualname)\n",
      "        4    0.000    0.000    0.000    0.000 dataclasses.py:827(_set_new_attribute)\n",
      "        4    0.000    0.000    0.000    0.000 dataclasses.py:396(<genexpr>)\n",
      "        4    0.000    0.000    0.000    0.000 message.py:633(get_default_type)\n",
      "        4    0.000    0.000    0.000    0.000 message.py:591(get_content_type)\n",
      "        4    0.000    0.000    0.004    0.001 widget_layout.py:80(__init__)\n",
      "        4    0.000    0.000    0.000    0.000 utils.py:153(__eq__)\n",
      "        4    0.000    0.000    0.000    0.000 <frozen ntpath>:35(_get_bothseps)\n",
      "        4    0.000    0.000    0.000    0.000 <frozen ntpath>:208(split)\n",
      "        4    0.000    0.000    0.000    0.000 {built-in method _sre.unicode_tolower}\n",
      "        4    0.000    0.000    0.000    0.000 {built-in method nt.getcwd}\n",
      "        4    0.000    0.000    0.000    0.000 {method 'seek' of '_io.StringIO' objects}\n",
      "        4    0.000    0.000    0.000    0.000 {method '__init_subclass__' of 'object' objects}\n",
      "        4    0.000    0.000    0.000    0.000 {built-in method builtins.eval}\n",
      "        3    0.000    0.000    0.000    0.000 monkey.py:36(get_unpatched)\n",
      "        3    0.000    0.000    0.000    0.000 monkey.py:47(get_unpatched_class)\n",
      "        3    0.000    0.000    0.000    0.000 monkey.py:22(_get_mro)\n",
      "        3    0.000    0.000    0.000    0.000 _apply_pyprojecttoml.py:324(_some_attrgetter)\n",
      "        3    0.000    0.000    0.000    0.000 _header_value_parser.py:876(__new__)\n",
      "        3    0.000    0.000    0.000    0.000 msvc.py:1144(vs_ver)\n",
      "        3    0.000    0.000    0.000    0.000 msvc.py:707(_as_float_version)\n",
      "        3    0.000    0.000    0.001    0.000 copy.py:259(_reconstruct)\n",
      "        3    0.000    0.000    0.000    0.000 random.py:480(choices)\n",
      "        3    0.000    0.000    0.000    0.000 contextlib.py:543(__enter__)\n",
      "        3    0.000    0.000    0.000    0.000 subprocess.py:259(_cleanup)\n",
      "        3    0.000    0.000    0.000    0.000 enum.py:961(_find_data_repr_)\n",
      "        3    0.000    0.000    0.000    0.000 cp1252.py:18(encode)\n",
      "        3    0.000    0.000    0.000    0.000 cp1252.py:22(decode)\n",
      "        3    0.000    0.000    0.000    0.000 contextlib.py:460(__init__)\n",
      "        3    0.000    0.000    0.000    0.000 typing.py:2402(get_origin)\n",
      "        3    0.000    0.000    0.000    0.000 _parser.py:256(getwhile)\n",
      "        3    0.000    0.000    0.000    0.000 enum.py:357(__init__)\n",
      "        3    0.000    0.000    0.001    0.000 typing.py:2839(_make_nmtuple)\n",
      "        3    0.000    0.000    0.000    0.000 subprocess.py:1120(__del__)\n",
      "        3    0.000    0.000    0.000    0.000 enum.py:1004(_find_new_)\n",
      "        3    0.000    0.000    0.000    0.000 subprocess.py:361(_text_encoding)\n",
      "        3    0.000    0.000    0.000    0.000 enum.py:481(__prepare__)\n",
      "        3    0.000    0.000    0.000    0.000 functools.py:841(_is_union_type)\n",
      "        3    0.000    0.000    0.000    0.000 subprocess.py:193(__init__)\n",
      "        3    0.000    0.000    0.000    0.000 subprocess.py:223(Detach)\n",
      "        3    0.000    0.000    0.000    0.000 subprocess.py:1430(<setcomp>)\n",
      "        3    0.000    0.000    0.000    0.000 subprocess.py:1233(poll)\n",
      "        3    0.000    0.000    0.000    0.000 typing.py:2840(<listcomp>)\n",
      "        3    0.000    0.000    0.000    0.000 copyreg.py:104(__newobj__)\n",
      "        3    0.000    0.000    0.000    0.000 typing.py:2841(<dictcomp>)\n",
      "        3    0.000    0.000    0.000    0.000 subprocess.py:481(__init__)\n",
      "        3    0.000    0.000    0.000    0.000 contextlib.py:546(__exit__)\n",
      "        3    0.000    0.000    0.000    0.000 subprocess.py:1282(_close_pipe_fds)\n",
      "        3    0.000    0.000    0.001    0.000 enum.py:496(__new__)\n",
      "        3    0.000    0.000    0.000    0.000 __init__.py:1327(getLogger)\n",
      "        3    0.000    0.000    5.603    1.868 subprocess.py:506(run)\n",
      "        3    0.001    0.000    0.001    0.000 subprocess.py:576(list2cmdline)\n",
      "        3    0.000    0.000    0.000    0.000 subprocess.py:1092(__exit__)\n",
      "        3    0.000    0.000    0.015    0.005 subprocess.py:807(__init__)\n",
      "        3    0.000    0.000    5.588    1.863 subprocess.py:1165(communicate)\n",
      "        3    0.000    0.000    0.000    0.000 subprocess.py:1335(_get_handles)\n",
      "        3    0.000    0.000    0.015    0.005 subprocess.py:1436(_execute_child)\n",
      "        3    0.000    0.000    0.000    0.000 typing.py:1796(__class_getitem__)\n",
      "        3    0.000    0.000    0.001    0.000 typing.py:2858(__new__)\n",
      "        3    0.000    0.000    0.000    0.000 weakref.py:568(__init__)\n",
      "        3    0.000    0.000    0.000    0.000 platform.py:825(uname)\n",
      "        3    0.000    0.000    0.000    0.000 platform.py:1002(_sys_version)\n",
      "        3    0.000    0.000    0.000    0.000 subprocess.py:1089(__enter__)\n",
      "        3    0.000    0.000    5.603    1.868 subprocess.py:417(check_output)\n",
      "        3    0.000    0.000    0.000    0.000 weakref.py:495(popitem)\n",
      "        3    0.000    0.000    0.000    0.000 typing.py:2876(<listcomp>)\n",
      "        3    0.000    0.000    0.000    0.000 typing.py:2922(_namedtuple_mro_entries)\n",
      "        3    0.000    0.000    0.000    0.000 subprocess.py:1423(_filter_handle_list)\n",
      "        3    0.000    0.000    0.000    0.000 platform.py:1106(python_implementation)\n",
      "        3    0.000    0.000    0.000    0.000 weakref.py:592(detach)\n",
      "        3    0.000    0.000    0.000    0.000 __init__.py:1447(__init__)\n",
      "        3    0.000    0.000    0.000    0.000 random.py:493(<listcomp>)\n",
      "        3    0.000    0.000    0.000    0.000 dataclasses.py:413(_create_fn)\n",
      "        3    0.000    0.000    0.000    0.000 inspect.py:2773(__str__)\n",
      "        3    0.000    0.000    0.000    0.000 __init__.py:1378(_fixupParents)\n",
      "        3    0.000    0.000    0.000    0.000 tempfile.py:85(_infer_return_type)\n",
      "        3    0.000    0.000    0.002    0.001 shutil.py:690(rmtree)\n",
      "        3    0.000    0.000    0.001    0.000 tempfile.py:344(mkdtemp)\n",
      "        3    0.000    0.000    0.000    0.000 dataclasses.py:449(_field_init)\n",
      "        3    0.000    0.000    0.000    0.000 traitlets.py:3367(validate_elements)\n",
      "        3    0.000    0.000    0.002    0.001 shutil.py:598(_rmtree_unsafe)\n",
      "        3    0.000    0.000    0.000    0.000 __init__.py:228(_acquireLock)\n",
      "        3    0.000    0.000    0.000    0.000 __init__.py:237(_releaseLock)\n",
      "        3    0.000    0.000    0.000    0.000 __init__.py:202(_checkLevel)\n",
      "        3    0.000    0.000    0.000    0.000 __init__.py:1273(append)\n",
      "        3    0.000    0.000    0.000    0.000 inspect.py:378(isfunction)\n",
      "        3    0.000    0.000    0.000    0.000 __init__.py:795(__init__)\n",
      "        3    0.000    0.000    0.000    0.000 traitlets.py:1690(_register_validator)\n",
      "        3    0.000    0.000    0.000    0.000 inspect.py:1947(_signature_get_user_defined_method)\n",
      "        3    0.000    0.000    0.000    0.000 inspect.py:729(getmro)\n",
      "        3    0.000    0.000    0.000    0.000 inspect.py:2743(default)\n",
      "        3    0.000    0.000    0.000    0.000 tempfile.py:114(_sanitize_params)\n",
      "        3    0.000    0.000    0.000    0.000 tempfile.py:229(_get_candidate_names)\n",
      "        3    0.000    0.000    0.000    0.000 tempfile.py:285(_gettempdir)\n",
      "        3    0.000    0.000    0.000    0.000 tempfile.py:142(rng)\n",
      "        3    0.000    0.000    0.000    0.000 shutil.py:1508(<genexpr>)\n",
      "        3    0.000    0.000    0.002    0.001 tempfile.py:852(__init__)\n",
      "        3    0.000    0.000    0.002    0.001 tempfile.py:906(cleanup)\n",
      "        3    0.000    0.000    0.000    0.000 traitlets.py:1736(set_trait)\n",
      "        3    0.000    0.000    0.000    0.000 shutil.py:579(_rmtree_islink)\n",
      "        3    0.000    0.000    0.000    0.000 tempfile.py:153(__next__)\n",
      "        3    0.000    0.000    0.000    0.000 dataclasses.py:723(_get_field)\n",
      "        3    0.000    0.000    0.002    0.001 __init__.py:827(__init__)\n",
      "        3    0.000    0.000    0.000    0.000 tempfile.py:900(__enter__)\n",
      "        3    0.000    0.000    0.000    0.000 traitlets.py:3360(validate)\n",
      "        3    0.000    0.000    0.000    0.000 tempfile.py:297(gettempdir)\n",
      "        3    0.000    0.000    0.002    0.001 tempfile.py:861(_rmtree)\n",
      "        3    0.000    0.000    0.000    0.000 traitlets.py:1256(instance_init)\n",
      "        3    0.000    0.000    0.002    0.001 tempfile.py:903(__exit__)\n",
      "        3    0.000    0.000    0.000    0.000 tempfile.py:897(__repr__)\n",
      "        3    0.000    0.000    0.000    0.000 dataclasses.py:509(_init_param)\n",
      "        3    0.000    0.000    0.000    0.000 dataclasses.py:646(_is_classvar)\n",
      "        3    0.000    0.000    0.000    0.000 dataclasses.py:437(_field_assign)\n",
      "        3    0.000    0.000    0.000    0.000 dataclasses.py:287(__init__)\n",
      "        3    0.000    0.000    0.000    0.000 dataclasses.py:368(field)\n",
      "        3    0.000    0.000    0.000    0.000 dataclasses.py:660(_is_kw_only)\n",
      "        3    0.000    0.000    0.000    0.000 dataclasses.py:654(_is_initvar)\n",
      "        3    0.000    0.000    0.002    0.001 __init__.py:798(children)\n",
      "        3    0.000    0.000    0.000    0.000 message.py:615(get_content_maintype)\n",
      "        3    0.000    0.000    0.002    0.001 __init__.py:821(lookup)\n",
      "        3    0.000    0.000    0.007    0.002 widget_description.py:30(__init__)\n",
      "        3    0.000    0.000    5.745    1.915 compiler.py:45(_run_cc)\n",
      "        3    0.000    0.000    5.751    1.917 compiler.py:330(compile_using_nvcc)\n",
      "        3    0.000    0.000    5.751    1.917 compiler.py:418(_preprocess)\n",
      "        3    0.000    0.000    0.000    0.000 utils.py:83(wrapper_setattr)\n",
      "        3    0.000    0.000    0.000    0.000 _environment.py:79(get_nvcc_path)\n",
      "        3    0.000    0.000    0.000    0.000 std.py:109(__enter__)\n",
      "        3    0.000    0.000    0.000    0.000 std.py:112(__exit__)\n",
      "        3    0.000    0.000    0.000    0.000 std.py:225(__init__)\n",
      "        3    0.000    0.000    0.000    0.000 <frozen ntpath>:242(basename)\n",
      "        3    0.000    0.000    0.000    0.000 <frozen _collections_abc>:933(clear)\n",
      "        3    0.000    0.000    0.000    0.000 <frozen os>:682(__setitem__)\n",
      "        3    0.000    0.000    0.000    0.000 <frozen _collections_abc>:786(keys)\n",
      "        3    0.000    0.000    0.000    0.000 <frozen codecs>:186(__init__)\n",
      "        3    0.000    0.000    0.000    0.000 <frozen _collections_abc>:794(values)\n",
      "        3    0.000    0.000    0.000    0.000 {built-in method _codecs.charmap_encode}\n",
      "        3    0.000    0.000    0.000    0.000 {built-in method _codecs.charmap_decode}\n",
      "        3    0.000    0.000    0.000    0.000 {built-in method _locale.getencoding}\n",
      "        3    0.000    0.000    0.000    0.000 {built-in method _stat.S_ISLNK}\n",
      "        3    0.000    0.000    0.000    0.000 {built-in method _weakref.proxy}\n",
      "        3    0.000    0.000    0.000    0.000 {method '__exit__' of 'nt.ScandirIterator' objects}\n",
      "        3    0.000    0.000    0.000    0.000 {built-in method nt.lstat}\n",
      "        3    0.001    0.000    0.001    0.000 {built-in method nt.mkdir}\n",
      "        3    0.000    0.000    0.000    0.000 {built-in method nt.rmdir}\n",
      "        3    0.000    0.000    0.000    0.000 {built-in method nt.putenv}\n",
      "        3    0.000    0.000    0.000    0.000 {built-in method nt.scandir}\n",
      "        3    0.000    0.000    0.000    0.000 {method 'release' of '_thread.lock' objects}\n",
      "        3    0.000    0.000    0.000    0.000 {method 'write' of '_io.TextIOWrapper' objects}\n",
      "        3    0.000    0.000    0.000    0.000 {built-in method _winapi.CreatePipe}\n",
      "        3    0.012    0.004    0.013    0.004 {built-in method _winapi.CreateProcess}\n",
      "        3    0.000    0.000    0.000    0.000 {built-in method _winapi.GetExitCodeProcess}\n",
      "        3    0.000    0.000    0.000    0.000 {built-in method _winapi.GetStdHandle}\n",
      "        3    0.001    0.000    0.001    0.000 {built-in method _winapi.WaitForSingleObject}\n",
      "        3    0.000    0.000    0.000    0.000 {method 'decode' of 'bytes' objects}\n",
      "        3    0.000    0.000    0.000    0.000 {method 'popitem' of 'dict' objects}\n",
      "        3    0.000    0.000    0.000    0.000 {method '__reduce_ex__' of 'object' objects}\n",
      "        3    0.000    0.000    0.000    0.000 {method 'splitlines' of 'str' objects}\n",
      "        3    0.000    0.000    0.000    0.000 {built-in method msvcrt.open_osfhandle}\n",
      "        3    0.000    0.000    0.000    0.000 {built-in method sys.exc_info}\n",
      "        2    0.000    0.000    0.068    0.034 dist.py:1(<module>)\n",
      "        2    0.000    0.000    0.009    0.005 version.py:1(<module>)\n",
      "        2    0.000    0.000    0.000    0.000 errors.py:1(<module>)\n",
      "        2    0.000    0.000    0.000    0.000 extension.py:1(<module>)\n",
      "        2    0.000    0.000    0.000    0.000 msvc.py:742(VCInstallDir)\n",
      "        2    0.000    0.000    0.000    0.000 __init__.py:15(_deprecation_notice)\n",
      "        2    0.000    0.000    0.000    0.000 msvc.py:431(sxs)\n",
      "        2    0.000    0.000    0.000    0.000 msvc.py:419(visualstudio)\n",
      "        2    0.000    0.000    0.000    0.000 typing.py:2561(overload)\n",
      "        2    0.000    0.000    0.000    0.000 _weakrefset.py:63(__iter__)\n",
      "        2    0.000    0.000    0.001    0.000 threading.py:604(wait)\n",
      "        2    0.000    0.000    0.000    0.000 functools.py:861(<lambda>)\n",
      "        2    0.000    0.000    0.000    0.000 typing.py:1817(<genexpr>)\n",
      "        2    0.000    0.000    0.000    0.000 _parser.py:160(__delitem__)\n",
      "        2    0.000    0.000    0.000    0.000 functools.py:800(singledispatch)\n",
      "        2    0.000    0.000    0.000    0.000 typing.py:2246(cast)\n",
      "        2    0.000    0.000    0.000    0.000 threading.py:236(__init__)\n",
      "        2    0.000    0.000    0.000    0.000 threading.py:279(_is_owned)\n",
      "        2    0.000    0.000    0.000    0.000 threading.py:267(__exit__)\n",
      "        2    0.000    0.000    0.000    0.000 platform.py:914(system)\n",
      "        2    0.000    0.000    0.000    0.000 threading.py:264(__enter__)\n",
      "        2    0.000    0.000    0.000    0.000 threading.py:273(_release_save)\n",
      "        2    0.000    0.000    0.000    0.000 threading.py:276(_acquire_restore)\n",
      "        2    0.000    0.000    0.000    0.000 threading.py:555(__init__)\n",
      "        2    0.000    0.000    0.000    0.000 weakref.py:367(__init__)\n",
      "        2    0.000    0.000    0.001    0.000 threading.py:288(wait)\n",
      "      2/1    0.000    0.000    0.000    0.000 inspect.py:2428(_signature_from_callable)\n",
      "        2    0.000    0.000    0.000    0.000 inspect.py:2972(__init__)\n",
      "        2    0.000    0.000    0.000    0.000 inspect.py:735(unwrap)\n",
      "        2    0.000    0.000    0.000    0.000 inspect.py:755(_is_wrapper)\n",
      "        2    0.000    0.000    0.000    0.000 inspect.py:3036(return_annotation)\n",
      "        2    0.000    0.000    0.000    0.000 dataclasses.py:410(<listcomp>)\n",
      "        2    0.000    0.000    0.000    0.000 dataclasses.py:401(_tuple_str)\n",
      "        2    0.000    0.000    0.000    0.000 utils.py:51(_has_surrogates)\n",
      "        2    0.000    0.000    0.000    0.000 __init__.py:581(<genexpr>)\n",
      "        2    0.000    0.000    0.001    0.001 iostream.py:547(flush)\n",
      "        2    0.000    0.000    0.001    0.001 feedparser.py:218(_parsegen)\n",
      "        2    0.000    0.000    0.000    0.000 feedparser.py:125(__iter__)\n",
      "        2    0.000    0.000    0.000    0.000 feedparser.py:122(pushlines)\n",
      "        2    0.000    0.000    0.001    0.001 feedparser.py:178(_call_parse)\n",
      "        2    0.000    0.000    0.004    0.002 widget_string.py:64(__init__)\n",
      "        2    0.000    0.000    0.000    0.000 notebook.py:201(colour)\n",
      "        2    0.000    0.000    0.000    0.000 std.py:1150(_comparable)\n",
      "        2    0.000    0.000    0.000    0.000 std.py:1154(__hash__)\n",
      "        2    0.000    0.000    0.000    0.000 utils.py:118(disable_on_exception)\n",
      "        2    0.000    0.000    0.000    0.000 mdp.py:505(gpu_model)\n",
      "        2    0.000    0.000    0.000    0.000 msvc.py:760(_guess_vc)\n",
      "        2    0.000    0.000    0.000    0.000 <frozen codecs>:309(__init__)\n",
      "        2    0.000    0.000    0.000    0.000 <frozen os>:773(getenv)\n",
      "        2    0.000    0.000    0.000    0.000 <frozen codecs>:319(decode)\n",
      "        2    0.000    0.000    0.000    0.000 {built-in method _codecs.utf_8_decode}\n",
      "        2    0.000    0.000    0.000    0.000 {method 'extend' of 'collections.deque' objects}\n",
      "        2    0.000    0.000    0.000    0.000 {method 'cache_clear' of 'functools._lru_cache_wrapper' objects}\n",
      "        2    0.000    0.000    0.000    0.000 {method 'end' of 're.Match' objects}\n",
      "        2    0.000    0.000    0.000    0.000 {built-in method utcfromtimestamp}\n",
      "        2    0.000    0.000    0.000    0.000 {method '__enter__' of '_thread.lock' objects}\n",
      "        2    0.000    0.000    0.000    0.000 {method 'read' of '_io.StringIO' objects}\n",
      "        2    0.000    0.000    0.000    0.000 {method 'truncate' of '_io.StringIO' objects}\n",
      "        2    0.000    0.000    0.000    0.000 {method 'readlines' of '_io._IOBase' objects}\n",
      "        2    0.000    0.000    0.000    0.000 {built-in method io.text_encoding}\n",
      "        2    0.000    0.000    0.000    0.000 {method 'remove' of 'set' objects}\n",
      "        2    0.000    0.000    0.000    0.000 {method 'index' of 'tuple' objects}\n",
      "        2    0.000    0.000    0.000    0.000 {built-in method builtins.repr}\n",
      "        2    0.000    0.000    0.000    0.000 {built-in method sys.getrecursionlimit}\n",
      "        1    0.000    0.000    0.001    0.001 mdp.py:769(<listcomp>)\n",
      "        1    0.000    0.000    0.004    0.004 monkey.py:63(patch_all)\n",
      "        1    0.000    0.000    0.005    0.005 headerregistry.py:1(<module>)\n",
      "        1    0.000    0.000    0.000    0.000 msvc.py:1111(EnvironmentInfo)\n",
      "        1    0.000    0.000    0.004    0.004 _manylinux.py:1(<module>)\n",
      "        1    0.000    0.000    0.000    0.000 _musllinux.py:1(<module>)\n",
      "        1    0.000    0.000    0.017    0.017 _parser.py:1(<module>)\n",
      "        1    0.000    0.000    0.000    0.000 cmd.py:17(Command)\n",
      "        1    0.000    0.000    0.002    0.002 monkey.py:148(patch_params)\n",
      "        1    0.000    0.000    0.000    0.000 depends.py:163(_update_globals)\n",
      "        1    0.000    0.000    0.000    0.000 fancy_getopt.py:32(FancyGetopt)\n",
      "        1    0.000    0.000    0.000    0.000 file_util.py:1(<module>)\n",
      "        1    0.000    0.000    0.000    0.000 config.py:22(PyPIRCCommand)\n",
      "        1    0.000    0.000    0.000    0.000 monkey.py:115(patch_func)\n",
      "        1    0.000    0.000    0.000    0.000 _importlib.py:1(<module>)\n",
      "        1    0.000    0.000    0.000    0.000 _tokenizer.py:88(Tokenizer)\n",
      "        1    0.000    0.000    0.000    0.000 configparser.py:1256(SectionProxy)\n",
      "        1    0.000    0.000    0.001    0.001 monkey.py:101(_patch_distribution_metadata)\n",
      "        1    0.000    0.000    0.001    0.001 monkey.py:1(<module>)\n",
      "        1    0.000    0.000    0.033    0.033 override.py:1(<module>)\n",
      "        1    0.000    0.000    0.000    0.000 debug.py:1(<module>)\n",
      "        1    0.000    0.000    0.004    0.004 logging.py:1(<module>)\n",
      "        1    0.000    0.000    0.000    0.000 __init__.py:112(Command)\n",
      "        1    0.000    0.000    0.000    0.000 dist.py:120(<listcomp>)\n",
      "        1    0.000    0.000    0.000    0.000 fancy_getopt.py:385(<dictcomp>)\n",
      "        1    0.000    0.000    0.000    0.000 fancy_getopt.py:449(OptionDummy)\n",
      "        1    0.000    0.000    0.028    0.028 core.py:1(<module>)\n",
      "        1    0.000    0.000    0.000    0.000 filelist.py:1(<module>)\n",
      "        1    0.000    0.000    0.000    0.000 __init__.py:261(sic)\n",
      "        1    0.000    0.000    0.009    0.009 depends.py:1(<module>)\n",
      "        1    0.000    0.000    0.000    0.000 util.py:22(get_host_platform)\n",
      "        1    0.000    0.000    0.001    0.001 msvc.py:665(find_programdata_vs_vers)\n",
      "        1    0.000    0.000    0.003    0.003 _header_value_parser.py:1(<module>)\n",
      "        1    0.000    0.000    0.004    0.004 setupcfg.py:1(<module>)\n",
      "        1    0.000    0.000    0.001    0.001 msvc.py:634(find_reg_vs_vers)\n",
      "        1    0.000    0.000    0.006    0.006 _apply_pyprojecttoml.py:1(<module>)\n",
      "        1    0.000    0.000    0.003    0.003 more.py:1(<module>)\n",
      "        1    0.000    0.000    0.000    0.000 msvc.py:587(SystemInfo)\n",
      "        1    0.000    0.000    0.000    0.000 discovery.py:92(_Finder)\n",
      "        1    0.000    0.000    0.000    0.000 util.py:51(get_platform)\n",
      "        1    0.000    0.000    0.000    0.000 dist.py:1029(DistributionMetadata)\n",
      "        1    0.000    0.000    0.003    0.003 monkey.py:136(patch_for_msvc_specialized_compiler)\n",
      "        1    0.000    0.000    0.001    0.001 spawn.py:1(<module>)\n",
      "        1    0.000    0.000    0.007    0.007 config.py:1(<module>)\n",
      "        1    0.000    0.000    0.000    0.000 configparser.py:298(ParsingError)\n",
      "        1    0.000    0.000    0.000    0.000 configparser.py:1326(ConverterMapping)\n",
      "        1    0.000    0.000    0.000    0.000 __init__.py:5(VendorImporter)\n",
      "        1    0.000    0.000    0.000    0.000 errors.py:12(DistutilsError)\n",
      "        1    0.000    0.000    0.000    0.000 errors.py:18(DistutilsModuleError)\n",
      "        1    0.000    0.000    0.000    0.000 errors.py:25(DistutilsClassError)\n",
      "        1    0.000    0.000    0.000    0.000 errors.py:34(DistutilsGetoptError)\n",
      "        1    0.000    0.000    0.000    0.000 errors.py:40(DistutilsArgError)\n",
      "        1    0.000    0.000    0.000    0.000 errors.py:47(DistutilsFileError)\n",
      "        1    0.000    0.000    0.000    0.000 errors.py:55(DistutilsOptionError)\n",
      "        1    0.000    0.000    0.000    0.000 errors.py:66(DistutilsSetupError)\n",
      "        1    0.000    0.000    0.000    0.000 errors.py:73(DistutilsPlatformError)\n",
      "        1    0.000    0.000    0.000    0.000 errors.py:81(DistutilsExecError)\n",
      "        1    0.000    0.000    0.000    0.000 errors.py:88(DistutilsInternalError)\n",
      "        1    0.000    0.000    0.000    0.000 errors.py:95(DistutilsTemplateError)\n",
      "        1    0.000    0.000    0.000    0.000 errors.py:99(DistutilsByteCompileError)\n",
      "        1    0.000    0.000    0.000    0.000 errors.py:104(CCompilerError)\n",
      "        1    0.000    0.000    0.000    0.000 errors.py:108(PreprocessError)\n",
      "        1    0.000    0.000    0.000    0.000 errors.py:112(CompileError)\n",
      "        1    0.000    0.000    0.000    0.000 errors.py:116(LibError)\n",
      "        1    0.000    0.000    0.000    0.000 errors.py:121(LinkError)\n",
      "        1    0.000    0.000    0.000    0.000 errors.py:126(UnknownFileError)\n",
      "        1    0.000    0.000    0.000    0.000 configparser.py:377(BasicInterpolation)\n",
      "        1    0.000    0.000    0.000    0.000 configparser.py:449(ExtendedInterpolation)\n",
      "        1    0.000    0.000    0.000    0.000 configparser.py:1211(ConfigParser)\n",
      "        1    0.000    0.000    0.000    0.000 extension.py:20(Extension)\n",
      "        1    0.000    0.000    0.000    0.000 depends.py:15(Require)\n",
      "        1    0.000    0.000    0.000    0.000 dist.py:53(Distribution)\n",
      "        1    0.000    0.000    0.000    0.000 discovery.py:300(ConfigDiscovery)\n",
      "        1    0.000    0.000    0.000    0.000 log.py:1(<module>)\n",
      "        1    0.000    0.000    0.000    0.000 dep_util.py:1(<module>)\n",
      "        1    0.000    0.000    0.000    0.000 _log.py:1(<module>)\n",
      "        1    0.000    0.000    0.000    0.000 configparser.py:361(Interpolation)\n",
      "        1    0.000    0.000    0.000    0.000 filelist.py:275(_UniqueDirs)\n",
      "        1    0.000    0.000    0.000    0.000 discovery.py:183(PEP420PackageFinder)\n",
      "        1    0.000    0.000    0.000    0.000 dir_util.py:1(<module>)\n",
      "        1    0.000    0.000    0.008    0.008 cmd.py:1(<module>)\n",
      "        1    0.000    0.000    0.000    0.000 log.py:42(Log)\n",
      "        1    0.000    0.000    0.000    0.000 filelist.py:17(FileList)\n",
      "        1    0.000    0.000    0.000    0.000 __init__.py:11(__init__)\n",
      "        1    0.000    0.000    0.000    0.000 discovery.py:212(FlatLayoutPackageFinder)\n",
      "        1    0.000    0.000    0.000    0.000 configparser.py:169(Error)\n",
      "        1    0.000    0.000    0.000    0.000 configparser.py:191(DuplicateSectionError)\n",
      "        1    0.000    0.000    0.000    0.000 configparser.py:217(DuplicateOptionError)\n",
      "        1    0.000    0.000    0.000    0.000 configparser.py:1243(SafeConfigParser)\n",
      "        1    0.000    0.000    0.006    0.006 archive_util.py:1(<module>)\n",
      "        1    0.000    0.000    0.000    0.000 configparser.py:182(NoSectionError)\n",
      "        1    0.000    0.000    0.000    0.000 configparser.py:244(NoOptionError)\n",
      "        1    0.000    0.000    0.000    0.000 configparser.py:255(InterpolationError)\n",
      "        1    0.000    0.000    0.000    0.000 configparser.py:265(InterpolationMissingOptionError)\n",
      "        1    0.000    0.000    0.000    0.000 configparser.py:277(InterpolationSyntaxError)\n",
      "        1    0.000    0.000    0.000    0.000 configparser.py:285(InterpolationDepthError)\n",
      "        1    0.000    0.000    0.000    0.000 configparser.py:341(MissingSectionHeaderError)\n",
      "        1    0.000    0.000    0.000    0.000 version.py:55(InvalidVersion)\n",
      "        1    0.000    0.000    0.000    0.000 discovery.py:265(FlatLayoutModuleFinder)\n",
      "        1    0.000    0.000    0.000    0.000 configparser.py:523(LegacyInterpolation)\n",
      "        1    0.000    0.000    0.000    0.000 _imp.py:1(<module>)\n",
      "        1    0.000    0.000    0.000    0.000 __init__.py:65(install)\n",
      "        1    0.000    0.000    0.000    0.000 _structures.py:1(<module>)\n",
      "        1    0.000    0.000    0.000    0.000 discovery.py:138(PackageFinder)\n",
      "        1    0.000    0.000    0.000    0.000 <string>:1(<module>)\n",
      "        1    0.000    0.000    0.000    0.000 discovery.py:189(ModuleFinder)\n",
      "        1    0.000    0.000    0.000    0.000 _tokenizer.py:16(ParserSyntaxError)\n",
      "        1    0.000    0.000    0.000    0.000 _structures.py:6(InfinityType)\n",
      "        1    0.000    0.000    0.000    0.000 _structures.py:35(NegativeInfinityType)\n",
      "        1    0.000    0.000    0.000    0.000 markers.py:193(Marker)\n",
      "        1    0.000    0.000    0.000    0.000 version.py:65(_BaseVersion)\n",
      "        1    0.000    0.000    0.000    0.000 more.py:1888(numeric_range)\n",
      "        1    0.000    0.000    0.000    0.000 ordered_set.py:1(<module>)\n",
      "        1    0.000    0.000    0.000    0.000 requirements.py:1(<module>)\n",
      "        1    0.000    0.000    0.000    0.000 setupcfg.py:518(ConfigMetadataHandler)\n",
      "        1    0.000    0.000    0.000    0.000 discovery.py:76(_Filter)\n",
      "        1    0.000    0.000    0.000    0.000 more.py:233(peekable)\n",
      "        1    0.000    0.000    0.000    0.000 more.py:2562(seekable)\n",
      "        1    0.000    0.000    0.000    0.000 more.py:2702(run_length)\n",
      "        1    0.000    0.000    0.000    0.000 _parser.py:13(Node)\n",
      "        1    0.000    0.000    0.000    0.000 more.py:850(bucket)\n",
      "        1    0.000    0.000    0.000    0.000 more.py:2267(islice_extended)\n",
      "        1    0.000    0.000    0.000    0.000 more.py:2517(SequenceView)\n",
      "        1    0.000    0.000    0.000    0.000 _tokenizer.py:9(Token)\n",
      "        1    0.000    0.000    0.000    0.000 dist.py:992(DistDeprecationWarning)\n",
      "        1    0.000    0.000    0.000    0.000 markers.py:40(UndefinedComparison)\n",
      "        1    0.000    0.000    0.000    0.000 markers.py:34(InvalidMarker)\n",
      "        1    0.000    0.000    0.000    0.000 markers.py:46(UndefinedEnvironmentName)\n",
      "        1    0.000    0.000    0.000    0.000 more.py:3395(AbortThread)\n",
      "        1    0.000    0.000    0.000    0.000 <string>:1(__create_fn__)\n",
      "        1    0.000    0.000    0.000    0.000 specifiers.py:40(InvalidSpecifier)\n",
      "        1    0.000    0.000    0.000    0.000 utils.py:21(InvalidSdistFilename)\n",
      "        1    0.000    0.000    0.000    0.000 utils.py:15(InvalidWheelFilename)\n",
      "        1    0.000    0.000    0.000    0.000 errors.py:32(RemovedCommandError)\n",
      "        1    0.000    0.000    0.000    0.000 errors.py:42(PackageDiscoveryError)\n",
      "        1    0.000    0.000    0.000    0.000 ordered_set.py:42(OrderedSet)\n",
      "        1    0.000    0.000    0.000    0.000 tags.py:43(Tag)\n",
      "        1    0.000    0.000    0.000    0.000 __init__.py:252(WordSet)\n",
      "        1    0.000    0.000    0.000    0.000 setupcfg.py:609(ConfigOptionsHandler)\n",
      "        1    0.000    0.000    0.000    0.000 _header_value_parser.py:115(TokenList)\n",
      "        1    0.000    0.000    0.002    0.002 msvc.py:605(__init__)\n",
      "        1    0.000    0.000    0.000    0.000 more.py:1481(UnequalIterablesError)\n",
      "        1    0.000    0.000    0.000    0.000 more.py:3071(time_limited)\n",
      "        1    0.000    0.000    0.000    0.000 more.py:3795(countable)\n",
      "        1    0.000    0.000    0.000    0.000 _parser.py:27(Variable)\n",
      "        1    0.000    0.000    0.000    0.000 _parser.py:32(Value)\n",
      "        1    0.000    0.000    0.000    0.000 _parser.py:37(Op)\n",
      "        1    0.000    0.000    0.000    0.000 _manylinux.py:69(_GLibCVersion)\n",
      "        1    0.000    0.000    0.000    0.000 _elffile.py:31(EMachine)\n",
      "        1    0.000    0.000    0.000    0.000 _musllinux.py:16(_MuslVersion)\n",
      "        1    0.000    0.000    0.000    0.000 _elffile.py:39(ELFFile)\n",
      "        1    0.000    0.000    0.000    0.000 __init__.py:37(FoldedCase)\n",
      "        1    0.000    0.000    0.000    0.000 expand.py:395(EnsurePackagesDiscovered)\n",
      "        1    0.000    0.000    0.000    0.000 _path.py:1(<module>)\n",
      "        1    0.000    0.000    0.000    0.000 headerregistry.py:156(BaseHeader)\n",
      "        1    0.000    0.000    0.001    0.001 _msvccompiler.py:1(<module>)\n",
      "        1    0.000    0.000    0.000    0.000 more.py:3399(callback_iter)\n",
      "        1    0.000    0.000    0.000    0.000 _parser.py:52(ParsedRequirement)\n",
      "        1    0.000    0.000    0.000    0.000 expand.py:63(StaticModule)\n",
      "        1    0.000    0.000    0.000    0.000 bdist.py:35(bdist)\n",
      "        1    0.000    0.000    0.000    0.000 headerregistry.py:402(MIMEVersionHeader)\n",
      "        1    0.000    0.000    0.000    0.000 context.py:251(on_interrupt)\n",
      "        1    0.000    0.000    0.001    0.001 _elffile.py:1(<module>)\n",
      "        1    0.000    0.000    0.000    0.000 warnings.py:20(SetuptoolsWarning)\n",
      "        1    0.000    0.000    0.000    0.000 ccompiler.py:1(<module>)\n",
      "        1    0.000    0.000    0.000    0.000 __init__.py:428(Stripper)\n",
      "        1    0.000    0.000    0.000    0.000 context.py:191(raises)\n",
      "        1    0.000    0.000    0.000    0.000 requirements.py:20(Requirement)\n",
      "        1    0.000    0.000    0.000    0.000 functools.py:191(_special_method_cache)\n",
      "        1    0.000    0.000    0.000    0.000 functools.py:320(Throttler)\n",
      "        1    0.000    0.000    0.000    0.000 functools.py:423(pass_none)\n",
      "        1    0.000    0.000    0.000    0.000 context.py:218(passes)\n",
      "        1    0.000    0.000    0.000    0.000 _elffile.py:21(EIClass)\n",
      "        1    0.000    0.000    0.000    0.000 _elffile.py:17(ELFInvalid)\n",
      "        1    0.000    0.000    0.000    0.000 _elffile.py:26(EIData)\n",
      "        1    0.000    0.000    0.000    0.000 context.py:163(__init__)\n",
      "        1    0.000    0.000    0.000    0.000 context.py:240(suppress)\n",
      "        1    0.000    0.000    0.000    0.000 warnings.py:84(InformationOnly)\n",
      "        1    0.000    0.000    0.000    0.000 warnings.py:94(SetuptoolsDeprecationWarning)\n",
      "        1    0.000    0.000    0.000    0.000 requirements.py:14(InvalidRequirement)\n",
      "        1    0.000    0.000    0.000    0.000 extension.py:147(Library)\n",
      "        1    0.000    0.000    0.000    0.000 bdist.py:25(ListCompat)\n",
      "        1    0.000    0.000    0.000    0.000 setupcfg.py:788(_DeprecatedConfig)\n",
      "        1    0.000    0.000    0.000    0.000 pyprojecttoml.py:437(_ExperimentalConfiguration)\n",
      "        1    0.000    0.000    0.000    0.000 warnings.py:1(<module>)\n",
      "        1    0.000    0.000    0.001    0.001 msvc.py:614(_find_latest_available_vs_ver)\n",
      "        1    0.000    0.000    0.002    0.002 msvc.py:1135(__init__)\n",
      "        1    0.000    0.000    0.000    0.000 __init__.py:407(SeparatedValues)\n",
      "        1    0.000    0.000    0.000    0.000 __init__.py:229(Splitter)\n",
      "        1    0.000    0.000    0.000    0.000 extension.py:30(Extension)\n",
      "        1    0.000    0.000    0.000    0.000 _itertools.py:1(<module>)\n",
      "        1    0.000    0.000    0.000    0.000 _apply_pyprojecttoml.py:391(_WouldIgnoreField)\n",
      "        1    0.000    0.000    0.000    0.000 headerregistry.py:387(SingleAddressHeader)\n",
      "        1    0.000    0.000    0.000    0.000 functools.py:101(method_cache)\n",
      "        1    0.000    0.000    0.000    0.000 context.py:127(ExceptionTrap)\n",
      "        1    0.000    0.000    0.000    0.000 bdist.py:1(<module>)\n",
      "        1    0.000    0.000    0.000    0.000 headerregistry.py:12(Address)\n",
      "        1    0.000    0.000    0.000    0.000 headerregistry.py:327(AddressHeader)\n",
      "        1    0.000    0.000    0.000    0.000 headerregistry.py:468(ContentTypeHeader)\n",
      "        1    0.000    0.000    0.000    0.000 _header_value_parser.py:385(NameAddr)\n",
      "        1    0.000    0.000    0.000    0.000 _header_value_parser.py:455(Mailbox)\n",
      "        1    0.000    0.000    0.000    0.000 msvc.py:399(RegistryInfo)\n",
      "        1    0.000    0.000    0.000    0.000 setupcfg.py:768(_AmbiguousMarker)\n",
      "        1    0.000    0.000    0.000    0.000 headerregistry.py:562(HeaderRegistry)\n",
      "        1    0.000    0.000    0.000    0.000 _header_value_parser.py:251(BareQuotedString)\n",
      "        1    0.000    0.000    0.000    0.000 _header_value_parser.py:482(InvalidMailbox)\n",
      "        1    0.000    0.000    0.000    0.000 _header_value_parser.py:493(Domain)\n",
      "        1    0.000    0.000    0.000    0.000 _header_value_parser.py:721(MimeParameters)\n",
      "        1    0.000    0.000    0.000    0.000 _header_value_parser.py:913(WhiteSpaceTerminal)\n",
      "        1    0.000    0.000    0.000    0.000 _header_value_parser.py:923(ValueTerminal)\n",
      "        1    0.000    0.000    0.000    0.000 _header_value_parser.py:933(EWWhiteSpaceTerminal)\n",
      "        1    0.000    0.000    0.000    0.000 msvc.py:443(vc)\n",
      "        1    0.000    0.000    0.000    0.000 msvc.py:455(vs)\n",
      "        1    0.000    0.000    0.000    0.000 headerregistry.py:104(Group)\n",
      "        1    0.000    0.000    0.000    0.000 headerregistry.py:439(ParameterizedMIMEHeader)\n",
      "        1    0.000    0.000    0.000    0.000 headerregistry.py:490(ContentDispositionHeader)\n",
      "        1    0.000    0.000    0.000    0.000 _header_value_parser.py:224(QuotedString)\n",
      "        1    0.000    0.000    0.000    0.000 _header_value_parser.py:263(Comment)\n",
      "        1    0.000    0.000    0.000    0.000 _header_value_parser.py:289(AddressList)\n",
      "        1    0.000    0.000    0.000    0.000 _header_value_parser.py:308(Address)\n",
      "        1    0.000    0.000    0.000    0.000 _header_value_parser.py:364(Group)\n",
      "        1    0.000    0.000    0.000    0.000 _header_value_parser.py:556(DisplayName)\n",
      "        1    0.000    0.000    0.000    0.000 _header_value_parser.py:634(DomainLiteral)\n",
      "        1    0.000    0.000    0.000    0.000 _header_value_parser.py:657(Parameter)\n",
      "        1    0.000    0.000    0.000    0.000 msvc.py:351(target_dir)\n",
      "        1    0.000    0.000    0.000    0.000 pyprojecttoml.py:397(_EnsurePackagesDiscovered)\n",
      "        1    0.000    0.000    0.000    0.000 headerregistry.py:260(UnstructuredHeader)\n",
      "        1    0.000    0.000    0.000    0.000 headerregistry.py:525(MessageIDHeader)\n",
      "        1    0.000    0.000    0.000    0.000 _header_value_parser.py:182(WhiteSpaceTokenList)\n",
      "        1    0.000    0.000    0.000    0.000 _header_value_parser.py:333(MailboxList)\n",
      "        1    0.000    0.000    0.000    0.000 _header_value_parser.py:347(GroupList)\n",
      "        1    0.000    0.000    0.000    0.000 _header_value_parser.py:598(LocalPart)\n",
      "        1    0.000    0.000    0.000    0.000 expand.py:433(LazyMappingProxy)\n",
      "        1    0.000    0.000    0.000    0.000 msvc.py:278(PlatformInfo)\n",
      "        1    0.000    0.000    0.000    0.000 msvc.py:467(vc_for_python)\n",
      "        1    0.000    0.000    0.000    0.000 msvc.py:290(__init__)\n",
      "        1    0.000    0.000    0.000    0.000 headerregistry.py:271(UniqueUnstructuredHeader)\n",
      "        1    0.000    0.000    0.000    0.000 headerregistry.py:322(UniqueDateHeader)\n",
      "        1    0.000    0.000    0.000    0.000 headerregistry.py:382(UniqueAddressHeader)\n",
      "        1    0.000    0.000    0.000    0.000 headerregistry.py:397(UniqueSingleAddressHeader)\n",
      "        1    0.000    0.000    0.000    0.000 _header_value_parser.py:193(UnstructuredTokenList)\n",
      "        1    0.000    0.000    0.000    0.000 _header_value_parser.py:197(Phrase)\n",
      "        1    0.000    0.000    0.000    0.000 _header_value_parser.py:200(Word)\n",
      "        1    0.000    0.000    0.000    0.000 _header_value_parser.py:204(CFWSList)\n",
      "        1    0.000    0.000    0.000    0.000 _header_value_parser.py:208(Atom)\n",
      "        1    0.000    0.000    0.000    0.000 _header_value_parser.py:212(Token)\n",
      "        1    0.000    0.000    0.000    0.000 _header_value_parser.py:503(DotAtom)\n",
      "        1    0.000    0.000    0.000    0.000 _header_value_parser.py:507(DotAtomText)\n",
      "        1    0.000    0.000    0.000    0.000 _header_value_parser.py:512(NoFoldLiteral)\n",
      "        1    0.000    0.000    0.000    0.000 _header_value_parser.py:550(ObsLocalPart)\n",
      "        1    0.000    0.000    0.000    0.000 _header_value_parser.py:685(InvalidParameter)\n",
      "        1    0.000    0.000    0.000    0.000 _header_value_parser.py:700(Section)\n",
      "        1    0.000    0.000    0.000    0.000 _header_value_parser.py:840(HeaderLabel)\n",
      "        1    0.000    0.000    0.000    0.000 _header_value_parser.py:854(MessageID)\n",
      "        1    0.000    0.000    0.000    0.000 _header_value_parser.py:858(InvalidMessageID)\n",
      "        1    0.000    0.000    0.000    0.000 _header_value_parser.py:862(Header)\n",
      "        1    0.000    0.000    0.000    0.000 _header_value_parser.py:943(_InvalidEwError)\n",
      "        1    0.000    0.000    0.000    0.000 headerregistry.py:276(DateHeader)\n",
      "        1    0.000    0.000    0.000    0.000 headerregistry.py:504(ContentTransferEncodingHeader)\n",
      "        1    0.000    0.000    0.000    0.000 _header_value_parser.py:412(AngleAddr)\n",
      "        1    0.000    0.000    0.000    0.000 _header_value_parser.py:517(AddrSpec)\n",
      "        1    0.000    0.000    0.000    0.000 _header_value_parser.py:217(EncodedWord)\n",
      "        1    0.000    0.000    0.000    0.000 _header_value_parser.py:446(ObsRoute)\n",
      "        1    0.000    0.000    0.000    0.000 _header_value_parser.py:650(MIMEVersion)\n",
      "        1    0.000    0.000    0.000    0.000 _header_value_parser.py:690(Attribute)\n",
      "        1    0.000    0.000    0.000    0.000 _header_value_parser.py:706(Value)\n",
      "        1    0.000    0.000    0.000    0.000 _header_value_parser.py:807(ParameterizedHeaderValue)\n",
      "        1    0.000    0.000    0.000    0.000 _header_value_parser.py:821(ContentType)\n",
      "        1    0.000    0.000    0.000    0.000 _header_value_parser.py:828(ContentDisposition)\n",
      "        1    0.000    0.000    0.000    0.000 _header_value_parser.py:834(ContentTransferEncoding)\n",
      "        1    0.000    0.000    0.000    0.000 _header_value_parser.py:845(MsgID)\n",
      "        1    0.000    0.000    0.000    0.000 msvc.py:1156(vc_ver)\n",
      "        1    0.000    0.000    0.000    0.000 _header_value_parser.py:870(Terminal)\n",
      "        1    0.000    0.000    0.000    0.000 msvc.py:375(cross_dir)\n",
      "        1    0.000    0.000    0.000    0.000 msvc.py:416(__init__)\n",
      "        1    0.000    0.000    0.033    0.033 __init__.py:51(ensure_local_distutils)\n",
      "        1    0.000    0.000    0.004    0.004 __init__.py:99(spec_for_distutils)\n",
      "        1    0.000    0.000    0.000    0.000 typing.py:1268(__mro_entries__)\n",
      "        1    0.000    0.000    0.000    0.000 __init__.py:132(is_cpython)\n",
      "        1    0.000    0.000    0.000    0.000 __init__.py:125(exec_module)\n",
      "        1    0.000    0.000    0.000    0.000 decoder.py:332(decode)\n",
      "        1    0.000    0.000    0.033    0.033 __init__.py:68(do_override)\n",
      "        1    0.000    0.000    0.000    0.000 __init__.py:43(enabled)\n",
      "        1    0.000    0.000    0.000    0.000 __init__.py:214(insert_shim)\n",
      "        1    0.000    0.000    0.000    0.000 __init__.py:178(sub)\n",
      "        1    0.000    0.000    0.000    0.000 __init__.py:218(_remove_shim)\n",
      "        1    0.000    0.000    0.000    0.000 __init__.py:9(warn_distutils_present)\n",
      "        1    0.000    0.000    0.000    0.000 decoder.py:343(raw_decode)\n",
      "        1    0.000    0.000    0.000    0.000 __init__.py:28(clear_distutils)\n",
      "        1    0.000    0.000    0.000    0.000 typing.py:3135(__init__)\n",
      "        1    0.000    0.000    0.000    0.000 _weakrefset.py:27(__exit__)\n",
      "        1    0.000    0.000    0.000    0.000 __init__.py:121(create_module)\n",
      "        1    0.000    0.000    0.000    0.000 __init__.py:120(DistutilsLoader)\n",
      "        1    0.000    0.000    0.000    0.000 __init__.py:207(__enter__)\n",
      "        1    0.000    0.000    0.000    0.000 __init__.py:210(__exit__)\n",
      "        1    0.000    0.000    0.000    0.000 typing.py:919(_is_typevar_like)\n",
      "        1    0.000    0.000    0.000    0.000 __init__.py:274(load)\n",
      "        1    0.000    0.000    0.000    0.000 copyreg.py:113(_slotnames)\n",
      "        1    0.000    0.000    0.000    0.000 dataclasses.py:528(_init_fn)\n",
      "        1    0.000    0.000    0.000    0.000 inspect.py:2039(_signature_bound_method)\n",
      "        1    0.000    0.000    0.000    0.000 __init__.py:299(loads)\n",
      "        1    0.000    0.000    0.000    0.000 platform.py:951(machine)\n",
      "        1    0.000    0.000    0.000    0.000 _weakrefset.py:17(__init__)\n",
      "        1    0.000    0.000    0.000    0.000 _weakrefset.py:53(_commit_removals)\n",
      "        1    0.000    0.000    0.000    0.000 _weakrefset.py:85(add)\n",
      "        1    0.000    0.000    0.000    0.000 _weakrefset.py:110(remove)\n",
      "        1    0.000    0.000    0.000    0.000 _weakrefset.py:21(__enter__)\n",
      "        1    0.000    0.000    0.000    0.000 random.py:119(__init__)\n",
      "        1    0.000    0.000    0.000    0.000 __init__.py:48(create_string_buffer)\n",
      "        1    0.000    0.000    0.000    0.000 random.py:128(seed)\n",
      "        1    0.000    0.000    0.000    0.000 inspect.py:3232(__str__)\n",
      "        1    0.000    0.000    0.000    0.000 zipfile.py:1876(close)\n",
      "        1    0.000    0.000    0.000    0.000 inspect.py:167(get_annotations)\n",
      "        1    0.000    0.000    0.000    0.000 inspect.py:2077(_signature_is_functionlike)\n",
      "        1    0.000    0.000    0.000    0.000 inspect.py:2333(_signature_from_function)\n",
      "        1    0.000    0.000    0.000    0.000 pathlib.py:484(_parse_args)\n",
      "        1    0.000    0.000    0.000    0.000 pathlib.py:56(parse_parts)\n",
      "        1    0.000    0.000    0.000    0.000 pathlib.py:147(splitroot)\n",
      "        1    0.000    0.000    0.003    0.003 shutil.py:1448(which)\n",
      "        1    0.000    0.000    0.000    0.000 inspect.py:3040(replace)\n",
      "        1    0.000    0.000    0.000    0.000 inspect.py:310(ismethoddescriptor)\n",
      "        1    0.000    0.000    0.000    0.000 inspect.py:505(isbuiltin)\n",
      "        1    0.000    0.000    0.000    0.000 inspect.py:3024(from_callable)\n",
      "        1    0.000    0.000    0.000    0.000 inspect.py:3278(signature)\n",
      "        1    0.000    0.000    0.000    0.000 inspect.py:2065(_signature_is_builtin)\n",
      "        1    0.000    0.000    0.000    0.000 pathlib.py:530(_make_child)\n",
      "        1    0.000    0.000    0.000    0.000 pathlib.py:536(__str__)\n",
      "        1    0.000    0.000    0.000    0.000 pstats.py:118(init)\n",
      "        1    0.000    0.000    0.000    0.000 feedparser.py:197(_new_message)\n",
      "        1    0.000    0.000    0.001    0.001 dataclasses.py:884(_process_class)\n",
      "        1    0.000    0.000    0.001    0.001 formatters.py:90(format)\n",
      "        1    0.000    0.000    0.000    0.000 zipfile.py:1245(__init__)\n",
      "        1    0.000    0.000    0.000    0.000 message.py:330(set_payload)\n",
      "        1    0.000    0.000    0.000    0.000 message.py:243(get_payload)\n",
      "        1    0.000    0.000    0.000    0.000 sysconfig.py:718(get_platform)\n",
      "        1    0.000    0.000    0.002    0.002 display_functions.py:105(display)\n",
      "        1    0.000    0.000    0.000    0.000 shutil.py:1500(<listcomp>)\n",
      "        1    0.000    0.000    0.000    0.000 traitlets.py:1339(ignore)\n",
      "        1    0.000    0.000    0.000    0.000 pathlib.py:515(_from_parsed_parts)\n",
      "        1    0.000    0.000    0.000    0.000 pathlib.py:1036(open)\n",
      "        1    0.000    0.000    0.000    0.000 pathlib.py:523(_format_parsed_parts)\n",
      "        1    0.000    0.000    0.000    0.000 pathlib.py:546(__fspath__)\n",
      "        1    0.000    0.000    0.000    0.000 pathlib.py:757(joinpath)\n",
      "        1    0.000    0.000    0.000    0.000 pathlib.py:1053(read_text)\n",
      "        1    0.000    0.000    0.000    0.000 pathlib.py:94(join_parsed_parts)\n",
      "        1    0.000    0.000    0.000    0.000 dataclasses.py:842(_hash_set_none)\n",
      "        1    0.000    0.000    0.000    0.000 dataclasses.py:1046(<listcomp>)\n",
      "        1    0.000    0.000    0.000    0.000 dataclasses.py:1052(<listcomp>)\n",
      "        1    0.000    0.000    0.000    0.000 dataclasses.py:228(_recursive_repr)\n",
      "        1    0.000    0.000    0.000    0.000 dataclasses.py:346(__init__)\n",
      "        1    0.000    0.000    0.000    0.000 dataclasses.py:392(_fields_in_init_order)\n",
      "        1    0.000    0.000    0.000    0.000 dataclasses.py:397(<genexpr>)\n",
      "        1    0.000    0.000    0.000    0.000 dataclasses.py:548(<dictcomp>)\n",
      "        1    0.000    0.000    0.000    0.000 dataclasses.py:624(_cmp_fn)\n",
      "        1    0.000    0.000    0.000    0.000 dataclasses.py:1017(<listcomp>)\n",
      "        1    0.000    0.000    0.000    0.000 dataclasses.py:588(_repr_fn)\n",
      "        1    0.000    0.000    0.001    0.001 dataclasses.py:1202(dataclass)\n",
      "        1    0.000    0.000    0.000    0.000 dataclasses.py:573(<listcomp>)\n",
      "        1    0.000    0.000    0.000    0.000 dataclasses.py:592(<listcomp>)\n",
      "        1    0.000    0.000    0.000    0.000 dataclasses.py:1043(<listcomp>)\n",
      "        1    0.000    0.000    0.001    0.001 dataclasses.py:1219(wrap)\n",
      "        1    0.000    0.000    0.000    0.000 zipfile.py:693(_check_compression)\n",
      "        1    0.000    0.000    0.000    0.000 __init__.py:805(zip_children)\n",
      "        1    0.000    0.000    0.003    0.003 __init__.py:549(from_name)\n",
      "        1    0.000    0.000    0.000    0.000 __init__.py:910(_search_paths)\n",
      "        1    0.000    0.000    0.000    0.000 __init__.py:870(__init__)\n",
      "        1    0.000    0.000    0.000    0.000 __init__.py:877(normalize)\n",
      "        1    0.000    0.000    0.000    0.000 message.py:150(__init__)\n",
      "        1    0.000    0.000    0.000    0.000 _adapters.py:42(_repair_headers)\n",
      "        1    0.000    0.000    0.002    0.002 __init__.py:32(message_from_string)\n",
      "        1    0.000    0.000    0.000    0.000 __init__.py:567(discover)\n",
      "        1    0.000    0.000    0.000    0.000 __init__.py:930(read_text)\n",
      "        1    0.000    0.000    0.000    0.000 __init__.py:757(path)\n",
      "        1    0.000    0.000    0.003    0.003 __init__.py:602(metadata)\n",
      "        1    0.000    0.000    0.000    0.000 __init__.py:923(__init__)\n",
      "        1    0.000    0.000    0.003    0.003 __init__.py:629(version)\n",
      "        1    0.000    0.000    0.000    0.000 _policybase.py:281(_sanitize_header)\n",
      "        1    0.000    0.000    0.000    0.000 __init__.py:594(_discover_resolvers)\n",
      "        1    0.000    0.000    0.000    0.000 __init__.py:754(__init__)\n",
      "        1    0.000    0.000    0.000    0.000 __init__.py:884(legacy_normalize)\n",
      "        1    0.000    0.000    0.000    0.000 zipfile.py:2390(__init__)\n",
      "        1    0.000    0.000    0.003    0.003 __init__.py:975(distribution)\n",
      "        1    0.000    0.000    0.006    0.006 __init__.py:1001(version)\n",
      "        1    0.000    0.000    0.000    0.000 _adapters.py:35(__init__)\n",
      "        1    0.000    0.000    0.000    0.000 zipfile.py:1872(__del__)\n",
      "        1    0.000    0.000    0.000    0.000 _adapters.py:49(<listcomp>)\n",
      "        1    0.000    0.000    0.000    0.000 message.py:211(is_multipart)\n",
      "        1    0.000    0.000    0.000    0.000 message.py:409(__getitem__)\n",
      "        1    0.000    0.000    0.000    0.000 __init__.py:897(find_distributions)\n",
      "        1    0.000    0.000    0.000    0.000 _adapters.py:30(__new__)\n",
      "        1    0.000    0.000    0.000    0.000 zipfile.py:2266(make)\n",
      "        1    0.000    0.000    0.000    0.000 _policybase.py:311(header_fetch_parse)\n",
      "        1    0.000    0.000    0.001    0.001 display_functions.py:45(publish_display_data)\n",
      "        1    0.000    0.000    0.000    0.000 displaypub.py:43(_validate_data)\n",
      "        1    0.000    0.000    0.000    0.000 formatters.py:907(__call__)\n",
      "        1    0.000    0.000    0.000    0.000 formatters.py:953(__call__)\n",
      "        1    0.000    0.000    0.000    0.000 specifiers.py:681(SpecifierSet)\n",
      "        1    0.000    0.000    0.001    0.001 feedparser.py:471(_parse_headers)\n",
      "        1    0.000    0.000    0.000    0.000 feedparser.py:101(push)\n",
      "        1    0.000    0.000    0.000    0.000 pstats.py:137(load_stats)\n",
      "        1    0.000    0.000    0.000    0.000 feedparser.py:139(__init__)\n",
      "        1    0.000    0.000    0.000    0.000 feedparser.py:184(close)\n",
      "        1    0.050    0.050   52.357   52.357 pomdp.py:1526(solve)\n",
      "        1    0.000    0.000    0.000    0.000 pomdp.py:715(__init__)\n",
      "        1    0.000    0.000    0.001    0.001 zmqshell.py:80(publish)\n",
      "        1    0.000    0.000    0.000    0.000 pomdp.py:319(__init__)\n",
      "        1    0.000    0.000    0.000    0.000 formatters.py:944(_check_return)\n",
      "        1    0.000    0.000    0.000    0.000 formatters.py:830(_check_return)\n",
      "        1    0.000    0.000    0.000    0.000 feedparser.py:70(close)\n",
      "        1    0.000    0.000    0.000    0.000 pstats.py:108(__init__)\n",
      "        1    0.000    0.000    0.000    0.000 cProfile.py:51(create_stats)\n",
      "        1    0.000    0.000    0.002    0.002 parser.py:41(parse)\n",
      "        1    0.000    0.000    0.001    0.001 feedparser.py:173(feed)\n",
      "        1    0.000    0.000    0.000    0.000 feedparser.py:53(__init__)\n",
      "        1    0.000    0.000    0.000    0.000 feedparser.py:210(_pop_message)\n",
      "        1    0.000    0.000    0.000    0.000 parser.py:17(__init__)\n",
      "        1    0.000    0.000    0.002    0.002 parser.py:59(parsestr)\n",
      "        1    0.000    0.000    0.000    0.000 jsonutil.py:52(encode_images)\n",
      "        1    0.000    0.000    0.000    0.000 widget.py:802(_repr_mimebundle_)\n",
      "        1    0.000    0.000    0.001    0.001 zmqshell.py:63(_flush_streams)\n",
      "        1    0.000    0.000    0.003    0.003 widget_float.py:23(__init__)\n",
      "        1    0.000    0.000    0.001    0.001 widget_box.py:62(__init__)\n",
      "        1    0.000    0.000    0.000    0.000 widget_float.py:41(_validate_min)\n",
      "        1    0.000    0.000    0.000    0.000 widget_float.py:51(_validate_max)\n",
      "        1    0.000    0.000    0.013    0.013 notebook.py:206(__init__)\n",
      "        1    0.000    0.000    0.000    0.000 std.py:166(colour)\n",
      "        1    0.000    0.000    0.000    0.000 utils.py:144(__init__)\n",
      "        1    0.000    0.000    0.000    0.000 utils.py:228(_screen_shape_windows)\n",
      "        1    0.000    0.000    0.009    0.009 notebook.py:99(status_printer)\n",
      "        1    0.000    0.000    0.000    0.000 std.py:574(_decr_instances)\n",
      "        1    0.000    0.000    0.000    0.000 std.py:1262(close)\n",
      "        1    0.000    0.000    0.140    0.140 compiler.py:92(_get_extra_path_for_msvc)\n",
      "        1    0.000    0.000    0.000    0.000 std.py:551(__new__)\n",
      "        1    0.000    0.000    0.000    0.000 std.py:185(__format__)\n",
      "        1    0.000    0.000    0.000    0.000 std.py:837(__init__)\n",
      "        1    0.000    0.000    0.000    0.000 zmqshell.py:73(_hooks)\n",
      "        1    0.000    0.000    0.000    0.000 widget.py:50(<listcomp>)\n",
      "        1    0.000    0.000    0.013    0.013 auto.py:33(trange)\n",
      "        1    0.000    0.000    0.000    0.000 utils.py:183(_is_utf)\n",
      "        1    0.000    0.000    0.000    0.000 std.py:570(<setcomp>)\n",
      "        1    0.000    0.000    0.000    0.000 std.py:152(__init__)\n",
      "        1    0.000    0.000    0.000    0.000 std.py:567(_get_free_pos)\n",
      "        1    0.000    0.000    0.000    0.000 std.py:648(get_lock)\n",
      "        1    0.000    0.000    0.000    0.000 notebook.py:76(_json_)\n",
      "        1    0.000    0.000    0.000    0.000 utils.py:197(_supports_unicode)\n",
      "        1    0.000    0.000    0.000    0.000 utils.py:213(_screen_shape_wrapper)\n",
      "        1    0.000    0.000    0.000    0.000 utils.py:56(__eq__)\n",
      "        1    0.000    0.000    0.000    0.000 asyncio.py:23(__init__)\n",
      "        1    0.000    0.000    0.000    0.000 notebook.py:276(close)\n",
      "        1    0.000    0.000    0.000    0.000 notebook.py:85(__repr__)\n",
      "        1    0.000    0.000    0.000    0.000 std.py:162(colour)\n",
      "        1    0.000    0.000    0.000    0.000 _monitor.py:94(report)\n",
      "        1    0.000    0.000    0.000    0.000 utils.py:43(__format__)\n",
      "        1    0.000    0.000    0.000    0.000 utils.py:70(__getattr__)\n",
      "        1    0.000    0.000    0.000    0.000 utils.py:87(__init__)\n",
      "        1    0.000    0.000    0.000    0.000 utils.py:204(_is_ascii)\n",
      "        1    0.000    0.000    0.000    0.000 _generator.py:779(seed)\n",
      "        1    0.000    0.000    0.001    0.001 mdp.py:754(to_gpu)\n",
      "        1    0.000    0.000    0.000    0.000 specifiers.py:52(BaseSpecifier)\n",
      "        1    0.000    0.000    0.000    0.000 recipes.py:1(<module>)\n",
      "        1    0.000    0.000    0.000    0.000 specifiers.py:107(Specifier)\n",
      "        1    0.000    0.000    0.005    0.005 configparser.py:1(<module>)\n",
      "        1    0.000    0.000    0.012    0.012 specifiers.py:1(<module>)\n",
      "        1    0.000    0.000    0.001    0.001 fancy_getopt.py:1(<module>)\n",
      "        1    0.000    0.000    0.014    0.014 _tokenizer.py:1(<module>)\n",
      "        1    0.000    0.000    0.000    0.000 pyprojecttoml.py:159(_ConfigExpander)\n",
      "        1    0.000    0.000    0.003    0.003 configparser.py:570(RawConfigParser)\n",
      "        1    0.000    0.000    0.000    0.000 discovery.py:1(<module>)\n",
      "        1    0.000    0.000    0.001    0.001 msvc.py:1238(VCTools)\n",
      "        1    0.000    0.000    0.018    0.018 markers.py:1(<module>)\n",
      "        1    0.000    0.000    0.000    0.000 version.py:157(Version)\n",
      "        1    0.000    0.000    0.000    0.000 dist.py:208(Distribution)\n",
      "        1    0.000    0.000    0.001    0.001 _reqs.py:1(<module>)\n",
      "        1    0.000    0.000    0.003    0.003 util.py:1(<module>)\n",
      "        1    0.000    0.000    0.003    0.003 _normalization.py:1(<module>)\n",
      "        1    0.000    0.000    0.008    0.008 _entry_points.py:1(<module>)\n",
      "        1    0.000    0.000    0.000    0.000 setupcfg.py:229(ConfigHandler)\n",
      "        1    0.000    0.000    0.031    0.031 _generator.py:56(__init__)\n",
      "        1    0.000    0.000    0.009    0.009 tags.py:1(<module>)\n",
      "        1    0.000    0.000    0.010    0.010 utils.py:1(<module>)\n",
      "        1    0.000    0.000    0.002    0.002 expand.py:1(<module>)\n",
      "        1    0.000    0.000    0.000    0.000 _msvccompiler.py:192(MSVCCompiler)\n",
      "        1    0.000    0.000    0.000    0.000 functools.py:1(<module>)\n",
      "        1    0.000    0.000    0.000    0.000 _core_metadata.py:1(<module>)\n",
      "        1    0.000    0.000    0.000    0.000 context.py:1(<module>)\n",
      "        1    0.000    0.000    0.008    0.008 pyprojecttoml.py:1(<module>)\n",
      "        1    0.000    0.000    0.000    0.000 msvc.py:1(<module>)\n",
      "        1    0.000    0.000    0.000    0.000 ccompiler.py:26(CCompiler)\n",
      "        1    0.031    0.031    0.031    0.031 {built-in method cupy_backends.cuda.libs.curand.createGenerator}\n",
      "        1    0.000    0.000    0.000    0.000 {built-in method cupy_backends.cuda.libs.curand.setPseudoRandomGeneratorSeed}\n",
      "        1    0.000    0.000    0.000    0.000 {built-in method cupy_backends.cuda.libs.curand.setGeneratorOffset}\n",
      "        1    0.000    0.000    0.000    0.000 <frozen genericpath>:27(isfile)\n",
      "        1    0.000    0.000    0.000    0.000 <frozen os>:1081(__subclasshook__)\n",
      "        1    0.000    0.000    0.000    0.000 <frozen io>:60(__getattr__)\n",
      "        1    0.000    0.000    0.000    0.000 <frozen _collections_abc>:78(_check_methods)\n",
      "        1    0.000    0.000    0.000    0.000 <frozen importlib._bootstrap_external>:1536(find_distributions)\n",
      "        1    0.000    0.000    0.000    0.000 <frozen ntpath>:249(dirname)\n",
      "        1    0.000    0.000    0.000    0.000 <frozen abc>:146(update_abstractmethods)\n",
      "        1    0.000    0.000    0.000    0.000 {function Random.seed at 0x000001834F5718A0}\n",
      "        1    0.000    0.000    0.000    0.000 {built-in method atexit.register}\n",
      "        1    0.000    0.000    0.000    0.000 {built-in method binascii.hexlify}\n",
      "        1    0.000    0.000    0.000    0.000 {method 'write' of '_io.StringIO' objects}\n",
      "        1    0.000    0.000    0.000    0.000 {method 'remove' of 'list' objects}\n",
      "        1    0.000    0.000    0.000    0.000 {method 'reverse' of 'list' objects}\n",
      "        1    0.000    0.000    0.000    0.000 {method 'difference' of 'set' objects}\n",
      "        1    0.000    0.000    0.000    0.000 {method 'update' of 'set' objects}\n",
      "        1    0.000    0.000    0.000    0.000 {built-in method maketrans}\n",
      "        1    0.000    0.000    0.000    0.000 {method 'disable' of '_lsprof.Profiler' objects}\n",
      "\n",
      "\n"
     ]
    }
   ],
   "source": [
    "from cProfile import Profile\n",
    "from pstats import SortKey, Stats\n",
    "\n",
    "with Profile() as profile:\n",
    "    fsvi_solver.solve(model=model,\n",
    "                    expansions=100,\n",
    "                    horizon=300,\n",
    "                    mdp_policy=solution,\n",
    "                    # expand_prune_level=2,\n",
    "                    # history_tracking_level=2,\n",
    "                    use_gpu=True)\n",
    "    (\n",
    "        Stats(profile)\n",
    "        .strip_dirs()\n",
    "        .sort_stats(SortKey.CALLS)\n",
    "        .print_stats()\n",
    "    )"
   ]
  },
  {
   "cell_type": "code",
   "execution_count": 24,
   "metadata": {},
   "outputs": [
    {
     "name": "stdout",
     "output_type": "stream",
     "text": [
      "75 µs ± 3.37 µs per loop (mean ± std. dev. of 7 runs, 10,000 loops each)\n"
     ]
    }
   ],
   "source": [
    "%timeit solution.alpha_vector_array[0].tobytes()"
   ]
  },
  {
   "cell_type": "code",
   "execution_count": 19,
   "metadata": {},
   "outputs": [],
   "source": [
    "def t1():\n",
    "    x = fsvi_solution.alpha_vector_array\n",
    "    dtype = np.dtype('S{:d}'.format(x.shape[1] * x.dtype.itemsize))\n",
    "    in_bytes = np.frombuffer(x.tobytes(), dtype=dtype)\n",
    "    t = {bi: i for bi, i in zip(in_bytes, np.arange(x.shape[0]))}"
   ]
  },
  {
   "cell_type": "code",
   "execution_count": 20,
   "metadata": {},
   "outputs": [
    {
     "name": "stdout",
     "output_type": "stream",
     "text": [
      "205 ms ± 14.8 ms per loop (mean ± std. dev. of 7 runs, 1 loop each)\n"
     ]
    }
   ],
   "source": [
    "%timeit t1()"
   ]
  },
  {
   "cell_type": "code",
   "execution_count": 23,
   "metadata": {},
   "outputs": [],
   "source": [
    "def t2():\n",
    "    t = {alpha_vector.values.tobytes(): i for alpha_vector, i in zip(fsvi_solution.alpha_vector_list, np.arange(len(fsvi_solution)))}\n",
    "    a = [fsvi_solution.alpha_vector_list[i] for i in t.values()]"
   ]
  },
  {
   "cell_type": "code",
   "execution_count": 24,
   "metadata": {},
   "outputs": [
    {
     "name": "stdout",
     "output_type": "stream",
     "text": [
      "298 ms ± 23.8 ms per loop (mean ± std. dev. of 7 runs, 1 loop each)\n"
     ]
    }
   ],
   "source": [
    "%timeit t2()"
   ]
  },
  {
   "cell_type": "code",
   "execution_count": 19,
   "metadata": {},
   "outputs": [
    {
     "name": "stdout",
     "output_type": "stream",
     "text": [
      "Summary of Value Iteration run\n",
      "  - Model: 5355 state, 4 action, 2 observations\n",
      "  - Converged or stopped after 100 expansion steps and 100 backup steps.\n",
      "  - Converged in 63.4330s\n",
      "\n",
      "  - Expand function took on average 0.2504s and yielded on average 80.46 beliefs per iteration.\n",
      "  - Backup function took on average 0.3839s and yielded on average value functions of size 1025.29 per iteration.\n"
     ]
    }
   ],
   "source": [
    "print(hist.summary)"
   ]
  },
  {
   "cell_type": "code",
   "execution_count": 19,
   "metadata": {},
   "outputs": [
    {
     "data": {
      "text/plain": [
       "1015"
      ]
     },
     "execution_count": 19,
     "metadata": {},
     "output_type": "execute_result"
    }
   ],
   "source": [
    "len(fsvi_solution)"
   ]
  },
  {
   "cell_type": "code",
   "execution_count": null,
   "metadata": {},
   "outputs": [],
   "source": [
    "fsvi_solution._uniqueness_dict.u"
   ]
  },
  {
   "cell_type": "code",
   "execution_count": 37,
   "metadata": {},
   "outputs": [],
   "source": [
    "vect_array = fsvi_solution.alpha_vector_array\n",
    "\n",
    "indices = []\n",
    "\n",
    "for i, v in enumerate(vect_array):\n",
    "    is_dom_by = cp.all(vect_array >= v, axis=1)\n",
    "    if len(cp.where(is_dom_by)[0]) == 1:\n",
    "        indices.append(i)"
   ]
  },
  {
   "cell_type": "code",
   "execution_count": 39,
   "metadata": {},
   "outputs": [
    {
     "data": {
      "text/plain": [
       "(916, 5355)"
      ]
     },
     "execution_count": 39,
     "metadata": {},
     "output_type": "execute_result"
    }
   ],
   "source": [
    "fsvi_solution.alpha_vector_array[indices].shape"
   ]
  },
  {
   "cell_type": "code",
   "execution_count": 19,
   "metadata": {},
   "outputs": [
    {
     "name": "stdout",
     "output_type": "stream",
     "text": [
      "Summary of Value Iteration run\n",
      "  - Model: 5355 state, 4 action, 2 observations\n",
      "  - Converged or stopped after 100 expansion steps and 100 backup steps.\n",
      "  - Converged in 68.1278s\n",
      "\n",
      "  - Expand function took on average 0.2703s and yielded on average 82.34 beliefs per iteration.\n",
      "  - Backup function took on average 0.4109s and yielded on average value functions of size 1164.13 per iteration.\n"
     ]
    }
   ],
   "source": [
    "print(hist.summary)"
   ]
  },
  {
   "cell_type": "code",
   "execution_count": 109,
   "metadata": {},
   "outputs": [
    {
     "name": "stdout",
     "output_type": "stream",
     "text": [
      "Summary of Value Iteration run\n",
      "  - Model: 5355 state, 4 action, 2 observations\n",
      "  - Converged or stopped after 100 expansion steps and 100 backup steps.\n",
      "  - Converged in 66.3804s\n",
      "\n",
      "  - Expand function took on average 0.2960s and yielded on average 87.36 beliefs per iteration.\n",
      "  - Backup function took on average 0.3678s and yielded on average value functions of size 887.19 per iteration.\n"
     ]
    }
   ],
   "source": [
    "print(hist.summary)"
   ]
  },
  {
   "cell_type": "markdown",
   "metadata": {},
   "source": [
    "pruning exploration"
   ]
  },
  {
   "cell_type": "code",
   "execution_count": 32,
   "metadata": {},
   "outputs": [
    {
     "data": {
      "text/plain": [
       "<matplotlib.legend.Legend at 0x20d9b9e55d0>"
      ]
     },
     "execution_count": 32,
     "metadata": {},
     "output_type": "execute_result"
    },
    {
     "data": {
      "image/png": "[encoded data removed]",
      "text/plain": [
       "<Figure size 640x480 with 1 Axes>"
      ]
     },
     "metadata": {},
     "output_type": "display_data"
    }
   ],
   "source": [
    "plt.plot(np.arange(len(hist.alpha_vector_counts)), hist.alpha_vector_counts, label='Alpha Vectors')\n",
    "plt.plot(np.arange(len(hist.alpha_vector_counts)), np.cumsum(hist.beliefs_counts), label='Beliefs (theoretical max AV)')\n",
    "plt.xlabel('Iteration')\n",
    "plt.ylabel('Count')\n",
    "plt.legend()"
   ]
  },
  {
   "cell_type": "code",
   "execution_count": 33,
   "metadata": {},
   "outputs": [],
   "source": [
    "def t(vect_set):\n",
    "    L = {alpha_vector.values.tobytes(): alpha_vector.values.tobytes() for alpha_vector in vect_set}\n",
    "    # pruned_alpha_set = ValueFunction(model, list(L.values()))"
   ]
  },
  {
   "cell_type": "code",
   "execution_count": 35,
   "metadata": {},
   "outputs": [],
   "source": [
    "vect_set = fsvi_solution.alpha_vector_list\n",
    "L = {alpha_vector.values.tobytes(): alpha_vector.values.tobytes() for alpha_vector in vect_set[:900]}\n",
    "L2 = {alpha_vector.values.tobytes(): alpha_vector.values.tobytes() for alpha_vector in vect_set[900:]}\n"
   ]
  },
  {
   "cell_type": "code",
   "execution_count": null,
   "metadata": {},
   "outputs": [],
   "source": []
  },
  {
   "cell_type": "code",
   "execution_count": 36,
   "metadata": {},
   "outputs": [
    {
     "ename": "TypeError",
     "evalue": "unsupported operand type(s) for +: 'dict' and 'dict'",
     "output_type": "error",
     "traceback": [
      "\u001b[1;31m---------------------------------------------------------------------------\u001b[0m",
      "\u001b[1;31mTypeError\u001b[0m                                 Traceback (most recent call last)",
      "\u001b[1;32mg:\\My Drive\\Documents\\Universita di Genova\\Classes\\90537 - Thesis\\POMDP_PBVI_Exploration\\Experiments\\Olfactory Navigation\\Olfactory_Model.ipynb Cell 29\u001b[0m line \u001b[0;36m1\n\u001b[1;32m----> <a href='vscode-notebook-cell:/g%3A/My%20Drive/Documents/Universita%20di%20Genova/Classes/90537%20-%20Thesis/POMDP_PBVI_Exploration/Experiments/Olfactory%20Navigation/Olfactory_Model.ipynb#Y302sZmlsZQ%3D%3D?line=0'>1</a>\u001b[0m L \u001b[39m+\u001b[39;49m L2\n",
      "\u001b[1;31mTypeError\u001b[0m: unsupported operand type(s) for +: 'dict' and 'dict'"
     ]
    }
   ],
   "source": [
    "L + L2"
   ]
  },
  {
   "cell_type": "code",
   "execution_count": 34,
   "metadata": {},
   "outputs": [
    {
     "name": "stdout",
     "output_type": "stream",
     "text": [
      "96.6 ms ± 4.04 ms per loop (mean ± std. dev. of 7 runs, 10 loops each)\n"
     ]
    }
   ],
   "source": [
    "%timeit t(fsvi_solution.alpha_vector_list)"
   ]
  },
  {
   "cell_type": "code",
   "execution_count": 22,
   "metadata": {},
   "outputs": [
    {
     "data": {
      "text/plain": [
       "1832"
      ]
     },
     "execution_count": 22,
     "metadata": {},
     "output_type": "execute_result"
    }
   ],
   "source": [
    "len(fsvi_solution)"
   ]
  },
  {
   "cell_type": "code",
   "execution_count": 26,
   "metadata": {},
   "outputs": [
    {
     "ename": "NotImplementedError",
     "evalue": "axis option is not supported yet.",
     "output_type": "error",
     "traceback": [
      "\u001b[1;31m---------------------------------------------------------------------------\u001b[0m",
      "\u001b[1;31mNotImplementedError\u001b[0m                       Traceback (most recent call last)",
      "\u001b[1;32mg:\\My Drive\\Documents\\Universita di Genova\\Classes\\90537 - Thesis\\POMDP_PBVI_Exploration\\Experiments\\Olfactory Navigation\\Olfactory_Model.ipynb Cell 29\u001b[0m line \u001b[0;36m1\n\u001b[1;32m----> <a href='vscode-notebook-cell:/g%3A/My%20Drive/Documents/Universita%20di%20Genova/Classes/90537%20-%20Thesis/POMDP_PBVI_Exploration/Experiments/Olfactory%20Navigation/Olfactory_Model.ipynb#Y266sZmlsZQ%3D%3D?line=0'>1</a>\u001b[0m cp\u001b[39m.\u001b[39;49munique(fsvi_solution\u001b[39m.\u001b[39;49malpha_vector_array, axis\u001b[39m=\u001b[39;49m\u001b[39m0\u001b[39;49m)\n",
      "File \u001b[1;32mc:\\Users\\arnau\\AppData\\Local\\Programs\\Python\\Python311\\Lib\\site-packages\\cupy\\_manipulation\\add_remove.py:179\u001b[0m, in \u001b[0;36munique\u001b[1;34m(ar, return_index, return_inverse, return_counts, axis, equal_nan)\u001b[0m\n\u001b[0;32m    134\u001b[0m \u001b[39m\u001b[39m\u001b[39m\"\"\"Find the unique elements of an array.\u001b[39;00m\n\u001b[0;32m    135\u001b[0m \n\u001b[0;32m    136\u001b[0m \u001b[39mReturns the sorted unique elements of an array. There are three optional\u001b[39;00m\n\u001b[1;32m   (...)\u001b[0m\n\u001b[0;32m    176\u001b[0m \u001b[39m.. seealso:: :func:`numpy.unique`\u001b[39;00m\n\u001b[0;32m    177\u001b[0m \u001b[39m\"\"\"\u001b[39;00m\n\u001b[0;32m    178\u001b[0m \u001b[39mif\u001b[39;00m axis \u001b[39mis\u001b[39;00m \u001b[39mnot\u001b[39;00m \u001b[39mNone\u001b[39;00m:\n\u001b[1;32m--> 179\u001b[0m     \u001b[39mraise\u001b[39;00m \u001b[39mNotImplementedError\u001b[39;00m(\u001b[39m'\u001b[39m\u001b[39maxis option is not supported yet.\u001b[39m\u001b[39m'\u001b[39m)\n\u001b[0;32m    181\u001b[0m ar \u001b[39m=\u001b[39m cupy\u001b[39m.\u001b[39masarray(ar)\u001b[39m.\u001b[39mflatten()\n\u001b[0;32m    183\u001b[0m \u001b[39mif\u001b[39;00m return_index \u001b[39mor\u001b[39;00m return_inverse:\n",
      "\u001b[1;31mNotImplementedError\u001b[0m: axis option is not supported yet."
     ]
    }
   ],
   "source": [
    "cp.unique(fsvi_solution.alpha_vector_array, axis=0)"
   ]
  },
  {
   "cell_type": "code",
   "execution_count": 25,
   "metadata": {},
   "outputs": [
    {
     "name": "stdout",
     "output_type": "stream",
     "text": [
      "107 ms ± 2.71 ms per loop (mean ± std. dev. of 7 runs, 10 loops each)\n"
     ]
    }
   ],
   "source": [
    "%timeit t(fsvi_solution.alpha_vector_list[:1350])"
   ]
  },
  {
   "cell_type": "code",
   "execution_count": 23,
   "metadata": {},
   "outputs": [
    {
     "name": "stdout",
     "output_type": "stream",
     "text": [
      "73.6 ms ± 2.1 ms per loop (mean ± std. dev. of 7 runs, 10 loops each)\n"
     ]
    }
   ],
   "source": [
    "%timeit t(fsvi_solution.alpha_vector_list[:900])"
   ]
  },
  {
   "cell_type": "code",
   "execution_count": 24,
   "metadata": {},
   "outputs": [
    {
     "name": "stdout",
     "output_type": "stream",
     "text": [
      "36.2 ms ± 1.13 ms per loop (mean ± std. dev. of 7 runs, 10 loops each)\n"
     ]
    }
   ],
   "source": [
    "%timeit t(fsvi_solution.alpha_vector_list[:450])"
   ]
  },
  {
   "cell_type": "markdown",
   "metadata": {},
   "source": [
    "Back step 3 exploration"
   ]
  },
  {
   "cell_type": "code",
   "execution_count": 57,
   "metadata": {},
   "outputs": [],
   "source": [
    "b = Belief(fsvi_solution.model)\n",
    "b_set = fsvi_solver.MDPExplore(fsvi_solution.model, b, b.random_state(), solution,0,1000)"
   ]
  },
  {
   "cell_type": "code",
   "execution_count": 59,
   "metadata": {},
   "outputs": [
    {
     "data": {
      "text/plain": [
       "103"
      ]
     },
     "execution_count": 59,
     "metadata": {},
     "output_type": "execute_result"
    }
   ],
   "source": [
    "len(b_set)"
   ]
  },
  {
   "cell_type": "code",
   "execution_count": 63,
   "metadata": {},
   "outputs": [],
   "source": [
    "value_function = fsvi_solution\n",
    "belief_set = b_set\n",
    "gamma = 0.99\n",
    "\n",
    "xp = np if not gpu_support else cp.get_array_module(value_function.alpha_vector_array)\n",
    "\n",
    "# Step 1\n",
    "vector_array = value_function.alpha_vector_array\n",
    "vectors_array_reachable_states = vector_array[xp.arange(vector_array.shape[0])[:,None,None,None], model.reachable_states[None,:,:,:]]\n",
    "\n",
    "gamma_a_o_t = gamma * xp.einsum('saor,vsar->aovs', model.reachable_transitional_observation_table, vectors_array_reachable_states)\n",
    "\n",
    "# Step 2\n",
    "belief_array = belief_set.belief_array\n",
    "best_alpha_ind = xp.argmax(xp.tensordot(belief_array, gamma_a_o_t, (1,3)), axis=3) # bao\n",
    "\n",
    "best_alphas_per_o = gamma_a_o_t[model.actions[None,:,None,None], model.observations[None,None,:,None], best_alpha_ind[:,:,:,None], model.states[None,None,None,:]]\n",
    "\n",
    "alpha_a = model.expected_rewards_table.T + xp.sum(best_alphas_per_o, axis=2)\n",
    "\n",
    "# # Step 3 # TODO potential improvement could be done here?\n",
    "# alpha_vectors = xp.zeros(belief_array.shape)\n",
    "# best_actions = []\n",
    "# for i, b in enumerate(belief_array):\n",
    "#     best_ind = int(xp.argmax(xp.dot(alpha_a[i,:,:], b)))\n",
    "#     alpha_vectors[i,:] = alpha_a[i, best_ind,:]\n",
    "#     best_actions.append(best_ind)"
   ]
  },
  {
   "cell_type": "code",
   "execution_count": 87,
   "metadata": {},
   "outputs": [
    {
     "data": {
      "text/plain": [
       "(103, 4, 2)"
      ]
     },
     "execution_count": 87,
     "metadata": {},
     "output_type": "execute_result"
    }
   ],
   "source": [
    "best_alpha_ind.shape"
   ]
  },
  {
   "cell_type": "code",
   "execution_count": 65,
   "metadata": {},
   "outputs": [
    {
     "data": {
      "text/plain": [
       "(103, 4, 5355)"
      ]
     },
     "execution_count": 65,
     "metadata": {},
     "output_type": "execute_result"
    }
   ],
   "source": [
    "alpha_a.shape"
   ]
  },
  {
   "cell_type": "code",
   "execution_count": 66,
   "metadata": {},
   "outputs": [
    {
     "data": {
      "text/plain": [
       "(103, 5355)"
      ]
     },
     "execution_count": 66,
     "metadata": {},
     "output_type": "execute_result"
    }
   ],
   "source": [
    "belief_array.shape"
   ]
  },
  {
   "cell_type": "code",
   "execution_count": 69,
   "metadata": {},
   "outputs": [
    {
     "data": {
      "text/plain": [
       "(103, 4, 103)"
      ]
     },
     "execution_count": 69,
     "metadata": {},
     "output_type": "execute_result"
    }
   ],
   "source": [
    "cp.dot(alpha_a, belief_array.T).shape"
   ]
  },
  {
   "cell_type": "code",
   "execution_count": null,
   "metadata": {},
   "outputs": [],
   "source": []
  },
  {
   "cell_type": "code",
   "execution_count": 102,
   "metadata": {},
   "outputs": [],
   "source": [
    "best_actions = xp.argmax(xp.einsum('bas,bs->ba', alpha_a, belief_array), axis=1)\n",
    "best_alphas = cp.take_along_axis(alpha_a, best_actions[:,None,None],axis=1)[:,0,:]"
   ]
  },
  {
   "cell_type": "code",
   "execution_count": 103,
   "metadata": {},
   "outputs": [],
   "source": [
    "alpha_vectors = xp.zeros(belief_array.shape)\n",
    "best_actions = []\n",
    "for i, b in enumerate(belief_array):\n",
    "    best_ind = int(xp.argmax(xp.dot(alpha_a[i,:,:], b)))\n",
    "    alpha_vectors[i,:] = alpha_a[i, best_ind,:]\n",
    "    best_actions.append(best_ind)"
   ]
  },
  {
   "cell_type": "code",
   "execution_count": 105,
   "metadata": {},
   "outputs": [],
   "source": [
    "def t():\n",
    "    best_actions = xp.argmax(xp.einsum('bas,bs->ba', alpha_a, belief_array), axis=1)\n",
    "    best_alphas = cp.take_along_axis(alpha_a, best_actions[:,None,None],axis=1)[:,0,:]"
   ]
  },
  {
   "cell_type": "code",
   "execution_count": 106,
   "metadata": {},
   "outputs": [
    {
     "name": "stdout",
     "output_type": "stream",
     "text": [
      "709 µs ± 13.8 µs per loop (mean ± std. dev. of 7 runs, 1,000 loops each)\n"
     ]
    }
   ],
   "source": [
    "%timeit t()"
   ]
  },
  {
   "cell_type": "code",
   "execution_count": 107,
   "metadata": {},
   "outputs": [],
   "source": [
    "def t2():\n",
    "    alpha_vectors = xp.zeros(belief_array.shape)\n",
    "    best_actions = []\n",
    "    for i, b in enumerate(belief_array):\n",
    "        best_ind = int(xp.argmax(xp.dot(alpha_a[i,:,:], b)))\n",
    "        alpha_vectors[i,:] = alpha_a[i, best_ind,:]\n",
    "        best_actions.append(best_ind)"
   ]
  },
  {
   "cell_type": "code",
   "execution_count": 108,
   "metadata": {},
   "outputs": [
    {
     "name": "stdout",
     "output_type": "stream",
     "text": [
      "26.2 ms ± 1.88 ms per loop (mean ± std. dev. of 7 runs, 10 loops each)\n"
     ]
    }
   ],
   "source": [
    "%timeit t2()"
   ]
  },
  {
   "cell_type": "code",
   "execution_count": null,
   "metadata": {},
   "outputs": [],
   "source": []
  },
  {
   "cell_type": "code",
   "execution_count": null,
   "metadata": {},
   "outputs": [],
   "source": []
  },
  {
   "cell_type": "code",
   "execution_count": 104,
   "metadata": {},
   "outputs": [
    {
     "data": {
      "text/plain": [
       "array([], shape=(0, 2), dtype=int64)"
      ]
     },
     "execution_count": 104,
     "metadata": {},
     "output_type": "execute_result"
    }
   ],
   "source": [
    "np.argwhere(alpha_vectors != best_alphas)"
   ]
  },
  {
   "cell_type": "code",
   "execution_count": null,
   "metadata": {},
   "outputs": [],
   "source": []
  },
  {
   "cell_type": "markdown",
   "metadata": {},
   "source": [
    "Exploration of Pruning level 2"
   ]
  },
  {
   "cell_type": "code",
   "execution_count": 53,
   "metadata": {},
   "outputs": [
    {
     "data": {
      "text/plain": [
       "False"
      ]
     },
     "execution_count": 53,
     "metadata": {},
     "output_type": "execute_result"
    }
   ],
   "source": [
    "cp.shares_memory(fsvi_solution.alpha_vector_array, fsvi_solution.alpha_vector_array[mask])"
   ]
  },
  {
   "cell_type": "code",
   "execution_count": 55,
   "metadata": {},
   "outputs": [
    {
     "data": {
      "text/plain": [
       "False"
      ]
     },
     "execution_count": 55,
     "metadata": {},
     "output_type": "execute_result"
    }
   ],
   "source": [
    "cp.shares_memory(fsvi_solution._vector_list[0].values, cp.vstack([v.values for v in fsvi_solution._vector_list]))"
   ]
  },
  {
   "cell_type": "code",
   "execution_count": 50,
   "metadata": {},
   "outputs": [],
   "source": [
    "mask = np.zeros(len(fsvi_solution),dtype=bool)\n",
    "mask[10] = True"
   ]
  },
  {
   "cell_type": "code",
   "execution_count": 52,
   "metadata": {},
   "outputs": [
    {
     "data": {
      "text/plain": [
       "True"
      ]
     },
     "execution_count": 52,
     "metadata": {},
     "output_type": "execute_result"
    }
   ],
   "source": [
    "mask[10]"
   ]
  },
  {
   "cell_type": "code",
   "execution_count": 36,
   "metadata": {},
   "outputs": [],
   "source": [
    "vf = hist.value_functions[-1]"
   ]
  },
  {
   "cell_type": "code",
   "execution_count": 38,
   "metadata": {},
   "outputs": [
    {
     "data": {
      "text/plain": [
       "True"
      ]
     },
     "execution_count": 38,
     "metadata": {},
     "output_type": "execute_result"
    }
   ],
   "source": [
    "np.shares_memory(vf.alpha_vector_array,\n",
    "vf.alpha_vector_list[10].values)"
   ]
  },
  {
   "cell_type": "code",
   "execution_count": null,
   "metadata": {},
   "outputs": [],
   "source": []
  },
  {
   "cell_type": "markdown",
   "metadata": {},
   "source": [
    "Back time improvement"
   ]
  },
  {
   "cell_type": "code",
   "execution_count": 21,
   "metadata": {},
   "outputs": [
    {
     "data": {
      "text/plain": [
       "[<matplotlib.lines.Line2D at 0x2add597d210>]"
      ]
     },
     "execution_count": 21,
     "metadata": {},
     "output_type": "execute_result"
    },
    {
     "data": {
      "image/png": "[encoded data removed]",
      "text/plain": [
       "<Figure size 640x480 with 2 Axes>"
      ]
     },
     "metadata": {},
     "output_type": "display_data"
    }
   ],
   "source": [
    "# Backup runtime per alpha vector count\n",
    "x = np.array(hist.alpha_vector_counts[1:-1]) # np.array(hist.beliefs_counts[1:-1])\n",
    "y = np.array(hist.backup_times[1:])\n",
    "\n",
    "cs = np.array(hist.beliefs_counts[1:-1])\n",
    "# cs = cs / np.max(cs)\n",
    "\n",
    "plt.scatter(x, y, c=cs)\n",
    "plt.colorbar()\n",
    "\n",
    "a, b = np.polyfit(x, y, 1)\n",
    "plt.plot(x, a*x+b, c='red')\n",
    "\n",
    "fit = np.poly1d(np.polyfit(x, y, 2))\n",
    "plt.plot(x, fit(x), c='green')"
   ]
  },
  {
   "cell_type": "code",
   "execution_count": 21,
   "metadata": {},
   "outputs": [
    {
     "data": {
      "text/plain": [
       "[<matplotlib.lines.Line2D at 0x2489c3c3c10>]"
      ]
     },
     "execution_count": 21,
     "metadata": {},
     "output_type": "execute_result"
    },
    {
     "data": {
      "image/png": "[encoded data removed]",
      "text/plain": [
       "<Figure size 640x480 with 2 Axes>"
      ]
     },
     "metadata": {},
     "output_type": "display_data"
    }
   ],
   "source": [
    "# With improved 3rd step\n",
    "\n",
    "# Backup runtime per alpha vector count\n",
    "x = np.array(hist.alpha_vector_counts[1:-1]) # np.array(hist.beliefs_counts[1:-1])\n",
    "y = np.array(hist.backup_times[1:])\n",
    "\n",
    "cs = np.array(hist.beliefs_counts[1:-1])\n",
    "# cs = cs / np.max(cs)\n",
    "\n",
    "plt.scatter(x, y, c=cs)\n",
    "plt.colorbar()\n",
    "\n",
    "a, b = np.polyfit(x, y, 1)\n",
    "plt.plot(x, a*x+b, c='red')\n",
    "\n",
    "fit = np.poly1d(np.polyfit(x, y, 2))\n",
    "plt.plot(x, fit(x), c='green')"
   ]
  },
  {
   "cell_type": "code",
   "execution_count": 22,
   "metadata": {},
   "outputs": [
    {
     "data": {
      "text/plain": [
       "0.0033747248701297976"
      ]
     },
     "execution_count": 22,
     "metadata": {},
     "output_type": "execute_result"
    }
   ],
   "source": [
    "b"
   ]
  },
  {
   "cell_type": "code",
   "execution_count": 24,
   "metadata": {},
   "outputs": [
    {
     "data": {
      "text/plain": [
       "2947.8524052577136"
      ]
     },
     "execution_count": 24,
     "metadata": {},
     "output_type": "execute_result"
    }
   ],
   "source": [
    "1/a"
   ]
  },
  {
   "cell_type": "code",
   "execution_count": 34,
   "metadata": {},
   "outputs": [
    {
     "data": {
      "text/plain": [
       "[<matplotlib.lines.Line2D at 0x18d4e7cd090>]"
      ]
     },
     "execution_count": 34,
     "metadata": {},
     "output_type": "execute_result"
    },
    {
     "data": {
      "image/png": "[encoded data removed]",
      "text/plain": [
       "<Figure size 640x480 with 2 Axes>"
      ]
     },
     "metadata": {},
     "output_type": "display_data"
    }
   ],
   "source": [
    "# Backup runtime per alpha vector count\n",
    "x = np.array(hist.alpha_vector_counts[1:-1]) # np.array(hist.beliefs_counts[1:-1])\n",
    "y = np.array(hist.backup_times[1:])\n",
    "\n",
    "cs = np.array(hist.beliefs_counts[1:-1])\n",
    "# cs = cs / np.max(cs)\n",
    "\n",
    "plt.scatter(x, y, c=cs)\n",
    "plt.colorbar()\n",
    "\n",
    "a, b = np.polyfit(x, y, 1, c='red')\n",
    "plt.plot(x, a*x+b)\n",
    "\n",
    "fit = np.poly1d(np.polyfit(x, y, 2))\n",
    "plt.plot(x, fit(x), c='green')"
   ]
  },
  {
   "cell_type": "code",
   "execution_count": 35,
   "metadata": {},
   "outputs": [
    {
     "data": {
      "text/plain": [
       "[<matplotlib.lines.Line2D at 0x18d4e788410>]"
      ]
     },
     "execution_count": 35,
     "metadata": {},
     "output_type": "execute_result"
    },
    {
     "data": {
      "image/png": "[encoded data removed]",
      "text/plain": [
       "<Figure size 640x480 with 2 Axes>"
      ]
     },
     "metadata": {},
     "output_type": "display_data"
    }
   ],
   "source": [
    "# Backup runtime based on belief set size\n",
    "x = np.array(hist.beliefs_counts[1:-1]) # np.array(hist.beliefs_counts[1:-1])\n",
    "y = np.array(hist.backup_times[1:])\n",
    "\n",
    "cs = np.array(hist.alpha_vector_counts[1:-1])\n",
    "# cs = cs / np.max(cs)\n",
    "\n",
    "plt.scatter(x, y, c=cs)\n",
    "plt.colorbar()\n",
    "\n",
    "a, b = np.polyfit(x, y, 1)\n",
    "plt.plot(x, a*x+b)\n",
    "\n",
    "fit = np.poly1d(np.polyfit(x, y, 2)) \n",
    "plt.plot(x, fit(x), c='green')"
   ]
  },
  {
   "cell_type": "code",
   "execution_count": 31,
   "metadata": {},
   "outputs": [
    {
     "data": {
      "text/plain": [
       "164"
      ]
     },
     "execution_count": 31,
     "metadata": {},
     "output_type": "execute_result"
    }
   ],
   "source": [
    "np.max(cs)"
   ]
  },
  {
   "cell_type": "code",
   "execution_count": 19,
   "metadata": {},
   "outputs": [],
   "source": [
    "import cupy as cp"
   ]
  },
  {
   "cell_type": "code",
   "execution_count": 20,
   "metadata": {},
   "outputs": [],
   "source": [
    "vect_array = fsvi_solution.to_cpu().alpha_vector_array"
   ]
  },
  {
   "cell_type": "code",
   "execution_count": 21,
   "metadata": {},
   "outputs": [
    {
     "data": {
      "text/plain": [
       "(1771, 5355)"
      ]
     },
     "execution_count": 21,
     "metadata": {},
     "output_type": "execute_result"
    }
   ],
   "source": [
    "vect_array.shape"
   ]
  },
  {
   "cell_type": "code",
   "execution_count": 23,
   "metadata": {},
   "outputs": [
    {
     "data": {
      "text/plain": [
       "(1, 5355)"
      ]
     },
     "execution_count": 23,
     "metadata": {},
     "output_type": "execute_result"
    }
   ],
   "source": [
    "v = vect_array[0]"
   ]
  },
  {
   "cell_type": "code",
   "execution_count": null,
   "metadata": {},
   "outputs": [],
   "source": [
    "is_dom = np.all(vect_array[:,None,:] <= v[None,:], axis=2)"
   ]
  },
  {
   "cell_type": "code",
   "execution_count": 23,
   "metadata": {},
   "outputs": [],
   "source": [
    "from tqdm.notebook import tqdm"
   ]
  },
  {
   "cell_type": "code",
   "execution_count": 39,
   "metadata": {},
   "outputs": [
    {
     "data": {
      "text/plain": [
       "array([[ True,  True,  True, ...,  True,  True,  True],\n",
       "       [ True,  True,  True, ...,  True,  True,  True],\n",
       "       [ True,  True,  True, ...,  True,  True,  True],\n",
       "       ...,\n",
       "       [False, False, False, ...,  True,  True,  True],\n",
       "       [False, False, False, ...,  True,  True,  True],\n",
       "       [False, False, False, ...,  True,  True,  True]])"
      ]
     },
     "execution_count": 39,
     "metadata": {},
     "output_type": "execute_result"
    }
   ],
   "source": [
    "vect_array <= vect_array[0]"
   ]
  },
  {
   "cell_type": "code",
   "execution_count": 24,
   "metadata": {},
   "outputs": [
    {
     "data": {
      "application/vnd.jupyter.widget-view+json": {
       "model_id": "f2b03ff8f8b543a99cac14aef66d2503",
       "version_major": 2,
       "version_minor": 0
      },
      "text/plain": [
       "0it [00:00, ?it/s]"
      ]
     },
     "metadata": {},
     "output_type": "display_data"
    }
   ],
   "source": [
    "# vect_array = fsvi_solution.to_cpu().alpha_vector_array\n",
    "vect_array = fsvi_solution.alpha_vector_array\n",
    "\n",
    "indices = []\n",
    "\n",
    "for i, v in tqdm(enumerate(vect_array)):\n",
    "    is_dom_by = cp.all(vect_array >= v, axis=1)\n",
    "    if len(cp.where(is_dom_by)[0]) == 1:\n",
    "        indices.append(i)"
   ]
  },
  {
   "cell_type": "code",
   "execution_count": 42,
   "metadata": {},
   "outputs": [
    {
     "data": {
      "application/vnd.jupyter.widget-view+json": {
       "model_id": "aaa9623a51144c4a9205b08665a84ebf",
       "version_major": 2,
       "version_minor": 0
      },
      "text/plain": [
       "0it [00:00, ?it/s]"
      ]
     },
     "metadata": {},
     "output_type": "display_data"
    }
   ],
   "source": [
    "# vect_array = fsvi_solution.to_cpu().alpha_vector_array\n",
    "vect_array = cp.flip(fsvi_solution.alpha_vector_array, axis=0)\n",
    "\n",
    "indices = []\n",
    "\n",
    "for i, v in tqdm(enumerate(vect_array)):\n",
    "    is_dom_by = cp.all(vect_array[(i+1):] >= v, axis=1)\n",
    "    # print(is_dom_by.shape)\n",
    "    # np.where(is_dom_by)\n",
    "    # print(np.where(is_dom_by)[0])\n",
    "    if len(cp.where(is_dom_by)[0]) == 0:\n",
    "        indices.append(i)\n",
    "\n",
    "    # if i > 10:\n",
    "    #     break\n",
    "    # break"
   ]
  },
  {
   "cell_type": "code",
   "execution_count": 43,
   "metadata": {},
   "outputs": [
    {
     "data": {
      "text/plain": [
       "1767"
      ]
     },
     "execution_count": 43,
     "metadata": {},
     "output_type": "execute_result"
    }
   ],
   "source": [
    "len(indices)"
   ]
  },
  {
   "cell_type": "code",
   "execution_count": 44,
   "metadata": {},
   "outputs": [],
   "source": [
    "def dom_ind(vect_array):\n",
    "    indices = []\n",
    "\n",
    "    for i, v in tqdm(enumerate(vect_array)):\n",
    "        is_dom_by = cp.all(vect_array >= v, axis=1)\n",
    "        if len(cp.where(is_dom_by)[0]) == 1:\n",
    "            indices.append(i)\n",
    "\n",
    "    return indices"
   ]
  },
  {
   "cell_type": "code",
   "execution_count": 45,
   "metadata": {},
   "outputs": [
    {
     "data": {
      "application/vnd.jupyter.widget-view+json": {
       "model_id": "b47df07c6d804c2d9e0290a73c41473e",
       "version_major": 2,
       "version_minor": 0
      },
      "text/plain": [
       "0it [00:00, ?it/s]"
      ]
     },
     "metadata": {},
     "output_type": "display_data"
    }
   ],
   "source": [
    "inds = dom_ind(vect_array)"
   ]
  },
  {
   "cell_type": "code",
   "execution_count": 46,
   "metadata": {},
   "outputs": [
    {
     "data": {
      "text/plain": [
       "1122"
      ]
     },
     "execution_count": 46,
     "metadata": {},
     "output_type": "execute_result"
    }
   ],
   "source": [
    "len(inds)"
   ]
  },
  {
   "cell_type": "code",
   "execution_count": 50,
   "metadata": {},
   "outputs": [],
   "source": [
    "from numba import njit"
   ]
  },
  {
   "cell_type": "code",
   "execution_count": 55,
   "metadata": {},
   "outputs": [],
   "source": [
    "\n",
    "def dom_ind(vect_array):\n",
    "    indices = []\n",
    "\n",
    "    for i, v in tqdm(enumerate(vect_array)):\n",
    "        is_dom_by = np.all(vect_array >= v, axis=1)\n",
    "        if len(np.where(is_dom_by)[0]) == 1:\n",
    "            indices.append(i)\n",
    "\n",
    "    return indices"
   ]
  },
  {
   "cell_type": "code",
   "execution_count": 56,
   "metadata": {},
   "outputs": [
    {
     "data": {
      "application/vnd.jupyter.widget-view+json": {
       "model_id": "6fc4c53118fe49dd9ebf68698a2b8a00",
       "version_major": 2,
       "version_minor": 0
      },
      "text/plain": [
       "0it [00:00, ?it/s]"
      ]
     },
     "metadata": {},
     "output_type": "display_data"
    }
   ],
   "source": [
    "inds = dom_ind(fsvi_solution.to_cpu().alpha_vector_array)"
   ]
  },
  {
   "cell_type": "code",
   "execution_count": 59,
   "metadata": {},
   "outputs": [],
   "source": [
    "@njit\n",
    "def dom_ind(vect_array):\n",
    "    indices = []\n",
    "\n",
    "    for i, v in enumerate(vect_array):\n",
    "        is_dom_by = np.all(vect_array >= v, axis=1)\n",
    "        if len(np.where(is_dom_by)[0]) == 1:\n",
    "            indices.append(i)\n",
    "\n",
    "    return indices"
   ]
  },
  {
   "cell_type": "code",
   "execution_count": 61,
   "metadata": {},
   "outputs": [
    {
     "ename": "TypingError",
     "evalue": "Failed in nopython mode pipeline (step: nopython frontend)\n\u001b[1m\u001b[1m\u001b[1mNo implementation of function Function(<function all at 0x000001E8486B7D80>) found for signature:\n \n >>> all(array(bool, 2d, C), axis=Literal[int](1))\n \nThere are 2 candidate implementations:\n\u001b[1m   - Of which 2 did not match due to:\n   Overload in function 'np_all': File: numba\\np\\arraymath.py: Line 801.\n     With argument(s): '(array(bool, 2d, C), axis=int64)':\u001b[0m\n\u001b[1m    Rejected as the implementation raised a specific error:\n      TypingError: \u001b[1mgot an unexpected keyword argument 'axis'\u001b[0m\u001b[0m\n  raised from c:\\Users\\arnau\\AppData\\Local\\Programs\\Python\\Python311\\Lib\\site-packages\\numba\\core\\typing\\templates.py:784\n\u001b[0m\n\u001b[0m\u001b[1mDuring: resolving callee type: Function(<function all at 0x000001E8486B7D80>)\u001b[0m\n\u001b[0m\u001b[1mDuring: typing of call at C:\\Users\\arnau\\AppData\\Local\\Temp\\ipykernel_23460\\3382934699.py (6)\n\u001b[0m\n\u001b[1m\nFile \"C:\\Users\\arnau\\AppData\\Local\\Temp\\ipykernel_23460\\3382934699.py\", line 6:\u001b[0m\n\u001b[1mdef dom_ind(vect_array):\n    <source elided>\n    for i, v in enumerate(vect_array):\n\u001b[1m        is_dom_by = np.all(vect_array >= v, axis=1)\n\u001b[0m        \u001b[1m^\u001b[0m\u001b[0m\n",
     "output_type": "error",
     "traceback": [
      "\u001b[1;31m---------------------------------------------------------------------------\u001b[0m",
      "\u001b[1;31mTypingError\u001b[0m                               Traceback (most recent call last)",
      "\u001b[1;32mg:\\My Drive\\Documents\\Universita di Genova\\Classes\\90537 - Thesis\\POMDP_PBVI_Exploration\\Experiments\\Olfactory Navigation\\Olfactory_Model.ipynb Cell 40\u001b[0m line \u001b[0;36m1\n\u001b[1;32m----> <a href='vscode-notebook-cell:/g%3A/My%20Drive/Documents/Universita%20di%20Genova/Classes/90537%20-%20Thesis/POMDP_PBVI_Exploration/Experiments/Olfactory%20Navigation/Olfactory_Model.ipynb#Y164sZmlsZQ%3D%3D?line=0'>1</a>\u001b[0m inds \u001b[39m=\u001b[39m dom_ind(fsvi_solution\u001b[39m.\u001b[39;49mto_cpu()\u001b[39m.\u001b[39;49malpha_vector_array)\n",
      "File \u001b[1;32mc:\\Users\\arnau\\AppData\\Local\\Programs\\Python\\Python311\\Lib\\site-packages\\numba\\core\\dispatcher.py:468\u001b[0m, in \u001b[0;36m_DispatcherBase._compile_for_args\u001b[1;34m(self, *args, **kws)\u001b[0m\n\u001b[0;32m    464\u001b[0m         msg \u001b[39m=\u001b[39m (\u001b[39mf\u001b[39m\u001b[39m\"\u001b[39m\u001b[39m{\u001b[39;00m\u001b[39mstr\u001b[39m(e)\u001b[39m.\u001b[39mrstrip()\u001b[39m}\u001b[39;00m\u001b[39m \u001b[39m\u001b[39m\\n\u001b[39;00m\u001b[39m\\n\u001b[39;00m\u001b[39mThis error may have been caused \u001b[39m\u001b[39m\"\u001b[39m\n\u001b[0;32m    465\u001b[0m                \u001b[39mf\u001b[39m\u001b[39m\"\u001b[39m\u001b[39mby the following argument(s):\u001b[39m\u001b[39m\\n\u001b[39;00m\u001b[39m{\u001b[39;00margs_str\u001b[39m}\u001b[39;00m\u001b[39m\\n\u001b[39;00m\u001b[39m\"\u001b[39m)\n\u001b[0;32m    466\u001b[0m         e\u001b[39m.\u001b[39mpatch_message(msg)\n\u001b[1;32m--> 468\u001b[0m     error_rewrite(e, \u001b[39m'\u001b[39;49m\u001b[39mtyping\u001b[39;49m\u001b[39m'\u001b[39;49m)\n\u001b[0;32m    469\u001b[0m \u001b[39mexcept\u001b[39;00m errors\u001b[39m.\u001b[39mUnsupportedError \u001b[39mas\u001b[39;00m e:\n\u001b[0;32m    470\u001b[0m     \u001b[39m# Something unsupported is present in the user code, add help info\u001b[39;00m\n\u001b[0;32m    471\u001b[0m     error_rewrite(e, \u001b[39m'\u001b[39m\u001b[39munsupported_error\u001b[39m\u001b[39m'\u001b[39m)\n",
      "File \u001b[1;32mc:\\Users\\arnau\\AppData\\Local\\Programs\\Python\\Python311\\Lib\\site-packages\\numba\\core\\dispatcher.py:409\u001b[0m, in \u001b[0;36m_DispatcherBase._compile_for_args.<locals>.error_rewrite\u001b[1;34m(e, issue_type)\u001b[0m\n\u001b[0;32m    407\u001b[0m     \u001b[39mraise\u001b[39;00m e\n\u001b[0;32m    408\u001b[0m \u001b[39melse\u001b[39;00m:\n\u001b[1;32m--> 409\u001b[0m     \u001b[39mraise\u001b[39;00m e\u001b[39m.\u001b[39mwith_traceback(\u001b[39mNone\u001b[39;00m)\n",
      "\u001b[1;31mTypingError\u001b[0m: Failed in nopython mode pipeline (step: nopython frontend)\n\u001b[1m\u001b[1m\u001b[1mNo implementation of function Function(<function all at 0x000001E8486B7D80>) found for signature:\n \n >>> all(array(bool, 2d, C), axis=Literal[int](1))\n \nThere are 2 candidate implementations:\n\u001b[1m   - Of which 2 did not match due to:\n   Overload in function 'np_all': File: numba\\np\\arraymath.py: Line 801.\n     With argument(s): '(array(bool, 2d, C), axis=int64)':\u001b[0m\n\u001b[1m    Rejected as the implementation raised a specific error:\n      TypingError: \u001b[1mgot an unexpected keyword argument 'axis'\u001b[0m\u001b[0m\n  raised from c:\\Users\\arnau\\AppData\\Local\\Programs\\Python\\Python311\\Lib\\site-packages\\numba\\core\\typing\\templates.py:784\n\u001b[0m\n\u001b[0m\u001b[1mDuring: resolving callee type: Function(<function all at 0x000001E8486B7D80>)\u001b[0m\n\u001b[0m\u001b[1mDuring: typing of call at C:\\Users\\arnau\\AppData\\Local\\Temp\\ipykernel_23460\\3382934699.py (6)\n\u001b[0m\n\u001b[1m\nFile \"C:\\Users\\arnau\\AppData\\Local\\Temp\\ipykernel_23460\\3382934699.py\", line 6:\u001b[0m\n\u001b[1mdef dom_ind(vect_array):\n    <source elided>\n    for i, v in enumerate(vect_array):\n\u001b[1m        is_dom_by = np.all(vect_array >= v, axis=1)\n\u001b[0m        \u001b[1m^\u001b[0m\u001b[0m\n"
     ]
    }
   ],
   "source": [
    "inds = dom_ind(fsvi_solution.to_cpu().alpha_vector_array)"
   ]
  },
  {
   "cell_type": "code",
   "execution_count": null,
   "metadata": {},
   "outputs": [],
   "source": []
  },
  {
   "cell_type": "code",
   "execution_count": 30,
   "metadata": {},
   "outputs": [
    {
     "data": {
      "text/plain": [
       "array([[ 0,  1,  2,  3,  4],\n",
       "       [ 5,  6,  7,  8,  9],\n",
       "       [10, 11, 12, 13, 14],\n",
       "       [15, 16, 17, 18, 19]])"
      ]
     },
     "execution_count": 30,
     "metadata": {},
     "output_type": "execute_result"
    }
   ],
   "source": [
    "t = np.arange(20).reshape((4,5))\n",
    "t"
   ]
  },
  {
   "cell_type": "code",
   "execution_count": 41,
   "metadata": {},
   "outputs": [
    {
     "data": {
      "text/plain": [
       "array([[15, 16, 17, 18, 19],\n",
       "       [10, 11, 12, 13, 14],\n",
       "       [ 5,  6,  7,  8,  9],\n",
       "       [ 0,  1,  2,  3,  4]])"
      ]
     },
     "execution_count": 41,
     "metadata": {},
     "output_type": "execute_result"
    }
   ],
   "source": [
    "np.flip(t, axis=0)"
   ]
  },
  {
   "cell_type": "code",
   "execution_count": 26,
   "metadata": {},
   "outputs": [
    {
     "data": {
      "text/plain": [
       "(1770, 5355)"
      ]
     },
     "execution_count": 26,
     "metadata": {},
     "output_type": "execute_result"
    }
   ],
   "source": [
    "fsvi_solution.alpha_vector_array[:i:].shape"
   ]
  },
  {
   "cell_type": "code",
   "execution_count": 25,
   "metadata": {},
   "outputs": [
    {
     "data": {
      "text/plain": [
       "1122"
      ]
     },
     "execution_count": 25,
     "metadata": {},
     "output_type": "execute_result"
    }
   ],
   "source": [
    "len(indices)"
   ]
  },
  {
   "cell_type": "code",
   "execution_count": null,
   "metadata": {},
   "outputs": [],
   "source": []
  },
  {
   "cell_type": "code",
   "execution_count": 15,
   "metadata": {},
   "outputs": [],
   "source": [
    "from numba import njit"
   ]
  },
  {
   "cell_type": "code",
   "execution_count": null,
   "metadata": {},
   "outputs": [],
   "source": []
  },
  {
   "cell_type": "code",
   "execution_count": null,
   "metadata": {},
   "outputs": [],
   "source": []
  },
  {
   "cell_type": "code",
   "execution_count": 59,
   "metadata": {},
   "outputs": [
    {
     "ename": "KeyboardInterrupt",
     "evalue": "",
     "output_type": "error",
     "traceback": [
      "\u001b[1;31m---------------------------------------------------------------------------\u001b[0m",
      "\u001b[1;31mKeyboardInterrupt\u001b[0m                         Traceback (most recent call last)",
      "\u001b[1;32mg:\\My Drive\\Documents\\Universita di Genova\\Classes\\90537 - Thesis\\POMDP_PBVI_Exploration\\Experiments\\Olfactory Navigation\\Olfactory_Model.ipynb Cell 41\u001b[0m line \u001b[0;36m1\n\u001b[1;32m----> <a href='vscode-notebook-cell:/g%3A/My%20Drive/Documents/Universita%20di%20Genova/Classes/90537%20-%20Thesis/POMDP_PBVI_Exploration/Experiments/Olfactory%20Navigation/Olfactory_Model.ipynb#Y111sZmlsZQ%3D%3D?line=0'>1</a>\u001b[0m is_dominated \u001b[39m=\u001b[39m np\u001b[39m.\u001b[39;49mall(vect_array[:,\u001b[39mNone\u001b[39;49;00m,:] \u001b[39m<\u001b[39;49m\u001b[39m=\u001b[39;49m vect_array, axis\u001b[39m=\u001b[39;49m\u001b[39m2\u001b[39;49m)\n",
      "File \u001b[1;32mc:\\Users\\arnau\\AppData\\Local\\Programs\\Python\\Python311\\Lib\\site-packages\\numpy\\core\\fromnumeric.py:2504\u001b[0m, in \u001b[0;36mall\u001b[1;34m(a, axis, out, keepdims, where)\u001b[0m\n\u001b[0;32m   2421\u001b[0m \u001b[39m@array_function_dispatch\u001b[39m(_all_dispatcher)\n\u001b[0;32m   2422\u001b[0m \u001b[39mdef\u001b[39;00m \u001b[39mall\u001b[39m(a, axis\u001b[39m=\u001b[39m\u001b[39mNone\u001b[39;00m, out\u001b[39m=\u001b[39m\u001b[39mNone\u001b[39;00m, keepdims\u001b[39m=\u001b[39mnp\u001b[39m.\u001b[39m_NoValue, \u001b[39m*\u001b[39m, where\u001b[39m=\u001b[39mnp\u001b[39m.\u001b[39m_NoValue):\n\u001b[0;32m   2423\u001b[0m \u001b[39m    \u001b[39m\u001b[39m\"\"\"\u001b[39;00m\n\u001b[0;32m   2424\u001b[0m \u001b[39m    Test whether all array elements along a given axis evaluate to True.\u001b[39;00m\n\u001b[0;32m   2425\u001b[0m \n\u001b[1;32m   (...)\u001b[0m\n\u001b[0;32m   2502\u001b[0m \n\u001b[0;32m   2503\u001b[0m \u001b[39m    \"\"\"\u001b[39;00m\n\u001b[1;32m-> 2504\u001b[0m     \u001b[39mreturn\u001b[39;00m _wrapreduction(a, np\u001b[39m.\u001b[39;49mlogical_and, \u001b[39m'\u001b[39;49m\u001b[39mall\u001b[39;49m\u001b[39m'\u001b[39;49m, axis, \u001b[39mNone\u001b[39;49;00m, out,\n\u001b[0;32m   2505\u001b[0m                           keepdims\u001b[39m=\u001b[39;49mkeepdims, where\u001b[39m=\u001b[39;49mwhere)\n",
      "File \u001b[1;32mc:\\Users\\arnau\\AppData\\Local\\Programs\\Python\\Python311\\Lib\\site-packages\\numpy\\core\\fromnumeric.py:88\u001b[0m, in \u001b[0;36m_wrapreduction\u001b[1;34m(obj, ufunc, method, axis, dtype, out, **kwargs)\u001b[0m\n\u001b[0;32m     85\u001b[0m         \u001b[39melse\u001b[39;00m:\n\u001b[0;32m     86\u001b[0m             \u001b[39mreturn\u001b[39;00m reduction(axis\u001b[39m=\u001b[39maxis, out\u001b[39m=\u001b[39mout, \u001b[39m*\u001b[39m\u001b[39m*\u001b[39mpasskwargs)\n\u001b[1;32m---> 88\u001b[0m \u001b[39mreturn\u001b[39;00m ufunc\u001b[39m.\u001b[39;49mreduce(obj, axis, dtype, out, \u001b[39m*\u001b[39;49m\u001b[39m*\u001b[39;49mpasskwargs)\n",
      "\u001b[1;31mKeyboardInterrupt\u001b[0m: "
     ]
    }
   ],
   "source": [
    "is_dominated = np.all(vect_array[:,None,:] <= vect_array, axis=2)"
   ]
  },
  {
   "cell_type": "code",
   "execution_count": 38,
   "metadata": {},
   "outputs": [
    {
     "data": {
      "text/plain": [
       "(array([], dtype=int64),)"
      ]
     },
     "execution_count": 38,
     "metadata": {},
     "output_type": "execute_result"
    }
   ],
   "source": [
    "np.where(~np.any(is_dominated, axis=1))"
   ]
  },
  {
   "cell_type": "code",
   "execution_count": 42,
   "metadata": {},
   "outputs": [],
   "source": [
    "p_baseline = fsvi_solution.prune(level=2)"
   ]
  },
  {
   "cell_type": "code",
   "execution_count": 43,
   "metadata": {},
   "outputs": [
    {
     "data": {
      "text/plain": [
       "(1178, 5355)"
      ]
     },
     "execution_count": 43,
     "metadata": {},
     "output_type": "execute_result"
    }
   ],
   "source": [
    "p_baseline.alpha_vector_array.shape"
   ]
  },
  {
   "cell_type": "code",
   "execution_count": 56,
   "metadata": {},
   "outputs": [
    {
     "data": {
      "text/plain": [
       "(1761, 5355)"
      ]
     },
     "execution_count": 56,
     "metadata": {},
     "output_type": "execute_result"
    }
   ],
   "source": [
    "combined_matrix.shape"
   ]
  },
  {
   "cell_type": "code",
   "execution_count": 55,
   "metadata": {},
   "outputs": [
    {
     "ename": "MemoryError",
     "evalue": "Unable to allocate 124. GiB for an array with shape (1761, 1761, 5355) and data type float64",
     "output_type": "error",
     "traceback": [
      "\u001b[1;31m---------------------------------------------------------------------------\u001b[0m",
      "\u001b[1;31mMemoryError\u001b[0m                               Traceback (most recent call last)",
      "\u001b[1;32mg:\\My Drive\\Documents\\Universita di Genova\\Classes\\90537 - Thesis\\POMDP_PBVI_Exploration\\Experiments\\Olfactory Navigation\\Olfactory_Model.ipynb Cell 42\u001b[0m line \u001b[0;36m1\n\u001b[1;32m----> <a href='vscode-notebook-cell:/g%3A/My%20Drive/Documents/Universita%20di%20Genova/Classes/90537%20-%20Thesis/POMDP_PBVI_Exploration/Experiments/Olfactory%20Navigation/Olfactory_Model.ipynb#Y132sZmlsZQ%3D%3D?line=0'>1</a>\u001b[0m differences \u001b[39m=\u001b[39m combined_matrix[:, np\u001b[39m.\u001b[39;49mnewaxis, :] \u001b[39m-\u001b[39;49m combined_matrix\n\u001b[0;32m      <a href='vscode-notebook-cell:/g%3A/My%20Drive/Documents/Universita%20di%20Genova/Classes/90537%20-%20Thesis/POMDP_PBVI_Exploration/Experiments/Olfactory%20Navigation/Olfactory_Model.ipynb#Y132sZmlsZQ%3D%3D?line=1'>2</a>\u001b[0m differences \u001b[39m=\u001b[39m differences\u001b[39m.\u001b[39mreshape(\u001b[39m-\u001b[39m\u001b[39m1\u001b[39m, combined_matrix\u001b[39m.\u001b[39mshape[\u001b[39m1\u001b[39m])\n\u001b[0;32m      <a href='vscode-notebook-cell:/g%3A/My%20Drive/Documents/Universita%20di%20Genova/Classes/90537%20-%20Thesis/POMDP_PBVI_Exploration/Experiments/Olfactory%20Navigation/Olfactory_Model.ipynb#Y132sZmlsZQ%3D%3D?line=3'>4</a>\u001b[0m \u001b[39m# Calculate the maximum differences along rows\u001b[39;00m\n",
      "\u001b[1;31mMemoryError\u001b[0m: Unable to allocate 124. GiB for an array with shape (1761, 1761, 5355) and data type float64"
     ]
    }
   ],
   "source": [
    "differences = combined_matrix[:, np.newaxis, :] - combined_matrix\n",
    "differences = differences.reshape(-1, combined_matrix.shape[1])\n",
    "\n",
    "# Calculate the maximum differences along rows\n",
    "max_differences = np.max(differences, axis=1).reshape(-1, combined_matrix.shape[0])\n",
    "\n",
    "# Create a mask for non-dominated rows\n",
    "is_dominated = max_differences > 0\n",
    "\n",
    "# Extract the non-dominated rows\n",
    "non_dominated_rows = combined_matrix[~np.any(is_dominated, axis=1)]\n",
    "\n"
   ]
  },
  {
   "cell_type": "code",
   "execution_count": null,
   "metadata": {},
   "outputs": [],
   "source": []
  },
  {
   "cell_type": "code",
   "execution_count": null,
   "metadata": {},
   "outputs": [],
   "source": []
  },
  {
   "cell_type": "code",
   "execution_count": 44,
   "metadata": {},
   "outputs": [],
   "source": [
    "from deap import base, tools"
   ]
  },
  {
   "cell_type": "code",
   "execution_count": 50,
   "metadata": {},
   "outputs": [],
   "source": [
    "from deap import creator"
   ]
  },
  {
   "cell_type": "code",
   "execution_count": 47,
   "metadata": {},
   "outputs": [],
   "source": [
    "combined_matrix = vect_array"
   ]
  },
  {
   "cell_type": "code",
   "execution_count": null,
   "metadata": {},
   "outputs": [],
   "source": [
    "base.Toolbox()"
   ]
  },
  {
   "cell_type": "code",
   "execution_count": 54,
   "metadata": {},
   "outputs": [
    {
     "data": {
      "text/plain": [
       "<deap.base.Toolbox at 0x262953481d0>"
      ]
     },
     "execution_count": 54,
     "metadata": {},
     "output_type": "execute_result"
    }
   ],
   "source": [
    "toolbox"
   ]
  },
  {
   "cell_type": "code",
   "execution_count": 53,
   "metadata": {},
   "outputs": [
    {
     "ename": "TypeError",
     "evalue": "'numpy.ndarray' object is not callable",
     "output_type": "error",
     "traceback": [
      "\u001b[1;31m---------------------------------------------------------------------------\u001b[0m",
      "\u001b[1;31mTypeError\u001b[0m                                 Traceback (most recent call last)",
      "\u001b[1;32mg:\\My Drive\\Documents\\Universita di Genova\\Classes\\90537 - Thesis\\POMDP_PBVI_Exploration\\Experiments\\Olfactory Navigation\\Olfactory_Model.ipynb Cell 45\u001b[0m line \u001b[0;36m9\n\u001b[0;32m      <a href='vscode-notebook-cell:/g%3A/My%20Drive/Documents/Universita%20di%20Genova/Classes/90537%20-%20Thesis/POMDP_PBVI_Exploration/Experiments/Olfactory%20Navigation/Olfactory_Model.ipynb#Y122sZmlsZQ%3D%3D?line=5'>6</a>\u001b[0m toolbox\u001b[39m.\u001b[39mregister(\u001b[39m\"\u001b[39m\u001b[39mpopulation\u001b[39m\u001b[39m\"\u001b[39m, tools\u001b[39m.\u001b[39minitRepeat, \u001b[39mlist\u001b[39m, toolbox\u001b[39m.\u001b[39mindividual)\n\u001b[0;32m      <a href='vscode-notebook-cell:/g%3A/My%20Drive/Documents/Universita%20di%20Genova/Classes/90537%20-%20Thesis/POMDP_PBVI_Exploration/Experiments/Olfactory%20Navigation/Olfactory_Model.ipynb#Y122sZmlsZQ%3D%3D?line=7'>8</a>\u001b[0m \u001b[39m# Perform non-dominated sorting\u001b[39;00m\n\u001b[1;32m----> <a href='vscode-notebook-cell:/g%3A/My%20Drive/Documents/Universita%20di%20Genova/Classes/90537%20-%20Thesis/POMDP_PBVI_Exploration/Experiments/Olfactory%20Navigation/Olfactory_Model.ipynb#Y122sZmlsZQ%3D%3D?line=8'>9</a>\u001b[0m pop \u001b[39m=\u001b[39m toolbox\u001b[39m.\u001b[39;49mpopulation(n\u001b[39m=\u001b[39;49m\u001b[39m1761\u001b[39;49m)\n\u001b[0;32m     <a href='vscode-notebook-cell:/g%3A/My%20Drive/Documents/Universita%20di%20Genova/Classes/90537%20-%20Thesis/POMDP_PBVI_Exploration/Experiments/Olfactory%20Navigation/Olfactory_Model.ipynb#Y122sZmlsZQ%3D%3D?line=9'>10</a>\u001b[0m nondominated_fronts \u001b[39m=\u001b[39m tools\u001b[39m.\u001b[39msortNondominated(pop, \u001b[39mlen\u001b[39m(pop), first_front_only\u001b[39m=\u001b[39m\u001b[39mTrue\u001b[39;00m)[\u001b[39m0\u001b[39m]\n\u001b[0;32m     <a href='vscode-notebook-cell:/g%3A/My%20Drive/Documents/Universita%20di%20Genova/Classes/90537%20-%20Thesis/POMDP_PBVI_Exploration/Experiments/Olfactory%20Navigation/Olfactory_Model.ipynb#Y122sZmlsZQ%3D%3D?line=11'>12</a>\u001b[0m \u001b[39m# Extract the non-dominated rows\u001b[39;00m\n",
      "File \u001b[1;32mc:\\Users\\arnau\\AppData\\Local\\Programs\\Python\\Python311\\Lib\\site-packages\\deap\\tools\\init.py:23\u001b[0m, in \u001b[0;36minitRepeat\u001b[1;34m(container, func, n)\u001b[0m\n\u001b[0;32m      1\u001b[0m \u001b[39mdef\u001b[39;00m \u001b[39minitRepeat\u001b[39m(container, func, n):\n\u001b[0;32m      2\u001b[0m \u001b[39m    \u001b[39m\u001b[39m\"\"\"Call the function *func* *n* times and return the results in a\u001b[39;00m\n\u001b[0;32m      3\u001b[0m \u001b[39m    container type `container`\u001b[39;00m\n\u001b[0;32m      4\u001b[0m \n\u001b[1;32m   (...)\u001b[0m\n\u001b[0;32m     21\u001b[0m \u001b[39m    See the :ref:`list-of-floats` and :ref:`population` tutorials for more examples.\u001b[39;00m\n\u001b[0;32m     22\u001b[0m \u001b[39m    \"\"\"\u001b[39;00m\n\u001b[1;32m---> 23\u001b[0m     \u001b[39mreturn\u001b[39;00m container(func() \u001b[39mfor\u001b[39;49;00m _ \u001b[39min\u001b[39;49;00m \u001b[39mrange\u001b[39;49m(n))\n",
      "File \u001b[1;32mc:\\Users\\arnau\\AppData\\Local\\Programs\\Python\\Python311\\Lib\\site-packages\\deap\\tools\\init.py:23\u001b[0m, in \u001b[0;36m<genexpr>\u001b[1;34m(.0)\u001b[0m\n\u001b[0;32m      1\u001b[0m \u001b[39mdef\u001b[39;00m \u001b[39minitRepeat\u001b[39m(container, func, n):\n\u001b[0;32m      2\u001b[0m \u001b[39m    \u001b[39m\u001b[39m\"\"\"Call the function *func* *n* times and return the results in a\u001b[39;00m\n\u001b[0;32m      3\u001b[0m \u001b[39m    container type `container`\u001b[39;00m\n\u001b[0;32m      4\u001b[0m \n\u001b[1;32m   (...)\u001b[0m\n\u001b[0;32m     21\u001b[0m \u001b[39m    See the :ref:`list-of-floats` and :ref:`population` tutorials for more examples.\u001b[39;00m\n\u001b[0;32m     22\u001b[0m \u001b[39m    \"\"\"\u001b[39;00m\n\u001b[1;32m---> 23\u001b[0m     \u001b[39mreturn\u001b[39;00m container(func() \u001b[39mfor\u001b[39;00m _ \u001b[39min\u001b[39;00m \u001b[39mrange\u001b[39m(n))\n",
      "File \u001b[1;32mc:\\Users\\arnau\\AppData\\Local\\Programs\\Python\\Python311\\Lib\\site-packages\\deap\\tools\\init.py:51\u001b[0m, in \u001b[0;36minitIterate\u001b[1;34m(container, generator)\u001b[0m\n\u001b[0;32m     26\u001b[0m \u001b[39mdef\u001b[39;00m \u001b[39minitIterate\u001b[39m(container, generator):\n\u001b[0;32m     27\u001b[0m \u001b[39m    \u001b[39m\u001b[39m\"\"\"Call the function *container* with an iterable as\u001b[39;00m\n\u001b[0;32m     28\u001b[0m \u001b[39m    its only argument. The iterable must be returned by\u001b[39;00m\n\u001b[0;32m     29\u001b[0m \u001b[39m    the method or the object *generator*.\u001b[39;00m\n\u001b[1;32m   (...)\u001b[0m\n\u001b[0;32m     49\u001b[0m \u001b[39m    more examples.\u001b[39;00m\n\u001b[0;32m     50\u001b[0m \u001b[39m    \"\"\"\u001b[39;00m\n\u001b[1;32m---> 51\u001b[0m     \u001b[39mreturn\u001b[39;00m container(generator())\n",
      "\u001b[1;31mTypeError\u001b[0m: 'numpy.ndarray' object is not callable"
     ]
    }
   ],
   "source": [
    "# Initialize DEAP tools\n",
    "# creator.create(\"FitnessMulti\", base.Fitness, weights=(1.0,) * combined_matrix.shape[0])\n",
    "# creator.create(\"Individual\", list, fitness=creator.FitnessMulti)\n",
    "toolbox = base.Toolbox()\n",
    "toolbox.register(\"individual\", tools.initIterate, creator.Individual, combined_matrix)\n",
    "toolbox.register(\"population\", tools.initRepeat, list, toolbox.individual)\n",
    "\n",
    "# Perform non-dominated sorting\n",
    "pop = toolbox.population(n=1761)\n",
    "nondominated_fronts = tools.sortNondominated(pop, len(pop), first_front_only=True)[0]\n",
    "\n",
    "# Extract the non-dominated rows\n",
    "non_dominated_rows = [combined_matrix[i] for i in nondominated_fronts]\n"
   ]
  },
  {
   "cell_type": "code",
   "execution_count": null,
   "metadata": {},
   "outputs": [],
   "source": []
  },
  {
   "cell_type": "code",
   "execution_count": null,
   "metadata": {},
   "outputs": [],
   "source": []
  },
  {
   "cell_type": "code",
   "execution_count": null,
   "metadata": {},
   "outputs": [],
   "source": []
  },
  {
   "cell_type": "code",
   "execution_count": null,
   "metadata": {},
   "outputs": [],
   "source": []
  },
  {
   "cell_type": "code",
   "execution_count": 30,
   "metadata": {},
   "outputs": [
    {
     "data": {
      "text/plain": [
       "array([[0.        , 0.        , 0.        , ..., 0.        , 0.        ,\n",
       "        0.        ],\n",
       "       [0.        , 0.        , 0.        , ..., 0.        , 0.        ,\n",
       "        0.        ],\n",
       "       [0.        , 0.        , 0.        , ..., 0.        , 0.        ,\n",
       "        0.        ],\n",
       "       ...,\n",
       "       [5.52430851, 5.52430851, 5.52430851, ..., 0.        , 0.        ,\n",
       "        0.        ],\n",
       "       [5.52430851, 5.52430851, 5.52430851, ..., 0.        , 0.        ,\n",
       "        0.        ],\n",
       "       [5.52430851, 5.52430851, 5.52430851, ..., 0.        , 0.        ,\n",
       "        0.        ]])"
      ]
     },
     "execution_count": 30,
     "metadata": {},
     "output_type": "execute_result"
    }
   ],
   "source": [
    "(vect_array)"
   ]
  },
  {
   "cell_type": "code",
   "execution_count": null,
   "metadata": {},
   "outputs": [],
   "source": []
  },
  {
   "cell_type": "code",
   "execution_count": 20,
   "metadata": {},
   "outputs": [
    {
     "name": "stdout",
     "output_type": "stream",
     "text": [
      "Summary of Value Iteration run\n",
      "  - Model: 5355 state, 4 action, 2 observations\n",
      "  - Converged or stopped after 100 expansion steps and 100 backup steps.\n",
      "  - Converged in 97.6274s\n",
      "\n",
      "  - Expand function took on average 0.5387s and yielded on average 80.39 beliefs per iteration.\n",
      "  - Backup function took on average 0.4375s and yielded on average value functions of size 964.96 per iteration.\n"
     ]
    }
   ],
   "source": [
    "print(hist.summary)"
   ]
  },
  {
   "cell_type": "code",
   "execution_count": 21,
   "metadata": {},
   "outputs": [
    {
     "data": {
      "text/plain": [
       "<matplotlib.collections.PathCollection at 0x1c61130f790>"
      ]
     },
     "execution_count": 21,
     "metadata": {},
     "output_type": "execute_result"
    },
    {
     "data": {
      "image/png": "[encoded data removed]",
      "text/plain": [
       "<Figure size 640x480 with 1 Axes>"
      ]
     },
     "metadata": {},
     "output_type": "display_data"
    }
   ],
   "source": [
    "plt.scatter(hist.beliefs_counts[1:], hist.backup_times)"
   ]
  },
  {
   "cell_type": "code",
   "execution_count": 26,
   "metadata": {},
   "outputs": [
    {
     "data": {
      "text/plain": [
       "<matplotlib.collections.PathCollection at 0x1df7d4e7750>"
      ]
     },
     "execution_count": 26,
     "metadata": {},
     "output_type": "execute_result"
    },
    {
     "data": {
      "image/png": "[encoded data removed]",
      "text/plain": [
       "<Figure size 640x480 with 1 Axes>"
      ]
     },
     "metadata": {},
     "output_type": "display_data"
    }
   ],
   "source": [
    "plt.scatter(np.arange(len(hist.backup_times[1:])), hist.backup_times[1:])"
   ]
  },
  {
   "cell_type": "code",
   "execution_count": 25,
   "metadata": {},
   "outputs": [
    {
     "data": {
      "text/plain": [
       "<matplotlib.collections.PathCollection at 0x1b36c0aa690>"
      ]
     },
     "execution_count": 25,
     "metadata": {},
     "output_type": "execute_result"
    },
    {
     "data": {
      "image/png": "[encoded data removed]",
      "text/plain": [
       "<Figure size 640x480 with 1 Axes>"
      ]
     },
     "metadata": {},
     "output_type": "display_data"
    }
   ],
   "source": [
    "plt.scatter(np.arange(len(hist.beliefs_counts)), hist.beliefs_counts, )"
   ]
  },
  {
   "cell_type": "code",
   "execution_count": 28,
   "metadata": {},
   "outputs": [
    {
     "data": {
      "text/plain": [
       "[<matplotlib.lines.Line2D at 0x1df7d2e7790>]"
      ]
     },
     "execution_count": 28,
     "metadata": {},
     "output_type": "execute_result"
    },
    {
     "data": {
      "image/png": "[encoded data removed]",
      "text/plain": [
       "<Figure size 640x480 with 1 Axes>"
      ]
     },
     "metadata": {},
     "output_type": "display_data"
    }
   ],
   "source": [
    "plt.plot(np.arange(len(hist.value_function_changes)), hist.value_function_changes)"
   ]
  },
  {
   "cell_type": "markdown",
   "metadata": {},
   "source": [
    "## FSVI with mdp solution as initial value function"
   ]
  },
  {
   "cell_type": "code",
   "execution_count": 17,
   "metadata": {},
   "outputs": [],
   "source": [
    "fsvi_solver = FSVI_Solver(0.99, eps=1e-6)"
   ]
  },
  {
   "cell_type": "code",
   "execution_count": 18,
   "metadata": {},
   "outputs": [
    {
     "data": {
      "application/vnd.jupyter.widget-view+json": {
       "model_id": "f64d1648ab6444c6be055a1dfb437ed2",
       "version_major": 2,
       "version_minor": 0
      },
      "text/plain": [
       "Expansions:   0%|          | 0/100 [00:00<?, ?it/s]"
      ]
     },
     "metadata": {},
     "output_type": "display_data"
    },
    {
     "name": "stdout",
     "output_type": "stream",
     "text": [
      "Converged early...\n"
     ]
    }
   ],
   "source": [
    "fsvi_solution, hist = fsvi_solver.solve(model, 100, 300, mdp_policy=solution, initial_value_function=solution, use_gpu=True)"
   ]
  },
  {
   "cell_type": "markdown",
   "metadata": {},
   "source": [
    "## Simulation"
   ]
  },
  {
   "cell_type": "code",
   "execution_count": 31,
   "metadata": {},
   "outputs": [
    {
     "name": "stdout",
     "output_type": "stream",
     "text": [
      "[Warning] Value function on GPU, converting to numpy before plotting...\n",
      "[Warning] 'as_grid' parameter set to False but state count is >3 so it will be plotted as a grid\n"
     ]
    },
    {
     "data": {
      "image/png": "[encoded data removed]",
      "text/plain": [
       "<Figure size 1000x500 with 3 Axes>"
      ]
     },
     "metadata": {},
     "output_type": "display_data"
    }
   ],
   "source": [
    "fsvi_solution.plot()"
   ]
  },
  {
   "cell_type": "code",
   "execution_count": 19,
   "metadata": {},
   "outputs": [],
   "source": [
    "a = Agent(model)\n",
    "a.value_function = fsvi_solution.to_cpu()"
   ]
  },
  {
   "cell_type": "code",
   "execution_count": 20,
   "metadata": {},
   "outputs": [
    {
     "data": {
      "application/vnd.jupyter.widget-view+json": {
       "model_id": "d68ee249716346708986a8fbede5c280",
       "version_major": 2,
       "version_minor": 0
      },
      "text/plain": [
       "  0%|          | 0/1000 [00:00<?, ?it/s]"
      ]
     },
     "metadata": {},
     "output_type": "display_data"
    },
    {
     "name": "stdout",
     "output_type": "stream",
     "text": [
      "Simulation done:\n",
      "\t- Runtime (s): 1.729039\n",
      "\t- Steps: 176\n",
      "\t- Total rewards: 1.0\n",
      "\t- End state: s_17_0\n"
     ]
    }
   ],
   "source": [
    "sim_hist = a.simulate(start_state=(153*13)-1)"
   ]
  },
  {
   "cell_type": "code",
   "execution_count": 33,
   "metadata": {},
   "outputs": [
    {
     "data": {
      "text/plain": [
       "3"
      ]
     },
     "execution_count": 33,
     "metadata": {},
     "output_type": "execute_result"
    }
   ],
   "source": [
    "sim_hist.actions[19]"
   ]
  },
  {
   "cell_type": "code",
   "execution_count": 32,
   "metadata": {},
   "outputs": [
    {
     "data": {
      "text/plain": [
       "1"
      ]
     },
     "execution_count": 32,
     "metadata": {},
     "output_type": "execute_result"
    }
   ],
   "source": [
    "sim_hist.observations[19]"
   ]
  },
  {
   "cell_type": "code",
   "execution_count": 31,
   "metadata": {},
   "outputs": [
    {
     "data": {
      "image/png": "[encoded data removed]",
      "text/plain": [
       "<Figure size 1200x1000 with 2 Axes>"
      ]
     },
     "metadata": {},
     "output_type": "display_data"
    }
   ],
   "source": [
    "sim_hist.beliefs[19].plot(size=10)"
   ]
  },
  {
   "cell_type": "code",
   "execution_count": 30,
   "metadata": {},
   "outputs": [
    {
     "data": {
      "image/png": "[encoded data removed]",
      "text/plain": [
       "<Figure size 1200x1000 with 2 Axes>"
      ]
     },
     "metadata": {},
     "output_type": "display_data"
    }
   ],
   "source": [
    "sim_hist.beliefs[20].plot(size=10)"
   ]
  },
  {
   "cell_type": "code",
   "execution_count": 21,
   "metadata": {},
   "outputs": [
    {
     "name": "stdout",
     "output_type": "stream",
     "text": [
      "Video saved at 'Sim Videos/s5355-a4-20231009_014051.mp4'...\n"
     ]
    }
   ],
   "source": [
    "sim_hist.save_simulation_video(fps=10)"
   ]
  },
  {
   "cell_type": "code",
   "execution_count": null,
   "metadata": {},
   "outputs": [],
   "source": []
  }
 ],
 "metadata": {
  "kernelspec": {
   "display_name": "Python 3",
   "language": "python",
   "name": "python3"
  },
  "language_info": {
   "codemirror_mode": {
    "name": "ipython",
    "version": 3
   },
   "file_extension": ".py",
   "mimetype": "text/x-python",
   "name": "python",
   "nbconvert_exporter": "python",
   "pygments_lexer": "ipython3",
   "version": "3.11.4"
  },
  "orig_nbformat": 4
 },
 "nbformat": 4,
 "nbformat_minor": 2
}
