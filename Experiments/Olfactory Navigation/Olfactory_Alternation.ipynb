{
 "cells": [
  {
   "cell_type": "code",
   "execution_count": 1,
   "metadata": {},
   "outputs": [],
   "source": [
    "import sys\n",
    "sys.path.append('../..')\n",
    "from src.pomdp import *\n",
    "\n",
    "import pandas as pd\n",
    "import numpy as np\n",
    "import cupy as cp"
   ]
  },
  {
   "cell_type": "code",
   "execution_count": 2,
   "metadata": {},
   "outputs": [],
   "source": [
    "# For my computer: so it doesn't use shared GPU memory which is slower\n",
    "mempool = cp.get_default_memory_pool()\n",
    "mempool.set_limit(size=3.7*1024**3) # Allowing cupy 3.8 GB of GPU memory"
   ]
  },
  {
   "cell_type": "markdown",
   "metadata": {},
   "source": [
    "## Model definition"
   ]
  },
  {
   "cell_type": "code",
   "execution_count": 3,
   "metadata": {},
   "outputs": [
    {
     "ename": "",
     "evalue": "",
     "output_type": "error",
     "traceback": [
      "\u001b[1;31mThe Kernel crashed while executing code in the the current cell or a previous cell. Please review the code in the cell(s) to identify a possible cause of the failure. Click <a href='https://aka.ms/vscodeJupyterKernelCrash'>here</a> for more info. View Jupyter <a href='command:jupyter.viewOutput'>log</a> for further details."
     ]
    }
   ],
   "source": [
    "olfactory_data = pd.read_csv('./Data/statistics_nose_3e6_35_153.dat', sep=',', header=None).values\n",
    "olfactory_data = np.array(olfactory_data)"
   ]
  },
  {
   "cell_type": "code",
   "execution_count": null,
   "metadata": {},
   "outputs": [],
   "source": [
    "# Model size\n",
    "env_shape = olfactory_data.shape\n",
    "state_count = env_shape[0] * env_shape[1]\n",
    "\n",
    "print(f'Environment shape: {env_shape}')\n",
    "print(f'State count: {state_count}')"
   ]
  },
  {
   "cell_type": "code",
   "execution_count": null,
   "metadata": {},
   "outputs": [],
   "source": [
    "# goal state\n",
    "olfactory_data[17,0]"
   ]
  },
  {
   "cell_type": "code",
   "execution_count": null,
   "metadata": {},
   "outputs": [],
   "source": [
    "def id_from_pos(x,y):\n",
    "    return (x * env_shape[1]) + y"
   ]
  },
  {
   "cell_type": "code",
   "execution_count": null,
   "metadata": {},
   "outputs": [],
   "source": [
    "# states\n",
    "state_grid = []\n",
    "\n",
    "# observation matrix\n",
    "flattened_olfactory_data = olfactory_data.flatten()\n",
    "\n",
    "observations = np.zeros((state_count, 4, 2))\n",
    "observations[:,:,0] = flattened_olfactory_data.reshape((flattened_olfactory_data.shape[0],1)).repeat(4, axis=1)\n",
    "observations[:,:,1] = (1 - observations[:,:,0])\n",
    "\n",
    "# State labels\n",
    "for i in range(env_shape[0]):\n",
    "    i_states = []\n",
    "    for j in range(env_shape[1]):\n",
    "        i_states.append(f's_{i}_{j}')\n",
    "\n",
    "    state_grid.append(i_states)"
   ]
  }
 ],
 "metadata": {
  "kernelspec": {
   "display_name": "Python 3",
   "language": "python",
   "name": "python3"
  },
  "language_info": {
   "codemirror_mode": {
    "name": "ipython",
    "version": 3
   },
   "file_extension": ".py",
   "mimetype": "text/x-python",
   "name": "python",
   "nbconvert_exporter": "python",
   "pygments_lexer": "ipython3",
   "version": "3.11.4"
  }
 },
 "nbformat": 4,
 "nbformat_minor": 2
}
